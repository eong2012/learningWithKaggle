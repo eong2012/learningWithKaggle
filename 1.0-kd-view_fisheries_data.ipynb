{
 "cells": [
  {
   "cell_type": "code",
   "execution_count": null,
   "metadata": {
    "collapsed": true
   },
   "outputs": [],
   "source": [
    "import PIL\n",
    "\n",
    "def img2array(im):\n",
    "    if im.mode != 'RGB':\n",
    "        im = im.convert(mode='RGB')\n",
    "    return np.fromstring(im.tobytes(), dtype='uint8').reshape((im.size[1], im.size[0], 3))\n",
    " "
   ]
  },
  {
   "cell_type": "code",
   "execution_count": null,
   "metadata": {
    "collapsed": true
   },
   "outputs": [],
   "source": [
    "# plot the validation data \n",
    "import matplotlib.pyplot as plt\n",
    "\n",
    "plt.close()\n",
    "files_list = []\n",
    "labels_list = []\n",
    "pred_labels_list = []\n",
    "\n",
    "for (files, label, pred_label) in zip(wrong.files, wrong.label, wrong.pred_labels):\n",
    "    dir_ = '/home/ubuntu/data/fishing/valid/'\n",
    "    file_ = dir_+files\n",
    "    files_list.append(file_)\n",
    "    labels_list.append(label)\n",
    "    pred_labels_list.append(pred_label)\n",
    "\n",
    "    \n",
    "files_list_sub = files_list[24:29]\n",
    "labels_list_sub = labels_list[24:29]\n",
    "pred_labels_list_sub = pred_labels_list[24:29]\n",
    "\n",
    "images = [ PIL.Image.open(f) for f in files_list_sub]\n",
    "np_images = [ img2array(im) for im in images ]\n",
    "\n",
    "for (img, filen, label, pred_label) in zip(np_images, files_list_sub, labels_list_sub, pred_labels_list_sub):\n",
    "    plt.figure(figsize=(10,6))\n",
    "    plt.imshow(img)\n",
    "    plt.title(\"filename: \"+filen, fontsize=15)\n",
    "#     print(label., pred_label)\n",
    "    plt.xlabel(\"true label: \"+label + \"  pred_label:  \"+pred_label, fontsize=15) \n",
    "    \n",
    "plt.show()"
   ]
  }
 ],
 "metadata": {
  "kernelspec": {
   "display_name": "Python 2",
   "language": "python",
   "name": "python2"
  },
  "language_info": {
   "codemirror_mode": {
    "name": "ipython",
    "version": 2
   },
   "file_extension": ".py",
   "mimetype": "text/x-python",
   "name": "python",
   "nbconvert_exporter": "python",
   "pygments_lexer": "ipython2",
   "version": "2.7.6"
  }
 },
 "nbformat": 4,
 "nbformat_minor": 2
}
