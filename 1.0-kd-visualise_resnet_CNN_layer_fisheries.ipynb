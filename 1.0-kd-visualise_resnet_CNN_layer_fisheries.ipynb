{
 "cells": [
  {
   "cell_type": "code",
   "execution_count": 1,
   "metadata": {},
   "outputs": [
    {
     "name": "stderr",
     "output_type": "stream",
     "text": [
      "Using TensorFlow backend.\n"
     ]
    },
    {
     "name": "stdout",
     "output_type": "stream",
     "text": [
      "2.0.3\n"
     ]
    }
   ],
   "source": [
    "from keras.optimizers import Adam\n",
    "from keras.models import Model\n",
    "from keras import backend as K\n",
    "from datetime import datetime\n",
    "import distutils.dir_util\n",
    "from keras.callbacks import CSVLogger\n",
    "from keras.utils.np_utils import to_categorical\n",
    "import numpy as np\n",
    "\n",
    "from keras.layers import Dense, Input, Lambda, BatchNormalization, Conv2D, Dropout\n",
    "from keras.layers import ZeroPadding2D, MaxPooling2D, AveragePooling2D, Activation, Flatten\n",
    "from keras.layers import GlobalAveragePooling2D\n",
    "from keras.applications.resnet50 import ResNet50\n",
    "\n",
    "\n",
    "from keras import __version__\n",
    "print(__version__)"
   ]
  },
  {
   "cell_type": "code",
   "execution_count": 2,
   "metadata": {},
   "outputs": [
    {
     "name": "stdout",
     "output_type": "stream",
     "text": [
      "Found 3276 images belonging to 8 classes.\n",
      "Found 500 images belonging to 8 classes.\n"
     ]
    }
   ],
   "source": [
    "# get data for visualisation later\n",
    "\n",
    "from keras.preprocessing.image import ImageDataGenerator\n",
    "def preprocess_input(x, data_format=None):\n",
    "    \"\"\"Preprocesses a tensor encoding a batch of images.\n",
    "    # Arguments\n",
    "        x: input Numpy tensor, 4D.\n",
    "        data_format: data format of the image tensor.\n",
    "    # Returns\n",
    "        Preprocessed tensor.\n",
    "    \"\"\"\n",
    "\n",
    "    # 'RGB'->'BGR'\n",
    "    x = x[:, :, ::-1]\n",
    "    # Zero-center by mean pixel\n",
    "    x[:, :, 0] -= 103.939\n",
    "    x[:, :, 1] -= 116.779\n",
    "    x[:, :, 2] -= 123.68\n",
    "    return x\n",
    "\n",
    "train_datagen = ImageDataGenerator(preprocessing_function=preprocess_input, rescale=1.25)\n",
    "\n",
    "validation_datagen = ImageDataGenerator(preprocessing_function=preprocess_input)\n",
    "\n",
    "#batch_size = 32\n",
    "\n",
    "train_generator = train_datagen.flow_from_directory(\n",
    "        '/home/ubuntu/data/fishing/train',\n",
    "        target_size=(224, 224),\n",
    "        batch_size=28,\n",
    "        #batch_size=batch_size,\n",
    "        shuffle=False,\n",
    "        class_mode='categorical')\n",
    "\n",
    "validation_generator = validation_datagen.flow_from_directory(\n",
    "        '/home/ubuntu/data/fishing/valid',\n",
    "        target_size=(224, 224),\n",
    "        shuffle=False,\n",
    "        #batch_size=batch_size,\n",
    "        batch_size=20,\n",
    "        class_mode='categorical')"
   ]
  },
  {
   "cell_type": "code",
   "execution_count": 3,
   "metadata": {
    "collapsed": true
   },
   "outputs": [],
   "source": [
    "RESULTS_DIR = '/home/ubuntu/data/fishing/results'\n",
    "\n",
    "import bcolz\n",
    "def load_array(fname):\n",
    "    return bcolz.open(fname)[:]\n",
    "\n",
    "def load_precomputed_data(features_base_name=\"ResNet50_conv_feats/trn_\"):\n",
    "    filenames = load_array(RESULTS_DIR+\"/\"+features_base_name+'filenames.dat').tolist()\n",
    "    conv_feats = load_array(RESULTS_DIR+\"/\"+features_base_name+'conv_feats.dat')\n",
    "    labels = load_array(RESULTS_DIR+\"/\"+features_base_name+'labels.dat')\n",
    "    return filenames, conv_feats, labels\n",
    "\n",
    "trn_filenames, trn_conv_features, trn_labels = load_precomputed_data(\"ResNet50_conv_feats/trn_\")\n",
    "val_filenames, val_conv_features, val_labels = load_precomputed_data(\"ResNet50_conv_feats/val_\")"
   ]
  },
  {
   "cell_type": "code",
   "execution_count": 4,
   "metadata": {
    "collapsed": true
   },
   "outputs": [],
   "source": [
    "\n",
    "resnet_base = ResNet50(include_top=False, weights='imagenet')\n"
   ]
  },
  {
   "cell_type": "code",
   "execution_count": 5,
   "metadata": {
    "collapsed": true
   },
   "outputs": [],
   "source": [
    "#classifier_input_shape = resnet_base.layers[-1].output_shape[1:] \n",
    "# i.e. shape of conv features (produces (None, None, None, 2048))\n",
    "classifier_input_shape = (1, 1, 2048)\n",
    "# classifier_input_shape = resnet_base.layers[-1].output_shape[1:]\n",
    "classifier_input = Input(shape=classifier_input_shape)"
   ]
  },
  {
   "cell_type": "code",
   "execution_count": 6,
   "metadata": {
    "collapsed": true
   },
   "outputs": [],
   "source": [
    "# Create classifier model\n",
    "\n",
    "x= Flatten()(classifier_input)\n",
    "x = Dense(8, activation='softmax')(x)\n",
    "                                                     \n",
    "classifier_model_v1 = Model(classifier_input, x)\n",
    "\n",
    "#from keras.optimizers import SGD\n",
    "classifier_model_v1.compile(Adam(lr=0.01), loss='categorical_crossentropy', metrics=['accuracy'])"
   ]
  },
  {
   "cell_type": "code",
   "execution_count": 8,
   "metadata": {},
   "outputs": [
    {
     "name": "stdout",
     "output_type": "stream",
     "text": [
      "Train on 3276 samples, validate on 500 samples\n",
      "Epoch 1/5\n",
      "3276/3276 [==============================] - 0s - loss: 1.7746 - acc: 0.8544 - val_loss: 2.0673 - val_acc: 0.7900\n",
      "Epoch 2/5\n",
      "3276/3276 [==============================] - 0s - loss: 1.8020 - acc: 0.8513 - val_loss: 2.0924 - val_acc: 0.7860\n",
      "Epoch 3/5\n",
      "3276/3276 [==============================] - 0s - loss: 2.0581 - acc: 0.8104 - val_loss: 2.3132 - val_acc: 0.7720\n",
      "Epoch 4/5\n",
      "3276/3276 [==============================] - 0s - loss: 1.7886 - acc: 0.8553 - val_loss: 2.0169 - val_acc: 0.8240\n",
      "Epoch 5/5\n",
      "3276/3276 [==============================] - 0s - loss: 1.7374 - acc: 0.8724 - val_loss: 2.1442 - val_acc: 0.7920\n"
     ]
    },
    {
     "data": {
      "text/plain": [
       "<keras.callbacks.History at 0x7fe155940e10>"
      ]
     },
     "execution_count": 8,
     "metadata": {},
     "output_type": "execute_result"
    }
   ],
   "source": [
    "classifier_model_v1.fit(trn_conv_features, trn_labels,\n",
    "                                          batch_size=32, \n",
    "                                          epochs=5,\n",
    "                                          validation_data=(val_conv_features, val_labels),\n",
    "                                          shuffle=True)"
   ]
  },
  {
   "cell_type": "code",
   "execution_count": 9,
   "metadata": {
    "collapsed": true
   },
   "outputs": [],
   "source": [
    "# above - pulled in the resnet weights for the convolutional layers - , then added a very simple classifier to test \n",
    "# everything was working ok\n",
    "\n",
    "# below - try to add a convolutional network and input the precomputed convolutional layers"
   ]
  },
  {
   "cell_type": "code",
   "execution_count": 10,
   "metadata": {
    "collapsed": true
   },
   "outputs": [],
   "source": [
    "nf=128; p=0."
   ]
  },
  {
   "cell_type": "code",
   "execution_count": 11,
   "metadata": {
    "collapsed": true
   },
   "outputs": [],
   "source": [
    "\n",
    "# x = Flatten(input_shape=classifier_input_shape)(classifier_input)\n",
    "x = Conv2D(nf,(3,3), activation='relu', padding='same')(classifier_input)\n",
    "# BatchNormalization(axis=1)(x)\n",
    "# MaxPooling2D()(x)\n",
    "# Convolution2D(nf,3,3, activation='relu', border_mode='same')(x)\n",
    "# BatchNormalization(axis=1)(x)\n",
    "# MaxPooling2D()(x)\n",
    "# Convolution2D(nf,3,3, activation='relu', border_mode='same')(x)\n",
    "# BatchNormalization(axis=1)(x)\n",
    "# MaxPooling2D((1,2))(x)\n",
    "x = Conv2D(8,(3,3), padding='same')(x)\n",
    "x = Dropout(p)(x)\n",
    "x = GlobalAveragePooling2D()(x)\n",
    "x = Activation('softmax')(x)\n",
    "\n",
    "classifier_model_v2 = Model(classifier_input, x)\n",
    "\n",
    "classifier_model_v2.compile(Adam(lr=0.001), loss='categorical_crossentropy', metrics=['accuracy'])"
   ]
  },
  {
   "cell_type": "code",
   "execution_count": 12,
   "metadata": {},
   "outputs": [
    {
     "data": {
      "text/plain": [
       "(None, 8)"
      ]
     },
     "execution_count": 12,
     "metadata": {},
     "output_type": "execute_result"
    }
   ],
   "source": [
    "classifier_model_v2.output_shape"
   ]
  },
  {
   "cell_type": "code",
   "execution_count": 14,
   "metadata": {},
   "outputs": [
    {
     "name": "stdout",
     "output_type": "stream",
     "text": [
      "Train on 3276 samples, validate on 500 samples\n",
      "Epoch 1/5\n",
      "3276/3276 [==============================] - 1s - loss: 0.1627 - acc: 0.9533 - val_loss: 0.3434 - val_acc: 0.9040\n",
      "Epoch 2/5\n",
      "3276/3276 [==============================] - 1s - loss: 0.1280 - acc: 0.9625 - val_loss: 0.4054 - val_acc: 0.8720\n",
      "Epoch 3/5\n",
      "3276/3276 [==============================] - 1s - loss: 0.0960 - acc: 0.9753 - val_loss: 0.3157 - val_acc: 0.9060\n",
      "Epoch 4/5\n",
      "3276/3276 [==============================] - 1s - loss: 0.0700 - acc: 0.9829 - val_loss: 0.3350 - val_acc: 0.9100\n",
      "Epoch 5/5\n",
      "3276/3276 [==============================] - 1s - loss: 0.0526 - acc: 0.9902 - val_loss: 0.3886 - val_acc: 0.8840\n"
     ]
    },
    {
     "data": {
      "text/plain": [
       "<keras.callbacks.History at 0x7fe1558389d0>"
      ]
     },
     "execution_count": 14,
     "metadata": {},
     "output_type": "execute_result"
    }
   ],
   "source": [
    "classifier_model_v2.fit(trn_conv_features, trn_labels, \n",
    "                                          batch_size=32, \n",
    "                                          epochs=5,\n",
    "                                          validation_data=(val_conv_features,val_labels),\n",
    "                                          shuffle=True)"
   ]
  },
  {
   "cell_type": "code",
   "execution_count": 15,
   "metadata": {},
   "outputs": [
    {
     "name": "stdout",
     "output_type": "stream",
     "text": [
      "_________________________________________________________________\n",
      "Layer (type)                 Output Shape              Param #   \n",
      "=================================================================\n",
      "input_2 (InputLayer)         (None, 1, 1, 2048)        0         \n",
      "_________________________________________________________________\n",
      "conv2d_1 (Conv2D)            (None, 1, 1, 128)         2359424   \n",
      "_________________________________________________________________\n",
      "conv2d_2 (Conv2D)            (None, 1, 1, 8)           9224      \n",
      "_________________________________________________________________\n",
      "dropout_1 (Dropout)          (None, 1, 1, 8)           0         \n",
      "_________________________________________________________________\n",
      "global_average_pooling2d_1 ( (None, 8)                 0         \n",
      "_________________________________________________________________\n",
      "activation_50 (Activation)   (None, 8)                 0         \n",
      "=================================================================\n",
      "Total params: 2,368,648\n",
      "Trainable params: 2,368,648\n",
      "Non-trainable params: 0\n",
      "_________________________________________________________________\n"
     ]
    }
   ],
   "source": [
    "classifier_model_v2.summary()"
   ]
  },
  {
   "cell_type": "code",
   "execution_count": 18,
   "metadata": {},
   "outputs": [],
   "source": [
    "l = classifier_model_v2.layers\n",
    "input_layer = l[0]\n",
    "last_conv_layer = l[-4]\n",
    "conv_fn = K.function([input_layer.input], [last_conv_layer.output])"
   ]
  },
  {
   "cell_type": "code",
   "execution_count": 135,
   "metadata": {
    "collapsed": true
   },
   "outputs": [],
   "source": [
    "conv_fn = K.function([input_layer.input, K.learning_phase()], [last_conv_layer.output])\n",
    "# output_image = output_fn([input_image])"
   ]
  },
  {
   "cell_type": "code",
   "execution_count": 45,
   "metadata": {},
   "outputs": [
    {
     "data": {
      "text/plain": [
       "<keras.layers.convolutional.Conv2D at 0x7fe15562d590>"
      ]
     },
     "execution_count": 45,
     "metadata": {},
     "output_type": "execute_result"
    }
   ],
   "source": [
    "l[-4]"
   ]
  },
  {
   "cell_type": "code",
   "execution_count": 71,
   "metadata": {
    "collapsed": true
   },
   "outputs": [],
   "source": [
    "import scipy\n",
    "def get_cm(imp, label):\n",
    "    conv = conv_fn([inp,0])[0,label]\n",
    "#     print(conv.shape)\n",
    "    return scipy.misc.imresize(conv, (360,640), interp='nearest')"
   ]
  },
  {
   "cell_type": "code",
   "execution_count": 72,
   "metadata": {},
   "outputs": [
    {
     "data": {
      "text/plain": [
       "array([ 0.98000002,  0.        ,  0.        ,  0.        ,  0.        ,\n",
       "        0.        ,  0.01      ,  0.        ], dtype=float32)"
      ]
     },
     "execution_count": 72,
     "metadata": {},
     "output_type": "execute_result"
    }
   ],
   "source": [
    "inp = np.expand_dims(val_conv_features[0], 0)\n",
    "np.round(classifier_model_v2.predict(inp)[0],2)"
   ]
  },
  {
   "cell_type": "code",
   "execution_count": 73,
   "metadata": {
    "collapsed": true
   },
   "outputs": [],
   "source": [
    "def to_plot(img):\n",
    "    if K.image_dim_ordering() == 'tf':\n",
    "        return np.rollaxis(img, 0, 1).astype(np.uint8)\n",
    "    else:\n",
    "        return np.rollaxis(img, 0, 3).astype(np.uint8)"
   ]
  },
  {
   "cell_type": "code",
   "execution_count": 78,
   "metadata": {},
   "outputs": [
    {
     "data": {
      "text/plain": [
       "(1, 1, 1, 2048)"
      ]
     },
     "execution_count": 78,
     "metadata": {},
     "output_type": "execute_result"
    }
   ],
   "source": [
    "input_image.shape"
   ]
  },
  {
   "cell_type": "code",
   "execution_count": 89,
   "metadata": {},
   "outputs": [],
   "source": [
    "# cm = get_cm(inp, 0)\n",
    "\n",
    "input_image = np.expand_dims(trn_conv_features[0],0)\n",
    "output_image = conv_fn([input_image])[0]"
   ]
  },
  {
   "cell_type": "code",
   "execution_count": 90,
   "metadata": {},
   "outputs": [
    {
     "data": {
      "text/plain": [
       "(1, 1, 1, 8)"
      ]
     },
     "execution_count": 90,
     "metadata": {},
     "output_type": "execute_result"
    }
   ],
   "source": [
    "output_image.shape"
   ]
  },
  {
   "cell_type": "code",
   "execution_count": 29,
   "metadata": {},
   "outputs": [
    {
     "ename": "AttributeError",
     "evalue": "'NoneType' object has no attribute 'ndim'",
     "output_type": "error",
     "traceback": [
      "\u001b[0;31m-------------------------------------------------------------\u001b[0m",
      "\u001b[0;31mAttributeError\u001b[0m              Traceback (most recent call last)",
      "\u001b[0;32m<ipython-input-29-ba17ae96ac4a>\u001b[0m in \u001b[0;36m<module>\u001b[0;34m()\u001b[0m\n\u001b[1;32m      1\u001b[0m \u001b[0;32mfrom\u001b[0m \u001b[0mmatplotlib\u001b[0m \u001b[0;32mimport\u001b[0m \u001b[0mpyplot\u001b[0m \u001b[0;32mas\u001b[0m \u001b[0mplt\u001b[0m\u001b[0;34m\u001b[0m\u001b[0m\n\u001b[0;32m----> 2\u001b[0;31m \u001b[0mplt\u001b[0m\u001b[0;34m.\u001b[0m\u001b[0mimshow\u001b[0m\u001b[0;34m(\u001b[0m\u001b[0mto_plot\u001b[0m\u001b[0;34m(\u001b[0m\u001b[0mcm\u001b[0m\u001b[0;34m)\u001b[0m\u001b[0;34m,\u001b[0m \u001b[0mcmap\u001b[0m\u001b[0;34m=\u001b[0m\u001b[0;34m\"cool\"\u001b[0m\u001b[0;34m)\u001b[0m\u001b[0;34m\u001b[0m\u001b[0m\n\u001b[0m",
      "\u001b[0;32m<ipython-input-25-e2fe4cc9e3b3>\u001b[0m in \u001b[0;36mto_plot\u001b[0;34m(img)\u001b[0m\n\u001b[1;32m      1\u001b[0m \u001b[0;32mdef\u001b[0m \u001b[0mto_plot\u001b[0m\u001b[0;34m(\u001b[0m\u001b[0mimg\u001b[0m\u001b[0;34m)\u001b[0m\u001b[0;34m:\u001b[0m\u001b[0;34m\u001b[0m\u001b[0m\n\u001b[1;32m      2\u001b[0m     \u001b[0;32mif\u001b[0m \u001b[0mK\u001b[0m\u001b[0;34m.\u001b[0m\u001b[0mimage_dim_ordering\u001b[0m\u001b[0;34m(\u001b[0m\u001b[0;34m)\u001b[0m \u001b[0;34m==\u001b[0m \u001b[0;34m'tf'\u001b[0m\u001b[0;34m:\u001b[0m\u001b[0;34m\u001b[0m\u001b[0m\n\u001b[0;32m----> 3\u001b[0;31m         \u001b[0;32mreturn\u001b[0m \u001b[0mnp\u001b[0m\u001b[0;34m.\u001b[0m\u001b[0mrollaxis\u001b[0m\u001b[0;34m(\u001b[0m\u001b[0mimg\u001b[0m\u001b[0;34m,\u001b[0m \u001b[0;36m0\u001b[0m\u001b[0;34m,\u001b[0m \u001b[0;36m1\u001b[0m\u001b[0;34m)\u001b[0m\u001b[0;34m.\u001b[0m\u001b[0mastype\u001b[0m\u001b[0;34m(\u001b[0m\u001b[0mnp\u001b[0m\u001b[0;34m.\u001b[0m\u001b[0muint8\u001b[0m\u001b[0;34m)\u001b[0m\u001b[0;34m\u001b[0m\u001b[0m\n\u001b[0m\u001b[1;32m      4\u001b[0m     \u001b[0;32melse\u001b[0m\u001b[0;34m:\u001b[0m\u001b[0;34m\u001b[0m\u001b[0m\n\u001b[1;32m      5\u001b[0m         \u001b[0;32mreturn\u001b[0m \u001b[0mnp\u001b[0m\u001b[0;34m.\u001b[0m\u001b[0mrollaxis\u001b[0m\u001b[0;34m(\u001b[0m\u001b[0mimg\u001b[0m\u001b[0;34m,\u001b[0m \u001b[0;36m0\u001b[0m\u001b[0;34m,\u001b[0m \u001b[0;36m3\u001b[0m\u001b[0;34m)\u001b[0m\u001b[0;34m.\u001b[0m\u001b[0mastype\u001b[0m\u001b[0;34m(\u001b[0m\u001b[0mnp\u001b[0m\u001b[0;34m.\u001b[0m\u001b[0muint8\u001b[0m\u001b[0;34m)\u001b[0m\u001b[0;34m\u001b[0m\u001b[0m\n",
      "\u001b[0;32m/usr/local/lib/python2.7/dist-packages/numpy/core/numeric.pyc\u001b[0m in \u001b[0;36mrollaxis\u001b[0;34m(a, axis, start)\u001b[0m\n\u001b[1;32m   1527\u001b[0m \u001b[0;34m\u001b[0m\u001b[0m\n\u001b[1;32m   1528\u001b[0m     \"\"\"\n\u001b[0;32m-> 1529\u001b[0;31m     \u001b[0mn\u001b[0m \u001b[0;34m=\u001b[0m \u001b[0ma\u001b[0m\u001b[0;34m.\u001b[0m\u001b[0mndim\u001b[0m\u001b[0;34m\u001b[0m\u001b[0m\n\u001b[0m\u001b[1;32m   1530\u001b[0m     \u001b[0;32mif\u001b[0m \u001b[0maxis\u001b[0m \u001b[0;34m<\u001b[0m \u001b[0;36m0\u001b[0m\u001b[0;34m:\u001b[0m\u001b[0;34m\u001b[0m\u001b[0m\n\u001b[1;32m   1531\u001b[0m         \u001b[0maxis\u001b[0m \u001b[0;34m+=\u001b[0m \u001b[0mn\u001b[0m\u001b[0;34m\u001b[0m\u001b[0m\n",
      "\u001b[0;31mAttributeError\u001b[0m: 'NoneType' object has no attribute 'ndim'"
     ]
    }
   ],
   "source": [
    "from matplotlib import pyplot as plt\n",
    "plt.imshow(to_plot(cm), cmap=\"cool\")"
   ]
  },
  {
   "cell_type": "code",
   "execution_count": 104,
   "metadata": {},
   "outputs": [
    {
     "ename": "TypeError",
     "evalue": "'DirectoryIterator' object does not support indexing",
     "output_type": "error",
     "traceback": [
      "\u001b[0;31m---------------------------------------\u001b[0m",
      "\u001b[0;31mTypeError\u001b[0mTraceback (most recent call last)",
      "\u001b[0;32m<ipython-input-104-6938a5826088>\u001b[0m in \u001b[0;36m<module>\u001b[0;34m()\u001b[0m\n\u001b[1;32m      1\u001b[0m \u001b[0;32mimport\u001b[0m \u001b[0mmatplotlib\u001b[0m\u001b[0;34m.\u001b[0m\u001b[0mpyplot\u001b[0m \u001b[0;32mas\u001b[0m \u001b[0mplt\u001b[0m\u001b[0;34m\u001b[0m\u001b[0m\n\u001b[1;32m      2\u001b[0m \u001b[0;31m# need to get this to show the original image\u001b[0m\u001b[0;34m\u001b[0m\u001b[0;34m\u001b[0m\u001b[0m\n\u001b[0;32m----> 3\u001b[0;31m \u001b[0mplt\u001b[0m\u001b[0;34m.\u001b[0m\u001b[0mimshow\u001b[0m\u001b[0;34m(\u001b[0m\u001b[0mto_plot\u001b[0m\u001b[0;34m(\u001b[0m\u001b[0mvalidation_generator\u001b[0m\u001b[0;34m[\u001b[0m\u001b[0;36m0\u001b[0m\u001b[0;34m]\u001b[0m\u001b[0;34m)\u001b[0m\u001b[0;34m)\u001b[0m\u001b[0;34m\u001b[0m\u001b[0m\n\u001b[0m",
      "\u001b[0;31mTypeError\u001b[0m: 'DirectoryIterator' object does not support indexing"
     ]
    }
   ],
   "source": [
    "import matplotlib.pyplot as plt \n",
    "# need to get this to show the original image\n",
    "plt.imshow(to_plot(val[0]))"
   ]
  },
  {
   "cell_type": "code",
   "execution_count": 107,
   "metadata": {},
   "outputs": [
    {
     "ename": "KeyboardInterrupt",
     "evalue": "",
     "output_type": "error",
     "traceback": [
      "\u001b[0;31m---------------------------------------\u001b[0m",
      "\u001b[0;31mKeyboardInterrupt\u001b[0mTraceback (most recent call last)",
      "\u001b[0;32m<ipython-input-107-ec5b17d3e3c9>\u001b[0m in \u001b[0;36m<module>\u001b[0;34m()\u001b[0m\n\u001b[0;32m----> 1\u001b[0;31m \u001b[0mval\u001b[0m \u001b[0;34m=\u001b[0m \u001b[0mnp\u001b[0m\u001b[0;34m.\u001b[0m\u001b[0mconcatenate\u001b[0m\u001b[0;34m(\u001b[0m\u001b[0;34m[\u001b[0m\u001b[0mvalidation_generator\u001b[0m\u001b[0;34m.\u001b[0m\u001b[0mnext\u001b[0m\u001b[0;34m(\u001b[0m\u001b[0;34m)\u001b[0m \u001b[0;32mfor\u001b[0m \u001b[0mi\u001b[0m \u001b[0;32min\u001b[0m \u001b[0mrange\u001b[0m\u001b[0;34m(\u001b[0m\u001b[0mvalidation_generator\u001b[0m\u001b[0;34m.\u001b[0m\u001b[0mn\u001b[0m\u001b[0;34m)\u001b[0m\u001b[0;34m]\u001b[0m\u001b[0;34m)\u001b[0m\u001b[0;34m\u001b[0m\u001b[0m\n\u001b[0m",
      "\u001b[0;32m/usr/local/lib/python2.7/dist-packages/keras/preprocessing/image.pyc\u001b[0m in \u001b[0;36mnext\u001b[0;34m(self)\u001b[0m\n\u001b[1;32m    958\u001b[0m             img = load_img(os.path.join(self.directory, fname),\n\u001b[1;32m    959\u001b[0m                            \u001b[0mgrayscale\u001b[0m\u001b[0;34m=\u001b[0m\u001b[0mgrayscale\u001b[0m\u001b[0;34m,\u001b[0m\u001b[0;34m\u001b[0m\u001b[0m\n\u001b[0;32m--> 960\u001b[0;31m                            target_size=self.target_size)\n\u001b[0m\u001b[1;32m    961\u001b[0m             \u001b[0mx\u001b[0m \u001b[0;34m=\u001b[0m \u001b[0mimg_to_array\u001b[0m\u001b[0;34m(\u001b[0m\u001b[0mimg\u001b[0m\u001b[0;34m,\u001b[0m \u001b[0mdata_format\u001b[0m\u001b[0;34m=\u001b[0m\u001b[0mself\u001b[0m\u001b[0;34m.\u001b[0m\u001b[0mdata_format\u001b[0m\u001b[0;34m)\u001b[0m\u001b[0;34m\u001b[0m\u001b[0m\n\u001b[1;32m    962\u001b[0m             \u001b[0mx\u001b[0m \u001b[0;34m=\u001b[0m \u001b[0mself\u001b[0m\u001b[0;34m.\u001b[0m\u001b[0mimage_data_generator\u001b[0m\u001b[0;34m.\u001b[0m\u001b[0mrandom_transform\u001b[0m\u001b[0;34m(\u001b[0m\u001b[0mx\u001b[0m\u001b[0;34m)\u001b[0m\u001b[0;34m\u001b[0m\u001b[0m\n",
      "\u001b[0;32m/usr/local/lib/python2.7/dist-packages/keras/preprocessing/image.pyc\u001b[0m in \u001b[0;36mload_img\u001b[0;34m(path, grayscale, target_size)\u001b[0m\n\u001b[1;32m    328\u001b[0m         \u001b[0mwh_tuple\u001b[0m \u001b[0;34m=\u001b[0m \u001b[0;34m(\u001b[0m\u001b[0mtarget_size\u001b[0m\u001b[0;34m[\u001b[0m\u001b[0;36m1\u001b[0m\u001b[0;34m]\u001b[0m\u001b[0;34m,\u001b[0m \u001b[0mtarget_size\u001b[0m\u001b[0;34m[\u001b[0m\u001b[0;36m0\u001b[0m\u001b[0;34m]\u001b[0m\u001b[0;34m)\u001b[0m\u001b[0;34m\u001b[0m\u001b[0m\n\u001b[1;32m    329\u001b[0m         \u001b[0;32mif\u001b[0m \u001b[0mimg\u001b[0m\u001b[0;34m.\u001b[0m\u001b[0msize\u001b[0m \u001b[0;34m!=\u001b[0m \u001b[0mwh_tuple\u001b[0m\u001b[0;34m:\u001b[0m\u001b[0;34m\u001b[0m\u001b[0m\n\u001b[0;32m--> 330\u001b[0;31m             \u001b[0mimg\u001b[0m \u001b[0;34m=\u001b[0m \u001b[0mimg\u001b[0m\u001b[0;34m.\u001b[0m\u001b[0mresize\u001b[0m\u001b[0;34m(\u001b[0m\u001b[0mwh_tuple\u001b[0m\u001b[0;34m)\u001b[0m\u001b[0;34m\u001b[0m\u001b[0m\n\u001b[0m\u001b[1;32m    331\u001b[0m     \u001b[0;32mreturn\u001b[0m \u001b[0mimg\u001b[0m\u001b[0;34m\u001b[0m\u001b[0m\n\u001b[1;32m    332\u001b[0m \u001b[0;34m\u001b[0m\u001b[0m\n",
      "\u001b[0;32m/usr/local/lib/python2.7/dist-packages/PIL/Image.pyc\u001b[0m in \u001b[0;36mresize\u001b[0;34m(self, size, resample)\u001b[0m\n\u001b[1;32m   1628\u001b[0m             \u001b[0;32mraise\u001b[0m \u001b[0mValueError\u001b[0m\u001b[0;34m(\u001b[0m\u001b[0;34m\"unknown resampling filter\"\u001b[0m\u001b[0;34m)\u001b[0m\u001b[0;34m\u001b[0m\u001b[0m\n\u001b[1;32m   1629\u001b[0m \u001b[0;34m\u001b[0m\u001b[0m\n\u001b[0;32m-> 1630\u001b[0;31m         \u001b[0mself\u001b[0m\u001b[0;34m.\u001b[0m\u001b[0mload\u001b[0m\u001b[0;34m(\u001b[0m\u001b[0;34m)\u001b[0m\u001b[0;34m\u001b[0m\u001b[0m\n\u001b[0m\u001b[1;32m   1631\u001b[0m \u001b[0;34m\u001b[0m\u001b[0m\n\u001b[1;32m   1632\u001b[0m         \u001b[0msize\u001b[0m \u001b[0;34m=\u001b[0m \u001b[0mtuple\u001b[0m\u001b[0;34m(\u001b[0m\u001b[0msize\u001b[0m\u001b[0;34m)\u001b[0m\u001b[0;34m\u001b[0m\u001b[0m\n",
      "\u001b[0;32m/usr/local/lib/python2.7/dist-packages/PIL/ImageFile.pyc\u001b[0m in \u001b[0;36mload\u001b[0;34m(self)\u001b[0m\n\u001b[1;32m    232\u001b[0m \u001b[0;34m\u001b[0m\u001b[0m\n\u001b[1;32m    233\u001b[0m                         \u001b[0mb\u001b[0m \u001b[0;34m=\u001b[0m \u001b[0mb\u001b[0m \u001b[0;34m+\u001b[0m \u001b[0ms\u001b[0m\u001b[0;34m\u001b[0m\u001b[0m\n\u001b[0;32m--> 234\u001b[0;31m                         \u001b[0mn\u001b[0m\u001b[0;34m,\u001b[0m \u001b[0merr_code\u001b[0m \u001b[0;34m=\u001b[0m \u001b[0mdecoder\u001b[0m\u001b[0;34m.\u001b[0m\u001b[0mdecode\u001b[0m\u001b[0;34m(\u001b[0m\u001b[0mb\u001b[0m\u001b[0;34m)\u001b[0m\u001b[0;34m\u001b[0m\u001b[0m\n\u001b[0m\u001b[1;32m    235\u001b[0m                         \u001b[0;32mif\u001b[0m \u001b[0mn\u001b[0m \u001b[0;34m<\u001b[0m \u001b[0;36m0\u001b[0m\u001b[0;34m:\u001b[0m\u001b[0;34m\u001b[0m\u001b[0m\n\u001b[1;32m    236\u001b[0m                             \u001b[0;32mbreak\u001b[0m\u001b[0;34m\u001b[0m\u001b[0m\n",
      "\u001b[0;31mKeyboardInterrupt\u001b[0m: "
     ]
    }
   ],
   "source": [
    "val = np.concatenate([validation_generator.next() for i in range(validation_generator.n)])"
   ]
  },
  {
   "cell_type": "code",
   "execution_count": 109,
   "metadata": {},
   "outputs": [
    {
     "data": {
      "text/plain": [
       "20"
      ]
     },
     "execution_count": 109,
     "metadata": {},
     "output_type": "execute_result"
    }
   ],
   "source": [
    "validation_generator.batch_size/validation_gene"
   ]
  },
  {
   "cell_type": "code",
   "execution_count": 97,
   "metadata": {},
   "outputs": [
    {
     "data": {
      "text/plain": [
       "(None, None, 2048)"
      ]
     },
     "execution_count": 97,
     "metadata": {},
     "output_type": "execute_result"
    }
   ],
   "source": [
    "resnet_base.layers[-1].output_shape[1:]"
   ]
  },
  {
   "cell_type": "code",
   "execution_count": 94,
   "metadata": {
    "collapsed": true
   },
   "outputs": [],
   "source": [
    "from keras.applications.vgg16 import VGG16\n",
    "from keras.preprocessing import image\n",
    "from keras.applications.vgg16 import preprocess_input\n",
    "import numpy as np\n",
    "\n",
    "model = VGG16(weights='imagenet', include_top=False)"
   ]
  },
  {
   "cell_type": "code",
   "execution_count": 95,
   "metadata": {
    "collapsed": true
   },
   "outputs": [],
   "source": [
    "ll = model.layers[-1]\n"
   ]
  },
  {
   "cell_type": "code",
   "execution_count": 98,
   "metadata": {},
   "outputs": [
    {
     "data": {
      "text/plain": [
       "(None, None, 512)"
      ]
     },
     "execution_count": 98,
     "metadata": {},
     "output_type": "execute_result"
    }
   ],
   "source": [
    "ll.output_shape[1:]"
   ]
  },
  {
   "cell_type": "code",
   "execution_count": 99,
   "metadata": {},
   "outputs": [
    {
     "name": "stdout",
     "output_type": "stream",
     "text": [
      "____________________________________________________________________________________________________\n",
      "Layer (type)                     Output Shape          Param #     Connected to                     \n",
      "====================================================================================================\n",
      "input_1 (InputLayer)             (None, None, None, 3) 0                                            \n",
      "____________________________________________________________________________________________________\n",
      "zero_padding2d_1 (ZeroPadding2D) (None, None, None, 3) 0                                            \n",
      "____________________________________________________________________________________________________\n",
      "conv1 (Conv2D)                   (None, None, None, 64 9472                                         \n",
      "____________________________________________________________________________________________________\n",
      "bn_conv1 (BatchNormalization)    (None, None, None, 64 256                                          \n",
      "____________________________________________________________________________________________________\n",
      "activation_1 (Activation)        (None, None, None, 64 0                                            \n",
      "____________________________________________________________________________________________________\n",
      "max_pooling2d_1 (MaxPooling2D)   (None, None, None, 64 0                                            \n",
      "____________________________________________________________________________________________________\n",
      "res2a_branch2a (Conv2D)          (None, None, None, 64 4160                                         \n",
      "____________________________________________________________________________________________________\n",
      "bn2a_branch2a (BatchNormalizatio (None, None, None, 64 256                                          \n",
      "____________________________________________________________________________________________________\n",
      "activation_2 (Activation)        (None, None, None, 64 0                                            \n",
      "____________________________________________________________________________________________________\n",
      "res2a_branch2b (Conv2D)          (None, None, None, 64 36928                                        \n",
      "____________________________________________________________________________________________________\n",
      "bn2a_branch2b (BatchNormalizatio (None, None, None, 64 256                                          \n",
      "____________________________________________________________________________________________________\n",
      "activation_3 (Activation)        (None, None, None, 64 0                                            \n",
      "____________________________________________________________________________________________________\n",
      "res2a_branch2c (Conv2D)          (None, None, None, 25 16640                                        \n",
      "____________________________________________________________________________________________________\n",
      "res2a_branch1 (Conv2D)           (None, None, None, 25 16640                                        \n",
      "____________________________________________________________________________________________________\n",
      "bn2a_branch2c (BatchNormalizatio (None, None, None, 25 1024                                         \n",
      "____________________________________________________________________________________________________\n",
      "bn2a_branch1 (BatchNormalization (None, None, None, 25 1024                                         \n",
      "____________________________________________________________________________________________________\n",
      "add_1 (Add)                      (None, None, None, 25 0                                            \n",
      "____________________________________________________________________________________________________\n",
      "activation_4 (Activation)        (None, None, None, 25 0                                            \n",
      "____________________________________________________________________________________________________\n",
      "res2b_branch2a (Conv2D)          (None, None, None, 64 16448                                        \n",
      "____________________________________________________________________________________________________\n",
      "bn2b_branch2a (BatchNormalizatio (None, None, None, 64 256                                          \n",
      "____________________________________________________________________________________________________\n",
      "activation_5 (Activation)        (None, None, None, 64 0                                            \n",
      "____________________________________________________________________________________________________\n",
      "res2b_branch2b (Conv2D)          (None, None, None, 64 36928                                        \n",
      "____________________________________________________________________________________________________\n",
      "bn2b_branch2b (BatchNormalizatio (None, None, None, 64 256                                          \n",
      "____________________________________________________________________________________________________\n",
      "activation_6 (Activation)        (None, None, None, 64 0                                            \n",
      "____________________________________________________________________________________________________\n",
      "res2b_branch2c (Conv2D)          (None, None, None, 25 16640                                        \n",
      "____________________________________________________________________________________________________\n",
      "bn2b_branch2c (BatchNormalizatio (None, None, None, 25 1024                                         \n",
      "____________________________________________________________________________________________________\n",
      "add_2 (Add)                      (None, None, None, 25 0                                            \n",
      "____________________________________________________________________________________________________\n",
      "activation_7 (Activation)        (None, None, None, 25 0                                            \n",
      "____________________________________________________________________________________________________\n",
      "res2c_branch2a (Conv2D)          (None, None, None, 64 16448                                        \n",
      "____________________________________________________________________________________________________\n",
      "bn2c_branch2a (BatchNormalizatio (None, None, None, 64 256                                          \n",
      "____________________________________________________________________________________________________\n",
      "activation_8 (Activation)        (None, None, None, 64 0                                            \n",
      "____________________________________________________________________________________________________\n",
      "res2c_branch2b (Conv2D)          (None, None, None, 64 36928                                        \n",
      "____________________________________________________________________________________________________\n",
      "bn2c_branch2b (BatchNormalizatio (None, None, None, 64 256                                          \n",
      "____________________________________________________________________________________________________\n",
      "activation_9 (Activation)        (None, None, None, 64 0                                            \n",
      "____________________________________________________________________________________________________\n",
      "res2c_branch2c (Conv2D)          (None, None, None, 25 16640                                        \n",
      "____________________________________________________________________________________________________\n",
      "bn2c_branch2c (BatchNormalizatio (None, None, None, 25 1024                                         \n",
      "____________________________________________________________________________________________________\n",
      "add_3 (Add)                      (None, None, None, 25 0                                            \n",
      "____________________________________________________________________________________________________\n",
      "activation_10 (Activation)       (None, None, None, 25 0                                            \n",
      "____________________________________________________________________________________________________\n",
      "res3a_branch2a (Conv2D)          (None, None, None, 12 32896                                        \n",
      "____________________________________________________________________________________________________\n",
      "bn3a_branch2a (BatchNormalizatio (None, None, None, 12 512                                          \n",
      "____________________________________________________________________________________________________\n",
      "activation_11 (Activation)       (None, None, None, 12 0                                            \n",
      "____________________________________________________________________________________________________\n",
      "res3a_branch2b (Conv2D)          (None, None, None, 12 147584                                       \n",
      "____________________________________________________________________________________________________\n",
      "bn3a_branch2b (BatchNormalizatio (None, None, None, 12 512                                          \n",
      "____________________________________________________________________________________________________\n",
      "activation_12 (Activation)       (None, None, None, 12 0                                            \n",
      "____________________________________________________________________________________________________\n",
      "res3a_branch2c (Conv2D)          (None, None, None, 51 66048                                        \n",
      "____________________________________________________________________________________________________\n",
      "res3a_branch1 (Conv2D)           (None, None, None, 51 131584                                       \n",
      "____________________________________________________________________________________________________\n",
      "bn3a_branch2c (BatchNormalizatio (None, None, None, 51 2048                                         \n",
      "____________________________________________________________________________________________________\n",
      "bn3a_branch1 (BatchNormalization (None, None, None, 51 2048                                         \n",
      "____________________________________________________________________________________________________\n",
      "add_4 (Add)                      (None, None, None, 51 0                                            \n",
      "____________________________________________________________________________________________________\n",
      "activation_13 (Activation)       (None, None, None, 51 0                                            \n",
      "____________________________________________________________________________________________________\n",
      "res3b_branch2a (Conv2D)          (None, None, None, 12 65664                                        \n",
      "____________________________________________________________________________________________________\n",
      "bn3b_branch2a (BatchNormalizatio (None, None, None, 12 512                                          \n",
      "____________________________________________________________________________________________________\n",
      "activation_14 (Activation)       (None, None, None, 12 0                                            \n",
      "____________________________________________________________________________________________________\n",
      "res3b_branch2b (Conv2D)          (None, None, None, 12 147584                                       \n",
      "____________________________________________________________________________________________________\n",
      "bn3b_branch2b (BatchNormalizatio (None, None, None, 12 512                                          \n",
      "____________________________________________________________________________________________________\n",
      "activation_15 (Activation)       (None, None, None, 12 0                                            \n",
      "____________________________________________________________________________________________________\n",
      "res3b_branch2c (Conv2D)          (None, None, None, 51 66048                                        \n",
      "____________________________________________________________________________________________________\n",
      "bn3b_branch2c (BatchNormalizatio (None, None, None, 51 2048                                         \n",
      "____________________________________________________________________________________________________\n",
      "add_5 (Add)                      (None, None, None, 51 0                                            \n",
      "____________________________________________________________________________________________________\n",
      "activation_16 (Activation)       (None, None, None, 51 0                                            \n",
      "____________________________________________________________________________________________________\n",
      "res3c_branch2a (Conv2D)          (None, None, None, 12 65664                                        \n",
      "____________________________________________________________________________________________________\n",
      "bn3c_branch2a (BatchNormalizatio (None, None, None, 12 512                                          \n",
      "____________________________________________________________________________________________________\n",
      "activation_17 (Activation)       (None, None, None, 12 0                                            \n",
      "____________________________________________________________________________________________________\n",
      "res3c_branch2b (Conv2D)          (None, None, None, 12 147584                                       \n",
      "____________________________________________________________________________________________________\n",
      "bn3c_branch2b (BatchNormalizatio (None, None, None, 12 512                                          \n",
      "____________________________________________________________________________________________________\n",
      "activation_18 (Activation)       (None, None, None, 12 0                                            \n",
      "____________________________________________________________________________________________________\n",
      "res3c_branch2c (Conv2D)          (None, None, None, 51 66048                                        \n",
      "____________________________________________________________________________________________________\n",
      "bn3c_branch2c (BatchNormalizatio (None, None, None, 51 2048                                         \n",
      "____________________________________________________________________________________________________\n",
      "add_6 (Add)                      (None, None, None, 51 0                                            \n",
      "____________________________________________________________________________________________________\n",
      "activation_19 (Activation)       (None, None, None, 51 0                                            \n",
      "____________________________________________________________________________________________________\n",
      "res3d_branch2a (Conv2D)          (None, None, None, 12 65664                                        \n",
      "____________________________________________________________________________________________________\n",
      "bn3d_branch2a (BatchNormalizatio (None, None, None, 12 512                                          \n",
      "____________________________________________________________________________________________________\n",
      "activation_20 (Activation)       (None, None, None, 12 0                                            \n",
      "____________________________________________________________________________________________________\n",
      "res3d_branch2b (Conv2D)          (None, None, None, 12 147584                                       \n",
      "____________________________________________________________________________________________________\n",
      "bn3d_branch2b (BatchNormalizatio (None, None, None, 12 512                                          \n",
      "____________________________________________________________________________________________________\n",
      "activation_21 (Activation)       (None, None, None, 12 0                                            \n",
      "____________________________________________________________________________________________________\n",
      "res3d_branch2c (Conv2D)          (None, None, None, 51 66048                                        \n",
      "____________________________________________________________________________________________________\n",
      "bn3d_branch2c (BatchNormalizatio (None, None, None, 51 2048                                         \n",
      "____________________________________________________________________________________________________\n",
      "add_7 (Add)                      (None, None, None, 51 0                                            \n",
      "____________________________________________________________________________________________________\n",
      "activation_22 (Activation)       (None, None, None, 51 0                                            \n",
      "____________________________________________________________________________________________________\n",
      "res4a_branch2a (Conv2D)          (None, None, None, 25 131328                                       \n",
      "____________________________________________________________________________________________________\n",
      "bn4a_branch2a (BatchNormalizatio (None, None, None, 25 1024                                         \n",
      "____________________________________________________________________________________________________\n",
      "activation_23 (Activation)       (None, None, None, 25 0                                            \n",
      "____________________________________________________________________________________________________\n",
      "res4a_branch2b (Conv2D)          (None, None, None, 25 590080                                       \n",
      "____________________________________________________________________________________________________\n",
      "bn4a_branch2b (BatchNormalizatio (None, None, None, 25 1024                                         \n",
      "____________________________________________________________________________________________________\n",
      "activation_24 (Activation)       (None, None, None, 25 0                                            \n",
      "____________________________________________________________________________________________________\n",
      "res4a_branch2c (Conv2D)          (None, None, None, 10 263168                                       \n",
      "____________________________________________________________________________________________________\n",
      "res4a_branch1 (Conv2D)           (None, None, None, 10 525312                                       \n",
      "____________________________________________________________________________________________________\n",
      "bn4a_branch2c (BatchNormalizatio (None, None, None, 10 4096                                         \n",
      "____________________________________________________________________________________________________\n",
      "bn4a_branch1 (BatchNormalization (None, None, None, 10 4096                                         \n",
      "____________________________________________________________________________________________________\n",
      "add_8 (Add)                      (None, None, None, 10 0                                            \n",
      "____________________________________________________________________________________________________\n",
      "activation_25 (Activation)       (None, None, None, 10 0                                            \n",
      "____________________________________________________________________________________________________\n",
      "res4b_branch2a (Conv2D)          (None, None, None, 25 262400                                       \n",
      "____________________________________________________________________________________________________\n",
      "bn4b_branch2a (BatchNormalizatio (None, None, None, 25 1024                                         \n",
      "____________________________________________________________________________________________________\n",
      "activation_26 (Activation)       (None, None, None, 25 0                                            \n",
      "____________________________________________________________________________________________________\n",
      "res4b_branch2b (Conv2D)          (None, None, None, 25 590080                                       \n",
      "____________________________________________________________________________________________________\n",
      "bn4b_branch2b (BatchNormalizatio (None, None, None, 25 1024                                         \n",
      "____________________________________________________________________________________________________\n",
      "activation_27 (Activation)       (None, None, None, 25 0                                            \n",
      "____________________________________________________________________________________________________\n",
      "res4b_branch2c (Conv2D)          (None, None, None, 10 263168                                       \n",
      "____________________________________________________________________________________________________\n",
      "bn4b_branch2c (BatchNormalizatio (None, None, None, 10 4096                                         \n",
      "____________________________________________________________________________________________________\n",
      "add_9 (Add)                      (None, None, None, 10 0                                            \n",
      "____________________________________________________________________________________________________\n",
      "activation_28 (Activation)       (None, None, None, 10 0                                            \n",
      "____________________________________________________________________________________________________\n",
      "res4c_branch2a (Conv2D)          (None, None, None, 25 262400                                       \n",
      "____________________________________________________________________________________________________\n",
      "bn4c_branch2a (BatchNormalizatio (None, None, None, 25 1024                                         \n",
      "____________________________________________________________________________________________________\n",
      "activation_29 (Activation)       (None, None, None, 25 0                                            \n",
      "____________________________________________________________________________________________________\n",
      "res4c_branch2b (Conv2D)          (None, None, None, 25 590080                                       \n",
      "____________________________________________________________________________________________________\n",
      "bn4c_branch2b (BatchNormalizatio (None, None, None, 25 1024                                         \n",
      "____________________________________________________________________________________________________\n",
      "activation_30 (Activation)       (None, None, None, 25 0                                            \n",
      "____________________________________________________________________________________________________\n",
      "res4c_branch2c (Conv2D)          (None, None, None, 10 263168                                       \n",
      "____________________________________________________________________________________________________\n",
      "bn4c_branch2c (BatchNormalizatio (None, None, None, 10 4096                                         \n",
      "____________________________________________________________________________________________________\n",
      "add_10 (Add)                     (None, None, None, 10 0                                            \n",
      "____________________________________________________________________________________________________\n",
      "activation_31 (Activation)       (None, None, None, 10 0                                            \n",
      "____________________________________________________________________________________________________\n",
      "res4d_branch2a (Conv2D)          (None, None, None, 25 262400                                       \n",
      "____________________________________________________________________________________________________\n",
      "bn4d_branch2a (BatchNormalizatio (None, None, None, 25 1024                                         \n",
      "____________________________________________________________________________________________________\n",
      "activation_32 (Activation)       (None, None, None, 25 0                                            \n",
      "____________________________________________________________________________________________________\n",
      "res4d_branch2b (Conv2D)          (None, None, None, 25 590080                                       \n",
      "____________________________________________________________________________________________________\n",
      "bn4d_branch2b (BatchNormalizatio (None, None, None, 25 1024                                         \n",
      "____________________________________________________________________________________________________\n",
      "activation_33 (Activation)       (None, None, None, 25 0                                            \n",
      "____________________________________________________________________________________________________\n",
      "res4d_branch2c (Conv2D)          (None, None, None, 10 263168                                       \n",
      "____________________________________________________________________________________________________\n",
      "bn4d_branch2c (BatchNormalizatio (None, None, None, 10 4096                                         \n",
      "____________________________________________________________________________________________________\n",
      "add_11 (Add)                     (None, None, None, 10 0                                            \n",
      "____________________________________________________________________________________________________\n",
      "activation_34 (Activation)       (None, None, None, 10 0                                            \n",
      "____________________________________________________________________________________________________\n",
      "res4e_branch2a (Conv2D)          (None, None, None, 25 262400                                       \n",
      "____________________________________________________________________________________________________\n",
      "bn4e_branch2a (BatchNormalizatio (None, None, None, 25 1024                                         \n",
      "____________________________________________________________________________________________________\n",
      "activation_35 (Activation)       (None, None, None, 25 0                                            \n",
      "____________________________________________________________________________________________________\n",
      "res4e_branch2b (Conv2D)          (None, None, None, 25 590080                                       \n",
      "____________________________________________________________________________________________________\n",
      "bn4e_branch2b (BatchNormalizatio (None, None, None, 25 1024                                         \n",
      "____________________________________________________________________________________________________\n",
      "activation_36 (Activation)       (None, None, None, 25 0                                            \n",
      "____________________________________________________________________________________________________\n",
      "res4e_branch2c (Conv2D)          (None, None, None, 10 263168                                       \n",
      "____________________________________________________________________________________________________\n",
      "bn4e_branch2c (BatchNormalizatio (None, None, None, 10 4096                                         \n",
      "____________________________________________________________________________________________________\n",
      "add_12 (Add)                     (None, None, None, 10 0                                            \n",
      "____________________________________________________________________________________________________\n",
      "activation_37 (Activation)       (None, None, None, 10 0                                            \n",
      "____________________________________________________________________________________________________\n",
      "res4f_branch2a (Conv2D)          (None, None, None, 25 262400                                       \n",
      "____________________________________________________________________________________________________\n",
      "bn4f_branch2a (BatchNormalizatio (None, None, None, 25 1024                                         \n",
      "____________________________________________________________________________________________________\n",
      "activation_38 (Activation)       (None, None, None, 25 0                                            \n",
      "____________________________________________________________________________________________________\n",
      "res4f_branch2b (Conv2D)          (None, None, None, 25 590080                                       \n",
      "____________________________________________________________________________________________________\n",
      "bn4f_branch2b (BatchNormalizatio (None, None, None, 25 1024                                         \n",
      "____________________________________________________________________________________________________\n",
      "activation_39 (Activation)       (None, None, None, 25 0                                            \n",
      "____________________________________________________________________________________________________\n",
      "res4f_branch2c (Conv2D)          (None, None, None, 10 263168                                       \n",
      "____________________________________________________________________________________________________\n",
      "bn4f_branch2c (BatchNormalizatio (None, None, None, 10 4096                                         \n",
      "____________________________________________________________________________________________________\n",
      "add_13 (Add)                     (None, None, None, 10 0                                            \n",
      "____________________________________________________________________________________________________\n",
      "activation_40 (Activation)       (None, None, None, 10 0                                            \n",
      "____________________________________________________________________________________________________\n",
      "res5a_branch2a (Conv2D)          (None, None, None, 51 524800                                       \n",
      "____________________________________________________________________________________________________\n",
      "bn5a_branch2a (BatchNormalizatio (None, None, None, 51 2048                                         \n",
      "____________________________________________________________________________________________________\n",
      "activation_41 (Activation)       (None, None, None, 51 0                                            \n",
      "____________________________________________________________________________________________________\n",
      "res5a_branch2b (Conv2D)          (None, None, None, 51 2359808                                      \n",
      "____________________________________________________________________________________________________\n",
      "bn5a_branch2b (BatchNormalizatio (None, None, None, 51 2048                                         \n",
      "____________________________________________________________________________________________________\n",
      "activation_42 (Activation)       (None, None, None, 51 0                                            \n",
      "____________________________________________________________________________________________________\n",
      "res5a_branch2c (Conv2D)          (None, None, None, 20 1050624                                      \n",
      "____________________________________________________________________________________________________\n",
      "res5a_branch1 (Conv2D)           (None, None, None, 20 2099200                                      \n",
      "____________________________________________________________________________________________________\n",
      "bn5a_branch2c (BatchNormalizatio (None, None, None, 20 8192                                         \n",
      "____________________________________________________________________________________________________\n",
      "bn5a_branch1 (BatchNormalization (None, None, None, 20 8192                                         \n",
      "____________________________________________________________________________________________________\n",
      "add_14 (Add)                     (None, None, None, 20 0                                            \n",
      "____________________________________________________________________________________________________\n",
      "activation_43 (Activation)       (None, None, None, 20 0                                            \n",
      "____________________________________________________________________________________________________\n",
      "res5b_branch2a (Conv2D)          (None, None, None, 51 1049088                                      \n",
      "____________________________________________________________________________________________________\n",
      "bn5b_branch2a (BatchNormalizatio (None, None, None, 51 2048                                         \n",
      "____________________________________________________________________________________________________\n",
      "activation_44 (Activation)       (None, None, None, 51 0                                            \n",
      "____________________________________________________________________________________________________\n",
      "res5b_branch2b (Conv2D)          (None, None, None, 51 2359808                                      \n",
      "____________________________________________________________________________________________________\n",
      "bn5b_branch2b (BatchNormalizatio (None, None, None, 51 2048                                         \n",
      "____________________________________________________________________________________________________\n",
      "activation_45 (Activation)       (None, None, None, 51 0                                            \n",
      "____________________________________________________________________________________________________\n",
      "res5b_branch2c (Conv2D)          (None, None, None, 20 1050624                                      \n",
      "____________________________________________________________________________________________________\n",
      "bn5b_branch2c (BatchNormalizatio (None, None, None, 20 8192                                         \n",
      "____________________________________________________________________________________________________\n",
      "add_15 (Add)                     (None, None, None, 20 0                                            \n",
      "____________________________________________________________________________________________________\n",
      "activation_46 (Activation)       (None, None, None, 20 0                                            \n",
      "____________________________________________________________________________________________________\n",
      "res5c_branch2a (Conv2D)          (None, None, None, 51 1049088                                      \n",
      "____________________________________________________________________________________________________\n",
      "bn5c_branch2a (BatchNormalizatio (None, None, None, 51 2048                                         \n",
      "____________________________________________________________________________________________________\n",
      "activation_47 (Activation)       (None, None, None, 51 0                                            \n",
      "____________________________________________________________________________________________________\n",
      "res5c_branch2b (Conv2D)          (None, None, None, 51 2359808                                      \n",
      "____________________________________________________________________________________________________\n",
      "bn5c_branch2b (BatchNormalizatio (None, None, None, 51 2048                                         \n",
      "____________________________________________________________________________________________________\n",
      "activation_48 (Activation)       (None, None, None, 51 0                                            \n",
      "____________________________________________________________________________________________________\n",
      "res5c_branch2c (Conv2D)          (None, None, None, 20 1050624                                      \n",
      "____________________________________________________________________________________________________\n",
      "bn5c_branch2c (BatchNormalizatio (None, None, None, 20 8192                                         \n",
      "____________________________________________________________________________________________________\n",
      "add_16 (Add)                     (None, None, None, 20 0                                            \n",
      "____________________________________________________________________________________________________\n",
      "activation_49 (Activation)       (None, None, None, 20 0                                            \n",
      "____________________________________________________________________________________________________\n",
      "avg_pool (AveragePooling2D)      (None, None, None, 20 0                                            \n",
      "====================================================================================================\n",
      "Total params: 23,587,712\n",
      "Trainable params: 23,534,592\n",
      "Non-trainable params: 53,120\n",
      "____________________________________________________________________________________________________\n"
     ]
    }
   ],
   "source": [
    "resnet_base.summary()\n"
   ]
  },
  {
   "cell_type": "code",
   "execution_count": 100,
   "metadata": {},
   "outputs": [
    {
     "name": "stdout",
     "output_type": "stream",
     "text": [
      "_________________________________________________________________\n",
      "Layer (type)                 Output Shape              Param #   \n",
      "=================================================================\n",
      "input_3 (InputLayer)         (None, None, None, 3)     0         \n",
      "_________________________________________________________________\n",
      "block1_conv1 (Conv2D)        (None, None, None, 64)    1792      \n",
      "_________________________________________________________________\n",
      "block1_conv2 (Conv2D)        (None, None, None, 64)    36928     \n",
      "_________________________________________________________________\n",
      "block1_pool (MaxPooling2D)   (None, None, None, 64)    0         \n",
      "_________________________________________________________________\n",
      "block2_conv1 (Conv2D)        (None, None, None, 128)   73856     \n",
      "_________________________________________________________________\n",
      "block2_conv2 (Conv2D)        (None, None, None, 128)   147584    \n",
      "_________________________________________________________________\n",
      "block2_pool (MaxPooling2D)   (None, None, None, 128)   0         \n",
      "_________________________________________________________________\n",
      "block3_conv1 (Conv2D)        (None, None, None, 256)   295168    \n",
      "_________________________________________________________________\n",
      "block3_conv2 (Conv2D)        (None, None, None, 256)   590080    \n",
      "_________________________________________________________________\n",
      "block3_conv3 (Conv2D)        (None, None, None, 256)   590080    \n",
      "_________________________________________________________________\n",
      "block3_pool (MaxPooling2D)   (None, None, None, 256)   0         \n",
      "_________________________________________________________________\n",
      "block4_conv1 (Conv2D)        (None, None, None, 512)   1180160   \n",
      "_________________________________________________________________\n",
      "block4_conv2 (Conv2D)        (None, None, None, 512)   2359808   \n",
      "_________________________________________________________________\n",
      "block4_conv3 (Conv2D)        (None, None, None, 512)   2359808   \n",
      "_________________________________________________________________\n",
      "block4_pool (MaxPooling2D)   (None, None, None, 512)   0         \n",
      "_________________________________________________________________\n",
      "block5_conv1 (Conv2D)        (None, None, None, 512)   2359808   \n",
      "_________________________________________________________________\n",
      "block5_conv2 (Conv2D)        (None, None, None, 512)   2359808   \n",
      "_________________________________________________________________\n",
      "block5_conv3 (Conv2D)        (None, None, None, 512)   2359808   \n",
      "_________________________________________________________________\n",
      "block5_pool (MaxPooling2D)   (None, None, None, 512)   0         \n",
      "=================================================================\n",
      "Total params: 14,714,688\n",
      "Trainable params: 14,714,688\n",
      "Non-trainable params: 0\n",
      "_________________________________________________________________\n"
     ]
    }
   ],
   "source": [
    "model.summary()"
   ]
  },
  {
   "cell_type": "code",
   "execution_count": null,
   "metadata": {
    "collapsed": true
   },
   "outputs": [],
   "source": []
  }
 ],
 "metadata": {
  "kernelspec": {
   "display_name": "Python 2",
   "language": "python",
   "name": "python2"
  },
  "language_info": {
   "codemirror_mode": {
    "name": "ipython",
    "version": 2
   },
   "file_extension": ".py",
   "mimetype": "text/x-python",
   "name": "python",
   "nbconvert_exporter": "python",
   "pygments_lexer": "ipython2",
   "version": "2.7.6"
  }
 },
 "nbformat": 4,
 "nbformat_minor": 2
}
