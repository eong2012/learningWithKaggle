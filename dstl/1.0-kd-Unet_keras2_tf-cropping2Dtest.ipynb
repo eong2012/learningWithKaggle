{
 "cells": [
  {
   "cell_type": "code",
   "execution_count": 1,
   "metadata": {},
   "outputs": [
    {
     "name": "stderr",
     "output_type": "stream",
     "text": [
      "Using TensorFlow backend.\n"
     ]
    },
    {
     "name": "stdout",
     "output_type": "stream",
     "text": [
      "2.0.5\n"
     ]
    }
   ],
   "source": [
    "import matplotlib.pyplot as plt\n",
    "import numpy as np\n",
    "import cv2\n",
    "import pandas as pd\n",
    "from shapely.wkt import loads as wkt_loads\n",
    "import tifffile as tiff\n",
    "import os\n",
    "import random\n",
    "from keras.models import Model\n",
    "from keras.layers import Input, concatenate, Conv2D, MaxPooling2D, Conv2DTranspose, Cropping2D\n",
    "from keras.optimizers import Adam\n",
    "from keras.callbacks import ModelCheckpoint, LearningRateScheduler\n",
    "from keras import backend as K\n",
    "from sklearn.metrics import jaccard_similarity_score\n",
    "from shapely.geometry import MultiPolygon, Polygon\n",
    "import shapely.wkt\n",
    "import shapely.affinity\n",
    "from collections import defaultdict\n",
    "\n",
    "from keras import __version__\n",
    "print(__version__)"
   ]
  },
  {
   "cell_type": "code",
   "execution_count": 2,
   "metadata": {
    "collapsed": true
   },
   "outputs": [],
   "source": [
    "K.set_image_data_format('channels_first')\n"
   ]
  },
  {
   "cell_type": "code",
   "execution_count": 3,
   "metadata": {
    "collapsed": true
   },
   "outputs": [],
   "source": [
    "N_Cls = 10\n",
    "inDir = '/home/ubuntu/data/dstl'\n",
    "DF = pd.read_csv(inDir + '/train_wkt_v4.csv')\n",
    "GS = pd.read_csv(inDir + '/grid_sizes.csv', names=['ImageId', 'Xmax', 'Ymin'], skiprows=1)\n",
    "SB = pd.read_csv(os.path.join(inDir, 'sample_submission.csv'))\n",
    "ISZ = 160\n",
    "smooth = 1e-12"
   ]
  },
  {
   "cell_type": "code",
   "execution_count": 4,
   "metadata": {
    "collapsed": true
   },
   "outputs": [],
   "source": [
    "\n",
    "def _convert_coordinates_to_raster(coords, img_size, xymax):\n",
    "    # __author__ = visoft\n",
    "    # https://www.kaggle.com/visoft/dstl-satellite-imagery-feature-detection/export-pixel-wise-mask\n",
    "    Xmax, Ymax = xymax\n",
    "    H, W = img_size\n",
    "    W1 = 1.0 * W * W / (W + 1)\n",
    "    H1 = 1.0 * H * H / (H + 1)\n",
    "    xf = W1 / Xmax\n",
    "    yf = H1 / Ymax\n",
    "    coords[:, 1] *= yf\n",
    "    coords[:, 0] *= xf\n",
    "    coords_int = np.round(coords).astype(np.int32)\n",
    "    return coords_int\n",
    "\n",
    "\n",
    "def _get_xmax_ymin(grid_sizes_panda, imageId):\n",
    "    # __author__ = visoft\n",
    "    # https://www.kaggle.com/visoft/dstl-satellite-imagery-feature-detection/export-pixel-wise-mask\n",
    "    xmax, ymin = grid_sizes_panda[grid_sizes_panda.ImageId == imageId].iloc[0, 1:].astype(float)\n",
    "    return (xmax, ymin)\n",
    "\n",
    "\n",
    "def _get_polygon_list(wkt_list_pandas, imageId, cType):\n",
    "    # __author__ = visoft\n",
    "    # https://www.kaggle.com/visoft/dstl-satellite-imagery-feature-detection/export-pixel-wise-mask\n",
    "    df_image = wkt_list_pandas[wkt_list_pandas.ImageId == imageId]\n",
    "    multipoly_def = df_image[df_image.ClassType == cType].MultipolygonWKT\n",
    "    polygonList = None\n",
    "    if len(multipoly_def) > 0:\n",
    "        assert len(multipoly_def) == 1\n",
    "        polygonList = wkt_loads(multipoly_def.values[0])\n",
    "    return polygonList\n",
    "\n",
    "\n",
    "def _get_and_convert_contours(polygonList, raster_img_size, xymax):\n",
    "    # __author__ = visoft\n",
    "    # https://www.kaggle.com/visoft/dstl-satellite-imagery-feature-detection/export-pixel-wise-mask\n",
    "    perim_list = []\n",
    "    interior_list = []\n",
    "    if polygonList is None:\n",
    "        return None\n",
    "    for k in range(len(polygonList)):\n",
    "        poly = polygonList[k]\n",
    "        perim = np.array(list(poly.exterior.coords))\n",
    "        perim_c = _convert_coordinates_to_raster(perim, raster_img_size, xymax)\n",
    "        perim_list.append(perim_c)\n",
    "        for pi in poly.interiors:\n",
    "            interior = np.array(list(pi.coords))\n",
    "            interior_c = _convert_coordinates_to_raster(interior, raster_img_size, xymax)\n",
    "            interior_list.append(interior_c)\n",
    "    return perim_list, interior_list\n",
    "\n",
    "\n",
    "def _plot_mask_from_contours(raster_img_size, contours, class_value=1):\n",
    "    # __author__ = visoft\n",
    "    # https://www.kaggle.com/visoft/dstl-satellite-imagery-feature-detection/export-pixel-wise-mask\n",
    "    img_mask = np.zeros(raster_img_size, np.uint8)\n",
    "    if contours is None:\n",
    "        return img_mask\n",
    "    perim_list, interior_list = contours\n",
    "    cv2.fillPoly(img_mask, perim_list, class_value)\n",
    "    cv2.fillPoly(img_mask, interior_list, 0)\n",
    "    return img_mask\n",
    "\n",
    "\n",
    "def generate_mask_for_image_and_class(raster_size, imageId, class_type, grid_sizes_panda=GS, wkt_list_pandas=DF):\n",
    "    # __author__ = visoft\n",
    "    # https://www.kaggle.com/visoft/dstl-satellite-imagery-feature-detection/export-pixel-wise-mask\n",
    "    xymax = _get_xmax_ymin(grid_sizes_panda, imageId)\n",
    "    polygon_list = _get_polygon_list(wkt_list_pandas, imageId, class_type)\n",
    "    contours = _get_and_convert_contours(polygon_list, raster_size, xymax)\n",
    "    mask = _plot_mask_from_contours(raster_size, contours, 1)\n",
    "    return mask\n",
    "\n",
    "\n",
    "def M(image_id):\n",
    "    # __author__ = amaia\n",
    "    # https://www.kaggle.com/aamaia/dstl-satellite-imagery-feature-detection/rgb-using-m-bands-example\n",
    "    filename = os.path.join(inDir, 'sixteen_band', '{}_M.tif'.format(image_id))\n",
    "    img = tiff.imread(filename)\n",
    "    img = np.rollaxis(img, 0, 3)\n",
    "    img = cv2.resize(img, (835, 835)) \n",
    "    return img\n",
    "\n",
    "# def A(image_id):\n",
    "#     filename = os.path.join(inDir, 'sixteen_band', '{}_A.tif'.format(image_id))\n",
    "#     img = tiff.imread(filename)\n",
    "#     img = np.rollaxis(img, 0, 3)    \n",
    "#     return img\n",
    "\n",
    "def P(image_id):\n",
    "    filename = os.path.join(inDir, 'sixteen_band', '{}_P.tif'.format(image_id))\n",
    "    img = tiff.imread(filename) \n",
    "    img = cv2.resize(img, (835, 835))\n",
    "    return img\n",
    "\n",
    "# def RGB(image_id):\n",
    "#     filename = os.path.join(inDir, 'three_band', '{}.tif'.format(image_id))\n",
    "#     img = tiff.imread(filename)\n",
    "#     img = np.rollaxis(img, 0, 3)    \n",
    "#     return img\n",
    "\n",
    "\n",
    "    \n",
    "\n",
    "def stretch_n(bands, lower_percent=5, higher_percent=95):\n",
    "    # added if to deal with P band which has only 1 layer\n",
    "    if len(bands.shape) < 3: \n",
    "        bands = np.expand_dims(bands, axis=3) \n",
    "    out = np.zeros_like(bands).astype(np.float32)\n",
    "    n = bands.shape[2]\n",
    "    for i in range(n):\n",
    "        a = 0  # np.min(band)\n",
    "        b = 1  # np.max(band)\n",
    "        c = np.percentile(bands[:, :, i], lower_percent)\n",
    "        d = np.percentile(bands[:, :, i], higher_percent)\n",
    "        t = a + (bands[:, :, i] - c) * (b - a) / (d - c)\n",
    "        t[t < a] = a\n",
    "        t[t > b] = b\n",
    "        out[:, :, i] = t\n",
    "\n",
    "    return out.astype(np.float32)\n",
    "\n",
    "\n",
    "def jaccard_coef(y_true, y_pred):\n",
    "    # __author__ = Vladimir Iglovikov\n",
    "    intersection = K.sum(y_true * y_pred, axis=[0, -1, -2])\n",
    "    sum_ = K.sum(y_true + y_pred, axis=[0, -1, -2])\n",
    "\n",
    "    jac = (intersection + smooth) / (sum_ - intersection + smooth)\n",
    "\n",
    "    return K.mean(jac)\n",
    "\n",
    "\n",
    "def jaccard_coef_int(y_true, y_pred):\n",
    "    # __author__ = Vladimir Iglovikov\n",
    "    y_pred_pos = K.round(K.clip(y_pred, 0, 1))\n",
    "\n",
    "    intersection = K.sum(y_true * y_pred_pos, axis=[0, -1, -2])\n",
    "    sum_ = K.sum(y_true + y_pred, axis=[0, -1, -2])\n",
    "    jac = (intersection + smooth) / (sum_ - intersection + smooth)\n",
    "    return K.mean(jac)\n",
    "\n",
    "\n",
    "def stick_all_train():\n",
    "    print \"let's stick all imgs together\"\n",
    "    s = 835\n",
    "\n",
    "    x = np.zeros((5 * s, 5 * s, 9))\n",
    "    y = np.zeros((5 * s, 5 * s, N_Cls))\n",
    "\n",
    "    ids = sorted(DF.ImageId.unique())\n",
    "    print len(ids)\n",
    "    for i in range(5):\n",
    "        for j in range(5):\n",
    "            id = ids[5 * i + j]\n",
    "\n",
    "            img_M = M(id)\n",
    "            img_P = np.expand_dims(P(id), axis=3)\n",
    "            img = np.append(img_P, img_M, axis=2)\n",
    "#             img = M(id)\n",
    "            img = stretch_n(img)\n",
    "            print img.shape, id, np.amax(img), np.amin(img)\n",
    "            x[s * i:s * i + s, s * j:s * j + s, :] = img[:s, :s, :]\n",
    "            for z in range(N_Cls):\n",
    "                y[s * i:s * i + s, s * j:s * j + s, z] = generate_mask_for_image_and_class(\n",
    "                    (img.shape[0], img.shape[1]), id, z + 1)[:s, :s]\n",
    "\n",
    "    print np.amax(y), np.amin(y)\n",
    "\n",
    "    np.save(inDir + '/data/x_trn_%d' % N_Cls, x)\n",
    "    np.save(inDir + '/data/y_trn_%d' % N_Cls, y)\n",
    "\n",
    "    \n",
    "def get_patches(img, msk, amt=10000, aug=True):\n",
    "    is2 = int(1.0 * ISZ)\n",
    "    xm, ym = img.shape[0] - is2, img.shape[1] - is2\n",
    "\n",
    "    x, y = [], []\n",
    "\n",
    "    tr = [0.4, 0.1, 0.1, 0.15, 0.3, 0.95, 0.1, 0.05, 0.001, 0.005]\n",
    "    for i in range(amt):\n",
    "        xc = random.randint(0, xm)\n",
    "        yc = random.randint(0, ym)\n",
    "\n",
    "        im = img[xc:xc + is2, yc:yc + is2]\n",
    "        ms = msk[xc:xc + is2, yc:yc + is2]\n",
    "\n",
    "        for j in range(N_Cls):\n",
    "            sm = np.sum(ms[:, :, j])\n",
    "            if 1.0 * sm / is2 ** 2 > tr[j]:\n",
    "                if aug:\n",
    "                    if random.uniform(0, 1) > 0.5:\n",
    "                        im = im[::-1]\n",
    "                        ms = ms[::-1]\n",
    "                    if random.uniform(0, 1) > 0.5:\n",
    "                        im = im[:, ::-1]\n",
    "                        ms = ms[:, ::-1]\n",
    "\n",
    "                x.append(im)\n",
    "                y.append(ms)\n",
    "\n",
    "    x, y = 2 * np.transpose(x, (0, 3, 1, 2)) - 1, np.transpose(y, (0, 3, 1, 2))\n",
    "    print x.shape, y.shape, np.amax(x), np.amin(x), np.amax(y), np.amin(y)\n",
    "    return x, y\n"
   ]
  },
  {
   "cell_type": "code",
   "execution_count": 5,
   "metadata": {},
   "outputs": [
    {
     "name": "stdout",
     "output_type": "stream",
     "text": [
      "let's stick all imgs together\n",
      "25\n"
     ]
    },
    {
     "name": "stderr",
     "output_type": "stream",
     "text": [
      "/usr/local/lib/python2.7/dist-packages/ipykernel_launcher.py:160: DeprecationWarning: Both axis > a.ndim and axis < -a.ndim - 1 are deprecated and will raise an AxisError in the future.\n"
     ]
    },
    {
     "name": "stdout",
     "output_type": "stream",
     "text": [
      "(835, 835, 9) 6010_1_2 1.0 0.0\n",
      "(835, 835, 9) 6010_4_2 1.0 0.0\n",
      "(835, 835, 9) 6010_4_4 1.0 0.0\n",
      "(835, 835, 9) 6040_1_0 1.0 0.0\n",
      "(835, 835, 9) 6040_1_3 1.0 0.0\n",
      "(835, 835, 9) 6040_2_2 1.0 0.0\n",
      "(835, 835, 9) 6040_4_4 1.0 0.0\n",
      "(835, 835, 9) 6060_2_3 1.0 0.0\n",
      "(835, 835, 9) 6070_2_3 1.0 0.0\n",
      "(835, 835, 9) 6090_2_0 1.0 0.0\n",
      "(835, 835, 9) 6100_1_3 1.0 0.0\n",
      "(835, 835, 9) 6100_2_2 1.0 0.0\n",
      "(835, 835, 9) 6100_2_3 1.0 0.0\n",
      "(835, 835, 9) 6110_1_2 1.0 0.0\n",
      "(835, 835, 9) 6110_3_1 1.0 0.0\n",
      "(835, 835, 9) 6110_4_0 1.0 0.0\n",
      "(835, 835, 9) 6120_2_0 1.0 0.0\n",
      "(835, 835, 9) 6120_2_2 1.0 0.0\n",
      "(835, 835, 9) 6140_1_2 1.0 0.0\n",
      "(835, 835, 9) 6140_3_1 1.0 0.0\n",
      "(835, 835, 9) 6150_2_3 1.0 0.0\n",
      "(835, 835, 9) 6160_2_1 1.0 0.0\n",
      "(835, 835, 9) 6170_0_4 1.0 0.0\n",
      "(835, 835, 9) 6170_2_4 1.0 0.0\n",
      "(835, 835, 9) 6170_4_1 1.0 0.0\n",
      "1.0 0.0\n"
     ]
    }
   ],
   "source": [
    "stick_all_train()"
   ]
  },
  {
   "cell_type": "code",
   "execution_count": 6,
   "metadata": {
    "collapsed": true
   },
   "outputs": [],
   "source": [
    "def make_val():\n",
    "    print \"let's pick some samples for validation\"\n",
    "    img = np.load(inDir + '/data/x_trn_%d.npy' % N_Cls)\n",
    "    msk = np.load(inDir + '/data/y_trn_%d.npy' % N_Cls)\n",
    "    x, y = get_patches(img, msk, amt=5000)\n",
    "\n",
    "    np.save(inDir + '/data/x_tmp_%d' % N_Cls, x)\n",
    "    np.save(inDir + '/data/y_tmp_%d' % N_Cls, y)"
   ]
  },
  {
   "cell_type": "code",
   "execution_count": 7,
   "metadata": {},
   "outputs": [
    {
     "name": "stdout",
     "output_type": "stream",
     "text": [
      "let's pick some samples for validation\n",
      "(1691, 9, 160, 160) (1691, 10, 160, 160) 1.0 -1.0 1.0 0.0\n"
     ]
    }
   ],
   "source": [
    "make_val()"
   ]
  },
  {
   "cell_type": "code",
   "execution_count": 11,
   "metadata": {},
   "outputs": [
    {
     "name": "stdout",
     "output_type": "stream",
     "text": [
      "\n"
     ]
    }
   ],
   "source": [
    "\n",
    "def get_unet():\n",
    "    inputs = Input((9, ISZ, ISZ))\n",
    "    conv1 = Conv2D(32, (3, 3), activation='relu', padding='same')(inputs)\n",
    "#     crop1 = Cropping2D(cropping=((16, 16), (16, 16)))(conv1)\n",
    "    conv1 = Conv2D(32, (3, 3), activation='relu', padding='same')(conv1)\n",
    "    pool1 = MaxPooling2D(pool_size=(2, 2))(conv1)\n",
    "\n",
    "    conv2 = Conv2D(64, (3, 3), activation='relu', padding='same')(pool1)\n",
    "    conv2 = Conv2D(64, (3, 3), activation='relu', padding='same')(conv2)\n",
    "    pool2 = MaxPooling2D(pool_size=(2, 2))(conv2)\n",
    "\n",
    "    conv3 = Conv2D(128, (3, 3), activation='relu', padding='same')(pool2)\n",
    "    conv3 = Conv2D(128, (3, 3), activation='relu', padding='same')(conv3)\n",
    "    pool3 = MaxPooling2D(pool_size=(2, 2))(conv3)\n",
    "\n",
    "    conv4 = Conv2D(256, (3, 3), activation='relu', padding='same')(pool3)\n",
    "    conv4 = Conv2D(256, (3, 3), activation='relu', padding='same')(conv4)\n",
    "    pool4 = MaxPooling2D(pool_size=(2, 2))(conv4)\n",
    "\n",
    "    conv5 = Conv2D(512, (3, 3), activation='relu', padding='same')(pool4)\n",
    "    conv5 = Conv2D(512, (3, 3), activation='relu', padding='same')(conv5)\n",
    "\n",
    "    up6 = concatenate([Conv2DTranspose(256, (2, 2), strides=(2, 2), padding='same')(conv5), conv4], axis=1)\n",
    "    conv6 = Conv2D(256, (3, 3), activation='relu', padding='same')(up6)\n",
    "    conv6 = Conv2D(256, (3, 3), activation='relu', padding='same')(conv6)\n",
    "\n",
    "    up7 = concatenate([Conv2DTranspose(128, (2, 2), strides=(2, 2), padding='same')(conv6), conv3], axis=1)\n",
    "    conv7 = Conv2D(128, (3, 3), activation='relu', padding='same')(up7)\n",
    "    conv7 = Conv2D(128, (3, 3), activation='relu', padding='same')(conv7)\n",
    "\n",
    "    up8 = concatenate([Conv2DTranspose(64, (2, 2), strides=(2, 2), padding='same')(conv7), conv2], axis=1)\n",
    "    conv8 = Conv2D(64, (3, 3), activation='relu', padding='same')(up8)\n",
    "    conv8 = Conv2D(64, (3, 3), activation='relu', padding='same')(conv8)\n",
    "\n",
    "    up9 = concatenate([Conv2DTranspose(32, (2, 2), strides=(2, 2), padding='same')(conv8), conv1], axis=1)\n",
    "    conv9 = Conv2D(32, (3, 3), activation='relu', padding='same')(up9)\n",
    "    conv9 = Conv2D(32, (3, 3), activation='relu', padding='same')(conv9)\n",
    "    conv9 = Cropping2D([(5, 5), (5, 5)], data_format='channels_first')(conv9)\n",
    "    \n",
    "    conv10 = Conv2D(N_Cls, (1, 1), activation='sigmoid')(conv9)\n",
    "\n",
    "    model = Model(inputs=[inputs], outputs=[conv10])\n",
    "    model.compile(optimizer=Adam(), loss='binary_crossentropy', metrics=[jaccard_coef, jaccard_coef_int, 'accuracy'])\n",
    "    return model\n",
    "\n",
    "\n",
    "def calc_jacc(model):\n",
    "    img = np.load(inDir + '/data/x_tmp_%d.npy' % N_Cls)\n",
    "    msk = np.load(inDir + '/data/y_tmp_%d.npy' % N_Cls)\n",
    "\n",
    "    prd = model.predict(img, batch_size=4)\n",
    "    print prd.shape, msk.shape\n",
    "    avg, trs = [], []\n",
    "\n",
    "    for i in range(N_Cls):\n",
    "        t_msk = msk[:, i, :, :]\n",
    "        t_prd = prd[:, i, :, :]\n",
    "        t_msk = t_msk.reshape(msk.shape[0] * msk.shape[2], msk.shape[3])\n",
    "        t_prd = t_prd.reshape(msk.shape[0] * msk.shape[2], msk.shape[3])\n",
    "\n",
    "        m, b_tr = 0, 0\n",
    "        for j in range(10):\n",
    "            tr = j / 10.0\n",
    "            pred_binary_mask = t_prd > tr\n",
    "\n",
    "            jk = jaccard_similarity_score(t_msk, pred_binary_mask)\n",
    "            if jk > m:\n",
    "                m = jk\n",
    "                b_tr = tr\n",
    "        print i, m, b_tr\n",
    "        avg.append(m)\n",
    "        trs.append(b_tr)\n",
    "\n",
    "    score = sum(avg) / 10.0\n",
    "    return score, trs\n",
    "\n",
    "\n",
    "def mask_for_polygons(polygons, im_size):\n",
    "    # __author__ = Konstantin Lopuhin\n",
    "    # https://www.kaggle.com/lopuhin/dstl-satellite-imagery-feature-detection/full-pipeline-demo-poly-pixels-ml-poly\n",
    "    img_mask = np.zeros(im_size, np.uint8)\n",
    "    if not polygons:\n",
    "        return img_mask\n",
    "    int_coords = lambda x: np.array(x).round().astype(np.int32)\n",
    "    exteriors = [int_coords(poly.exterior.coords) for poly in polygons]\n",
    "    interiors = [int_coords(pi.coords) for poly in polygons\n",
    "                 for pi in poly.interiors]\n",
    "    cv2.fillPoly(img_mask, exteriors, 1)\n",
    "    cv2.fillPoly(img_mask, interiors, 0)\n",
    "    return img_mask\n",
    "\n",
    "\n",
    "def mask_to_polygons(mask, epsilon=5, min_area=1.):\n",
    "    # __author__ = Konstantin Lopuhin\n",
    "    # https://www.kaggle.com/lopuhin/dstl-satellite-imagery-feature-detection/full-pipeline-demo-poly-pixels-ml-poly\n",
    "\n",
    "    # first, find contours with cv2: it's much faster than shapely\n",
    "    image, contours, hierarchy = cv2.findContours(\n",
    "        ((mask == 1) * 255).astype(np.uint8),\n",
    "        cv2.RETR_CCOMP, cv2.CHAIN_APPROX_TC89_KCOS)\n",
    "    # create approximate contours to have reasonable submission size\n",
    "    approx_contours = [cv2.approxPolyDP(cnt, epsilon, True)\n",
    "                       for cnt in contours]\n",
    "    if not contours:\n",
    "        return MultiPolygon()\n",
    "    # now messy stuff to associate parent and child contours\n",
    "    cnt_children = defaultdict(list)\n",
    "    child_contours = set()\n",
    "    assert hierarchy.shape[0] == 1\n",
    "    # http://docs.opencv.org/3.1.0/d9/d8b/tutorial_py_contours_hierarchy.html\n",
    "    for idx, (_, _, _, parent_idx) in enumerate(hierarchy[0]):\n",
    "        if parent_idx != -1:\n",
    "            child_contours.add(idx)\n",
    "            cnt_children[parent_idx].append(approx_contours[idx])\n",
    "    # create actual polygons filtering by area (removes artifacts)\n",
    "    all_polygons = []\n",
    "    for idx, cnt in enumerate(approx_contours):\n",
    "        if idx not in child_contours and cv2.contourArea(cnt) >= min_area:\n",
    "            assert cnt.shape[1] == 1\n",
    "            poly = Polygon(\n",
    "                shell=cnt[:, 0, :],\n",
    "                holes=[c[:, 0, :] for c in cnt_children.get(idx, [])\n",
    "                       if cv2.contourArea(c) >= min_area])\n",
    "            all_polygons.append(poly)\n",
    "    # approximating polygons might have created invalid ones, fix them\n",
    "    all_polygons = MultiPolygon(all_polygons)\n",
    "    if not all_polygons.is_valid:\n",
    "        all_polygons = all_polygons.buffer(0)\n",
    "        # Sometimes buffer() converts a simple Multipolygon to just a Polygon,\n",
    "        # need to keep it a Multi throughout\n",
    "        if all_polygons.type == 'Polygon':\n",
    "            all_polygons = MultiPolygon([all_polygons])\n",
    "    return all_polygons\n",
    "\n",
    "\n",
    "def get_scalers(im_size, x_max, y_min):\n",
    "    # __author__ = Konstantin Lopuhin\n",
    "    # https://www.kaggle.com/lopuhin/dstl-satellite-imagery-feature-detection/full-pipeline-demo-poly-pixels-ml-poly\n",
    "    h, w = im_size  # they are flipped so that mask_for_polygons works correctly\n",
    "    h, w = float(h), float(w)\n",
    "    w_ = 1.0 * w * (w / (w + 1))\n",
    "    h_ = 1.0 * h * (h / (h + 1))\n",
    "    return w_ / x_max, h_ / y_min\n",
    "\n",
    "\n",
    "def train_net():\n",
    "    print \"start train net\"\n",
    "    x_val, y_val = np.load(inDir + '/data/x_tmp_%d.npy' % N_Cls), np.load(inDir + '/data/y_tmp_%d.npy' % N_Cls)\n",
    "    img = np.load(inDir + '/data/x_trn_%d.npy' % N_Cls)\n",
    "    msk = np.load(inDir + '/data/y_trn_%d.npy' % N_Cls)\n",
    "\n",
    "    x_trn, y_trn = get_patches(img, msk)\n",
    "\n",
    "    model = get_unet()\n",
    "    model.load_weights(inDir + '/weights/unet_PandM_jk0.8318')\n",
    "    model_checkpoint = ModelCheckpoint(inDir + '/weights/unet_tmp.hdf5', monitor='loss', save_best_only=True)\n",
    "    for i in range(1):\n",
    "        model.fit(x_trn, y_trn, batch_size=64, epochs=1, verbose=1, shuffle=True,\n",
    "                  callbacks=[model_checkpoint], validation_data=(x_val, y_val))\n",
    "        del x_trn\n",
    "        del y_trn\n",
    "        x_trn, y_trn = get_patches(img, msk)\n",
    "        score, trs = calc_jacc(model)\n",
    "        print 'val jk', score\n",
    "        model.save_weights(inDir + '/weights/unet_PandM_1600_jk%.4f' % score)\n",
    "\n",
    "    return model\n",
    "\n",
    "\n",
    "def predict_id(id, model, trs):\n",
    "    img_M = M(id)\n",
    "    img_P = np.expand_dims(P(id), axis=3)\n",
    "    img = np.append(img_P, img_M, axis=2)\n",
    "#     img = M(id)\n",
    "    x = stretch_n(img)\n",
    "\n",
    "    cnv = np.zeros((960, 960, 9)).astype(np.float32)\n",
    "    prd = np.zeros((N_Cls, 960, 960)).astype(np.float32)\n",
    "    cnv[:img.shape[0], :img.shape[1], :] = x\n",
    "\n",
    "    for i in range(0, 6):\n",
    "        line = []\n",
    "        for j in range(0, 6):\n",
    "            line.append(cnv[i * ISZ:(i + 1) * ISZ, j * ISZ:(j + 1) * ISZ])\n",
    "\n",
    "        x = 2 * np.transpose(line, (0, 3, 1, 2)) - 1\n",
    "        tmp = model.predict(x, batch_size=4)\n",
    "        for j in range(tmp.shape[0]):\n",
    "            prd[:, i * ISZ:(i + 1) * ISZ, j * ISZ:(j + 1) * ISZ] = tmp[j]\n",
    "\n",
    "    # trs = [0.4, 0.1, 0.4, 0.3, 0.3, 0.5, 0.3, 0.6, 0.1, 0.1]\n",
    "    for i in range(N_Cls):\n",
    "        prd[i] = prd[i] > trs[i]\n",
    "\n",
    "    return prd[:, :img.shape[0], :img.shape[1]]\n",
    "\n",
    "\n",
    "def predict_test(model, trs):\n",
    "    print \"predict test\"\n",
    "    for i, id in enumerate(sorted(set(SB['ImageId'].tolist()))):\n",
    "        msk = predict_id(id, model, trs)\n",
    "        np.save(inDir + '/msk/10_%s' % id, msk)\n",
    "        if i % 100 == 0: print i, id\n",
    "\n",
    "\n",
    "def make_submit():\n",
    "    print \"make submission file\"\n",
    "    df = pd.read_csv(os.path.join(inDir, 'sample_submission.csv'))\n",
    "    print df.head()\n",
    "    for idx, row in df.iterrows():\n",
    "        id = row[0]\n",
    "        kls = row[1] - 1\n",
    "\n",
    "        msk = np.load(inDir + '/msk/10_%s.npy' % id)[kls]\n",
    "        pred_polygons = mask_to_polygons(msk)\n",
    "        x_max = GS.loc[GS['ImageId'] == id, 'Xmax'].as_matrix()[0]\n",
    "        y_min = GS.loc[GS['ImageId'] == id, 'Ymin'].as_matrix()[0]\n",
    "\n",
    "        x_scaler, y_scaler = get_scalers(msk.shape, x_max, y_min)\n",
    "\n",
    "        scaled_pred_polygons = shapely.affinity.scale(pred_polygons, xfact=1.0 / x_scaler, yfact=1.0 / y_scaler,\n",
    "                                                      origin=(0, 0, 0))\n",
    "\n",
    "        df.iloc[idx, 2] = shapely.wkt.dumps(scaled_pred_polygons)\n",
    "        if idx % 100 == 0: print idx\n",
    "    print df.head()\n",
    "    df.to_csv(inDir + '/subm/subm_unet_PandM_croplayer.csv', index=False)\n",
    "    return df\n",
    "\n",
    "\n",
    "def check_predict(id='6120_2_3'):\n",
    "    model = get_unet()\n",
    "#     model.load_weights(inDir + '/weights/unet_10_jk0.7878')\n",
    "\n",
    "    msk = predict_id(id, model, [0.4, 0.1, 0.4, 0.3, 0.3, 0.5, 0.3, 0.6, 0.1, 0.1])\n",
    "    img = M(id)\n",
    "\n",
    "    plt.figure()\n",
    "    ax1 = plt.subplot(131)\n",
    "    ax1.set_title('image ID:6120_2_3')\n",
    "    ax1.imshow(img[:, :, 5], cmap=plt.get_cmap('gist_ncar'))\n",
    "    ax2 = plt.subplot(132)\n",
    "    ax2.set_title('predict bldg pixels')\n",
    "    ax2.imshow(msk[0], cmap=plt.get_cmap('gray'))\n",
    "    ax3 = plt.subplot(133)\n",
    "    ax3.set_title('predict bldg polygones')\n",
    "    ax3.imshow(mask_for_polygons(mask_to_polygons(msk[0], epsilon=1), img.shape[:2]), cmap=plt.get_cmap('gray'))\n",
    "\n",
    "    plt.show()\n",
    "\n"
   ]
  },
  {
   "cell_type": "code",
   "execution_count": 12,
   "metadata": {},
   "outputs": [
    {
     "data": {
      "text/plain": [
       "(835, 835)"
      ]
     },
     "execution_count": 12,
     "metadata": {},
     "output_type": "execute_result"
    }
   ],
   "source": [
    "ids = sorted(DF.ImageId.unique())\n",
    "P(ids[0]).shape\n",
    "\n",
    "# making the images bigger crashed kernel"
   ]
  },
  {
   "cell_type": "code",
   "execution_count": 13,
   "metadata": {},
   "outputs": [
    {
     "name": "stdout",
     "output_type": "stream",
     "text": [
      "start train net\n",
      "(3421, 9, 160, 160) (3421, 10, 160, 160) 1.0 -1.0 1.0 0.0\n"
     ]
    },
    {
     "ename": "ValueError",
     "evalue": "Error when checking target: expected conv2d_19 to have shape (None, 10, 150, 150) but got array with shape (3421, 10, 160, 160)",
     "output_type": "error",
     "traceback": [
      "\u001b[0;31m---------------------------------------------------------------------------\u001b[0m",
      "\u001b[0;31mValueError\u001b[0m                                Traceback (most recent call last)",
      "\u001b[0;32m<ipython-input-13-0a6f2aec74ce>\u001b[0m in \u001b[0;36m<module>\u001b[0;34m()\u001b[0m\n\u001b[0;32m----> 1\u001b[0;31m \u001b[0mmodel\u001b[0m \u001b[0;34m=\u001b[0m \u001b[0mtrain_net\u001b[0m\u001b[0;34m(\u001b[0m\u001b[0;34m)\u001b[0m\u001b[0;34m\u001b[0m\u001b[0m\n\u001b[0m",
      "\u001b[0;32m<ipython-input-11-c9065a1623dd>\u001b[0m in \u001b[0;36mtrain_net\u001b[0;34m()\u001b[0m\n\u001b[1;32m    158\u001b[0m     \u001b[0;32mfor\u001b[0m \u001b[0mi\u001b[0m \u001b[0;32min\u001b[0m \u001b[0mrange\u001b[0m\u001b[0;34m(\u001b[0m\u001b[0;36m1\u001b[0m\u001b[0;34m)\u001b[0m\u001b[0;34m:\u001b[0m\u001b[0;34m\u001b[0m\u001b[0m\n\u001b[1;32m    159\u001b[0m         model.fit(x_trn, y_trn, batch_size=64, epochs=1, verbose=1, shuffle=True,\n\u001b[0;32m--> 160\u001b[0;31m                   callbacks=[model_checkpoint], validation_data=(x_val, y_val))\n\u001b[0m\u001b[1;32m    161\u001b[0m         \u001b[0;32mdel\u001b[0m \u001b[0mx_trn\u001b[0m\u001b[0;34m\u001b[0m\u001b[0m\n\u001b[1;32m    162\u001b[0m         \u001b[0;32mdel\u001b[0m \u001b[0my_trn\u001b[0m\u001b[0;34m\u001b[0m\u001b[0m\n",
      "\u001b[0;32m/usr/local/lib/python2.7/dist-packages/keras/engine/training.pyc\u001b[0m in \u001b[0;36mfit\u001b[0;34m(self, x, y, batch_size, epochs, verbose, callbacks, validation_split, validation_data, shuffle, class_weight, sample_weight, initial_epoch, **kwargs)\u001b[0m\n\u001b[1;32m   1433\u001b[0m             \u001b[0mclass_weight\u001b[0m\u001b[0;34m=\u001b[0m\u001b[0mclass_weight\u001b[0m\u001b[0;34m,\u001b[0m\u001b[0;34m\u001b[0m\u001b[0m\n\u001b[1;32m   1434\u001b[0m             \u001b[0mcheck_batch_axis\u001b[0m\u001b[0;34m=\u001b[0m\u001b[0mFalse\u001b[0m\u001b[0;34m,\u001b[0m\u001b[0;34m\u001b[0m\u001b[0m\n\u001b[0;32m-> 1435\u001b[0;31m             batch_size=batch_size)\n\u001b[0m\u001b[1;32m   1436\u001b[0m         \u001b[0;31m# Prepare validation data.\u001b[0m\u001b[0;34m\u001b[0m\u001b[0;34m\u001b[0m\u001b[0m\n\u001b[1;32m   1437\u001b[0m         \u001b[0;32mif\u001b[0m \u001b[0mvalidation_data\u001b[0m\u001b[0;34m:\u001b[0m\u001b[0;34m\u001b[0m\u001b[0m\n",
      "\u001b[0;32m/usr/local/lib/python2.7/dist-packages/keras/engine/training.pyc\u001b[0m in \u001b[0;36m_standardize_user_data\u001b[0;34m(self, x, y, sample_weight, class_weight, check_batch_axis, batch_size)\u001b[0m\n\u001b[1;32m   1313\u001b[0m                                     \u001b[0moutput_shapes\u001b[0m\u001b[0;34m,\u001b[0m\u001b[0;34m\u001b[0m\u001b[0m\n\u001b[1;32m   1314\u001b[0m                                     \u001b[0mcheck_batch_axis\u001b[0m\u001b[0;34m=\u001b[0m\u001b[0mFalse\u001b[0m\u001b[0;34m,\u001b[0m\u001b[0;34m\u001b[0m\u001b[0m\n\u001b[0;32m-> 1315\u001b[0;31m                                     exception_prefix='target')\n\u001b[0m\u001b[1;32m   1316\u001b[0m         sample_weights = _standardize_sample_weights(sample_weight,\n\u001b[1;32m   1317\u001b[0m                                                      self._feed_output_names)\n",
      "\u001b[0;32m/usr/local/lib/python2.7/dist-packages/keras/engine/training.pyc\u001b[0m in \u001b[0;36m_standardize_input_data\u001b[0;34m(data, names, shapes, check_batch_axis, exception_prefix)\u001b[0m\n\u001b[1;32m    137\u001b[0m                             \u001b[0;34m' to have shape '\u001b[0m \u001b[0;34m+\u001b[0m \u001b[0mstr\u001b[0m\u001b[0;34m(\u001b[0m\u001b[0mshapes\u001b[0m\u001b[0;34m[\u001b[0m\u001b[0mi\u001b[0m\u001b[0;34m]\u001b[0m\u001b[0;34m)\u001b[0m \u001b[0;34m+\u001b[0m\u001b[0;34m\u001b[0m\u001b[0m\n\u001b[1;32m    138\u001b[0m                             \u001b[0;34m' but got array with shape '\u001b[0m \u001b[0;34m+\u001b[0m\u001b[0;34m\u001b[0m\u001b[0m\n\u001b[0;32m--> 139\u001b[0;31m                             str(array.shape))\n\u001b[0m\u001b[1;32m    140\u001b[0m     \u001b[0;32mreturn\u001b[0m \u001b[0marrays\u001b[0m\u001b[0;34m\u001b[0m\u001b[0m\n\u001b[1;32m    141\u001b[0m \u001b[0;34m\u001b[0m\u001b[0m\n",
      "\u001b[0;31mValueError\u001b[0m: Error when checking target: expected conv2d_19 to have shape (None, 10, 150, 150) but got array with shape (3421, 10, 160, 160)"
     ]
    }
   ],
   "source": [
    "model = train_net()"
   ]
  },
  {
   "cell_type": "code",
   "execution_count": 11,
   "metadata": {},
   "outputs": [
    {
     "name": "stdout",
     "output_type": "stream",
     "text": [
      "_________________________________________________________________\n",
      "Layer (type)                 Output Shape              Param #   \n",
      "=================================================================\n",
      "input_1 (InputLayer)         (None, 9, 160, 160)       0         \n",
      "_________________________________________________________________\n",
      "conv2d_1 (Conv2D)            (None, 32, 160, 160)      2624      \n",
      "_________________________________________________________________\n",
      "conv2d_2 (Conv2D)            (None, 32, 160, 160)      9248      \n",
      "_________________________________________________________________\n",
      "max_pooling2d_1 (MaxPooling2 (None, 32, 80, 80)        0         \n",
      "_________________________________________________________________\n",
      "conv2d_3 (Conv2D)            (None, 64, 80, 80)        18496     \n",
      "_________________________________________________________________\n",
      "conv2d_4 (Conv2D)            (None, 64, 80, 80)        36928     \n",
      "_________________________________________________________________\n",
      "max_pooling2d_2 (MaxPooling2 (None, 64, 40, 40)        0         \n",
      "_________________________________________________________________\n",
      "conv2d_5 (Conv2D)            (None, 128, 40, 40)       73856     \n",
      "_________________________________________________________________\n",
      "conv2d_6 (Conv2D)            (None, 128, 40, 40)       147584    \n",
      "_________________________________________________________________\n",
      "max_pooling2d_3 (MaxPooling2 (None, 128, 20, 20)       0         \n",
      "_________________________________________________________________\n",
      "conv2d_7 (Conv2D)            (None, 256, 20, 20)       295168    \n",
      "_________________________________________________________________\n",
      "conv2d_8 (Conv2D)            (None, 256, 20, 20)       590080    \n",
      "_________________________________________________________________\n",
      "max_pooling2d_4 (MaxPooling2 (None, 256, 10, 10)       0         \n",
      "_________________________________________________________________\n",
      "conv2d_9 (Conv2D)            (None, 512, 10, 10)       1180160   \n",
      "_________________________________________________________________\n",
      "conv2d_10 (Conv2D)           (None, 512, 10, 10)       2359808   \n",
      "_________________________________________________________________\n",
      "conv2d_transpose_1 (Conv2DTr (None, 256, 20, 20)       524544    \n",
      "_________________________________________________________________\n",
      "concatenate_1 (Concatenate)  (None, 512, 20, 20)       0         \n",
      "_________________________________________________________________\n",
      "conv2d_11 (Conv2D)           (None, 256, 20, 20)       1179904   \n",
      "_________________________________________________________________\n",
      "conv2d_12 (Conv2D)           (None, 256, 20, 20)       590080    \n",
      "_________________________________________________________________\n",
      "conv2d_transpose_2 (Conv2DTr (None, 128, 40, 40)       131200    \n",
      "_________________________________________________________________\n",
      "concatenate_2 (Concatenate)  (None, 256, 40, 40)       0         \n",
      "_________________________________________________________________\n",
      "conv2d_13 (Conv2D)           (None, 128, 40, 40)       295040    \n",
      "_________________________________________________________________\n",
      "conv2d_14 (Conv2D)           (None, 128, 40, 40)       147584    \n",
      "_________________________________________________________________\n",
      "conv2d_transpose_3 (Conv2DTr (None, 64, 80, 80)        32832     \n",
      "_________________________________________________________________\n",
      "concatenate_3 (Concatenate)  (None, 128, 80, 80)       0         \n",
      "_________________________________________________________________\n",
      "conv2d_15 (Conv2D)           (None, 64, 80, 80)        73792     \n",
      "_________________________________________________________________\n",
      "conv2d_16 (Conv2D)           (None, 64, 80, 80)        36928     \n",
      "_________________________________________________________________\n",
      "conv2d_transpose_4 (Conv2DTr (None, 32, 160, 160)      8224      \n",
      "_________________________________________________________________\n",
      "concatenate_4 (Concatenate)  (None, 64, 160, 160)      0         \n",
      "_________________________________________________________________\n",
      "conv2d_17 (Conv2D)           (None, 32, 160, 160)      18464     \n",
      "_________________________________________________________________\n",
      "conv2d_18 (Conv2D)           (None, 32, 160, 160)      9248      \n",
      "_________________________________________________________________\n",
      "conv2d_19 (Conv2D)           (None, 10, 160, 160)      330       \n",
      "=================================================================\n",
      "Total params: 7,762,122\n",
      "Trainable params: 7,762,122\n",
      "Non-trainable params: 0\n",
      "_________________________________________________________________\n"
     ]
    }
   ],
   "source": [
    "model.summary()"
   ]
  },
  {
   "cell_type": "code",
   "execution_count": 16,
   "metadata": {},
   "outputs": [
    {
     "name": "stdout",
     "output_type": "stream",
     "text": [
      "start train net\n",
      "(3572, 9, 160, 160) (3572, 10, 160, 160) 1.0 -1.0 1.0 0.0\n",
      "Train on 3572 samples, validate on 1054 samples\n",
      "Epoch 1/2\n",
      "3572/3572 [==============================] - 350s - loss: 0.0823 - jaccard_coef: 0.2405 - jaccard_coef_int: 0.2330 - acc: 0.9708 - val_loss: 0.0826 - val_jaccard_coef: 0.2369 - val_jaccard_coef_int: 0.2284 - val_acc: 0.9711\n",
      "Epoch 2/2\n",
      "3572/3572 [==============================] - 346s - loss: 0.0702 - jaccard_coef: 0.2815 - jaccard_coef_int: 0.2777 - acc: 0.9750 - val_loss: 0.0666 - val_jaccard_coef: 0.2997 - val_jaccard_coef_int: 0.3093 - val_acc: 0.9759\n",
      "(3597, 9, 160, 160) (3597, 10, 160, 160) 1.0 -1.0 1.0 0.0\n",
      "(1054, 10, 160, 160) (1054, 10, 160, 160)\n",
      "0 0.84526039736 0.4\n",
      "1 0.682942360451 0.2\n",
      "2 0.873292408425 0.5\n",
      "3 0.418100029557 0.2\n",
      "4 0.538577771111 0.4\n",
      "5 0.910134318459 0.6\n",
      "6 0.974764709833 0.5\n",
      "7 0.974012077782 0.5\n",
      "8 0.987090844402 0.2\n",
      "9 0.937233159393 0.3\n",
      "val jk 0.814140807677\n"
     ]
    }
   ],
   "source": [
    "model = train_net()"
   ]
  },
  {
   "cell_type": "code",
   "execution_count": 12,
   "metadata": {},
   "outputs": [
    {
     "name": "stdout",
     "output_type": "stream",
     "text": [
      "(1152, 10, 160, 160) (1152, 10, 160, 160)\n",
      "0 0.86674958484 0.4\n",
      "1 0.732231987847 0.4\n",
      "2 0.868463690503 0.8\n",
      "3 0.560665796097 0.5\n",
      "4 0.519840148961 0.4\n",
      "5 0.857421696638 0.9\n",
      "6 0.973925637859 0.9\n",
      "7 0.978617722978 0.8\n",
      "8 0.990923394097 0.3\n",
      "9 0.969455295139 0.3\n"
     ]
    }
   ],
   "source": [
    "# model = train_net()\n",
    "score, trs = calc_jacc(model)"
   ]
  },
  {
   "cell_type": "code",
   "execution_count": 19,
   "metadata": {},
   "outputs": [
    {
     "name": "stdout",
     "output_type": "stream",
     "text": [
      "predict test\n",
      "0 6010_0_0\n",
      "100 6050_1_0\n",
      "200 6090_1_1\n",
      "300 6130_2_4\n",
      "400 6170_4_0\n"
     ]
    }
   ],
   "source": [
    "predict_test(model, trs)"
   ]
  },
  {
   "cell_type": "code",
   "execution_count": 22,
   "metadata": {},
   "outputs": [
    {
     "name": "stderr",
     "output_type": "stream",
     "text": [
      "Self-intersection at or near point 679.29999999999995 751.29999999999995\n",
      "Self-intersection at or near point 163.24000000000001 308\n"
     ]
    },
    {
     "name": "stdout",
     "output_type": "stream",
     "text": [
      "make submission file\n",
      "    ImageId  ClassType                                    MultipolygonWKT\n",
      "0  6120_2_4          1  POLYGON ((0 0, 0.009188 0, 0.009188 -0.0090399...\n",
      "1  6120_2_4          2  POLYGON ((0 0, 0.009188 0, 0.009188 -0.0090399...\n",
      "2  6120_2_4          3  POLYGON ((0 0, 0.009188 0, 0.009188 -0.0090399...\n",
      "3  6120_2_4          4  POLYGON ((0 0, 0.009188 0, 0.009188 -0.0090399...\n",
      "4  6120_2_4          5  POLYGON ((0 0, 0.009188 0, 0.009188 -0.0090399...\n",
      "0\n"
     ]
    },
    {
     "name": "stderr",
     "output_type": "stream",
     "text": [
      "Self-intersection at or near point 345.36619718309856 632.05633802816897\n",
      "Self-intersection at or near point 834 0\n",
      "Self-intersection at or near point 812.14754098360652 525.47213114754095\n",
      "Self-intersection at or near point 194.18181818181819 570.63636363636363\n",
      "Self-intersection at or near point 162.54794520547946 162.87671232876713\n",
      "Self-intersection at or near point 799.14285714285711 469.28571428571428\n",
      "Self-intersection at or near point 184.14076246334312 65.52785923753666\n",
      "Self-intersection at or near point 830.44604316546759 411.136690647482\n",
      "Self-intersection at or near point 833.375 689.5\n",
      "Self-intersection at or near point 829.61403508771934 700.89122807017543\n",
      "Self-intersection at or near point 824.60000000000002 192.80000000000001\n",
      "Self-intersection at or near point 193.55555555555554 346.84848484848487\n",
      "Self-intersection at or near point 789.6875 455\n",
      "Self-intersection at or near point 513.96284829721367 27.839009287925698\n",
      "Self-intersection at or near point 819.84246575342468 769.26712328767121\n",
      "Self-intersection at or near point 833.5725190839695 584.74809160305347\n",
      "Self-intersection at or near point 496.19999999999999 314.39999999999998\n",
      "Self-intersection at or near point 816.84848484848487 123.46969696969697\n"
     ]
    },
    {
     "name": "stdout",
     "output_type": "stream",
     "text": [
      "100\n"
     ]
    },
    {
     "name": "stderr",
     "output_type": "stream",
     "text": [
      "Self-intersection at or near point 340.58018867924528 14.174528301886792\n",
      "Self-intersection at or near point 831.90322580645159 691.51612903225805\n",
      "Self-intersection at or near point 475.67676767676767 813.93939393939399\n",
      "Self-intersection at or near point 831.32989690721649 519.13402061855675\n",
      "Self-intersection at or near point 588.23913043478262 487.60869565217394\n",
      "Self-intersection at or near point 721.17391304347825 541.21739130434787\n",
      "Self-intersection at or near point 790.19047619047615 337.71428571428572\n",
      "Self-intersection at or near point 486.5625 535.125\n",
      "Self-intersection at or near point 548.56666666666672 565.45000000000005\n",
      "Self-intersection at or near point 737.27692307692303 72.784615384615378\n",
      "Self-intersection at or near point 700.63687150837984 561.49162011173189\n",
      "Self-intersection at or near point 274.4153846153846 315.6307692307692\n",
      "Self-intersection at or near point 284.45161290322579 436.74193548387098\n",
      "Self-intersection at or near point 2 197\n",
      "Self-intersection at or near point 802.58816276202219 431.06905055487056\n",
      "Self-intersection at or near point 804.45291479820628 62.932735426008968\n",
      "Self-intersection at or near point 803.11792452830184 700.94339622641508\n",
      "Self-intersection at or near point 303.36363636363637 2.4545454545454546\n",
      "Self-intersection at or near point 763.9795918367347 391.09523809523807\n",
      "Self-intersection at or near point 783 162\n",
      "Self-intersection at or near point 657.16666666666663 105.16666666666667\n",
      "Self-intersection at or near point 718.11351351351357 643.04432432432429\n"
     ]
    },
    {
     "name": "stdout",
     "output_type": "stream",
     "text": [
      "200\n"
     ]
    },
    {
     "name": "stderr",
     "output_type": "stream",
     "text": [
      "Self-intersection at or near point 828.96858638743458 790.03664921465963\n",
      "Self-intersection at or near point 770.90163934426232 525.1639344262295\n",
      "Self-intersection at or near point 165.59259259259258 153.44444444444446\n",
      "Self-intersection at or near point 821.43202416918427 632.90030211480359\n",
      "Self-intersection at or near point 816.05563282336584 192.19332406119611\n",
      "Self-intersection at or near point 714.60000000000002 635\n",
      "Ring Self-intersection at or near point 811 239\n",
      "Self-intersection at or near point 825.46428571428567 785.53571428571433\n",
      "Self-intersection at or near point 120.47058823529412 777.47058823529414\n",
      "Self-intersection at or near point 823.04958677685954 416.60330578512395\n",
      "Self-intersection at or near point 820.45038167938935 219.34351145038167\n",
      "Self-intersection at or near point 823.8583690987125 151.22746781115879\n",
      "Self-intersection at or near point 802.92139737991272 770.53711790393015\n",
      "Self-intersection at or near point 777.88059701492534 196.044776119403\n",
      "Self-intersection at or near point 799.59459459459458 327.89575289575288\n",
      "Self-intersection at or near point 818.15072463768115 483.65797101449277\n",
      "Self-intersection at or near point 802.92523364485976 431.58878504672896\n",
      "Self-intersection at or near point 829.83739837398377 140.19512195121951\n"
     ]
    },
    {
     "name": "stdout",
     "output_type": "stream",
     "text": [
      "300\n"
     ]
    },
    {
     "name": "stderr",
     "output_type": "stream",
     "text": [
      "Self-intersection at or near point 783.05102040816325 684.70408163265301\n",
      "Self-intersection at or near point 236.84615384615384 234.84615384615384\n",
      "Self-intersection at or near point 714 240\n",
      "Self-intersection at or near point 761.38028169014081 289.25352112676057\n",
      "Self-intersection at or near point 178.29032258064515 7.354838709677419\n",
      "Self-intersection at or near point 714 70.142857142857139\n",
      "Self-intersection at or near point 758.63855421686742 20.325301204819276\n",
      "Self-intersection at or near point 804 661.5\n",
      "Self-intersection at or near point 832.78082191780823 764.94520547945206\n",
      "Self-intersection at or near point 829.38461538461536 419.53846153846155\n",
      "Self-intersection at or near point 691.26086956521738 309.91304347826087\n",
      "Self-intersection at or near point 461.97802197802196 659.4835164835165\n",
      "Self-intersection at or near point 794.16981132075466 343.50943396226415\n",
      "Self-intersection at or near point 697.9757575757576 157.8909090909091\n",
      "Self-intersection at or near point 608.67391304347825 762.81521739130437\n",
      "Self-intersection at or near point 810.38709677419354 574.0322580645161\n",
      "Self-intersection at or near point 793.64285714285711 593\n",
      "Self-intersection at or near point 552.22222222222217 141.66666666666666\n",
      "Self-intersection at or near point 650.72368421052636 333.92105263157896\n",
      "Self-intersection at or near point 781.18320610687022 388.83206106870227\n",
      "Self-intersection at or near point 833.69470404984429 221.61059190031153\n",
      "Self-intersection at or near point 39.428571428571431 266.71428571428572\n",
      "Self-intersection at or near point 359.09923664122135 26.893129770992367\n"
     ]
    },
    {
     "name": "stdout",
     "output_type": "stream",
     "text": [
      "400\n"
     ]
    },
    {
     "name": "stderr",
     "output_type": "stream",
     "text": [
      "Self-intersection at or near point 817.38888888888891 692.66666666666663\n",
      "Self-intersection at or near point 330.08360128617363 717.45337620578778\n",
      "Self-intersection at or near point 826.10909090909092 488.36363636363637\n",
      "Self-intersection at or near point 779.11475409836066 634.22950819672133\n",
      "Self-intersection at or near point 575.26589595375719 725.44508670520236\n",
      "Self-intersection at or near point 236.26315789473685 538.36842105263156\n",
      "Self-intersection at or near point 607.63025210084038 813.96638655462186\n",
      "Self-intersection at or near point 802.29268292682923 14.658536585365853\n",
      "Self-intersection at or near point 764.66666666666663 483\n",
      "Self-intersection at or near point 772.44813278008303 218.76763485477179\n",
      "Self-intersection at or near point 666 482\n",
      "Self-intersection at or near point 655.4545454545455 354.63636363636363\n",
      "Self-intersection at or near point 508.52258064516127 810.75483870967741\n",
      "Self-intersection at or near point 792.82269503546104 582.71631205673759\n",
      "Self-intersection at or near point 817.10526315789468 84.526315789473685\n",
      "Self-intersection at or near point 803.4086021505376 799.77419354838707\n",
      "Self-intersection at or near point 657.16793893129773 19.137404580152673\n",
      "Self-intersection at or near point 770.25925925925924 172.48888888888888\n",
      "Self-intersection at or near point 798.92307692307691 810.07692307692309\n",
      "Self-intersection at or near point 526 802\n"
     ]
    },
    {
     "name": "stdout",
     "output_type": "stream",
     "text": [
      "500\n"
     ]
    },
    {
     "name": "stderr",
     "output_type": "stream",
     "text": [
      "Self-intersection at or near point 814.7954545454545 705.40909090909088\n",
      "Self-intersection at or near point 828.22222222222217 145.66666666666666\n",
      "Self-intersection at or near point 808.60000000000002 483.39999999999998\n",
      "Self-intersection at or near point 732.87096774193549 226.16129032258064\n",
      "Self-intersection at or near point 80.341085271317837 315.89147286821708\n",
      "Self-intersection at or near point 830 759\n",
      "Self-intersection at or near point 815.28571428571433 264.42857142857144\n",
      "Self-intersection at or near point 378.33846153846156 124.81538461538462\n",
      "Self-intersection at or near point 807.61589403973505 116.66887417218543\n",
      "Self-intersection at or near point 465.14024390243901 490.15243902439022\n",
      "Self-intersection at or near point 829.43478260869563 482.95652173913044\n",
      "Self-intersection at or near point 671 18.350000000000001\n",
      "Self-intersection at or near point 831.59398496240601 788.16541353383457\n",
      "Self-intersection at or near point 826.78612716763007 183.15028901734104\n",
      "Self-intersection at or near point 798.78181818181815 199.29090909090908\n",
      "Ring Self-intersection at or near point 828 640\n",
      "Self-intersection at or near point 831.22627737226276 377.83941605839414\n"
     ]
    },
    {
     "name": "stdout",
     "output_type": "stream",
     "text": [
      "600\n"
     ]
    },
    {
     "name": "stderr",
     "output_type": "stream",
     "text": [
      "Self-intersection at or near point 803.04347826086962 301.13043478260869\n",
      "Self-intersection at or near point 779 44.714285714285715\n",
      "Self-intersection at or near point 827.5333333333333 534.38333333333333\n",
      "Self-intersection at or near point 830.49438202247188 27.898876404494381\n",
      "Self-intersection at or near point 833.13966480446925 239.91061452513966\n",
      "Self-intersection at or near point 364.8235294117647 501.35294117647061\n",
      "Self-intersection at or near point 556.19936708860757 495.44303797468353\n",
      "Self-intersection at or near point 585.90721649484533 175.85567010309279\n",
      "Self-intersection at or near point 165.19607843137254 731.9019607843137\n",
      "Self-intersection at or near point 635 386.5\n",
      "Self-intersection at or near point 380.76470588235293 48.058823529411768\n",
      "Self-intersection at or near point 639.11111111111109 431\n",
      "Self-intersection at or near point 483.71428571428572 6.0952380952380949\n",
      "Self-intersection at or near point 761.35294117647061 799.9019607843137\n",
      "Self-intersection at or near point 659.94701986754967 521.57615894039736\n",
      "Self-intersection at or near point 784.53488372093022 198.16279069767441\n",
      "Self-intersection at or near point 802.62831858407083 499.83185840707966\n",
      "Self-intersection at or near point 643.59183673469386 726.83673469387759\n",
      "Self-intersection at or near point 809.12903225806451 112.06451612903226\n"
     ]
    },
    {
     "name": "stdout",
     "output_type": "stream",
     "text": [
      "700\n"
     ]
    },
    {
     "name": "stderr",
     "output_type": "stream",
     "text": [
      "Self-intersection at or near point 820.43478260869563 514.56521739130437\n",
      "Self-intersection at or near point 643.48314606741576 648.49438202247188\n",
      "Self-intersection at or near point 189.04237288135593 376.88135593220341\n",
      "Self-intersection at or near point 785.13989637305701 397.27461139896371\n",
      "Self-intersection at or near point 787 732.47826086956525\n",
      "Self-intersection at or near point 17.051094890510949 540.97080291970804\n",
      "Self-intersection at or near point 727.66083916083915 144.86363636363637\n",
      "Self-intersection at or near point 806.04672897196258 661.75700934579436\n",
      "Self-intersection at or near point 455.86000000000001 233.02000000000001\n",
      "Self-intersection at or near point 664.20779220779218 183.27272727272728\n",
      "Self-intersection at or near point 784.18181818181813 646.27272727272725\n",
      "Self-intersection at or near point 797.43103448275861 332.94827586206895\n",
      "Self-intersection at or near point 722.25 147.25\n",
      "Self-intersection at or near point 830.93478260869563 52.586956521739133\n",
      "Self-intersection at or near point 636.29002320185612 388.93735498839908\n",
      "Ring Self-intersection at or near point 634 793\n",
      "Self-intersection at or near point 237.88888888888889 255.74074074074073\n",
      "Self-intersection at or near point 759.84892086330933 535.38848920863313\n",
      "Self-intersection at or near point 832.8648648648649 16.837837837837839\n",
      "Self-intersection at or near point 388.14516129032256 382.66129032258067\n",
      "Self-intersection at or near point 743.80473372781069 168.85798816568047\n",
      "Self-intersection at or near point 572.68965517241384 474.93103448275861\n",
      "Self-intersection at or near point 773.84571428571428 716.91428571428571\n",
      "Ring Self-intersection at or near point 701 697\n",
      "Self-intersection at or near point 833.23021582733816 70.24460431654677\n",
      "Self-intersection at or near point 830 626.88888888888891\n",
      "Self-intersection at or near point 584.0526315789474 153.89473684210526\n"
     ]
    },
    {
     "name": "stdout",
     "output_type": "stream",
     "text": [
      "800\n"
     ]
    },
    {
     "name": "stderr",
     "output_type": "stream",
     "text": [
      "Self-intersection at or near point 659.41095890410963 818.35616438356169\n",
      "Self-intersection at or near point 644.6708860759494 483.45569620253167\n",
      "Self-intersection at or near point 160.87096774193549 76.870967741935488\n",
      "Self-intersection at or near point 636.55639097744358 731.64661654135341\n",
      "Self-intersection at or near point 771.91304347826087 9.2608695652173907\n",
      "Self-intersection at or near point 546.16666666666663 101.16666666666667\n",
      "Self-intersection at or near point 730.51612903225805 787.83870967741939\n",
      "Self-intersection at or near point 606.80568720379142 624.4502369668246\n",
      "Self-intersection at or near point 644.0510510510511 402.73573573573572\n",
      "Self-intersection at or near point 695.05672268907563 831.3760504201681\n",
      "Self-intersection at or near point 817.13043478260875 462.73913043478262\n",
      "Self-intersection at or near point 474.65040650406502 732.78861788617883\n",
      "Self-intersection at or near point 650.33962264150944 597.20754716981128\n",
      "Self-intersection at or near point 826.79710144927537 524.1159420289855\n",
      "Self-intersection at or near point 694.70526315789471 519.36842105263156\n",
      "Self-intersection at or near point 703.63614457831329 462.96144578313255\n",
      "Self-intersection at or near point 776.23821339950371 12.488833746898264\n",
      "Self-intersection at or near point 561.17647058823525 322.23529411764707\n",
      "Self-intersection at or near point 692.42857142857144 499.42857142857144\n",
      "Self-intersection at or near point 716.45000000000005 47.049999999999997\n",
      "Self-intersection at or near point 796.98773006134968 21.239263803680981\n",
      "Self-intersection at or near point 473.69158878504675 53.289719626168221\n",
      "Self-intersection at or near point 716.9667405764967 65.086474501108654\n",
      "Ring Self-intersection at or near point 543 407\n",
      "Self-intersection at or near point 761.94594594594594 258.81081081081084\n"
     ]
    },
    {
     "name": "stdout",
     "output_type": "stream",
     "text": [
      "900\n"
     ]
    },
    {
     "name": "stderr",
     "output_type": "stream",
     "text": [
      "Self-intersection at or near point 810.07092198581563 73.950354609929079\n",
      "Self-intersection at or near point 831.5 604.91666666666663\n",
      "Ring Self-intersection at or near point 799 724\n",
      "Self-intersection at or near point 831.27999999999997 433.75999999999999\n",
      "Self-intersection at or near point 690.41052631578953 386.54736842105262\n",
      "Self-intersection at or near point 2.8712121212121211 24.833333333333336\n",
      "Self-intersection at or near point 729.23333333333335 816.17777777777781\n",
      "Self-intersection at or near point 806.81578947368416 37.10526315789474\n",
      "Self-intersection at or near point 827.57961783439487 515.41401273885356\n",
      "Self-intersection at or near point 821.47058823529414 827.94117647058829\n",
      "Self-intersection at or near point 832.70967741935488 203\n",
      "Self-intersection at or near point 832.60000000000002 394.39999999999998\n",
      "Self-intersection at or near point 355.79115479115478 162.37592137592137\n",
      "Self-intersection at or near point 815.28846153846155 284.66346153846155\n",
      "Self-intersection at or near point 47.103896103896105 28.11038961038961\n",
      "Self-intersection at or near point 814.92307692307691 313.61538461538464\n",
      "Self-intersection at or near point 763.51351351351354 704.91891891891896\n",
      "Self-intersection at or near point 50.411764705882355 751.88235294117646\n"
     ]
    },
    {
     "name": "stdout",
     "output_type": "stream",
     "text": [
      "1000\n"
     ]
    },
    {
     "name": "stderr",
     "output_type": "stream",
     "text": [
      "Self-intersection at or near point 830.09510086455327 317.7319884726225\n",
      "Self-intersection at or near point 356.69999999999999 802.10000000000002\n",
      "Self-intersection at or near point 605.54999999999995 212.59999999999999\n",
      "Self-intersection at or near point 799.08695652173913 639.95652173913038\n",
      "Self-intersection at or near point 833.47297297297303 31.878378378378379\n",
      "Self-intersection at or near point 776.81927710843377 378.46987951807228\n",
      "Self-intersection at or near point 802.78947368421052 766.89473684210532\n",
      "Self-intersection at or near point 536.80936454849495 482.73578595317724\n",
      "Self-intersection at or near point 829.04310344827582 158.40517241379311\n",
      "Self-intersection at or near point 646.1639344262295 42.081967213114751\n",
      "Self-intersection at or near point 831.78571428571433 511.14285714285717\n",
      "Self-intersection at or near point 156.7037037037037 642.92592592592598\n",
      "Self-intersection at or near point 751.02857142857147 592.48571428571427\n",
      "Self-intersection at or near point 811.17391304347825 571.304347826087\n",
      "Self-intersection at or near point 586.64705882352939 52\n",
      "Self-intersection at or near point 831.59459459459458 689.70270270270271\n",
      "Self-intersection at or near point 515.32258064516134 174.43548387096774\n",
      "Self-intersection at or near point 413.74111675126903 831.2131979695431\n",
      "Self-intersection at or near point 704.11764705882354 27.941176470588236\n",
      "Self-intersection at or near point 51.564705882352939 391.57647058823528\n",
      "Self-intersection at or near point 558.68421052631584 347.68421052631578\n"
     ]
    },
    {
     "name": "stdout",
     "output_type": "stream",
     "text": [
      "1100\n"
     ]
    },
    {
     "name": "stderr",
     "output_type": "stream",
     "text": [
      "Self-intersection at or near point 262.0263157894737 276.88157894736844\n",
      "Self-intersection at or near point 468.875 163\n",
      "Self-intersection at or near point 708.2696629213483 141.6629213483146\n",
      "Self-intersection at or near point 708.02777777777783 508.75\n",
      "Self-intersection at or near point 150.25322997416021 69.914728682170548\n",
      "Self-intersection at or near point 621.65822784810132 418.79746835443041\n",
      "Self-intersection at or near point 688.55662650602414 788.86746987951813\n",
      "Self-intersection at or near point 681.76744186046517 774.34883720930236\n",
      "Self-intersection at or near point 617.25742574257424 338.0792079207921\n",
      "Self-intersection at or near point 283.09876543209879 798.93827160493822\n",
      "Self-intersection at or near point 645.12 782.86000000000001\n",
      "Self-intersection at or near point 403.40909090909093 348.40909090909093\n",
      "Self-intersection at or near point 806.44554455445541 319.9009900990099\n",
      "Self-intersection at or near point 537.94382022471905 434.07865168539325\n",
      "Self-intersection at or near point 219.5 430.33333333333331\n",
      "Self-intersection at or near point 702.91262135922329 533.46601941747576\n",
      "Self-intersection at or near point 684.88709677419354 626.93548387096769\n",
      "Self-intersection at or near point 261.83333333333331 617.97222222222217\n",
      "Self-intersection at or near point 296.77142857142854 87.028571428571425\n",
      "Self-intersection at or near point 773.29411764705878 159.8235294117647\n",
      "Self-intersection at or near point 815.29729729729729 794.25675675675677\n",
      "Self-intersection at or near point 279.86238532110093 66.220183486238525\n",
      "Self-intersection at or near point 626.10344827586209 515.06896551724139\n",
      "Self-intersection at or near point 808.98113207547169 323.07075471698113\n"
     ]
    },
    {
     "name": "stdout",
     "output_type": "stream",
     "text": [
      "1200\n"
     ]
    },
    {
     "name": "stderr",
     "output_type": "stream",
     "text": [
      "Self-intersection at or near point 713.47368421052636 729.52631578947364\n",
      "Self-intersection at or near point 550.77258566978196 637.4080996884735\n",
      "Self-intersection at or near point 799.02481902792135 647.64012409513964\n",
      "Self-intersection at or near point 762.08333333333337 664.08333333333337\n",
      "Self-intersection at or near point 613.19780219780216 156.47802197802199\n",
      "Self-intersection at or near point 572.66894664842687 318.59370725034199\n",
      "Self-intersection at or near point 643.00564971751407 628.94915254237287\n",
      "Self-intersection at or near point 830.13084112149534 380.53644859813085\n",
      "Self-intersection at or near point 128.01408450704224 705.16901408450701\n",
      "Self-intersection at or near point 229.83216783216784 727.4545454545455\n",
      "Self-intersection at or near point 338.6878612716763 206.17341040462426\n",
      "Self-intersection at or near point 552.16867469879514 688.85542168674704\n",
      "Self-intersection at or near point 531.31506849315065 246.16046966731898\n",
      "Self-intersection at or near point 773.4545454545455 205.81818181818181\n",
      "Self-intersection at or near point 3.4801980198019802 482.38613861386136\n",
      "Self-intersection at or near point 616.55999999999995 740.96000000000004\n",
      "Self-intersection at or near point 643.39776951672866 707.82527881040892\n",
      "Self-intersection at or near point 142.06622516556291 820.01324503311264\n",
      "Self-intersection at or near point 699.06751054852316 697.45991561181438\n",
      "Self-intersection at or near point 274.50359712230215 97.60431654676259\n",
      "Self-intersection at or near point 681.17902813299236 554.28132992327369\n",
      "Self-intersection at or near point 800.94827586206895 825.48275862068965\n"
     ]
    },
    {
     "name": "stdout",
     "output_type": "stream",
     "text": [
      "1300\n"
     ]
    },
    {
     "name": "stderr",
     "output_type": "stream",
     "text": [
      "Self-intersection at or near point 818.66666666666663 379.33333333333331\n",
      "Self-intersection at or near point 599.47804878048782 795.38536585365853\n",
      "Self-intersection at or near point 801.2887700534759 823.82352941176475\n",
      "Self-intersection at or near point 423.25 616.375\n",
      "Self-intersection at or near point 738.4545454545455 168.18181818181819\n",
      "Self-intersection at or near point 431.50847457627117 105.54802259887006\n",
      "Self-intersection at or near point 650.08241758241763 425.78571428571428\n",
      "Self-intersection at or near point 732.58415841584156 531.38118811881191\n",
      "Self-intersection at or near point 719.125 168.875\n",
      "Self-intersection at or near point 774.73913043478262 533.26086956521738\n",
      "Self-intersection at or near point 632.39189189189187 638.14864864864865\n",
      "Self-intersection at or near point 482.13114754098359 366.24590163934425\n",
      "Self-intersection at or near point 626.5502958579882 470.44378698224853\n",
      "Self-intersection at or near point 801.14079422382667 103.09747292418773\n",
      "Self-intersection at or near point 816.2155172413793 92.16379310344827\n",
      "Ring Self-intersection at or near point 648 2\n",
      "Self-intersection at or near point 818.57894736842104 231.57894736842104\n",
      "Self-intersection at or near point 590.14741035856571 713.89243027888449\n",
      "Self-intersection at or near point 788.35714285714289 52.714285714285715\n",
      "Self-intersection at or near point 810.5 225\n",
      "Self-intersection at or near point 629.11538461538464 347.88461538461536\n",
      "Self-intersection at or near point 786.06557377049182 380.24590163934425\n",
      "Self-intersection at or near point 567.13651315789468 475.40625\n"
     ]
    },
    {
     "name": "stdout",
     "output_type": "stream",
     "text": [
      "1400\n"
     ]
    },
    {
     "name": "stderr",
     "output_type": "stream",
     "text": [
      "Self-intersection at or near point 768.80941176470583 312.34352941176468\n",
      "Self-intersection at or near point 504.31013916500996 741.8926441351889\n",
      "Self-intersection at or near point 718.22962962962958 165.83703703703705\n",
      "Self-intersection at or near point 757.15929203539827 36.43362831858407\n",
      "Self-intersection at or near point 271.97484276729557 223.1823899371069\n",
      "Self-intersection at or near point 616.92170818505338 637.47330960854094\n",
      "Self-intersection at or near point 734.96296296296293 21.25925925925926\n",
      "Self-intersection at or near point 562.50381679389318 346.90839694656489\n",
      "Self-intersection at or near point 828.12941176470588 498.83529411764704\n",
      "Self-intersection at or near point 804.58921161825731 577.6182572614108\n",
      "Self-intersection at or near point 528.41891891891896 64.445945945945951\n",
      "Self-intersection at or near point 833.06936416184976 582.59537572254339\n",
      "Self-intersection at or near point 793.01156069364163 100.8728323699422\n",
      "Self-intersection at or near point 820.82840236686388 198.63313609467457\n",
      "Self-intersection at or near point 831.48275862068965 547.18965517241384\n",
      "Ring Self-intersection at or near point 821 479\n",
      "Self-intersection at or near point 324.71731008717308 439.84433374844332\n",
      "Self-intersection at or near point 765.60606060606062 308.4141414141414\n",
      "Self-intersection at or near point 696.66359447004606 87.548387096774192\n",
      "Self-intersection at or near point 541.94903339191569 115.2530755711775\n"
     ]
    },
    {
     "name": "stdout",
     "output_type": "stream",
     "text": [
      "1500\n"
     ]
    },
    {
     "name": "stderr",
     "output_type": "stream",
     "text": [
      "Self-intersection at or near point 747.34146341463418 714.31707317073176\n",
      "Self-intersection at or near point 761.76315789473688 335.9736842105263\n",
      "Self-intersection at or near point 793.11619718309862 67.105633802816897\n",
      "Ring Self-intersection at or near point 134 800\n",
      "Self-intersection at or near point 832.04651162790697 568.88372093023258\n",
      "Self-intersection at or near point 832.86301369863008 749.04109589041093\n",
      "Self-intersection at or near point 621.42477876106193 454.10619469026551\n",
      "Self-intersection at or near point 832 505.66666666666669\n",
      "Self-intersection at or near point 695.01369863013701 464.32876712328766\n",
      "Self-intersection at or near point 735.35483870967744 801.70967741935488\n",
      "Self-intersection at or near point 666.35416666666663 804.29166666666663\n",
      "Self-intersection at or near point 832.55924170616117 98.099526066350705\n",
      "Self-intersection at or near point 330.43478260869563 418.6521739130435\n",
      "Self-intersection at or near point 206 431\n",
      "Self-intersection at or near point 684.10294117647061 445.44607843137254\n",
      "Self-intersection at or near point 639.01036269430051 680.27979274611403\n",
      "Self-intersection at or near point 661.33333333333337 228.33333333333334\n",
      "Ring Self-intersection at or near point 789 90\n",
      "Self-intersection at or near point 296.7906976744186 207.81395348837211\n",
      "Self-intersection at or near point 394.77570093457945 35.420560747663551\n"
     ]
    },
    {
     "name": "stdout",
     "output_type": "stream",
     "text": [
      "1600\n"
     ]
    },
    {
     "name": "stderr",
     "output_type": "stream",
     "text": [
      "Self-intersection at or near point 827.27428571428572 425.10857142857145\n",
      "Self-intersection at or near point 481.58163265306121 354.90306122448982\n",
      "Self-intersection at or near point 832.8360655737705 696.98360655737702\n",
      "Self-intersection at or near point 512.7320261437909 471.61568627450981\n",
      "Self-intersection at or near point 20.029850746268657 110.65671641791045\n",
      "Self-intersection at or near point 716.08965517241381 522.07586206896553\n",
      "Self-intersection at or near point 399.17500000000001 581.47500000000002\n",
      "Self-intersection at or near point 516.92640692640691 60.051948051948052\n",
      "Self-intersection at or near point 161.55421686746988 501.95180722891564\n",
      "Self-intersection at or near point 703.91176470588232 288.1764705882353\n",
      "Self-intersection at or near point 643.00657894736844 255.21710526315789\n",
      "Self-intersection at or near point 618.39999999999998 301.80000000000001\n",
      "Self-intersection at or near point 287.14150943396226 153.19811320754718\n",
      "Self-intersection at or near point 760.15789473684208 143.65789473684211\n",
      "Self-intersection at or near point 805.68253968253964 609.01587301587301\n",
      "Self-intersection at or near point 573.5 459.75\n",
      "Self-intersection at or near point 831.70833333333337 134.54166666666666\n",
      "Self-intersection at or near point 795.26345609065152 432.49008498583572\n",
      "Self-intersection at or near point 746.78672985781986 204.3175355450237\n",
      "Self-intersection at or near point 811.84210526315792 173.42105263157896\n",
      "Self-intersection at or near point 652.71052631578948 94.921052631578945\n",
      "Self-intersection at or near point 795.61484098939934 397.21201413427559\n",
      "Self-intersection at or near point 802.53260869565213 23.293478260869566\n"
     ]
    },
    {
     "name": "stdout",
     "output_type": "stream",
     "text": [
      "1700\n"
     ]
    },
    {
     "name": "stderr",
     "output_type": "stream",
     "text": [
      "Self-intersection at or near point 735.8604651162791 253.25581395348837\n",
      "Self-intersection at or near point 831.64999999999998 161.30000000000001\n",
      "Self-intersection at or near point 251.90448343079922 783.81286549707602\n",
      "Self-intersection at or near point 759.79411764705878 51.764705882352942\n",
      "Self-intersection at or near point 714.5454545454545 143.18181818181819\n",
      "Self-intersection at or near point 702.79999999999995 825.20000000000005\n",
      "Self-intersection at or near point 748.68292682926824 531.43902439024396\n",
      "Self-intersection at or near point 601 333.80000000000001\n",
      "Self-intersection at or near point 781.08411214953276 486.18691588785049\n",
      "Self-intersection at or near point 579.6567164179105 408.82089552238807\n",
      "Self-intersection at or near point 176.14917127071823 661.79005524861873\n",
      "Self-intersection at or near point 831.87401574803152 620.61417322834643\n",
      "Self-intersection at or near point 720.02666666666664 364.85333333333335\n",
      "Self-intersection at or near point 806.89130434782612 123.67391304347827\n",
      "Self-intersection at or near point 831.94085603112842 746.18677042801551\n",
      "Self-intersection at or near point 830.49760765550241 14.593301435406698\n",
      "Self-intersection at or near point 779.78481012658233 459.69620253164555\n",
      "Self-intersection at or near point 28.21875 510.84375\n",
      "Self-intersection at or near point 832.51851851851848 615.66666666666663\n",
      "Self-intersection at or near point 471.62842892768077 194.50872817955113\n"
     ]
    },
    {
     "name": "stdout",
     "output_type": "stream",
     "text": [
      "1800\n"
     ]
    },
    {
     "name": "stderr",
     "output_type": "stream",
     "text": [
      "Self-intersection at or near point 832.61089494163423 518.307392996109\n",
      "Self-intersection at or near point 63.473684210526315 41.263157894736842\n",
      "Self-intersection at or near point 820.5 174\n",
      "Self-intersection at or near point 619 124.3\n",
      "Self-intersection at or near point 787.07692307692309 463.84615384615387\n",
      "Self-intersection at or near point 803 520.33333333333337\n",
      "Self-intersection at or near point 817.56756756756761 289.32432432432432\n",
      "Self-intersection at or near point 763.063829787234 120.31914893617021\n",
      "Self-intersection at or near point 764.375 535\n",
      "Self-intersection at or near point 833.43511450381675 802.5419847328244\n",
      "Self-intersection at or near point 321.45636792452831 578.89858490566041\n",
      "Self-intersection at or near point 6.0590163934426231 690.93442622950818\n",
      "Self-intersection at or near point 594.625 454.84375\n",
      "Self-intersection at or near point 260.50381679389312 760.29770992366412\n",
      "Self-intersection at or near point 172 15.199999999999999\n",
      "Self-intersection at or near point 833.17202268431004 248.62192816635161\n",
      "Self-intersection at or near point 327.85245901639342 418.50819672131149\n",
      "Self-intersection at or near point 146.93251533742333 258.67484662576686\n",
      "Self-intersection at or near point 819.5454545454545 819.63636363636363\n",
      "Self-intersection at or near point 772.60000000000002 320.60000000000002\n",
      "Self-intersection at or near point 457.78260869565219 672.86956521739125\n"
     ]
    },
    {
     "name": "stdout",
     "output_type": "stream",
     "text": [
      "1900\n"
     ]
    },
    {
     "name": "stderr",
     "output_type": "stream",
     "text": [
      "Self-intersection at or near point 442.58139534883719 191.37209302325581\n",
      "Self-intersection at or near point 833.07796426637788 185.14889009204114\n",
      "Self-intersection at or near point 281.9655172413793 4.8620689655172411\n",
      "Self-intersection at or near point 816.78048780487802 262.84552845528458\n",
      "Self-intersection at or near point 796.77777777777783 224.66666666666666\n",
      "Self-intersection at or near point 786.77372262773724 323.96715328467155\n",
      "Self-intersection at or near point 689.13861386138615 514.44554455445541\n",
      "Self-intersection at or near point 321.81642512077292 302.62318840579712\n",
      "Self-intersection at or near point 154.95934959349594 90.650406504065046\n",
      "Self-intersection at or near point 643.80609418282552 183.93351800554018\n",
      "Self-intersection at or near point 667.59459459459458 9.8918918918918912\n",
      "Self-intersection at or near point 786.95744680851067 656.57446808510633\n",
      "Self-intersection at or near point 371.35911602209944 18.762430939226519\n",
      "Self-intersection at or near point 680.33333333333337 184.33333333333334\n",
      "Self-intersection at or near point 831.09677419354841 154.32258064516128\n",
      "Self-intersection at or near point 830.33333333333337 786\n",
      "Self-intersection at or near point 818.67889908256882 44.458715596330272\n",
      "Self-intersection at or near point 530.5 701.5\n",
      "Self-intersection at or near point 829.91489361702122 398.93617021276594\n",
      "Self-intersection at or near point 828.375 506.375\n"
     ]
    },
    {
     "name": "stdout",
     "output_type": "stream",
     "text": [
      "2000\n"
     ]
    },
    {
     "name": "stderr",
     "output_type": "stream",
     "text": [
      "Self-intersection at or near point 750.08450704225356 91.464788732394368\n",
      "Self-intersection at or near point 741.60000000000002 778.60000000000002\n",
      "Self-intersection at or near point 822.78365384615381 115.19230769230769\n",
      "Self-intersection at or near point 793.78947368421052 29.859649122807017\n",
      "Self-intersection at or near point 832.10526315789468 173.94736842105263\n",
      "Self-intersection at or near point 723.78571428571433 277.57142857142856\n",
      "Self-intersection at or near point 537.62857142857138 772.14285714285711\n",
      "Self-intersection at or near point 79.555555555555557 803.55555555555554\n",
      "Self-intersection at or near point 743.12524850894636 95.940357852882698\n",
      "Self-intersection at or near point 832.21785334750268 346.53347502656749\n",
      "Self-intersection at or near point 817.35211267605632 44.732394366197184\n",
      "Self-intersection at or near point 830.56485355648533 541.35983263598325\n",
      "Self-intersection at or near point 750.3223684210526 443.2763157894737\n",
      "Self-intersection at or near point 123.23076923076923 599.76923076923072\n",
      "Self-intersection at or near point 808.12903225806451 754.45161290322585\n",
      "Self-intersection at or near point 808.2634730538922 821.88023952095807\n"
     ]
    },
    {
     "name": "stdout",
     "output_type": "stream",
     "text": [
      "2100\n"
     ]
    },
    {
     "name": "stderr",
     "output_type": "stream",
     "text": [
      "Self-intersection at or near point 195.13333333333333 26.066666666666666\n",
      "Self-intersection at or near point 832.41836734693879 138.52551020408163\n",
      "Self-intersection at or near point 670.23809523809518 619.00952380952378\n",
      "Self-intersection at or near point 47.587155963302749 831.97247706422013\n",
      "Self-intersection at or near point 689.07142857142856 452.07142857142856\n",
      "Self-intersection at or near point 824.72307692307697 182.53846153846155\n",
      "Self-intersection at or near point 677.86842105263156 591.07894736842104\n",
      "Self-intersection at or near point 491.94117647058823 731.70588235294122\n",
      "Self-intersection at or near point 833.19261213720313 411.13456464379948\n",
      "Self-intersection at or near point 406.50247524752473 644.13737623762381\n",
      "Self-intersection at or near point 623.03731343283584 616.72014925373139\n",
      "Self-intersection at or near point 828.96000000000004 68.959999999999994\n",
      "Self-intersection at or near point 811 799.51612903225805\n",
      "Self-intersection at or near point 69.980066445182729 298.1129568106312\n",
      "Self-intersection at or near point 824.5 107.59999999999999\n",
      "Self-intersection at or near point 814.4304635761589 814.03311258278143\n",
      "Self-intersection at or near point 390.08333333333331 770.67647058823525\n",
      "Self-intersection at or near point 418.86092715231786 337.19867549668874\n",
      "Self-intersection at or near point 830.07692307692309 298.61538461538464\n",
      "Self-intersection at or near point 831.66666666666663 64\n"
     ]
    },
    {
     "name": "stdout",
     "output_type": "stream",
     "text": [
      "2200\n"
     ]
    },
    {
     "name": "stderr",
     "output_type": "stream",
     "text": [
      "Self-intersection at or near point 806.39999999999998 586.06666666666672\n",
      "Self-intersection at or near point 832.17098039215682 156.33019607843138\n",
      "Ring Self-intersection at or near point 320 9\n",
      "Self-intersection at or near point 828.919540229885 830.39080459770116\n",
      "Ring Self-intersection at or near point 801 201\n",
      "Self-intersection at or near point 831.83369803063454 260.53610503282277\n",
      "Self-intersection at or near point 831.02912621359224 484.252427184466\n",
      "Self-intersection at or near point 277.99172310007526 475.80963130173063\n",
      "Self-intersection at or near point 562.07692307692309 522.76923076923072\n",
      "Self-intersection at or near point 833.32230037236241 701.17914770376501\n",
      "Self-intersection at or near point 815.9859154929577 784.84507042253517\n",
      "Self-intersection at or near point 599.66956521739132 265.61739130434785\n",
      "Self-intersection at or near point 796.60869565217388 169.21739130434781\n",
      "Self-intersection at or near point 171.53125 145.5625\n",
      "Self-intersection at or near point 832.05172413793105 812.68965517241384\n",
      "Self-intersection at or near point 830.02325581395348 528.20930232558135\n",
      "Self-intersection at or near point 761.70469798657723 266.04697986577179\n",
      "Self-intersection at or near point 795.13333333333333 448.80000000000001\n",
      "Self-intersection at or near point 161 542\n"
     ]
    },
    {
     "name": "stdout",
     "output_type": "stream",
     "text": [
      "2300\n"
     ]
    },
    {
     "name": "stderr",
     "output_type": "stream",
     "text": [
      "Self-intersection at or near point 726.18867924528297 6.433962264150944\n",
      "Self-intersection at or near point 832.53125 40.765625\n",
      "Self-intersection at or near point 752.41860465116281 302.11627906976742\n",
      "Self-intersection at or near point 668.38888888888891 799.61728395061732\n",
      "Self-intersection at or near point 210.32432432432432 802.72972972972968\n",
      "Self-intersection at or near point 808.91566265060237 413.10843373493975\n",
      "Self-intersection at or near point 638.75092936802969 784.5947955390335\n",
      "Self-intersection at or near point 636.33333333333337 749.66666666666663\n",
      "Self-intersection at or near point 213.55670103092783 294.92783505154637\n",
      "Self-intersection at or near point 800.01435406698567 437.35885167464113\n",
      "Self-intersection at or near point 89.620689655172413 189.41379310344828\n",
      "Self-intersection at or near point 594.36000000000001 144\n",
      "Self-intersection at or near point 619.33333333333337 260\n",
      "Self-intersection at or near point 718.38071065989845 87.954314720812178\n",
      "Self-intersection at or near point 689.09090909090912 444.09090909090907\n",
      "Self-intersection at or near point 330.79729729729729 270.02702702702703\n",
      "Self-intersection at or near point 599.5454545454545 390.54545454545456\n",
      "Self-intersection at or near point 831.92920353982299 42.938053097345133\n",
      "Self-intersection at or near point 471.7659574468085 276.29787234042556\n",
      "Self-intersection at or near point 812.1532846715329 791.40875912408762\n",
      "Self-intersection at or near point 554.58139534883719 571.25581395348843\n",
      "Self-intersection at or near point 538.34285714285716 212.85714285714286\n",
      "Self-intersection at or near point 756.51948051948057 273.3246753246753\n",
      "Self-intersection at or near point 104.35668789808918 774.49044585987258\n"
     ]
    },
    {
     "name": "stdout",
     "output_type": "stream",
     "text": [
      "2400\n"
     ]
    },
    {
     "name": "stderr",
     "output_type": "stream",
     "text": [
      "Self-intersection at or near point 528.18523489932886 251.06442953020135\n",
      "Self-intersection at or near point 725.80219780219784 312.27472527472526\n",
      "Self-intersection at or near point 793.80141843971626 441.22695035460993\n",
      "Self-intersection at or near point 34.25333333333333 830.06666666666672\n",
      "Self-intersection at or near point 802.41988950276243 625.86740331491717\n",
      "Self-intersection at or near point 620.79999999999995 209.19999999999999\n",
      "Self-intersection at or near point 779.66883116883116 50.922077922077925\n",
      "Self-intersection at or near point 810.88617886178861 197.63414634146341\n",
      "Self-intersection at or near point 481.49350649350652 468.75324675324674\n",
      "Self-intersection at or near point 832.30225080385856 674.81993569131828\n",
      "Self-intersection at or near point 551.85714285714289 686.79999999999995\n",
      "Self-intersection at or near point 23.717948717948719 803.41025641025647\n",
      "Self-intersection at or near point 97.0625 515.0625\n",
      "Self-intersection at or near point 831.60797342192689 110.87375415282392\n",
      "Self-intersection at or near point 522.5 456.75\n",
      "Self-intersection at or near point 759.11471321695763 690.05486284289282\n",
      "Self-intersection at or near point 571.2347826086957 204.59130434782608\n",
      "Self-intersection at or near point 485.69841269841271 391.50793650793651\n",
      "Self-intersection at or near point 797.57391304347823 551.304347826087\n",
      "Self-intersection at or near point 832.4727272727273 243.59999999999999\n"
     ]
    },
    {
     "name": "stdout",
     "output_type": "stream",
     "text": [
      "2500\n"
     ]
    },
    {
     "name": "stderr",
     "output_type": "stream",
     "text": [
      "Self-intersection at or near point 824.15789473684208 405.57894736842104\n",
      "Self-intersection at or near point 833.25065963060683 369.06596306068604\n",
      "Self-intersection at or near point 118.78571428571429 71.714285714285708\n",
      "Self-intersection at or near point 782.08695652173913 552.304347826087\n",
      "Self-intersection at or near point 808.7018633540373 401.81366459627327\n",
      "Self-intersection at or near point 733.87096774193549 79.258064516129025\n",
      "Self-intersection at or near point 564.32627118644064 643.07203389830511\n",
      "Self-intersection at or near point 705.42296072507554 711.16314199395765\n",
      "Self-intersection at or near point 643.0454545454545 457.56818181818181\n",
      "Self-intersection at or near point 822 6.1379310344827589\n",
      "Self-intersection at or near point 738.01918465227823 82.460431654676256\n",
      "Self-intersection at or near point 190.37414965986395 252.55102040816325\n",
      "Self-intersection at or near point 798 564\n",
      "Self-intersection at or near point 516.57983193277312 323.15966386554624\n",
      "Self-intersection at or near point 815.46341463414637 775.04878048780483\n",
      "Self-intersection at or near point 731.07407407407402 284.07407407407408\n",
      "Self-intersection at or near point 383.63414634146341 152.39512195121952\n",
      "Self-intersection at or near point 817.47727272727275 323.43181818181819\n",
      "Self-intersection at or near point 99.135922330097088 324.32524271844659\n"
     ]
    },
    {
     "name": "stdout",
     "output_type": "stream",
     "text": [
      "2600\n"
     ]
    },
    {
     "name": "stderr",
     "output_type": "stream",
     "text": [
      "Self-intersection at or near point 786.95779220779218 13.038961038961039\n",
      "Self-intersection at or near point 768.64545454545453 61.027272727272724\n",
      "Self-intersection at or near point 776.33333333333337 540\n",
      "Self-intersection at or near point 500.23219814241486 159.02476780185759\n",
      "Self-intersection at or near point 798.79574468085104 384.82127659574468\n",
      "Self-intersection at or near point 798.8440366972477 366.10091743119267\n",
      "Self-intersection at or near point 298.0204081632653 812.20408163265301\n",
      "Self-intersection at or near point 706.07476635514024 150.83177570093457\n",
      "Self-intersection at or near point 667.43283582089555 114.22388059701493\n",
      "Self-intersection at or near point 650.62337662337666 120.88311688311688\n",
      "Self-intersection at or near point 832.61325115562408 754.6640986132511\n",
      "Self-intersection at or near point 791.25139664804465 161.43016759776538\n",
      "Self-intersection at or near point 818.23076923076928 229.43956043956044\n",
      "Self-intersection at or near point 802.29363449691994 500.19712525667353\n",
      "Self-intersection at or near point 552.58823529411768 40.529411764705884\n",
      "Self-intersection at or near point 479.10945273631842 610.01492537313436\n",
      "Self-intersection at or near point 588 629.41176470588232\n",
      "Self-intersection at or near point 317.86301369863014 120.65753424657534\n",
      "Self-intersection at or near point 756.08333333333337 540.91666666666663\n",
      "Self-intersection at or near point 567.77419354838707 270.48387096774195\n",
      "Self-intersection at or near point 677.375 434.64999999999998\n",
      "Self-intersection at or near point 139.73333333333332 487.8095238095238\n",
      "Self-intersection at or near point 645.02702702702697 643.09121621621625\n"
     ]
    },
    {
     "name": "stdout",
     "output_type": "stream",
     "text": [
      "2700\n"
     ]
    },
    {
     "name": "stderr",
     "output_type": "stream",
     "text": [
      "Self-intersection at or near point 355 43\n",
      "Self-intersection at or near point 664.23021582733816 640.04316546762595\n",
      "Self-intersection at or near point 723.81132075471703 93.320754716981128\n",
      "Self-intersection at or near point 814.04301075268813 583.43010752688167\n",
      "Self-intersection at or near point 545.39999999999998 120\n",
      "Self-intersection at or near point 670.26778242677824 344.25941422594144\n",
      "Self-intersection at or near point 686.95588235294122 18.720588235294116\n",
      "Self-intersection at or near point 521.65680473372777 358.84615384615387\n",
      "Self-intersection at or near point 743.91404011461316 325.04584527220629\n",
      "Ring Self-intersection at or near point 406 552\n",
      "Self-intersection at or near point 91.561983471074385 391.67768595041321\n",
      "Self-intersection at or near point 694.56521739130437 425.13043478260869\n",
      "Self-intersection at or near point 813.1340579710145 186.39130434782609\n",
      "Self-intersection at or near point 384.76470588235293 466.47058823529414\n",
      "Self-intersection at or near point 830.93134328358212 639.40895522388064\n",
      "Self-intersection at or near point 525 482\n",
      "Self-intersection at or near point 833.36528497409324 673.53886010362692\n",
      "Self-intersection at or near point 799.09448818897636 91.370078740157481\n",
      "Self-intersection at or near point 824.83333333333337 497.66666666666669\n",
      "Self-intersection at or near point 635.28613569321533 260.93510324483776\n",
      "Self-intersection at or near point 820.03482587064673 517.61194029850742\n"
     ]
    },
    {
     "name": "stdout",
     "output_type": "stream",
     "text": [
      "2800\n"
     ]
    },
    {
     "name": "stderr",
     "output_type": "stream",
     "text": [
      "Self-intersection at or near point 777.67153284671531 158.45255474452554\n",
      "Self-intersection at or near point 773.10000000000002 454.30000000000001\n",
      "Self-intersection at or near point 815.45238095238096 798.90476190476193\n",
      "Self-intersection at or near point 247.39130434782609 338.52173913043481\n",
      "Self-intersection at or near point 625.27007299270076 756.88321167883214\n",
      "Self-intersection at or near point 767.93203883495141 481.04854368932041\n",
      "Self-intersection at or near point 782.49342105263156 800.94078947368416\n",
      "Self-intersection at or near point 604.195652173913 557.60869565217388\n",
      "Self-intersection at or near point 82.987295825771326 477.90598911070782\n",
      "Self-intersection at or near point 820.78823529411761 95.305882352941182\n",
      "Self-intersection at or near point 564.09900990099015 369.31683168316829\n",
      "Self-intersection at or near point 804 748\n",
      "Self-intersection at or near point 695.5 511.5\n",
      "Self-intersection at or near point 601 544.28571428571433\n",
      "Self-intersection at or near point 830.04444444444448 598.17777777777781\n",
      "Self-intersection at or near point 829.84000000000003 775\n",
      "Self-intersection at or near point 425.72727272727275 630\n",
      "Self-intersection at or near point 825.48852459016393 342.89180327868854\n",
      "Self-intersection at or near point 233.8235294117647 817.58823529411768\n",
      "Self-intersection at or near point 834 298\n",
      "Self-intersection at or near point 430.39325842696627 602.43820224719104\n",
      "Self-intersection at or near point 485.34042553191489 610.9078014184397\n",
      "Self-intersection at or near point 832.06896551724139 541.72413793103453\n",
      "Self-intersection at or near point 31.567010309278352 254.55670103092783\n"
     ]
    },
    {
     "name": "stdout",
     "output_type": "stream",
     "text": [
      "2900\n"
     ]
    },
    {
     "name": "stderr",
     "output_type": "stream",
     "text": [
      "Self-intersection at or near point 715.64705882352939 550.50588235294117\n",
      "Self-intersection at or near point 473.84210526315792 325.15789473684208\n",
      "Self-intersection at or near point 647.28571428571433 758\n",
      "Self-intersection at or near point 801 485\n",
      "Self-intersection at or near point 430.84313725490193 603.23529411764707\n",
      "Self-intersection at or near point 819.20000000000005 646.20000000000005\n",
      "Self-intersection at or near point 483.37606837606836 741.80341880341882\n",
      "Self-intersection at or near point 829.63025210084038 199.80672268907563\n",
      "Self-intersection at or near point 804.98095238095243 757.02857142857147\n",
      "Self-intersection at or near point 832.72239747634069 470.10094637223978\n",
      "Self-intersection at or near point 540.61290322580646 609.74193548387098\n",
      "Self-intersection at or near point 803.85046728971963 803.43925233644859\n",
      "Self-intersection at or near point 770.94059405940595 317.86138613861385\n",
      "Self-intersection at or near point 828.00719424460431 249.07913669064749\n",
      "Self-intersection at or near point 790 175\n",
      "Self-intersection at or near point 829.66315789473686 726.91578947368419\n",
      "Self-intersection at or near point 792.61016949152543 322.79661016949154\n",
      "Self-intersection at or near point 829.730612244898 479.865306122449\n"
     ]
    },
    {
     "name": "stdout",
     "output_type": "stream",
     "text": [
      "3000\n"
     ]
    },
    {
     "name": "stderr",
     "output_type": "stream",
     "text": [
      "Self-intersection at or near point 754.21276595744678 464.74468085106383\n",
      "Ring Self-intersection at or near point 626 160\n",
      "Self-intersection at or near point 602.22950819672133 626.86885245901635\n",
      "Self-intersection at or near point 641.35799782372146 393.25571273122961\n",
      "Self-intersection at or near point 713.07692307692309 607.00591715976327\n",
      "Self-intersection at or near point 801 177\n",
      "Self-intersection at or near point 810.19512195121956 604.53658536585363\n",
      "Ring Self-intersection at or near point 477 803\n",
      "Self-intersection at or near point 818.29032258064512 535.38709677419354\n",
      "Self-intersection at or near point 729.92857142857144 285.07142857142856\n",
      "Self-intersection at or near point 802.78504672897191 781.04672897196258\n",
      "Self-intersection at or near point 766.08627450980396 728.78431372549016\n",
      "Self-intersection at or near point 325.63888888888891 484.83333333333331\n",
      "Self-intersection at or near point 830.37827715355809 615.11985018726591\n",
      "Self-intersection at or near point 683.36363636363637 682.4545454545455\n",
      "Self-intersection at or near point 757.90361445783128 433.39759036144579\n",
      "Self-intersection at or near point 766.56296296296296 180.73333333333332\n",
      "Self-intersection at or near point 485.63157894736844 472.61403508771929\n",
      "Self-intersection at or near point 764 540.71428571428567\n"
     ]
    },
    {
     "name": "stdout",
     "output_type": "stream",
     "text": [
      "3100\n"
     ]
    },
    {
     "name": "stderr",
     "output_type": "stream",
     "text": [
      "Self-intersection at or near point 831.29999999999995 182.65000000000001\n",
      "Self-intersection at or near point 481 73\n",
      "Self-intersection at or near point 29.555555555555557 812.44444444444446\n",
      "Self-intersection at or near point 832.71428571428567 641.85714285714289\n",
      "Self-intersection at or near point 644.86131386861314 3.226277372262774\n",
      "Self-intersection at or near point 792 736.88888888888891\n",
      "Self-intersection at or near point 358.86046511627904 71.930232558139537\n",
      "Self-intersection at or near point 795.63414634146341 618.14634146341461\n",
      "Self-intersection at or near point 808.45652173913038 163.06521739130434\n",
      "Self-intersection at or near point 582.92156862745094 703.56862745098044\n",
      "Self-intersection at or near point 505.67543859649123 600.45614035087715\n",
      "Self-intersection at or near point 530.63485477178426 626.3526970954357\n",
      "Self-intersection at or near point 783.20792079207922 505.50495049504951\n",
      "Self-intersection at or near point 419.36641221374043 504.84732824427482\n",
      "Self-intersection at or near point 689.98360655737702 690.93442622950818\n",
      "Self-intersection at or near point 419.60869565217394 110.78260869565217\n",
      "Self-intersection at or near point 739.98947368421057 507.91578947368419\n",
      "Self-intersection at or near point 795.77999999999997 785.12\n",
      "Self-intersection at or near point 809.67657992565057 586.22304832713758\n",
      "Self-intersection at or near point 687 308\n",
      "Self-intersection at or near point 804.63157894736844 341.89473684210526\n",
      "Self-intersection at or near point 804 521.14285714285711\n"
     ]
    },
    {
     "name": "stdout",
     "output_type": "stream",
     "text": [
      "3200\n"
     ]
    },
    {
     "name": "stderr",
     "output_type": "stream",
     "text": [
      "Self-intersection at or near point 351.88888888888891 725.22222222222217\n",
      "Self-intersection at or near point 830.9679144385027 473.3368983957219\n",
      "Self-intersection at or near point 816.27586206896547 184.44827586206895\n",
      "Self-intersection at or near point 828.47747747747746 44.747747747747745\n",
      "Self-intersection at or near point 830.05357142857144 445.78571428571428\n",
      "Self-intersection at or near point 404.81818181818181 740.4545454545455\n",
      "Self-intersection at or near point 556.65789473684208 112.89473684210526\n",
      "Self-intersection at or near point 1.7799227799227799 121.38996138996139\n",
      "Self-intersection at or near point 724.05339805825247 392.64077669902912\n",
      "Self-intersection at or near point 824.02941176470586 761.22794117647061\n",
      "Self-intersection at or near point 411.93548387096774 295.80645161290323\n",
      "Self-intersection at or near point 336.12413793103451 535.55862068965519\n",
      "Self-intersection at or near point 552.86842105263156 181.55263157894737\n",
      "Self-intersection at or near point 805 276\n",
      "Self-intersection at or near point 704.05109489051097 105.97810218978103\n",
      "Self-intersection at or near point 165.05263157894737 482.43609022556393\n",
      "Self-intersection at or near point 504.75741239892182 748.25606469002696\n",
      "Self-intersection at or near point 22.509536784741144 784.3596730245232\n"
     ]
    },
    {
     "name": "stdout",
     "output_type": "stream",
     "text": [
      "3300\n"
     ]
    },
    {
     "name": "stderr",
     "output_type": "stream",
     "text": [
      "Self-intersection at or near point 793.82417582417577 67.780219780219781\n",
      "Self-intersection at or near point 738 640\n",
      "Self-intersection at or near point 761.00917431192659 17.917431192660551\n",
      "Self-intersection at or near point 163.87209302325581 410.11627906976742\n",
      "Self-intersection at or near point 749.77358490566041 798.16981132075466\n",
      "Self-intersection at or near point 498.37802768166091 608.52335640138404\n",
      "Self-intersection at or near point 646.99397590361446 721.47590361445782\n",
      "Self-intersection at or near point 534.36428571428576 187.42142857142858\n",
      "Self-intersection at or near point 28.388489208633093 831.67625899280574\n",
      "Self-intersection at or near point 811.86206896551721 496.9655172413793\n",
      "Self-intersection at or near point 641.25641025641028 599.96581196581201\n",
      "Self-intersection at or near point 713.85714285714289 262.8857142857143\n",
      "Self-intersection at or near point 222.22695035460993 274.70212765957444\n",
      "Self-intersection at or near point 641.30337078651689 752.06741573033707\n",
      "Self-intersection at or near point 690.43785850860422 547.84894837476099\n",
      "Self-intersection at or near point 538.78947368421052 666.84210526315792\n",
      "Self-intersection at or near point 622.83333333333337 638.66666666666663\n",
      "Self-intersection at or near point 306.33333333333331 486.33333333333331\n",
      "Self-intersection at or near point 821.11711711711712 430.09009009009009\n",
      "Self-intersection at or near point 582.09638554216872 483.12048192771084\n",
      "Self-intersection at or near point 653.45045045045049 48.630630630630634\n",
      "Self-intersection at or near point 292.81690140845069 570.35211267605632\n"
     ]
    },
    {
     "name": "stdout",
     "output_type": "stream",
     "text": [
      "3400\n"
     ]
    },
    {
     "name": "stderr",
     "output_type": "stream",
     "text": [
      "Self-intersection at or near point 823.01675977653633 544.35195530726253\n",
      "Self-intersection at or near point 460 408.19999999999999\n",
      "Self-intersection at or near point 714 28.600000000000001\n",
      "Self-intersection at or near point 761.26046511627908 558.01860465116283\n",
      "Self-intersection at or near point 732.14184397163126 806.21985815602841\n",
      "Self-intersection at or near point 767.64192139737986 120.25764192139738\n",
      "Self-intersection at or near point 824.29411764705878 19.529411764705884\n",
      "Self-intersection at or near point 710.44285714285718 17.742857142857144\n",
      "Self-intersection at or near point 432.50769230769231 60.215384615384615\n",
      "Self-intersection at or near point 259.80000000000001 382.39999999999998\n",
      "Self-intersection at or near point 822.38709677419354 0.58064516129032262\n",
      "Self-intersection at or near point 814.07936507936506 415.23809523809524\n",
      "Self-intersection at or near point 269.12972972972972 670.22702702702702\n",
      "Self-intersection at or near point 720.38297872340422 286.80851063829789\n",
      "Self-intersection at or near point 756.03260869565213 199.20652173913044\n",
      "Self-intersection at or near point 824.04524886877823 197.47963800904978\n",
      "Self-intersection at or near point 253.58823529411765 63.882352941176471\n",
      "Self-intersection at or near point 803.9473684210526 611.78947368421052\n",
      "Self-intersection at or near point 831.952 105.996\n",
      "Self-intersection at or near point 482.96774193548384 372.12903225806451\n",
      "Ring Self-intersection at or near point 122 480\n"
     ]
    },
    {
     "name": "stdout",
     "output_type": "stream",
     "text": [
      "3500\n"
     ]
    },
    {
     "name": "stderr",
     "output_type": "stream",
     "text": [
      "Self-intersection at or near point 650.79999999999995 72.599999999999994\n",
      "Self-intersection at or near point 483.64150943396226 523.28301886792451\n",
      "Self-intersection at or near point 816 477.42857142857144\n",
      "Self-intersection at or near point 819.67567567567562 688.62162162162167\n",
      "Self-intersection at or near point 755.89308176100633 599.59748427672957\n",
      "Self-intersection at or near point 707.67334669338675 325.91983967935874\n",
      "Self-intersection at or near point 765.0060606060606 617.07878787878792\n",
      "Self-intersection at or near point 690 316.32142857142856\n",
      "Self-intersection at or near point 364.54545454545456 87.545454545454547\n",
      "Self-intersection at or near point 524.92857142857144 301.04761904761904\n",
      "Self-intersection at or near point 24.043103448275861 483.11206896551727\n",
      "Self-intersection at or near point 712.03703703703707 533.77777777777783\n",
      "Self-intersection at or near point 255.5 647\n",
      "Self-intersection at or near point 164 731\n",
      "Self-intersection at or near point 741.25868725868725 17.351351351351351\n",
      "Self-intersection at or near point 264 825\n",
      "Self-intersection at or near point 833 278.66666666666669\n",
      "Self-intersection at or near point 316.79217603911979 291.90220048899755\n",
      "Self-intersection at or near point 821.6649746192893 811.90862944162438\n",
      "Ring Self-intersection at or near point 640 173\n"
     ]
    },
    {
     "name": "stdout",
     "output_type": "stream",
     "text": [
      "3600\n"
     ]
    },
    {
     "name": "stderr",
     "output_type": "stream",
     "text": [
      "Self-intersection at or near point 549.375 291.4375\n",
      "Self-intersection at or near point 555.25 682.1875\n",
      "Self-intersection at or near point 610.92207792207796 345.50649350649348\n",
      "Self-intersection at or near point 805.53846153846155 365.15384615384613\n",
      "Self-intersection at or near point 804.32258064516134 325.45161290322579\n",
      "Self-intersection at or near point 758.21243523316059 420.53367875647666\n",
      "Self-intersection at or near point 654.86301369863008 16.383561643835616\n",
      "Self-intersection at or near point 482.09960159362549 366.80876494023903\n",
      "Self-intersection at or near point 593.48717948717945 707.71794871794873\n",
      "Self-intersection at or near point 562 547.25\n",
      "Self-intersection at or near point 632.85714285714289 317.53246753246754\n",
      "Self-intersection at or near point 828.59055118110234 660.71653543307082\n",
      "Self-intersection at or near point 757 104.66666666666667\n",
      "Self-intersection at or near point 805.02970297029708 90.099009900990097\n",
      "Self-intersection at or near point 833.4478225143796 318.8619556285949\n",
      "Self-intersection at or near point 703.11111111111109 55\n",
      "Self-intersection at or near point 830.34271099744251 265.27877237851663\n",
      "Self-intersection at or near point 806.28571428571433 519.85714285714289\n",
      "Self-intersection at or near point 799.32530120481931 729.26506024096386\n",
      "Self-intersection at or near point 475.44660194174759 94.15533980582525\n"
     ]
    },
    {
     "name": "stdout",
     "output_type": "stream",
     "text": [
      "3700\n"
     ]
    },
    {
     "name": "stderr",
     "output_type": "stream",
     "text": [
      "Self-intersection at or near point 615.8648648648649 341\n",
      "Self-intersection at or near point 680.75438596491233 667.38596491228066\n",
      "Self-intersection at or near point 401.4724409448819 58.039370078740156\n",
      "Self-intersection at or near point 788.39130434782612 808.3478260869565\n",
      "Self-intersection at or near point 735.22448979591832 380.53061224489795\n",
      "Self-intersection at or near point 830.8115942028985 195.15942028985506\n",
      "Self-intersection at or near point 474.49618320610688 605.32824427480921\n",
      "Self-intersection at or near point 409.88235294117646 209.58823529411765\n",
      "Self-intersection at or near point 833.61734693877554 337.27551020408163\n",
      "Self-intersection at or near point 824 114\n",
      "Self-intersection at or near point 750.02435723951282 635.84167794316647\n",
      "Self-intersection at or near point 663.42857142857144 200.85714285714286\n",
      "Self-intersection at or near point 633.58333333333337 456.5\n",
      "Self-intersection at or near point 720 148.38461538461539\n",
      "Self-intersection at or near point 832.47222222222217 408.79166666666669\n",
      "Self-intersection at or near point 127.7609756097561 827.32682926829273\n",
      "Self-intersection at or near point 714 558.46153846153845\n",
      "Self-intersection at or near point 641.72093023255809 646.88372093023258\n",
      "Self-intersection at or near point 248.26315789473685 823.15789473684208\n",
      "Self-intersection at or near point 268.92716535433073 561.37204724409446\n",
      "Self-intersection at or near point 747.75675675675677 574.81081081081084\n"
     ]
    },
    {
     "name": "stdout",
     "output_type": "stream",
     "text": [
      "3800\n"
     ]
    },
    {
     "name": "stderr",
     "output_type": "stream",
     "text": [
      "Self-intersection at or near point 816.19798657718115 766.07046979865777\n",
      "Self-intersection at or near point 568.60655737704917 358.22950819672133\n",
      "Self-intersection at or near point 813.90697674418607 350.55813953488371\n",
      "Self-intersection at or near point 832.65168539325839 130.97752808988764\n",
      "Self-intersection at or near point 356.65517241379308 631.37931034482756\n",
      "Self-intersection at or near point 737.05882352941171 827.35294117647061\n",
      "Self-intersection at or near point 822.65862068965521 83.265517241379314\n",
      "Self-intersection at or near point 782.11244979919684 362.30923694779119\n",
      "Self-intersection at or near point 388.88607594936707 518.08860759493666\n",
      "Self-intersection at or near point 803.5 439.5\n",
      "Self-intersection at or near point 768.55909090909086 456.69545454545454\n",
      "Self-intersection at or near point 636 15.699999999999999\n",
      "Self-intersection at or near point 740.45714285714291 803.91020408163263\n",
      "Self-intersection at or near point 804.5 550\n",
      "Self-intersection at or near point 741.60264900662253 1.5165562913907285\n",
      "Self-intersection at or near point 742.5 815\n",
      "Self-intersection at or near point 566.16901408450701 586.131455399061\n",
      "Self-intersection at or near point 819.5 134\n"
     ]
    },
    {
     "name": "stdout",
     "output_type": "stream",
     "text": [
      "3900\n"
     ]
    },
    {
     "name": "stderr",
     "output_type": "stream",
     "text": [
      "Self-intersection at or near point 785.58333333333337 816.66666666666663\n",
      "Self-intersection at or near point 820.87837837837833 222.57432432432432\n",
      "Self-intersection at or near point 830.36363636363637 653.4545454545455\n",
      "Self-intersection at or near point 813.35294117647061 244.8235294117647\n",
      "Self-intersection at or near point 833.20634920634916 315.60317460317458\n",
      "Self-intersection at or near point 831.25806451612902 593.58064516129036\n",
      "Self-intersection at or near point 508.20661157024796 460.28925619834712\n",
      "Self-intersection at or near point 832.6521739130435 686.52173913043475\n",
      "Self-intersection at or near point 816.76271186440681 156.74576271186442\n",
      "Self-intersection at or near point 803.44094488188978 484.40157480314963\n",
      "Self-intersection at or near point 522.49826989619373 579.94463667820071\n",
      "Self-intersection at or near point 409.44444444444446 599.88888888888891\n",
      "Ring Self-intersection at or near point 800 421\n",
      "Self-intersection at or near point 650.9859154929577 408.7042253521127\n",
      "Self-intersection at or near point 539.09090909090912 454.87878787878788\n"
     ]
    },
    {
     "name": "stdout",
     "output_type": "stream",
     "text": [
      "4000\n"
     ]
    },
    {
     "name": "stderr",
     "output_type": "stream",
     "text": [
      "Self-intersection at or near point 818.07865168539331 73.056179775280896\n",
      "Self-intersection at or near point 783.40265486725662 734.90707964601768\n",
      "Self-intersection at or near point 567.19230769230774 167.78846153846155\n",
      "Self-intersection at or near point 810.26626323751896 274.83207261724658\n",
      "Self-intersection at or near point 827.78980891719743 579.89808917197456\n",
      "Self-intersection at or near point 773.58139534883719 327.11627906976742\n",
      "Ring Self-intersection at or near point 724 329\n",
      "Self-intersection at or near point 833.02499999999998 40.575000000000003\n",
      "Self-intersection at or near point 768.09677419354841 72.709677419354833\n",
      "Self-intersection at or near point 766.03015075376879 795.1708542713568\n",
      "Self-intersection at or near point 813.70967741935488 520.25806451612902\n",
      "Self-intersection at or near point 711.92783505154637 596.09278350515467\n",
      "Self-intersection at or near point 322.10236220472439 773.07086614173227\n",
      "Self-intersection at or near point 501.83333333333331 310.65151515151513\n",
      "Self-intersection at or near point 803.58823529411768 561.11764705882354\n",
      "Self-intersection at or near point 827.92307692307691 596\n",
      "Self-intersection at or near point 804.22834645669286 243.92125984251967\n",
      "Self-intersection at or near point 481.49038461538464 685.08173076923072\n",
      "Self-intersection at or near point 619.09433962264154 472.18867924528303\n",
      "Self-intersection at or near point 817.47457627118649 279.16949152542372\n"
     ]
    },
    {
     "name": "stdout",
     "output_type": "stream",
     "text": [
      "4100\n"
     ]
    },
    {
     "name": "stderr",
     "output_type": "stream",
     "text": [
      "Self-intersection at or near point 832.27027027027032 586.21621621621625\n",
      "Self-intersection at or near point 664.23529411764707 291.94117647058823\n",
      "Self-intersection at or near point 732 84.760000000000005\n",
      "Self-intersection at or near point 317.24324324324323 23.216216216216218\n",
      "Self-intersection at or near point 832.15352697095432 433.70539419087135\n",
      "Self-intersection at or near point 635.9677419354839 692.64516129032256\n",
      "Self-intersection at or near point 774.07692307692309 31.615384615384613\n",
      "Self-intersection at or near point 673 479\n",
      "Self-intersection at or near point 330.78947368421052 414.63157894736844\n",
      "Self-intersection at or near point 466.7037037037037 361.18518518518516\n",
      "Self-intersection at or near point 820.09049773755657 644.12669683257923\n",
      "Self-intersection at or near point 792.18848167539272 6.8167539267015709\n",
      "Self-intersection at or near point 816.82258064516134 611.77419354838707\n",
      "Self-intersection at or near point 787.86842105263156 377.98684210526318\n",
      "Self-intersection at or near point 792.60714285714289 528.78571428571433\n",
      "Self-intersection at or near point 666.26229508196718 125.39344262295081\n",
      "Self-intersection at or near point 812.32326283987913 577.93353474320247\n"
     ]
    },
    {
     "name": "stdout",
     "output_type": "stream",
     "text": [
      "4200\n"
     ]
    },
    {
     "name": "stderr",
     "output_type": "stream",
     "text": [
      "Self-intersection at or near point 817.9885057471264 380.05747126436779\n",
      "Self-intersection at or near point 813.82051282051282 432.76923076923077\n",
      "Self-intersection at or near point 676 168\n",
      "Self-intersection at or near point 832.20699708454811 645.11661807580174\n",
      "Self-intersection at or near point 473.97058823529414 11.029411764705882\n",
      "Self-intersection at or near point 720.62436548223354 321.11675126903555\n",
      "Self-intersection at or near point 550.00868306801738 743.76266280752532\n",
      "Self-intersection at or near point 616.70443349753691 184.97536945812809\n",
      "Self-intersection at or near point 641.82352941176475 437.1764705882353\n",
      "Self-intersection at or near point 733.98882681564248 266.39664804469271\n",
      "Self-intersection at or near point 711.13043478260875 695.39130434782612\n",
      "Self-intersection at or near point 383.4736842105263 777.26315789473688\n",
      "Self-intersection at or near point 831.71573604060916 135.49238578680203\n",
      "Self-intersection at or near point 366.12162162162161 184.98108108108107\n",
      "Self-intersection at or near point 471.44444444444446 774.83333333333337\n",
      "Self-intersection at or near point 469.92746113989637 748.6010362694301\n",
      "Self-intersection at or near point 253.98347107438016 567.83471074380168\n"
     ]
    },
    {
     "name": "stdout",
     "output_type": "stream",
     "text": [
      "    ImageId  ClassType                                    MultipolygonWKT\n",
      "0  6120_2_4          1  MULTIPOLYGON (((0.0062961060776650 -0.00714310...\n",
      "1  6120_2_4          2                           GEOMETRYCOLLECTION EMPTY\n",
      "2  6120_2_4          3  MULTIPOLYGON (((0.0020033064792571 -0.00603749...\n",
      "3  6120_2_4          4                           GEOMETRYCOLLECTION EMPTY\n",
      "4  6120_2_4          5  MULTIPOLYGON (((0.0091799868335186 -0.00876900...\n"
     ]
    }
   ],
   "source": [
    "df = make_submit()"
   ]
  },
  {
   "cell_type": "code",
   "execution_count": 25,
   "metadata": {},
   "outputs": [
    {
     "data": {
      "text/html": [
       "<div>\n",
       "<table border=\"1\" class=\"dataframe\">\n",
       "  <thead>\n",
       "    <tr style=\"text-align: right;\">\n",
       "      <th></th>\n",
       "      <th>ClassType</th>\n",
       "    </tr>\n",
       "  </thead>\n",
       "  <tbody>\n",
       "    <tr>\n",
       "      <th>count</th>\n",
       "      <td>4290.000000</td>\n",
       "    </tr>\n",
       "    <tr>\n",
       "      <th>mean</th>\n",
       "      <td>5.500000</td>\n",
       "    </tr>\n",
       "    <tr>\n",
       "      <th>std</th>\n",
       "      <td>2.872616</td>\n",
       "    </tr>\n",
       "    <tr>\n",
       "      <th>min</th>\n",
       "      <td>1.000000</td>\n",
       "    </tr>\n",
       "    <tr>\n",
       "      <th>25%</th>\n",
       "      <td>3.000000</td>\n",
       "    </tr>\n",
       "    <tr>\n",
       "      <th>50%</th>\n",
       "      <td>5.500000</td>\n",
       "    </tr>\n",
       "    <tr>\n",
       "      <th>75%</th>\n",
       "      <td>8.000000</td>\n",
       "    </tr>\n",
       "    <tr>\n",
       "      <th>max</th>\n",
       "      <td>10.000000</td>\n",
       "    </tr>\n",
       "  </tbody>\n",
       "</table>\n",
       "</div>"
      ],
      "text/plain": [
       "         ClassType\n",
       "count  4290.000000\n",
       "mean      5.500000\n",
       "std       2.872616\n",
       "min       1.000000\n",
       "25%       3.000000\n",
       "50%       5.500000\n",
       "75%       8.000000\n",
       "max      10.000000"
      ]
     },
     "execution_count": 25,
     "metadata": {},
     "output_type": "execute_result"
    }
   ],
   "source": [
    "df.describe()\n"
   ]
  }
 ],
 "metadata": {
  "kernelspec": {
   "display_name": "Python 2",
   "language": "python",
   "name": "python2"
  },
  "language_info": {
   "codemirror_mode": {
    "name": "ipython",
    "version": 2
   },
   "file_extension": ".py",
   "mimetype": "text/x-python",
   "name": "python",
   "nbconvert_exporter": "python",
   "pygments_lexer": "ipython2",
   "version": "2.7.6"
  }
 },
 "nbformat": 4,
 "nbformat_minor": 2
}
