{
 "cells": [
  {
   "cell_type": "code",
   "execution_count": 1,
   "metadata": {},
   "outputs": [
    {
     "name": "stderr",
     "output_type": "stream",
     "text": [
      "Using TensorFlow backend.\n"
     ]
    },
    {
     "name": "stdout",
     "output_type": "stream",
     "text": [
      "2.0.3\n"
     ]
    }
   ],
   "source": [
    "import matplotlib.pyplot as plt\n",
    "import numpy as np\n",
    "import cv2\n",
    "import pandas as pd\n",
    "from shapely.wkt import loads as wkt_loads\n",
    "import tifffile as tiff\n",
    "import os\n",
    "import random\n",
    "from keras.models import Model\n",
    "from keras.layers import Input, concatenate, Conv2D, MaxPooling2D, Conv2DTranspose\n",
    "from keras.optimizers import Adam\n",
    "from keras.callbacks import ModelCheckpoint, LearningRateScheduler\n",
    "from keras import backend as K\n",
    "from sklearn.metrics import jaccard_similarity_score\n",
    "from shapely.geometry import MultiPolygon, Polygon\n",
    "import shapely.wkt\n",
    "import shapely.affinity\n",
    "from collections import defaultdict\n",
    "\n",
    "from keras import __version__\n",
    "print(__version__)"
   ]
  },
  {
   "cell_type": "code",
   "execution_count": 2,
   "metadata": {
    "collapsed": true
   },
   "outputs": [],
   "source": [
    "K.set_image_data_format('channels_first')\n"
   ]
  },
  {
   "cell_type": "code",
   "execution_count": 3,
   "metadata": {
    "collapsed": true
   },
   "outputs": [],
   "source": [
    "N_Cls = 10\n",
    "inDir = '/home/ubuntu/data/dstl'\n",
    "DF = pd.read_csv(inDir + '/train_wkt_v4.csv')\n",
    "GS = pd.read_csv(inDir + '/grid_sizes.csv', names=['ImageId', 'Xmax', 'Ymin'], skiprows=1)\n",
    "SB = pd.read_csv(os.path.join(inDir, 'sample_submission.csv'))\n",
    "ISZ = 160\n",
    "smooth = 1e-12"
   ]
  },
  {
   "cell_type": "code",
   "execution_count": 4,
   "metadata": {
    "collapsed": true
   },
   "outputs": [],
   "source": [
    "\n",
    "def _convert_coordinates_to_raster(coords, img_size, xymax):\n",
    "    # __author__ = visoft\n",
    "    # https://www.kaggle.com/visoft/dstl-satellite-imagery-feature-detection/export-pixel-wise-mask\n",
    "    Xmax, Ymax = xymax\n",
    "    H, W = img_size\n",
    "    W1 = 1.0 * W * W / (W + 1)\n",
    "    H1 = 1.0 * H * H / (H + 1)\n",
    "    xf = W1 / Xmax\n",
    "    yf = H1 / Ymax\n",
    "    coords[:, 1] *= yf\n",
    "    coords[:, 0] *= xf\n",
    "    coords_int = np.round(coords).astype(np.int32)\n",
    "    return coords_int\n",
    "\n",
    "\n",
    "def _get_xmax_ymin(grid_sizes_panda, imageId):\n",
    "    # __author__ = visoft\n",
    "    # https://www.kaggle.com/visoft/dstl-satellite-imagery-feature-detection/export-pixel-wise-mask\n",
    "    xmax, ymin = grid_sizes_panda[grid_sizes_panda.ImageId == imageId].iloc[0, 1:].astype(float)\n",
    "    return (xmax, ymin)\n",
    "\n",
    "\n",
    "def _get_polygon_list(wkt_list_pandas, imageId, cType):\n",
    "    # __author__ = visoft\n",
    "    # https://www.kaggle.com/visoft/dstl-satellite-imagery-feature-detection/export-pixel-wise-mask\n",
    "    df_image = wkt_list_pandas[wkt_list_pandas.ImageId == imageId]\n",
    "    multipoly_def = df_image[df_image.ClassType == cType].MultipolygonWKT\n",
    "    polygonList = None\n",
    "    if len(multipoly_def) > 0:\n",
    "        assert len(multipoly_def) == 1\n",
    "        polygonList = wkt_loads(multipoly_def.values[0])\n",
    "    return polygonList\n",
    "\n",
    "\n",
    "def _get_and_convert_contours(polygonList, raster_img_size, xymax):\n",
    "    # __author__ = visoft\n",
    "    # https://www.kaggle.com/visoft/dstl-satellite-imagery-feature-detection/export-pixel-wise-mask\n",
    "    perim_list = []\n",
    "    interior_list = []\n",
    "    if polygonList is None:\n",
    "        return None\n",
    "    for k in range(len(polygonList)):\n",
    "        poly = polygonList[k]\n",
    "        perim = np.array(list(poly.exterior.coords))\n",
    "        perim_c = _convert_coordinates_to_raster(perim, raster_img_size, xymax)\n",
    "        perim_list.append(perim_c)\n",
    "        for pi in poly.interiors:\n",
    "            interior = np.array(list(pi.coords))\n",
    "            interior_c = _convert_coordinates_to_raster(interior, raster_img_size, xymax)\n",
    "            interior_list.append(interior_c)\n",
    "    return perim_list, interior_list\n",
    "\n",
    "\n",
    "def _plot_mask_from_contours(raster_img_size, contours, class_value=1):\n",
    "    # __author__ = visoft\n",
    "    # https://www.kaggle.com/visoft/dstl-satellite-imagery-feature-detection/export-pixel-wise-mask\n",
    "    img_mask = np.zeros(raster_img_size, np.uint8)\n",
    "    if contours is None:\n",
    "        return img_mask\n",
    "    perim_list, interior_list = contours\n",
    "    cv2.fillPoly(img_mask, perim_list, class_value)\n",
    "    cv2.fillPoly(img_mask, interior_list, 0)\n",
    "    return img_mask\n",
    "\n",
    "\n",
    "def generate_mask_for_image_and_class(raster_size, imageId, class_type, grid_sizes_panda=GS, wkt_list_pandas=DF):\n",
    "    # __author__ = visoft\n",
    "    # https://www.kaggle.com/visoft/dstl-satellite-imagery-feature-detection/export-pixel-wise-mask\n",
    "    xymax = _get_xmax_ymin(grid_sizes_panda, imageId)\n",
    "    polygon_list = _get_polygon_list(wkt_list_pandas, imageId, class_type)\n",
    "    contours = _get_and_convert_contours(polygon_list, raster_size, xymax)\n",
    "    mask = _plot_mask_from_contours(raster_size, contours, 1)\n",
    "    return mask\n",
    "\n",
    "\n",
    "def M(image_id):\n",
    "    # __author__ = amaia\n",
    "    # https://www.kaggle.com/aamaia/dstl-satellite-imagery-feature-detection/rgb-using-m-bands-example\n",
    "    filename = os.path.join(inDir, 'sixteen_band', '{}_M.tif'.format(image_id))\n",
    "    img = tiff.imread(filename)\n",
    "    img = np.rollaxis(img, 0, 3)\n",
    "    return img\n",
    "\n",
    "\n",
    "def stretch_n(bands, lower_percent=5, higher_percent=95):\n",
    "    out = np.zeros_like(bands).astype(np.float32)\n",
    "    n = bands.shape[2]\n",
    "    for i in range(n):\n",
    "        a = 0  # np.min(band)\n",
    "        b = 1  # np.max(band)\n",
    "        c = np.percentile(bands[:, :, i], lower_percent)\n",
    "        d = np.percentile(bands[:, :, i], higher_percent)\n",
    "        t = a + (bands[:, :, i] - c) * (b - a) / (d - c)\n",
    "        t[t < a] = a\n",
    "        t[t > b] = b\n",
    "        out[:, :, i] = t\n",
    "\n",
    "    return out.astype(np.float32)\n",
    "\n",
    "\n",
    "def jaccard_coef(y_true, y_pred):\n",
    "    # __author__ = Vladimir Iglovikov\n",
    "    intersection = K.sum(y_true * y_pred, axis=[0, -1, -2])\n",
    "    sum_ = K.sum(y_true + y_pred, axis=[0, -1, -2])\n",
    "\n",
    "    jac = (intersection + smooth) / (sum_ - intersection + smooth)\n",
    "\n",
    "    return K.mean(jac)\n",
    "\n",
    "\n",
    "def jaccard_coef_int(y_true, y_pred):\n",
    "    # __author__ = Vladimir Iglovikov\n",
    "    y_pred_pos = K.round(K.clip(y_pred, 0, 1))\n",
    "\n",
    "    intersection = K.sum(y_true * y_pred_pos, axis=[0, -1, -2])\n",
    "    sum_ = K.sum(y_true + y_pred, axis=[0, -1, -2])\n",
    "    jac = (intersection + smooth) / (sum_ - intersection + smooth)\n",
    "    return K.mean(jac)\n",
    "\n",
    "\n",
    "def stick_all_train():\n",
    "    print \"let's stick all imgs together\"\n",
    "    s = 835\n",
    "\n",
    "    x = np.zeros((5 * s, 5 * s, 8))\n",
    "    y = np.zeros((5 * s, 5 * s, N_Cls))\n",
    "\n",
    "    ids = sorted(DF.ImageId.unique())\n",
    "    print len(ids)\n",
    "    for i in range(5):\n",
    "        for j in range(5):\n",
    "            id = ids[5 * i + j]\n",
    "\n",
    "            img = M(id)\n",
    "            img = stretch_n(img)\n",
    "            print img.shape, id, np.amax(img), np.amin(img)\n",
    "            x[s * i:s * i + s, s * j:s * j + s, :] = img[:s, :s, :]\n",
    "            for z in range(N_Cls):\n",
    "                y[s * i:s * i + s, s * j:s * j + s, z] = generate_mask_for_image_and_class(\n",
    "                    (img.shape[0], img.shape[1]), id, z + 1)[:s, :s]\n",
    "\n",
    "    print np.amax(y), np.amin(y)\n",
    "\n",
    "    np.save(inDir + '/data/x_trn_%d' % N_Cls, x)\n",
    "    np.save(inDir + '/data/y_trn_%d' % N_Cls, y)\n",
    "\n",
    "\n",
    "def get_patches(img, msk, amt=10000, aug=True):\n",
    "    is2 = int(1.0 * ISZ)\n",
    "    xm, ym = img.shape[0] - is2, img.shape[1] - is2\n",
    "\n",
    "    x, y = [], []\n",
    "\n",
    "    tr = [0.4, 0.1, 0.1, 0.15, 0.3, 0.95, 0.1, 0.05, 0.001, 0.005]\n",
    "    for i in range(amt):\n",
    "        xc = random.randint(0, xm)\n",
    "        yc = random.randint(0, ym)\n",
    "\n",
    "        im = img[xc:xc + is2, yc:yc + is2]\n",
    "        ms = msk[xc:xc + is2, yc:yc + is2]\n",
    "\n",
    "        for j in range(N_Cls):\n",
    "            sm = np.sum(ms[:, :, j])\n",
    "            if 1.0 * sm / is2 ** 2 > tr[j]:\n",
    "                if aug:\n",
    "                    if random.uniform(0, 1) > 0.5:\n",
    "                        im = im[::-1]\n",
    "                        ms = ms[::-1]\n",
    "                    if random.uniform(0, 1) > 0.5:\n",
    "                        im = im[:, ::-1]\n",
    "                        ms = ms[:, ::-1]\n",
    "\n",
    "                x.append(im)\n",
    "                y.append(ms)\n",
    "\n",
    "    x, y = 2 * np.transpose(x, (0, 3, 1, 2)) - 1, np.transpose(y, (0, 3, 1, 2))\n",
    "    print x.shape, y.shape, np.amax(x), np.amin(x), np.amax(y), np.amin(y)\n",
    "    return x, y\n"
   ]
  },
  {
   "cell_type": "code",
   "execution_count": 5,
   "metadata": {},
   "outputs": [
    {
     "name": "stdout",
     "output_type": "stream",
     "text": [
      "let's stick all imgs together\n",
      "25\n",
      "(837, 849, 8) 6010_1_2 1.0 0.0\n",
      "(837, 849, 8) 6010_4_2 1.0 0.0\n",
      "(837, 848, 8) 6010_4_4 1.0 0.0\n",
      "(837, 848, 8) 6040_1_0 1.0 0.0\n",
      "(837, 848, 8) 6040_1_3 1.0 0.0\n",
      "(837, 848, 8) 6040_2_2 1.0 0.0\n",
      "(837, 846, 8) 6040_4_4 1.0 0.0\n",
      "(837, 851, 8) 6060_2_3 1.0 0.0\n",
      "(838, 835, 8) 6070_2_3 1.0 0.0\n",
      "(837, 848, 8) 6090_2_0 1.0 0.0\n",
      "(837, 848, 8) 6100_1_3 1.0 0.0\n",
      "(837, 848, 8) 6100_2_2 1.0 0.0\n",
      "(837, 848, 8) 6100_2_3 1.0 0.0\n",
      "(837, 849, 8) 6110_1_2 1.0 0.0\n",
      "(837, 849, 8) 6110_3_1 1.0 0.0\n",
      "(837, 849, 8) 6110_4_0 1.0 0.0\n",
      "(837, 851, 8) 6120_2_0 1.0 0.0\n",
      "(837, 851, 8) 6120_2_2 1.0 0.0\n",
      "(837, 849, 8) 6140_1_2 1.0 0.0\n",
      "(837, 849, 8) 6140_3_1 1.0 0.0\n",
      "(837, 851, 8) 6150_2_3 1.0 0.0\n",
      "(837, 848, 8) 6160_2_1 1.0 0.0\n",
      "(837, 848, 8) 6170_0_4 1.0 0.0\n",
      "(837, 848, 8) 6170_2_4 1.0 0.0\n",
      "(837, 848, 8) 6170_4_1 1.0 0.0\n",
      "1.0 0.0\n"
     ]
    }
   ],
   "source": [
    "stick_all_train()"
   ]
  },
  {
   "cell_type": "code",
   "execution_count": 6,
   "metadata": {
    "collapsed": true
   },
   "outputs": [],
   "source": [
    "def make_val():\n",
    "    print \"let's pick some samples for validation\"\n",
    "    img = np.load(inDir + '/data/x_trn_%d.npy' % N_Cls)\n",
    "    msk = np.load(inDir + '/data/y_trn_%d.npy' % N_Cls)\n",
    "    x, y = get_patches(img, msk, amt=3000)\n",
    "\n",
    "    np.save(inDir + '/data/x_tmp_%d' % N_Cls, x)\n",
    "    np.save(inDir + '/data/y_tmp_%d' % N_Cls, y)"
   ]
  },
  {
   "cell_type": "code",
   "execution_count": 7,
   "metadata": {},
   "outputs": [
    {
     "name": "stdout",
     "output_type": "stream",
     "text": [
      "let's pick some samples for validation\n",
      "(1035, 8, 160, 160) (1035, 10, 160, 160) 1.0 -1.0 1.0 0.0\n"
     ]
    }
   ],
   "source": [
    "make_val()"
   ]
  },
  {
   "cell_type": "code",
   "execution_count": 8,
   "metadata": {
    "collapsed": true
   },
   "outputs": [],
   "source": [
    "\n",
    "def get_unet():\n",
    "    inputs = Input((8,ISZ, ISZ))\n",
    "    conv1 = Conv2D(32, (3, 3), activation='relu', padding='same')(inputs)\n",
    "    conv1 = Conv2D(32, (3, 3), activation='relu', padding='same')(conv1)\n",
    "    pool1 = MaxPooling2D(pool_size=(2, 2))(conv1)\n",
    "\n",
    "    conv2 = Conv2D(64, (3, 3), activation='relu', padding='same')(pool1)\n",
    "    conv2 = Conv2D(64, (3, 3), activation='relu', padding='same')(conv2)\n",
    "    pool2 = MaxPooling2D(pool_size=(2, 2))(conv2)\n",
    "\n",
    "    conv3 = Conv2D(128, (3, 3), activation='relu', padding='same')(pool2)\n",
    "    conv3 = Conv2D(128, (3, 3), activation='relu', padding='same')(conv3)\n",
    "    pool3 = MaxPooling2D(pool_size=(2, 2))(conv3)\n",
    "\n",
    "    conv4 = Conv2D(256, (3, 3), activation='relu', padding='same')(pool3)\n",
    "    conv4 = Conv2D(256, (3, 3), activation='relu', padding='same')(conv4)\n",
    "    pool4 = MaxPooling2D(pool_size=(2, 2))(conv4)\n",
    "\n",
    "    conv5 = Conv2D(512, (3, 3), activation='relu', padding='same')(pool4)\n",
    "    conv5 = Conv2D(512, (3, 3), activation='relu', padding='same')(conv5)\n",
    "\n",
    "    up6 = concatenate([Conv2DTranspose(256, (2, 2), strides=(2, 2), padding='same')(conv5), conv4], axis=1)\n",
    "    conv6 = Conv2D(256, (3, 3), activation='relu', padding='same')(up6)\n",
    "    conv6 = Conv2D(256, (3, 3), activation='relu', padding='same')(conv6)\n",
    "\n",
    "    up7 = concatenate([Conv2DTranspose(128, (2, 2), strides=(2, 2), padding='same')(conv6), conv3], axis=1)\n",
    "    conv7 = Conv2D(128, (3, 3), activation='relu', padding='same')(up7)\n",
    "    conv7 = Conv2D(128, (3, 3), activation='relu', padding='same')(conv7)\n",
    "\n",
    "    up8 = concatenate([Conv2DTranspose(64, (2, 2), strides=(2, 2), padding='same')(conv7), conv2], axis=1)\n",
    "    conv8 = Conv2D(64, (3, 3), activation='relu', padding='same')(up8)\n",
    "    conv8 = Conv2D(64, (3, 3), activation='relu', padding='same')(conv8)\n",
    "\n",
    "    up9 = concatenate([Conv2DTranspose(32, (2, 2), strides=(2, 2), padding='same')(conv8), conv1], axis=1)\n",
    "    conv9 = Conv2D(32, (3, 3), activation='relu', padding='same')(up9)\n",
    "    conv9 = Conv2D(32, (3, 3), activation='relu', padding='same')(conv9)\n",
    "\n",
    "    conv10 = Conv2D(N_Cls, (1, 1), activation='sigmoid')(conv9)\n",
    "\n",
    "    model = Model(inputs=[inputs], outputs=[conv10])\n",
    "    model.compile(optimizer=Adam(), loss='binary_crossentropy', metrics=[jaccard_coef, jaccard_coef_int, 'accuracy'])\n",
    "    return model\n",
    "\n",
    "\n",
    "def calc_jacc(model):\n",
    "    img = np.load(inDir + '/data/x_tmp_%d.npy' % N_Cls)\n",
    "    msk = np.load(inDir + '/data/y_tmp_%d.npy' % N_Cls)\n",
    "\n",
    "    prd = model.predict(img, batch_size=4)\n",
    "    print prd.shape, msk.shape\n",
    "    avg, trs = [], []\n",
    "\n",
    "    for i in range(N_Cls):\n",
    "        t_msk = msk[:, i, :, :]\n",
    "        t_prd = prd[:, i, :, :]\n",
    "        t_msk = t_msk.reshape(msk.shape[0] * msk.shape[2], msk.shape[3])\n",
    "        t_prd = t_prd.reshape(msk.shape[0] * msk.shape[2], msk.shape[3])\n",
    "\n",
    "        m, b_tr = 0, 0\n",
    "        for j in range(10):\n",
    "            tr = j / 10.0\n",
    "            pred_binary_mask = t_prd > tr\n",
    "\n",
    "            jk = jaccard_similarity_score(t_msk, pred_binary_mask)\n",
    "            if jk > m:\n",
    "                m = jk\n",
    "                b_tr = tr\n",
    "        print i, m, b_tr\n",
    "        avg.append(m)\n",
    "        trs.append(b_tr)\n",
    "\n",
    "    score = sum(avg) / 10.0\n",
    "    return score, trs\n",
    "\n",
    "\n",
    "def mask_for_polygons(polygons, im_size):\n",
    "    # __author__ = Konstantin Lopuhin\n",
    "    # https://www.kaggle.com/lopuhin/dstl-satellite-imagery-feature-detection/full-pipeline-demo-poly-pixels-ml-poly\n",
    "    img_mask = np.zeros(im_size, np.uint8)\n",
    "    if not polygons:\n",
    "        return img_mask\n",
    "    int_coords = lambda x: np.array(x).round().astype(np.int32)\n",
    "    exteriors = [int_coords(poly.exterior.coords) for poly in polygons]\n",
    "    interiors = [int_coords(pi.coords) for poly in polygons\n",
    "                 for pi in poly.interiors]\n",
    "    cv2.fillPoly(img_mask, exteriors, 1)\n",
    "    cv2.fillPoly(img_mask, interiors, 0)\n",
    "    return img_mask\n",
    "\n",
    "\n",
    "def mask_to_polygons(mask, epsilon=5, min_area=1.):\n",
    "    # __author__ = Konstantin Lopuhin\n",
    "    # https://www.kaggle.com/lopuhin/dstl-satellite-imagery-feature-detection/full-pipeline-demo-poly-pixels-ml-poly\n",
    "\n",
    "    # first, find contours with cv2: it's much faster than shapely\n",
    "    image, contours, hierarchy = cv2.findContours(\n",
    "        ((mask == 1) * 255).astype(np.uint8),\n",
    "        cv2.RETR_CCOMP, cv2.CHAIN_APPROX_TC89_KCOS)\n",
    "    # create approximate contours to have reasonable submission size\n",
    "    approx_contours = [cv2.approxPolyDP(cnt, epsilon, True)\n",
    "                       for cnt in contours]\n",
    "    if not contours:\n",
    "        return MultiPolygon()\n",
    "    # now messy stuff to associate parent and child contours\n",
    "    cnt_children = defaultdict(list)\n",
    "    child_contours = set()\n",
    "    assert hierarchy.shape[0] == 1\n",
    "    # http://docs.opencv.org/3.1.0/d9/d8b/tutorial_py_contours_hierarchy.html\n",
    "    for idx, (_, _, _, parent_idx) in enumerate(hierarchy[0]):\n",
    "        if parent_idx != -1:\n",
    "            child_contours.add(idx)\n",
    "            cnt_children[parent_idx].append(approx_contours[idx])\n",
    "    # create actual polygons filtering by area (removes artifacts)\n",
    "    all_polygons = []\n",
    "    for idx, cnt in enumerate(approx_contours):\n",
    "        if idx not in child_contours and cv2.contourArea(cnt) >= min_area:\n",
    "            assert cnt.shape[1] == 1\n",
    "            poly = Polygon(\n",
    "                shell=cnt[:, 0, :],\n",
    "                holes=[c[:, 0, :] for c in cnt_children.get(idx, [])\n",
    "                       if cv2.contourArea(c) >= min_area])\n",
    "            all_polygons.append(poly)\n",
    "    # approximating polygons might have created invalid ones, fix them\n",
    "    all_polygons = MultiPolygon(all_polygons)\n",
    "    if not all_polygons.is_valid:\n",
    "        all_polygons = all_polygons.buffer(0)\n",
    "        # Sometimes buffer() converts a simple Multipolygon to just a Polygon,\n",
    "        # need to keep it a Multi throughout\n",
    "        if all_polygons.type == 'Polygon':\n",
    "            all_polygons = MultiPolygon([all_polygons])\n",
    "    return all_polygons\n",
    "\n",
    "\n",
    "def get_scalers(im_size, x_max, y_min):\n",
    "    # __author__ = Konstantin Lopuhin\n",
    "    # https://www.kaggle.com/lopuhin/dstl-satellite-imagery-feature-detection/full-pipeline-demo-poly-pixels-ml-poly\n",
    "    h, w = im_size  # they are flipped so that mask_for_polygons works correctly\n",
    "    h, w = float(h), float(w)\n",
    "    w_ = 1.0 * w * (w / (w + 1))\n",
    "    h_ = 1.0 * h * (h / (h + 1))\n",
    "    return w_ / x_max, h_ / y_min\n",
    "\n",
    "\n",
    "def train_net():\n",
    "    print \"start train net\"\n",
    "    x_val, y_val = np.load(inDir + '/data/x_tmp_%d.npy' % N_Cls), np.load(inDir + '/data/y_tmp_%d.npy' % N_Cls)\n",
    "    img = np.load(inDir + '/data/x_trn_%d.npy' % N_Cls)\n",
    "    msk = np.load(inDir + '/data/y_trn_%d.npy' % N_Cls)\n",
    "\n",
    "    x_trn, y_trn = get_patches(img, msk)\n",
    "\n",
    "    model = get_unet()\n",
    "    model.load_weights(inDir + '/weights/unet_10_jk0.8045')\n",
    "    model_checkpoint = ModelCheckpoint(inDir + '/weights/unet_tmp.hdf5', monitor='loss', save_best_only=True)\n",
    "    for i in range(1):\n",
    "        model.fit(x_trn, y_trn, batch_size=64, epochs=2, verbose=1, shuffle=True,\n",
    "                  callbacks=[model_checkpoint], validation_data=(x_val, y_val))\n",
    "        del x_trn\n",
    "        del y_trn\n",
    "        x_trn, y_trn = get_patches(img, msk)\n",
    "        score, trs = calc_jacc(model)\n",
    "        print 'val jk', score\n",
    "        model.save_weights(inDir + '/weights/unet_10_jk%.4f' % score)\n",
    "\n",
    "    return model\n",
    "\n",
    "\n",
    "def predict_id(id, model, trs):\n",
    "    img = M(id)\n",
    "    x = stretch_n(img)\n",
    "\n",
    "    cnv = np.zeros((960, 960, 8)).astype(np.float32)\n",
    "    prd = np.zeros((N_Cls, 960, 960)).astype(np.float32)\n",
    "    cnv[:img.shape[0], :img.shape[1], :] = x\n",
    "\n",
    "    for i in range(0, 6):\n",
    "        line = []\n",
    "        for j in range(0, 6):\n",
    "            line.append(cnv[i * ISZ:(i + 1) * ISZ, j * ISZ:(j + 1) * ISZ])\n",
    "\n",
    "        x = 2 * np.transpose(line, (0, 3, 1, 2)) - 1\n",
    "        tmp = model.predict(x, batch_size=4)\n",
    "        for j in range(tmp.shape[0]):\n",
    "            prd[:, i * ISZ:(i + 1) * ISZ, j * ISZ:(j + 1) * ISZ] = tmp[j]\n",
    "\n",
    "    # trs = [0.4, 0.1, 0.4, 0.3, 0.3, 0.5, 0.3, 0.6, 0.1, 0.1]\n",
    "    for i in range(N_Cls):\n",
    "        prd[i] = prd[i] > trs[i]\n",
    "\n",
    "    return prd[:, :img.shape[0], :img.shape[1]]\n",
    "\n",
    "\n",
    "def predict_test(model, trs):\n",
    "    print \"predict test\"\n",
    "    for i, id in enumerate(sorted(set(SB['ImageId'].tolist()))):\n",
    "        msk = predict_id(id, model, trs)\n",
    "        np.save(inDir + '/msk/10_%s' % id, msk)\n",
    "        if i % 100 == 0: print i, id\n",
    "\n",
    "\n",
    "def make_submit():\n",
    "    print \"make submission file\"\n",
    "    df = pd.read_csv(os.path.join(inDir, 'sample_submission.csv'))\n",
    "    print df.head()\n",
    "    for idx, row in df.iterrows():\n",
    "        id = row[0]\n",
    "        kls = row[1] - 1\n",
    "\n",
    "        msk = np.load(inDir + '/msk/10_%s.npy' % id)[kls]\n",
    "        pred_polygons = mask_to_polygons(msk)\n",
    "        x_max = GS.loc[GS['ImageId'] == id, 'Xmax'].as_matrix()[0]\n",
    "        y_min = GS.loc[GS['ImageId'] == id, 'Ymin'].as_matrix()[0]\n",
    "\n",
    "        x_scaler, y_scaler = get_scalers(msk.shape, x_max, y_min)\n",
    "\n",
    "        scaled_pred_polygons = shapely.affinity.scale(pred_polygons, xfact=1.0 / x_scaler, yfact=1.0 / y_scaler,\n",
    "                                                      origin=(0, 0, 0))\n",
    "\n",
    "        df.iloc[idx, 2] = shapely.wkt.dumps(scaled_pred_polygons)\n",
    "        if idx % 100 == 0: print idx\n",
    "    print df.head()\n",
    "    df.to_csv(inDir + '/subm/subm_unet_8045.csv', index=False)\n",
    "\n",
    "\n",
    "def check_predict(id='6120_2_3'):\n",
    "    model = get_unet()\n",
    "    model.load_weights(inDir + '/weights/unet_10_jk0.8045')\n",
    "\n",
    "    msk = predict_id(id, model, [0.4, 0.1, 0.4, 0.3, 0.3, 0.5, 0.3, 0.6, 0.1, 0.1])\n",
    "    img = M(id)\n",
    "\n",
    "    plt.figure()\n",
    "    ax1 = plt.subplot(131)\n",
    "    ax1.set_title('image ID:6120_2_3')\n",
    "    ax1.imshow(img[:, :, 5], cmap=plt.get_cmap('gist_ncar'))\n",
    "    ax2 = plt.subplot(132)\n",
    "    ax2.set_title('predict bldg pixels')\n",
    "    ax2.imshow(msk[0], cmap=plt.get_cmap('gray'))\n",
    "    ax3 = plt.subplot(133)\n",
    "    ax3.set_title('predict bldg polygones')\n",
    "    ax3.imshow(mask_for_polygons(mask_to_polygons(msk[0], epsilon=1), img.shape[:2]), cmap=plt.get_cmap('gray'))\n",
    "\n",
    "    plt.show()\n",
    "\n"
   ]
  },
  {
   "cell_type": "code",
   "execution_count": 10,
   "metadata": {
    "collapsed": true
   },
   "outputs": [],
   "source": [
    "inputs = Input((ISZ, ISZ,8))\n",
    "conv1 = Conv2D(32, (3, 3), activation='relu', padding='same')(inputs)\n",
    "conv1 = Conv2D(32, (3, 3), activation='relu', padding='same')(conv1)\n",
    "pool1 = MaxPooling2D(pool_size=(2, 2))(conv1)\n",
    "\n",
    "conv2 = Conv2D(64, (3, 3), activation='relu', padding='same')(pool1)\n",
    "conv2 = Conv2D(64, (3, 3), activation='relu', padding='same')(conv2)\n",
    "pool2 = MaxPooling2D(pool_size=(2, 2))(conv2)\n",
    "\n",
    "conv3 = Conv2D(128, (3, 3), activation='relu', padding='same')(pool2)\n",
    "conv3 = Conv2D(128, (3, 3), activation='relu', padding='same')(conv3)\n",
    "pool3 = MaxPooling2D(pool_size=(2, 2))(conv3)\n",
    "\n",
    "conv4 = Conv2D(256, (3, 3), activation='relu', padding='same')(pool3)\n",
    "conv4 = Conv2D(256, (3, 3), activation='relu', padding='same')(conv4)\n",
    "pool4 = MaxPooling2D(pool_size=(2, 2))(conv4)\n",
    "\n",
    "conv5 = Conv2D(512, (3, 3), activation='relu', padding='same')(pool4)\n",
    "conv5 = Conv2D(512, (3, 3), activation='relu', padding='same')(conv5)\n",
    "\n",
    "up6 = concatenate([Conv2DTranspose(256, (2, 2), strides=(2, 2), padding='same')(conv5), conv4], axis=1)\n",
    "conv6 = Conv2D(256, (3, 3), activation='relu', padding='same')(up6)\n",
    "conv6 = Conv2D(256, (3, 3), activation='relu', padding='same')(conv6)\n",
    "\n",
    "up7 = concatenate([Conv2DTranspose(128, (2, 2), strides=(2, 2), padding='same')(conv6), conv3], axis=1)\n",
    "conv7 = Conv2D(128, (3, 3), activation='relu', padding='same')(up7)\n",
    "conv7 = Conv2D(128, (3, 3), activation='relu', padding='same')(conv7)\n",
    "\n",
    "up8 = concatenate([Conv2DTranspose(64, (2, 2), strides=(2, 2), padding='same')(conv7), conv2], axis=1)\n",
    "conv8 = Conv2D(64, (3, 3), activation='relu', padding='same')(up8)\n",
    "conv8 = Conv2D(64, (3, 3), activation='relu', padding='same')(conv8)\n",
    "\n",
    "up9 = concatenate([Conv2DTranspose(32, (2, 2), strides=(2, 2), padding='same')(conv8), conv1], axis=1)\n",
    "conv9 = Conv2D(32, (3, 3), activation='relu', padding='same')(up9)\n",
    "conv9 = Conv2D(32, (3, 3), activation='relu', padding='same')(conv9)\n",
    "\n",
    "conv10 = Conv2D(N_Cls, (1, 1), activation='sigmoid')(conv9)\n",
    "\n",
    "model = Model(inputs=[inputs], outputs=[conv10])\n",
    "model.compile(optimizer=Adam(), loss='binary_crossentropy', metrics=[jaccard_coef, jaccard_coef_int, 'accuracy'])"
   ]
  },
  {
   "cell_type": "code",
   "execution_count": 35,
   "metadata": {},
   "outputs": [
    {
     "name": "stdout",
     "output_type": "stream",
     "text": [
      "_________________________________________________________________\n",
      "Layer (type)                 Output Shape              Param #   \n",
      "=================================================================\n",
      "input_9 (InputLayer)         (None, 8, 160, 160)       0         \n",
      "_________________________________________________________________\n",
      "conv2d_142 (Conv2D)          (None, 32, 160, 160)      2336      \n",
      "_________________________________________________________________\n",
      "conv2d_143 (Conv2D)          (None, 32, 160, 160)      9248      \n",
      "_________________________________________________________________\n",
      "max_pooling2d_33 (MaxPooling (None, 32, 80, 80)        0         \n",
      "_________________________________________________________________\n",
      "conv2d_144 (Conv2D)          (None, 64, 80, 80)        18496     \n",
      "_________________________________________________________________\n",
      "conv2d_145 (Conv2D)          (None, 64, 80, 80)        36928     \n",
      "_________________________________________________________________\n",
      "max_pooling2d_34 (MaxPooling (None, 64, 40, 40)        0         \n",
      "_________________________________________________________________\n",
      "conv2d_146 (Conv2D)          (None, 128, 40, 40)       73856     \n",
      "_________________________________________________________________\n",
      "conv2d_147 (Conv2D)          (None, 128, 40, 40)       147584    \n",
      "_________________________________________________________________\n",
      "max_pooling2d_35 (MaxPooling (None, 128, 20, 20)       0         \n",
      "_________________________________________________________________\n",
      "conv2d_148 (Conv2D)          (None, 256, 20, 20)       295168    \n",
      "_________________________________________________________________\n",
      "conv2d_149 (Conv2D)          (None, 256, 20, 20)       590080    \n",
      "_________________________________________________________________\n",
      "max_pooling2d_36 (MaxPooling (None, 256, 10, 10)       0         \n",
      "_________________________________________________________________\n",
      "conv2d_150 (Conv2D)          (None, 512, 10, 10)       1180160   \n",
      "_________________________________________________________________\n",
      "conv2d_151 (Conv2D)          (None, 512, 10, 10)       2359808   \n",
      "_________________________________________________________________\n",
      "conv2d_transpose_29 (Conv2DT (None, 256, 20, 20)       524544    \n",
      "_________________________________________________________________\n",
      "concatenate_29 (Concatenate) (None, 512, 20, 20)       0         \n",
      "_________________________________________________________________\n",
      "conv2d_152 (Conv2D)          (None, 256, 20, 20)       1179904   \n",
      "_________________________________________________________________\n",
      "conv2d_153 (Conv2D)          (None, 256, 20, 20)       590080    \n",
      "_________________________________________________________________\n",
      "conv2d_transpose_30 (Conv2DT (None, 128, 40, 40)       131200    \n",
      "_________________________________________________________________\n",
      "concatenate_30 (Concatenate) (None, 256, 40, 40)       0         \n",
      "_________________________________________________________________\n",
      "conv2d_154 (Conv2D)          (None, 128, 40, 40)       295040    \n",
      "_________________________________________________________________\n",
      "conv2d_155 (Conv2D)          (None, 128, 40, 40)       147584    \n",
      "_________________________________________________________________\n",
      "conv2d_transpose_31 (Conv2DT (None, 64, 80, 80)        32832     \n",
      "_________________________________________________________________\n",
      "concatenate_31 (Concatenate) (None, 128, 80, 80)       0         \n",
      "_________________________________________________________________\n",
      "conv2d_156 (Conv2D)          (None, 64, 80, 80)        73792     \n",
      "_________________________________________________________________\n",
      "conv2d_157 (Conv2D)          (None, 64, 80, 80)        36928     \n",
      "_________________________________________________________________\n",
      "conv2d_transpose_32 (Conv2DT (None, 32, 160, 160)      8224      \n",
      "_________________________________________________________________\n",
      "concatenate_32 (Concatenate) (None, 64, 160, 160)      0         \n",
      "_________________________________________________________________\n",
      "conv2d_158 (Conv2D)          (None, 32, 160, 160)      18464     \n",
      "_________________________________________________________________\n",
      "conv2d_159 (Conv2D)          (None, 32, 160, 160)      9248      \n",
      "_________________________________________________________________\n",
      "conv2d_160 (Conv2D)          (None, 10, 160, 160)      330       \n",
      "=================================================================\n",
      "Total params: 7,761,834\n",
      "Trainable params: 7,761,834\n",
      "Non-trainable params: 0\n",
      "_________________________________________________________________\n"
     ]
    }
   ],
   "source": [
    "model.summary()"
   ]
  },
  {
   "cell_type": "code",
   "execution_count": 28,
   "metadata": {
    "collapsed": true
   },
   "outputs": [],
   "source": [
    "x_val, y_val = np.load(inDir + '/data/x_tmp_%d.npy' % N_Cls), np.load(inDir + '/data/y_tmp_%d.npy' % N_Cls)\n",
    "img = np.load(inDir + '/data/x_trn_%d.npy' % N_Cls)\n",
    "msk = np.load(inDir + '/data/y_trn_%d.npy' % N_Cls)"
   ]
  },
  {
   "cell_type": "code",
   "execution_count": 29,
   "metadata": {},
   "outputs": [
    {
     "name": "stdout",
     "output_type": "stream",
     "text": [
      "(3439, 8, 160, 160) (3439, 10, 160, 160) 1.0 -1.0 1.0 0.0\n"
     ]
    }
   ],
   "source": [
    "x_trn, y_trn = get_patches(img, msk)"
   ]
  },
  {
   "cell_type": "code",
   "execution_count": 33,
   "metadata": {},
   "outputs": [
    {
     "data": {
      "text/plain": [
       "((1011, 8, 160, 160), (1011, 10, 160, 160))"
      ]
     },
     "execution_count": 33,
     "metadata": {},
     "output_type": "execute_result"
    }
   ],
   "source": [
    "x_val.shape, y_val.shape"
   ]
  },
  {
   "cell_type": "code",
   "execution_count": 36,
   "metadata": {},
   "outputs": [
    {
     "name": "stdout",
     "output_type": "stream",
     "text": [
      "Train on 3439 samples, validate on 1011 samples\n",
      "Epoch 1/1\n",
      "3439/3439 [==============================] - 386s - loss: 0.2926 - jaccard_coef: 0.0463 - jaccard_coef_int: 0.0174 - acc: 0.8883 - val_loss: 0.1887 - val_jaccard_coef: 0.0448 - val_jaccard_coef_int: 3.3715e-04 - val_acc: 0.9236\n"
     ]
    },
    {
     "data": {
      "text/plain": [
       "<keras.callbacks.History at 0x7fd68854cdd0>"
      ]
     },
     "execution_count": 36,
     "metadata": {},
     "output_type": "execute_result"
    }
   ],
   "source": [
    "model.fit(x_trn, y_trn, batch_size=64, epochs=1, verbose=1, shuffle=True, validation_data=(x_val, y_val))"
   ]
  },
  {
   "cell_type": "code",
   "execution_count": 9,
   "metadata": {},
   "outputs": [
    {
     "name": "stdout",
     "output_type": "stream",
     "text": [
      "start train net\n",
      "(3439, 8, 160, 160) (3439, 10, 160, 160) 1.0 -1.0 1.0 0.0\n",
      "Train on 3439 samples, validate on 1035 samples\n",
      "Epoch 1/2\n",
      "3439/3439 [==============================] - 391s - loss: 0.0893 - jaccard_coef: 0.2224 - jaccard_coef_int: 0.2154 - acc: 0.9687 - val_loss: 0.0776 - val_jaccard_coef: 0.2532 - val_jaccard_coef_int: 0.2442 - val_acc: 0.9725\n",
      "Epoch 2/2\n",
      "3439/3439 [==============================] - 376s - loss: 0.0747 - jaccard_coef: 0.2724 - jaccard_coef_int: 0.2698 - acc: 0.9733 - val_loss: 0.0709 - val_jaccard_coef: 0.2937 - val_jaccard_coef_int: 0.2953 - val_acc: 0.9749\n",
      "(3516, 8, 160, 160) (3516, 10, 160, 160) 1.0 -1.0 1.0 0.0\n",
      "(1035, 10, 160, 160) (1035, 10, 160, 160)\n",
      "0 0.833874188406 0.4\n",
      "1 0.643956376611 0.2\n",
      "2 0.855818228441 0.5\n",
      "3 0.416823671498 0.5\n",
      "4 0.516591249344 0.4\n",
      "5 0.901819295979 0.6\n",
      "6 0.978429053747 0.3\n",
      "7 0.965467794986 0.7\n",
      "8 0.98652173913 0.3\n",
      "9 0.945760869565 0.2\n",
      "val jk 0.804506246771\n"
     ]
    }
   ],
   "source": [
    "model = train_net()"
   ]
  },
  {
   "cell_type": "code",
   "execution_count": 10,
   "metadata": {},
   "outputs": [
    {
     "name": "stdout",
     "output_type": "stream",
     "text": [
      "start train net\n",
      "(3551, 8, 160, 160) (3551, 10, 160, 160) 1.0 -1.0 1.0 0.0\n",
      "Train on 3551 samples, validate on 1039 samples\n",
      "Epoch 1/2\n",
      "3551/3551 [==============================] - 386s - loss: 0.2494 - jaccard_coef: 0.0460 - jaccard_coef_int: 0.0139 - acc: 0.8956 - val_loss: 0.1871 - val_jaccard_coef: 0.0468 - val_jaccard_coef_int: 0.0012 - val_acc: 0.9228\n",
      "Epoch 2/2\n",
      "3551/3551 [==============================] - 380s - loss: 0.1824 - jaccard_coef: 0.0533 - jaccard_coef_int: 0.0203 - acc: 0.9230 - val_loss: 0.1802 - val_jaccard_coef: 0.0565 - val_jaccard_coef_int: 0.0118 - val_acc: 0.9236\n",
      "(3551, 8, 160, 160) (3551, 10, 160, 160) 1.0 -1.0 1.0 0.0\n",
      "(1039, 10, 160, 160) (1039, 10, 160, 160)\n",
      "0 0.734618623677 0.9\n",
      "1 0.646691530318 0.4\n",
      "2 0.816782964389 0.5\n",
      "3 0.397479547642 0.5\n",
      "4 0.177044627004 0.2\n",
      "5 0.466788979788 0.7\n",
      "6 0.946649422522 0.5\n",
      "7 0.961266843118 0.4\n",
      "8 0.988949711261 0.3\n",
      "9 0.948147256978 0.5\n",
      "val jk 0.70844195067\n"
     ]
    }
   ],
   "source": [
    "model = train_net()"
   ]
  },
  {
   "cell_type": "code",
   "execution_count": 10,
   "metadata": {},
   "outputs": [
    {
     "name": "stdout",
     "output_type": "stream",
     "text": [
      "(1035, 10, 160, 160) (1035, 10, 160, 160)\n",
      "0 0.833874188406 0.4\n",
      "1 0.643956376611 0.2\n",
      "2 0.855818228441 0.5\n",
      "3 0.416823671498 0.5\n",
      "4 0.516591249344 0.4\n",
      "5 0.901819295979 0.6\n",
      "6 0.978429053747 0.3\n",
      "7 0.965467794986 0.7\n",
      "8 0.98652173913 0.3\n",
      "9 0.945760869565 0.2\n"
     ]
    }
   ],
   "source": [
    "# model = train_net()\n",
    "score, trs = calc_jacc(model)"
   ]
  },
  {
   "cell_type": "code",
   "execution_count": 11,
   "metadata": {},
   "outputs": [
    {
     "name": "stdout",
     "output_type": "stream",
     "text": [
      "predict test\n",
      "0 6010_0_0\n",
      "100 6050_1_0\n",
      "200 6090_1_1\n",
      "300 6130_2_4\n",
      "400 6170_4_0\n"
     ]
    }
   ],
   "source": [
    "predict_test(model, trs)"
   ]
  },
  {
   "cell_type": "code",
   "execution_count": 12,
   "metadata": {},
   "outputs": [
    {
     "data": {
      "image/png": "[encoded data removed]",
      "text/plain": [
       "<matplotlib.figure.Figure at 0x7fb2898ada10>"
      ]
     },
     "metadata": {},
     "output_type": "display_data"
    }
   ],
   "source": [
    "check_predict()"
   ]
  },
  {
   "cell_type": "code",
   "execution_count": 13,
   "metadata": {},
   "outputs": [
    {
     "name": "stderr",
     "output_type": "stream",
     "text": [
      "Self-intersection at or near point 443.97894736842107 309.38947368421054\n"
     ]
    },
    {
     "name": "stdout",
     "output_type": "stream",
     "text": [
      "make submission file\n",
      "    ImageId  ClassType                                    MultipolygonWKT\n",
      "0  6120_2_4          1  POLYGON ((0 0, 0.009188 0, 0.009188 -0.0090399...\n",
      "1  6120_2_4          2  POLYGON ((0 0, 0.009188 0, 0.009188 -0.0090399...\n",
      "2  6120_2_4          3  POLYGON ((0 0, 0.009188 0, 0.009188 -0.0090399...\n",
      "3  6120_2_4          4  POLYGON ((0 0, 0.009188 0, 0.009188 -0.0090399...\n",
      "4  6120_2_4          5  POLYGON ((0 0, 0.009188 0, 0.009188 -0.0090399...\n",
      "0\n"
     ]
    },
    {
     "name": "stderr",
     "output_type": "stream",
     "text": [
      "Self-intersection at or near point 270.51162790697674 236.02325581395348\n",
      "Self-intersection at or near point 494.69767441860466 97.069767441860463\n",
      "Self-intersection at or near point 309.40983606557376 177.37704918032787\n",
      "Self-intersection at or near point 809.96518375241783 525.61702127659578\n",
      "Self-intersection at or near point 181.0952380952381 597.23809523809518\n",
      "Self-intersection at or near point 338.10738255033556 601.93288590604027\n",
      "Self-intersection at or near point 840.59322033898309 548.30508474576266\n",
      "Self-intersection at or near point 726.18461538461543 760.55384615384617\n",
      "Self-intersection at or near point 317.39999999999998 6.5999999999999996\n",
      "Self-intersection at or near point 819.06896551724139 337.37931034482756\n",
      "Self-intersection at or near point 818.192118226601 763.64039408866995\n",
      "Self-intersection at or near point 675.38461538461536 703.30769230769226\n",
      "Self-intersection at or near point 752.42335766423355 88.992700729927009\n",
      "Self-intersection at or near point 1.8476821192052979 24.635761589403973\n",
      "Self-intersection at or near point 800 175.19999999999999\n",
      "Self-intersection at or near point 545.40932642487041 637.73575129533674\n",
      "Self-intersection at or near point 846.35294117647061 434\n",
      "Self-intersection at or near point 833.97297297297303 175.48108108108107\n",
      "Self-intersection at or near point 549.06741573033707 283.0561797752809\n",
      "Self-intersection at or near point 811.70588235294122 87.235294117647058\n"
     ]
    },
    {
     "name": "stdout",
     "output_type": "stream",
     "text": [
      "100\n"
     ]
    },
    {
     "name": "stderr",
     "output_type": "stream",
     "text": [
      "Self-intersection at or near point 519.32000000000005 468.63999999999999\n",
      "Self-intersection at or near point 796.27999999999997 16\n",
      "Self-intersection at or near point 844.35570469798654 820.40939597315435\n",
      "Self-intersection at or near point 508.62686567164178 726.3432835820895\n",
      "Self-intersection at or near point 349.08450704225351 501.90140845070425\n",
      "Self-intersection at or near point 822.40865384615381 112.9375\n",
      "Self-intersection at or near point 627.16666666666663 321\n",
      "Self-intersection at or near point 833.34841628959271 171.02262443438914\n",
      "Self-intersection at or near point 749.27848101265818 320.33417721518987\n",
      "Ring Self-intersection at or near point 480 180\n",
      "Self-intersection at or near point 453.55555555555554 402.5\n",
      "Self-intersection at or near point 790.97058823529414 161.02941176470588\n",
      "Self-intersection at or near point 714.14308426073137 344.60254372019079\n",
      "Self-intersection at or near point 502.80865224625626 832.28119800332775\n",
      "Self-intersection at or near point 328.30232558139534 800.11627906976742\n",
      "Self-intersection at or near point 639.96000000000004 477.51999999999998\n",
      "Self-intersection at or near point 499.68224299065423 419.14953271028037\n",
      "Self-intersection at or near point 452.61904761904759 241.57142857142858\n",
      "Self-intersection at or near point 511.71052631578948 797.23684210526312\n",
      "Self-intersection at or near point 563.19834710743805 566.03305785123962\n",
      "Self-intersection at or near point 240.4848484848485 667.66666666666663\n",
      "Self-intersection at or near point 286.2837837837838 615.79729729729729\n",
      "Self-intersection at or near point 529.52631578947364 351.4736842105263\n",
      "Self-intersection at or near point 643.08035714285711 20.3125\n",
      "Self-intersection at or near point 433.70833333333331 487.02083333333331\n",
      "Self-intersection at or near point 563.84057971014488 45.275362318840578\n",
      "Ring Self-intersection at or near point 835 100\n",
      "Self-intersection at or near point 641.09489051094886 411.93430656934305\n",
      "Self-intersection at or near point 749.67857142857144 480\n",
      "Self-intersection at or near point 831.03982300884957 747.35840707964599\n"
     ]
    },
    {
     "name": "stdout",
     "output_type": "stream",
     "text": [
      "200\n"
     ]
    },
    {
     "name": "stderr",
     "output_type": "stream",
     "text": [
      "Self-intersection at or near point 755.96078431372553 176.94117647058823\n",
      "Self-intersection at or near point 688.88541666666663 459.0625\n",
      "Self-intersection at or near point 753.74641148325361 516.68421052631584\n",
      "Self-intersection at or near point 537.71428571428567 323.71428571428572\n",
      "Self-intersection at or near point 843.08064516129036 280.88709677419354\n",
      "Self-intersection at or near point 154.99065420560748 468.69158878504675\n",
      "Self-intersection at or near point 772.80565371024738 572.9293286219081\n",
      "Self-intersection at or near point 845.83333333333337 147.33333333333334\n",
      "Self-intersection at or near point 660.58947368421047 371.25263157894739\n",
      "Self-intersection at or near point 810.63736263736268 148.96703296703296\n",
      "Self-intersection at or near point 826.12 324.72000000000003\n",
      "Self-intersection at or near point 464.14285714285717 155\n",
      "Self-intersection at or near point 803.68811881188117 652.96039603960401\n",
      "Self-intersection at or near point 845.36363636363637 251.81818181818181\n",
      "Self-intersection at or near point 743.23809523809518 640.71428571428567\n",
      "Self-intersection at or near point 805.85365853658539 830.8780487804878\n"
     ]
    },
    {
     "name": "stdout",
     "output_type": "stream",
     "text": [
      "300\n"
     ]
    },
    {
     "name": "stderr",
     "output_type": "stream",
     "text": [
      "Self-intersection at or near point 764.14285714285711 751.85714285714289\n",
      "Self-intersection at or near point 655.63636363636363 823\n",
      "Self-intersection at or near point 788.36900369003695 289.5608856088561\n",
      "Self-intersection at or near point 831.06759443339956 768.93439363817095\n",
      "Self-intersection at or near point 643.53312302839117 675.64668769716093\n",
      "Self-intersection at or near point 819 542.27272727272725\n",
      "Self-intersection at or near point 696.59322033898309 744.71186440677968\n",
      "Ring Self-intersection at or near point 478 664\n",
      "Self-intersection at or near point 141.1764705882353 19.764705882352942\n",
      "Self-intersection at or near point 637.34042553191489 816.37234042553189\n",
      "Self-intersection at or near point 289.07865168539325 644.03370786516859\n",
      "Self-intersection at or near point 477.80260303687635 212.96963123644252\n",
      "Self-intersection at or near point 47.040404040404042 800.32323232323233\n",
      "Self-intersection at or near point 476.87012987012986 701.01298701298697\n",
      "Self-intersection at or near point 264.60058309037902 420.35568513119534\n",
      "Self-intersection at or near point 674 638\n",
      "Self-intersection at or near point 90.304347826086953 476.89855072463769\n",
      "Self-intersection at or near point 249.88 305.95999999999998\n",
      "Self-intersection at or near point 599.43181818181813 61.795454545454547\n",
      "Self-intersection at or near point 26.568627450980394 607.37254901960785\n",
      "Ring Self-intersection at or near point 271 201\n",
      "Self-intersection at or near point 606.14814814814815 172.92592592592592\n",
      "Self-intersection at or near point 641.90909090909088 529\n",
      "Self-intersection at or near point 152.54353562005278 786.664907651715\n",
      "Self-intersection at or near point 753.07692307692309 392.69230769230768\n",
      "Self-intersection at or near point 695.5836575875486 5.6848249027237356\n",
      "Self-intersection at or near point 753.24050632911394 18.354430379746837\n"
     ]
    },
    {
     "name": "stdout",
     "output_type": "stream",
     "text": [
      "400\n"
     ]
    },
    {
     "name": "stderr",
     "output_type": "stream",
     "text": [
      "Self-intersection at or near point 676.54999999999995 835.37\n",
      "Self-intersection at or near point 830.89320388349518 589.82524271844659\n",
      "Self-intersection at or near point 133.75 637.6875\n",
      "Self-intersection at or near point 151.46494464944649 438.2029520295203\n",
      "Self-intersection at or near point 622.13725490196077 688\n",
      "Self-intersection at or near point 831.37864077669906 649.92233009708741\n",
      "Self-intersection at or near point 699.89473684210532 816.21052631578948\n",
      "Self-intersection at or near point 371.23529411764707 714.70000000000005\n",
      "Self-intersection at or near point 680.61318051575927 494.52722063037248\n",
      "Self-intersection at or near point 49 533\n",
      "Self-intersection at or near point 847.66129032258061 699.56451612903231\n",
      "Self-intersection at or near point 810.17365269461072 438.74850299401197\n",
      "Self-intersection at or near point 280.87969924812029 262.4736842105263\n",
      "Self-intersection at or near point 823.79999999999995 301.14999999999998\n",
      "Self-intersection at or near point 157.76363636363635 152.12727272727273\n",
      "Self-intersection at or near point 565.21929824561403 360.57017543859649\n",
      "Self-intersection at or near point 739.44303797468353 812.45569620253161\n",
      "Ring Self-intersection at or near point 567 621\n",
      "Self-intersection at or near point 846.87387387387389 786.99099099099101\n",
      "Self-intersection at or near point 484.96610169491527 746.32203389830511\n",
      "Self-intersection at or near point 617.42990654205607 364.42056074766356\n",
      "Self-intersection at or near point 509.11392405063293 232.12658227848101\n",
      "Self-intersection at or near point 788.51612903225805 383.25806451612902\n",
      "Self-intersection at or near point 304.6519823788546 33.59911894273128\n"
     ]
    },
    {
     "name": "stdout",
     "output_type": "stream",
     "text": [
      "500\n"
     ]
    },
    {
     "name": "stderr",
     "output_type": "stream",
     "text": [
      "Self-intersection at or near point 397.05780346820808 832.81695568400767\n",
      "Self-intersection at or near point 821.03875968992247 38.046511627906973\n",
      "Self-intersection at or near point 821 692.05555555555554\n",
      "Self-intersection at or near point 845.06153846153848 233.56923076923076\n",
      "Self-intersection at or near point 842.08071748878922 700.69955156950675\n",
      "Self-intersection at or near point 178.77272727272728 504.04545454545456\n",
      "Self-intersection at or near point 812.46153846153845 258.07692307692309\n",
      "Self-intersection at or near point 574.25 811.5\n",
      "Self-intersection at or near point 846.15999999999997 213.12\n",
      "Self-intersection at or near point 373.20454545454544 734.36742424242425\n",
      "Self-intersection at or near point 821.66515837104077 77.425339366515843\n",
      "Self-intersection at or near point 343.55000000000001 349.25\n",
      "Self-intersection at or near point 790.93103448275861 132.13793103448276\n",
      "Self-intersection at or near point 754.39130434782612 510.6521739130435\n",
      "Self-intersection at or near point 813.24817518248176 318.44160583941607\n",
      "Self-intersection at or near point 62.825581395348834 138.27906976744185\n",
      "Self-intersection at or near point 838.5934065934066 116.53846153846153\n",
      "Self-intersection at or near point 824.77027027027032 72.412162162162161\n"
     ]
    },
    {
     "name": "stdout",
     "output_type": "stream",
     "text": [
      "600\n"
     ]
    },
    {
     "name": "stderr",
     "output_type": "stream",
     "text": [
      "Self-intersection at or near point 801.92035398230087 337.35398230088498\n",
      "Self-intersection at or near point 798.86956521739125 579.2086956521739\n",
      "Self-intersection at or near point 810.94339622641508 389.07547169811323\n",
      "Self-intersection at or near point 765.29032258064512 336.09677419354841\n",
      "Self-intersection at or near point 546.70103092783506 558.2783505154639\n",
      "Self-intersection at or near point 810.60573476702507 237.27598566308245\n",
      "Self-intersection at or near point 157.40000000000001 785.20000000000005\n",
      "Self-intersection at or near point 34.307692307692307 6.2564102564102564\n",
      "Self-intersection at or near point 818.61971830985919 673.04929577464793\n",
      "Self-intersection at or near point 812 110.18181818181819\n",
      "Self-intersection at or near point 560.05479452054794 457.09589041095893\n",
      "Self-intersection at or near point 205.1404255319149 202.01276595744682\n",
      "Self-intersection at or near point 785.20481927710841 7.7590361445783129\n",
      "Self-intersection at or near point 313.11111111111109 727.5\n",
      "Self-intersection at or near point 180.05882352941177 394.52941176470586\n",
      "Self-intersection at or near point 750.88888888888891 34.555555555555557\n",
      "Self-intersection at or near point 679.79019073569486 322.44141689373299\n",
      "Self-intersection at or near point 755.5 823.125\n",
      "Self-intersection at or near point 815.69230769230774 639.1868131868132\n",
      "Ring Self-intersection at or near point 799 614\n"
     ]
    },
    {
     "name": "stdout",
     "output_type": "stream",
     "text": [
      "700\n"
     ]
    },
    {
     "name": "stderr",
     "output_type": "stream",
     "text": [
      "Self-intersection at or near point 520.35000000000002 672.64999999999998\n",
      "Self-intersection at or near point 817.72727272727275 47.81818181818182\n",
      "Self-intersection at or near point 820.87719298245611 355.94736842105266\n",
      "Self-intersection at or near point 35 483.27272727272725\n",
      "Self-intersection at or near point 226.42700729927006 75.748175182481745\n",
      "Self-intersection at or near point 799.11904761904759 555.16666666666663\n",
      "Self-intersection at or near point 20.166666666666668 99.833333333333329\n",
      "Self-intersection at or near point 679.32751091703062 139.73799126637556\n",
      "Self-intersection at or near point 12.739130434782609 830.43478260869563\n",
      "Self-intersection at or near point 794.80079681274901 303.47808764940237\n",
      "Self-intersection at or near point 169.52941176470588 816.70588235294122\n",
      "Self-intersection at or near point 563.29787234042556 349.55319148936172\n",
      "Self-intersection at or near point 444.09876543209879 308.44444444444446\n",
      "Self-intersection at or near point 642.41772151898738 786.30379746835445\n",
      "Self-intersection at or near point 414.00719424460431 347.23741007194246\n",
      "Self-intersection at or near point 479.01824212271976 665.99834162520733\n",
      "Self-intersection at or near point 463.26086956521738 464.13043478260869\n",
      "Self-intersection at or near point 340.23853211009174 761.06422018348621\n",
      "Self-intersection at or near point 542.01265822784808 576.92405063291142\n",
      "Self-intersection at or near point 235 576\n",
      "Self-intersection at or near point 841.85053380782915 288.91814946619218\n",
      "Self-intersection at or near point 768.94444444444446 677.93650793650795\n",
      "Self-intersection at or near point 318.24683544303798 824.92405063291142\n",
      "Self-intersection at or near point 750.10236220472439 692.14173228346453\n",
      "Self-intersection at or near point 825.14285714285711 88.714285714285708\n",
      "Self-intersection at or near point 477.80975609756098 537.20487804878053\n",
      "Self-intersection at or near point 114 216\n"
     ]
    },
    {
     "name": "stdout",
     "output_type": "stream",
     "text": [
      "800\n"
     ]
    },
    {
     "name": "stderr",
     "output_type": "stream",
     "text": [
      "Self-intersection at or near point 682.936170212766 25.48936170212766\n",
      "Self-intersection at or near point 777.50649350649348 652.68831168831173\n",
      "Self-intersection at or near point 659.77325581395348 476.62790697674421\n",
      "Self-intersection at or near point 42.307692307692307 24.692307692307693\n",
      "Self-intersection at or near point 609.58490566037733 115.05660377358491\n",
      "Self-intersection at or near point 214.02857142857144 336.65714285714284\n",
      "Self-intersection at or near point 616.82352941176475 22.705882352941178\n",
      "Self-intersection at or near point 793.53246753246754 606.28571428571433\n",
      "Self-intersection at or near point 736.47352024922122 477.69158878504675\n",
      "Self-intersection at or near point 380.79729729729729 116.02702702702703\n",
      "Self-intersection at or near point 512.88636363636363 798.52272727272725\n",
      "Self-intersection at or near point 784.89423076923072 796.61217948717945\n",
      "Self-intersection at or near point 291.07272727272726 822.69090909090914\n",
      "Self-intersection at or near point 736.88163265306127 422.31428571428569\n",
      "Self-intersection at or near point 661 758.03999999999996\n",
      "Self-intersection at or near point 236.52000000000001 711.72000000000003\n",
      "Self-intersection at or near point 801.17142857142858 117.08571428571429\n",
      "Self-intersection at or near point 17.872727272727271 749.90909090909088\n",
      "Self-intersection at or near point 692.05722326454031 382.80112570356471\n",
      "Self-intersection at or near point 43.021885521885523 801.2188552188552\n",
      "Self-intersection at or near point 643.77999999999997 816.01999999999998\n",
      "Self-intersection at or near point 821.05726872246692 731.51541850220269\n",
      "Self-intersection at or near point 775.14285714285711 692.14285714285711\n",
      "Self-intersection at or near point 177.06130268199234 824.11494252873558\n",
      "Self-intersection at or near point 844.41176470588232 133.94117647058823\n"
     ]
    },
    {
     "name": "stdout",
     "output_type": "stream",
     "text": [
      "900\n"
     ]
    },
    {
     "name": "stderr",
     "output_type": "stream",
     "text": [
      "Self-intersection at or near point 173.94230769230768 604.86538461538464\n",
      "Self-intersection at or near point 794.95041322314046 369.28099173553721\n",
      "Self-intersection at or near point 23.210300429184549 785.94420600858371\n",
      "Self-intersection at or near point 840.54109589041093 379.46575342465752\n",
      "Self-intersection at or near point 649.38766519823787 540.28193832599118\n",
      "Ring Self-intersection at or near point 694 799\n",
      "Self-intersection at or near point 819.13698630136992 152.1917808219178\n",
      "Self-intersection at or near point 845.63617463617459 799.34095634095638\n",
      "Self-intersection at or near point 841.52054794520552 616.2465753424658\n",
      "Self-intersection at or near point 501.65329512893982 141.60458452722062\n",
      "Self-intersection at or near point 317.42975206611573 128.86776859504133\n",
      "Self-intersection at or near point 843.72727272727275 232.45454545454547\n",
      "Self-intersection at or near point 799.37209302325584 415.09302325581393\n",
      "Self-intersection at or near point 98.991189427312776 300.14977973568284\n",
      "Self-intersection at or near point 845.98076923076928 341.34615384615387\n",
      "Self-intersection at or near point 804.57894736842104 149.77443609022558\n",
      "Self-intersection at or near point 389.24193548387098 691.98387096774195\n",
      "Self-intersection at or near point 825.04999999999995 315.91500000000002\n",
      "Self-intersection at or near point 761.8878504672897 762.89719626168221\n",
      "Self-intersection at or near point 338.19999999999999 13\n"
     ]
    },
    {
     "name": "stdout",
     "output_type": "stream",
     "text": [
      "1000\n"
     ]
    },
    {
     "name": "stderr",
     "output_type": "stream",
     "text": [
      "Self-intersection at or near point 847.91240875912411 612.07299270072997\n",
      "Self-intersection at or near point 846.73539518900338 652.92783505154637\n",
      "Self-intersection at or near point 86.219780219780219 120.27472527472527\n",
      "Self-intersection at or near point 564.42222222222222 36.94222222222222\n",
      "Self-intersection at or near point 823.29213483146066 376.13483146067415\n",
      "Self-intersection at or near point 711.95652173913038 699.56521739130437\n",
      "Self-intersection at or near point 845.89189189189187 578.94594594594594\n",
      "Self-intersection at or near point 122.12865497076024 594.32163742690057\n",
      "Self-intersection at or near point 843.8730158730159 431.47619047619048\n",
      "Self-intersection at or near point 826.2389380530974 439.46902654867256\n",
      "Self-intersection at or near point 773 699\n",
      "Self-intersection at or near point 806.60000000000002 731.29999999999995\n",
      "Self-intersection at or near point 801.10071942446041 322.51079136690646\n",
      "Self-intersection at or near point 478.02272727272725 677.40909090909088\n",
      "Self-intersection at or near point 285.09195402298849 726.88505747126442\n",
      "Self-intersection at or near point 641.57142857142856 709.76190476190482\n",
      "Self-intersection at or near point 638.0322580645161 160.06451612903226\n",
      "Self-intersection at or near point 640.15706806282719 275.42931937172773\n",
      "Self-intersection at or near point 845.67441860465112 88\n",
      "Self-intersection at or near point 337.7216494845361 44.257731958762889\n"
     ]
    },
    {
     "name": "stdout",
     "output_type": "stream",
     "text": [
      "1100\n"
     ]
    },
    {
     "name": "stderr",
     "output_type": "stream",
     "text": [
      "Self-intersection at or near point 613.07317073170736 23.780487804878049\n",
      "Self-intersection at or near point 785.58333333333337 495.58333333333331\n",
      "Self-intersection at or near point 318.54285714285714 783.17142857142858\n",
      "Self-intersection at or near point 620.66037735849056 754.67924528301887\n",
      "Self-intersection at or near point 627.66666666666663 785\n",
      "Self-intersection at or near point 214.12727272727273 103.40000000000001\n",
      "Self-intersection at or near point 102.16216216216216 294.89189189189187\n",
      "Self-intersection at or near point 714.10434782608695 86.826086956521735\n",
      "Self-intersection at or near point 744 797.5\n",
      "Ring Self-intersection at or near point 848 379\n",
      "Ring Self-intersection at or near point 617 666\n",
      "Self-intersection at or near point 711.37070524412297 109.36889692585895\n",
      "Self-intersection at or near point 797.64912280701753 139.19298245614036\n",
      "Ring Self-intersection at or near point 558 710\n",
      "Self-intersection at or near point 817.69230769230774 377.73076923076923\n",
      "Self-intersection at or near point 79.375 333.75\n",
      "Self-intersection at or near point 522.34883720930236 782.67441860465112\n",
      "Self-intersection at or near point 639.0703125 677.15625\n",
      "Self-intersection at or near point 253.34883720930233 830.10963455149499\n",
      "Self-intersection at or near point 553.82608695652175 670.82608695652175\n",
      "Self-intersection at or near point 774.91308089500865 488.09380378657488\n",
      "Self-intersection at or near point 415.80000000000001 182.40000000000001\n",
      "Self-intersection at or near point 209.07843137254903 290.37254901960785\n",
      "Self-intersection at or near point 840.4924623115578 305.23115577889445\n",
      "Self-intersection at or near point 801.88636363636363 323.54545454545456\n",
      "Self-intersection at or near point 565.90243902439022 473.3170731707317\n",
      "Self-intersection at or near point 445.10743801652893 530.02479338842977\n",
      "Self-intersection at or near point 832.18652849740931 293.02590673575128\n",
      "Self-intersection at or near point 786.90909090909088 218\n"
     ]
    },
    {
     "name": "stdout",
     "output_type": "stream",
     "text": [
      "1200\n"
     ]
    },
    {
     "name": "stderr",
     "output_type": "stream",
     "text": [
      "Self-intersection at or near point 148.46666666666667 681.42666666666662\n",
      "Self-intersection at or near point 677.29729729729729 209.35135135135135\n",
      "Ring Self-intersection at or near point 160 358\n",
      "Self-intersection at or near point 806.71428571428567 607.85714285714289\n",
      "Self-intersection at or near point 584.23076923076928 682.76923076923072\n",
      "Self-intersection at or near point 530.8350515463917 413.49484536082474\n",
      "Self-intersection at or near point 687.92920353982299 793.66371681415933\n",
      "Self-intersection at or near point 770.25641025641028 678.56410256410254\n",
      "Self-intersection at or near point 586.58333333333337 153.55555555555554\n",
      "Self-intersection at or near point 789.20000000000005 342\n",
      "Self-intersection at or near point 778.3125 825.4375\n",
      "Self-intersection at or near point 785.25 281.25\n",
      "Self-intersection at or near point 637.00980392156862 644.57843137254906\n",
      "Self-intersection at or near point 11.964601769911505 303.59292035398232\n",
      "Self-intersection at or near point 643.83870967741939 816.35483870967744\n",
      "Self-intersection at or near point 493.90909090909093 532.90909090909088\n",
      "Self-intersection at or near point 846.43589743589746 581.30769230769226\n",
      "Self-intersection at or near point 787.41696113074204 203.62897526501766\n",
      "Self-intersection at or near point 550.18867924528297 797.24528301886789\n",
      "Self-intersection at or near point 701.24000000000001 695.39999999999998\n",
      "Self-intersection at or near point 520.51612903225805 508.80645161290323\n",
      "Self-intersection at or near point 825.73333333333335 75.266666666666666\n",
      "Self-intersection at or near point 693.06008583690982 555.42060085836908\n",
      "Self-intersection at or near point 808.0840336134454 831.60784313725492\n"
     ]
    },
    {
     "name": "stdout",
     "output_type": "stream",
     "text": [
      "1300\n"
     ]
    },
    {
     "name": "stderr",
     "output_type": "stream",
     "text": [
      "Self-intersection at or near point 832.6521739130435 368.91304347826087\n",
      "Self-intersection at or near point 387.08080808080808 598.53535353535358\n",
      "Self-intersection at or near point 807 733.33333333333337\n",
      "Self-intersection at or near point 836.42857142857144 64.857142857142861\n",
      "Self-intersection at or near point 692.31818181818187 49.363636363636367\n",
      "Self-intersection at or near point 684.42307692307691 801.63461538461536\n",
      "Self-intersection at or near point 111 484\n",
      "Self-intersection at or near point 639.24888888888893 607.75999999999999\n",
      "Self-intersection at or near point 795 595.37037037037032\n",
      "Self-intersection at or near point 844.18181818181813 217.81818181818181\n",
      "Self-intersection at or near point 657.81967213114751 684.44262295081967\n",
      "Self-intersection at or near point 783.44700460829495 256.64516129032256\n",
      "Self-intersection at or near point 840.28301886792451 830.20754716981128\n",
      "Self-intersection at or near point 810.46285714285716 690.08000000000004\n",
      "Self-intersection at or near point 747.42857142857144 382.28571428571428\n",
      "Self-intersection at or near point 515.23076923076928 815.69230769230774\n",
      "Self-intersection at or near point 546.22147651006708 354.40939597315435\n",
      "Self-intersection at or near point 597.87234042553189 356.40425531914894\n",
      "Self-intersection at or near point 550.16528925619832 164.19834710743802\n"
     ]
    },
    {
     "name": "stdout",
     "output_type": "stream",
     "text": [
      "1400\n"
     ]
    },
    {
     "name": "stderr",
     "output_type": "stream",
     "text": [
      "Self-intersection at or near point 760.93023255813955 194.46511627906978\n",
      "Self-intersection at or near point 846.56108597285072 699.52036199095028\n",
      "Self-intersection at or near point 776.89090909090908 185.18181818181819\n",
      "Self-intersection at or near point 716.17391304347825 735.78595317725751\n",
      "Self-intersection at or near point 628 404.5\n",
      "Self-intersection at or near point 632.05405405405406 643.67567567567562\n",
      "Self-intersection at or near point 849.08431163287082 754.03521878335107\n",
      "Self-intersection at or near point 647 479\n",
      "Self-intersection at or near point 668.78431372549016 367.74117647058824\n",
      "Self-intersection at or near point 750.08571428571429 20.085714285714285\n",
      "Self-intersection at or near point 797.38562091503263 693.04575163398692\n",
      "Self-intersection at or near point 375.88888888888891 289.22222222222223\n",
      "Self-intersection at or near point 747.00651465798046 663.95765472312701\n",
      "Self-intersection at or near point 246 675\n",
      "Self-intersection at or near point 329.7358490566038 707.71698113207549\n",
      "Self-intersection at or near point 797.9316239316239 463.00569800569798\n",
      "Self-intersection at or near point 802.23953098827474 95.917922948073695\n",
      "Self-intersection at or near point 529.15126050420167 144.18319327731092\n",
      "Self-intersection at or near point 816.63414634146341 209.76829268292684\n",
      "Self-intersection at or near point 824.39999999999998 605.79999999999995\n",
      "Self-intersection at or near point 597.09433962264154 171.15094339622641\n",
      "Self-intersection at or near point 661.60439560439556 17.307692307692307\n",
      "Self-intersection at or near point 180.53246753246754 55.935064935064936\n",
      "Self-intersection at or near point 720.7032967032967 663.95604395604391\n",
      "Self-intersection at or near point 816.51764705882351 314.67058823529413\n",
      "Self-intersection at or near point 587.44206008583694 561.79506437768237\n"
     ]
    },
    {
     "name": "stdout",
     "output_type": "stream",
     "text": [
      "1500\n"
     ]
    },
    {
     "name": "stderr",
     "output_type": "stream",
     "text": [
      "Ring Self-intersection at or near point 450 27\n",
      "Self-intersection at or near point 671.82608695652175 535.17391304347825\n",
      "Self-intersection at or near point 401.88 301.53411764705885\n",
      "Self-intersection at or near point 742.62222222222226 112.73333333333333\n",
      "Self-intersection at or near point 830.70078740157476 812.29133858267721\n",
      "Self-intersection at or near point 464.61764705882354 82.07352941176471\n",
      "Self-intersection at or near point 825.53846153846155 261.76923076923077\n",
      "Self-intersection at or near point 802.39754098360652 94.889344262295083\n",
      "Self-intersection at or near point 766.59550561797755 743.29213483146066\n",
      "Self-intersection at or near point 821.64285714285711 244.64285714285714\n",
      "Self-intersection at or near point 12.012987012987013 684.87012987012986\n",
      "Self-intersection at or near point 579.625 672.875\n",
      "Self-intersection at or near point 640.96000000000004 817.67999999999995\n",
      "Self-intersection at or near point 844.56521739130437 41.956521739130437\n",
      "Self-intersection at or near point 672.27272727272725 58.090909090909093\n",
      "Self-intersection at or near point 482.95652173913044 785.60869565217388\n",
      "Self-intersection at or near point 830.36842105263156 671.36842105263156\n",
      "Self-intersection at or near point 830.57894736842104 690.81954887218046\n",
      "Self-intersection at or near point 267.56716417910445 104.6268656716418\n",
      "Self-intersection at or near point 437.73913043478262 413.82608695652175\n",
      "Self-intersection at or near point 795 37.200000000000003\n",
      "Self-intersection at or near point 762.91061452513964 160.31284916201116\n"
     ]
    },
    {
     "name": "stdout",
     "output_type": "stream",
     "text": [
      "1600\n"
     ]
    },
    {
     "name": "stderr",
     "output_type": "stream",
     "text": [
      "Self-intersection at or near point 619.53719008264466 590.04132231404958\n",
      "Self-intersection at or near point 839.37931034482756 450.9655172413793\n",
      "Self-intersection at or near point 346.20689655172413 482.4942528735632\n",
      "Self-intersection at or near point 711.26315789473688 645.31578947368416\n",
      "Self-intersection at or near point 628.77894736842109 165.45263157894738\n",
      "Self-intersection at or near point 563.79999999999995 660.86666666666667\n",
      "Self-intersection at or near point 264.28571428571428 177\n",
      "Self-intersection at or near point 576.5272727272727 18.645454545454545\n",
      "Self-intersection at or near point 781.625 548.5\n",
      "Self-intersection at or near point 92.511627906976742 136.53488372093022\n",
      "Ring Self-intersection at or near point 441 589\n",
      "Self-intersection at or near point 328 466\n",
      "Self-intersection at or near point 560.82926829268297 499.48780487804879\n",
      "Self-intersection at or near point 830.27586206896547 633.72413793103453\n",
      "Self-intersection at or near point 759.76610169491528 734.77966101694915\n",
      "Self-intersection at or near point 844.77464788732391 722.90140845070425\n",
      "Self-intersection at or near point 799.07407407407402 419.18518518518516\n",
      "Self-intersection at or near point 774.14606741573039 142.68539325842696\n",
      "Self-intersection at or near point 576.35741935483873 751.09161290322584\n",
      "Self-intersection at or near point 845.19626168224295 133.71962616822429\n",
      "Self-intersection at or near point 427.1206030150754 348.95477386934675\n",
      "Self-intersection at or near point 727.66666666666663 268.66666666666669\n",
      "Self-intersection at or near point 619.48275862068965 465.31034482758622\n",
      "Self-intersection at or near point 726.45945945945948 156.45945945945945\n",
      "Self-intersection at or near point 786.74468085106378 541.04255319148933\n",
      "Self-intersection at or near point 323 48\n"
     ]
    },
    {
     "name": "stdout",
     "output_type": "stream",
     "text": [
      "1700\n"
     ]
    },
    {
     "name": "stderr",
     "output_type": "stream",
     "text": [
      "Self-intersection at or near point 552.38095238095241 25.142857142857142\n",
      "Self-intersection at or near point 818.8360655737705 205.03278688524591\n",
      "Self-intersection at or near point 511.86227544910179 129.46107784431138\n",
      "Self-intersection at or near point 287.44525547445255 613.20437956204375\n",
      "Self-intersection at or near point 766.51851851851848 334.81481481481484\n",
      "Self-intersection at or near point 0.29999999999999999 264.39999999999998\n",
      "Self-intersection at or near point 624.88235294117646 539.48739495798316\n",
      "Self-intersection at or near point 800.73333333333335 138.55555555555554\n",
      "Self-intersection at or near point 325 189\n",
      "Self-intersection at or near point 333.82051282051282 310.97435897435895\n",
      "Self-intersection at or near point 827.01056338028172 340.8098591549296\n",
      "Self-intersection at or near point 845.35000000000002 789.89999999999998\n",
      "Self-intersection at or near point 207.40000000000001 819.67999999999995\n",
      "Self-intersection at or near point 826.87203791469199 483.26540284360192\n",
      "Ring Self-intersection at or near point 744 760\n",
      "Self-intersection at or near point 772.97931034482758 687.648275862069\n",
      "Self-intersection at or near point 20.956521739130434 675.91304347826087\n",
      "Self-intersection at or near point 830.02931596091207 320.37133550488602\n",
      "Self-intersection at or near point 119.87878787878788 614.030303030303\n",
      "Self-intersection at or near point 82.763271162123388 632.48350071736013\n",
      "Self-intersection at or near point 801.48387096774195 588.2177419354839\n",
      "Self-intersection at or near point 792.74774774774778 282.09009009009009\n"
     ]
    },
    {
     "name": "stdout",
     "output_type": "stream",
     "text": [
      "1800\n"
     ]
    },
    {
     "name": "stderr",
     "output_type": "stream",
     "text": [
      "Self-intersection at or near point 825.0526315789474 782.15789473684208\n",
      "Self-intersection at or near point 92.555555555555557 98.25252525252526\n",
      "Self-intersection at or near point 834.33333333333337 741.66666666666663\n",
      "Self-intersection at or near point 154.91275167785236 199.61073825503357\n",
      "Self-intersection at or near point 839.09448818897636 806.84645669291342\n",
      "Self-intersection at or near point 536.40594059405942 627.85148514851483\n",
      "Self-intersection at or near point 845 380\n",
      "Self-intersection at or near point 475 77.833333333333329\n",
      "Self-intersection at or near point 527.052812858783 639.06314580941444\n",
      "Self-intersection at or near point 778.10067114093965 630.13422818791946\n",
      "Self-intersection at or near point 718.05725190839689 300.00763358778624\n",
      "Self-intersection at or near point 745 267\n",
      "Self-intersection at or near point 3.6842105263157894 685.63157894736844\n",
      "Self-intersection at or near point 845.47133757961785 407.71974522292993\n",
      "Self-intersection at or near point 417.85245901639342 569.75409836065569\n",
      "Self-intersection at or near point 634.15575620767493 522.65237020316022\n",
      "Self-intersection at or near point 640.14563106796118 811.51456310679612\n",
      "Self-intersection at or near point 778.0580912863071 831.93360995850617\n",
      "Ring Self-intersection at or near point 158 799\n",
      "Self-intersection at or near point 2.0163934426229506 224.74590163934425\n",
      "Self-intersection at or near point 374 755.9375\n",
      "Self-intersection at or near point 250.92537313432837 764.40298507462683\n"
     ]
    },
    {
     "name": "stdout",
     "output_type": "stream",
     "text": [
      "1900\n"
     ]
    },
    {
     "name": "stderr",
     "output_type": "stream",
     "text": [
      "Self-intersection at or near point 481.20817843866172 148.42750929368029\n",
      "Self-intersection at or near point 341.00581395348837 452.44186046511629\n",
      "Self-intersection at or near point 686.61403508771934 401.61842105263156\n",
      "Self-intersection at or near point 402.45454545454544 58\n",
      "Self-intersection at or near point 697.9655172413793 296.71264367816093\n",
      "Self-intersection at or near point 823.17834394904457 541.50955414012742\n",
      "Self-intersection at or near point 137.58823529411765 805.47058823529414\n",
      "Self-intersection at or near point 70.485436893203882 648.26213592233012\n",
      "Self-intersection at or near point 841.5151515151515 331.45454545454544\n",
      "Self-intersection at or near point 843.5454545454545 69.766233766233768\n",
      "Self-intersection at or near point 837.4545454545455 387.66666666666669\n",
      "Self-intersection at or near point 153.10526315789474 53\n",
      "Self-intersection at or near point 773.88679245283015 54.698113207547166\n",
      "Self-intersection at or near point 800.37142857142862 760.85714285714289\n",
      "Self-intersection at or near point 274.16717325227961 194.43465045592706\n",
      "Self-intersection at or near point 689.81954887218046 553.21052631578948\n",
      "Self-intersection at or near point 693.78350515463922 576.87628865979377\n",
      "Self-intersection at or near point 785.42592592592598 389.35185185185185\n",
      "Self-intersection at or near point 417.79797979797979 454.11111111111109\n",
      "Self-intersection at or near point 800.26315789473688 424.70175438596493\n",
      "Self-intersection at or near point 186.87261146496814 117.96178343949045\n",
      "Self-intersection at or near point 829.50704225352115 197.54929577464787\n",
      "Self-intersection at or near point 826.24242424242425 751.90909090909088\n",
      "Self-intersection at or near point 748.90909090909088 766.5454545454545\n"
     ]
    },
    {
     "name": "stdout",
     "output_type": "stream",
     "text": [
      "2000\n"
     ]
    },
    {
     "name": "stderr",
     "output_type": "stream",
     "text": [
      "Self-intersection at or near point 806.13475177304963 810.14893617021278\n",
      "Self-intersection at or near point 573.69716088328073 701.67192429022077\n",
      "Self-intersection at or near point 748.27272727272725 794\n",
      "Ring Self-intersection at or near point 826 151\n",
      "Self-intersection at or near point 579.08695652173913 138.78260869565219\n",
      "Self-intersection at or near point 792.75999999999999 723\n",
      "Self-intersection at or near point 730.71176470588239 122.67647058823529\n",
      "Self-intersection at or near point 705 75.150000000000006\n",
      "Self-intersection at or near point 830.16666666666663 428.83333333333331\n",
      "Self-intersection at or near point 746.68421052631584 138.80701754385964\n",
      "Self-intersection at or near point 829.89473684210532 34.368421052631582\n",
      "Self-intersection at or near point 425.52941176470586 292.15032679738562\n",
      "Self-intersection at or near point 697.7358490566038 769.18867924528297\n",
      "Self-intersection at or near point 454 202\n",
      "Self-intersection at or near point 627 686\n",
      "Self-intersection at or near point 833.0854271356784 69.412060301507537\n",
      "Self-intersection at or near point 215.64912280701753 21.438596491228068\n",
      "Self-intersection at or near point 830.08675799086757 393.19634703196346\n"
     ]
    },
    {
     "name": "stdout",
     "output_type": "stream",
     "text": [
      "2100\n"
     ]
    },
    {
     "name": "stderr",
     "output_type": "stream",
     "text": [
      "Self-intersection at or near point 79.700404858299592 98.829959514170042\n",
      "Self-intersection at or near point 838.63043478260875 723.6521739130435\n",
      "Self-intersection at or near point 572.79614767255214 440.92295345104333\n",
      "Ring Self-intersection at or near point 128 797\n",
      "Self-intersection at or near point 841.92682926829264 595.29268292682923\n",
      "Self-intersection at or near point 738.39999999999998 296.89999999999998\n",
      "Self-intersection at or near point 624.92307692307691 151.94871794871796\n",
      "Self-intersection at or near point 799.32203389830511 133.40677966101694\n",
      "Self-intersection at or near point 692.78688524590166 556.57377049180332\n",
      "Self-intersection at or near point 841.18181818181813 427.63636363636363\n",
      "Self-intersection at or near point 630.61538461538464 437.61538461538464\n",
      "Self-intersection at or near point 789.63636363636363 508\n",
      "Self-intersection at or near point 812.35897435897436 648.71794871794873\n",
      "Self-intersection at or near point 720.54368932038835 313.11650485436894\n",
      "Self-intersection at or near point 831.12820512820508 344.37948717948717\n",
      "Self-intersection at or near point 830.7981790591806 103.49924127465857\n",
      "Self-intersection at or near point 832.6708860759494 427.8354430379747\n"
     ]
    },
    {
     "name": "stdout",
     "output_type": "stream",
     "text": [
      "2200\n"
     ]
    },
    {
     "name": "stderr",
     "output_type": "stream",
     "text": [
      "Self-intersection at or near point 816.75999999999999 196.16\n",
      "Self-intersection at or near point 751.94117647058829 474.9264705882353\n",
      "Self-intersection at or near point 541.22608695652173 342.03478260869565\n",
      "Self-intersection at or near point 833.08309455587391 801.6045845272206\n",
      "Self-intersection at or near point 833.22055674518197 410.41541755888653\n",
      "Self-intersection at or near point 681.73621103117512 748.29016786570742\n",
      "Self-intersection at or near point 367.70833333333331 248.30555555555554\n",
      "Self-intersection at or near point 833.73749999999995 743.61249999999995\n",
      "Self-intersection at or near point 813.36842105263156 634.47368421052636\n",
      "Self-intersection at or near point 415 708\n",
      "Self-intersection at or near point 88.142857142857139 166.42857142857142\n",
      "Self-intersection at or near point 192.04545454545453 369.90909090909093\n",
      "Self-intersection at or near point 811.48979591836735 448.12244897959181\n",
      "Self-intersection at or near point 459.06666666666666 377.39999999999998\n",
      "Self-intersection at or near point 813.09917355371897 241.98347107438016\n",
      "Self-intersection at or near point 646.02941176470586 806.29411764705878\n"
     ]
    },
    {
     "name": "stdout",
     "output_type": "stream",
     "text": [
      "2300\n"
     ]
    },
    {
     "name": "stderr",
     "output_type": "stream",
     "text": [
      "Self-intersection at or near point 720.08955223880594 29.149253731343283\n",
      "Self-intersection at or near point 820.34262948207174 29.358565737051794\n",
      "Self-intersection at or near point 322.4854881266491 30.575197889182057\n",
      "Self-intersection at or near point 764.87272727272727 393.90909090909093\n",
      "Self-intersection at or near point 627.14851485148517 638.25742574257424\n",
      "Self-intersection at or near point 804.09756097560978 675.51219512195121\n",
      "Self-intersection at or near point 845.9375 103.875\n",
      "Self-intersection at or near point 656.67694204685574 55.278668310727497\n",
      "Self-intersection at or near point 846.4545454545455 819.63636363636363\n",
      "Self-intersection at or near point 209.16438356164383 378.1917808219178\n",
      "Self-intersection at or near point 829.76923076923072 343.53846153846155\n",
      "Self-intersection at or near point 631.54618473895584 184.62248995983936\n",
      "Self-intersection at or near point 297.9795918367347 475.50145772594755\n",
      "Self-intersection at or near point 798.19463087248323 178.95973154362417\n",
      "Self-intersection at or near point 163.34831460674158 792.76404494382018\n",
      "Self-intersection at or near point 512.60000000000002 791\n",
      "Self-intersection at or near point 846.75862068965512 147.17241379310346\n",
      "Self-intersection at or near point 657.49006622516561 142.23841059602648\n",
      "Self-intersection at or near point 790.57627118644064 12.593220338983052\n",
      "Self-intersection at or near point 545.91549295774644 277.67605633802816\n",
      "Self-intersection at or near point 792.07317073170736 364.04878048780489\n",
      "Self-intersection at or near point 742.02797202797206 541.87412587412587\n"
     ]
    },
    {
     "name": "stdout",
     "output_type": "stream",
     "text": [
      "2400\n"
     ]
    },
    {
     "name": "stderr",
     "output_type": "stream",
     "text": [
      "Self-intersection at or near point 315.5462962962963 62.157407407407405\n",
      "Self-intersection at or near point 844.60683760683764 87.73504273504274\n",
      "Ring Self-intersection at or near point 772 47\n",
      "Self-intersection at or near point 759.81818181818187 684.81818181818187\n",
      "Self-intersection at or near point 179.44859813084113 747.39252336448601\n",
      "Self-intersection at or near point 825.36305732484072 753.39490445859872\n",
      "Self-intersection at or near point 206 179\n",
      "Self-intersection at or near point 609.5454545454545 256.45454545454544\n",
      "Self-intersection at or near point 818.47169811320759 331.39622641509436\n",
      "Self-intersection at or near point 296.030303030303 766.969696969697\n",
      "Self-intersection at or near point 804.11111111111109 319\n",
      "Self-intersection at or near point 207.73469387755102 306.87755102040819\n",
      "Self-intersection at or near point 829 342\n",
      "Self-intersection at or near point 640.04716981132071 373.46540880503147\n",
      "Ring Self-intersection at or near point 480 0\n",
      "Self-intersection at or near point 337.24120603015075 818.4723618090452\n",
      "Self-intersection at or near point 137.59999999999999 467.80000000000001\n",
      "Self-intersection at or near point 699.97478991596643 523.80672268907563\n",
      "Self-intersection at or near point 831 762.64705882352939\n",
      "Self-intersection at or near point 560.1708542713568 165.678391959799\n",
      "Self-intersection at or near point 773 531.66666666666663\n",
      "Self-intersection at or near point 756.6521739130435 117.92753623188406\n",
      "Self-intersection at or near point 691.89054726368158 211.95024875621891\n",
      "Self-intersection at or near point 779.83333333333337 225.25\n"
     ]
    },
    {
     "name": "stdout",
     "output_type": "stream",
     "text": [
      "2500\n"
     ]
    },
    {
     "name": "stderr",
     "output_type": "stream",
     "text": [
      "Self-intersection at or near point 788.51612903225805 233.51612903225808\n",
      "Self-intersection at or near point 802.08955223880594 555.08208955223881\n",
      "Self-intersection at or near point 229 17.931034482758619\n",
      "Self-intersection at or near point 722.531914893617 271.08510638297872\n",
      "Self-intersection at or near point 809.32590051457976 640.33447684391081\n",
      "Self-intersection at or near point 192.828025477707 402.56050955414014\n",
      "Self-intersection at or near point 212.1448275862069 401.87586206896549\n",
      "Self-intersection at or near point 823.16167664670661 402.40119760479041\n",
      "Self-intersection at or near point 314 384.66666666666669\n",
      "Self-intersection at or near point 532.53684210526319 98.189473684210526\n",
      "Self-intersection at or near point 811.42930591259642 179.12082262210797\n",
      "Self-intersection at or near point 672.33510638297878 548.62765957446811\n",
      "Self-intersection at or near point 62.177777777777777 30.481481481481481\n",
      "Self-intersection at or near point 785.64864864864865 528.62162162162167\n",
      "Self-intersection at or near point 322.88888888888891 710.51851851851848\n",
      "Ring Self-intersection at or near point 631 797\n",
      "Self-intersection at or near point 758.80086580086584 111.02597402597402\n",
      "Self-intersection at or near point 818.32142857142856 251.28571428571428\n",
      "Self-intersection at or near point 808.75409836065569 562.80327868852464\n",
      "Self-intersection at or near point 754.94656488549617 349.87022900763361\n",
      "Self-intersection at or near point 832.14096916299559 829.47136563876654\n",
      "Self-intersection at or near point 255.62204724409449 90.314960629921259\n",
      "Self-intersection at or near point 538.43893129770993 296.21374045801525\n",
      "Self-intersection at or near point 416.1764705882353 301.35294117647061\n"
     ]
    },
    {
     "name": "stdout",
     "output_type": "stream",
     "text": [
      "2600\n"
     ]
    },
    {
     "name": "stderr",
     "output_type": "stream",
     "text": [
      "Self-intersection at or near point 782.3711790393013 68.336244541484717\n",
      "Self-intersection at or near point 300.92000000000002 501.83999999999997\n",
      "Self-intersection at or near point 382.8641975308642 596.95061728395058\n",
      "Self-intersection at or near point 727.05418719211821 419.09359605911328\n",
      "Self-intersection at or near point 769.61344537815125 685.63025210084038\n",
      "Self-intersection at or near point 480.81818181818181 316.36363636363637\n",
      "Self-intersection at or near point 813 150.3125\n",
      "Self-intersection at or near point 618.68949771689495 394.16894977168948\n",
      "Self-intersection at or near point 848.02641509433965 714.10817610062895\n",
      "Self-intersection at or near point 633 0\n",
      "Self-intersection at or near point 512.13559322033893 751.94915254237287\n",
      "Self-intersection at or near point 754 320\n",
      "Self-intersection at or near point 306.18518518518516 771.33950617283949\n",
      "Self-intersection at or near point 838.47368421052636 198.57894736842104\n",
      "Self-intersection at or near point 845.80851063829789 14.106382978723405\n",
      "Self-intersection at or near point 637.37349397590367 703.4457831325301\n",
      "Self-intersection at or near point 390.77777777777777 51.388888888888886\n",
      "Self-intersection at or near point 758.66666666666663 718.33333333333337\n",
      "Self-intersection at or near point 487.2516129032258 805.68387096774188\n",
      "Self-intersection at or near point 600.85185185185185 243.14814814814815\n",
      "Self-intersection at or near point 763.22222222222217 797.66666666666663\n",
      "Self-intersection at or near point 719.21739130434787 257.17391304347825\n"
     ]
    },
    {
     "name": "stdout",
     "output_type": "stream",
     "text": [
      "2700\n"
     ]
    },
    {
     "name": "stderr",
     "output_type": "stream",
     "text": [
      "Self-intersection at or near point 687.35294117647061 581\n",
      "Self-intersection at or near point 255.56105610561056 641.42904290429044\n",
      "Self-intersection at or near point 712.93466424682401 578.07985480943739\n",
      "Self-intersection at or near point 565.04838709677415 115.41935483870968\n",
      "Self-intersection at or near point 670.30769230769226 695.69230769230774\n",
      "Self-intersection at or near point 101.61538461538461 787.76923076923072\n",
      "Self-intersection at or near point 410.07042253521126 84.014084507042256\n",
      "Self-intersection at or near point 491.25 572.16666666666663\n",
      "Self-intersection at or near point 686.18367346938771 65.816326530612244\n",
      "Ring Self-intersection at or near point 71 424\n",
      "Ring Self-intersection at or near point 556 278\n",
      "Self-intersection at or near point 847.23636363636365 131.74545454545455\n",
      "Self-intersection at or near point 301.36768149882903 443.10772833723655\n",
      "Self-intersection at or near point 843.87403598971719 445.78406169665811\n",
      "Self-intersection at or near point 354.73825503355704 121.36577181208054\n",
      "Self-intersection at or near point 829 250.83333333333334\n",
      "Self-intersection at or near point 833 646\n",
      "Self-intersection at or near point 833.484375 140.25\n",
      "Self-intersection at or near point 771.98058252427188 201.78640776699029\n",
      "Self-intersection at or near point 87.130232558139539 320.71627906976744\n",
      "Self-intersection at or near point 4.5652173913043477 553.21739130434787\n",
      "Self-intersection at or near point 804.64603481624761 467.20696324951643\n"
     ]
    },
    {
     "name": "stdout",
     "output_type": "stream",
     "text": [
      "2800\n"
     ]
    },
    {
     "name": "stderr",
     "output_type": "stream",
     "text": [
      "Self-intersection at or near point 764.82000000000005 466.85000000000002\n",
      "Self-intersection at or near point 832.05517241379312 238.93793103448274\n",
      "Self-intersection at or near point 406.66666666666669 437\n",
      "Self-intersection at or near point 655.0344827586207 786.34482758620686\n",
      "Self-intersection at or near point 614.20000000000005 784.79999999999995\n",
      "Self-intersection at or near point 826.73118279569894 785.51612903225805\n",
      "Self-intersection at or near point 810.72000000000003 400.27999999999997\n",
      "Self-intersection at or near point 636.41379310344826 147.37931034482759\n",
      "Self-intersection at or near point 836.28391167192433 231.18296529968455\n",
      "Self-intersection at or near point 264.125 619\n",
      "Self-intersection at or near point 271.87878787878788 171.63636363636363\n",
      "Self-intersection at or near point 410.54545454545456 832.63636363636363\n",
      "Self-intersection at or near point 746.10344827586209 215.72413793103448\n",
      "Self-intersection at or near point 734.09958506224064 796.84232365145226\n",
      "Self-intersection at or near point 823.75 313.5\n",
      "Self-intersection at or near point 825.60747663551399 579.1682242990654\n",
      "Self-intersection at or near point 617.62311557788939 694.00502512562809\n",
      "Self-intersection at or near point 748.56097560975604 518.46341463414637\n",
      "Self-intersection at or near point 213 761.53846153846155\n",
      "Self-intersection at or near point 581.93333333333328 445.88\n",
      "Self-intersection at or near point 750 510.66666666666669\n",
      "Self-intersection at or near point 818.04294478527606 717.05521472392638\n",
      "Self-intersection at or near point 505.85365853658539 90.439024390243901\n",
      "Self-intersection at or near point 228.69999999999999 486.48000000000002\n",
      "Self-intersection at or near point 609.6875 29.765625\n"
     ]
    },
    {
     "name": "stdout",
     "output_type": "stream",
     "text": [
      "2900\n"
     ]
    },
    {
     "name": "stderr",
     "output_type": "stream",
     "text": [
      "Self-intersection at or near point 800.88617886178861 295.76422764227641\n",
      "Self-intersection at or near point 641.50806451612902 487.29032258064518\n",
      "Self-intersection at or near point 28.810810810810811 626.27027027027032\n",
      "Self-intersection at or near point 519.33333333333337 233.83333333333334\n",
      "Ring Self-intersection at or near point 344 762\n",
      "Self-intersection at or near point 811.11111111111109 633.44444444444446\n",
      "Self-intersection at or near point 825.58490566037733 339.66037735849056\n",
      "Self-intersection at or near point 220.44 621.15999999999997\n",
      "Self-intersection at or near point 66.318181818181813 557.68181818181813\n",
      "Self-intersection at or near point 563.21621621621625 320.16216216216219\n",
      "Self-intersection at or near point 67.698630136986296 213.7123287671233\n",
      "Self-intersection at or near point 820.47328244274809 555.80916030534354\n",
      "Self-intersection at or near point 833.80952380952385 375.26190476190476\n",
      "Self-intersection at or near point 640.23529411764707 686.76470588235293\n",
      "Self-intersection at or near point 846.41935483870964 786.90322580645159\n",
      "Self-intersection at or near point 734.11235955056179 223.29213483146069\n",
      "Self-intersection at or near point 792.35353535353534 728.84848484848487\n",
      "Self-intersection at or near point 717.90163934426232 260.18032786885249\n",
      "Ring Self-intersection at or near point 416 800\n"
     ]
    },
    {
     "name": "stdout",
     "output_type": "stream",
     "text": [
      "3000\n"
     ]
    },
    {
     "name": "stderr",
     "output_type": "stream",
     "text": [
      "Self-intersection at or near point 830.63636363636363 219.54545454545453\n",
      "Self-intersection at or near point 844.09090909090912 6.2272727272727275\n",
      "Self-intersection at or near point 613.65289256198344 560.15702479338847\n",
      "Self-intersection at or near point 794.79329608938542 446.45810055865923\n",
      "Self-intersection at or near point 741.05172413793105 711.94252873563221\n",
      "Self-intersection at or near point 287.49350649350652 32.532467532467535\n",
      "Self-intersection at or near point 537.19354838709683 46.838709677419352\n",
      "Self-intersection at or near point 846.13239436619722 586.34366197183101\n",
      "Self-intersection at or near point 685.58536585365857 800.17073170731703\n",
      "Self-intersection at or near point 837.546875 248.4375\n",
      "Self-intersection at or near point 372.16666666666669 771.33333333333337\n",
      "Self-intersection at or near point 843.43801652892557 777.77685950413218\n",
      "Self-intersection at or near point 656.20689655172418 190.55172413793105\n",
      "Self-intersection at or near point 161.11029411764707 612.85294117647061\n",
      "Self-intersection at or near point 238.86363636363637 2.1090909090909089\n",
      "Self-intersection at or near point 721.38461538461536 758.84615384615381\n",
      "Self-intersection at or near point 666.08823529411768 271.0980392156863\n",
      "Self-intersection at or near point 637.13122171945702 206.79185520361992\n",
      "Self-intersection at or near point 736.03404255319151 112.8468085106383\n",
      "Self-intersection at or near point 845.91612903225803 612.0322580645161\n",
      "Self-intersection at or near point 784.06875000000002 189.48124999999999\n",
      "Self-intersection at or near point 196.13333333333333 789.5333333333333\n",
      "Self-intersection at or near point 725.55414012738856 418.28662420382165\n",
      "Self-intersection at or near point 783.27312775330392 803.55066079295159\n",
      "Self-intersection at or near point 842 455\n",
      "Self-intersection at or near point 810.03921568627447 421.5980392156863\n",
      "Self-intersection at or near point 742.79999999999995 289.60000000000002\n"
     ]
    },
    {
     "name": "stdout",
     "output_type": "stream",
     "text": [
      "3100\n"
     ]
    },
    {
     "name": "stderr",
     "output_type": "stream",
     "text": [
      "Self-intersection at or near point 844.44401544401546 91.374517374517382\n",
      "Self-intersection at or near point 512.72727272727275 157.81818181818181\n",
      "Self-intersection at or near point 7.5999999999999996 832.70000000000005\n",
      "Self-intersection at or near point 820.47058823529414 249.94117647058823\n",
      "Self-intersection at or near point 822.5 461.25\n",
      "Self-intersection at or near point 795.34545454545457 822.78181818181815\n",
      "Self-intersection at or near point 832.17647058823525 321.88235294117646\n",
      "Self-intersection at or near point 839.81538461538457 452.16153846153844\n",
      "Self-intersection at or near point 589.75 707\n",
      "Self-intersection at or near point 212.61603375527426 701.16877637130801\n",
      "Self-intersection at or near point 790.46875 555.15625\n",
      "Self-intersection at or near point 408.12244897959181 451.34693877551018\n",
      "Self-intersection at or near point 573.08108108108104 435.24324324324323\n",
      "Self-intersection at or near point 654.37362637362639 35.021978021978022\n",
      "Self-intersection at or near point 811.08849557522126 491.5840707964602\n",
      "Self-intersection at or near point 454.16438356164383 816.56164383561645\n",
      "Self-intersection at or near point 457.01769911504425 781.24778761061953\n",
      "Self-intersection at or near point 845.59633027522932 548.86238532110087\n",
      "Self-intersection at or near point 223.95309168443498 58.569296375266525\n",
      "Self-intersection at or near point 336.44827586206895 768.44827586206895\n"
     ]
    },
    {
     "name": "stdout",
     "output_type": "stream",
     "text": [
      "3200\n"
     ]
    },
    {
     "name": "stderr",
     "output_type": "stream",
     "text": [
      "Self-intersection at or near point 815.51072961373393 395.03004291845491\n",
      "Self-intersection at or near point 831.97979797979804 93.969696969696969\n",
      "Self-intersection at or near point 831.9800796812749 591.46613545816729\n",
      "Self-intersection at or near point 825.375 476.5625\n",
      "Self-intersection at or near point 282.12149532710282 812.98130841121497\n",
      "Self-intersection at or near point 68.470588235294116 528.52941176470586\n",
      "Self-intersection at or near point 848.49367088607596 177.45569620253164\n",
      "Self-intersection at or near point 457.31768953068593 325.43682310469313\n",
      "Self-intersection at or near point 280 836\n",
      "Self-intersection at or near point 820.23140495867767 820.39669421487599\n",
      "Self-intersection at or near point 761.71990171990171 722.86240786240785\n",
      "Self-intersection at or near point 637.40740740740739 681.38271604938268\n",
      "Self-intersection at or near point 387.5 409.18181818181819\n",
      "Self-intersection at or near point 642.85714285714289 27.571428571428573\n",
      "Self-intersection at or near point 466.23622047244095 758.58267716535431\n"
     ]
    },
    {
     "name": "stdout",
     "output_type": "stream",
     "text": [
      "3300\n"
     ]
    },
    {
     "name": "stderr",
     "output_type": "stream",
     "text": [
      "Self-intersection at or near point 778.68373493975901 571.5873493975904\n",
      "Self-intersection at or near point 651.52173913043475 265.52173913043481\n",
      "Self-intersection at or near point 746.2488038277512 129.38277511961724\n",
      "Self-intersection at or near point 600.36893203883494 823.64724919093851\n",
      "Self-intersection at or near point 396.12179487179486 144.89743589743588\n",
      "Self-intersection at or near point 840.42608695652177 22.547826086956523\n",
      "Self-intersection at or near point 578.24429967426715 4.4397394136807815\n",
      "Self-intersection at or near point 666.91907514450872 616.93063583815024\n",
      "Self-intersection at or near point 844.84280936454854 736.5752508361204\n",
      "Self-intersection at or near point 167.94957983193277 105.11974789915966\n",
      "Self-intersection at or near point 202 765\n",
      "Self-intersection at or near point 846.05405405405406 500.97297297297297\n",
      "Self-intersection at or near point 255.66666666666666 446\n",
      "Self-intersection at or near point 831.11650485436894 19.611650485436893\n",
      "Self-intersection at or near point 677.77777777777783 152.22222222222223\n",
      "Self-intersection at or near point 504.01418439716315 687.0921985815603\n",
      "Self-intersection at or near point 525.57142857142856 641.28571428571433\n",
      "Self-intersection at or near point 525.0140845070423 96.774647887323937\n",
      "Self-intersection at or near point 494 656\n",
      "Self-intersection at or near point 592.79591836734699 118.26530612244898\n",
      "Self-intersection at or near point 43.304347826086953 92.478260869565219\n",
      "Self-intersection at or near point 814.32926829268297 539.46341463414637\n",
      "Self-intersection at or near point 344.89473684210526 356.16842105263157\n",
      "Self-intersection at or near point 582.44444444444446 486.66666666666669\n",
      "Self-intersection at or near point 109.32692307692308 127.375\n",
      "Self-intersection at or near point 672.16129032258061 54.612903225806448\n"
     ]
    },
    {
     "name": "stdout",
     "output_type": "stream",
     "text": [
      "3400\n"
     ]
    },
    {
     "name": "stderr",
     "output_type": "stream",
     "text": [
      "Self-intersection at or near point 457 728\n",
      "Self-intersection at or near point 351 415\n",
      "Self-intersection at or near point 735 207.45454545454547\n",
      "Self-intersection at or near point 203.37894736842105 105.98526315789474\n",
      "Self-intersection at or near point 734.61290322580646 288.61290322580646\n",
      "Self-intersection at or near point 823.17391304347825 41.347826086956523\n",
      "Self-intersection at or near point 591.08910891089113 442.31683168316829\n",
      "Self-intersection at or near point 631.25925925925924 65.111111111111114\n",
      "Self-intersection at or near point 454.06936416184971 279.58381502890171\n",
      "Self-intersection at or near point 825.81308411214957 118.98130841121495\n",
      "Self-intersection at or near point 600.52380952380952 95\n",
      "Self-intersection at or near point 245.79411764705881 306.76470588235293\n",
      "Self-intersection at or near point 824.52631578947364 476.68421052631578\n",
      "Self-intersection at or near point 823.08767123287669 90.098630136986301\n",
      "Self-intersection at or near point 667 4.4285714285714288\n",
      "Self-intersection at or near point 652.31468531468533 267.76223776223776\n",
      "Self-intersection at or near point 683 696.97222222222217\n",
      "Self-intersection at or near point 776.70588235294122 828.94117647058829\n",
      "Self-intersection at or near point 313.15789473684208 198.15789473684211\n",
      "Self-intersection at or near point 786.37440758293837 514.94786729857822\n",
      "Self-intersection at or near point 469.38461538461536 16.487179487179489\n",
      "Ring Self-intersection at or near point 713 282\n",
      "Self-intersection at or near point 509.15204678362574 368.14035087719299\n",
      "Self-intersection at or near point 78.955882352941174 1.3823529411764706\n"
     ]
    },
    {
     "name": "stdout",
     "output_type": "stream",
     "text": [
      "3500\n"
     ]
    },
    {
     "name": "stderr",
     "output_type": "stream",
     "text": [
      "Self-intersection at or near point 768.35294117647061 331.01680672268907\n",
      "Self-intersection at or near point 746.79783393501805 767.85198555956674\n",
      "Self-intersection at or near point 729.53846153846155 247.38461538461539\n",
      "Self-intersection at or near point 813.4545454545455 778.09090909090912\n",
      "Self-intersection at or near point 751.98121085594994 490.98329853862214\n",
      "Self-intersection at or near point 848 768\n",
      "Self-intersection at or near point 780.41666666666663 628.75\n",
      "Self-intersection at or near point 373.12244897959181 542.67346938775506\n",
      "Self-intersection at or near point 712.57142857142856 83.285714285714292\n",
      "Self-intersection at or near point 632.25581395348843 164.63953488372093\n",
      "Self-intersection at or near point 598.82456140350882 175.80701754385964\n",
      "Self-intersection at or near point 123.27737226277372 490.89781021897812\n",
      "Ring Self-intersection at or near point 269 252\n",
      "Self-intersection at or near point 846.68047058823527 426.1745882352941\n",
      "Self-intersection at or near point 736.05426356589146 466.94961240310079\n",
      "Self-intersection at or near point 809.16831683168311 572.05940594059405\n",
      "Self-intersection at or near point 513.18556701030923 825.07731958762884\n",
      "Self-intersection at or near point 670.2155172413793 382.47413793103448\n",
      "Self-intersection at or near point 596.11570247933889 2.4876033057851239\n",
      "Self-intersection at or near point 149.5 829.25\n",
      "Self-intersection at or near point 726.07317073170736 404.1219512195122\n",
      "Ring Self-intersection at or near point 480 276\n",
      "Self-intersection at or near point 739.4545454545455 748.36363636363637\n",
      "Self-intersection at or near point 772.08333333333337 341.83333333333331\n",
      "Self-intersection at or near point 670.30303030303025 400.42424242424244\n",
      "Self-intersection at or near point 748.15584415584419 573.06493506493507\n"
     ]
    },
    {
     "name": "stdout",
     "output_type": "stream",
     "text": [
      "3600\n"
     ]
    },
    {
     "name": "stderr",
     "output_type": "stream",
     "text": [
      "Self-intersection at or near point 648.25 213.875\n",
      "Self-intersection at or near point 794.1008968609865 159.83856502242153\n",
      "Ring Self-intersection at or near point 529 272\n",
      "Self-intersection at or near point 815.88888888888891 493.2962962962963\n",
      "Self-intersection at or near point 781.99726027397264 541.38356164383561\n",
      "Self-intersection at or near point 441.2439024390244 253.14634146341464\n",
      "Self-intersection at or near point 477.10526315789474 753\n",
      "Self-intersection at or near point 765.0344827586207 182.84482758620689\n",
      "Self-intersection at or near point 726.11695906432749 553.26315789473688\n",
      "Self-intersection at or near point 14 55.125\n",
      "Self-intersection at or near point 447.55737704918033 481.03278688524591\n",
      "Self-intersection at or near point 178.14285714285714 218.42857142857142\n",
      "Self-intersection at or near point 700.96234309623435 612.25104602510464\n",
      "Self-intersection at or near point 660.37984496124034 361.54263565891472\n",
      "Self-intersection at or near point 690.86597938144325 560.02061855670104\n",
      "Self-intersection at or near point 687.95077720207257 482.55699481865287\n",
      "Self-intersection at or near point 773.16216216216219 187.54054054054055\n",
      "Self-intersection at or near point 598.26815642458098 684.87709497206708\n",
      "Self-intersection at or near point 846.9332220367279 360.82637729549248\n",
      "Self-intersection at or near point 293 337\n",
      "Self-intersection at or near point 256.26666666666665 169\n",
      "Self-intersection at or near point 806.06666666666672 682.84000000000003\n",
      "Ring Self-intersection at or near point 106 318\n",
      "Self-intersection at or near point 823.75144508670519 812.30635838150295\n",
      "Self-intersection at or near point 710.58823529411768 474.88235294117646\n",
      "Self-intersection at or near point 614.5 124.25\n"
     ]
    },
    {
     "name": "stdout",
     "output_type": "stream",
     "text": [
      "3700\n"
     ]
    },
    {
     "name": "stderr",
     "output_type": "stream",
     "text": [
      "Self-intersection at or near point 291.34482758620692 415.31034482758622\n",
      "Self-intersection at or near point 722.26829268292681 795.35609756097563\n",
      "Self-intersection at or near point 402.83529411764704 388.90588235294115\n",
      "Self-intersection at or near point 843.76744186046517 361.46511627906978\n",
      "Self-intersection at or near point 707.33333333333337 670\n",
      "Self-intersection at or near point 637.05389221556891 144.36526946107784\n",
      "Self-intersection at or near point 814.85245901639348 230.19672131147541\n",
      "Self-intersection at or near point 545.22222222222217 348.33333333333331\n",
      "Self-intersection at or near point 804.61290322580646 194.14193548387098\n",
      "Self-intersection at or near point 634.20703125 242.33984375\n",
      "Self-intersection at or near point 490.06534653465349 479.86336633663365\n",
      "Self-intersection at or near point 468.52282157676348 194.95020746887968\n",
      "Self-intersection at or near point 747.80327868852464 521.91803278688519\n",
      "Self-intersection at or near point 654.80180180180184 363.82882882882882\n",
      "Self-intersection at or near point 788.3386581469648 164.64217252396165\n",
      "Self-intersection at or near point 605 801.26666666666665\n",
      "Self-intersection at or near point 660 171.25\n",
      "Ring Self-intersection at or near point 320 260\n",
      "Self-intersection at or near point 179.23595505617976 794.68539325842698\n",
      "Self-intersection at or near point 641.64651162790699 1.9100775193798449\n",
      "Self-intersection at or near point 575.32075471698113 682.16981132075466\n",
      "Self-intersection at or near point 831.80079681274901 168.83665338645417\n",
      "Self-intersection at or near point 809.73333333333335 339.26666666666665\n",
      "Ring Self-intersection at or near point 118 827\n",
      "Self-intersection at or near point 125.58904109589041 814.04109589041093\n",
      "Self-intersection at or near point 831.27419354838707 653.41935483870964\n",
      "Self-intersection at or near point 668.05109489051097 604.1313868613139\n",
      "Self-intersection at or near point 763.81595092024543 462.23926380368096\n",
      "Ring Self-intersection at or near point 654 235\n",
      "Self-intersection at or near point 618.51948051948057 474.77922077922079\n"
     ]
    },
    {
     "name": "stdout",
     "output_type": "stream",
     "text": [
      "3800\n"
     ]
    },
    {
     "name": "stderr",
     "output_type": "stream",
     "text": [
      "Self-intersection at or near point 837.70588235294122 347.29411764705884\n",
      "Self-intersection at or near point 427.81081081081084 102.37837837837837\n",
      "Self-intersection at or near point 807.04123711340208 81.268041237113408\n",
      "Self-intersection at or near point 829.8648648648649 386.91891891891891\n",
      "Self-intersection at or near point 718.48000000000002 321.68000000000001\n",
      "Self-intersection at or near point 359 4\n",
      "Self-intersection at or near point 578.26666666666665 645\n",
      "Self-intersection at or near point 833.15246636771303 321.43497757847535\n",
      "Self-intersection at or near point 546.53999999999996 712.41999999999996\n",
      "Ring Self-intersection at or near point 160 320\n",
      "Self-intersection at or near point 352.98159509202452 265.14110429447851\n",
      "Self-intersection at or near point 450.09523809523807 826.85714285714289\n",
      "Self-intersection at or near point 720.35294117647061 762.64705882352939\n",
      "Self-intersection at or near point 223.94482758620688 395.55862068965519\n",
      "Self-intersection at or near point 812.63076923076926 486.73846153846154\n",
      "Self-intersection at or near point 804 14.75\n",
      "Self-intersection at or near point 595.73195876288662 414.91546391752576\n",
      "Self-intersection at or near point 447.78723404255317 61.170212765957444\n",
      "Self-intersection at or near point 846.4486486486486 793.82702702702704\n"
     ]
    },
    {
     "name": "stdout",
     "output_type": "stream",
     "text": [
      "3900\n"
     ]
    },
    {
     "name": "stderr",
     "output_type": "stream",
     "text": [
      "Self-intersection at or near point 844.05504587155963 823.83792048929661\n",
      "Self-intersection at or near point 846.26486486486488 440.02162162162165\n",
      "Self-intersection at or near point 309.57894736842104 689\n",
      "Self-intersection at or near point 723.88 732.15999999999997\n",
      "Self-intersection at or near point 553.304347826087 18.608695652173914\n",
      "Self-intersection at or near point 745.50847457627117 705.13559322033893\n",
      "Self-intersection at or near point 844.65957446808511 596.95744680851067\n",
      "Self-intersection at or near point 240.41463414634146 273.78048780487802\n",
      "Self-intersection at or near point 844.84000000000003 638.84000000000003\n",
      "Self-intersection at or near point 365.1875 82.6015625\n",
      "Self-intersection at or near point 775.95652173913038 829.04347826086962\n",
      "Self-intersection at or near point 576.34059945504089 822.77929155313348\n",
      "Self-intersection at or near point 519.47804878048782 489.91463414634148\n",
      "Self-intersection at or near point 539.625 573.0625\n",
      "Self-intersection at or near point 407.78461538461539 617.4666666666667\n",
      "Self-intersection at or near point 552.63768115942025 47\n",
      "Self-intersection at or near point 609.86956521739125 793.17391304347825\n",
      "Self-intersection at or near point 123.75 808\n"
     ]
    },
    {
     "name": "stdout",
     "output_type": "stream",
     "text": [
      "4000\n"
     ]
    },
    {
     "name": "stderr",
     "output_type": "stream",
     "text": [
      "Self-intersection at or near point 227.26415094339623 588.79245283018872\n",
      "Self-intersection at or near point 230.01049868766404 575.11548556430444\n",
      "Self-intersection at or near point 639.16981132075466 357.43396226415092\n",
      "Self-intersection at or near point 790.93442622950818 818.90710382513657\n",
      "Self-intersection at or near point 835 815.5\n",
      "Self-intersection at or near point 79.297709923664115 396.32061068702291\n",
      "Self-intersection at or near point 814.13690476190482 298.22023809523807\n",
      "Self-intersection at or near point 329.77981651376149 811.28440366972472\n",
      "Self-intersection at or near point 606.51219512195121 793.31707317073176\n",
      "Self-intersection at or near point 791 763.42857142857144\n",
      "Self-intersection at or near point 848.33333333333337 39\n",
      "Self-intersection at or near point 508.38253012048193 83.728915662650607\n",
      "Self-intersection at or near point 766.75374376039929 805.09317803660565\n",
      "Self-intersection at or near point 310.1975903614458 776.77108433734941\n",
      "Self-intersection at or near point 399.15151515151513 489.31818181818181\n",
      "Self-intersection at or near point 765.2146341463415 318.74634146341464\n",
      "Self-intersection at or near point 469 284\n",
      "Self-intersection at or near point 784.14285714285711 695.42857142857144\n",
      "Self-intersection at or near point 844.02985074626861 796.7611940298508\n",
      "Self-intersection at or near point 713.08945686900961 383.38019169329073\n",
      "Self-intersection at or near point 781.01522842639599 328.57868020304568\n",
      "Self-intersection at or near point 818 172\n",
      "Self-intersection at or near point 490.3125 531.9375\n"
     ]
    },
    {
     "name": "stdout",
     "output_type": "stream",
     "text": [
      "4100\n"
     ]
    },
    {
     "name": "stderr",
     "output_type": "stream",
     "text": [
      "Self-intersection at or near point 820.02622950819671 697.04262295081969\n",
      "Self-intersection at or near point 381.15094339622641 681.98113207547169\n",
      "Self-intersection at or near point 698.64788732394368 183.42253521126761\n",
      "Self-intersection at or near point 809.66037735849056 511.75471698113205\n",
      "Self-intersection at or near point 157.44444444444446 641.69444444444446\n",
      "Self-intersection at or near point 283.33333333333331 616.66666666666663\n",
      "Self-intersection at or near point 811.85915492957747 131.94366197183098\n",
      "Self-intersection at or near point 718.97058823529414 86.617647058823536\n",
      "Self-intersection at or near point 739.08474576271192 479.76271186440675\n",
      "Self-intersection at or near point 846.73134328358208 494.82089552238807\n",
      "Self-intersection at or near point 331.22950819672133 508.55737704918033\n",
      "Self-intersection at or near point 841.33333333333337 575.25\n",
      "Self-intersection at or near point 119.33953488372093 344.84961240310076\n",
      "Self-intersection at or near point 795.34400000000005 90.831999999999994\n",
      "Self-intersection at or near point 214.68211920529802 378.11920529801324\n",
      "Self-intersection at or near point 819.35483870967744 388.30322580645162\n",
      "Self-intersection at or near point 836.92452830188677 500.64150943396226\n"
     ]
    },
    {
     "name": "stdout",
     "output_type": "stream",
     "text": [
      "4200\n"
     ]
    },
    {
     "name": "stderr",
     "output_type": "stream",
     "text": [
      "Self-intersection at or near point 824 31\n",
      "Self-intersection at or near point 822.87581699346401 95.013071895424844\n",
      "Self-intersection at or near point 752.1682242990654 362.07476635514018\n",
      "Self-intersection at or near point 92.757575757575751 540.12121212121212\n",
      "Self-intersection at or near point 388.36697247706422 152.13761467889907\n",
      "Self-intersection at or near point 639.35622317596562 313.23605150214593\n",
      "Self-intersection at or near point 385.25714285714287 828\n",
      "Self-intersection at or near point 493.33333333333331 431.66666666666669\n",
      "Self-intersection at or near point 648.06896551724139 373.37931034482756\n",
      "Self-intersection at or near point 706.58490566037733 209.39622641509433\n",
      "Self-intersection at or near point 625.14814814814815 8.8148148148148149\n",
      "Ring Self-intersection at or near point 0 772\n",
      "Self-intersection at or near point 654.72727272727275 330.81818181818181\n",
      "Self-intersection at or near point 14.647058823529411 618.11764705882354\n",
      "Self-intersection at or near point 704.15384615384619 439.84615384615387\n",
      "Self-intersection at or near point 677.78169014084506 317.21830985915494\n",
      "Self-intersection at or near point 835.13043478260875 300.86956521739131\n",
      "Self-intersection at or near point 317.64935064935065 387.06493506493507\n"
     ]
    },
    {
     "name": "stdout",
     "output_type": "stream",
     "text": [
      "    ImageId  ClassType                                    MultipolygonWKT\n",
      "0  6120_2_4          1  MULTIPOLYGON (((0.0061055575672065 -0.00728821...\n",
      "1  6120_2_4          2                           GEOMETRYCOLLECTION EMPTY\n",
      "2  6120_2_4          3  MULTIPOLYGON (((0.0060839066538476 -0.00726659...\n",
      "3  6120_2_4          4                           GEOMETRYCOLLECTION EMPTY\n",
      "4  6120_2_4          5  MULTIPOLYGON (((0.0091799872641686 -0.00892103...\n"
     ]
    }
   ],
   "source": [
    "make_submit()"
   ]
  },
  {
   "cell_type": "code",
   "execution_count": 14,
   "metadata": {},
   "outputs": [
    {
     "name": "stdout",
     "output_type": "stream",
     "text": [
      "    ImageId  ClassType                                    MultipolygonWKT\n",
      "0  6120_2_4          1  POLYGON ((0 0, 0.009188 0, 0.009188 -0.0090399...\n",
      "1  6120_2_4          2  POLYGON ((0 0, 0.009188 0, 0.009188 -0.0090399...\n",
      "2  6120_2_4          3  POLYGON ((0 0, 0.009188 0, 0.009188 -0.0090399...\n",
      "3  6120_2_4          4  POLYGON ((0 0, 0.009188 0, 0.009188 -0.0090399...\n",
      "4  6120_2_4          5  POLYGON ((0 0, 0.009188 0, 0.009188 -0.0090399...\n"
     ]
    }
   ],
   "source": [
    "# make submission\n",
    "df = pd.read_csv(os.path.join(inDir, 'sample_submission.csv'))\n",
    "print df.head()"
   ]
  },
  {
   "cell_type": "code",
   "execution_count": 16,
   "metadata": {},
   "outputs": [
    {
     "name": "stderr",
     "output_type": "stream",
     "text": [
      "Self-intersection at or near point 443.97894736842107 309.38947368421054\n"
     ]
    },
    {
     "name": "stdout",
     "output_type": "stream",
     "text": [
      "0\n"
     ]
    },
    {
     "name": "stderr",
     "output_type": "stream",
     "text": [
      "Self-intersection at or near point 270.51162790697674 236.02325581395348\n",
      "Self-intersection at or near point 494.69767441860466 97.069767441860463\n",
      "Self-intersection at or near point 309.40983606557376 177.37704918032787\n",
      "Self-intersection at or near point 809.96518375241783 525.61702127659578\n",
      "Self-intersection at or near point 181.0952380952381 597.23809523809518\n",
      "Self-intersection at or near point 338.10738255033556 601.93288590604027\n",
      "Self-intersection at or near point 840.59322033898309 548.30508474576266\n",
      "Self-intersection at or near point 726.18461538461543 760.55384615384617\n",
      "Self-intersection at or near point 317.39999999999998 6.5999999999999996\n",
      "Self-intersection at or near point 819.06896551724139 337.37931034482756\n",
      "Self-intersection at or near point 818.192118226601 763.64039408866995\n",
      "Self-intersection at or near point 675.38461538461536 703.30769230769226\n",
      "Self-intersection at or near point 752.42335766423355 88.992700729927009\n",
      "Self-intersection at or near point 1.8476821192052979 24.635761589403973\n",
      "Self-intersection at or near point 800 175.19999999999999\n",
      "Self-intersection at or near point 545.40932642487041 637.73575129533674\n",
      "Self-intersection at or near point 846.35294117647061 434\n",
      "Self-intersection at or near point 833.97297297297303 175.48108108108107\n",
      "Self-intersection at or near point 549.06741573033707 283.0561797752809\n",
      "Self-intersection at or near point 811.70588235294122 87.235294117647058\n"
     ]
    },
    {
     "name": "stdout",
     "output_type": "stream",
     "text": [
      "100\n"
     ]
    },
    {
     "name": "stderr",
     "output_type": "stream",
     "text": [
      "Self-intersection at or near point 519.32000000000005 468.63999999999999\n",
      "Self-intersection at or near point 796.27999999999997 16\n",
      "Self-intersection at or near point 844.35570469798654 820.40939597315435\n",
      "Self-intersection at or near point 508.62686567164178 726.3432835820895\n",
      "Self-intersection at or near point 349.08450704225351 501.90140845070425\n",
      "Self-intersection at or near point 822.40865384615381 112.9375\n",
      "Self-intersection at or near point 627.16666666666663 321\n",
      "Self-intersection at or near point 833.34841628959271 171.02262443438914\n",
      "Self-intersection at or near point 749.27848101265818 320.33417721518987\n",
      "Ring Self-intersection at or near point 480 180\n",
      "Self-intersection at or near point 453.55555555555554 402.5\n",
      "Self-intersection at or near point 790.97058823529414 161.02941176470588\n",
      "Self-intersection at or near point 714.14308426073137 344.60254372019079\n",
      "Self-intersection at or near point 502.80865224625626 832.28119800332775\n",
      "Self-intersection at or near point 328.30232558139534 800.11627906976742\n",
      "Self-intersection at or near point 639.96000000000004 477.51999999999998\n",
      "Self-intersection at or near point 499.68224299065423 419.14953271028037\n",
      "Self-intersection at or near point 452.61904761904759 241.57142857142858\n",
      "Self-intersection at or near point 511.71052631578948 797.23684210526312\n",
      "Self-intersection at or near point 563.19834710743805 566.03305785123962\n",
      "Self-intersection at or near point 240.4848484848485 667.66666666666663\n",
      "Self-intersection at or near point 286.2837837837838 615.79729729729729\n",
      "Self-intersection at or near point 529.52631578947364 351.4736842105263\n",
      "Self-intersection at or near point 643.08035714285711 20.3125\n",
      "Self-intersection at or near point 433.70833333333331 487.02083333333331\n",
      "Self-intersection at or near point 563.84057971014488 45.275362318840578\n",
      "Ring Self-intersection at or near point 835 100\n",
      "Self-intersection at or near point 641.09489051094886 411.93430656934305\n",
      "Self-intersection at or near point 749.67857142857144 480\n"
     ]
    },
    {
     "name": "stdout",
     "output_type": "stream",
     "text": [
      "200\n"
     ]
    },
    {
     "name": "stderr",
     "output_type": "stream",
     "text": [
      "Self-intersection at or near point 831.03982300884957 747.35840707964599\n",
      "Self-intersection at or near point 755.96078431372553 176.94117647058823\n",
      "Self-intersection at or near point 688.88541666666663 459.0625\n",
      "Self-intersection at or near point 753.74641148325361 516.68421052631584\n",
      "Self-intersection at or near point 537.71428571428567 323.71428571428572\n",
      "Self-intersection at or near point 843.08064516129036 280.88709677419354\n",
      "Self-intersection at or near point 154.99065420560748 468.69158878504675\n",
      "Self-intersection at or near point 772.80565371024738 572.9293286219081\n",
      "Self-intersection at or near point 845.83333333333337 147.33333333333334\n",
      "Self-intersection at or near point 660.58947368421047 371.25263157894739\n",
      "Self-intersection at or near point 810.63736263736268 148.96703296703296\n",
      "Self-intersection at or near point 826.12 324.72000000000003\n",
      "Self-intersection at or near point 464.14285714285717 155\n",
      "Self-intersection at or near point 803.68811881188117 652.96039603960401\n",
      "Self-intersection at or near point 845.36363636363637 251.81818181818181\n",
      "Self-intersection at or near point 743.23809523809518 640.71428571428567\n",
      "Self-intersection at or near point 805.85365853658539 830.8780487804878\n"
     ]
    },
    {
     "name": "stdout",
     "output_type": "stream",
     "text": [
      "300\n"
     ]
    },
    {
     "name": "stderr",
     "output_type": "stream",
     "text": [
      "Self-intersection at or near point 764.14285714285711 751.85714285714289\n",
      "Self-intersection at or near point 655.63636363636363 823\n",
      "Self-intersection at or near point 788.36900369003695 289.5608856088561\n",
      "Self-intersection at or near point 831.06759443339956 768.93439363817095\n",
      "Self-intersection at or near point 643.53312302839117 675.64668769716093\n",
      "Self-intersection at or near point 819 542.27272727272725\n",
      "Self-intersection at or near point 696.59322033898309 744.71186440677968\n",
      "Ring Self-intersection at or near point 478 664\n",
      "Self-intersection at or near point 141.1764705882353 19.764705882352942\n",
      "Self-intersection at or near point 637.34042553191489 816.37234042553189\n",
      "Self-intersection at or near point 289.07865168539325 644.03370786516859\n",
      "Self-intersection at or near point 477.80260303687635 212.96963123644252\n",
      "Self-intersection at or near point 47.040404040404042 800.32323232323233\n",
      "Self-intersection at or near point 476.87012987012986 701.01298701298697\n",
      "Self-intersection at or near point 264.60058309037902 420.35568513119534\n",
      "Self-intersection at or near point 674 638\n",
      "Self-intersection at or near point 90.304347826086953 476.89855072463769\n",
      "Self-intersection at or near point 249.88 305.95999999999998\n",
      "Self-intersection at or near point 599.43181818181813 61.795454545454547\n",
      "Self-intersection at or near point 26.568627450980394 607.37254901960785\n",
      "Ring Self-intersection at or near point 271 201\n",
      "Self-intersection at or near point 606.14814814814815 172.92592592592592\n",
      "Self-intersection at or near point 641.90909090909088 529\n",
      "Self-intersection at or near point 152.54353562005278 786.664907651715\n",
      "Self-intersection at or near point 753.07692307692309 392.69230769230768\n",
      "Self-intersection at or near point 695.5836575875486 5.6848249027237356\n",
      "Self-intersection at or near point 753.24050632911394 18.354430379746837\n"
     ]
    },
    {
     "name": "stdout",
     "output_type": "stream",
     "text": [
      "400\n"
     ]
    },
    {
     "name": "stderr",
     "output_type": "stream",
     "text": [
      "Self-intersection at or near point 676.54999999999995 835.37\n",
      "Self-intersection at or near point 830.89320388349518 589.82524271844659\n",
      "Self-intersection at or near point 133.75 637.6875\n",
      "Self-intersection at or near point 151.46494464944649 438.2029520295203\n",
      "Self-intersection at or near point 622.13725490196077 688\n",
      "Self-intersection at or near point 831.37864077669906 649.92233009708741\n",
      "Self-intersection at or near point 699.89473684210532 816.21052631578948\n",
      "Self-intersection at or near point 371.23529411764707 714.70000000000005\n",
      "Self-intersection at or near point 680.61318051575927 494.52722063037248\n",
      "Self-intersection at or near point 49 533\n",
      "Self-intersection at or near point 847.66129032258061 699.56451612903231\n",
      "Self-intersection at or near point 810.17365269461072 438.74850299401197\n",
      "Self-intersection at or near point 280.87969924812029 262.4736842105263\n",
      "Self-intersection at or near point 823.79999999999995 301.14999999999998\n",
      "Self-intersection at or near point 157.76363636363635 152.12727272727273\n",
      "Self-intersection at or near point 565.21929824561403 360.57017543859649\n",
      "Self-intersection at or near point 739.44303797468353 812.45569620253161\n",
      "Ring Self-intersection at or near point 567 621\n",
      "Self-intersection at or near point 846.87387387387389 786.99099099099101\n",
      "Self-intersection at or near point 484.96610169491527 746.32203389830511\n",
      "Self-intersection at or near point 617.42990654205607 364.42056074766356\n",
      "Self-intersection at or near point 509.11392405063293 232.12658227848101\n",
      "Self-intersection at or near point 788.51612903225805 383.25806451612902\n",
      "Self-intersection at or near point 304.6519823788546 33.59911894273128\n"
     ]
    },
    {
     "name": "stdout",
     "output_type": "stream",
     "text": [
      "500\n"
     ]
    },
    {
     "name": "stderr",
     "output_type": "stream",
     "text": [
      "Self-intersection at or near point 397.05780346820808 832.81695568400767\n",
      "Self-intersection at or near point 821.03875968992247 38.046511627906973\n",
      "Self-intersection at or near point 821 692.05555555555554\n",
      "Self-intersection at or near point 845.06153846153848 233.56923076923076\n",
      "Self-intersection at or near point 842.08071748878922 700.69955156950675\n",
      "Self-intersection at or near point 178.77272727272728 504.04545454545456\n",
      "Self-intersection at or near point 812.46153846153845 258.07692307692309\n",
      "Self-intersection at or near point 574.25 811.5\n",
      "Self-intersection at or near point 846.15999999999997 213.12\n",
      "Self-intersection at or near point 373.20454545454544 734.36742424242425\n",
      "Self-intersection at or near point 821.66515837104077 77.425339366515843\n",
      "Self-intersection at or near point 343.55000000000001 349.25\n",
      "Self-intersection at or near point 790.93103448275861 132.13793103448276\n",
      "Self-intersection at or near point 754.39130434782612 510.6521739130435\n",
      "Self-intersection at or near point 813.24817518248176 318.44160583941607\n",
      "Self-intersection at or near point 62.825581395348834 138.27906976744185\n",
      "Self-intersection at or near point 838.5934065934066 116.53846153846153\n",
      "Self-intersection at or near point 824.77027027027032 72.412162162162161\n"
     ]
    },
    {
     "name": "stdout",
     "output_type": "stream",
     "text": [
      "600\n"
     ]
    },
    {
     "name": "stderr",
     "output_type": "stream",
     "text": [
      "Self-intersection at or near point 801.92035398230087 337.35398230088498\n",
      "Self-intersection at or near point 798.86956521739125 579.2086956521739\n",
      "Self-intersection at or near point 810.94339622641508 389.07547169811323\n",
      "Self-intersection at or near point 765.29032258064512 336.09677419354841\n",
      "Self-intersection at or near point 546.70103092783506 558.2783505154639\n",
      "Self-intersection at or near point 810.60573476702507 237.27598566308245\n",
      "Self-intersection at or near point 157.40000000000001 785.20000000000005\n",
      "Self-intersection at or near point 34.307692307692307 6.2564102564102564\n",
      "Self-intersection at or near point 818.61971830985919 673.04929577464793\n",
      "Self-intersection at or near point 812 110.18181818181819\n",
      "Self-intersection at or near point 560.05479452054794 457.09589041095893\n",
      "Self-intersection at or near point 205.1404255319149 202.01276595744682\n",
      "Self-intersection at or near point 785.20481927710841 7.7590361445783129\n",
      "Self-intersection at or near point 313.11111111111109 727.5\n",
      "Self-intersection at or near point 180.05882352941177 394.52941176470586\n",
      "Self-intersection at or near point 750.88888888888891 34.555555555555557\n",
      "Self-intersection at or near point 679.79019073569486 322.44141689373299\n",
      "Self-intersection at or near point 755.5 823.125\n",
      "Self-intersection at or near point 815.69230769230774 639.1868131868132\n",
      "Ring Self-intersection at or near point 799 614\n"
     ]
    },
    {
     "name": "stdout",
     "output_type": "stream",
     "text": [
      "700\n"
     ]
    },
    {
     "name": "stderr",
     "output_type": "stream",
     "text": [
      "Self-intersection at or near point 520.35000000000002 672.64999999999998\n",
      "Self-intersection at or near point 817.72727272727275 47.81818181818182\n",
      "Self-intersection at or near point 820.87719298245611 355.94736842105266\n",
      "Self-intersection at or near point 35 483.27272727272725\n",
      "Self-intersection at or near point 226.42700729927006 75.748175182481745\n",
      "Self-intersection at or near point 799.11904761904759 555.16666666666663\n",
      "Self-intersection at or near point 20.166666666666668 99.833333333333329\n",
      "Self-intersection at or near point 679.32751091703062 139.73799126637556\n",
      "Self-intersection at or near point 12.739130434782609 830.43478260869563\n",
      "Self-intersection at or near point 794.80079681274901 303.47808764940237\n",
      "Self-intersection at or near point 169.52941176470588 816.70588235294122\n",
      "Self-intersection at or near point 563.29787234042556 349.55319148936172\n",
      "Self-intersection at or near point 444.09876543209879 308.44444444444446\n",
      "Self-intersection at or near point 642.41772151898738 786.30379746835445\n",
      "Self-intersection at or near point 414.00719424460431 347.23741007194246\n",
      "Self-intersection at or near point 479.01824212271976 665.99834162520733\n",
      "Self-intersection at or near point 463.26086956521738 464.13043478260869\n",
      "Self-intersection at or near point 340.23853211009174 761.06422018348621\n",
      "Self-intersection at or near point 542.01265822784808 576.92405063291142\n",
      "Self-intersection at or near point 235 576\n",
      "Self-intersection at or near point 841.85053380782915 288.91814946619218\n",
      "Self-intersection at or near point 768.94444444444446 677.93650793650795\n",
      "Self-intersection at or near point 318.24683544303798 824.92405063291142\n",
      "Self-intersection at or near point 750.10236220472439 692.14173228346453\n",
      "Self-intersection at or near point 825.14285714285711 88.714285714285708\n",
      "Self-intersection at or near point 477.80975609756098 537.20487804878053\n",
      "Self-intersection at or near point 114 216\n"
     ]
    },
    {
     "name": "stdout",
     "output_type": "stream",
     "text": [
      "800\n"
     ]
    },
    {
     "name": "stderr",
     "output_type": "stream",
     "text": [
      "Self-intersection at or near point 682.936170212766 25.48936170212766\n",
      "Self-intersection at or near point 777.50649350649348 652.68831168831173\n",
      "Self-intersection at or near point 659.77325581395348 476.62790697674421\n",
      "Self-intersection at or near point 42.307692307692307 24.692307692307693\n",
      "Self-intersection at or near point 609.58490566037733 115.05660377358491\n",
      "Self-intersection at or near point 214.02857142857144 336.65714285714284\n",
      "Self-intersection at or near point 616.82352941176475 22.705882352941178\n",
      "Self-intersection at or near point 793.53246753246754 606.28571428571433\n",
      "Self-intersection at or near point 736.47352024922122 477.69158878504675\n",
      "Self-intersection at or near point 380.79729729729729 116.02702702702703\n",
      "Self-intersection at or near point 512.88636363636363 798.52272727272725\n",
      "Self-intersection at or near point 784.89423076923072 796.61217948717945\n",
      "Self-intersection at or near point 291.07272727272726 822.69090909090914\n",
      "Self-intersection at or near point 736.88163265306127 422.31428571428569\n",
      "Self-intersection at or near point 661 758.03999999999996\n",
      "Self-intersection at or near point 236.52000000000001 711.72000000000003\n",
      "Self-intersection at or near point 801.17142857142858 117.08571428571429\n",
      "Self-intersection at or near point 17.872727272727271 749.90909090909088\n",
      "Self-intersection at or near point 692.05722326454031 382.80112570356471\n",
      "Self-intersection at or near point 43.021885521885523 801.2188552188552\n",
      "Self-intersection at or near point 643.77999999999997 816.01999999999998\n",
      "Self-intersection at or near point 821.05726872246692 731.51541850220269\n",
      "Self-intersection at or near point 775.14285714285711 692.14285714285711\n",
      "Self-intersection at or near point 177.06130268199234 824.11494252873558\n",
      "Self-intersection at or near point 844.41176470588232 133.94117647058823\n"
     ]
    },
    {
     "name": "stdout",
     "output_type": "stream",
     "text": [
      "900\n"
     ]
    },
    {
     "name": "stderr",
     "output_type": "stream",
     "text": [
      "Self-intersection at or near point 173.94230769230768 604.86538461538464\n",
      "Self-intersection at or near point 794.95041322314046 369.28099173553721\n",
      "Self-intersection at or near point 23.210300429184549 785.94420600858371\n",
      "Self-intersection at or near point 840.54109589041093 379.46575342465752\n",
      "Self-intersection at or near point 649.38766519823787 540.28193832599118\n",
      "Ring Self-intersection at or near point 694 799\n",
      "Self-intersection at or near point 819.13698630136992 152.1917808219178\n",
      "Self-intersection at or near point 845.63617463617459 799.34095634095638\n",
      "Self-intersection at or near point 841.52054794520552 616.2465753424658\n",
      "Self-intersection at or near point 501.65329512893982 141.60458452722062\n",
      "Self-intersection at or near point 317.42975206611573 128.86776859504133\n",
      "Self-intersection at or near point 843.72727272727275 232.45454545454547\n",
      "Self-intersection at or near point 799.37209302325584 415.09302325581393\n",
      "Self-intersection at or near point 98.991189427312776 300.14977973568284\n",
      "Self-intersection at or near point 845.98076923076928 341.34615384615387\n",
      "Self-intersection at or near point 804.57894736842104 149.77443609022558\n",
      "Self-intersection at or near point 389.24193548387098 691.98387096774195\n",
      "Self-intersection at or near point 825.04999999999995 315.91500000000002\n",
      "Self-intersection at or near point 761.8878504672897 762.89719626168221\n",
      "Self-intersection at or near point 338.19999999999999 13\n"
     ]
    },
    {
     "name": "stdout",
     "output_type": "stream",
     "text": [
      "1000\n"
     ]
    },
    {
     "name": "stderr",
     "output_type": "stream",
     "text": [
      "Self-intersection at or near point 847.91240875912411 612.07299270072997\n",
      "Self-intersection at or near point 846.73539518900338 652.92783505154637\n",
      "Self-intersection at or near point 86.219780219780219 120.27472527472527\n",
      "Self-intersection at or near point 564.42222222222222 36.94222222222222\n",
      "Self-intersection at or near point 823.29213483146066 376.13483146067415\n",
      "Self-intersection at or near point 711.95652173913038 699.56521739130437\n",
      "Self-intersection at or near point 845.89189189189187 578.94594594594594\n",
      "Self-intersection at or near point 122.12865497076024 594.32163742690057\n",
      "Self-intersection at or near point 843.8730158730159 431.47619047619048\n",
      "Self-intersection at or near point 826.2389380530974 439.46902654867256\n",
      "Self-intersection at or near point 773 699\n",
      "Self-intersection at or near point 806.60000000000002 731.29999999999995\n",
      "Self-intersection at or near point 801.10071942446041 322.51079136690646\n",
      "Self-intersection at or near point 478.02272727272725 677.40909090909088\n",
      "Self-intersection at or near point 285.09195402298849 726.88505747126442\n",
      "Self-intersection at or near point 641.57142857142856 709.76190476190482\n",
      "Self-intersection at or near point 638.0322580645161 160.06451612903226\n",
      "Self-intersection at or near point 640.15706806282719 275.42931937172773\n",
      "Self-intersection at or near point 845.67441860465112 88\n",
      "Self-intersection at or near point 337.7216494845361 44.257731958762889\n"
     ]
    },
    {
     "name": "stdout",
     "output_type": "stream",
     "text": [
      "1100\n"
     ]
    },
    {
     "name": "stderr",
     "output_type": "stream",
     "text": [
      "Self-intersection at or near point 613.07317073170736 23.780487804878049\n",
      "Self-intersection at or near point 785.58333333333337 495.58333333333331\n",
      "Self-intersection at or near point 318.54285714285714 783.17142857142858\n",
      "Self-intersection at or near point 620.66037735849056 754.67924528301887\n",
      "Self-intersection at or near point 627.66666666666663 785\n",
      "Self-intersection at or near point 214.12727272727273 103.40000000000001\n",
      "Self-intersection at or near point 102.16216216216216 294.89189189189187\n",
      "Self-intersection at or near point 714.10434782608695 86.826086956521735\n",
      "Self-intersection at or near point 744 797.5\n",
      "Ring Self-intersection at or near point 848 379\n",
      "Ring Self-intersection at or near point 617 666\n",
      "Self-intersection at or near point 711.37070524412297 109.36889692585895\n",
      "Self-intersection at or near point 797.64912280701753 139.19298245614036\n",
      "Ring Self-intersection at or near point 558 710\n",
      "Self-intersection at or near point 817.69230769230774 377.73076923076923\n",
      "Self-intersection at or near point 79.375 333.75\n",
      "Self-intersection at or near point 522.34883720930236 782.67441860465112\n",
      "Self-intersection at or near point 639.0703125 677.15625\n",
      "Self-intersection at or near point 253.34883720930233 830.10963455149499\n",
      "Self-intersection at or near point 553.82608695652175 670.82608695652175\n",
      "Self-intersection at or near point 774.91308089500865 488.09380378657488\n",
      "Self-intersection at or near point 415.80000000000001 182.40000000000001\n",
      "Self-intersection at or near point 209.07843137254903 290.37254901960785\n",
      "Self-intersection at or near point 840.4924623115578 305.23115577889445\n",
      "Self-intersection at or near point 801.88636363636363 323.54545454545456\n",
      "Self-intersection at or near point 565.90243902439022 473.3170731707317\n",
      "Self-intersection at or near point 445.10743801652893 530.02479338842977\n",
      "Self-intersection at or near point 832.18652849740931 293.02590673575128\n",
      "Self-intersection at or near point 786.90909090909088 218\n"
     ]
    },
    {
     "name": "stdout",
     "output_type": "stream",
     "text": [
      "1200\n"
     ]
    },
    {
     "name": "stderr",
     "output_type": "stream",
     "text": [
      "Self-intersection at or near point 148.46666666666667 681.42666666666662\n",
      "Self-intersection at or near point 677.29729729729729 209.35135135135135\n",
      "Ring Self-intersection at or near point 160 358\n",
      "Self-intersection at or near point 806.71428571428567 607.85714285714289\n",
      "Self-intersection at or near point 584.23076923076928 682.76923076923072\n",
      "Self-intersection at or near point 530.8350515463917 413.49484536082474\n",
      "Self-intersection at or near point 687.92920353982299 793.66371681415933\n",
      "Self-intersection at or near point 770.25641025641028 678.56410256410254\n",
      "Self-intersection at or near point 586.58333333333337 153.55555555555554\n",
      "Self-intersection at or near point 789.20000000000005 342\n",
      "Self-intersection at or near point 778.3125 825.4375\n",
      "Self-intersection at or near point 785.25 281.25\n",
      "Self-intersection at or near point 637.00980392156862 644.57843137254906\n",
      "Self-intersection at or near point 11.964601769911505 303.59292035398232\n",
      "Self-intersection at or near point 643.83870967741939 816.35483870967744\n",
      "Self-intersection at or near point 493.90909090909093 532.90909090909088\n",
      "Self-intersection at or near point 846.43589743589746 581.30769230769226\n",
      "Self-intersection at or near point 787.41696113074204 203.62897526501766\n",
      "Self-intersection at or near point 550.18867924528297 797.24528301886789\n",
      "Self-intersection at or near point 701.24000000000001 695.39999999999998\n",
      "Self-intersection at or near point 520.51612903225805 508.80645161290323\n",
      "Self-intersection at or near point 825.73333333333335 75.266666666666666\n",
      "Self-intersection at or near point 693.06008583690982 555.42060085836908\n",
      "Self-intersection at or near point 808.0840336134454 831.60784313725492\n"
     ]
    },
    {
     "name": "stdout",
     "output_type": "stream",
     "text": [
      "1300\n"
     ]
    },
    {
     "name": "stderr",
     "output_type": "stream",
     "text": [
      "Self-intersection at or near point 832.6521739130435 368.91304347826087\n",
      "Self-intersection at or near point 387.08080808080808 598.53535353535358\n",
      "Self-intersection at or near point 807 733.33333333333337\n",
      "Self-intersection at or near point 836.42857142857144 64.857142857142861\n",
      "Self-intersection at or near point 692.31818181818187 49.363636363636367\n",
      "Self-intersection at or near point 684.42307692307691 801.63461538461536\n",
      "Self-intersection at or near point 111 484\n",
      "Self-intersection at or near point 639.24888888888893 607.75999999999999\n",
      "Self-intersection at or near point 795 595.37037037037032\n",
      "Self-intersection at or near point 844.18181818181813 217.81818181818181\n",
      "Self-intersection at or near point 657.81967213114751 684.44262295081967\n",
      "Self-intersection at or near point 783.44700460829495 256.64516129032256\n",
      "Self-intersection at or near point 840.28301886792451 830.20754716981128\n",
      "Self-intersection at or near point 810.46285714285716 690.08000000000004\n",
      "Self-intersection at or near point 747.42857142857144 382.28571428571428\n",
      "Self-intersection at or near point 515.23076923076928 815.69230769230774\n",
      "Self-intersection at or near point 546.22147651006708 354.40939597315435\n",
      "Self-intersection at or near point 597.87234042553189 356.40425531914894\n",
      "Self-intersection at or near point 550.16528925619832 164.19834710743802\n"
     ]
    },
    {
     "name": "stdout",
     "output_type": "stream",
     "text": [
      "1400\n"
     ]
    },
    {
     "name": "stderr",
     "output_type": "stream",
     "text": [
      "Self-intersection at or near point 760.93023255813955 194.46511627906978\n",
      "Self-intersection at or near point 846.56108597285072 699.52036199095028\n",
      "Self-intersection at or near point 776.89090909090908 185.18181818181819\n",
      "Self-intersection at or near point 716.17391304347825 735.78595317725751\n",
      "Self-intersection at or near point 628 404.5\n",
      "Self-intersection at or near point 632.05405405405406 643.67567567567562\n",
      "Self-intersection at or near point 849.08431163287082 754.03521878335107\n",
      "Self-intersection at or near point 647 479\n",
      "Self-intersection at or near point 668.78431372549016 367.74117647058824\n",
      "Self-intersection at or near point 750.08571428571429 20.085714285714285\n",
      "Self-intersection at or near point 797.38562091503263 693.04575163398692\n",
      "Self-intersection at or near point 375.88888888888891 289.22222222222223\n",
      "Self-intersection at or near point 747.00651465798046 663.95765472312701\n",
      "Self-intersection at or near point 246 675\n",
      "Self-intersection at or near point 329.7358490566038 707.71698113207549\n",
      "Self-intersection at or near point 797.9316239316239 463.00569800569798\n",
      "Self-intersection at or near point 802.23953098827474 95.917922948073695\n",
      "Self-intersection at or near point 529.15126050420167 144.18319327731092\n",
      "Self-intersection at or near point 816.63414634146341 209.76829268292684\n",
      "Self-intersection at or near point 824.39999999999998 605.79999999999995\n",
      "Self-intersection at or near point 597.09433962264154 171.15094339622641\n",
      "Self-intersection at or near point 661.60439560439556 17.307692307692307\n",
      "Self-intersection at or near point 180.53246753246754 55.935064935064936\n",
      "Self-intersection at or near point 720.7032967032967 663.95604395604391\n",
      "Self-intersection at or near point 816.51764705882351 314.67058823529413\n",
      "Self-intersection at or near point 587.44206008583694 561.79506437768237\n"
     ]
    },
    {
     "name": "stdout",
     "output_type": "stream",
     "text": [
      "1500\n"
     ]
    },
    {
     "name": "stderr",
     "output_type": "stream",
     "text": [
      "Ring Self-intersection at or near point 450 27\n",
      "Self-intersection at or near point 671.82608695652175 535.17391304347825\n",
      "Self-intersection at or near point 401.88 301.53411764705885\n",
      "Self-intersection at or near point 742.62222222222226 112.73333333333333\n",
      "Self-intersection at or near point 830.70078740157476 812.29133858267721\n",
      "Self-intersection at or near point 464.61764705882354 82.07352941176471\n",
      "Self-intersection at or near point 825.53846153846155 261.76923076923077\n",
      "Self-intersection at or near point 802.39754098360652 94.889344262295083\n",
      "Self-intersection at or near point 766.59550561797755 743.29213483146066\n",
      "Self-intersection at or near point 821.64285714285711 244.64285714285714\n",
      "Self-intersection at or near point 12.012987012987013 684.87012987012986\n",
      "Self-intersection at or near point 579.625 672.875\n",
      "Self-intersection at or near point 640.96000000000004 817.67999999999995\n",
      "Self-intersection at or near point 844.56521739130437 41.956521739130437\n",
      "Self-intersection at or near point 672.27272727272725 58.090909090909093\n",
      "Self-intersection at or near point 482.95652173913044 785.60869565217388\n",
      "Self-intersection at or near point 830.36842105263156 671.36842105263156\n",
      "Self-intersection at or near point 830.57894736842104 690.81954887218046\n",
      "Self-intersection at or near point 267.56716417910445 104.6268656716418\n",
      "Self-intersection at or near point 437.73913043478262 413.82608695652175\n",
      "Self-intersection at or near point 795 37.200000000000003\n",
      "Self-intersection at or near point 762.91061452513964 160.31284916201116\n"
     ]
    },
    {
     "name": "stdout",
     "output_type": "stream",
     "text": [
      "1600\n"
     ]
    },
    {
     "name": "stderr",
     "output_type": "stream",
     "text": [
      "Self-intersection at or near point 619.53719008264466 590.04132231404958\n",
      "Self-intersection at or near point 839.37931034482756 450.9655172413793\n",
      "Self-intersection at or near point 346.20689655172413 482.4942528735632\n",
      "Self-intersection at or near point 711.26315789473688 645.31578947368416\n",
      "Self-intersection at or near point 628.77894736842109 165.45263157894738\n",
      "Self-intersection at or near point 563.79999999999995 660.86666666666667\n",
      "Self-intersection at or near point 264.28571428571428 177\n",
      "Self-intersection at or near point 576.5272727272727 18.645454545454545\n",
      "Self-intersection at or near point 781.625 548.5\n",
      "Self-intersection at or near point 92.511627906976742 136.53488372093022\n",
      "Ring Self-intersection at or near point 441 589\n",
      "Self-intersection at or near point 328 466\n",
      "Self-intersection at or near point 560.82926829268297 499.48780487804879\n",
      "Self-intersection at or near point 830.27586206896547 633.72413793103453\n",
      "Self-intersection at or near point 759.76610169491528 734.77966101694915\n",
      "Self-intersection at or near point 844.77464788732391 722.90140845070425\n",
      "Self-intersection at or near point 799.07407407407402 419.18518518518516\n",
      "Self-intersection at or near point 774.14606741573039 142.68539325842696\n",
      "Self-intersection at or near point 576.35741935483873 751.09161290322584\n",
      "Self-intersection at or near point 845.19626168224295 133.71962616822429\n",
      "Self-intersection at or near point 427.1206030150754 348.95477386934675\n",
      "Self-intersection at or near point 727.66666666666663 268.66666666666669\n",
      "Self-intersection at or near point 619.48275862068965 465.31034482758622\n",
      "Self-intersection at or near point 726.45945945945948 156.45945945945945\n",
      "Self-intersection at or near point 786.74468085106378 541.04255319148933\n",
      "Self-intersection at or near point 323 48\n"
     ]
    },
    {
     "name": "stdout",
     "output_type": "stream",
     "text": [
      "1700\n"
     ]
    },
    {
     "name": "stderr",
     "output_type": "stream",
     "text": [
      "Self-intersection at or near point 552.38095238095241 25.142857142857142\n",
      "Self-intersection at or near point 818.8360655737705 205.03278688524591\n",
      "Self-intersection at or near point 511.86227544910179 129.46107784431138\n",
      "Self-intersection at or near point 287.44525547445255 613.20437956204375\n",
      "Self-intersection at or near point 766.51851851851848 334.81481481481484\n",
      "Self-intersection at or near point 0.29999999999999999 264.39999999999998\n",
      "Self-intersection at or near point 624.88235294117646 539.48739495798316\n",
      "Self-intersection at or near point 800.73333333333335 138.55555555555554\n",
      "Self-intersection at or near point 325 189\n",
      "Self-intersection at or near point 333.82051282051282 310.97435897435895\n",
      "Self-intersection at or near point 827.01056338028172 340.8098591549296\n",
      "Self-intersection at or near point 845.35000000000002 789.89999999999998\n",
      "Self-intersection at or near point 207.40000000000001 819.67999999999995\n",
      "Self-intersection at or near point 826.87203791469199 483.26540284360192\n",
      "Ring Self-intersection at or near point 744 760\n",
      "Self-intersection at or near point 772.97931034482758 687.648275862069\n",
      "Self-intersection at or near point 20.956521739130434 675.91304347826087\n",
      "Self-intersection at or near point 830.02931596091207 320.37133550488602\n",
      "Self-intersection at or near point 119.87878787878788 614.030303030303\n",
      "Self-intersection at or near point 82.763271162123388 632.48350071736013\n",
      "Self-intersection at or near point 801.48387096774195 588.2177419354839\n",
      "Self-intersection at or near point 792.74774774774778 282.09009009009009\n"
     ]
    },
    {
     "name": "stdout",
     "output_type": "stream",
     "text": [
      "1800\n"
     ]
    },
    {
     "name": "stderr",
     "output_type": "stream",
     "text": [
      "Self-intersection at or near point 825.0526315789474 782.15789473684208\n",
      "Self-intersection at or near point 92.555555555555557 98.25252525252526\n",
      "Self-intersection at or near point 834.33333333333337 741.66666666666663\n",
      "Self-intersection at or near point 154.91275167785236 199.61073825503357\n",
      "Self-intersection at or near point 839.09448818897636 806.84645669291342\n",
      "Self-intersection at or near point 536.40594059405942 627.85148514851483\n",
      "Self-intersection at or near point 845 380\n",
      "Self-intersection at or near point 475 77.833333333333329\n",
      "Self-intersection at or near point 527.052812858783 639.06314580941444\n",
      "Self-intersection at or near point 778.10067114093965 630.13422818791946\n",
      "Self-intersection at or near point 718.05725190839689 300.00763358778624\n",
      "Self-intersection at or near point 745 267\n",
      "Self-intersection at or near point 3.6842105263157894 685.63157894736844\n",
      "Self-intersection at or near point 845.47133757961785 407.71974522292993\n",
      "Self-intersection at or near point 417.85245901639342 569.75409836065569\n",
      "Self-intersection at or near point 634.15575620767493 522.65237020316022\n",
      "Self-intersection at or near point 640.14563106796118 811.51456310679612\n",
      "Self-intersection at or near point 778.0580912863071 831.93360995850617\n",
      "Ring Self-intersection at or near point 158 799\n",
      "Self-intersection at or near point 2.0163934426229506 224.74590163934425\n",
      "Self-intersection at or near point 374 755.9375\n",
      "Self-intersection at or near point 250.92537313432837 764.40298507462683\n"
     ]
    },
    {
     "name": "stdout",
     "output_type": "stream",
     "text": [
      "1900\n"
     ]
    },
    {
     "name": "stderr",
     "output_type": "stream",
     "text": [
      "Self-intersection at or near point 481.20817843866172 148.42750929368029\n",
      "Self-intersection at or near point 341.00581395348837 452.44186046511629\n",
      "Self-intersection at or near point 686.61403508771934 401.61842105263156\n",
      "Self-intersection at or near point 402.45454545454544 58\n",
      "Self-intersection at or near point 697.9655172413793 296.71264367816093\n",
      "Self-intersection at or near point 823.17834394904457 541.50955414012742\n",
      "Self-intersection at or near point 137.58823529411765 805.47058823529414\n",
      "Self-intersection at or near point 70.485436893203882 648.26213592233012\n",
      "Self-intersection at or near point 841.5151515151515 331.45454545454544\n",
      "Self-intersection at or near point 843.5454545454545 69.766233766233768\n",
      "Self-intersection at or near point 837.4545454545455 387.66666666666669\n",
      "Self-intersection at or near point 153.10526315789474 53\n",
      "Self-intersection at or near point 773.88679245283015 54.698113207547166\n",
      "Self-intersection at or near point 800.37142857142862 760.85714285714289\n",
      "Self-intersection at or near point 274.16717325227961 194.43465045592706\n",
      "Self-intersection at or near point 689.81954887218046 553.21052631578948\n",
      "Self-intersection at or near point 693.78350515463922 576.87628865979377\n",
      "Self-intersection at or near point 785.42592592592598 389.35185185185185\n",
      "Self-intersection at or near point 417.79797979797979 454.11111111111109\n",
      "Self-intersection at or near point 800.26315789473688 424.70175438596493\n",
      "Self-intersection at or near point 186.87261146496814 117.96178343949045\n",
      "Self-intersection at or near point 829.50704225352115 197.54929577464787\n",
      "Self-intersection at or near point 826.24242424242425 751.90909090909088\n",
      "Self-intersection at or near point 748.90909090909088 766.5454545454545\n"
     ]
    },
    {
     "name": "stdout",
     "output_type": "stream",
     "text": [
      "2000\n"
     ]
    },
    {
     "name": "stderr",
     "output_type": "stream",
     "text": [
      "Self-intersection at or near point 806.13475177304963 810.14893617021278\n",
      "Self-intersection at or near point 573.69716088328073 701.67192429022077\n",
      "Self-intersection at or near point 748.27272727272725 794\n",
      "Ring Self-intersection at or near point 826 151\n",
      "Self-intersection at or near point 579.08695652173913 138.78260869565219\n",
      "Self-intersection at or near point 792.75999999999999 723\n",
      "Self-intersection at or near point 730.71176470588239 122.67647058823529\n",
      "Self-intersection at or near point 705 75.150000000000006\n",
      "Self-intersection at or near point 830.16666666666663 428.83333333333331\n",
      "Self-intersection at or near point 746.68421052631584 138.80701754385964\n",
      "Self-intersection at or near point 829.89473684210532 34.368421052631582\n",
      "Self-intersection at or near point 425.52941176470586 292.15032679738562\n",
      "Self-intersection at or near point 697.7358490566038 769.18867924528297\n",
      "Self-intersection at or near point 454 202\n",
      "Self-intersection at or near point 627 686\n",
      "Self-intersection at or near point 833.0854271356784 69.412060301507537\n",
      "Self-intersection at or near point 215.64912280701753 21.438596491228068\n",
      "Self-intersection at or near point 830.08675799086757 393.19634703196346\n"
     ]
    },
    {
     "name": "stdout",
     "output_type": "stream",
     "text": [
      "2100\n"
     ]
    },
    {
     "name": "stderr",
     "output_type": "stream",
     "text": [
      "Self-intersection at or near point 79.700404858299592 98.829959514170042\n",
      "Self-intersection at or near point 838.63043478260875 723.6521739130435\n",
      "Self-intersection at or near point 572.79614767255214 440.92295345104333\n",
      "Ring Self-intersection at or near point 128 797\n",
      "Self-intersection at or near point 841.92682926829264 595.29268292682923\n",
      "Self-intersection at or near point 738.39999999999998 296.89999999999998\n",
      "Self-intersection at or near point 624.92307692307691 151.94871794871796\n",
      "Self-intersection at or near point 799.32203389830511 133.40677966101694\n",
      "Self-intersection at or near point 692.78688524590166 556.57377049180332\n",
      "Self-intersection at or near point 841.18181818181813 427.63636363636363\n",
      "Self-intersection at or near point 630.61538461538464 437.61538461538464\n",
      "Self-intersection at or near point 789.63636363636363 508\n",
      "Self-intersection at or near point 812.35897435897436 648.71794871794873\n",
      "Self-intersection at or near point 720.54368932038835 313.11650485436894\n",
      "Self-intersection at or near point 831.12820512820508 344.37948717948717\n",
      "Self-intersection at or near point 830.7981790591806 103.49924127465857\n",
      "Self-intersection at or near point 832.6708860759494 427.8354430379747\n"
     ]
    },
    {
     "name": "stdout",
     "output_type": "stream",
     "text": [
      "2200\n"
     ]
    },
    {
     "name": "stderr",
     "output_type": "stream",
     "text": [
      "Self-intersection at or near point 816.75999999999999 196.16\n",
      "Self-intersection at or near point 751.94117647058829 474.9264705882353\n",
      "Self-intersection at or near point 541.22608695652173 342.03478260869565\n",
      "Self-intersection at or near point 833.08309455587391 801.6045845272206\n",
      "Self-intersection at or near point 833.22055674518197 410.41541755888653\n",
      "Self-intersection at or near point 681.73621103117512 748.29016786570742\n",
      "Self-intersection at or near point 367.70833333333331 248.30555555555554\n",
      "Self-intersection at or near point 833.73749999999995 743.61249999999995\n",
      "Self-intersection at or near point 813.36842105263156 634.47368421052636\n",
      "Self-intersection at or near point 415 708\n",
      "Self-intersection at or near point 88.142857142857139 166.42857142857142\n",
      "Self-intersection at or near point 192.04545454545453 369.90909090909093\n",
      "Self-intersection at or near point 811.48979591836735 448.12244897959181\n",
      "Self-intersection at or near point 459.06666666666666 377.39999999999998\n",
      "Self-intersection at or near point 813.09917355371897 241.98347107438016\n",
      "Self-intersection at or near point 646.02941176470586 806.29411764705878\n"
     ]
    },
    {
     "name": "stdout",
     "output_type": "stream",
     "text": [
      "2300\n"
     ]
    },
    {
     "name": "stderr",
     "output_type": "stream",
     "text": [
      "Self-intersection at or near point 720.08955223880594 29.149253731343283\n",
      "Self-intersection at or near point 820.34262948207174 29.358565737051794\n",
      "Self-intersection at or near point 322.4854881266491 30.575197889182057\n",
      "Self-intersection at or near point 764.87272727272727 393.90909090909093\n",
      "Self-intersection at or near point 627.14851485148517 638.25742574257424\n",
      "Self-intersection at or near point 804.09756097560978 675.51219512195121\n",
      "Self-intersection at or near point 845.9375 103.875\n",
      "Self-intersection at or near point 656.67694204685574 55.278668310727497\n",
      "Self-intersection at or near point 846.4545454545455 819.63636363636363\n",
      "Self-intersection at or near point 209.16438356164383 378.1917808219178\n",
      "Self-intersection at or near point 829.76923076923072 343.53846153846155\n",
      "Self-intersection at or near point 631.54618473895584 184.62248995983936\n",
      "Self-intersection at or near point 297.9795918367347 475.50145772594755\n",
      "Self-intersection at or near point 798.19463087248323 178.95973154362417\n",
      "Self-intersection at or near point 163.34831460674158 792.76404494382018\n",
      "Self-intersection at or near point 512.60000000000002 791\n",
      "Self-intersection at or near point 846.75862068965512 147.17241379310346\n",
      "Self-intersection at or near point 657.49006622516561 142.23841059602648\n",
      "Self-intersection at or near point 790.57627118644064 12.593220338983052\n",
      "Self-intersection at or near point 545.91549295774644 277.67605633802816\n",
      "Self-intersection at or near point 792.07317073170736 364.04878048780489\n",
      "Self-intersection at or near point 742.02797202797206 541.87412587412587\n"
     ]
    },
    {
     "name": "stdout",
     "output_type": "stream",
     "text": [
      "2400\n"
     ]
    },
    {
     "name": "stderr",
     "output_type": "stream",
     "text": [
      "Self-intersection at or near point 315.5462962962963 62.157407407407405\n",
      "Self-intersection at or near point 844.60683760683764 87.73504273504274\n",
      "Ring Self-intersection at or near point 772 47\n",
      "Self-intersection at or near point 759.81818181818187 684.81818181818187\n",
      "Self-intersection at or near point 179.44859813084113 747.39252336448601\n",
      "Self-intersection at or near point 825.36305732484072 753.39490445859872\n",
      "Self-intersection at or near point 206 179\n",
      "Self-intersection at or near point 609.5454545454545 256.45454545454544\n",
      "Self-intersection at or near point 818.47169811320759 331.39622641509436\n",
      "Self-intersection at or near point 296.030303030303 766.969696969697\n",
      "Self-intersection at or near point 804.11111111111109 319\n",
      "Self-intersection at or near point 207.73469387755102 306.87755102040819\n",
      "Self-intersection at or near point 829 342\n",
      "Self-intersection at or near point 640.04716981132071 373.46540880503147\n",
      "Ring Self-intersection at or near point 480 0\n",
      "Self-intersection at or near point 337.24120603015075 818.4723618090452\n",
      "Self-intersection at or near point 137.59999999999999 467.80000000000001\n",
      "Self-intersection at or near point 699.97478991596643 523.80672268907563\n",
      "Self-intersection at or near point 831 762.64705882352939\n",
      "Self-intersection at or near point 560.1708542713568 165.678391959799\n",
      "Self-intersection at or near point 773 531.66666666666663\n",
      "Self-intersection at or near point 756.6521739130435 117.92753623188406\n",
      "Self-intersection at or near point 691.89054726368158 211.95024875621891\n",
      "Self-intersection at or near point 779.83333333333337 225.25\n"
     ]
    },
    {
     "name": "stdout",
     "output_type": "stream",
     "text": [
      "2500\n"
     ]
    },
    {
     "name": "stderr",
     "output_type": "stream",
     "text": [
      "Self-intersection at or near point 788.51612903225805 233.51612903225808\n",
      "Self-intersection at or near point 802.08955223880594 555.08208955223881\n",
      "Self-intersection at or near point 229 17.931034482758619\n",
      "Self-intersection at or near point 722.531914893617 271.08510638297872\n",
      "Self-intersection at or near point 809.32590051457976 640.33447684391081\n",
      "Self-intersection at or near point 192.828025477707 402.56050955414014\n",
      "Self-intersection at or near point 212.1448275862069 401.87586206896549\n",
      "Self-intersection at or near point 823.16167664670661 402.40119760479041\n",
      "Self-intersection at or near point 314 384.66666666666669\n",
      "Self-intersection at or near point 532.53684210526319 98.189473684210526\n",
      "Self-intersection at or near point 811.42930591259642 179.12082262210797\n",
      "Self-intersection at or near point 672.33510638297878 548.62765957446811\n",
      "Self-intersection at or near point 62.177777777777777 30.481481481481481\n",
      "Self-intersection at or near point 785.64864864864865 528.62162162162167\n",
      "Self-intersection at or near point 322.88888888888891 710.51851851851848\n",
      "Ring Self-intersection at or near point 631 797\n",
      "Self-intersection at or near point 758.80086580086584 111.02597402597402\n",
      "Self-intersection at or near point 818.32142857142856 251.28571428571428\n",
      "Self-intersection at or near point 808.75409836065569 562.80327868852464\n",
      "Self-intersection at or near point 754.94656488549617 349.87022900763361\n",
      "Self-intersection at or near point 832.14096916299559 829.47136563876654\n",
      "Self-intersection at or near point 255.62204724409449 90.314960629921259\n",
      "Self-intersection at or near point 538.43893129770993 296.21374045801525\n",
      "Self-intersection at or near point 416.1764705882353 301.35294117647061\n"
     ]
    },
    {
     "name": "stdout",
     "output_type": "stream",
     "text": [
      "2600\n"
     ]
    },
    {
     "name": "stderr",
     "output_type": "stream",
     "text": [
      "Self-intersection at or near point 782.3711790393013 68.336244541484717\n",
      "Self-intersection at or near point 300.92000000000002 501.83999999999997\n",
      "Self-intersection at or near point 382.8641975308642 596.95061728395058\n",
      "Self-intersection at or near point 727.05418719211821 419.09359605911328\n",
      "Self-intersection at or near point 769.61344537815125 685.63025210084038\n",
      "Self-intersection at or near point 480.81818181818181 316.36363636363637\n",
      "Self-intersection at or near point 813 150.3125\n",
      "Self-intersection at or near point 618.68949771689495 394.16894977168948\n",
      "Self-intersection at or near point 848.02641509433965 714.10817610062895\n",
      "Self-intersection at or near point 633 0\n",
      "Self-intersection at or near point 512.13559322033893 751.94915254237287\n",
      "Self-intersection at or near point 754 320\n",
      "Self-intersection at or near point 306.18518518518516 771.33950617283949\n",
      "Self-intersection at or near point 838.47368421052636 198.57894736842104\n",
      "Self-intersection at or near point 845.80851063829789 14.106382978723405\n",
      "Self-intersection at or near point 637.37349397590367 703.4457831325301\n",
      "Self-intersection at or near point 390.77777777777777 51.388888888888886\n",
      "Self-intersection at or near point 758.66666666666663 718.33333333333337\n",
      "Self-intersection at or near point 487.2516129032258 805.68387096774188\n",
      "Self-intersection at or near point 600.85185185185185 243.14814814814815\n",
      "Self-intersection at or near point 763.22222222222217 797.66666666666663\n",
      "Self-intersection at or near point 719.21739130434787 257.17391304347825\n"
     ]
    },
    {
     "name": "stdout",
     "output_type": "stream",
     "text": [
      "2700\n"
     ]
    },
    {
     "name": "stderr",
     "output_type": "stream",
     "text": [
      "Self-intersection at or near point 687.35294117647061 581\n",
      "Self-intersection at or near point 255.56105610561056 641.42904290429044\n",
      "Self-intersection at or near point 712.93466424682401 578.07985480943739\n",
      "Self-intersection at or near point 565.04838709677415 115.41935483870968\n",
      "Self-intersection at or near point 670.30769230769226 695.69230769230774\n",
      "Self-intersection at or near point 101.61538461538461 787.76923076923072\n",
      "Self-intersection at or near point 410.07042253521126 84.014084507042256\n",
      "Self-intersection at or near point 491.25 572.16666666666663\n",
      "Self-intersection at or near point 686.18367346938771 65.816326530612244\n",
      "Ring Self-intersection at or near point 71 424\n",
      "Ring Self-intersection at or near point 556 278\n",
      "Self-intersection at or near point 847.23636363636365 131.74545454545455\n",
      "Self-intersection at or near point 301.36768149882903 443.10772833723655\n",
      "Self-intersection at or near point 843.87403598971719 445.78406169665811\n",
      "Self-intersection at or near point 354.73825503355704 121.36577181208054\n",
      "Self-intersection at or near point 829 250.83333333333334\n",
      "Self-intersection at or near point 833 646\n",
      "Self-intersection at or near point 833.484375 140.25\n",
      "Self-intersection at or near point 771.98058252427188 201.78640776699029\n",
      "Self-intersection at or near point 87.130232558139539 320.71627906976744\n",
      "Self-intersection at or near point 4.5652173913043477 553.21739130434787\n",
      "Self-intersection at or near point 804.64603481624761 467.20696324951643\n"
     ]
    },
    {
     "name": "stdout",
     "output_type": "stream",
     "text": [
      "2800\n"
     ]
    },
    {
     "name": "stderr",
     "output_type": "stream",
     "text": [
      "Self-intersection at or near point 764.82000000000005 466.85000000000002\n",
      "Self-intersection at or near point 832.05517241379312 238.93793103448274\n",
      "Self-intersection at or near point 406.66666666666669 437\n",
      "Self-intersection at or near point 655.0344827586207 786.34482758620686\n",
      "Self-intersection at or near point 614.20000000000005 784.79999999999995\n",
      "Self-intersection at or near point 826.73118279569894 785.51612903225805\n",
      "Self-intersection at or near point 810.72000000000003 400.27999999999997\n",
      "Self-intersection at or near point 636.41379310344826 147.37931034482759\n",
      "Self-intersection at or near point 836.28391167192433 231.18296529968455\n",
      "Self-intersection at or near point 264.125 619\n",
      "Self-intersection at or near point 271.87878787878788 171.63636363636363\n",
      "Self-intersection at or near point 410.54545454545456 832.63636363636363\n",
      "Self-intersection at or near point 746.10344827586209 215.72413793103448\n",
      "Self-intersection at or near point 734.09958506224064 796.84232365145226\n",
      "Self-intersection at or near point 823.75 313.5\n",
      "Self-intersection at or near point 825.60747663551399 579.1682242990654\n",
      "Self-intersection at or near point 617.62311557788939 694.00502512562809\n",
      "Self-intersection at or near point 748.56097560975604 518.46341463414637\n",
      "Self-intersection at or near point 213 761.53846153846155\n",
      "Self-intersection at or near point 581.93333333333328 445.88\n",
      "Self-intersection at or near point 750 510.66666666666669\n",
      "Self-intersection at or near point 818.04294478527606 717.05521472392638\n",
      "Self-intersection at or near point 505.85365853658539 90.439024390243901\n",
      "Self-intersection at or near point 228.69999999999999 486.48000000000002\n",
      "Self-intersection at or near point 609.6875 29.765625\n"
     ]
    },
    {
     "name": "stdout",
     "output_type": "stream",
     "text": [
      "2900\n"
     ]
    },
    {
     "name": "stderr",
     "output_type": "stream",
     "text": [
      "Self-intersection at or near point 800.88617886178861 295.76422764227641\n",
      "Self-intersection at or near point 641.50806451612902 487.29032258064518\n",
      "Self-intersection at or near point 28.810810810810811 626.27027027027032\n",
      "Self-intersection at or near point 519.33333333333337 233.83333333333334\n",
      "Ring Self-intersection at or near point 344 762\n",
      "Self-intersection at or near point 811.11111111111109 633.44444444444446\n",
      "Self-intersection at or near point 825.58490566037733 339.66037735849056\n",
      "Self-intersection at or near point 220.44 621.15999999999997\n",
      "Self-intersection at or near point 66.318181818181813 557.68181818181813\n",
      "Self-intersection at or near point 563.21621621621625 320.16216216216219\n",
      "Self-intersection at or near point 67.698630136986296 213.7123287671233\n",
      "Self-intersection at or near point 820.47328244274809 555.80916030534354\n",
      "Self-intersection at or near point 833.80952380952385 375.26190476190476\n",
      "Self-intersection at or near point 640.23529411764707 686.76470588235293\n",
      "Self-intersection at or near point 846.41935483870964 786.90322580645159\n",
      "Self-intersection at or near point 734.11235955056179 223.29213483146069\n",
      "Self-intersection at or near point 792.35353535353534 728.84848484848487\n",
      "Self-intersection at or near point 717.90163934426232 260.18032786885249\n",
      "Ring Self-intersection at or near point 416 800\n"
     ]
    },
    {
     "name": "stdout",
     "output_type": "stream",
     "text": [
      "3000\n"
     ]
    },
    {
     "name": "stderr",
     "output_type": "stream",
     "text": [
      "Self-intersection at or near point 830.63636363636363 219.54545454545453\n",
      "Self-intersection at or near point 844.09090909090912 6.2272727272727275\n",
      "Self-intersection at or near point 613.65289256198344 560.15702479338847\n",
      "Self-intersection at or near point 794.79329608938542 446.45810055865923\n",
      "Self-intersection at or near point 741.05172413793105 711.94252873563221\n",
      "Self-intersection at or near point 287.49350649350652 32.532467532467535\n",
      "Self-intersection at or near point 537.19354838709683 46.838709677419352\n",
      "Self-intersection at or near point 846.13239436619722 586.34366197183101\n",
      "Self-intersection at or near point 685.58536585365857 800.17073170731703\n",
      "Self-intersection at or near point 837.546875 248.4375\n",
      "Self-intersection at or near point 372.16666666666669 771.33333333333337\n",
      "Self-intersection at or near point 843.43801652892557 777.77685950413218\n",
      "Self-intersection at or near point 656.20689655172418 190.55172413793105\n",
      "Self-intersection at or near point 161.11029411764707 612.85294117647061\n",
      "Self-intersection at or near point 238.86363636363637 2.1090909090909089\n",
      "Self-intersection at or near point 721.38461538461536 758.84615384615381\n",
      "Self-intersection at or near point 666.08823529411768 271.0980392156863\n",
      "Self-intersection at or near point 637.13122171945702 206.79185520361992\n",
      "Self-intersection at or near point 736.03404255319151 112.8468085106383\n",
      "Self-intersection at or near point 845.91612903225803 612.0322580645161\n",
      "Self-intersection at or near point 784.06875000000002 189.48124999999999\n",
      "Self-intersection at or near point 196.13333333333333 789.5333333333333\n",
      "Self-intersection at or near point 725.55414012738856 418.28662420382165\n",
      "Self-intersection at or near point 783.27312775330392 803.55066079295159\n",
      "Self-intersection at or near point 842 455\n",
      "Self-intersection at or near point 810.03921568627447 421.5980392156863\n",
      "Self-intersection at or near point 742.79999999999995 289.60000000000002\n"
     ]
    },
    {
     "name": "stdout",
     "output_type": "stream",
     "text": [
      "3100\n"
     ]
    },
    {
     "name": "stderr",
     "output_type": "stream",
     "text": [
      "Self-intersection at or near point 844.44401544401546 91.374517374517382\n",
      "Self-intersection at or near point 512.72727272727275 157.81818181818181\n",
      "Self-intersection at or near point 7.5999999999999996 832.70000000000005\n",
      "Self-intersection at or near point 820.47058823529414 249.94117647058823\n",
      "Self-intersection at or near point 822.5 461.25\n",
      "Self-intersection at or near point 795.34545454545457 822.78181818181815\n",
      "Self-intersection at or near point 832.17647058823525 321.88235294117646\n",
      "Self-intersection at or near point 839.81538461538457 452.16153846153844\n",
      "Self-intersection at or near point 589.75 707\n",
      "Self-intersection at or near point 212.61603375527426 701.16877637130801\n",
      "Self-intersection at or near point 790.46875 555.15625\n",
      "Self-intersection at or near point 408.12244897959181 451.34693877551018\n",
      "Self-intersection at or near point 573.08108108108104 435.24324324324323\n",
      "Self-intersection at or near point 654.37362637362639 35.021978021978022\n",
      "Self-intersection at or near point 811.08849557522126 491.5840707964602\n",
      "Self-intersection at or near point 454.16438356164383 816.56164383561645\n",
      "Self-intersection at or near point 457.01769911504425 781.24778761061953\n",
      "Self-intersection at or near point 845.59633027522932 548.86238532110087\n",
      "Self-intersection at or near point 223.95309168443498 58.569296375266525\n",
      "Self-intersection at or near point 336.44827586206895 768.44827586206895\n"
     ]
    },
    {
     "name": "stdout",
     "output_type": "stream",
     "text": [
      "3200\n"
     ]
    },
    {
     "name": "stderr",
     "output_type": "stream",
     "text": [
      "Self-intersection at or near point 815.51072961373393 395.03004291845491\n",
      "Self-intersection at or near point 831.97979797979804 93.969696969696969\n",
      "Self-intersection at or near point 831.9800796812749 591.46613545816729\n",
      "Self-intersection at or near point 825.375 476.5625\n",
      "Self-intersection at or near point 282.12149532710282 812.98130841121497\n",
      "Self-intersection at or near point 68.470588235294116 528.52941176470586\n",
      "Self-intersection at or near point 848.49367088607596 177.45569620253164\n",
      "Self-intersection at or near point 457.31768953068593 325.43682310469313\n",
      "Self-intersection at or near point 280 836\n",
      "Self-intersection at or near point 820.23140495867767 820.39669421487599\n",
      "Self-intersection at or near point 761.71990171990171 722.86240786240785\n",
      "Self-intersection at or near point 637.40740740740739 681.38271604938268\n",
      "Self-intersection at or near point 387.5 409.18181818181819\n",
      "Self-intersection at or near point 642.85714285714289 27.571428571428573\n",
      "Self-intersection at or near point 466.23622047244095 758.58267716535431\n"
     ]
    },
    {
     "name": "stdout",
     "output_type": "stream",
     "text": [
      "3300\n"
     ]
    },
    {
     "name": "stderr",
     "output_type": "stream",
     "text": [
      "Self-intersection at or near point 778.68373493975901 571.5873493975904\n",
      "Self-intersection at or near point 651.52173913043475 265.52173913043481\n",
      "Self-intersection at or near point 746.2488038277512 129.38277511961724\n",
      "Self-intersection at or near point 600.36893203883494 823.64724919093851\n",
      "Self-intersection at or near point 396.12179487179486 144.89743589743588\n",
      "Self-intersection at or near point 840.42608695652177 22.547826086956523\n",
      "Self-intersection at or near point 578.24429967426715 4.4397394136807815\n",
      "Self-intersection at or near point 666.91907514450872 616.93063583815024\n",
      "Self-intersection at or near point 844.84280936454854 736.5752508361204\n",
      "Self-intersection at or near point 167.94957983193277 105.11974789915966\n",
      "Self-intersection at or near point 202 765\n",
      "Self-intersection at or near point 846.05405405405406 500.97297297297297\n",
      "Self-intersection at or near point 255.66666666666666 446\n",
      "Self-intersection at or near point 831.11650485436894 19.611650485436893\n",
      "Self-intersection at or near point 677.77777777777783 152.22222222222223\n",
      "Self-intersection at or near point 504.01418439716315 687.0921985815603\n",
      "Self-intersection at or near point 525.57142857142856 641.28571428571433\n",
      "Self-intersection at or near point 525.0140845070423 96.774647887323937\n",
      "Self-intersection at or near point 494 656\n",
      "Self-intersection at or near point 592.79591836734699 118.26530612244898\n",
      "Self-intersection at or near point 43.304347826086953 92.478260869565219\n",
      "Self-intersection at or near point 814.32926829268297 539.46341463414637\n",
      "Self-intersection at or near point 344.89473684210526 356.16842105263157\n",
      "Self-intersection at or near point 582.44444444444446 486.66666666666669\n",
      "Self-intersection at or near point 109.32692307692308 127.375\n",
      "Self-intersection at or near point 672.16129032258061 54.612903225806448\n"
     ]
    },
    {
     "name": "stdout",
     "output_type": "stream",
     "text": [
      "3400\n"
     ]
    },
    {
     "name": "stderr",
     "output_type": "stream",
     "text": [
      "Self-intersection at or near point 457 728\n",
      "Self-intersection at or near point 351 415\n",
      "Self-intersection at or near point 735 207.45454545454547\n",
      "Self-intersection at or near point 203.37894736842105 105.98526315789474\n",
      "Self-intersection at or near point 734.61290322580646 288.61290322580646\n",
      "Self-intersection at or near point 823.17391304347825 41.347826086956523\n",
      "Self-intersection at or near point 591.08910891089113 442.31683168316829\n",
      "Self-intersection at or near point 631.25925925925924 65.111111111111114\n",
      "Self-intersection at or near point 454.06936416184971 279.58381502890171\n",
      "Self-intersection at or near point 825.81308411214957 118.98130841121495\n",
      "Self-intersection at or near point 600.52380952380952 95\n",
      "Self-intersection at or near point 245.79411764705881 306.76470588235293\n",
      "Self-intersection at or near point 824.52631578947364 476.68421052631578\n",
      "Self-intersection at or near point 823.08767123287669 90.098630136986301\n",
      "Self-intersection at or near point 667 4.4285714285714288\n",
      "Self-intersection at or near point 652.31468531468533 267.76223776223776\n",
      "Self-intersection at or near point 683 696.97222222222217\n",
      "Self-intersection at or near point 776.70588235294122 828.94117647058829\n",
      "Self-intersection at or near point 313.15789473684208 198.15789473684211\n",
      "Self-intersection at or near point 786.37440758293837 514.94786729857822\n",
      "Self-intersection at or near point 469.38461538461536 16.487179487179489\n",
      "Ring Self-intersection at or near point 713 282\n",
      "Self-intersection at or near point 509.15204678362574 368.14035087719299\n",
      "Self-intersection at or near point 78.955882352941174 1.3823529411764706\n"
     ]
    },
    {
     "name": "stdout",
     "output_type": "stream",
     "text": [
      "3500\n"
     ]
    },
    {
     "name": "stderr",
     "output_type": "stream",
     "text": [
      "Self-intersection at or near point 768.35294117647061 331.01680672268907\n",
      "Self-intersection at or near point 746.79783393501805 767.85198555956674\n",
      "Self-intersection at or near point 729.53846153846155 247.38461538461539\n",
      "Self-intersection at or near point 813.4545454545455 778.09090909090912\n",
      "Self-intersection at or near point 751.98121085594994 490.98329853862214\n",
      "Self-intersection at or near point 848 768\n",
      "Self-intersection at or near point 780.41666666666663 628.75\n",
      "Self-intersection at or near point 373.12244897959181 542.67346938775506\n",
      "Self-intersection at or near point 712.57142857142856 83.285714285714292\n",
      "Self-intersection at or near point 632.25581395348843 164.63953488372093\n",
      "Self-intersection at or near point 598.82456140350882 175.80701754385964\n",
      "Self-intersection at or near point 123.27737226277372 490.89781021897812\n",
      "Ring Self-intersection at or near point 269 252\n",
      "Self-intersection at or near point 846.68047058823527 426.1745882352941\n",
      "Self-intersection at or near point 736.05426356589146 466.94961240310079\n",
      "Self-intersection at or near point 809.16831683168311 572.05940594059405\n",
      "Self-intersection at or near point 513.18556701030923 825.07731958762884\n",
      "Self-intersection at or near point 670.2155172413793 382.47413793103448\n",
      "Self-intersection at or near point 596.11570247933889 2.4876033057851239\n",
      "Self-intersection at or near point 149.5 829.25\n",
      "Self-intersection at or near point 726.07317073170736 404.1219512195122\n",
      "Ring Self-intersection at or near point 480 276\n",
      "Self-intersection at or near point 739.4545454545455 748.36363636363637\n",
      "Self-intersection at or near point 772.08333333333337 341.83333333333331\n",
      "Self-intersection at or near point 670.30303030303025 400.42424242424244\n",
      "Self-intersection at or near point 748.15584415584419 573.06493506493507\n"
     ]
    },
    {
     "name": "stdout",
     "output_type": "stream",
     "text": [
      "3600\n"
     ]
    },
    {
     "name": "stderr",
     "output_type": "stream",
     "text": [
      "Self-intersection at or near point 648.25 213.875\n",
      "Self-intersection at or near point 794.1008968609865 159.83856502242153\n",
      "Ring Self-intersection at or near point 529 272\n",
      "Self-intersection at or near point 815.88888888888891 493.2962962962963\n",
      "Self-intersection at or near point 781.99726027397264 541.38356164383561\n",
      "Self-intersection at or near point 441.2439024390244 253.14634146341464\n",
      "Self-intersection at or near point 477.10526315789474 753\n",
      "Self-intersection at or near point 765.0344827586207 182.84482758620689\n",
      "Self-intersection at or near point 726.11695906432749 553.26315789473688\n",
      "Self-intersection at or near point 14 55.125\n",
      "Self-intersection at or near point 447.55737704918033 481.03278688524591\n",
      "Self-intersection at or near point 178.14285714285714 218.42857142857142\n",
      "Self-intersection at or near point 700.96234309623435 612.25104602510464\n",
      "Self-intersection at or near point 660.37984496124034 361.54263565891472\n",
      "Self-intersection at or near point 690.86597938144325 560.02061855670104\n",
      "Self-intersection at or near point 687.95077720207257 482.55699481865287\n",
      "Self-intersection at or near point 773.16216216216219 187.54054054054055\n",
      "Self-intersection at or near point 598.26815642458098 684.87709497206708\n",
      "Self-intersection at or near point 846.9332220367279 360.82637729549248\n",
      "Self-intersection at or near point 293 337\n",
      "Self-intersection at or near point 256.26666666666665 169\n",
      "Self-intersection at or near point 806.06666666666672 682.84000000000003\n",
      "Ring Self-intersection at or near point 106 318\n",
      "Self-intersection at or near point 823.75144508670519 812.30635838150295\n",
      "Self-intersection at or near point 710.58823529411768 474.88235294117646\n",
      "Self-intersection at or near point 614.5 124.25\n"
     ]
    },
    {
     "name": "stdout",
     "output_type": "stream",
     "text": [
      "3700\n"
     ]
    },
    {
     "name": "stderr",
     "output_type": "stream",
     "text": [
      "Self-intersection at or near point 291.34482758620692 415.31034482758622\n",
      "Self-intersection at or near point 722.26829268292681 795.35609756097563\n",
      "Self-intersection at or near point 402.83529411764704 388.90588235294115\n",
      "Self-intersection at or near point 843.76744186046517 361.46511627906978\n",
      "Self-intersection at or near point 707.33333333333337 670\n",
      "Self-intersection at or near point 637.05389221556891 144.36526946107784\n",
      "Self-intersection at or near point 814.85245901639348 230.19672131147541\n",
      "Self-intersection at or near point 545.22222222222217 348.33333333333331\n",
      "Self-intersection at or near point 804.61290322580646 194.14193548387098\n",
      "Self-intersection at or near point 634.20703125 242.33984375\n",
      "Self-intersection at or near point 490.06534653465349 479.86336633663365\n",
      "Self-intersection at or near point 468.52282157676348 194.95020746887968\n",
      "Self-intersection at or near point 747.80327868852464 521.91803278688519\n",
      "Self-intersection at or near point 654.80180180180184 363.82882882882882\n",
      "Self-intersection at or near point 788.3386581469648 164.64217252396165\n",
      "Self-intersection at or near point 605 801.26666666666665\n",
      "Self-intersection at or near point 660 171.25\n",
      "Ring Self-intersection at or near point 320 260\n",
      "Self-intersection at or near point 179.23595505617976 794.68539325842698\n",
      "Self-intersection at or near point 641.64651162790699 1.9100775193798449\n",
      "Self-intersection at or near point 575.32075471698113 682.16981132075466\n",
      "Self-intersection at or near point 831.80079681274901 168.83665338645417\n",
      "Self-intersection at or near point 809.73333333333335 339.26666666666665\n",
      "Ring Self-intersection at or near point 118 827\n",
      "Self-intersection at or near point 125.58904109589041 814.04109589041093\n",
      "Self-intersection at or near point 831.27419354838707 653.41935483870964\n",
      "Self-intersection at or near point 668.05109489051097 604.1313868613139\n",
      "Self-intersection at or near point 763.81595092024543 462.23926380368096\n",
      "Ring Self-intersection at or near point 654 235\n",
      "Self-intersection at or near point 618.51948051948057 474.77922077922079\n"
     ]
    },
    {
     "name": "stdout",
     "output_type": "stream",
     "text": [
      "3800\n"
     ]
    },
    {
     "name": "stderr",
     "output_type": "stream",
     "text": [
      "Self-intersection at or near point 837.70588235294122 347.29411764705884\n",
      "Self-intersection at or near point 427.81081081081084 102.37837837837837\n",
      "Self-intersection at or near point 807.04123711340208 81.268041237113408\n",
      "Self-intersection at or near point 829.8648648648649 386.91891891891891\n",
      "Self-intersection at or near point 718.48000000000002 321.68000000000001\n",
      "Self-intersection at or near point 359 4\n",
      "Self-intersection at or near point 578.26666666666665 645\n",
      "Self-intersection at or near point 833.15246636771303 321.43497757847535\n",
      "Self-intersection at or near point 546.53999999999996 712.41999999999996\n",
      "Ring Self-intersection at or near point 160 320\n",
      "Self-intersection at or near point 352.98159509202452 265.14110429447851\n",
      "Self-intersection at or near point 450.09523809523807 826.85714285714289\n",
      "Self-intersection at or near point 720.35294117647061 762.64705882352939\n",
      "Self-intersection at or near point 223.94482758620688 395.55862068965519\n",
      "Self-intersection at or near point 812.63076923076926 486.73846153846154\n",
      "Self-intersection at or near point 804 14.75\n",
      "Self-intersection at or near point 595.73195876288662 414.91546391752576\n",
      "Self-intersection at or near point 447.78723404255317 61.170212765957444\n",
      "Self-intersection at or near point 846.4486486486486 793.82702702702704\n"
     ]
    },
    {
     "name": "stdout",
     "output_type": "stream",
     "text": [
      "3900\n"
     ]
    },
    {
     "name": "stderr",
     "output_type": "stream",
     "text": [
      "Self-intersection at or near point 844.05504587155963 823.83792048929661\n",
      "Self-intersection at or near point 846.26486486486488 440.02162162162165\n",
      "Self-intersection at or near point 309.57894736842104 689\n",
      "Self-intersection at or near point 723.88 732.15999999999997\n",
      "Self-intersection at or near point 553.304347826087 18.608695652173914\n",
      "Self-intersection at or near point 745.50847457627117 705.13559322033893\n",
      "Self-intersection at or near point 844.65957446808511 596.95744680851067\n",
      "Self-intersection at or near point 240.41463414634146 273.78048780487802\n",
      "Self-intersection at or near point 844.84000000000003 638.84000000000003\n",
      "Self-intersection at or near point 365.1875 82.6015625\n",
      "Self-intersection at or near point 775.95652173913038 829.04347826086962\n",
      "Self-intersection at or near point 576.34059945504089 822.77929155313348\n",
      "Self-intersection at or near point 519.47804878048782 489.91463414634148\n",
      "Self-intersection at or near point 539.625 573.0625\n",
      "Self-intersection at or near point 407.78461538461539 617.4666666666667\n",
      "Self-intersection at or near point 552.63768115942025 47\n",
      "Self-intersection at or near point 609.86956521739125 793.17391304347825\n",
      "Self-intersection at or near point 123.75 808\n"
     ]
    },
    {
     "name": "stdout",
     "output_type": "stream",
     "text": [
      "4000\n"
     ]
    },
    {
     "name": "stderr",
     "output_type": "stream",
     "text": [
      "Self-intersection at or near point 227.26415094339623 588.79245283018872\n",
      "Self-intersection at or near point 230.01049868766404 575.11548556430444\n",
      "Self-intersection at or near point 639.16981132075466 357.43396226415092\n",
      "Self-intersection at or near point 790.93442622950818 818.90710382513657\n",
      "Self-intersection at or near point 835 815.5\n",
      "Self-intersection at or near point 79.297709923664115 396.32061068702291\n",
      "Self-intersection at or near point 814.13690476190482 298.22023809523807\n",
      "Self-intersection at or near point 329.77981651376149 811.28440366972472\n",
      "Self-intersection at or near point 606.51219512195121 793.31707317073176\n",
      "Self-intersection at or near point 791 763.42857142857144\n",
      "Self-intersection at or near point 848.33333333333337 39\n",
      "Self-intersection at or near point 508.38253012048193 83.728915662650607\n",
      "Self-intersection at or near point 766.75374376039929 805.09317803660565\n",
      "Self-intersection at or near point 310.1975903614458 776.77108433734941\n",
      "Self-intersection at or near point 399.15151515151513 489.31818181818181\n",
      "Self-intersection at or near point 765.2146341463415 318.74634146341464\n",
      "Self-intersection at or near point 469 284\n",
      "Self-intersection at or near point 784.14285714285711 695.42857142857144\n",
      "Self-intersection at or near point 844.02985074626861 796.7611940298508\n",
      "Self-intersection at or near point 713.08945686900961 383.38019169329073\n",
      "Self-intersection at or near point 781.01522842639599 328.57868020304568\n",
      "Self-intersection at or near point 818 172\n",
      "Self-intersection at or near point 490.3125 531.9375\n"
     ]
    },
    {
     "name": "stdout",
     "output_type": "stream",
     "text": [
      "4100\n"
     ]
    },
    {
     "name": "stderr",
     "output_type": "stream",
     "text": [
      "Self-intersection at or near point 820.02622950819671 697.04262295081969\n",
      "Self-intersection at or near point 381.15094339622641 681.98113207547169\n",
      "Self-intersection at or near point 698.64788732394368 183.42253521126761\n",
      "Self-intersection at or near point 809.66037735849056 511.75471698113205\n",
      "Self-intersection at or near point 157.44444444444446 641.69444444444446\n",
      "Self-intersection at or near point 283.33333333333331 616.66666666666663\n",
      "Self-intersection at or near point 811.85915492957747 131.94366197183098\n",
      "Self-intersection at or near point 718.97058823529414 86.617647058823536\n",
      "Self-intersection at or near point 739.08474576271192 479.76271186440675\n",
      "Self-intersection at or near point 846.73134328358208 494.82089552238807\n",
      "Self-intersection at or near point 331.22950819672133 508.55737704918033\n",
      "Self-intersection at or near point 841.33333333333337 575.25\n",
      "Self-intersection at or near point 119.33953488372093 344.84961240310076\n",
      "Self-intersection at or near point 795.34400000000005 90.831999999999994\n",
      "Self-intersection at or near point 214.68211920529802 378.11920529801324\n",
      "Self-intersection at or near point 819.35483870967744 388.30322580645162\n",
      "Self-intersection at or near point 836.92452830188677 500.64150943396226\n"
     ]
    },
    {
     "name": "stdout",
     "output_type": "stream",
     "text": [
      "4200\n"
     ]
    },
    {
     "name": "stderr",
     "output_type": "stream",
     "text": [
      "Self-intersection at or near point 824 31\n",
      "Self-intersection at or near point 822.87581699346401 95.013071895424844\n",
      "Self-intersection at or near point 752.1682242990654 362.07476635514018\n",
      "Self-intersection at or near point 92.757575757575751 540.12121212121212\n",
      "Self-intersection at or near point 388.36697247706422 152.13761467889907\n",
      "Self-intersection at or near point 639.35622317596562 313.23605150214593\n",
      "Self-intersection at or near point 385.25714285714287 828\n",
      "Self-intersection at or near point 493.33333333333331 431.66666666666669\n",
      "Self-intersection at or near point 648.06896551724139 373.37931034482756\n",
      "Self-intersection at or near point 706.58490566037733 209.39622641509433\n",
      "Self-intersection at or near point 625.14814814814815 8.8148148148148149\n",
      "Ring Self-intersection at or near point 0 772\n",
      "Self-intersection at or near point 654.72727272727275 330.81818181818181\n",
      "Self-intersection at or near point 14.647058823529411 618.11764705882354\n",
      "Self-intersection at or near point 704.15384615384619 439.84615384615387\n",
      "Self-intersection at or near point 677.78169014084506 317.21830985915494\n",
      "Self-intersection at or near point 835.13043478260875 300.86956521739131\n",
      "Self-intersection at or near point 317.64935064935065 387.06493506493507\n"
     ]
    },
    {
     "name": "stdout",
     "output_type": "stream",
     "text": [
      "    ImageId  ClassType                                    MultipolygonWKT\n",
      "0  6120_2_4          1  MULTIPOLYGON (((0.0061055575672065 -0.00728821...\n",
      "1  6120_2_4          2                           GEOMETRYCOLLECTION EMPTY\n",
      "2  6120_2_4          3  MULTIPOLYGON (((0.0060839066538476 -0.00726659...\n",
      "3  6120_2_4          4                           GEOMETRYCOLLECTION EMPTY\n",
      "4  6120_2_4          5  MULTIPOLYGON (((0.0091799872641686 -0.00892103...\n"
     ]
    }
   ],
   "source": [
    "for idx, row in df.iterrows():\n",
    "        id = row[0]\n",
    "        kls = row[1] - 1\n",
    "\n",
    "        msk = np.load(inDir + '/msk/10_%s.npy' % id)[kls]\n",
    "        pred_polygons = mask_to_polygons(msk)\n",
    "        x_max = GS.loc[GS['ImageId'] == id, 'Xmax'].as_matrix()[0]\n",
    "        y_min = GS.loc[GS['ImageId'] == id, 'Ymin'].as_matrix()[0]\n",
    "\n",
    "        x_scaler, y_scaler = get_scalers(msk.shape, x_max, y_min)\n",
    "\n",
    "        scaled_pred_polygons = shapely.affinity.scale(pred_polygons, xfact=1.0 / x_scaler, yfact=1.0 / y_scaler,\n",
    "                                                      origin=(0, 0, 0))\n",
    "\n",
    "        df.iloc[idx, 2] = shapely.wkt.dumps(scaled_pred_polygons)\n",
    "        if idx % 100 == 0: print idx\n",
    "print df.head()"
   ]
  },
  {
   "cell_type": "code",
   "execution_count": 19,
   "metadata": {},
   "outputs": [
    {
     "data": {
      "text/plain": [
       "5058"
      ]
     },
     "execution_count": 19,
     "metadata": {},
     "output_type": "execute_result"
    }
   ],
   "source": [
    "# df_sub = df[(df.ClassType == 1) & (df.D == 6)]\n",
    "df_sub = df[(df.MultipolygonWKT != 'GEOMETRYCOLLECTION EMPTY')]\n",
    "df_sub.size"
   ]
  },
  {
   "cell_type": "code",
   "execution_count": 32,
   "metadata": {
    "collapsed": true
   },
   "outputs": [],
   "source": [
    "df.to_csv(inDir + '/subm/subm_unet_8045.csv', index=False)"
   ]
  },
  {
   "cell_type": "code",
   "execution_count": 36,
   "metadata": {
    "collapsed": true
   },
   "outputs": [],
   "source": [
    "df.loc[df['ClassType'] == 4, 'MultipolygonWKT'] = 'GEOMETRYCOLLECTION EMPTY'"
   ]
  },
  {
   "cell_type": "code",
   "execution_count": 39,
   "metadata": {
    "collapsed": true
   },
   "outputs": [],
   "source": [
    "df.to_csv(inDir + '/subm/subm_unet_8045_no34cls.csv', index=False)"
   ]
  },
  {
   "cell_type": "code",
   "execution_count": null,
   "metadata": {
    "collapsed": true
   },
   "outputs": [],
   "source": []
  }
 ],
 "metadata": {
  "kernelspec": {
   "display_name": "Python 2",
   "language": "python",
   "name": "python2"
  },
  "language_info": {
   "codemirror_mode": {
    "name": "ipython",
    "version": 2
   },
   "file_extension": ".py",
   "mimetype": "text/x-python",
   "name": "python",
   "nbconvert_exporter": "python",
   "pygments_lexer": "ipython2",
   "version": "2.7.6"
  }
 },
 "nbformat": 4,
 "nbformat_minor": 2
}
