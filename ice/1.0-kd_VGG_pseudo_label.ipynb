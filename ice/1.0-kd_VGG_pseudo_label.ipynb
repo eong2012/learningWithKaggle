{
 "cells": [
  {
   "cell_type": "markdown",
   "metadata": {},
   "source": [
    "# imports and data"
   ]
  },
  {
   "cell_type": "code",
   "execution_count": 1,
   "metadata": {},
   "outputs": [
    {
     "name": "stderr",
     "output_type": "stream",
     "text": [
      "Using TensorFlow backend.\n"
     ]
    },
    {
     "name": "stdout",
     "output_type": "stream",
     "text": [
      "2.1.1\n"
     ]
    }
   ],
   "source": [
    "data_dir = '/home/ubuntu/data/iceberg'\n",
    "\n",
    "import pandas as pd\n",
    "import numpy as np\n",
    "from keras.models import Sequential, Model\n",
    "from keras.layers import Dense, Dropout, Flatten, Input\n",
    "from keras.layers import Conv2D, MaxPooling2D\n",
    "from keras.callbacks import EarlyStopping, ModelCheckpoint, ReduceLROnPlateau\n",
    "from keras.layers import GlobalAveragePooling2D\n",
    "from keras.layers import Dense, Dropout, Flatten, Input, Conv2D, Cropping2D\n",
    "from keras.layers import MaxPooling2D, ZeroPadding2D, BatchNormalization, Activation\n",
    "from keras.optimizers import Adam\n",
    "import cv2\n",
    "import keras\n",
    "import os\n",
    "from keras.callbacks import TensorBoard\n",
    "\n",
    "from keras.applications.vgg16 import VGG16\n",
    "from keras.preprocessing import image\n",
    "from keras.applications.vgg16 import preprocess_input\n",
    "from keras import backend as K\n",
    "from keras.utils.np_utils import to_categorical\n",
    "from keras.layers.merge import Add, Concatenate\n",
    "\n",
    "from PIL import Image\n",
    "\n",
    "import keras\n",
    "print(keras.__version__)"
   ]
  },
  {
   "cell_type": "code",
   "execution_count": 2,
   "metadata": {
    "collapsed": true
   },
   "outputs": [],
   "source": [
    "vgg_base = VGG16(weights='imagenet', include_top=False)"
   ]
  },
  {
   "cell_type": "code",
   "execution_count": 3,
   "metadata": {},
   "outputs": [
    {
     "name": "stdout",
     "output_type": "stream",
     "text": [
      "_________________________________________________________________\n",
      "Layer (type)                 Output Shape              Param #   \n",
      "=================================================================\n",
      "input_1 (InputLayer)         (None, None, None, 3)     0         \n",
      "_________________________________________________________________\n",
      "block1_conv1 (Conv2D)        (None, None, None, 64)    1792      \n",
      "_________________________________________________________________\n",
      "block1_conv2 (Conv2D)        (None, None, None, 64)    36928     \n",
      "_________________________________________________________________\n",
      "block1_pool (MaxPooling2D)   (None, None, None, 64)    0         \n",
      "_________________________________________________________________\n",
      "block2_conv1 (Conv2D)        (None, None, None, 128)   73856     \n",
      "_________________________________________________________________\n",
      "block2_conv2 (Conv2D)        (None, None, None, 128)   147584    \n",
      "_________________________________________________________________\n",
      "block2_pool (MaxPooling2D)   (None, None, None, 128)   0         \n",
      "_________________________________________________________________\n",
      "block3_conv1 (Conv2D)        (None, None, None, 256)   295168    \n",
      "_________________________________________________________________\n",
      "block3_conv2 (Conv2D)        (None, None, None, 256)   590080    \n",
      "_________________________________________________________________\n",
      "block3_conv3 (Conv2D)        (None, None, None, 256)   590080    \n",
      "_________________________________________________________________\n",
      "block3_pool (MaxPooling2D)   (None, None, None, 256)   0         \n",
      "_________________________________________________________________\n",
      "block4_conv1 (Conv2D)        (None, None, None, 512)   1180160   \n",
      "_________________________________________________________________\n",
      "block4_conv2 (Conv2D)        (None, None, None, 512)   2359808   \n",
      "_________________________________________________________________\n",
      "block4_conv3 (Conv2D)        (None, None, None, 512)   2359808   \n",
      "_________________________________________________________________\n",
      "block4_pool (MaxPooling2D)   (None, None, None, 512)   0         \n",
      "_________________________________________________________________\n",
      "block5_conv1 (Conv2D)        (None, None, None, 512)   2359808   \n",
      "_________________________________________________________________\n",
      "block5_conv2 (Conv2D)        (None, None, None, 512)   2359808   \n",
      "_________________________________________________________________\n",
      "block5_conv3 (Conv2D)        (None, None, None, 512)   2359808   \n",
      "_________________________________________________________________\n",
      "block5_pool (MaxPooling2D)   (None, None, None, 512)   0         \n",
      "=================================================================\n",
      "Total params: 14,714,688\n",
      "Trainable params: 14,714,688\n",
      "Non-trainable params: 0\n",
      "_________________________________________________________________\n"
     ]
    }
   ],
   "source": [
    "vgg_base.summary()"
   ]
  },
  {
   "cell_type": "code",
   "execution_count": 4,
   "metadata": {
    "collapsed": true
   },
   "outputs": [],
   "source": [
    "np.random.seed(1234)\n",
    "from scipy.misc import imresize\n",
    "from skimage.transform import resize\n",
    "\n",
    "def get_scaled_imgs(df):\n",
    "    imgs = []\n",
    "\n",
    "    for i, row in df.iterrows():\n",
    "        #make 75x75 image\n",
    "        band_1 = np.array(row['band_1']).reshape(75, 75)\n",
    "        band_2 = np.array(row['band_2']).reshape(75, 75)\n",
    "        band_3 = band_1 + band_2 # plus since log(x*y) = log(x) + log(y)\n",
    "\n",
    "#         band_1 = np.array(row['band_1']).reshape(75, 75)\n",
    "#         band_2 = np.array(row['band_2']).reshape(75, 75)\n",
    "#         band_3 = band_1 + band_2 # plus since log(x*y) = log(x) + log(y)\n",
    "        \n",
    "#         band_1 *= (255.0/band_1.max())\n",
    "#         band_2 *= (255.0/band_2.max())\n",
    "#         band_3 *= (255.0/band_3.max())\n",
    "\n",
    "        img = resize(np.dstack((band_1, band_2, band_3)), (224, 224), mode='constant')\n",
    "        imgs.append(img)\n",
    "\n",
    "    return np.array(imgs)\n",
    "\n",
    "def get_more_images(imgs):\n",
    "    \n",
    "    more_images = []\n",
    "    vert_flip_imgs = []\n",
    "    hori_flip_imgs = []\n",
    "      \n",
    "    for i in range(0,imgs.shape[0]):\n",
    "        a=imgs[i,:,:,0]\n",
    "        b=imgs[i,:,:,1]\n",
    "        c=imgs[i,:,:,2]\n",
    "        \n",
    "        av=cv2.flip(a,1)\n",
    "        ah=cv2.flip(a,0)\n",
    "        bv=cv2.flip(b,1)\n",
    "        bh=cv2.flip(b,0)\n",
    "        cv=cv2.flip(c,1)\n",
    "        ch=cv2.flip(c,0)\n",
    "        \n",
    "        vert_flip_imgs.append(np.dstack((av, bv, cv)))\n",
    "        hori_flip_imgs.append(np.dstack((ah, bh, ch)))\n",
    "      \n",
    "    v = np.array(vert_flip_imgs)\n",
    "    h = np.array(hori_flip_imgs)\n",
    "       \n",
    "    more_images = np.concatenate((imgs,v,h))\n",
    "    \n",
    "    return more_images"
   ]
  },
  {
   "cell_type": "code",
   "execution_count": 5,
   "metadata": {
    "collapsed": true
   },
   "outputs": [],
   "source": [
    "df_train = pd.read_json(os.path.join(data_dir, 'train.json'))\n",
    "Xtrain = get_scaled_imgs(df_train)\n",
    "Ytrain = np.array(df_train['is_iceberg'])\n",
    "\n",
    "df_train.inc_angle = df_train.inc_angle.replace('na',0)\n",
    "idx_tr = np.where(df_train.inc_angle>0)\n",
    "\n",
    "Ytrain = Ytrain[idx_tr[0]]\n",
    "Xtrain = Xtrain[idx_tr[0],...]\n",
    "Xinc = df_train.inc_angle[idx_tr[0]]\n"
   ]
  },
  {
   "cell_type": "code",
   "execution_count": 6,
   "metadata": {},
   "outputs": [
    {
     "data": {
      "text/plain": [
       "((1471, 224, 224, 3), (1471,), (1471,))"
      ]
     },
     "execution_count": 6,
     "metadata": {},
     "output_type": "execute_result"
    }
   ],
   "source": [
    "Xtrain.shape, Xinc.shape, Ytrain.shape"
   ]
  },
  {
   "cell_type": "code",
   "execution_count": 7,
   "metadata": {
    "collapsed": true
   },
   "outputs": [],
   "source": [
    "Xvalid = Xtrain[0:300]\n",
    "Xinc_valid = Xinc[0:300]\n",
    "Yvalid = Ytrain[0:300]\n",
    "\n",
    "Xtrain_train = Xtrain[300:1471]\n",
    "Xinc_train = Xinc[300:1471]\n",
    "Ytrain_train = Ytrain[300:1471]"
   ]
  },
  {
   "cell_type": "code",
   "execution_count": 8,
   "metadata": {
    "collapsed": true
   },
   "outputs": [],
   "source": [
    "# remove all 3 below if you just want orginal data\n",
    "Xtrain_train = get_more_images(Xtrain_train)\n",
    "Xinc_train = np.concatenate((Xinc_train,Xinc_train,Xinc_train))\n",
    "Ytrain_train = np.concatenate((Ytrain_train,Ytrain_train,Ytrain_train))"
   ]
  },
  {
   "cell_type": "code",
   "execution_count": 9,
   "metadata": {},
   "outputs": [
    {
     "data": {
      "text/plain": [
       "((3513, 224, 224, 3), (3513,), (3513,))"
      ]
     },
     "execution_count": 9,
     "metadata": {},
     "output_type": "execute_result"
    }
   ],
   "source": [
    "Xtrain_train.shape, Xinc_train.shape, Ytrain_train.shape"
   ]
  },
  {
   "cell_type": "code",
   "execution_count": 10,
   "metadata": {},
   "outputs": [
    {
     "data": {
      "text/plain": [
       "((300, 224, 224, 3), (300,), (300,))"
      ]
     },
     "execution_count": 10,
     "metadata": {},
     "output_type": "execute_result"
    }
   ],
   "source": [
    "Xvalid.shape, Xinc_valid.shape, Yvalid.shape"
   ]
  },
  {
   "cell_type": "code",
   "execution_count": 11,
   "metadata": {},
   "outputs": [
    {
     "data": {
      "text/plain": [
       "((144,), (156,))"
      ]
     },
     "execution_count": 11,
     "metadata": {},
     "output_type": "execute_result"
    }
   ],
   "source": [
    "Yvalid[Yvalid == 0].shape, Yvalid[Yvalid == 1].shape"
   ]
  },
  {
   "cell_type": "code",
   "execution_count": 12,
   "metadata": {
    "collapsed": true
   },
   "outputs": [],
   "source": [
    "def create_precomputed_data(model, data, data_labels):\n",
    "    conv_features = model.predict(data)\n",
    "    labels_onehot = to_categorical(data_labels)\n",
    "    labels = data_labels\n",
    "    return (conv_features, labels_onehot, labels)"
   ]
  },
  {
   "cell_type": "code",
   "execution_count": 13,
   "metadata": {
    "collapsed": true
   },
   "outputs": [],
   "source": [
    "trn_conv_features, trn_labels, trn_labels_1 = create_precomputed_data(vgg_base, Xtrain_train, Ytrain_train)\n",
    "val_conv_features, val_labels, val_labels_1 = create_precomputed_data(vgg_base, Xvalid, Yvalid)\n",
    "all_conv_features, all_labels, all_labels_1 = create_precomputed_data(vgg_base, Xtrain, Ytrain)"
   ]
  },
  {
   "cell_type": "code",
   "execution_count": 14,
   "metadata": {},
   "outputs": [
    {
     "data": {
      "text/plain": [
       "((3513, 7, 7, 512), (3513, 2), (300, 7, 7, 512), (300, 2))"
      ]
     },
     "execution_count": 14,
     "metadata": {},
     "output_type": "execute_result"
    }
   ],
   "source": [
    "trn_conv_features.shape, trn_labels.shape, val_conv_features.shape, val_labels.shape"
   ]
  },
  {
   "cell_type": "code",
   "execution_count": 15,
   "metadata": {
    "collapsed": true
   },
   "outputs": [],
   "source": [
    "assert trn_conv_features.shape == (3513, 7, 7, 512), \"trn_conv_features not as expected\"\n",
    "assert trn_labels.shape == (3513, 2), \"trn_labels not as expected\"\n",
    "\n",
    "assert val_conv_features.shape == (300, 7, 7, 512), \"val_conv_features not as expected\"\n",
    "assert val_labels.shape == (300, 2), \"val_labels not as expected\""
   ]
  },
  {
   "cell_type": "code",
   "execution_count": 16,
   "metadata": {
    "collapsed": true
   },
   "outputs": [],
   "source": [
    "classifier_input_shape = (7, 7, 512)\n",
    "classifier_input = Input(shape=classifier_input_shape)"
   ]
  },
  {
   "cell_type": "markdown",
   "metadata": {},
   "source": [
    "# deeper model with inc angle "
   ]
  },
  {
   "cell_type": "code",
   "execution_count": 17,
   "metadata": {
    "collapsed": true
   },
   "outputs": [],
   "source": [
    "batch_size = 256\n",
    "        \n",
    "tbCallBack = TensorBoard(log_dir='/home/ubuntu/data/tensorboardlogs/', histogram_freq=0, write_graph=True, write_images=True)\n",
    "earlyStopping = EarlyStopping(monitor='val_loss', patience=10, verbose=0, mode='min')\n",
    "mcp_save = ModelCheckpoint('.mdl_wts.hdf5', save_best_only=True, monitor='val_loss', mode='min')\n",
    "reduce_lr_loss = ReduceLROnPlateau(monitor='val_loss', factor=0.1, patience=8, verbose=1, epsilon=1e-4, mode='min')"
   ]
  },
  {
   "cell_type": "code",
   "execution_count": 18,
   "metadata": {
    "collapsed": true
   },
   "outputs": [],
   "source": [
    "inc_angle_input = Input(shape=(1,))\n",
    "\n",
    "nf = 128\n",
    "p = 0.5\n",
    "\n",
    "x = Conv2D(nf,(3,3), activation='relu', padding='same')(classifier_input)\n",
    "x = BatchNormalization(axis=1)(x)\n",
    "x = MaxPooling2D()(x)\n",
    "x = Dropout(p)(x)\n",
    "x = Conv2D(nf,(3,3), activation='relu', padding='same')(x)\n",
    "x = BatchNormalization(axis=1)(x)\n",
    "x = MaxPooling2D()(x)\n",
    "x = Dropout(p)(x)\n",
    "x = Conv2D(nf,(3,3), activation='relu', padding='same')(x)\n",
    "x = BatchNormalization(axis=1)(x)\n",
    "x = Dropout(p)(x)\n",
    "x = Conv2D(nf,(3,3), activation='relu', padding='same')(x)\n",
    "x = BatchNormalization(axis=1)(x)\n",
    "x = Dropout(p)(x)\n",
    "x = Conv2D(nf,(3,3), activation='relu', padding='same')(x)\n",
    "x = BatchNormalization(axis=1)(x)\n",
    "\n",
    "# x = MaxPooling2D((1,2))(x)\n",
    "x = Dropout(p)(x)\n",
    "x = Conv2D(2,(3,3), padding='same')(x)\n",
    "\n",
    "# x = GlobalAveragePooling2D()(x)\n",
    "# x = Activation('softmax')(x)\n",
    "\n",
    "\n",
    "x = Flatten()(x)\n",
    "\n",
    "# x = GlobalAveragePooling2D()(x)\n",
    "m = Concatenate()([inc_angle_input, x])\n",
    "m = Dense(512, activation='relu')(m)\n",
    "m = Dense(256, activation='relu')(m)\n",
    "out = Dense(2, activation='sigmoid')(m)\n",
    "# out = Activation('softmax')(m)\n",
    "\n",
    "optimizer = Adam(lr=0.001, decay=0.0)\n",
    "model_inc_angle = Model(inputs=[classifier_input, inc_angle_input], outputs=out)\n",
    "model_inc_angle.compile(optimizer=optimizer, loss='binary_crossentropy', metrics=['accuracy'])"
   ]
  },
  {
   "cell_type": "code",
   "execution_count": 21,
   "metadata": {},
   "outputs": [
    {
     "name": "stdout",
     "output_type": "stream",
     "text": [
      "Train on 3513 samples, validate on 300 samples\n",
      "Epoch 1/50\n",
      "3513/3513 [==============================] - 5s 1ms/step - loss: 0.0179 - acc: 0.9946 - val_loss: 0.6437 - val_acc: 0.8533\n",
      "Epoch 2/50\n",
      "3513/3513 [==============================] - 5s 1ms/step - loss: 0.0233 - acc: 0.9927 - val_loss: 0.6423 - val_acc: 0.8550\n",
      "Epoch 3/50\n",
      "3513/3513 [==============================] - 5s 1ms/step - loss: 0.0188 - acc: 0.9940 - val_loss: 0.6415 - val_acc: 0.8600\n",
      "Epoch 4/50\n",
      "3513/3513 [==============================] - 5s 1ms/step - loss: 0.0131 - acc: 0.9964 - val_loss: 0.6446 - val_acc: 0.8600\n",
      "Epoch 5/50\n",
      "3513/3513 [==============================] - 5s 1ms/step - loss: 0.0165 - acc: 0.9949 - val_loss: 0.6501 - val_acc: 0.8600\n",
      "Epoch 6/50\n",
      "3513/3513 [==============================] - 5s 1ms/step - loss: 0.0171 - acc: 0.9946 - val_loss: 0.6502 - val_acc: 0.8583\n",
      "Epoch 7/50\n",
      "3513/3513 [==============================] - 5s 1ms/step - loss: 0.0197 - acc: 0.9926 - val_loss: 0.6490 - val_acc: 0.8600\n",
      "Epoch 8/50\n",
      "3513/3513 [==============================] - 5s 1ms/step - loss: 0.0185 - acc: 0.9943 - val_loss: 0.6517 - val_acc: 0.8583\n",
      "Epoch 9/50\n",
      "3513/3513 [==============================] - 5s 1ms/step - loss: 0.0188 - acc: 0.9949 - val_loss: 0.6519 - val_acc: 0.8567\n",
      "Epoch 10/50\n",
      "3513/3513 [==============================] - 5s 1ms/step - loss: 0.0223 - acc: 0.9923 - val_loss: 0.6522 - val_acc: 0.8567\n",
      "Epoch 11/50\n",
      "3513/3513 [==============================] - 5s 1ms/step - loss: 0.0208 - acc: 0.9937 - val_loss: 0.6556 - val_acc: 0.8600\n",
      "Epoch 12/50\n",
      "3456/3513 [============================>.] - ETA: 0s - loss: 0.0140 - acc: 0.9959\n",
      "Epoch 00012: reducing learning rate to 1.0000000656873453e-06.\n",
      "3513/3513 [==============================] - 5s 1ms/step - loss: 0.0138 - acc: 0.9960 - val_loss: 0.6615 - val_acc: 0.8600\n",
      "Epoch 13/50\n",
      "3513/3513 [==============================] - 5s 1ms/step - loss: 0.0159 - acc: 0.9949 - val_loss: 0.6611 - val_acc: 0.8600\n"
     ]
    },
    {
     "data": {
      "text/plain": [
       "<keras.callbacks.History at 0x7fa541f7aac8>"
      ]
     },
     "execution_count": 21,
     "metadata": {},
     "output_type": "execute_result"
    }
   ],
   "source": [
    "# model_inc_angle.fit([trn_conv_features, Xinc], trn_labels, batch_size=batch_size, epochs=50, verbose=1,shuffle=True,\n",
    "#           callbacks=[earlyStopping, mcp_save, reduce_lr_loss, tbCallBack], validation_split=0.25)\n",
    "\n",
    "\n",
    "model_inc_angle.fit([trn_conv_features, Xinc_train], trn_labels,\n",
    "                                          batch_size=128, \n",
    "                                          epochs=50,\n",
    "                                          validation_data=([val_conv_features, Xinc_valid], val_labels),\n",
    "                                          shuffle=True, \n",
    "                                          callbacks=[earlyStopping, mcp_save, reduce_lr_loss, tbCallBack])"
   ]
  },
  {
   "cell_type": "code",
   "execution_count": 22,
   "metadata": {
    "collapsed": true
   },
   "outputs": [],
   "source": [
    "model_inc_angle.save_weights('/home/ubuntu/data/iceberg/results/weights/vgg_valid088.h5')"
   ]
  },
  {
   "cell_type": "code",
   "execution_count": 23,
   "metadata": {},
   "outputs": [
    {
     "name": "stdout",
     "output_type": "stream",
     "text": [
      "1471/1471 [==============================] - 2s 1ms/step\n",
      "Train score: 0.136294496302\n",
      "Train accuracy: 0.970768184908\n"
     ]
    }
   ],
   "source": [
    "# model.load_weights(filepath = '.mdl_wts.hdf5')\n",
    "score = model_inc_angle.evaluate([all_conv_features, Xinc], all_labels, verbose=1)\n",
    "print('Train score:', score[0])\n",
    "print('Train accuracy:', score[1])"
   ]
  },
  {
   "cell_type": "code",
   "execution_count": 24,
   "metadata": {
    "collapsed": true
   },
   "outputs": [],
   "source": [
    "# take out the generated images by filtering out the images without 4 dp in inc angle\n",
    "\n",
    "data_dir = '/home/ubuntu/data/iceberg'\n",
    "\n",
    "df_test = pd.read_json(os.path.join(data_dir, 'test.json'))\n",
    "df_test.inc_angle = df_test.inc_angle.replace('na',0)\n",
    "df_real = df_test.loc[df_test.inc_angle == round(df_test.inc_angle, 4)]\n",
    "Xtest_real = (get_scaled_imgs(df_real))\n",
    "Xtest_inc_real = df_real.inc_angle\n"
   ]
  },
  {
   "cell_type": "code",
   "execution_count": 25,
   "metadata": {},
   "outputs": [
    {
     "data": {
      "text/plain": [
       "((3412, 224, 224, 3), (3412,))"
      ]
     },
     "execution_count": 25,
     "metadata": {},
     "output_type": "execute_result"
    }
   ],
   "source": [
    "Xtest_real.shape, Xtest_inc_real.shape"
   ]
  },
  {
   "cell_type": "code",
   "execution_count": 26,
   "metadata": {
    "collapsed": true
   },
   "outputs": [],
   "source": [
    "test_conv_features = vgg_base.predict(Xtest_real)"
   ]
  },
  {
   "cell_type": "code",
   "execution_count": 27,
   "metadata": {
    "collapsed": true
   },
   "outputs": [],
   "source": [
    "pred_test = model_inc_angle.predict([test_conv_features, Xtest_inc_real])"
   ]
  },
  {
   "cell_type": "code",
   "execution_count": 60,
   "metadata": {},
   "outputs": [
    {
     "data": {
      "text/plain": [
       "array([[  1.41173959e-01,   8.58255684e-01],\n",
       "       [  1.00119389e-03,   9.99097586e-01],\n",
       "       [  9.99995470e-01,   6.51482105e-06],\n",
       "       ..., \n",
       "       [  1.00000000e+00,   3.74338356e-08],\n",
       "       [  9.94567513e-01,   5.27053280e-03],\n",
       "       [  1.04387966e-03,   9.99075294e-01]], dtype=float32)"
      ]
     },
     "execution_count": 60,
     "metadata": {},
     "output_type": "execute_result"
    }
   ],
   "source": [
    "pred_test"
   ]
  },
  {
   "cell_type": "code",
   "execution_count": 61,
   "metadata": {
    "collapsed": true
   },
   "outputs": [],
   "source": [
    "idx_pred_1 = (np.where(pred_test[:,1]>0.95))\n",
    "idx_pred_0 = (np.where(pred_test[:,1]<0.05))"
   ]
  },
  {
   "cell_type": "code",
   "execution_count": 62,
   "metadata": {},
   "outputs": [
    {
     "data": {
      "text/plain": [
       "((1730,), (1432,))"
      ]
     },
     "execution_count": 62,
     "metadata": {},
     "output_type": "execute_result"
    }
   ],
   "source": [
    "idx_pred_1[0].shape, idx_pred_0[0].shape"
   ]
  },
  {
   "cell_type": "code",
   "execution_count": 63,
   "metadata": {
    "collapsed": true
   },
   "outputs": [],
   "source": [
    "Xinc_ex_real = np.expand_dims(Xtest_inc_real, axis=1)\n",
    "Xinc_ex_train = np.expand_dims(Xinc_train, axis=1)"
   ]
  },
  {
   "cell_type": "code",
   "execution_count": 64,
   "metadata": {
    "collapsed": true
   },
   "outputs": [],
   "source": [
    "Xtrain_pl = np.concatenate((Xtrain_train, Xtest_real[idx_pred_1[0],...], Xtest_real[idx_pred_0[0],...]))\n",
    "Ytrain_pl = np.concatenate((Ytrain_train, np.ones(idx_pred_1[0].shape[0]), np.zeros(idx_pred_0[0].shape[0])))\n",
    "Xinc_pl = np.concatenate((Xinc_ex_train, Xinc_ex_real[idx_pred_1[0],...], Xinc_ex_real[idx_pred_0[0],...]))"
   ]
  },
  {
   "cell_type": "code",
   "execution_count": 3,
   "metadata": {},
   "outputs": [
    {
     "ename": "NameError",
     "evalue": "name 'Xtrain_pl' is not defined",
     "output_type": "error",
     "traceback": [
      "\u001b[0;31m---------------------------------------------------------------------------\u001b[0m",
      "\u001b[0;31mNameError\u001b[0m                                 Traceback (most recent call last)",
      "\u001b[0;32m<ipython-input-3-82b7f19bf647>\u001b[0m in \u001b[0;36m<module>\u001b[0;34m()\u001b[0m\n\u001b[0;32m----> 1\u001b[0;31m \u001b[0mXtrain_pl\u001b[0m\u001b[0;34m.\u001b[0m\u001b[0mshape\u001b[0m\u001b[0;34m,\u001b[0m \u001b[0mYtrain_pl\u001b[0m\u001b[0;34m.\u001b[0m\u001b[0mshape\u001b[0m\u001b[0;34m,\u001b[0m \u001b[0mXinc_pl\u001b[0m\u001b[0;34m.\u001b[0m\u001b[0mshape\u001b[0m\u001b[0;34m\u001b[0m\u001b[0m\n\u001b[0m",
      "\u001b[0;31mNameError\u001b[0m: name 'Xtrain_pl' is not defined"
     ]
    }
   ],
   "source": [
    "Xtrain_pl.shape, Ytrain_pl.shape, Xinc_pl.shape"
   ]
  },
  {
   "cell_type": "code",
   "execution_count": 2,
   "metadata": {},
   "outputs": [
    {
     "ename": "NameError",
     "evalue": "name 'Xinc_pl' is not defined",
     "output_type": "error",
     "traceback": [
      "\u001b[0;31m---------------------------------------------------------------------------\u001b[0m",
      "\u001b[0;31mNameError\u001b[0m                                 Traceback (most recent call last)",
      "\u001b[0;32m<ipython-input-2-75c2b748e80c>\u001b[0m in \u001b[0;36m<module>\u001b[0;34m()\u001b[0m\n\u001b[1;32m      1\u001b[0m \u001b[0;32mimport\u001b[0m \u001b[0mnumpy\u001b[0m \u001b[0;32mas\u001b[0m \u001b[0mnp\u001b[0m\u001b[0;34m\u001b[0m\u001b[0m\n\u001b[0;32m----> 2\u001b[0;31m \u001b[0mnp\u001b[0m\u001b[0;34m.\u001b[0m\u001b[0msqueeze\u001b[0m\u001b[0;34m(\u001b[0m\u001b[0mXinc_pl\u001b[0m\u001b[0;34m)\u001b[0m\u001b[0;34m.\u001b[0m\u001b[0mshape\u001b[0m\u001b[0;34m\u001b[0m\u001b[0m\n\u001b[0m",
      "\u001b[0;31mNameError\u001b[0m: name 'Xinc_pl' is not defined"
     ]
    }
   ],
   "source": [
    "import numpy as np\n",
    "np.squeeze(Xinc_pl).shape"
   ]
  },
  {
   "cell_type": "code",
   "execution_count": 66,
   "metadata": {
    "collapsed": true
   },
   "outputs": [],
   "source": [
    "pseudo_conv_features, pseudo_labels, pseudo_labels_1 = create_precomputed_data(vgg_base, Xtrain_pl, Ytrain_pl)"
   ]
  },
  {
   "cell_type": "code",
   "execution_count": 72,
   "metadata": {
    "collapsed": true
   },
   "outputs": [],
   "source": [
    "inc_angle_input = Input(shape=(1,))\n",
    "\n",
    "nf = 128\n",
    "p = 0.5\n",
    "\n",
    "x = Conv2D(nf,(3,3), activation='relu', padding='same')(classifier_input)\n",
    "x = BatchNormalization(axis=1)(x)\n",
    "x = MaxPooling2D()(x)\n",
    "x = Dropout(p)(x)\n",
    "x = Conv2D(nf,(3,3), activation='relu', padding='same')(x)\n",
    "x = BatchNormalization(axis=1)(x)\n",
    "x = MaxPooling2D()(x)\n",
    "x = Dropout(p)(x)\n",
    "x = Conv2D(nf,(3,3), activation='relu', padding='same')(x)\n",
    "x = BatchNormalization(axis=1)(x)\n",
    "x = Dropout(p)(x)\n",
    "x = Conv2D(nf,(3,3), activation='relu', padding='same')(x)\n",
    "x = BatchNormalization(axis=1)(x)\n",
    "x = Dropout(p)(x)\n",
    "x = Conv2D(nf,(3,3), activation='relu', padding='same')(x)\n",
    "x = BatchNormalization(axis=1)(x)\n",
    "\n",
    "# x = MaxPooling2D((1,2))(x)\n",
    "x = Dropout(p)(x)\n",
    "x = Conv2D(2,(3,3), padding='same')(x)\n",
    "\n",
    "# x = GlobalAveragePooling2D()(x)\n",
    "# x = Activation('softmax')(x)\n",
    "\n",
    "\n",
    "x = Flatten()(x)\n",
    "\n",
    "# x = GlobalAveragePooling2D()(x)\n",
    "m = Concatenate()([inc_angle_input, x])\n",
    "m = Dense(512, activation='relu')(m)\n",
    "m = Dense(256, activation='relu')(m)\n",
    "out = Dense(2, activation='sigmoid')(m)\n",
    "# out = Activation('softmax')(m)\n",
    "\n",
    "optimizer = Adam(lr=0.001, decay=0.0)\n",
    "model_inc_angle2 = Model(inputs=[classifier_input, inc_angle_input], outputs=out)\n",
    "model_inc_angle2.compile(optimizer=optimizer, loss='binary_crossentropy', metrics=['accuracy'])"
   ]
  },
  {
   "cell_type": "code",
   "execution_count": 74,
   "metadata": {
    "scrolled": false
   },
   "outputs": [
    {
     "name": "stdout",
     "output_type": "stream",
     "text": [
      "Train on 6675 samples, validate on 300 samples\n",
      "Epoch 1/50\n",
      "6675/6675 [==============================] - 10s 1ms/step - loss: 0.0465 - acc: 0.9831 - val_loss: 0.5333 - val_acc: 0.8833\n",
      "Epoch 2/50\n",
      "6675/6675 [==============================] - 9s 1ms/step - loss: 0.0414 - acc: 0.9861 - val_loss: 0.5455 - val_acc: 0.8867\n",
      "Epoch 3/50\n",
      "6675/6675 [==============================] - 9s 1ms/step - loss: 0.0355 - acc: 0.9879 - val_loss: 0.5635 - val_acc: 0.8900\n",
      "Epoch 4/50\n",
      "6675/6675 [==============================] - 9s 1ms/step - loss: 0.0312 - acc: 0.9900 - val_loss: 0.5891 - val_acc: 0.8900\n",
      "Epoch 5/50\n",
      "6675/6675 [==============================] - 9s 1ms/step - loss: 0.0288 - acc: 0.9901 - val_loss: 0.6089 - val_acc: 0.8900\n",
      "Epoch 6/50\n",
      "6675/6675 [==============================] - 9s 1ms/step - loss: 0.0280 - acc: 0.9912 - val_loss: 0.6378 - val_acc: 0.8783\n",
      "Epoch 7/50\n",
      "6675/6675 [==============================] - 9s 1ms/step - loss: 0.0246 - acc: 0.9916 - val_loss: 0.6481 - val_acc: 0.8800\n",
      "Epoch 8/50\n",
      "6675/6675 [==============================] - 9s 1ms/step - loss: 0.0271 - acc: 0.9916 - val_loss: 0.6521 - val_acc: 0.8700\n",
      "Epoch 9/50\n",
      "6675/6675 [==============================] - 9s 1ms/step - loss: 0.0227 - acc: 0.9920 - val_loss: 0.6525 - val_acc: 0.8733\n",
      "Epoch 10/50\n",
      "6656/6675 [============================>.] - ETA: 0s - loss: 0.0227 - acc: 0.9926\n",
      "Epoch 00010: reducing learning rate to 1.0000000474974514e-05.\n",
      "6675/6675 [==============================] - 9s 1ms/step - loss: 0.0226 - acc: 0.9927 - val_loss: 0.6608 - val_acc: 0.8733\n",
      "Epoch 11/50\n",
      "6675/6675 [==============================] - 9s 1ms/step - loss: 0.0215 - acc: 0.9928 - val_loss: 0.6576 - val_acc: 0.8800\n"
     ]
    },
    {
     "data": {
      "text/plain": [
       "<keras.callbacks.History at 0x7fa12ac88128>"
      ]
     },
     "execution_count": 74,
     "metadata": {},
     "output_type": "execute_result"
    }
   ],
   "source": [
    "# model_inc_angle.fit([trn_conv_features, Xinc], trn_labels, batch_size=batch_size, epochs=50, verbose=1,shuffle=True,\n",
    "#           callbacks=[earlyStopping, mcp_save, reduce_lr_loss, tbCallBack], validation_split=0.25)\n",
    "\n",
    "\n",
    "model_inc_angle2.fit([pseudo_conv_features, Xinc_pl], pseudo_labels,\n",
    "                                          batch_size=128, \n",
    "                                          epochs=50,\n",
    "                                          validation_data=([val_conv_features, Xinc_valid], val_labels),\n",
    "                                          shuffle=True, \n",
    "                                          callbacks=[earlyStopping, mcp_save, reduce_lr_loss, tbCallBack])"
   ]
  },
  {
   "cell_type": "code",
   "execution_count": 75,
   "metadata": {
    "collapsed": true
   },
   "outputs": [],
   "source": [
    "model_inc_angle2.save_weights('/home/ubuntu/data/iceberg/results/weights/vgg_valid088_2.h5')"
   ]
  },
  {
   "cell_type": "code",
   "execution_count": null,
   "metadata": {
    "collapsed": true
   },
   "outputs": [],
   "source": []
  },
  {
   "cell_type": "code",
   "execution_count": null,
   "metadata": {
    "collapsed": true
   },
   "outputs": [],
   "source": []
  },
  {
   "cell_type": "code",
   "execution_count": 92,
   "metadata": {},
   "outputs": [
    {
     "name": "stdout",
     "output_type": "stream",
     "text": [
      "         id    is_iceberg\n",
      "0  5941774d  3.952795e-01\n",
      "1  4023181e  9.995781e-01\n",
      "2  b20200e4  9.970840e-01\n",
      "3  e7f018bb  9.993762e-01\n",
      "4  4371c8c3  9.994198e-01\n",
      "5  a8d9b1fd  9.996321e-01\n",
      "6  29e7727e  1.797852e-32\n",
      "7  92a51ffb  9.995446e-01\n",
      "8  c769ac97  1.552835e-15\n",
      "9  aee0547d  1.769691e-29\n"
     ]
    }
   ],
   "source": [
    "# this is the right way round\n",
    "submission = pd.DataFrame({'id': df_test[\"id\"], 'is_iceberg': pred_test[:,1].reshape((pred_test[:,1].shape[0]))})\n",
    "print(submission.head(10))\n",
    "\n",
    "submission.to_csv('cnn_train_' + str(np.around(score[1], decimals=2))  + '.csv', index=False)"
   ]
  },
  {
   "cell_type": "code",
   "execution_count": 93,
   "metadata": {},
   "outputs": [
    {
     "data": {
      "text/plain": [
       "'/home/ubuntu/git/learningWithKaggle/ice'"
      ]
     },
     "execution_count": 93,
     "metadata": {},
     "output_type": "execute_result"
    }
   ],
   "source": [
    "os.getcwd()\n"
   ]
  },
  {
   "cell_type": "code",
   "execution_count": 94,
   "metadata": {},
   "outputs": [
    {
     "data": {
      "text/plain": [
       "1.0"
      ]
     },
     "execution_count": 94,
     "metadata": {},
     "output_type": "execute_result"
    }
   ],
   "source": [
    "np.around(score[1])"
   ]
  },
  {
   "cell_type": "code",
   "execution_count": null,
   "metadata": {
    "collapsed": true
   },
   "outputs": [],
   "source": []
  },
  {
   "cell_type": "code",
   "execution_count": 32,
   "metadata": {},
   "outputs": [
    {
     "data": {
      "text/plain": [
       "((144,), (156,))"
      ]
     },
     "execution_count": 32,
     "metadata": {},
     "output_type": "execute_result"
    }
   ],
   "source": [
    "Yvalid[Yvalid==0].shape, Yvalid[Yvalid==1].shape"
   ]
  },
  {
   "cell_type": "code",
   "execution_count": 58,
   "metadata": {},
   "outputs": [
    {
     "name": "stdout",
     "output_type": "stream",
     "text": [
      "Train on 3713 samples, validate on 700 samples\n",
      "Epoch 1/50\n",
      "3713/3713 [==============================] - 11s 3ms/step - loss: 0.5313 - acc: 0.7498 - val_loss: 0.7826 - val_acc: 0.6957\n",
      "Epoch 2/50\n",
      "3713/3713 [==============================] - 11s 3ms/step - loss: 0.3282 - acc: 0.8529 - val_loss: 0.4505 - val_acc: 0.8071\n",
      "Epoch 3/50\n",
      "3713/3713 [==============================] - 11s 3ms/step - loss: 0.2591 - acc: 0.8942 - val_loss: 0.2983 - val_acc: 0.8800\n",
      "Epoch 4/50\n",
      "3713/3713 [==============================] - 11s 3ms/step - loss: 0.2205 - acc: 0.9076 - val_loss: 0.4919 - val_acc: 0.7986\n",
      "Epoch 5/50\n",
      "3713/3713 [==============================] - 11s 3ms/step - loss: 0.1512 - acc: 0.9405 - val_loss: 1.0548 - val_acc: 0.6986\n",
      "Epoch 6/50\n",
      "3713/3713 [==============================] - 11s 3ms/step - loss: 0.1279 - acc: 0.9534 - val_loss: 0.4099 - val_acc: 0.8771\n",
      "Epoch 7/50\n",
      "3713/3713 [==============================] - 11s 3ms/step - loss: 0.0948 - acc: 0.9623 - val_loss: 0.4143 - val_acc: 0.8600\n",
      "Epoch 8/50\n",
      "3713/3713 [==============================] - 11s 3ms/step - loss: 0.0838 - acc: 0.9671 - val_loss: 0.4132 - val_acc: 0.8800\n",
      "Epoch 9/50\n",
      "3713/3713 [==============================] - 11s 3ms/step - loss: 0.0540 - acc: 0.9795 - val_loss: 0.7802 - val_acc: 0.8643\n",
      "Epoch 10/50\n",
      "3713/3713 [==============================] - 11s 3ms/step - loss: 0.0546 - acc: 0.9785 - val_loss: 0.5321 - val_acc: 0.8729\n",
      "Epoch 11/50\n",
      "3713/3713 [==============================] - 11s 3ms/step - loss: 0.0154 - acc: 0.9954 - val_loss: 1.3157 - val_acc: 0.8143\n",
      "Epoch 12/50\n",
      "3713/3713 [==============================] - 11s 3ms/step - loss: 0.0936 - acc: 0.9674 - val_loss: 0.6855 - val_acc: 0.8614\n",
      "Epoch 13/50\n",
      "3713/3713 [==============================] - 11s 3ms/step - loss: 0.0479 - acc: 0.9838 - val_loss: 0.9705 - val_acc: 0.8186\n",
      "Epoch 14/50\n",
      "3713/3713 [==============================] - 11s 3ms/step - loss: 0.0359 - acc: 0.9873 - val_loss: 0.6472 - val_acc: 0.8814\n",
      "Epoch 15/50\n",
      "3713/3713 [==============================] - 11s 3ms/step - loss: 0.0299 - acc: 0.9887 - val_loss: 0.6495 - val_acc: 0.8800\n",
      "Epoch 16/50\n",
      "3713/3713 [==============================] - 11s 3ms/step - loss: 0.0317 - acc: 0.9908 - val_loss: 0.5112 - val_acc: 0.8957\n",
      "Epoch 17/50\n",
      "3713/3713 [==============================] - 11s 3ms/step - loss: 0.0132 - acc: 0.9962 - val_loss: 0.5241 - val_acc: 0.8957\n",
      "Epoch 18/50\n",
      "3713/3713 [==============================] - 11s 3ms/step - loss: 0.0213 - acc: 0.9919 - val_loss: 0.5665 - val_acc: 0.8843\n",
      "Epoch 19/50\n",
      "3713/3713 [==============================] - 11s 3ms/step - loss: 0.0181 - acc: 0.9933 - val_loss: 0.8141 - val_acc: 0.8671\n",
      "Epoch 20/50\n",
      "3713/3713 [==============================] - 11s 3ms/step - loss: 0.0573 - acc: 0.9801 - val_loss: 0.6226 - val_acc: 0.8814\n",
      "Epoch 21/50\n",
      "3713/3713 [==============================] - 11s 3ms/step - loss: 0.0076 - acc: 0.9981 - val_loss: 0.5343 - val_acc: 0.8914\n",
      "Epoch 22/50\n",
      "3713/3713 [==============================] - 11s 3ms/step - loss: 0.0096 - acc: 0.9965 - val_loss: 0.7504 - val_acc: 0.8814\n",
      "Epoch 23/50\n",
      "3713/3713 [==============================] - 11s 3ms/step - loss: 0.0129 - acc: 0.9957 - val_loss: 0.5994 - val_acc: 0.8929\n",
      "Epoch 24/50\n",
      "3713/3713 [==============================] - 11s 3ms/step - loss: 0.0042 - acc: 0.9987 - val_loss: 0.6699 - val_acc: 0.8829\n",
      "Epoch 25/50\n",
      "3713/3713 [==============================] - 11s 3ms/step - loss: 0.0044 - acc: 0.9984 - val_loss: 0.7441 - val_acc: 0.8800\n",
      "Epoch 26/50\n",
      "3713/3713 [==============================] - 11s 3ms/step - loss: 0.0170 - acc: 0.9941 - val_loss: 0.5970 - val_acc: 0.8914\n",
      "Epoch 27/50\n",
      "3713/3713 [==============================] - 11s 3ms/step - loss: 0.0165 - acc: 0.9941 - val_loss: 0.6681 - val_acc: 0.8986\n",
      "Epoch 28/50\n",
      "3713/3713 [==============================] - 11s 3ms/step - loss: 0.0068 - acc: 0.9976 - val_loss: 0.6618 - val_acc: 0.8886\n",
      "Epoch 29/50\n",
      "3713/3713 [==============================] - 11s 3ms/step - loss: 0.0057 - acc: 0.9976 - val_loss: 0.7167 - val_acc: 0.8871\n",
      "Epoch 30/50\n",
      "3713/3713 [==============================] - 11s 3ms/step - loss: 0.0015 - acc: 0.9997 - val_loss: 0.7419 - val_acc: 0.8857\n",
      "Epoch 31/50\n",
      "3713/3713 [==============================] - 11s 3ms/step - loss: 7.8741e-04 - acc: 0.9997 - val_loss: 0.7739 - val_acc: 0.8914\n",
      "Epoch 32/50\n",
      "3713/3713 [==============================] - 11s 3ms/step - loss: 7.9480e-05 - acc: 1.0000 - val_loss: 0.7910 - val_acc: 0.8943\n",
      "Epoch 33/50\n",
      "3713/3713 [==============================] - 11s 3ms/step - loss: 9.1780e-05 - acc: 1.0000 - val_loss: 0.7876 - val_acc: 0.8971\n",
      "Epoch 34/50\n",
      "3713/3713 [==============================] - 11s 3ms/step - loss: 8.2102e-05 - acc: 1.0000 - val_loss: 0.7769 - val_acc: 0.8957\n",
      "Epoch 35/50\n",
      "3713/3713 [==============================] - 11s 3ms/step - loss: 4.7919e-05 - acc: 1.0000 - val_loss: 0.7970 - val_acc: 0.8971\n",
      "Epoch 36/50\n",
      "3713/3713 [==============================] - 11s 3ms/step - loss: 5.5956e-05 - acc: 1.0000 - val_loss: 0.8126 - val_acc: 0.8929\n",
      "Epoch 37/50\n",
      "3713/3713 [==============================] - 11s 3ms/step - loss: 1.7287e-04 - acc: 1.0000 - val_loss: 0.8079 - val_acc: 0.8929\n",
      "Epoch 38/50\n",
      "3713/3713 [==============================] - 11s 3ms/step - loss: 2.8593e-05 - acc: 1.0000 - val_loss: 0.8311 - val_acc: 0.8929\n",
      "Epoch 39/50\n",
      "3713/3713 [==============================] - 11s 3ms/step - loss: 1.6776e-05 - acc: 1.0000 - val_loss: 0.8314 - val_acc: 0.8943\n",
      "Epoch 40/50\n",
      "3713/3713 [==============================] - 11s 3ms/step - loss: 1.5798e-05 - acc: 1.0000 - val_loss: 0.8341 - val_acc: 0.8957\n",
      "Epoch 41/50\n",
      "3713/3713 [==============================] - 11s 3ms/step - loss: 1.4754e-05 - acc: 1.0000 - val_loss: 0.8389 - val_acc: 0.8957\n",
      "Epoch 42/50\n",
      "3713/3713 [==============================] - 11s 3ms/step - loss: 1.7643e-05 - acc: 1.0000 - val_loss: 0.8478 - val_acc: 0.8957\n",
      "Epoch 43/50\n",
      "3713/3713 [==============================] - 11s 3ms/step - loss: 1.4231e-05 - acc: 1.0000 - val_loss: 0.8498 - val_acc: 0.8957\n",
      "Epoch 44/50\n",
      "3713/3713 [==============================] - 11s 3ms/step - loss: 1.0325e-05 - acc: 1.0000 - val_loss: 0.8527 - val_acc: 0.8957\n",
      "Epoch 45/50\n",
      "3713/3713 [==============================] - 11s 3ms/step - loss: 8.2961e-06 - acc: 1.0000 - val_loss: 0.8613 - val_acc: 0.8957\n",
      "Epoch 46/50\n",
      "3713/3713 [==============================] - 11s 3ms/step - loss: 1.0050e-05 - acc: 1.0000 - val_loss: 0.8663 - val_acc: 0.8957\n",
      "Epoch 47/50\n",
      "3713/3713 [==============================] - 11s 3ms/step - loss: 8.5784e-06 - acc: 1.0000 - val_loss: 0.8662 - val_acc: 0.8957\n",
      "Epoch 48/50\n",
      "3713/3713 [==============================] - 11s 3ms/step - loss: 7.6087e-06 - acc: 1.0000 - val_loss: 0.8699 - val_acc: 0.8957\n",
      "Epoch 49/50\n",
      "3713/3713 [==============================] - 11s 3ms/step - loss: 8.3367e-06 - acc: 1.0000 - val_loss: 0.8754 - val_acc: 0.8943\n",
      "Epoch 50/50\n",
      "3713/3713 [==============================] - 11s 3ms/step - loss: 6.7168e-06 - acc: 1.0000 - val_loss: 0.8789 - val_acc: 0.8929\n"
     ]
    },
    {
     "data": {
      "text/plain": [
       "<keras.callbacks.History at 0x7fd83ff31978>"
      ]
     },
     "execution_count": 58,
     "metadata": {},
     "output_type": "execute_result"
    }
   ],
   "source": [
    "classifier_model_v3.fit(trn_conv_features, trn_labels,\n",
    "                                          batch_size=32, \n",
    "                                          epochs=50,\n",
    "                                          validation_data=(val_conv_features, val_labels),\n",
    "                                          shuffle=True, \n",
    "                                          callbacks=[tbCallBack])"
   ]
  },
  {
   "cell_type": "code",
   "execution_count": null,
   "metadata": {
    "collapsed": true
   },
   "outputs": [],
   "source": [
    "# create pngs of the training and validation data from above - training has aug already. "
   ]
  },
  {
   "cell_type": "code",
   "execution_count": null,
   "metadata": {
    "collapsed": true
   },
   "outputs": [],
   "source": [
    "icebergs = train[ train.is_iceberg == 1 ]\n",
    "ships = train[ train.is_iceberg == 0 ]"
   ]
  }
 ],
 "metadata": {
  "kernelspec": {
   "display_name": "Python 3",
   "language": "python",
   "name": "python3"
  },
  "language_info": {
   "codemirror_mode": {
    "name": "ipython",
    "version": 3
   },
   "file_extension": ".py",
   "mimetype": "text/x-python",
   "name": "python",
   "nbconvert_exporter": "python",
   "pygments_lexer": "ipython3",
   "version": "3.4.3"
  }
 },
 "nbformat": 4,
 "nbformat_minor": 2
}
