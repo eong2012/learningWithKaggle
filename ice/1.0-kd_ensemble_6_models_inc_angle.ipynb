{
 "cells": [
  {
   "cell_type": "code",
   "execution_count": 1,
   "metadata": {
    "collapsed": true
   },
   "outputs": [],
   "source": [
    "import os\n",
    "import numpy as np \n",
    "import pandas as pd \n",
    "from subprocess import check_output\n",
    "\n",
    "preds_dir = '/home/ubuntu/data/iceberg/results/final_preds/mix'"
   ]
  },
  {
   "cell_type": "code",
   "execution_count": 2,
   "metadata": {},
   "outputs": [
    {
     "data": {
      "text/html": [
       "<div>\n",
       "<table border=\"1\" class=\"dataframe\">\n",
       "  <thead>\n",
       "    <tr style=\"text-align: right;\">\n",
       "      <th></th>\n",
       "      <th>id</th>\n",
       "      <th>is_iceberg_0</th>\n",
       "      <th>is_iceberg_1</th>\n",
       "      <th>is_iceberg_2</th>\n",
       "      <th>is_iceberg_3</th>\n",
       "      <th>is_iceberg_4</th>\n",
       "      <th>is_iceberg_5</th>\n",
       "    </tr>\n",
       "  </thead>\n",
       "  <tbody>\n",
       "    <tr>\n",
       "      <th>0</th>\n",
       "      <td>5941774d</td>\n",
       "      <td>0.002232</td>\n",
       "      <td>0.116469</td>\n",
       "      <td>0.100000</td>\n",
       "      <td>0.001687</td>\n",
       "      <td>0.429033</td>\n",
       "      <td>0.001788</td>\n",
       "    </tr>\n",
       "    <tr>\n",
       "      <th>1</th>\n",
       "      <td>4023181e</td>\n",
       "      <td>0.941467</td>\n",
       "      <td>0.973660</td>\n",
       "      <td>0.844906</td>\n",
       "      <td>0.952506</td>\n",
       "      <td>0.748257</td>\n",
       "      <td>0.948093</td>\n",
       "    </tr>\n",
       "    <tr>\n",
       "      <th>2</th>\n",
       "      <td>b20200e4</td>\n",
       "      <td>0.935035</td>\n",
       "      <td>0.000052</td>\n",
       "      <td>0.133093</td>\n",
       "      <td>0.778264</td>\n",
       "      <td>0.031417</td>\n",
       "      <td>0.003917</td>\n",
       "    </tr>\n",
       "    <tr>\n",
       "      <th>3</th>\n",
       "      <td>e7f018bb</td>\n",
       "      <td>1.000000</td>\n",
       "      <td>0.999718</td>\n",
       "      <td>0.900000</td>\n",
       "      <td>0.997760</td>\n",
       "      <td>0.985124</td>\n",
       "      <td>0.999534</td>\n",
       "    </tr>\n",
       "    <tr>\n",
       "      <th>4</th>\n",
       "      <td>4371c8c3</td>\n",
       "      <td>0.186414</td>\n",
       "      <td>0.926600</td>\n",
       "      <td>0.829293</td>\n",
       "      <td>0.273599</td>\n",
       "      <td>0.662400</td>\n",
       "      <td>0.979448</td>\n",
       "    </tr>\n",
       "  </tbody>\n",
       "</table>\n",
       "</div>"
      ],
      "text/plain": [
       "         id  is_iceberg_0  is_iceberg_1  is_iceberg_2  is_iceberg_3  \\\n",
       "0  5941774d      0.002232      0.116469      0.100000      0.001687   \n",
       "1  4023181e      0.941467      0.973660      0.844906      0.952506   \n",
       "2  b20200e4      0.935035      0.000052      0.133093      0.778264   \n",
       "3  e7f018bb      1.000000      0.999718      0.900000      0.997760   \n",
       "4  4371c8c3      0.186414      0.926600      0.829293      0.273599   \n",
       "\n",
       "   is_iceberg_4  is_iceberg_5  \n",
       "0      0.429033      0.001788  \n",
       "1      0.748257      0.948093  \n",
       "2      0.031417      0.003917  \n",
       "3      0.985124      0.999534  \n",
       "4      0.662400      0.979448  "
      ]
     },
     "execution_count": 2,
     "metadata": {},
     "output_type": "execute_result"
    }
   ],
   "source": [
    "sub_path = preds_dir\n",
    "all_files = os.listdir(sub_path)\n",
    "\n",
    "# Read and concatenate submissions\n",
    "outs = [pd.read_csv(os.path.join(sub_path, f), index_col=0) for f in all_files]\n",
    "concat_sub = pd.concat(outs, axis=1)\n",
    "cols = list(map(lambda x: \"is_iceberg_\" + str(x), range(len(concat_sub.columns))))\n",
    "concat_sub.columns = cols\n",
    "concat_sub.reset_index(inplace=True)\n",
    "concat_sub.head()"
   ]
  },
  {
   "cell_type": "code",
   "execution_count": 3,
   "metadata": {},
   "outputs": [
    {
     "data": {
      "text/html": [
       "<div>\n",
       "<table border=\"1\" class=\"dataframe\">\n",
       "  <thead>\n",
       "    <tr style=\"text-align: right;\">\n",
       "      <th></th>\n",
       "      <th>is_iceberg_0</th>\n",
       "      <th>is_iceberg_1</th>\n",
       "      <th>is_iceberg_2</th>\n",
       "      <th>is_iceberg_3</th>\n",
       "      <th>is_iceberg_4</th>\n",
       "      <th>is_iceberg_5</th>\n",
       "    </tr>\n",
       "  </thead>\n",
       "  <tbody>\n",
       "    <tr>\n",
       "      <th>is_iceberg_0</th>\n",
       "      <td>1.000000</td>\n",
       "      <td>0.741182</td>\n",
       "      <td>0.612090</td>\n",
       "      <td>0.688893</td>\n",
       "      <td>0.331162</td>\n",
       "      <td>0.551109</td>\n",
       "    </tr>\n",
       "    <tr>\n",
       "      <th>is_iceberg_1</th>\n",
       "      <td>0.741182</td>\n",
       "      <td>1.000000</td>\n",
       "      <td>0.740887</td>\n",
       "      <td>0.777035</td>\n",
       "      <td>0.479192</td>\n",
       "      <td>0.724837</td>\n",
       "    </tr>\n",
       "    <tr>\n",
       "      <th>is_iceberg_2</th>\n",
       "      <td>0.612090</td>\n",
       "      <td>0.740887</td>\n",
       "      <td>1.000000</td>\n",
       "      <td>0.778494</td>\n",
       "      <td>0.669184</td>\n",
       "      <td>0.849344</td>\n",
       "    </tr>\n",
       "    <tr>\n",
       "      <th>is_iceberg_3</th>\n",
       "      <td>0.688893</td>\n",
       "      <td>0.777035</td>\n",
       "      <td>0.778494</td>\n",
       "      <td>1.000000</td>\n",
       "      <td>0.619875</td>\n",
       "      <td>0.816598</td>\n",
       "    </tr>\n",
       "    <tr>\n",
       "      <th>is_iceberg_4</th>\n",
       "      <td>0.331162</td>\n",
       "      <td>0.479192</td>\n",
       "      <td>0.669184</td>\n",
       "      <td>0.619875</td>\n",
       "      <td>1.000000</td>\n",
       "      <td>0.761113</td>\n",
       "    </tr>\n",
       "    <tr>\n",
       "      <th>is_iceberg_5</th>\n",
       "      <td>0.551109</td>\n",
       "      <td>0.724837</td>\n",
       "      <td>0.849344</td>\n",
       "      <td>0.816598</td>\n",
       "      <td>0.761113</td>\n",
       "      <td>1.000000</td>\n",
       "    </tr>\n",
       "  </tbody>\n",
       "</table>\n",
       "</div>"
      ],
      "text/plain": [
       "              is_iceberg_0  is_iceberg_1  is_iceberg_2  is_iceberg_3  \\\n",
       "is_iceberg_0      1.000000      0.741182      0.612090      0.688893   \n",
       "is_iceberg_1      0.741182      1.000000      0.740887      0.777035   \n",
       "is_iceberg_2      0.612090      0.740887      1.000000      0.778494   \n",
       "is_iceberg_3      0.688893      0.777035      0.778494      1.000000   \n",
       "is_iceberg_4      0.331162      0.479192      0.669184      0.619875   \n",
       "is_iceberg_5      0.551109      0.724837      0.849344      0.816598   \n",
       "\n",
       "              is_iceberg_4  is_iceberg_5  \n",
       "is_iceberg_0      0.331162      0.551109  \n",
       "is_iceberg_1      0.479192      0.724837  \n",
       "is_iceberg_2      0.669184      0.849344  \n",
       "is_iceberg_3      0.619875      0.816598  \n",
       "is_iceberg_4      1.000000      0.761113  \n",
       "is_iceberg_5      0.761113      1.000000  "
      ]
     },
     "execution_count": 3,
     "metadata": {},
     "output_type": "execute_result"
    }
   ],
   "source": [
    "# check correlation\n",
    "concat_sub.corr()"
   ]
  },
  {
   "cell_type": "code",
   "execution_count": 4,
   "metadata": {
    "collapsed": true
   },
   "outputs": [],
   "source": [
    "# get the data fields ready for stacking\n",
    "concat_sub['is_iceberg_max'] = concat_sub.iloc[:, 0:5].max(axis=1)\n",
    "concat_sub['is_iceberg_min'] = concat_sub.iloc[:, 0:5].min(axis=1)\n",
    "concat_sub['is_iceberg_mean'] = concat_sub.iloc[:, 0:5].mean(axis=1)\n",
    "concat_sub['is_iceberg_median'] = concat_sub.iloc[:, 0:5].median(axis=1)"
   ]
  },
  {
   "cell_type": "code",
   "execution_count": 5,
   "metadata": {
    "collapsed": true
   },
   "outputs": [],
   "source": [
    "# set up cutoff threshold for lower and upper bounds, easy to twist \n",
    "cutoff_lo = 0.8\n",
    "cutoff_hi = 0.2"
   ]
  },
  {
   "cell_type": "code",
   "execution_count": 2,
   "metadata": {
    "collapsed": true
   },
   "outputs": [],
   "source": [
    "# load the model with best base performance\n",
    "sub_base = pd.read_csv(preds_dir + '/cnn_train_0.96_best.csv')"
   ]
  },
  {
   "cell_type": "code",
   "execution_count": 3,
   "metadata": {},
   "outputs": [
    {
     "data": {
      "text/plain": [
       "(8424, 2)"
      ]
     },
     "execution_count": 3,
     "metadata": {},
     "output_type": "execute_result"
    }
   ],
   "source": [
    "sub_base.shape"
   ]
  },
  {
   "cell_type": "code",
   "execution_count": 7,
   "metadata": {
    "collapsed": true
   },
   "outputs": [],
   "source": [
    "concat_sub['is_iceberg_base'] = sub_base['is_iceberg']\n",
    "concat_sub['is_iceberg'] = np.where(np.all(concat_sub.iloc[:,1:6] > cutoff_lo, axis=1), \n",
    "                                    concat_sub['is_iceberg_max'], \n",
    "                                    np.where(np.all(concat_sub.iloc[:,1:6] < cutoff_hi, axis=1),\n",
    "                                             concat_sub['is_iceberg_min'], \n",
    "                                             concat_sub['is_iceberg_base']))\n",
    "concat_sub[['id', 'is_iceberg']].to_csv('stack_minmax_bestbase_2.csv', \n",
    "                                        index=False, float_format='%.6f')"
   ]
  },
  {
   "cell_type": "code",
   "execution_count": 8,
   "metadata": {},
   "outputs": [
    {
     "data": {
      "text/plain": [
       "'/home/ubuntu/git/learningWithKaggle/ice'"
      ]
     },
     "execution_count": 8,
     "metadata": {},
     "output_type": "execute_result"
    }
   ],
   "source": [
    "import os\n",
    "os.getcwd()"
   ]
  },
  {
   "cell_type": "code",
   "execution_count": 9,
   "metadata": {},
   "outputs": [],
   "source": [
    "preds = sub_base.is_iceberg"
   ]
  },
  {
   "cell_type": "code",
   "execution_count": 14,
   "metadata": {},
   "outputs": [],
   "source": [
    "# sub_base"
   ]
  },
  {
   "cell_type": "code",
   "execution_count": 11,
   "metadata": {
    "collapsed": true
   },
   "outputs": [],
   "source": [
    "submit_nums = np.clip(preds, 0.1, 0.9)"
   ]
  },
  {
   "cell_type": "code",
   "execution_count": 16,
   "metadata": {},
   "outputs": [
    {
     "name": "stdout",
     "output_type": "stream",
     "text": [
      "         id  is_iceberg\n",
      "0  5941774d    0.100000\n",
      "1  4023181e    0.900000\n",
      "2  b20200e4    0.100000\n",
      "3  e7f018bb    0.900000\n",
      "4  4371c8c3    0.900000\n",
      "5  a8d9b1fd    0.310728\n",
      "6  29e7727e    0.100000\n",
      "7  92a51ffb    0.900000\n",
      "8  c769ac97    0.100000\n",
      "9  aee0547d    0.100000\n"
     ]
    },
    {
     "name": "stderr",
     "output_type": "stream",
     "text": [
      "/usr/local/lib/python3.4/dist-packages/ipykernel_launcher.py:1: FutureWarning: reshape is deprecated and will raise in a subsequent release. Please use .values.reshape(...) instead\n",
      "  \"\"\"Entry point for launching an IPython kernel.\n"
     ]
    }
   ],
   "source": [
    "submission = pd.DataFrame({'id': sub_base.id, 'is_iceberg': submit_nums.reshape((submit_nums.shape[0]))})\n",
    "print(submission.head(10))\n",
    "\n",
    "submission.to_csv('/home/ubuntu/data/iceberg/results/final_preds/cnn_096_best_clip.csv', index=False)"
   ]
  },
  {
   "cell_type": "code",
   "execution_count": 17,
   "metadata": {
    "collapsed": true
   },
   "outputs": [],
   "source": [
    "sub_base = pd.read_csv('/home/ubuntu/git/learningWithKaggle/ice/cnn_with_haralicks_0.96.csv')"
   ]
  },
  {
   "cell_type": "code",
   "execution_count": 19,
   "metadata": {},
   "outputs": [
    {
     "data": {
      "text/plain": [
       "(0.99416309595108043, 0.00078504218254238378)"
      ]
     },
     "execution_count": 19,
     "metadata": {},
     "output_type": "execute_result"
    }
   ],
   "source": [
    "sub_base.is_iceberg.max(), sub_base.is_iceberg.min()"
   ]
  },
  {
   "cell_type": "code",
   "execution_count": 20,
   "metadata": {
    "collapsed": true
   },
   "outputs": [],
   "source": [
    "sub_base2 = pd.read_csv('/home/ubuntu/git/learningWithKaggle/ice/cnn_with_haralicks_clipped0.96.csv')"
   ]
  },
  {
   "cell_type": "code",
   "execution_count": 21,
   "metadata": {},
   "outputs": [
    {
     "data": {
      "text/plain": [
       "(0.89999997615814209, 0.10000000149011612)"
      ]
     },
     "execution_count": 21,
     "metadata": {},
     "output_type": "execute_result"
    }
   ],
   "source": [
    "sub_base2.is_iceberg.max(), sub_base2.is_iceberg.min()"
   ]
  },
  {
   "cell_type": "code",
   "execution_count": null,
   "metadata": {
    "collapsed": true
   },
   "outputs": [],
   "source": []
  }
 ],
 "metadata": {
  "kernelspec": {
   "display_name": "Python 3",
   "language": "python",
   "name": "python3"
  },
  "language_info": {
   "codemirror_mode": {
    "name": "ipython",
    "version": 3
   },
   "file_extension": ".py",
   "mimetype": "text/x-python",
   "name": "python",
   "nbconvert_exporter": "python",
   "pygments_lexer": "ipython3",
   "version": "3.4.3"
  }
 },
 "nbformat": 4,
 "nbformat_minor": 2
}
