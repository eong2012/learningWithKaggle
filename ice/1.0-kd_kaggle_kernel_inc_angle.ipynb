{
 "cells": [
  {
   "cell_type": "code",
   "execution_count": 1,
   "metadata": {
    "collapsed": true
   },
   "outputs": [],
   "source": [
    "# kernel code for testing - https://www.kaggle.com/uchihasean/keras-cnn-band-inc-angle/code"
   ]
  },
  {
   "cell_type": "code",
   "execution_count": 2,
   "metadata": {},
   "outputs": [
    {
     "name": "stderr",
     "output_type": "stream",
     "text": [
      "Using TensorFlow backend.\n"
     ]
    }
   ],
   "source": [
    "data_dir = '/home/ubuntu/data/iceberg'\n",
    "\n",
    "import pandas as pd\n",
    "import numpy as np\n",
    "from keras.models import Sequential, Model\n",
    "from keras.layers import Dense, Dropout, Flatten, Input\n",
    "from keras.layers import Conv2D, MaxPooling2D\n",
    "from keras.callbacks import EarlyStopping, ModelCheckpoint, ReduceLROnPlateau\n",
    "from keras.layers.normalization import BatchNormalization\n",
    "from keras.optimizers import Adam\n",
    "import cv2\n",
    "import keras\n",
    "import os\n",
    "from keras.callbacks import TensorBoard\n"
   ]
  },
  {
   "cell_type": "code",
   "execution_count": 3,
   "metadata": {},
   "outputs": [],
   "source": [
    "\n",
    "np.random.seed(1234)\n",
    "\n",
    "def get_scaled_imgs(df):\n",
    "    imgs = []\n",
    "\n",
    "    for i, row in df.iterrows():\n",
    "        #make 75x75 image\n",
    "        band_1 = np.array(row['band_1']).reshape(75, 75)\n",
    "        band_2 = np.array(row['band_2']).reshape(75, 75)\n",
    "        band_3 = band_1 + band_2 # plus since log(x*y) = log(x) + log(y)\n",
    "\n",
    "        # Rescale\n",
    "#         a = (band_1 - band_1.mean()) / (band_1.max() - band_1.min())\n",
    "#         b = (band_2 - band_2.mean()) / (band_2.max() - band_2.min())\n",
    "#         c = (band_3 - band_3.mean()) / (band_3.max() - band_3.min())\n",
    "\n",
    "#         imgs.append(np.dstack((a, b, c)))\n",
    "        imgs.append(np.dstack((band_1, band_2, band_3)))\n",
    "\n",
    "    return np.array(imgs)\n",
    "\n",
    "def get_more_images(imgs):\n",
    "    \n",
    "    more_images = []\n",
    "    vert_flip_imgs = []\n",
    "    hori_flip_imgs = []\n",
    "      \n",
    "    for i in range(0,imgs.shape[0]):\n",
    "        a=imgs[i,:,:,0]\n",
    "        b=imgs[i,:,:,1]\n",
    "        c=imgs[i,:,:,2]\n",
    "        \n",
    "        av=cv2.flip(a,1)\n",
    "        ah=cv2.flip(a,0)\n",
    "        bv=cv2.flip(b,1)\n",
    "        bh=cv2.flip(b,0)\n",
    "        cv=cv2.flip(c,1)\n",
    "        ch=cv2.flip(c,0)\n",
    "        \n",
    "        vert_flip_imgs.append(np.dstack((av, bv, cv)))\n",
    "        hori_flip_imgs.append(np.dstack((ah, bh, ch)))\n",
    "      \n",
    "    v = np.array(vert_flip_imgs)\n",
    "    h = np.array(hori_flip_imgs)\n",
    "       \n",
    "    more_images = np.concatenate((imgs,v,h))\n",
    "    \n",
    "    return more_images\n",
    "\n",
    "def getModel():\n",
    "    # Build keras model\n",
    "\n",
    "    image_model=Sequential()\n",
    "\n",
    "    # CNN 1\n",
    "    image_model.add(Conv2D(64, kernel_size=(3, 3),activation='relu', input_shape=(75, 75, 3)))\n",
    "    image_model.add(MaxPooling2D(pool_size=(3, 3), strides=(2, 2)))\n",
    "    image_model.add(Dropout(0.2))\n",
    "\n",
    "    # CNN 2\n",
    "    image_model.add(Conv2D(128, kernel_size=(3, 3), activation='relu' ))\n",
    "    image_model.add(MaxPooling2D(pool_size=(2, 2), strides=(2, 2)))\n",
    "    image_model.add(Dropout(0.2))\n",
    "\n",
    "#     # CNN 2 - added additional layers\n",
    "#     image_model.add(Conv2D(128, kernel_size=(3, 3), activation='relu' ))\n",
    "#     image_model.add(MaxPooling2D(pool_size=(2, 2), strides=(2, 2)))\n",
    "#     image_model.add(Dropout(0.2))\n",
    "    \n",
    "    # CNN 3\n",
    "    image_model.add(Conv2D(128, kernel_size=(3, 3), activation='relu'))\n",
    "    image_model.add(MaxPooling2D(pool_size=(2, 2), strides=(2, 2)))\n",
    "    image_model.add(Dropout(0.2))\n",
    "\n",
    "    # CNN 4\n",
    "    image_model.add(Conv2D(64, kernel_size=(3, 3), activation='relu'))\n",
    "    image_model.add(MaxPooling2D(pool_size=(2, 2), strides=(2, 2)))\n",
    "    image_model.add(Dropout(0.2))\n",
    "\n",
    "    # You must flatten the data for the dense layers\n",
    "    image_model.add(Flatten())\n",
    "    \n",
    "    print(image_model.summary())\n",
    "\n",
    "    # Image input encoding\n",
    "    image_input = Input(shape=(75,75,3))\n",
    "    encoded_image = image_model(image_input)\n",
    "\n",
    "    # Inc angle input\n",
    "    inc_angle_input = Input(shape=(1,))\n",
    "    \n",
    "    # Combine image and inc angle\n",
    "    combined= keras.layers.concatenate([encoded_image, inc_angle_input])\n",
    "\n",
    "\n",
    "    dense_model = Sequential()\n",
    "\n",
    "    # Dense 1\n",
    "    dense_model.add(Dense(512, activation='relu',input_shape=(16385,)))\n",
    "    dense_model.add(Dropout(0.2))\n",
    "\n",
    "    # Dense 2\n",
    "    dense_model.add(Dense(256, activation='relu'))\n",
    "    dense_model.add(Dropout(0.2))\n",
    "\n",
    "    # Output\n",
    "    dense_model.add(Dense(1, activation=\"sigmoid\"))\n",
    "    \n",
    "    print(dense_model.summary())\n",
    "\n",
    "    output = dense_model(combined)\n",
    "\n",
    "    # Final model\n",
    "    combined_model= Model(inputs=[image_input,inc_angle_input],outputs= output)\n",
    "\n",
    "    optimizer = Adam(lr=0.001, decay=0.0)\n",
    "    combined_model.compile(loss='binary_crossentropy', optimizer=optimizer, metrics=['accuracy'])\n",
    "\n",
    "    return combined_model\n",
    "\n",
    "df_train = pd.read_json(os.path.join(data_dir, 'train.json'))\n",
    "Xtrain = get_scaled_imgs(df_train)\n",
    "Ytrain = np.array(df_train['is_iceberg'])\n",
    "\n",
    "df_train.inc_angle = df_train.inc_angle.replace('na',0)\n",
    "idx_tr = np.where(df_train.inc_angle>0)\n",
    "\n",
    "Ytrain = Ytrain[idx_tr[0]]\n",
    "Xtrain = Xtrain[idx_tr[0],...]\n",
    "Xinc = df_train.inc_angle[idx_tr[0]]\n",
    "\n",
    "# remove all 3 below if you just want orginal data\n",
    "# Xtrain = get_more_images(Xtrain)\n",
    "# Xinc = np.concatenate((Xinc,Xinc,Xinc))\n",
    "# Ytrain = np.concatenate((Ytrain,Ytrain,Ytrain))\n"
   ]
  },
  {
   "cell_type": "code",
   "execution_count": 4,
   "metadata": {},
   "outputs": [
    {
     "name": "stdout",
     "output_type": "stream",
     "text": [
      "_________________________________________________________________\n",
      "Layer (type)                 Output Shape              Param #   \n",
      "=================================================================\n",
      "conv2d_1 (Conv2D)            (None, 73, 73, 64)        1792      \n",
      "_________________________________________________________________\n",
      "max_pooling2d_1 (MaxPooling2 (None, 36, 36, 64)        0         \n",
      "_________________________________________________________________\n",
      "dropout_1 (Dropout)          (None, 36, 36, 64)        0         \n",
      "_________________________________________________________________\n",
      "conv2d_2 (Conv2D)            (None, 34, 34, 128)       73856     \n",
      "_________________________________________________________________\n",
      "max_pooling2d_2 (MaxPooling2 (None, 17, 17, 128)       0         \n",
      "_________________________________________________________________\n",
      "dropout_2 (Dropout)          (None, 17, 17, 128)       0         \n",
      "_________________________________________________________________\n",
      "conv2d_3 (Conv2D)            (None, 15, 15, 128)       147584    \n",
      "_________________________________________________________________\n",
      "max_pooling2d_3 (MaxPooling2 (None, 7, 7, 128)         0         \n",
      "_________________________________________________________________\n",
      "dropout_3 (Dropout)          (None, 7, 7, 128)         0         \n",
      "_________________________________________________________________\n",
      "conv2d_4 (Conv2D)            (None, 5, 5, 64)          73792     \n",
      "_________________________________________________________________\n",
      "max_pooling2d_4 (MaxPooling2 (None, 2, 2, 64)          0         \n",
      "_________________________________________________________________\n",
      "dropout_4 (Dropout)          (None, 2, 2, 64)          0         \n",
      "_________________________________________________________________\n",
      "flatten_1 (Flatten)          (None, 256)               0         \n",
      "=================================================================\n",
      "Total params: 297,024\n",
      "Trainable params: 297,024\n",
      "Non-trainable params: 0\n",
      "_________________________________________________________________\n",
      "None\n",
      "_________________________________________________________________\n",
      "Layer (type)                 Output Shape              Param #   \n",
      "=================================================================\n",
      "dense_1 (Dense)              (None, 512)               8389632   \n",
      "_________________________________________________________________\n",
      "dropout_5 (Dropout)          (None, 512)               0         \n",
      "_________________________________________________________________\n",
      "dense_2 (Dense)              (None, 256)               131328    \n",
      "_________________________________________________________________\n",
      "dropout_6 (Dropout)          (None, 256)               0         \n",
      "_________________________________________________________________\n",
      "dense_3 (Dense)              (None, 1)                 257       \n",
      "=================================================================\n",
      "Total params: 8,521,217\n",
      "Trainable params: 8,521,217\n",
      "Non-trainable params: 0\n",
      "_________________________________________________________________\n",
      "None\n",
      "__________________________________________________________________________________________________\n",
      "Layer (type)                    Output Shape         Param #     Connected to                     \n",
      "==================================================================================================\n",
      "input_1 (InputLayer)            (None, 75, 75, 3)    0                                            \n",
      "__________________________________________________________________________________________________\n",
      "sequential_1 (Sequential)       (None, 256)          297024      input_1[0][0]                    \n",
      "__________________________________________________________________________________________________\n",
      "input_2 (InputLayer)            (None, 1)            0                                            \n",
      "__________________________________________________________________________________________________\n",
      "concatenate_1 (Concatenate)     (None, 257)          0           sequential_1[1][0]               \n",
      "                                                                 input_2[0][0]                    \n",
      "__________________________________________________________________________________________________\n",
      "sequential_2 (Sequential)       (None, 1)            8521217     concatenate_1[0][0]              \n",
      "==================================================================================================\n",
      "Total params: 8,818,241\n",
      "Trainable params: 8,818,241\n",
      "Non-trainable params: 0\n",
      "__________________________________________________________________________________________________\n"
     ]
    }
   ],
   "source": [
    "model = getModel()\n",
    "model.summary()"
   ]
  },
  {
   "cell_type": "code",
   "execution_count": 25,
   "metadata": {
    "collapsed": true
   },
   "outputs": [],
   "source": [
    "batch_size = 256\n",
    "        \n",
    "tbCallBack = TensorBoard(log_dir='/home/ubuntu/data/tensorboardlogs/', histogram_freq=0, write_graph=True, write_images=True)\n",
    "earlyStopping = EarlyStopping(monitor='val_loss', patience=10, verbose=0, mode='min')\n",
    "mcp_save = ModelCheckpoint('.mdl_wts.hdf5', save_best_only=True, monitor='val_loss', mode='min')\n",
    "reduce_lr_loss = ReduceLROnPlateau(monitor='val_loss', factor=0.1, patience=8, verbose=1, epsilon=1e-4, mode='min')\n",
    "\n"
   ]
  },
  {
   "cell_type": "code",
   "execution_count": 26,
   "metadata": {},
   "outputs": [
    {
     "data": {
      "text/plain": [
       "((1471, 75, 75, 3), (1471,), (1471,))"
      ]
     },
     "execution_count": 26,
     "metadata": {},
     "output_type": "execute_result"
    }
   ],
   "source": [
    "Xtrain.shape ,Xinc.shape, Ytrain.shape"
   ]
  },
  {
   "cell_type": "code",
   "execution_count": 27,
   "metadata": {},
   "outputs": [
    {
     "name": "stdout",
     "output_type": "stream",
     "text": [
      "Train on 1103 samples, validate on 368 samples\n",
      "Epoch 1/10\n",
      "1103/1103 [==============================] - 8s 8ms/step - loss: 7.6166 - acc: 0.4878 - val_loss: 7.7525 - val_acc: 0.5190\n",
      "Epoch 2/10\n",
      "1103/1103 [==============================] - 8s 7ms/step - loss: 8.4171 - acc: 0.4778 - val_loss: 7.7525 - val_acc: 0.5190\n",
      "Epoch 3/10\n",
      "1103/1103 [==============================] - 8s 7ms/step - loss: 8.4171 - acc: 0.4778 - val_loss: 7.7525 - val_acc: 0.5190\n",
      "Epoch 4/10\n",
      "1103/1103 [==============================] - 8s 7ms/step - loss: 8.4171 - acc: 0.4778 - val_loss: 7.7525 - val_acc: 0.5190\n",
      "Epoch 5/10\n",
      "1103/1103 [==============================] - 8s 7ms/step - loss: 8.4171 - acc: 0.4778 - val_loss: 7.7525 - val_acc: 0.5190\n",
      "Epoch 6/10\n",
      "1103/1103 [==============================] - 8s 7ms/step - loss: 8.4171 - acc: 0.4778 - val_loss: 7.7525 - val_acc: 0.5190\n",
      "Epoch 7/10\n",
      "1103/1103 [==============================] - 8s 7ms/step - loss: 8.4171 - acc: 0.4778 - val_loss: 7.7525 - val_acc: 0.5190\n",
      "Epoch 8/10\n",
      "1103/1103 [==============================] - 8s 7ms/step - loss: 8.4171 - acc: 0.4778 - val_loss: 7.7525 - val_acc: 0.5190\n",
      "Epoch 9/10\n",
      "1103/1103 [==============================] - 8s 7ms/step - loss: 8.4171 - acc: 0.4778 - val_loss: 7.7525 - val_acc: 0.5190\n",
      "Epoch 10/10\n",
      "1024/1103 [==========================>...] - ETA: 0s - loss: 8.4368 - acc: 0.4766\n",
      "Epoch 00010: reducing learning rate to 0.00010000000474974513.\n",
      "1103/1103 [==============================] - 8s 7ms/step - loss: 8.4171 - acc: 0.4778 - val_loss: 7.7525 - val_acc: 0.5190\n"
     ]
    },
    {
     "data": {
      "text/plain": [
       "<keras.callbacks.History at 0x7f4262cfdcc0>"
      ]
     },
     "execution_count": 27,
     "metadata": {},
     "output_type": "execute_result"
    }
   ],
   "source": [
    "model.fit([Xtrain,Xinc], Ytrain, batch_size=batch_size, epochs=10, verbose=1,\n",
    "          callbacks=[earlyStopping, mcp_save, reduce_lr_loss, tbCallBack], validation_split=0.25)"
   ]
  },
  {
   "cell_type": "code",
   "execution_count": null,
   "metadata": {
    "collapsed": true
   },
   "outputs": [],
   "source": [
    "\n",
    "# model.load_weights(filepath = '.mdl_wts.hdf5')\n",
    "score = model.evaluate([Xtrain,Xinc], Ytrain, verbose=1)\n",
    "print('Train score:', score[0])\n",
    "print('Train accuracy:', score[1])\n",
    "\n",
    "df_test = pd.read_json(os.path.join(data_dir, 'test.json'))\n",
    "df_test.inc_angle = df_test.inc_angle.replace('na',0)\n",
    "Xtest = (get_scaled_imgs(df_test))\n",
    "Xtest_inc = df_test.inc_angle\n",
    "pred_test = model.predict([Xtest,Xtest_inc])\n",
    "\n"
   ]
  },
  {
   "cell_type": "code",
   "execution_count": null,
   "metadata": {
    "collapsed": true
   },
   "outputs": [],
   "source": [
    "submission = pd.DataFrame({'id': df_test[\"id\"], 'is_iceberg': pred_test.reshape((pred_test.shape[0]))})\n",
    "print(submission.head(10))\n",
    "\n",
    "submission.to_csv('cnn_train_' + str(np.around(score[1], decimals=2))  + '.csv', index=False)"
   ]
  },
  {
   "cell_type": "code",
   "execution_count": 27,
   "metadata": {
    "collapsed": true
   },
   "outputs": [],
   "source": [
    "# this model work even if I don't add the extra data, need to find out why it fits much better than \n",
    "# mine without overfitting"
   ]
  },
  {
   "cell_type": "code",
   "execution_count": 5,
   "metadata": {
    "collapsed": true
   },
   "outputs": [],
   "source": [
    "from keras.utils import plot_model\n",
    "import graphviz\n",
    "import pydot\n",
    "plot_model(model, to_file='model.png')"
   ]
  },
  {
   "cell_type": "code",
   "execution_count": 9,
   "metadata": {},
   "outputs": [
    {
     "name": "stdout",
     "output_type": "stream",
     "text": [
      "_________________________________________________________________\n",
      "Layer (type)                 Output Shape              Param #   \n",
      "=================================================================\n",
      "conv2d_5 (Conv2D)            (None, 73, 73, 64)        1792      \n",
      "_________________________________________________________________\n",
      "max_pooling2d_5 (MaxPooling2 (None, 36, 36, 64)        0         \n",
      "_________________________________________________________________\n",
      "dropout_7 (Dropout)          (None, 36, 36, 64)        0         \n",
      "_________________________________________________________________\n",
      "conv2d_6 (Conv2D)            (None, 34, 34, 128)       73856     \n",
      "_________________________________________________________________\n",
      "max_pooling2d_6 (MaxPooling2 (None, 17, 17, 128)       0         \n",
      "_________________________________________________________________\n",
      "dropout_8 (Dropout)          (None, 17, 17, 128)       0         \n",
      "_________________________________________________________________\n",
      "conv2d_7 (Conv2D)            (None, 15, 15, 128)       147584    \n",
      "_________________________________________________________________\n",
      "max_pooling2d_7 (MaxPooling2 (None, 7, 7, 128)         0         \n",
      "_________________________________________________________________\n",
      "dropout_9 (Dropout)          (None, 7, 7, 128)         0         \n",
      "_________________________________________________________________\n",
      "conv2d_8 (Conv2D)            (None, 5, 5, 64)          73792     \n",
      "_________________________________________________________________\n",
      "max_pooling2d_8 (MaxPooling2 (None, 2, 2, 64)          0         \n",
      "_________________________________________________________________\n",
      "dropout_10 (Dropout)         (None, 2, 2, 64)          0         \n",
      "_________________________________________________________________\n",
      "flatten_2 (Flatten)          (None, 256)               0         \n",
      "=================================================================\n",
      "Total params: 297,024\n",
      "Trainable params: 297,024\n",
      "Non-trainable params: 0\n",
      "_________________________________________________________________\n",
      "None\n"
     ]
    }
   ],
   "source": [
    "    image_model=Sequential()\n",
    "\n",
    "    # CNN 1\n",
    "    image_model.add(Conv2D(64, kernel_size=(3, 3),activation='relu', input_shape=(75, 75, 3)))\n",
    "    image_model.add(MaxPooling2D(pool_size=(3, 3), strides=(2, 2)))\n",
    "    image_model.add(Dropout(0.2))\n",
    "\n",
    "    # CNN 2\n",
    "    image_model.add(Conv2D(128, kernel_size=(3, 3), activation='relu' ))\n",
    "    image_model.add(MaxPooling2D(pool_size=(2, 2), strides=(2, 2)))\n",
    "    image_model.add(Dropout(0.2))\n",
    "\n",
    "    # CNN 3\n",
    "    image_model.add(Conv2D(128, kernel_size=(3, 3), activation='relu'))\n",
    "    image_model.add(MaxPooling2D(pool_size=(2, 2), strides=(2, 2)))\n",
    "    image_model.add(Dropout(0.2))\n",
    "\n",
    "    # CNN 4\n",
    "    image_model.add(Conv2D(64, kernel_size=(3, 3), activation='relu'))\n",
    "    image_model.add(MaxPooling2D(pool_size=(2, 2), strides=(2, 2)))\n",
    "    image_model.add(Dropout(0.2))\n",
    "\n",
    "    # You must flatten the data for the dense layers\n",
    "    image_model.add(Flatten())\n",
    "    \n",
    "    print(image_model.summary())\n",
    "\n",
    "    # Image input encoding\n",
    "    image_input = Input(shape=(75,75,3))\n",
    "    encoded_image = image_model(image_input)"
   ]
  },
  {
   "cell_type": "code",
   "execution_count": 54,
   "metadata": {},
   "outputs": [
    {
     "data": {
      "text/plain": [
       "0.55959517045034968"
      ]
     },
     "execution_count": 54,
     "metadata": {},
     "output_type": "execute_result"
    }
   ],
   "source": [
    "Xtrain[2,:,:,0].max()"
   ]
  },
  {
   "cell_type": "code",
   "execution_count": 15,
   "metadata": {},
   "outputs": [
    {
     "data": {
      "text/plain": [
       "TensorShape([Dimension(None), Dimension(75), Dimension(75), Dimension(3)])"
      ]
     },
     "execution_count": 15,
     "metadata": {},
     "output_type": "execute_result"
    }
   ],
   "source": [
    "image_input.get_shape()"
   ]
  },
  {
   "cell_type": "code",
   "execution_count": null,
   "metadata": {
    "collapsed": true
   },
   "outputs": [],
   "source": []
  }
 ],
 "metadata": {
  "kernelspec": {
   "display_name": "Python 3",
   "language": "python",
   "name": "python3"
  },
  "language_info": {
   "codemirror_mode": {
    "name": "ipython",
    "version": 3
   },
   "file_extension": ".py",
   "mimetype": "text/x-python",
   "name": "python",
   "nbconvert_exporter": "python",
   "pygments_lexer": "ipython3",
   "version": "3.4.3"
  }
 },
 "nbformat": 4,
 "nbformat_minor": 2
}
