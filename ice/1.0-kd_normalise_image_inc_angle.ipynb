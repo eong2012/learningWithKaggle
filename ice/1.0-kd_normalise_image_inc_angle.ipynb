{
 "cells": [
  {
   "cell_type": "code",
   "execution_count": 3,
   "metadata": {},
   "outputs": [
    {
     "name": "stdout",
     "output_type": "stream",
     "text": [
      "2.1.1\n"
     ]
    }
   ],
   "source": [
    "data_dir = '/home/ubuntu/data/iceberg'\n",
    "\n",
    "import pandas as pd\n",
    "import numpy as np\n",
    "from keras.models import Sequential, Model\n",
    "from keras.layers import Dense, Dropout, Flatten, Input\n",
    "from keras.layers import Conv2D, MaxPooling2D, GlobalAveragePooling2D\n",
    "from keras.callbacks import EarlyStopping, ModelCheckpoint, ReduceLROnPlateau\n",
    "from keras.layers.normalization import BatchNormalization\n",
    "from keras.layers import Dense, Dropout, Flatten, Input, Conv2D, Cropping2D\n",
    "from keras.layers import MaxPooling2D, ZeroPadding2D, BatchNormalization, Activation\n",
    "from keras.layers.merge import Add, Concatenate\n",
    "from keras.optimizers import Adam\n",
    "from keras.utils.np_utils import to_categorical\n",
    "import cv2\n",
    "import keras\n",
    "import os\n",
    "from keras.callbacks import TensorBoard\n",
    "\n",
    "from keras import __version__\n",
    "print(__version__)\n"
   ]
  },
  {
   "cell_type": "code",
   "execution_count": 4,
   "metadata": {
    "collapsed": true
   },
   "outputs": [],
   "source": [
    "np.random.seed(1234)\n",
    "\n",
    "def get_scaled_imgs(df):\n",
    "    imgs = []\n",
    "\n",
    "    for i, row in df.iterrows():\n",
    "        #make 75x75 image\n",
    "        band_1 = np.array(row['band_1']).reshape(75, 75)\n",
    "        band_2 = np.array(row['band_2']).reshape(75, 75)\n",
    "        band_3 = band_1 + band_2 # plus since log(x*y) = log(x) + log(y)\n",
    "\n",
    "        # Rescale\n",
    "        a = (band_1 - band_1.mean()) / (band_1.max() - band_1.min())\n",
    "        b = (band_2 - band_2.mean()) / (band_2.max() - band_2.min())\n",
    "        c = (band_3 - band_3.mean()) / (band_3.max() - band_3.min())\n",
    "\n",
    "#         imgs.append(np.dstack((band_1, band_2, band_3)))\n",
    "        imgs.append(np.dstack((a, b, c)))\n",
    "\n",
    "    return np.array(imgs)\n",
    "\n",
    "def get_more_images(imgs):\n",
    "    \n",
    "    more_images = []\n",
    "    vert_flip_imgs = []\n",
    "    hori_flip_imgs = []\n",
    "      \n",
    "    for i in range(0,imgs.shape[0]):\n",
    "        a=imgs[i,:,:,0]\n",
    "        b=imgs[i,:,:,1]\n",
    "        c=imgs[i,:,:,2]\n",
    "        \n",
    "        av=cv2.flip(a,1)\n",
    "        ah=cv2.flip(a,0)\n",
    "        bv=cv2.flip(b,1)\n",
    "        bh=cv2.flip(b,0)\n",
    "        cv=cv2.flip(c,1)\n",
    "        ch=cv2.flip(c,0)\n",
    "        \n",
    "        vert_flip_imgs.append(np.dstack((av, bv, cv)))\n",
    "        hori_flip_imgs.append(np.dstack((ah, bh, ch)))\n",
    "      \n",
    "    v = np.array(vert_flip_imgs)\n",
    "    h = np.array(hori_flip_imgs)\n",
    "       \n",
    "    more_images = np.concatenate((imgs,v,h))\n",
    "    \n",
    "    return more_images"
   ]
  },
  {
   "cell_type": "code",
   "execution_count": 5,
   "metadata": {
    "collapsed": true
   },
   "outputs": [],
   "source": [
    "df_train = pd.read_json(os.path.join(data_dir, 'train.json'))\n",
    "Xtrain = get_scaled_imgs(df_train)\n",
    "Ytrain = np.array(df_train['is_iceberg'])\n",
    "\n",
    "df_train.inc_angle = df_train.inc_angle.replace('na',0)\n",
    "idx_tr = np.where(df_train.inc_angle>0)\n",
    "\n",
    "Ytrain = Ytrain[idx_tr[0]]\n",
    "Xtrain = Xtrain[idx_tr[0],...]\n",
    "Xinc = df_train.inc_angle[idx_tr[0]]"
   ]
  },
  {
   "cell_type": "code",
   "execution_count": 6,
   "metadata": {},
   "outputs": [
    {
     "data": {
      "text/plain": [
       "0.72976856454753891"
      ]
     },
     "execution_count": 6,
     "metadata": {},
     "output_type": "execute_result"
    }
   ],
   "source": [
    "Xtrain[1,:,:,1].max()"
   ]
  },
  {
   "cell_type": "code",
   "execution_count": 7,
   "metadata": {
    "collapsed": true
   },
   "outputs": [],
   "source": [
    "Xtrain = get_more_images(Xtrain)\n",
    "Xinc = np.concatenate((Xinc,Xinc,Xinc))\n",
    "Ytrain = np.concatenate((Ytrain,Ytrain,Ytrain))"
   ]
  },
  {
   "cell_type": "code",
   "execution_count": 13,
   "metadata": {
    "collapsed": true
   },
   "outputs": [],
   "source": [
    "batch_size = 256\n",
    "        \n",
    "tbCallBack = TensorBoard(log_dir='/home/ubuntu/data/tensorboardlogs/', histogram_freq=0, write_graph=True, write_images=True)\n",
    "earlyStopping = EarlyStopping(monitor='val_loss', patience=10, verbose=0, mode='min')\n",
    "mcp_save = ModelCheckpoint('.mdl_wts.hdf5', save_best_only=True, monitor='val_loss', mode='min')\n",
    "reduce_lr_loss = ReduceLROnPlateau(monitor='val_loss', factor=0.1, patience=8, verbose=1, epsilon=1e-4, mode='min')"
   ]
  },
  {
   "cell_type": "code",
   "execution_count": 111,
   "metadata": {
    "collapsed": true
   },
   "outputs": [],
   "source": [
    "p = 0.2\n",
    "input_shape = (75, 75, 3)\n",
    "num_classes = 2\n",
    "\n",
    "classifier_input = Input(shape=input_shape)\n",
    "inc_angle_input = Input(shape=(1,))\n",
    "\n",
    "# CNN 1\n",
    "x = Conv2D(64, (3, 3), activation='relu', padding='same')(classifier_input)\n",
    "x = MaxPooling2D()(x)\n",
    "x = Dropout(p)(x)\n",
    "\n",
    "# CNN 2\n",
    "x = Conv2D(128, (3, 3), activation='relu', padding='same')(x)\n",
    "x = MaxPooling2D()(x)   # REMOVED MAX POOLING FOR VISUALISATION\n",
    "x = Dropout(p)(x)\n",
    "\n",
    "# CNN 3\n",
    "x = Conv2D(128, (3, 3), activation='relu', padding='same')(x)\n",
    "x = MaxPooling2D()(x)\n",
    "x = Dropout(p)(x)\n",
    "\n",
    "# CNN 3\n",
    "x = Conv2D(256, (3, 3), activation='relu', padding='same')(x)\n",
    "x = MaxPooling2D()(x)\n",
    "x = Dropout(p)(x)\n",
    "\n",
    "# x = BatchNormalization(axis=-1)(x)\n",
    "\n",
    "# CNN 4\n",
    "x = Conv2D(64,(3,3), activation='relu', padding='same')(x)\n",
    "x = MaxPooling2D()(x)\n",
    "# x = BatchNormalization(axis=-1)(x)\n",
    "x = Dropout(p)(x)\n",
    "\n",
    "x = Flatten()(x)\n",
    "\n",
    "# x = GlobalAveragePooling2D()(x)\n",
    "m = Concatenate()([inc_angle_input, x])\n",
    "m = Dense(512, activation='relu')(m)\n",
    "m = Dense(256, activation='relu')(m)\n",
    "out = Dense(2, activation='sigmoid')(m)\n",
    "# out = Activation('softmax')(m)\n",
    "\n",
    "# optimizer = Adam(lr=0.00001, beta_1=0.9, beta_2=0.999, epsilon=1e-08, decay=0.0)\n",
    "optimizer = Adam(lr=0.0015, decay=0.0)\n",
    "model = Model(inputs=[classifier_input, inc_angle_input], outputs=out)\n",
    "model.compile(optimizer=optimizer, loss='binary_crossentropy', metrics=['accuracy'])"
   ]
  },
  {
   "cell_type": "code",
   "execution_count": null,
   "metadata": {
    "collapsed": true
   },
   "outputs": [],
   "source": []
  },
  {
   "cell_type": "code",
   "execution_count": 113,
   "metadata": {},
   "outputs": [
    {
     "name": "stdout",
     "output_type": "stream",
     "text": [
      "Train on 3309 samples, validate on 1104 samples\n",
      "Epoch 1/50\n",
      "3309/3309 [==============================] - 6s 2ms/step - loss: 0.9114 - acc: 0.4995 - val_loss: 0.8247 - val_acc: 0.4937\n",
      "Epoch 2/50\n",
      "3309/3309 [==============================] - 6s 2ms/step - loss: 0.7453 - acc: 0.4977 - val_loss: 0.6931 - val_acc: 0.5063\n",
      "Epoch 3/50\n",
      "3309/3309 [==============================] - 6s 2ms/step - loss: 0.6974 - acc: 0.4992 - val_loss: 0.6928 - val_acc: 0.5063\n",
      "Epoch 4/50\n",
      "3309/3309 [==============================] - 6s 2ms/step - loss: 0.6879 - acc: 0.5128 - val_loss: 0.6454 - val_acc: 0.6431\n",
      "Epoch 5/50\n",
      "3309/3309 [==============================] - 6s 2ms/step - loss: 0.6419 - acc: 0.6233 - val_loss: 0.5854 - val_acc: 0.6594\n",
      "Epoch 6/50\n",
      "3309/3309 [==============================] - 6s 2ms/step - loss: 0.5927 - acc: 0.6769 - val_loss: 0.6633 - val_acc: 0.6427\n",
      "Epoch 7/50\n",
      "3309/3309 [==============================] - 6s 2ms/step - loss: 0.5230 - acc: 0.7403 - val_loss: 0.4789 - val_acc: 0.7813\n",
      "Epoch 8/50\n",
      "3309/3309 [==============================] - 6s 2ms/step - loss: 0.4265 - acc: 0.8113 - val_loss: 0.4027 - val_acc: 0.8247\n",
      "Epoch 9/50\n",
      "3309/3309 [==============================] - 6s 2ms/step - loss: 0.4255 - acc: 0.8158 - val_loss: 0.3869 - val_acc: 0.8415\n",
      "Epoch 10/50\n",
      "3309/3309 [==============================] - 6s 2ms/step - loss: 0.4004 - acc: 0.8327 - val_loss: 0.3457 - val_acc: 0.8614\n",
      "Epoch 11/50\n",
      "3309/3309 [==============================] - 6s 2ms/step - loss: 0.3619 - acc: 0.8512 - val_loss: 0.3385 - val_acc: 0.8496\n",
      "Epoch 12/50\n",
      "3309/3309 [==============================] - 6s 2ms/step - loss: 0.3338 - acc: 0.8578 - val_loss: 0.4053 - val_acc: 0.8279\n",
      "Epoch 13/50\n",
      "3309/3309 [==============================] - 6s 2ms/step - loss: 0.3503 - acc: 0.8480 - val_loss: 0.2989 - val_acc: 0.8687\n",
      "Epoch 14/50\n",
      "3309/3309 [==============================] - 6s 2ms/step - loss: 0.3031 - acc: 0.8678 - val_loss: 0.3289 - val_acc: 0.8614\n",
      "Epoch 15/50\n",
      "3309/3309 [==============================] - 6s 2ms/step - loss: 0.2772 - acc: 0.8853 - val_loss: 0.3210 - val_acc: 0.8591\n",
      "Epoch 16/50\n",
      "3309/3309 [==============================] - 6s 2ms/step - loss: 0.2738 - acc: 0.8802 - val_loss: 0.2837 - val_acc: 0.8764\n",
      "Epoch 17/50\n",
      "3309/3309 [==============================] - 6s 2ms/step - loss: 0.2610 - acc: 0.8909 - val_loss: 0.2332 - val_acc: 0.8999\n",
      "Epoch 18/50\n",
      "3309/3309 [==============================] - 6s 2ms/step - loss: 0.2679 - acc: 0.8898 - val_loss: 0.3467 - val_acc: 0.8569\n",
      "Epoch 19/50\n",
      "3309/3309 [==============================] - 6s 2ms/step - loss: 0.2690 - acc: 0.8861 - val_loss: 0.2322 - val_acc: 0.9053\n",
      "Epoch 20/50\n",
      "3309/3309 [==============================] - 6s 2ms/step - loss: 0.2544 - acc: 0.8932 - val_loss: 0.2267 - val_acc: 0.9026\n",
      "Epoch 21/50\n",
      "3309/3309 [==============================] - 6s 2ms/step - loss: 0.2237 - acc: 0.9089 - val_loss: 0.2667 - val_acc: 0.8995\n",
      "Epoch 22/50\n",
      "3309/3309 [==============================] - 6s 2ms/step - loss: 0.2166 - acc: 0.9072 - val_loss: 0.2254 - val_acc: 0.9067\n",
      "Epoch 23/50\n",
      "3309/3309 [==============================] - 6s 2ms/step - loss: 0.1987 - acc: 0.9199 - val_loss: 0.2186 - val_acc: 0.9135\n",
      "Epoch 24/50\n",
      "3309/3309 [==============================] - 6s 2ms/step - loss: 0.2046 - acc: 0.9192 - val_loss: 0.2046 - val_acc: 0.9198\n",
      "Epoch 25/50\n",
      "3309/3309 [==============================] - 6s 2ms/step - loss: 0.2024 - acc: 0.9167 - val_loss: 0.2905 - val_acc: 0.8868\n",
      "Epoch 26/50\n",
      "3309/3309 [==============================] - 6s 2ms/step - loss: 0.1803 - acc: 0.9272 - val_loss: 0.2313 - val_acc: 0.9099\n",
      "Epoch 27/50\n",
      "3309/3309 [==============================] - 6s 2ms/step - loss: 0.1800 - acc: 0.9223 - val_loss: 0.1981 - val_acc: 0.9221\n",
      "Epoch 28/50\n",
      "3309/3309 [==============================] - 6s 2ms/step - loss: 0.1730 - acc: 0.9279 - val_loss: 0.3010 - val_acc: 0.8922\n",
      "Epoch 29/50\n",
      "3309/3309 [==============================] - 6s 2ms/step - loss: 0.1827 - acc: 0.9240 - val_loss: 0.2121 - val_acc: 0.9153\n",
      "Epoch 30/50\n",
      "3309/3309 [==============================] - 6s 2ms/step - loss: 0.1610 - acc: 0.9326 - val_loss: 0.2253 - val_acc: 0.9139\n",
      "Epoch 31/50\n",
      "3309/3309 [==============================] - 6s 2ms/step - loss: 0.1592 - acc: 0.9346 - val_loss: 0.2820 - val_acc: 0.9013\n",
      "Epoch 32/50\n",
      "3309/3309 [==============================] - 6s 2ms/step - loss: 0.1581 - acc: 0.9328 - val_loss: 0.2087 - val_acc: 0.9171\n",
      "Epoch 33/50\n",
      "3309/3309 [==============================] - 6s 2ms/step - loss: 0.1578 - acc: 0.9343 - val_loss: 0.3333 - val_acc: 0.8863\n",
      "Epoch 34/50\n",
      "3309/3309 [==============================] - 6s 2ms/step - loss: 0.1698 - acc: 0.9264 - val_loss: 0.2139 - val_acc: 0.9158\n",
      "Epoch 35/50\n",
      "3309/3309 [==============================] - 6s 2ms/step - loss: 0.1421 - acc: 0.9433 - val_loss: 0.2741 - val_acc: 0.9035\n",
      "Epoch 36/50\n",
      "3072/3309 [==========================>...] - ETA: 0s - loss: 0.1666 - acc: 0.9331\n",
      "Epoch 00036: reducing learning rate to 0.00015000000130385163.\n",
      "3309/3309 [==============================] - 7s 2ms/step - loss: 0.1705 - acc: 0.9323 - val_loss: 0.2093 - val_acc: 0.9207\n",
      "Epoch 37/50\n",
      "3309/3309 [==============================] - 6s 2ms/step - loss: 0.1285 - acc: 0.9480 - val_loss: 0.2313 - val_acc: 0.9194\n"
     ]
    },
    {
     "data": {
      "text/plain": [
       "<keras.callbacks.History at 0x7f19bae05780>"
      ]
     },
     "execution_count": 113,
     "metadata": {},
     "output_type": "execute_result"
    }
   ],
   "source": [
    "model.fit([Xtrain, Xinc], to_categorical(Ytrain), batch_size=batch_size, epochs=50, verbose=1,shuffle=True,\n",
    "          callbacks=[earlyStopping, mcp_save, reduce_lr_loss, tbCallBack], validation_split=0.25)"
   ]
  },
  {
   "cell_type": "code",
   "execution_count": 18,
   "metadata": {
    "scrolled": false
   },
   "outputs": [
    {
     "name": "stdout",
     "output_type": "stream",
     "text": [
      "__________________________________________________________________________________________________\n",
      "Layer (type)                    Output Shape         Param #     Connected to                     \n",
      "==================================================================================================\n",
      "input_11 (InputLayer)           (None, 75, 75, 3)    0                                            \n",
      "__________________________________________________________________________________________________\n",
      "conv2d_26 (Conv2D)              (None, 75, 75, 32)   896         input_11[0][0]                   \n",
      "__________________________________________________________________________________________________\n",
      "max_pooling2d_12 (MaxPooling2D) (None, 37, 37, 32)   0           conv2d_26[0][0]                  \n",
      "__________________________________________________________________________________________________\n",
      "conv2d_27 (Conv2D)              (None, 37, 37, 64)   18496       max_pooling2d_12[0][0]           \n",
      "__________________________________________________________________________________________________\n",
      "max_pooling2d_13 (MaxPooling2D) (None, 18, 18, 64)   0           conv2d_27[0][0]                  \n",
      "__________________________________________________________________________________________________\n",
      "conv2d_28 (Conv2D)              (None, 18, 18, 64)   36928       max_pooling2d_13[0][0]           \n",
      "__________________________________________________________________________________________________\n",
      "max_pooling2d_14 (MaxPooling2D) (None, 9, 9, 64)     0           conv2d_28[0][0]                  \n",
      "__________________________________________________________________________________________________\n",
      "conv2d_29 (Conv2D)              (None, 9, 9, 64)     36928       max_pooling2d_14[0][0]           \n",
      "__________________________________________________________________________________________________\n",
      "max_pooling2d_15 (MaxPooling2D) (None, 4, 4, 64)     0           conv2d_29[0][0]                  \n",
      "__________________________________________________________________________________________________\n",
      "dropout_6 (Dropout)             (None, 4, 4, 64)     0           max_pooling2d_15[0][0]           \n",
      "__________________________________________________________________________________________________\n",
      "input_12 (InputLayer)           (None, 1)            0                                            \n",
      "__________________________________________________________________________________________________\n",
      "flatten_3 (Flatten)             (None, 1024)         0           dropout_6[0][0]                  \n",
      "__________________________________________________________________________________________________\n",
      "add_6 (Add)                     (None, 1024)         0           input_12[0][0]                   \n",
      "                                                                 flatten_3[0][0]                  \n",
      "__________________________________________________________________________________________________\n",
      "dense_1 (Dense)                 (None, 64)           65600       add_6[0][0]                      \n",
      "__________________________________________________________________________________________________\n",
      "dense_2 (Dense)                 (None, 2)            130         dense_1[0][0]                    \n",
      "__________________________________________________________________________________________________\n",
      "activation_6 (Activation)       (None, 2)            0           dense_2[0][0]                    \n",
      "==================================================================================================\n",
      "Total params: 158,978\n",
      "Trainable params: 158,978\n",
      "Non-trainable params: 0\n",
      "__________________________________________________________________________________________________\n"
     ]
    }
   ],
   "source": [
    "model.summary()"
   ]
  },
  {
   "cell_type": "code",
   "execution_count": 89,
   "metadata": {},
   "outputs": [
    {
     "name": "stdout",
     "output_type": "stream",
     "text": [
      "4413/4413 [==============================] - 3s 654us/step\n",
      "Train score: 0.082554457009\n",
      "Train accuracy: 0.972014502484\n"
     ]
    }
   ],
   "source": [
    "# model.load_weights(filepath = '.mdl_wts.hdf5')\n",
    "score = model.evaluate([Xtrain,Xinc], to_categorical(Ytrain), verbose=1)\n",
    "print('Train score:', score[0])\n",
    "print('Train accuracy:', score[1])\n",
    "\n",
    "df_test = pd.read_json(os.path.join(data_dir, 'test.json'))\n",
    "df_test.inc_angle = df_test.inc_angle.replace('na',0)\n",
    "Xtest = (get_scaled_imgs(df_test))\n",
    "Xtest_inc = df_test.inc_angle\n",
    "pred_test = model.predict([Xtest,Xtest_inc])\n"
   ]
  },
  {
   "cell_type": "code",
   "execution_count": 107,
   "metadata": {},
   "outputs": [
    {
     "data": {
      "text/plain": [
       "0.9525063"
      ]
     },
     "execution_count": 107,
     "metadata": {},
     "output_type": "execute_result"
    }
   ],
   "source": [
    "pred_test[1,1]"
   ]
  },
  {
   "cell_type": "code",
   "execution_count": 106,
   "metadata": {},
   "outputs": [
    {
     "data": {
      "text/plain": [
       "0.89999998"
      ]
     },
     "execution_count": 106,
     "metadata": {},
     "output_type": "execute_result"
    }
   ],
   "source": [
    "# submit_nums = np.clip(pred_test[:,1], 0.1, 0.9)\n",
    "submit_nums[1]"
   ]
  },
  {
   "cell_type": "code",
   "execution_count": 109,
   "metadata": {},
   "outputs": [
    {
     "name": "stdout",
     "output_type": "stream",
     "text": [
      "         id  is_iceberg\n",
      "0  5941774d    0.001687\n",
      "1  4023181e    0.952506\n",
      "2  b20200e4    0.778264\n",
      "3  e7f018bb    0.997760\n",
      "4  4371c8c3    0.273599\n",
      "5  a8d9b1fd    0.829154\n",
      "6  29e7727e    0.055702\n",
      "7  92a51ffb    0.998996\n",
      "8  c769ac97    0.000014\n",
      "9  aee0547d    0.000027\n"
     ]
    }
   ],
   "source": [
    "submission = pd.DataFrame({'id': df_test[\"id\"], 'is_iceberg': pred_test[:,1].reshape((pred_test[:,1].shape[0]))})\n",
    "print(submission.head(10))\n",
    "\n",
    "submission.to_csv('cnn_train_' + str(np.around(score[1], decimals=2))  + '.csv', index=False)"
   ]
  },
  {
   "cell_type": "code",
   "execution_count": 92,
   "metadata": {},
   "outputs": [
    {
     "data": {
      "text/plain": [
       "(8424, 4)"
      ]
     },
     "execution_count": 92,
     "metadata": {},
     "output_type": "execute_result"
    }
   ],
   "source": [
    "df_test.shape"
   ]
  },
  {
   "cell_type": "code",
   "execution_count": 114,
   "metadata": {},
   "outputs": [
    {
     "name": "stdout",
     "output_type": "stream",
     "text": [
      "4413/4413 [==============================] - 3s 600us/step\n"
     ]
    },
    {
     "data": {
      "text/plain": [
       "[0.13649047835023664, 0.95014729196998826]"
      ]
     },
     "execution_count": 114,
     "metadata": {},
     "output_type": "execute_result"
    }
   ],
   "source": [
    "model.evaluate([Xtrain,Xinc], to_categorical(Ytrain), verbose=1)"
   ]
  },
  {
   "cell_type": "code",
   "execution_count": null,
   "metadata": {
    "collapsed": true
   },
   "outputs": [],
   "source": []
  }
 ],
 "metadata": {
  "kernelspec": {
   "display_name": "Python 3",
   "language": "python",
   "name": "python3"
  },
  "language_info": {
   "codemirror_mode": {
    "name": "ipython",
    "version": 3
   },
   "file_extension": ".py",
   "mimetype": "text/x-python",
   "name": "python",
   "nbconvert_exporter": "python",
   "pygments_lexer": "ipython3",
   "version": "3.4.3"
  }
 },
 "nbformat": 4,
 "nbformat_minor": 2
}
