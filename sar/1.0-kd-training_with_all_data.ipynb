{
 "cells": [
  {
   "cell_type": "code",
   "execution_count": 4,
   "metadata": {},
   "outputs": [
    {
     "name": "stdout",
     "output_type": "stream",
     "text": [
      "/home/ubuntu/data/sar/training_crops/train/other\n"
     ]
    }
   ],
   "source": [
    "# # used to make the validation data - commented so do not run again. \n",
    "import numpy as np\n",
    "import glob\n",
    "from shutil import move\n",
    "from shutil import copyfile\n",
    "\n",
    "%cd /home/ubuntu/data/sar/training_crops/train/other/\n",
    "g = glob.glob('*.png')\n",
    "shuf = np.random.permutation(g)\n",
    "for i in range(820): move(shuf[i], '/home/ubuntu/data/sar/training_crops/valid/' +'/other/' + shuf[i])"
   ]
  },
  {
   "cell_type": "code",
   "execution_count": null,
   "metadata": {
    "collapsed": true
   },
   "outputs": [],
   "source": []
  }
 ],
 "metadata": {
  "kernelspec": {
   "display_name": "Python 3",
   "language": "python",
   "name": "python3"
  },
  "language_info": {
   "codemirror_mode": {
    "name": "ipython",
    "version": 3
   },
   "file_extension": ".py",
   "mimetype": "text/x-python",
   "name": "python",
   "nbconvert_exporter": "python",
   "pygments_lexer": "ipython3",
   "version": "3.4.3"
  }
 },
 "nbformat": 4,
 "nbformat_minor": 2
}
