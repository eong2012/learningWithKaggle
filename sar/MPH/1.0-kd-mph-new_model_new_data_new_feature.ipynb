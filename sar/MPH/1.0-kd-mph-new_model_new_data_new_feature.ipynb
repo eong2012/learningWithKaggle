{
 "cells": [
  {
   "cell_type": "code",
   "execution_count": 44,
   "metadata": {},
   "outputs": [
    {
     "name": "stdout",
     "output_type": "stream",
     "text": [
      "2.0.5\n"
     ]
    }
   ],
   "source": [
    "import matplotlib.pyplot as plt \n",
    "#import scipy.misc\n",
    "import numpy as np\n",
    "import json\n",
    "from scipy import misc\n",
    "\n",
    "from keras.layers import Dense, Dropout, Flatten, Input, Conv2D, Cropping2D, Concatenate\n",
    "\n",
    "from keras.layers import MaxPooling2D, ZeroPadding2D, BatchNormalization\n",
    "from keras.models import Model\n",
    "from keras.utils.layer_utils import print_summary\n",
    "from keras.preprocessing.image import ImageDataGenerator\n",
    "\n",
    "from keras import __version__\n",
    "print(__version__)"
   ]
  },
  {
   "cell_type": "code",
   "execution_count": null,
   "metadata": {
    "collapsed": true
   },
   "outputs": [],
   "source": [
    "train_folder = '/home/ubuntu/data/sar/experiment_crops/exp/train'\n",
    "valid_folder = '/home/ubuntu/data/sar/experiment_crops/exp/valid'\n"
   ]
  },
  {
   "cell_type": "code",
   "execution_count": 57,
   "metadata": {},
   "outputs": [],
   "source": [
    "main_shape = (140, 140 ,1)\n",
    "aux_shape = (1, 1, 1)\n",
    "main_input = Input(shape=main_shape, name='main_input')\n",
    "\n",
    "aux_input = Input(shape=aux_shape, name='aux_input')\n",
    "x2 = Dense(1, activation='relu')(aux_input)\n",
    "\n",
    "num_classes = 3\n",
    "\n",
    "x = Cropping2D(cropping=((10, 10), (10, 10)))(main_input)\n",
    "x = Conv2D(32, (3, 3), activation='relu', padding='same')(x)\n",
    "x = MaxPooling2D()(x)\n",
    "x = Conv2D(64, (3, 3), activation='relu', padding='same')(x)\n",
    "x = MaxPooling2D()(x)\n",
    "x = Conv2D(64, (3, 3), activation='relu', padding='same')(x)\n",
    "x = Flatten()(x)\n",
    "\n",
    "added = keras.layers.Add()([x, x2])\n",
    "out = Dense(num_classes, activation='softmax')(added)\n",
    "\n",
    "\n",
    "model = keras.models.Model(inputs=[main_input, aux_input], outputs=out)\n"
   ]
  },
  {
   "cell_type": "code",
   "execution_count": 58,
   "metadata": {},
   "outputs": [
    {
     "name": "stdout",
     "output_type": "stream",
     "text": [
      "____________________________________________________________________________________________________\n",
      "Layer (type)                     Output Shape          Param #     Connected to                     \n",
      "====================================================================================================\n",
      "main_input (InputLayer)          (None, 140, 140, 1)   0                                            \n",
      "____________________________________________________________________________________________________\n",
      "cropping2d_6 (Cropping2D)        (None, 120, 120, 1)   0           main_input[0][0]                 \n",
      "____________________________________________________________________________________________________\n",
      "conv2d_20 (Conv2D)               (None, 120, 120, 32)  320         cropping2d_6[0][0]               \n",
      "____________________________________________________________________________________________________\n",
      "max_pooling2d_9 (MaxPooling2D)   (None, 60, 60, 32)    0           conv2d_20[0][0]                  \n",
      "____________________________________________________________________________________________________\n",
      "conv2d_21 (Conv2D)               (None, 60, 60, 64)    18496       max_pooling2d_9[0][0]            \n",
      "____________________________________________________________________________________________________\n",
      "max_pooling2d_10 (MaxPooling2D)  (None, 30, 30, 64)    0           conv2d_21[0][0]                  \n",
      "____________________________________________________________________________________________________\n",
      "conv2d_22 (Conv2D)               (None, 30, 30, 64)    36928       max_pooling2d_10[0][0]           \n",
      "____________________________________________________________________________________________________\n",
      "aux_input (InputLayer)           (None, 1, 1, 1)       0                                            \n",
      "____________________________________________________________________________________________________\n",
      "flatten_5 (Flatten)              (None, 57600)         0           conv2d_22[0][0]                  \n",
      "____________________________________________________________________________________________________\n",
      "dense_18 (Dense)                 (None, 1, 1, 1)       2           aux_input[0][0]                  \n",
      "____________________________________________________________________________________________________\n",
      "add_6 (Add)                      (None, 1, 1, 57600)   0           flatten_5[0][0]                  \n",
      "                                                                   dense_18[0][0]                   \n",
      "____________________________________________________________________________________________________\n",
      "dense_19 (Dense)                 (None, 1, 1, 3)       172803      add_6[0][0]                      \n",
      "====================================================================================================\n",
      "Total params: 228,549\n",
      "Trainable params: 228,549\n",
      "Non-trainable params: 0\n",
      "____________________________________________________________________________________________________\n"
     ]
    }
   ],
   "source": [
    "model.summary()\n"
   ]
  },
  {
   "cell_type": "code",
   "execution_count": 56,
   "metadata": {
    "collapsed": true
   },
   "outputs": [],
   "source": [
    "from keras.utils import plot_model\n",
    "plot_model(model, to_file='model.png')"
   ]
  },
  {
   "cell_type": "code",
   "execution_count": 99,
   "metadata": {},
   "outputs": [],
   "source": [
    "import json\n",
    "\n",
    "with open('/home/ubuntu/data/sar/experiment_crops/train/oil.json') as json_data:\n",
    "    oil_json = json.load(json_data)\n",
    "    json_data.close()\n",
    "    \n",
    "with open('/home/ubuntu/data/sar/experiment_crops/train/turbine.json') as json_data:\n",
    "    turbine_json = json.load(json_data)\n",
    "    json_data.close()\n",
    "    \n",
    "with open('/home/ubuntu/data/sar/experiment_crops/train/other.json') as json_data:\n",
    "    other_json = json.load(json_data)\n",
    "    json_data.close()\n",
    "    \n",
    "all_json = list(other_json.items()) + list(oil_json.items()) + list(turbine_json.items())"
   ]
  },
  {
   "cell_type": "code",
   "execution_count": null,
   "metadata": {},
   "outputs": [],
   "source": [
    "\n",
    "# I think I found the bit that Andrew did.. not sure if we should do it that way but the links are here:    \n",
    "\"\"\" Based heavily on:\n",
    "https://shaoanlu.wordpress.com/2017/04/10/a-simple-pseudo-labeling-function-implementation-in-keras/\n",
    "https://github.com/shaoanlu/dogs-vs-cats-redux/blob/master/res50_incepV3_Xcept.ipynb\n",
    "https://github.com/asmith26/learningWithKaggle/blob/master/as/the-nature-conservancy-fisheries-monitoring_v1-keras2-pseudo_labelling.ipynb\n",
    "\"\"\"\n",
    "\n",
    "# I would try doing the .fit which is all the data as you suggested, you need to make sure the data is ordered correctly, \n",
    "# then pass it into the following. \n",
    "# I think this needs to have the shapes ([(num_images, 140, 140, 1), (num_images, 1)], (num_images, 1))\n",
    "model.fit([img, features], label)         "
   ]
  },
  {
   "cell_type": "code",
   "execution_count": null,
   "metadata": {
    "collapsed": true
   },
   "outputs": [],
   "source": []
  }
 ],
 "metadata": {
  "kernelspec": {
   "display_name": "Python 2",
   "language": "python",
   "name": "python2"
  },
  "language_info": {
   "codemirror_mode": {
    "name": "ipython",
    "version": 2
   },
   "file_extension": ".py",
   "mimetype": "text/x-python",
   "name": "python",
   "nbconvert_exporter": "python",
   "pygments_lexer": "ipython2",
   "version": "2.7.6"
  }
 },
 "nbformat": 4,
 "nbformat_minor": 2
}
