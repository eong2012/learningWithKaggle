{
 "cells": [
  {
   "cell_type": "code",
   "execution_count": 2,
   "metadata": {
    "collapsed": true
   },
   "outputs": [],
   "source": [
    "import matplotlib.pyplot as plt\n",
    "import cv2\n",
    "import os\n",
    "import glob\n",
    "from IPython.display import display, Image\n",
    "import skimage.io\n",
    "import numpy as np\n",
    "import tifffile as t\n",
    "import rasterio\n",
    "import scipy.misc\n"
   ]
  },
  {
   "cell_type": "code",
   "execution_count": 16,
   "metadata": {
    "collapsed": true
   },
   "outputs": [],
   "source": [
    "def list_files(startpath):\n",
    "    print startpath, len([item for item in os.listdir(startpath)])"
   ]
  },
  {
   "cell_type": "code",
   "execution_count": 38,
   "metadata": {},
   "outputs": [
    {
     "name": "stdout",
     "output_type": "stream",
     "text": [
      "\n"
     ]
    }
   ],
   "source": [
    "def convert_files(startpath, endpath):\n",
    "    print startpath, len([item for item in os.listdir(startpath)])\n",
    "    count = 0\n",
    "    for filename in os.listdir (startpath):\n",
    "        data_path = os.path.join(startpath, filename)    \n",
    "        with rasterio.open(data_path, mode=\"r\") as raster:\n",
    "            img_array = raster.read(1)\n",
    "        count +=1\n",
    "#     plt.imshow(img_array)\n",
    "#     plt.show()\n",
    "        out_path = endpath + filename\n",
    "        cd \n",
    "        scipy.misc.imsave(out_path, img_array)\n",
    "    \n",
    "    print endpath, count, len([item for item in os.listdir(endpath)])\n"
   ]
  },
  {
   "cell_type": "code",
   "execution_count": 39,
   "metadata": {
    "collapsed": true
   },
   "outputs": [],
   "source": [
    "def display_rnd_image(startpath):\n",
    "    rand_img = np.random.choice(glob.glob(startpath + '/*.png'))\n",
    "    print rand_img\n",
    "    img = cv2.imread(rand_img)\n",
    "    plt.imshow(img)\n",
    "    plt.show()\n",
    "    "
   ]
  },
  {
   "cell_type": "code",
   "execution_count": 44,
   "metadata": {},
   "outputs": [
    {
     "name": "stdout",
     "output_type": "stream",
     "text": [
      "/home/ubuntu/data/sar/experiment_crops/train/oil/crops_oil_50x50 500\n",
      "/home/ubuntu/data/sar/experiment_crops/train/other/crops_other_50x50 500\n",
      "/home/ubuntu/data/sar/experiment_crops/train/turbine/crops_turbine_50x50 1000\n",
      "/home/ubuntu/data/sar/experiment_crops/validate/oil/crops_oil_50x50 125\n",
      "/home/ubuntu/data/sar/experiment_crops/validate/other/crops_other_50x50 125\n",
      "/home/ubuntu/data/sar/experiment_crops/validate/turbine/crops_turbine_50x50 250\n"
     ]
    }
   ],
   "source": [
    "root_folder = '/home/ubuntu/data/sar/experiment_crops'\n",
    "list_files(root_folder + \"/train/oil/crops_oil_50x50\")\n",
    "list_files(root_folder + \"/train/other/crops_other_50x50\")\n",
    "list_files(root_folder + \"/train/turbine/crops_turbine_50x50\")\n",
    "list_files(root_folder + \"/validate/oil/crops_oil_50x50\")\n",
    "list_files(root_folder + \"/validate/other/crops_other_50x50\")\n",
    "list_files(root_folder + \"/validate/turbine/crops_turbine_50x50\")"
   ]
  },
  {
   "cell_type": "code",
   "execution_count": 45,
   "metadata": {},
   "outputs": [
    {
     "name": "stdout",
     "output_type": "stream",
     "text": [
      "/home/ubuntu/data/sar/experiment_crops/train/oil/crops_oil_50x50 500\n",
      "/home/ubuntu/data/sar/experiment_crops/exp/train/oil/ 500 500\n",
      "/home/ubuntu/data/sar/experiment_crops/train/other/crops_other_50x50 500\n",
      "/home/ubuntu/data/sar/experiment_crops/exp/train/other/ 500 500\n",
      "/home/ubuntu/data/sar/experiment_crops/train/turbine/crops_turbine_50x50 1000\n",
      "/home/ubuntu/data/sar/experiment_crops/exp/train/turbine/ 1000 1000\n",
      "/home/ubuntu/data/sar/experiment_crops/validate/oil/crops_oil_50x50 125\n",
      "/home/ubuntu/data/sar/experiment_crops/exp/valid/oil/ 125 125\n",
      "/home/ubuntu/data/sar/experiment_crops/validate/other/crops_other_50x50 125\n",
      "/home/ubuntu/data/sar/experiment_crops/exp/valid/other/ 125 125\n",
      "/home/ubuntu/data/sar/experiment_crops/validate/turbine/crops_turbine_50x50 250\n",
      "/home/ubuntu/data/sar/experiment_crops/exp/valid/turbine/ 250 250\n"
     ]
    }
   ],
   "source": [
    "convert_files(root_folder + \"/train/oil/crops_oil_50x50\", root_folder + \"/exp/train/oil/\")\n",
    "convert_files(root_folder + \"/train/other/crops_other_50x50\", root_folder + \"/exp/train/other/\")\n",
    "convert_files(root_folder + \"/train/turbine/crops_turbine_50x50\", root_folder + \"/exp/train/turbine/\")\n",
    "convert_files(root_folder + \"/validate/oil/crops_oil_50x50\", root_folder + \"/exp/valid/oil/\")\n",
    "convert_files(root_folder + \"/validate/other/crops_other_50x50\", root_folder + \"/exp/valid/other/\")\n",
    "convert_files(root_folder + \"/validate/turbine/crops_turbine_50x50\", root_folder + \"/exp/valid/turbine/\")"
   ]
  },
  {
   "cell_type": "code",
   "execution_count": 46,
   "metadata": {},
   "outputs": [
    {
     "name": "stdout",
     "output_type": "stream",
     "text": [
      "/home/ubuntu/data/sar/experiment_crops/exp/train/oil/S1A_IW_GRDH_1SDV_20170217T143241_20170217T143306_015325_0191FC_7792_terrain_correction_266.png\n"
     ]
    },
    {
     "data": {
      "image/png": "[encoded data removed]",
      "text/plain": [
       "<matplotlib.figure.Figure at 0x7f7e30c0b450>"
      ]
     },
     "metadata": {},
     "output_type": "display_data"
    },
    {
     "name": "stdout",
     "output_type": "stream",
     "text": [
      "/home/ubuntu/data/sar/experiment_crops/exp/train/other/S1A_IW_GRDH_1SDV_20170424T110608_20170424T110637_016285_01AF0A_B2F9_terrain_correction_41.png\n"
     ]
    },
    {
     "data": {
      "image/png": "[encoded data removed]",
      "text/plain": [
       "<matplotlib.figure.Figure at 0x7f7e30b8ac10>"
      ]
     },
     "metadata": {},
     "output_type": "display_data"
    },
    {
     "name": "stdout",
     "output_type": "stream",
     "text": [
      "/home/ubuntu/data/sar/experiment_crops/exp/train/turbine/S1A_IW_GRDH_1SDV_20170504T061401_20170504T061426_016428_01B358_C813_terrain_correction_203.png\n"
     ]
    },
    {
     "data": {
      "image/png": "[encoded data removed]",
      "text/plain": [
       "<matplotlib.figure.Figure at 0x7f7e30abc3d0>"
      ]
     },
     "metadata": {},
     "output_type": "display_data"
    },
    {
     "name": "stdout",
     "output_type": "stream",
     "text": [
      "/home/ubuntu/data/sar/experiment_crops/exp/valid/oil/S1A_IW_GRDH_1SDV_20170518T055740_20170518T055805_016632_01B98C_382D_terrain_correction_34.png\n"
     ]
    },
    {
     "data": {
      "image/png": "[encoded data removed]",
      "text/plain": [
       "<matplotlib.figure.Figure at 0x7f7e309e4990>"
      ]
     },
     "metadata": {},
     "output_type": "display_data"
    },
    {
     "name": "stdout",
     "output_type": "stream",
     "text": [
      "/home/ubuntu/data/sar/experiment_crops/exp/valid/other/S1A_IW_GRDH_1SDV_20170719T040549_20170719T040614_017535_01D533_D6AB_terrain_correction_95.png\n"
     ]
    },
    {
     "data": {
      "image/png": "[encoded data removed]",
      "text/plain": [
       "<matplotlib.figure.Figure at 0x7f7e309e4a90>"
      ]
     },
     "metadata": {},
     "output_type": "display_data"
    },
    {
     "name": "stdout",
     "output_type": "stream",
     "text": [
      "/home/ubuntu/data/sar/experiment_crops/exp/valid/turbine/S1A_IW_GRDH_1SDV_20170511T060622_20170511T060647_016530_01B665_156D_terrain_correction_477.png\n"
     ]
    },
    {
     "data": {
      "image/png": "[encoded data removed]",
      "text/plain": [
       "<matplotlib.figure.Figure at 0x7f7e30ce2790>"
      ]
     },
     "metadata": {},
     "output_type": "display_data"
    }
   ],
   "source": [
    "display_rnd_image(root_folder + \"/exp/train/oil/\")\n",
    "display_rnd_image(root_folder + \"/exp/train/other/\")\n",
    "display_rnd_image(root_folder + \"/exp/train/turbine/\")\n",
    "display_rnd_image(root_folder + \"/exp/valid/oil/\")\n",
    "display_rnd_image(root_folder + \"/exp/valid/other/\")\n",
    "display_rnd_image(root_folder + \"/exp/valid/turbine/\")"
   ]
  },
  {
   "cell_type": "code",
   "execution_count": null,
   "metadata": {
    "collapsed": true
   },
   "outputs": [],
   "source": []
  }
 ],
 "metadata": {
  "kernelspec": {
   "display_name": "Python 2",
   "language": "python",
   "name": "python2"
  },
  "language_info": {
   "codemirror_mode": {
    "name": "ipython",
    "version": 2
   },
   "file_extension": ".py",
   "mimetype": "text/x-python",
   "name": "python",
   "nbconvert_exporter": "python",
   "pygments_lexer": "ipython2",
   "version": "2.7.6"
  }
 },
 "nbformat": 4,
 "nbformat_minor": 2
}
