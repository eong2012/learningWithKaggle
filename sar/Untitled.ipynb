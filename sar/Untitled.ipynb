{
 "cells": [
  {
   "cell_type": "code",
   "execution_count": 5,
   "metadata": {},
   "outputs": [],
   "source": [
    "import matplotlib.pyplot as plt\n",
    "import shapely.geometry as geom\n",
    "import numpy as np\n",
    "import geopandas as gpd\n",
    "from shapely.geometry import mapping, Point, shape, LinearRing, Polygon\n",
    "from geopy.distance import vincenty\n",
    "\n",
    "import glob\n",
    "import os\n",
    "import json\n",
    "import rasterio\n",
    "from affine import Affine\n",
    "\n",
    "from shapely import speedups\n",
    "speedups.enable()"
   ]
  },
  {
   "cell_type": "code",
   "execution_count": 6,
   "metadata": {
    "collapsed": true
   },
   "outputs": [],
   "source": [
    "DIR = \"/home/ubuntu/data/sar/experiment_crops/train/turbine\"\n",
    "LAND_BORDERS_PATH = \"/home/ubuntu/data/sar/land_polygon/20170803_OSM_Polygons_NoHoles.shp\""
   ]
  },
  {
   "cell_type": "code",
   "execution_count": null,
   "metadata": {
    "collapsed": true
   },
   "outputs": [],
   "source": [
    "polygons = gpd.read_file(LAND_BORDERS_PATH)\n",
    "polys = polygons.geometry"
   ]
  }
 ],
 "metadata": {
  "kernelspec": {
   "display_name": "Python 3",
   "language": "python",
   "name": "python3"
  },
  "language_info": {
   "codemirror_mode": {
    "name": "ipython",
    "version": 3
   },
   "file_extension": ".py",
   "mimetype": "text/x-python",
   "name": "python",
   "nbconvert_exporter": "python",
   "pygments_lexer": "ipython3",
   "version": "3.4.3"
  }
 },
 "nbformat": 4,
 "nbformat_minor": 2
}
