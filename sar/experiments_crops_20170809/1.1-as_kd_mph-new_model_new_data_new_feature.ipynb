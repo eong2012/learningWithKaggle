{
 "cells": [
  {
   "cell_type": "code",
   "execution_count": 1,
   "metadata": {},
   "outputs": [
    {
     "name": "stderr",
     "output_type": "stream",
     "text": [
      "Using TensorFlow backend.\n"
     ]
    },
    {
     "name": "stdout",
     "output_type": "stream",
     "text": [
      "2.0.5\n"
     ]
    }
   ],
   "source": [
    "import matplotlib.pyplot as plt \n",
    "#import scipy.misc\n",
    "import numpy as np\n",
    "import json\n",
    "from scipy import misc\n",
    "from scipy.misc import imread\n",
    "\n",
    "import keras\n",
    "\n",
    "from keras.layers import Dense, Dropout, Flatten, Input, Conv2D, Cropping2D, Concatenate\n",
    "from keras.layers import MaxPooling2D, ZeroPadding2D, BatchNormalization, Add, merge, concatenate\n",
    "from keras.models import Model\n",
    "from keras.utils.layer_utils import print_summary\n",
    "from keras.preprocessing.image import ImageDataGenerator\n",
    "\n",
    "from keras import __version__\n",
    "print(__version__)"
   ]
  },
  {
   "cell_type": "code",
   "execution_count": 2,
   "metadata": {
    "collapsed": true
   },
   "outputs": [],
   "source": [
    "train_folder = '/home/ubuntu/data/sar/experiment_crops_20170809/train'\n",
    "valid_folder = '/home/ubuntu/data/sar/experiment_crops_20170809/validate'\n"
   ]
  },
  {
   "cell_type": "code",
   "execution_count": 4,
   "metadata": {},
   "outputs": [
    {
     "name": "stderr",
     "output_type": "stream",
     "text": [
      "/usr/local/lib/python2.7/dist-packages/ipykernel_launcher.py:19: UserWarning: The `merge` function is deprecated and will be removed after 08/2017. Use instead layers from `keras.layers.merge`, e.g. `add`, `concatenate`, etc.\n",
      "/usr/local/lib/python2.7/dist-packages/keras/legacy/layers.py:460: UserWarning: The `Merge` layer is deprecated and will be removed after 08/2017. Use instead layers from `keras.layers.merge`, e.g. `add`, `concatenate`, etc.\n",
      "  name=name)\n"
     ]
    },
    {
     "ename": "ValueError",
     "evalue": "Only layers of same output shape can be merged using sum mode. Layer shapes: [(None, 3136), (None, 1, 1)]",
     "output_type": "error",
     "traceback": [
      "\u001b[0;31m\u001b[0m",
      "\u001b[0;31mValueError\u001b[0mTraceback (most recent call last)",
      "\u001b[0;32m<ipython-input-4-571f535cf3af>\u001b[0m in \u001b[0;36m<module>\u001b[0;34m()\u001b[0m\n\u001b[1;32m     17\u001b[0m \u001b[0mx\u001b[0m \u001b[0;34m=\u001b[0m \u001b[0mFlatten\u001b[0m\u001b[0;34m(\u001b[0m\u001b[0;34m)\u001b[0m\u001b[0;34m(\u001b[0m\u001b[0mx\u001b[0m\u001b[0;34m)\u001b[0m\u001b[0;34m\u001b[0m\u001b[0m\n\u001b[1;32m     18\u001b[0m \u001b[0;34m\u001b[0m\u001b[0m\n\u001b[0;32m---> 19\u001b[0;31m \u001b[0madded\u001b[0m \u001b[0;34m=\u001b[0m \u001b[0mkeras\u001b[0m\u001b[0;34m.\u001b[0m\u001b[0mlayers\u001b[0m\u001b[0;34m.\u001b[0m\u001b[0mmerge\u001b[0m\u001b[0;34m(\u001b[0m\u001b[0;34m[\u001b[0m\u001b[0mx\u001b[0m\u001b[0;34m,\u001b[0m \u001b[0mx2\u001b[0m\u001b[0;34m]\u001b[0m\u001b[0;34m)\u001b[0m\u001b[0;34m\u001b[0m\u001b[0m\n\u001b[0m\u001b[1;32m     20\u001b[0m \u001b[0;34m\u001b[0m\u001b[0m\n\u001b[1;32m     21\u001b[0m \u001b[0;34m(\u001b[0m\u001b[0;34m[\u001b[0m\u001b[0mx\u001b[0m\u001b[0;34m,\u001b[0m \u001b[0mx2\u001b[0m\u001b[0;34m]\u001b[0m\u001b[0;34m)\u001b[0m\u001b[0;34m\u001b[0m\u001b[0m\n",
      "\u001b[0;32m/usr/local/lib/python2.7/dist-packages/keras/legacy/layers.pyc\u001b[0m in \u001b[0;36mmerge\u001b[0;34m(inputs, mode, concat_axis, dot_axes, output_shape, output_mask, arguments, name)\u001b[0m\n\u001b[1;32m    458\u001b[0m                             \u001b[0mnode_indices\u001b[0m\u001b[0;34m=\u001b[0m\u001b[0mnode_indices\u001b[0m\u001b[0;34m,\u001b[0m\u001b[0;34m\u001b[0m\u001b[0m\n\u001b[1;32m    459\u001b[0m                             \u001b[0mtensor_indices\u001b[0m\u001b[0;34m=\u001b[0m\u001b[0mtensor_indices\u001b[0m\u001b[0;34m,\u001b[0m\u001b[0;34m\u001b[0m\u001b[0m\n\u001b[0;32m--> 460\u001b[0;31m                             name=name)\n\u001b[0m\u001b[1;32m    461\u001b[0m         \u001b[0;32mreturn\u001b[0m \u001b[0mmerge_layer\u001b[0m\u001b[0;34m.\u001b[0m\u001b[0minbound_nodes\u001b[0m\u001b[0;34m[\u001b[0m\u001b[0;36m0\u001b[0m\u001b[0;34m]\u001b[0m\u001b[0;34m.\u001b[0m\u001b[0moutput_tensors\u001b[0m\u001b[0;34m[\u001b[0m\u001b[0;36m0\u001b[0m\u001b[0;34m]\u001b[0m\u001b[0;34m\u001b[0m\u001b[0m\n\u001b[1;32m    462\u001b[0m     \u001b[0;32melse\u001b[0m\u001b[0;34m:\u001b[0m\u001b[0;34m\u001b[0m\u001b[0m\n",
      "\u001b[0;32m/usr/local/lib/python2.7/dist-packages/keras/legacy/layers.pyc\u001b[0m in \u001b[0;36m__init__\u001b[0;34m(self, layers, mode, concat_axis, dot_axes, output_shape, output_mask, arguments, node_indices, tensor_indices, name)\u001b[0m\n\u001b[1;32m    109\u001b[0m             self._arguments_validation(layers, mode,\n\u001b[1;32m    110\u001b[0m                                        \u001b[0mconcat_axis\u001b[0m\u001b[0;34m,\u001b[0m \u001b[0mdot_axes\u001b[0m\u001b[0;34m,\u001b[0m\u001b[0;34m\u001b[0m\u001b[0m\n\u001b[0;32m--> 111\u001b[0;31m                                        node_indices, tensor_indices)\n\u001b[0m\u001b[1;32m    112\u001b[0m             \u001b[0mself\u001b[0m\u001b[0;34m.\u001b[0m\u001b[0mbuilt\u001b[0m \u001b[0;34m=\u001b[0m \u001b[0mTrue\u001b[0m\u001b[0;34m\u001b[0m\u001b[0m\n\u001b[1;32m    113\u001b[0m             \u001b[0minput_tensors\u001b[0m \u001b[0;34m=\u001b[0m \u001b[0;34m[\u001b[0m\u001b[0;34m]\u001b[0m\u001b[0;34m\u001b[0m\u001b[0m\n",
      "\u001b[0;32m/usr/local/lib/python2.7/dist-packages/keras/legacy/layers.pyc\u001b[0m in \u001b[0;36m_arguments_validation\u001b[0;34m(self, layers, mode, concat_axis, dot_axes, node_indices, tensor_indices)\u001b[0m\n\u001b[1;32m    153\u001b[0m                 raise ValueError('Only layers of same output shape can '\n\u001b[1;32m    154\u001b[0m                                  \u001b[0;34m'be merged using '\u001b[0m \u001b[0;34m+\u001b[0m \u001b[0mmode\u001b[0m \u001b[0;34m+\u001b[0m \u001b[0;34m' mode. '\u001b[0m \u001b[0;34m+\u001b[0m\u001b[0;34m\u001b[0m\u001b[0m\n\u001b[0;32m--> 155\u001b[0;31m                                  'Layer shapes: %s' % input_shapes)\n\u001b[0m\u001b[1;32m    156\u001b[0m         \u001b[0;32mif\u001b[0m \u001b[0mmode\u001b[0m \u001b[0;32min\u001b[0m \u001b[0;34m{\u001b[0m\u001b[0;34m'cos'\u001b[0m\u001b[0;34m,\u001b[0m \u001b[0;34m'dot'\u001b[0m\u001b[0;34m}\u001b[0m\u001b[0;34m:\u001b[0m\u001b[0;34m\u001b[0m\u001b[0m\n\u001b[1;32m    157\u001b[0m             \u001b[0;32mif\u001b[0m \u001b[0mlen\u001b[0m\u001b[0;34m(\u001b[0m\u001b[0mlayers\u001b[0m\u001b[0;34m)\u001b[0m \u001b[0;34m>\u001b[0m \u001b[0;36m2\u001b[0m\u001b[0;34m:\u001b[0m\u001b[0;34m\u001b[0m\u001b[0m\n",
      "\u001b[0;31mValueError\u001b[0m: Only layers of same output shape can be merged using sum mode. Layer shapes: [(None, 3136), (None, 1, 1)]"
     ]
    }
   ],
   "source": [
    "main_shape = (50, 50 ,1)\n",
    "aux_shape = (1,1)\n",
    "\n",
    "main_input = Input(shape=main_shape, name='main_input')\n",
    "\n",
    "aux_input = Input(shape=aux_shape, name='aux_input')\n",
    "x2 = Dense(1, activation='relu')(aux_input)\n",
    "\n",
    "num_classes = 3\n",
    "\n",
    "x = Cropping2D(cropping=((10, 10), (10, 10)))(main_input)\n",
    "x = Conv2D(32, (3, 3), activation='relu', padding='same')(x)\n",
    "x = MaxPooling2D()(x)\n",
    "x = Conv2D(64, (3, 3), activation='relu', padding='same')(x)\n",
    "x = MaxPooling2D()(x)\n",
    "x = Conv2D(64, (3, 3), activation='relu', padding='same')(x)\n",
    "x = Flatten()(x)\n",
    "\n",
    "added = keras.layers.merge([x, x2], mode=)\n",
    "\n",
    "([x, x2])\n",
    "#merged = keras.layers.merge([x, x2])\n",
    "\n",
    "# oncatenate(axis=-1)\n",
    "# Add([x, x2])\n",
    "# # ([x, x2])\n",
    "\n",
    "\n",
    "out = Dense(num_classes, activation='softmax')(added)\n",
    "model = keras.models.Model(inputs=[main_input, aux_input], outputs=out)\n",
    "\n",
    "model.compile(optimizer='rmsprop', loss='categorical_crossentropy', metrics=['accuracy'])"
   ]
  },
  {
   "cell_type": "code",
   "execution_count": 257,
   "metadata": {},
   "outputs": [
    {
     "data": {
      "text/plain": [
       "(None, 1, 3)"
      ]
     },
     "execution_count": 257,
     "metadata": {},
     "output_type": "execute_result"
    }
   ],
   "source": [
    "model.output_shape"
   ]
  },
  {
   "cell_type": "code",
   "execution_count": 258,
   "metadata": {},
   "outputs": [
    {
     "name": "stdout",
     "output_type": "stream",
     "text": [
      "(?, 50, 50, 1)\n",
      "(?, 1, 1)\n",
      "____________________________________________________________________________________________________\n",
      "Layer (type)                     Output Shape          Param #     Connected to                     \n",
      "====================================================================================================\n",
      "main_input (InputLayer)          (None, 50, 50, 1)     0                                            \n",
      "____________________________________________________________________________________________________\n",
      "cropping2d_37 (Cropping2D)       (None, 30, 30, 1)     0           main_input[0][0]                 \n",
      "____________________________________________________________________________________________________\n",
      "conv2d_106 (Conv2D)              (None, 30, 30, 32)    320         cropping2d_37[0][0]              \n",
      "____________________________________________________________________________________________________\n",
      "max_pooling2d_71 (MaxPooling2D)  (None, 15, 15, 32)    0           conv2d_106[0][0]                 \n",
      "____________________________________________________________________________________________________\n",
      "conv2d_107 (Conv2D)              (None, 15, 15, 64)    18496       max_pooling2d_71[0][0]           \n",
      "____________________________________________________________________________________________________\n",
      "max_pooling2d_72 (MaxPooling2D)  (None, 7, 7, 64)      0           conv2d_107[0][0]                 \n",
      "____________________________________________________________________________________________________\n",
      "conv2d_108 (Conv2D)              (None, 7, 7, 64)      36928       max_pooling2d_72[0][0]           \n",
      "____________________________________________________________________________________________________\n",
      "aux_input (InputLayer)           (None, 1, 1)          0                                            \n",
      "____________________________________________________________________________________________________\n",
      "flatten_37 (Flatten)             (None, 3136)          0           conv2d_108[0][0]                 \n",
      "____________________________________________________________________________________________________\n",
      "dense_53 (Dense)                 (None, 1, 1)          2           aux_input[0][0]                  \n",
      "____________________________________________________________________________________________________\n",
      "add_17 (Add)                     (None, 1, 3136)       0           flatten_37[0][0]                 \n",
      "                                                                   dense_53[0][0]                   \n",
      "____________________________________________________________________________________________________\n",
      "dense_54 (Dense)                 (None, 1, 3)          9411        add_17[0][0]                     \n",
      "====================================================================================================\n",
      "Total params: 65,157\n",
      "Trainable params: 65,157\n",
      "Non-trainable params: 0\n",
      "____________________________________________________________________________________________________\n"
     ]
    }
   ],
   "source": [
    "print main_input.shape\n",
    "print aux_input.shape\n",
    "model.summary()\n"
   ]
  },
  {
   "cell_type": "code",
   "execution_count": 259,
   "metadata": {
    "collapsed": true
   },
   "outputs": [],
   "source": [
    "from keras.utils import plot_model\n",
    "plot_model(model, to_file='/home/ubuntu/data/sar/experiment_crops_20170809/model.png')"
   ]
  },
  {
   "cell_type": "code",
   "execution_count": 260,
   "metadata": {
    "collapsed": true
   },
   "outputs": [],
   "source": [
    "import json"
   ]
  },
  {
   "cell_type": "code",
   "execution_count": 5,
   "metadata": {
    "collapsed": true
   },
   "outputs": [],
   "source": [
    "train_class = []           \n",
    "train_filename = []\n",
    "train_crops = []\n",
    "train_feature = []\n",
    "\n",
    "valid_class = []\n",
    "valid_filename = []\n",
    "valid_crops = []\n",
    "valid_feature = []\n",
    "\n",
    "train_class_desc = 'oil_and_gas_infrastructure'\n",
    "train_class_array = [1,0,0]\n",
    "with open('/home/ubuntu/data/sar/experiment_crops_20170809/train/oil_and_gas_infrastructure_train.json') as json_data:\n",
    "    json_train_data = json.load(json_data)\n",
    "    for id_, item in json_train_data.iteritems():\n",
    "        train_filename.append(id_)\n",
    "        train_feature.append(item['distance to land'])\n",
    "        train_class.append(train_class_array)\n",
    "        file_path = train_folder + '/' + train_class_desc + '/' + id_\n",
    "        img  = imread(file_path)\n",
    "        train_crops.append(img)\n",
    "\n",
    "train_class_array = [0,1,0]\n",
    "train_class_desc = 'turbine'  \n",
    "with open('/home/ubuntu/data/sar/experiment_crops_20170809/train/turbine_train.json') as json_data:\n",
    "    json_train_data = json.load(json_data)\n",
    "    for id_, item in json_train_data.iteritems():\n",
    "        train_filename.append(id_)\n",
    "        train_feature.append(item['distance to land'])\n",
    "        train_class.append(train_class_array)\n",
    "        file_path = train_folder + '/' + train_class_desc + '/' + id_\n",
    "        img  = imread(file_path)\n",
    "        train_crops.append(img)\n",
    "        \n",
    "train_class_array = [0,0,1]\n",
    "train_class_desc = 'other'  \n",
    "with open('/home/ubuntu/data/sar/experiment_crops_20170809/train/other_train.json') as json_data:\n",
    "    json_train_data = json.load(json_data)\n",
    "    for id_, item in json_train_data.iteritems():\n",
    "        train_filename.append(id_)\n",
    "        train_feature.append(item['distance to land'])\n",
    "        train_class.append(train_class_array)\n",
    "        file_path = train_folder + '/' + train_class_desc + '/' + id_\n",
    "        img  = imread(file_path)\n",
    "        train_crops.append(img)\n",
    "    \n",
    "valid_class_array = [1,0,0]\n",
    "valid_class_desc = 'oil_and_gas_infrastructure'  \n",
    "with open('/home/ubuntu/data/sar/experiment_crops_20170809/validate/oil_and_gas_infrastructure_validate.json') as json_data:\n",
    "    json_validation_data = json.load(json_data)\n",
    "    for id_, item in json_validation_data.iteritems():\n",
    "        valid_filename.append(id_)\n",
    "        valid_feature.append(item['distance to land'])\n",
    "        valid_class.append(valid_class_array)\n",
    "        file_path = valid_folder + '/' + valid_class_desc + '/' + id_\n",
    "        img  = imread(file_path)\n",
    "        valid_crops.append(img)\n",
    "        \n",
    "valid_class_array = [0,1,0]\n",
    "valid_class_desc = 'turbine'  \n",
    "with open('/home/ubuntu/data/sar/experiment_crops_20170809/validate/turbine_validate.json') as json_data:\n",
    "    json_validation_data = json.load(json_data)\n",
    "    for id_, item in json_validation_data.iteritems():\n",
    "        valid_filename.append(id_)\n",
    "        valid_feature.append(item['distance to land'])\n",
    "        valid_class.append(valid_class_array)\n",
    "        file_path = valid_folder + '/' + valid_class_desc + '/' + id_\n",
    "        img  = imread(file_path)\n",
    "        valid_crops.append(img)\n",
    "\n",
    "valid_class_array = [0,0,1]\n",
    "valid_class_desc = 'other'  \n",
    "with open('/home/ubuntu/data/sar/experiment_crops_20170809/validate/other_validate.json') as json_data:\n",
    "    json_validation_data = json.load(json_data)\n",
    "    for id_, item in json_validation_data.iteritems():\n",
    "        valid_filename.append(id_)\n",
    "        valid_feature.append(item['distance to land'])\n",
    "        valid_class.append(valid_class_array)\n",
    "        file_path = valid_folder + '/' + valid_class_desc + '/' + id_\n",
    "        img  = imread(file_path)\n",
    "        valid_crops.append(img)\n",
    "    \n"
   ]
  },
  {
   "cell_type": "code",
   "execution_count": 24,
   "metadata": {},
   "outputs": [
    {
     "name": "stdout",
     "output_type": "stream",
     "text": [
      "training crops: 2000\n",
      "training features: 2000\n",
      "validation crops: 500\n",
      "validation features: 500\n"
     ]
    }
   ],
   "source": [
    "print \"training crops:\", len(train_filename)\n",
    "print \"training features:\", len(train_feature)\n",
    "print \"validation crops:\", len(valid_filename)\n",
    "print \"validation features:\", len(valid_feature)"
   ]
  },
  {
   "cell_type": "code",
   "execution_count": 50,
   "metadata": {
    "collapsed": true
   },
   "outputs": [],
   "source": [
    "np_train_class = np.array(train_class)\n",
    "np_train_filename = np.array(train_filename)\n",
    "np_train_crops = np.array(train_crops)\n",
    "np_train_feature = np.array(train_feature)\n",
    "\n",
    "np_valid_class = np.array(valid_class)\n",
    "np_valid_filename = np.array(valid_filename)\n",
    "np_valid_crops = np.array(valid_crops)\n",
    "np_valid_feature = np.array(valid_feature)\n",
    "\n",
    "# Reshape for keras format\n",
    "np_train_crops = np.expand_dims(np_train_crops, axis=3)\n",
    "np_train_feature = np.expand_dims(np_train_feature, axis=1)\n",
    "\n",
    "np_valid_crops = np.expand_dims(np_valid_crops, axis=3)\n",
    "np_valid_feature = np.expand_dims(np_valid_feature, axis=1)"
   ]
  },
  {
   "cell_type": "code",
   "execution_count": 51,
   "metadata": {},
   "outputs": [
    {
     "name": "stdout",
     "output_type": "stream",
     "text": [
      "(2000, 50, 50, 1)\n",
      "(2000, 1)\n",
      "(2000, 3)\n",
      "(500, 50, 50, 1)\n",
      "(500, 1)\n",
      "(500, 3)\n"
     ]
    }
   ],
   "source": [
    "print np_train_crops.shape\n",
    "print np_train_feature.shape\n",
    "print np_train_class.shape\n",
    "\n",
    "print np_valid_crops.shape\n",
    "print np_valid_feature.shape\n",
    "print np_valid_class.shape"
   ]
  },
  {
   "cell_type": "code",
   "execution_count": null,
   "metadata": {
    "collapsed": true
   },
   "outputs": [],
   "source": []
  },
  {
   "cell_type": "code",
   "execution_count": 52,
   "metadata": {},
   "outputs": [
    {
     "name": "stderr",
     "output_type": "stream",
     "text": [
      "/usr/local/lib/python2.7/dist-packages/ipykernel_launcher.py:28: UserWarning: The `merge` function is deprecated and will be removed after 08/2017. Use instead layers from `keras.layers.merge`, e.g. `add`, `concatenate`, etc.\n"
     ]
    }
   ],
   "source": [
    "num_classes = 3\n",
    "\n",
    "img_input = Input(shape=np_train_crops.shape[1:], name='img_input')\n",
    "dist2land_input = Input(shape=(1,), name='dist2land_input')\n",
    "\n",
    "# x2 = Dense(1, activation='relu')(aux_input)\n",
    "# bn_inp = BatchNormalization()(dist2land_input)\n",
    "#\n",
    "# x = MaxPooling2D()(inp)\n",
    "# x = BatchNormalization(axis=1)(x)\n",
    "# x = Dropout(p/4)(x)\n",
    "# x = Flatten()(x)\n",
    "# x = Dense(512, activation='relu')(x)\n",
    "# x = BatchNormalization()(x)\n",
    "# x = Dropout(p)(x)\n",
    "# x = Dense(512, activation='relu')(x)\n",
    "# x = BatchNormalization()(x)\n",
    "# x = Dropout(p/2)(x)\n",
    "# x = merge([x,bn_inp], 'concat')\n",
    "# x = Dense(8, activation='softmax')(x)\n",
    "\n",
    "x = Conv2D(32, (3, 3), activation='relu', padding='same')(img_input)\n",
    "x = MaxPooling2D()(x)\n",
    "x = Conv2D(64, (3, 3), activation='relu', padding='same')(x)\n",
    "x = MaxPooling2D()(x)\n",
    "x = Conv2D(64, (3, 3), activation='relu', padding='same')(x)\n",
    "x = Flatten()(x)\n",
    "x = merge([x, dist2land_input], 'concat')\n",
    "out = Dense(num_classes, activation='softmax')(x)\n",
    "\n",
    "model = keras.models.Model(inputs=[img_input, dist2land_input], outputs=out)\n",
    "model.compile(optimizer='rmsprop', loss='categorical_crossentropy', metrics=['accuracy'])"
   ]
  },
  {
   "cell_type": "code",
   "execution_count": 53,
   "metadata": {},
   "outputs": [
    {
     "name": "stdout",
     "output_type": "stream",
     "text": [
      "____________________________________________________________________________________________________\n",
      "Layer (type)                     Output Shape          Param #     Connected to                     \n",
      "====================================================================================================\n",
      "img_input (InputLayer)           (None, 50, 50, 1)     0                                            \n",
      "____________________________________________________________________________________________________\n",
      "conv2d_19 (Conv2D)               (None, 50, 50, 32)    320         img_input[0][0]                  \n",
      "____________________________________________________________________________________________________\n",
      "max_pooling2d_13 (MaxPooling2D)  (None, 25, 25, 32)    0           conv2d_19[0][0]                  \n",
      "____________________________________________________________________________________________________\n",
      "conv2d_20 (Conv2D)               (None, 25, 25, 64)    18496       max_pooling2d_13[0][0]           \n",
      "____________________________________________________________________________________________________\n",
      "max_pooling2d_14 (MaxPooling2D)  (None, 12, 12, 64)    0           conv2d_20[0][0]                  \n",
      "____________________________________________________________________________________________________\n",
      "conv2d_21 (Conv2D)               (None, 12, 12, 64)    36928       max_pooling2d_14[0][0]           \n",
      "____________________________________________________________________________________________________\n",
      "flatten_7 (Flatten)              (None, 9216)          0           conv2d_21[0][0]                  \n",
      "____________________________________________________________________________________________________\n",
      "dist2land_input (InputLayer)     (None, 1)             0                                            \n",
      "____________________________________________________________________________________________________\n",
      "merge_7 (Merge)                  (None, 9217)          0           flatten_7[0][0]                  \n",
      "                                                                   dist2land_input[0][0]            \n",
      "____________________________________________________________________________________________________\n",
      "dense_6 (Dense)                  (None, 3)             27654       merge_7[0][0]                    \n",
      "====================================================================================================\n",
      "Total params: 83,398\n",
      "Trainable params: 83,398\n",
      "Non-trainable params: 0\n",
      "____________________________________________________________________________________________________\n"
     ]
    }
   ],
   "source": [
    "model.summary()"
   ]
  },
  {
   "cell_type": "code",
   "execution_count": 54,
   "metadata": {},
   "outputs": [
    {
     "data": {
      "image/svg+xml": [
       "<svg height=\"638pt\" viewBox=\"0.00 0.00 356.00 638.00\" width=\"356pt\" xmlns=\"http://www.w3.org/2000/svg\" xmlns:xlink=\"http://www.w3.org/1999/xlink\">\n",
       "<g class=\"graph\" id=\"graph0\" transform=\"scale(1 1) rotate(0) translate(4 634)\">\n",
       "<title>G</title>\n",
       "<polygon fill=\"white\" points=\"-4,4 -4,-634 352,-634 352,4 -4,4\" stroke=\"none\"/>\n",
       "<!-- 139851065446992 -->\n",
       "<g class=\"node\" id=\"node1\"><title>139851065446992</title>\n",
       "<polygon fill=\"none\" points=\"37,-593 37,-629 177,-629 177,-593 37,-593\" stroke=\"black\"/>\n",
       "<text font-family=\"Times,serif\" font-size=\"14.00\" text-anchor=\"middle\" x=\"107\" y=\"-607.3\">img_input: InputLayer</text>\n",
       "</g>\n",
       "<!-- 139852125158224 -->\n",
       "<g class=\"node\" id=\"node2\"><title>139852125158224</title>\n",
       "<polygon fill=\"none\" points=\"42,-519 42,-555 172,-555 172,-519 42,-519\" stroke=\"black\"/>\n",
       "<text font-family=\"Times,serif\" font-size=\"14.00\" text-anchor=\"middle\" x=\"107\" y=\"-533.3\">conv2d_19: Conv2D</text>\n",
       "</g>\n",
       "<!-- 139851065446992&#45;&gt;139852125158224 -->\n",
       "<g class=\"edge\" id=\"edge1\"><title>139851065446992-&gt;139852125158224</title>\n",
       "<path d=\"M107,-592.937C107,-584.807 107,-574.876 107,-565.705\" fill=\"none\" stroke=\"black\"/>\n",
       "<polygon fill=\"black\" points=\"110.5,-565.441 107,-555.441 103.5,-565.441 110.5,-565.441\" stroke=\"black\"/>\n",
       "</g>\n",
       "<!-- 139851065447632 -->\n",
       "<g class=\"node\" id=\"node3\"><title>139851065447632</title>\n",
       "<polygon fill=\"none\" points=\"0,-445 0,-481 214,-481 214,-445 0,-445\" stroke=\"black\"/>\n",
       "<text font-family=\"Times,serif\" font-size=\"14.00\" text-anchor=\"middle\" x=\"107\" y=\"-459.3\">max_pooling2d_13: MaxPooling2D</text>\n",
       "</g>\n",
       "<!-- 139852125158224&#45;&gt;139851065447632 -->\n",
       "<g class=\"edge\" id=\"edge2\"><title>139852125158224-&gt;139851065447632</title>\n",
       "<path d=\"M107,-518.937C107,-510.807 107,-500.876 107,-491.705\" fill=\"none\" stroke=\"black\"/>\n",
       "<polygon fill=\"black\" points=\"110.5,-491.441 107,-481.441 103.5,-491.441 110.5,-491.441\" stroke=\"black\"/>\n",
       "</g>\n",
       "<!-- 139851072925904 -->\n",
       "<g class=\"node\" id=\"node4\"><title>139851072925904</title>\n",
       "<polygon fill=\"none\" points=\"42,-371 42,-407 172,-407 172,-371 42,-371\" stroke=\"black\"/>\n",
       "<text font-family=\"Times,serif\" font-size=\"14.00\" text-anchor=\"middle\" x=\"107\" y=\"-385.3\">conv2d_20: Conv2D</text>\n",
       "</g>\n",
       "<!-- 139851065447632&#45;&gt;139851072925904 -->\n",
       "<g class=\"edge\" id=\"edge3\"><title>139851065447632-&gt;139851072925904</title>\n",
       "<path d=\"M107,-444.937C107,-436.807 107,-426.876 107,-417.705\" fill=\"none\" stroke=\"black\"/>\n",
       "<polygon fill=\"black\" points=\"110.5,-417.441 107,-407.441 103.5,-417.441 110.5,-417.441\" stroke=\"black\"/>\n",
       "</g>\n",
       "<!-- 139851065609360 -->\n",
       "<g class=\"node\" id=\"node5\"><title>139851065609360</title>\n",
       "<polygon fill=\"none\" points=\"0,-297 0,-333 214,-333 214,-297 0,-297\" stroke=\"black\"/>\n",
       "<text font-family=\"Times,serif\" font-size=\"14.00\" text-anchor=\"middle\" x=\"107\" y=\"-311.3\">max_pooling2d_14: MaxPooling2D</text>\n",
       "</g>\n",
       "<!-- 139851072925904&#45;&gt;139851065609360 -->\n",
       "<g class=\"edge\" id=\"edge4\"><title>139851072925904-&gt;139851065609360</title>\n",
       "<path d=\"M107,-370.937C107,-362.807 107,-352.876 107,-343.705\" fill=\"none\" stroke=\"black\"/>\n",
       "<polygon fill=\"black\" points=\"110.5,-343.441 107,-333.441 103.5,-343.441 110.5,-343.441\" stroke=\"black\"/>\n",
       "</g>\n",
       "<!-- 139851065239888 -->\n",
       "<g class=\"node\" id=\"node6\"><title>139851065239888</title>\n",
       "<polygon fill=\"none\" points=\"42,-223 42,-259 172,-259 172,-223 42,-223\" stroke=\"black\"/>\n",
       "<text font-family=\"Times,serif\" font-size=\"14.00\" text-anchor=\"middle\" x=\"107\" y=\"-237.3\">conv2d_21: Conv2D</text>\n",
       "</g>\n",
       "<!-- 139851065609360&#45;&gt;139851065239888 -->\n",
       "<g class=\"edge\" id=\"edge5\"><title>139851065609360-&gt;139851065239888</title>\n",
       "<path d=\"M107,-296.937C107,-288.807 107,-278.876 107,-269.705\" fill=\"none\" stroke=\"black\"/>\n",
       "<polygon fill=\"black\" points=\"110.5,-269.441 107,-259.441 103.5,-269.441 110.5,-269.441\" stroke=\"black\"/>\n",
       "</g>\n",
       "<!-- 139851066628432 -->\n",
       "<g class=\"node\" id=\"node7\"><title>139851066628432</title>\n",
       "<polygon fill=\"none\" points=\"52,-149 52,-185 162,-185 162,-149 52,-149\" stroke=\"black\"/>\n",
       "<text font-family=\"Times,serif\" font-size=\"14.00\" text-anchor=\"middle\" x=\"107\" y=\"-163.3\">flatten_7: Flatten</text>\n",
       "</g>\n",
       "<!-- 139851065239888&#45;&gt;139851066628432 -->\n",
       "<g class=\"edge\" id=\"edge6\"><title>139851065239888-&gt;139851066628432</title>\n",
       "<path d=\"M107,-222.937C107,-214.807 107,-204.876 107,-195.705\" fill=\"none\" stroke=\"black\"/>\n",
       "<polygon fill=\"black\" points=\"110.5,-195.441 107,-185.441 103.5,-195.441 110.5,-195.441\" stroke=\"black\"/>\n",
       "</g>\n",
       "<!-- 139851072827664 -->\n",
       "<g class=\"node\" id=\"node9\"><title>139851072827664</title>\n",
       "<polygon fill=\"none\" points=\"131,-75 131,-111 239,-111 239,-75 131,-75\" stroke=\"black\"/>\n",
       "<text font-family=\"Times,serif\" font-size=\"14.00\" text-anchor=\"middle\" x=\"185\" y=\"-89.3\">merge_7: Merge</text>\n",
       "</g>\n",
       "<!-- 139851066628432&#45;&gt;139851072827664 -->\n",
       "<g class=\"edge\" id=\"edge7\"><title>139851066628432-&gt;139851072827664</title>\n",
       "<path d=\"M125.485,-148.937C135.418,-139.768 147.833,-128.308 158.75,-118.231\" fill=\"none\" stroke=\"black\"/>\n",
       "<polygon fill=\"black\" points=\"161.403,-120.545 166.377,-111.19 156.655,-115.401 161.403,-120.545\" stroke=\"black\"/>\n",
       "</g>\n",
       "<!-- 139851065449424 -->\n",
       "<g class=\"node\" id=\"node8\"><title>139851065449424</title>\n",
       "<polygon fill=\"none\" points=\"180,-149 180,-185 348,-185 348,-149 180,-149\" stroke=\"black\"/>\n",
       "<text font-family=\"Times,serif\" font-size=\"14.00\" text-anchor=\"middle\" x=\"264\" y=\"-163.3\">dist2land_input: InputLayer</text>\n",
       "</g>\n",
       "<!-- 139851065449424&#45;&gt;139851072827664 -->\n",
       "<g class=\"edge\" id=\"edge8\"><title>139851065449424-&gt;139851072827664</title>\n",
       "<path d=\"M245.278,-148.937C235.12,-139.679 222.4,-128.086 211.265,-117.938\" fill=\"none\" stroke=\"black\"/>\n",
       "<polygon fill=\"black\" points=\"213.61,-115.339 203.861,-111.19 208.895,-120.513 213.61,-115.339\" stroke=\"black\"/>\n",
       "</g>\n",
       "<!-- 139851065251344 -->\n",
       "<g class=\"node\" id=\"node10\"><title>139851065251344</title>\n",
       "<polygon fill=\"none\" points=\"134,-1 134,-37 236,-37 236,-1 134,-1\" stroke=\"black\"/>\n",
       "<text font-family=\"Times,serif\" font-size=\"14.00\" text-anchor=\"middle\" x=\"185\" y=\"-15.3\">dense_6: Dense</text>\n",
       "</g>\n",
       "<!-- 139851072827664&#45;&gt;139851065251344 -->\n",
       "<g class=\"edge\" id=\"edge9\"><title>139851072827664-&gt;139851065251344</title>\n",
       "<path d=\"M185,-74.937C185,-66.8072 185,-56.8761 185,-47.7047\" fill=\"none\" stroke=\"black\"/>\n",
       "<polygon fill=\"black\" points=\"188.5,-47.4406 185,-37.4407 181.5,-47.4407 188.5,-47.4406\" stroke=\"black\"/>\n",
       "</g>\n",
       "</g>\n",
       "</svg>"
      ],
      "text/plain": [
       "<IPython.core.display.SVG object>"
      ]
     },
     "execution_count": 54,
     "metadata": {},
     "output_type": "execute_result"
    }
   ],
   "source": [
    "from IPython.display import SVG\n",
    "from keras.utils.vis_utils import model_to_dot\n",
    "\n",
    "SVG(model_to_dot(model).create(prog='dot', format='svg'))"
   ]
  },
  {
   "cell_type": "code",
   "execution_count": 58,
   "metadata": {},
   "outputs": [
    {
     "name": "stdout",
     "output_type": "stream",
     "text": [
      "Train on 2000 samples, validate on 500 samples\n",
      "Epoch 1/1\n",
      "2000/2000 [==============================] - 9s - loss: 0.5137 - acc: 0.8050 - val_loss: 0.4884 - val_acc: 0.8280\n"
     ]
    },
    {
     "data": {
      "text/plain": [
       "<keras.callbacks.History at 0x7f319cf963d0>"
      ]
     },
     "execution_count": 58,
     "metadata": {},
     "output_type": "execute_result"
    }
   ],
   "source": [
    "model.fit([np_train_crops, np_train_feature], \n",
    "          np_train_class,\n",
    "          batch_size=32,\n",
    "          epochs=1,\n",
    "          validation_data=([np_valid_crops, np_valid_feature], np_valid_class))"
   ]
  },
  {
   "cell_type": "code",
   "execution_count": 59,
   "metadata": {},
   "outputs": [
    {
     "name": "stdout",
     "output_type": "stream",
     "text": [
      "Train on 2000 samples, validate on 500 samples\n",
      "Epoch 1/1\n",
      "2000/2000 [==============================] - 9s - loss: 0.3449 - acc: 0.8855 - val_loss: 0.3140 - val_acc: 0.8840\n"
     ]
    },
    {
     "data": {
      "text/plain": [
       "<keras.callbacks.History at 0x7f319d373490>"
      ]
     },
     "execution_count": 59,
     "metadata": {},
     "output_type": "execute_result"
    }
   ],
   "source": [
    "model.fit([np_train_crops, np_train_feature], \n",
    "          np_train_class,\n",
    "          batch_size=32,\n",
    "          epochs=1,\n",
    "          validation_data=([np_valid_crops, np_valid_feature], np_valid_class))"
   ]
  },
  {
   "cell_type": "code",
   "execution_count": 60,
   "metadata": {},
   "outputs": [
    {
     "name": "stdout",
     "output_type": "stream",
     "text": [
      "Train on 2000 samples, validate on 500 samples\n",
      "Epoch 1/1\n",
      "2000/2000 [==============================] - 9s - loss: 0.2966 - acc: 0.9000 - val_loss: 0.2855 - val_acc: 0.9020\n"
     ]
    },
    {
     "data": {
      "text/plain": [
       "<keras.callbacks.History at 0x7f319d149450>"
      ]
     },
     "execution_count": 60,
     "metadata": {},
     "output_type": "execute_result"
    }
   ],
   "source": [
    "model.fit([np_train_crops, np_train_feature], \n",
    "          np_train_class,\n",
    "          batch_size=32,\n",
    "          epochs=1,\n",
    "          validation_data=([np_valid_crops, np_valid_feature], np_valid_class))"
   ]
  },
  {
   "cell_type": "code",
   "execution_count": 61,
   "metadata": {
    "collapsed": true
   },
   "outputs": [],
   "source": [
    "# Stopped as got new dataset."
   ]
  }
 ],
 "metadata": {
  "kernelspec": {
   "display_name": "Python 2",
   "language": "python",
   "name": "python2"
  },
  "language_info": {
   "codemirror_mode": {
    "name": "ipython",
    "version": 2
   },
   "file_extension": ".py",
   "mimetype": "text/x-python",
   "name": "python",
   "nbconvert_exporter": "python",
   "pygments_lexer": "ipython2",
   "version": "2.7.6"
  }
 },
 "nbformat": 4,
 "nbformat_minor": 2
}
