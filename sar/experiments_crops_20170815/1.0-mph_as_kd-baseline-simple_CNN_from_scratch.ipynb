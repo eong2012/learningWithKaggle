{
 "cells": [
  {
   "cell_type": "code",
   "execution_count": 1,
   "metadata": {},
   "outputs": [
    {
     "name": "stderr",
     "output_type": "stream",
     "text": [
      "Using TensorFlow backend.\n"
     ]
    },
    {
     "name": "stdout",
     "output_type": "stream",
     "text": [
      "2.0.5\n",
      "0.19.1\n",
      "2.0.0\n",
      "1.13.0\n"
     ]
    }
   ],
   "source": [
    "import matplotlib.pyplot as plt \n",
    "import scipy.misc\n",
    "import numpy as np\n",
    "from keras.layers import Dense, Dropout, Flatten, Input, Conv2D, Cropping2D\n",
    "from keras.layers import MaxPooling2D, ZeroPadding2D, BatchNormalization, Activation\n",
    "from keras.models import Model\n",
    "from keras.utils.layer_utils import print_summary\n",
    "from keras.preprocessing.image import ImageDataGenerator\n",
    "from keras import backend as K\n",
    "\n",
    "from keras import __version__ as kv\n",
    "from scipy import __version__ as sv\n",
    "from matplotlib import __version__ as mv\n",
    "from numpy import __version__ as nv\n",
    "\n",
    "print kv\n",
    "print sv\n",
    "print mv\n",
    "print nv"
   ]
  },
  {
   "cell_type": "code",
   "execution_count": 2,
   "metadata": {},
   "outputs": [
    {
     "data": {
      "text/plain": [
       "<module 'utils' from 'utils.pyc'>"
      ]
     },
     "execution_count": 2,
     "metadata": {},
     "output_type": "execute_result"
    }
   ],
   "source": [
    "# Local files\n",
    "import utils\n",
    "reload(utils)"
   ]
  },
  {
   "cell_type": "markdown",
   "metadata": {},
   "source": [
    "# Data"
   ]
  },
  {
   "cell_type": "markdown",
   "metadata": {},
   "source": [
    "### Config"
   ]
  },
  {
   "cell_type": "code",
   "execution_count": 3,
   "metadata": {
    "collapsed": true
   },
   "outputs": [],
   "source": [
    "trained_model_dir = '/home/ubuntu/data/sar/experiment_crops_20170815/trained_models/1.0-mph_as_kd-baseline-simple_CNN_from_scratch/'"
   ]
  },
  {
   "cell_type": "code",
   "execution_count": 5,
   "metadata": {
    "collapsed": true
   },
   "outputs": [],
   "source": [
    "train_dir = '/home/ubuntu/data/sar/experiment_crops_20170815/train/50x50/'\n",
    "valid_dir = '/home/ubuntu/data/sar/experiment_crops_20170815/validate/50x50/'"
   ]
  },
  {
   "cell_type": "code",
   "execution_count": 6,
   "metadata": {
    "collapsed": true
   },
   "outputs": [],
   "source": [
    "input_shape = (50, 50, 1)\n",
    "num_classes = 3"
   ]
  },
  {
   "cell_type": "markdown",
   "metadata": {},
   "source": [
    "### Convert tif2png"
   ]
  },
  {
   "cell_type": "code",
   "execution_count": 7,
   "metadata": {},
   "outputs": [
    {
     "name": "stdout",
     "output_type": "stream",
     "text": [
      "/home/ubuntu/data/sar/experiment_crops_20170815/train/50x50/oil_and_gas_infrastructure/ 500\n",
      "/home/ubuntu/data/sar/experiment_crops_20170815/train/50x50/oil_and_gas_infrastructure/ 500 1000\n",
      "/home/ubuntu/data/sar/experiment_crops_20170815/train/50x50/other/ 500\n",
      "/home/ubuntu/data/sar/experiment_crops_20170815/train/50x50/other/ 500 1000\n",
      "/home/ubuntu/data/sar/experiment_crops_20170815/train/50x50/turbine/ 1000\n",
      "/home/ubuntu/data/sar/experiment_crops_20170815/train/50x50/turbine/ 1000 2000\n"
     ]
    }
   ],
   "source": [
    "utils.tif2png(src_dir=train_dir+\"oil_and_gas_infrastructure/\", dest_dir=train_dir+\"oil_and_gas_infrastructure/\")\n",
    "utils.tif2png(src_dir=train_dir+\"other/\", dest_dir=train_dir+\"other/\")\n",
    "utils.tif2png(src_dir=train_dir+\"turbine/\", dest_dir=train_dir+\"turbine/\")"
   ]
  },
  {
   "cell_type": "code",
   "execution_count": 8,
   "metadata": {},
   "outputs": [
    {
     "name": "stdout",
     "output_type": "stream",
     "text": [
      "/home/ubuntu/data/sar/experiment_crops_20170815/validate/50x50/oil_and_gas_infrastructure/ 125\n",
      "/home/ubuntu/data/sar/experiment_crops_20170815/validate/50x50/oil_and_gas_infrastructure/ 125 250\n",
      "/home/ubuntu/data/sar/experiment_crops_20170815/validate/50x50/other/ 125\n",
      "/home/ubuntu/data/sar/experiment_crops_20170815/validate/50x50/other/ 125 250\n",
      "/home/ubuntu/data/sar/experiment_crops_20170815/validate/50x50/turbine/ 250\n",
      "/home/ubuntu/data/sar/experiment_crops_20170815/validate/50x50/turbine/ 250 500\n"
     ]
    }
   ],
   "source": [
    "utils.tif2png(src_dir=valid_dir+\"oil_and_gas_infrastructure/\", dest_dir=valid_dir+\"oil_and_gas_infrastructure/\")\n",
    "utils.tif2png(src_dir=valid_dir+\"other/\", dest_dir=valid_dir+\"other/\")\n",
    "utils.tif2png(src_dir=valid_dir+\"turbine/\", dest_dir=valid_dir+\"turbine/\")"
   ]
  },
  {
   "cell_type": "markdown",
   "metadata": {
    "collapsed": true
   },
   "source": [
    "Let's visualise/check the conversion worked correctly:"
   ]
  },
  {
   "cell_type": "code",
   "execution_count": 11,
   "metadata": {},
   "outputs": [
    {
     "name": "stdout",
     "output_type": "stream",
     "text": [
      "/home/ubuntu/data/sar/experiment_crops_20170815/train/50x50/oil_and_gas_infrastructure/S1B_IW_GRDH_1SDV_20170709T061319_20170709T061344_006407_00B43B_EFB1_terrain_correction_69.png\n"
     ]
    },
    {
     "data": {
      "image/png": "[encoded data removed]",
      "text/plain": [
       "<matplotlib.figure.Figure at 0x7f28d9edd410>"
      ]
     },
     "metadata": {},
     "output_type": "display_data"
    }
   ],
   "source": [
    "utils.display_image(\"/home/ubuntu/data/sar/experiment_crops_20170815/train/50x50/oil_and_gas_infrastructure/\" \\\n",
    "                    \"S1B_IW_GRDH_1SDV_20170709T061319_20170709T061344_006407_00B43B_EFB1_terrain_correction_69.png\")"
   ]
  },
  {
   "cell_type": "markdown",
   "metadata": {},
   "source": [
    "Looks quite different to the tif file in QGIS - although this could be because QGIS rescales intensities. Let's check the array:"
   ]
  },
  {
   "cell_type": "code",
   "execution_count": 17,
   "metadata": {
    "collapsed": true
   },
   "outputs": [],
   "source": [
    "import cv2\n",
    "import rasterio"
   ]
  },
  {
   "cell_type": "code",
   "execution_count": 22,
   "metadata": {
    "collapsed": true
   },
   "outputs": [],
   "source": [
    "with rasterio.open(\"/home/ubuntu/data/sar/experiment_crops_20170815/train/50x50/oil_and_gas_infrastructure/\" \\\n",
    "                    \"S1B_IW_GRDH_1SDV_20170709T061319_20170709T061344_006407_00B43B_EFB1_terrain_correction_69.png\", mode=\"r\") as raster:\n",
    "    rasterio_array = raster.read(1)"
   ]
  },
  {
   "cell_type": "markdown",
   "metadata": {},
   "source": [
    "=== 20170821 Note: Ooops - read in png with rasterio and cv2. Let check what we actually wanted to check === "
   ]
  },
  {
   "cell_type": "code",
   "execution_count": 8,
   "metadata": {
    "collapsed": true
   },
   "outputs": [],
   "source": [
    "import rasterio\n",
    "import numpy as np"
   ]
  },
  {
   "cell_type": "code",
   "execution_count": 9,
   "metadata": {},
   "outputs": [],
   "source": [
    "with rasterio.open(\"/home/ubuntu/data/sar/experiment_crops_20170815/train/50x50/oil_and_gas_infrastructure/\" \\\n",
    "                    \"S1B_IW_GRDH_1SDV_20170709T061319_20170709T061344_006407_00B43B_EFB1_terrain_correction_69.tif\", mode=\"r\") as raster:\n",
    "    rasterio_array = raster.read(1)"
   ]
  },
  {
   "cell_type": "code",
   "execution_count": 10,
   "metadata": {},
   "outputs": [
    {
     "name": "stdout",
     "output_type": "stream",
     "text": [
      "[ 0.00248293  0.00304658  0.00343856  0.0037784   0.00420436  0.00447489\n",
      "  0.00478828  0.00505411  0.00490007  0.00551279  0.00597329  0.0067725\n",
      "  0.00824543  0.01055317  0.01191709  0.01363397  0.01785034  0.023055\n",
      "  0.02635294  0.02478135  0.01701678  0.02809606  0.05204867  0.11299562\n",
      "  0.15419009  0.15461712  0.2194076   0.31673673  0.57419163  0.78672653\n",
      "  0.81263798  0.65055662  0.38451555  0.21549205  0.07361336  0.03781835\n",
      "  0.01233841  0.00426493  0.00295459  0.00405911  0.00286321  0.00247345\n",
      "  0.00322912  0.00280766  0.0019609   0.00244714  0.00311382  0.0036213\n",
      "  0.00332013  0.00247109]\n"
     ]
    }
   ],
   "source": [
    "np.set_printoptions(threshold=np.nan)\n",
    "\n",
    "print(rasterio_array[25,:])"
   ]
  },
  {
   "cell_type": "markdown",
   "metadata": {},
   "source": [
    "!!!!!!Damn - they're different!!!"
   ]
  },
  {
   "cell_type": "markdown",
   "metadata": {},
   "source": [
    "=== END Note ==="
   ]
  },
  {
   "cell_type": "code",
   "execution_count": 26,
   "metadata": {
    "collapsed": true
   },
   "outputs": [],
   "source": [
    "cv2_array = cv2.imread(\"/home/ubuntu/data/sar/experiment_crops_20170815/train/50x50/oil_and_gas_infrastructure/\" \\\n",
    "                    \"S1B_IW_GRDH_1SDV_20170709T061319_20170709T061344_006407_00B43B_EFB1_terrain_correction_69.png\")"
   ]
  },
  {
   "cell_type": "code",
   "execution_count": 27,
   "metadata": {},
   "outputs": [
    {
     "name": "stdout",
     "output_type": "stream",
     "text": [
      "[  1   1   1   1   1   1   1   1   1   2   2   2   2   3   4   4   5   7\n",
      "   8   8   5   9  16  35  48  48  69  99 180 247 255 204 121  67  23  12\n",
      "   4   1   1   1   1   1   1   1   0   1   1   1   1   1]\n"
     ]
    }
   ],
   "source": [
    "np.set_printoptions(threshold=np.nan)\n",
    "\n",
    "print(rasterio_array[25,:])"
   ]
  },
  {
   "cell_type": "code",
   "execution_count": 28,
   "metadata": {},
   "outputs": [
    {
     "name": "stdout",
     "output_type": "stream",
     "text": [
      "[  1   1   1   1   1   1   1   1   1   2   2   2   2   3   4   4   5   7\n",
      "   8   8   5   9  16  35  48  48  69  99 180 247 255 204 121  67  23  12\n",
      "   4   1   1   1   1   1   1   1   0   1   1   1   1   1]\n"
     ]
    }
   ],
   "source": [
    "print(cv2_array[25,:,1])"
   ]
  },
  {
   "cell_type": "markdown",
   "metadata": {},
   "source": [
    "Same=Great! Let's just check a few more for arguments sake."
   ]
  },
  {
   "cell_type": "code",
   "execution_count": 30,
   "metadata": {},
   "outputs": [
    {
     "name": "stdout",
     "output_type": "stream",
     "text": [
      "/home/ubuntu/data/sar/experiment_crops_20170815/train/50x50/oil_and_gas_infrastructure/S1A_IW_GRDH_1SDV_20170216T060554_20170216T060619_015305_01916C_72E0_terrain_correction_133.png\n"
     ]
    },
    {
     "data": {
      "image/png": "[encoded data removed]",
      "text/plain": [
       "<matplotlib.figure.Figure at 0x7f28da0dd090>"
      ]
     },
     "metadata": {},
     "output_type": "display_data"
    }
   ],
   "source": [
    "utils.display_rnd_image(train_dir+\"oil_and_gas_infrastructure/\")"
   ]
  },
  {
   "cell_type": "code",
   "execution_count": 31,
   "metadata": {},
   "outputs": [
    {
     "name": "stdout",
     "output_type": "stream",
     "text": [
      "/home/ubuntu/data/sar/experiment_crops_20170815/train/50x50/other/S1A_IW_GRDH_1SDV_20170514T174100_20170514T174125_016581_01B805_47DB_subset4_20.png\n"
     ]
    },
    {
     "data": {
      "image/png": "[encoded data removed]",
      "text/plain": [
       "<matplotlib.figure.Figure at 0x7f28da0dd0d0>"
      ]
     },
     "metadata": {},
     "output_type": "display_data"
    }
   ],
   "source": [
    "utils.display_rnd_image(train_dir+\"other/\")"
   ]
  },
  {
   "cell_type": "code",
   "execution_count": 32,
   "metadata": {},
   "outputs": [
    {
     "name": "stdout",
     "output_type": "stream",
     "text": [
      "/home/ubuntu/data/sar/experiment_crops_20170815/train/50x50/turbine/S1B_IW_GRDH_1SDV_20170527T062125_20170527T062150_005780_00A21A_8AC7_terrain_correction_248.png\n"
     ]
    },
    {
     "data": {
      "image/png": "[encoded data removed]",
      "text/plain": [
       "<matplotlib.figure.Figure at 0x7f28d9dd10d0>"
      ]
     },
     "metadata": {},
     "output_type": "display_data"
    }
   ],
   "source": [
    "utils.display_rnd_image(train_dir+\"turbine/\")"
   ]
  },
  {
   "cell_type": "markdown",
   "metadata": {},
   "source": [
    "### Create Generators"
   ]
  },
  {
   "cell_type": "code",
   "execution_count": 33,
   "metadata": {},
   "outputs": [
    {
     "name": "stdout",
     "output_type": "stream",
     "text": [
      "Found 2000 images belonging to 3 classes.\n",
      "Found 500 images belonging to 3 classes.\n"
     ]
    }
   ],
   "source": [
    "train_datagen = ImageDataGenerator(rescale=1./255)\n",
    "\n",
    "test_datagen = ImageDataGenerator(rescale=1./255)\n",
    "\n",
    "train_generator = train_datagen.flow_from_directory(\n",
    "        train_dir,\n",
    "        target_size=(50, 50),\n",
    "        batch_size=20,\n",
    "        class_mode='categorical', \n",
    "        color_mode='grayscale')\n",
    "\n",
    "validation_generator = test_datagen.flow_from_directory(\n",
    "        valid_dir, \n",
    "        target_size=(50, 50),\n",
    "        shuffle=False,\n",
    "        batch_size=10,\n",
    "        class_mode='categorical',\n",
    "        color_mode='grayscale')"
   ]
  },
  {
   "cell_type": "markdown",
   "metadata": {},
   "source": [
    "# Experiments"
   ]
  },
  {
   "cell_type": "markdown",
   "metadata": {},
   "source": [
    "## simple/baseline model (3 layers, no regularisation)"
   ]
  },
  {
   "cell_type": "code",
   "execution_count": 34,
   "metadata": {
    "collapsed": true
   },
   "outputs": [],
   "source": [
    "classifier_input = Input(shape=input_shape)\n",
    "\n",
    "x = Conv2D(32, (3, 3), activation='relu', padding='same')(classifier_input)\n",
    "x = MaxPooling2D()(x)\n",
    "x = Conv2D(64, (3, 3), activation='relu', padding='same')(x)\n",
    "x = MaxPooling2D()(x)\n",
    "x = Conv2D(64, (3, 3), activation='relu', padding='same')(x)\n",
    "x = Flatten()(x)\n",
    "x = Dense(num_classes, activation='softmax')(x)\n",
    "\n",
    "model = Model(outputs=x, inputs=classifier_input)\n",
    "model.compile(optimizer='rmsprop', loss='categorical_crossentropy', metrics=['accuracy'])"
   ]
  },
  {
   "cell_type": "code",
   "execution_count": 35,
   "metadata": {},
   "outputs": [
    {
     "name": "stdout",
     "output_type": "stream",
     "text": [
      "_________________________________________________________________\n",
      "Layer (type)                 Output Shape              Param #   \n",
      "=================================================================\n",
      "input_1 (InputLayer)         (None, 50, 50, 1)         0         \n",
      "_________________________________________________________________\n",
      "conv2d_1 (Conv2D)            (None, 50, 50, 32)        320       \n",
      "_________________________________________________________________\n",
      "max_pooling2d_1 (MaxPooling2 (None, 25, 25, 32)        0         \n",
      "_________________________________________________________________\n",
      "conv2d_2 (Conv2D)            (None, 25, 25, 64)        18496     \n",
      "_________________________________________________________________\n",
      "max_pooling2d_2 (MaxPooling2 (None, 12, 12, 64)        0         \n",
      "_________________________________________________________________\n",
      "conv2d_3 (Conv2D)            (None, 12, 12, 64)        36928     \n",
      "_________________________________________________________________\n",
      "flatten_1 (Flatten)          (None, 9216)              0         \n",
      "_________________________________________________________________\n",
      "dense_1 (Dense)              (None, 3)                 27651     \n",
      "=================================================================\n",
      "Total params: 83,395\n",
      "Trainable params: 83,395\n",
      "Non-trainable params: 0\n",
      "_________________________________________________________________\n"
     ]
    }
   ],
   "source": [
    "model.summary()"
   ]
  },
  {
   "cell_type": "code",
   "execution_count": 36,
   "metadata": {
    "collapsed": true
   },
   "outputs": [],
   "source": [
    "lr = 0.001\n",
    "K.set_value(model.optimizer.lr, lr)"
   ]
  },
  {
   "cell_type": "code",
   "execution_count": 37,
   "metadata": {},
   "outputs": [
    {
     "name": "stdout",
     "output_type": "stream",
     "text": [
      "Epoch 1/10\n",
      "100/100 [==============================] - 10s - loss: 0.5579 - acc: 0.7630 - val_loss: 0.4020 - val_acc: 0.8400\n",
      "Epoch 2/10\n",
      "100/100 [==============================] - 10s - loss: 0.3445 - acc: 0.8655 - val_loss: 0.3123 - val_acc: 0.8883\n",
      "Epoch 3/10\n",
      "100/100 [==============================] - 10s - loss: 0.2554 - acc: 0.8950 - val_loss: 0.2966 - val_acc: 0.8950\n",
      "Epoch 4/10\n",
      "100/100 [==============================] - 10s - loss: 0.2135 - acc: 0.9180 - val_loss: 0.2823 - val_acc: 0.9150\n",
      "Epoch 5/10\n",
      "100/100 [==============================] - 10s - loss: 0.1818 - acc: 0.9360 - val_loss: 0.2586 - val_acc: 0.9233\n",
      "Epoch 6/10\n",
      "100/100 [==============================] - 10s - loss: 0.1591 - acc: 0.9440 - val_loss: 0.3043 - val_acc: 0.9267\n",
      "Epoch 7/10\n",
      "100/100 [==============================] - 10s - loss: 0.1559 - acc: 0.9465 - val_loss: 0.2558 - val_acc: 0.9183\n",
      "Epoch 8/10\n",
      "100/100 [==============================] - 10s - loss: 0.1267 - acc: 0.9540 - val_loss: 0.2265 - val_acc: 0.9383\n",
      "Epoch 9/10\n",
      "100/100 [==============================] - 10s - loss: 0.1097 - acc: 0.9600 - val_loss: 0.2664 - val_acc: 0.9267\n",
      "Epoch 10/10\n",
      "100/100 [==============================] - 10s - loss: 0.1018 - acc: 0.9690 - val_loss: 0.3484 - val_acc: 0.9200\n"
     ]
    },
    {
     "data": {
      "text/plain": [
       "<keras.callbacks.History at 0x7f28d9f364d0>"
      ]
     },
     "execution_count": 37,
     "metadata": {},
     "output_type": "execute_result"
    }
   ],
   "source": [
    "model.fit_generator(\n",
    "        train_generator,\n",
    "        steps_per_epoch=100,\n",
    "        epochs=10,\n",
    "        validation_data=validation_generator,\n",
    "        validation_steps=60)"
   ]
  },
  {
   "cell_type": "code",
   "execution_count": 38,
   "metadata": {},
   "outputs": [
    {
     "name": "stdout",
     "output_type": "stream",
     "text": [
      "Epoch 1/2\n",
      "100/100 [==============================] - 10s - loss: 0.0797 - acc: 0.9710 - val_loss: 0.2899 - val_acc: 0.9433\n",
      "Epoch 2/2\n",
      "100/100 [==============================] - 10s - loss: 0.0800 - acc: 0.9720 - val_loss: 0.2876 - val_acc: 0.9317\n"
     ]
    },
    {
     "data": {
      "text/plain": [
       "<keras.callbacks.History at 0x7f28d9c4bf10>"
      ]
     },
     "execution_count": 38,
     "metadata": {},
     "output_type": "execute_result"
    }
   ],
   "source": [
    "lr = 0.001\n",
    "K.set_value(model.optimizer.lr, lr)\n",
    "model.fit_generator(\n",
    "        train_generator,\n",
    "        steps_per_epoch=100,\n",
    "        epochs=2,\n",
    "        validation_data=validation_generator,\n",
    "        validation_steps=60)"
   ]
  },
  {
   "cell_type": "code",
   "execution_count": 39,
   "metadata": {},
   "outputs": [
    {
     "name": "stdout",
     "output_type": "stream",
     "text": [
      "Epoch 1/2\n",
      "100/100 [==============================] - 10s - loss: 0.0703 - acc: 0.9770 - val_loss: 0.2866 - val_acc: 0.9317\n",
      "Epoch 2/2\n",
      "100/100 [==============================] - 10s - loss: 0.0620 - acc: 0.9785 - val_loss: 0.3485 - val_acc: 0.9283\n"
     ]
    },
    {
     "data": {
      "text/plain": [
       "<keras.callbacks.History at 0x7f28da1d0e10>"
      ]
     },
     "execution_count": 39,
     "metadata": {},
     "output_type": "execute_result"
    }
   ],
   "source": [
    "lr = 0.001\n",
    "K.set_value(model.optimizer.lr, lr)\n",
    "model.fit_generator(\n",
    "        train_generator,\n",
    "        steps_per_epoch=100,\n",
    "        epochs=2,\n",
    "        validation_data=validation_generator,\n",
    "        validation_steps=60)"
   ]
  },
  {
   "cell_type": "code",
   "execution_count": 40,
   "metadata": {},
   "outputs": [
    {
     "name": "stdout",
     "output_type": "stream",
     "text": [
      "Epoch 1/2\n",
      "100/100 [==============================] - 10s - loss: 0.0312 - acc: 0.9905 - val_loss: 0.3205 - val_acc: 0.9350\n",
      "Epoch 2/2\n",
      "100/100 [==============================] - 10s - loss: 0.0244 - acc: 0.9950 - val_loss: 0.3042 - val_acc: 0.9383\n"
     ]
    },
    {
     "data": {
      "text/plain": [
       "<keras.callbacks.History at 0x7f28d9c93290>"
      ]
     },
     "execution_count": 40,
     "metadata": {},
     "output_type": "execute_result"
    }
   ],
   "source": [
    "lr = 0.0001\n",
    "K.set_value(model.optimizer.lr, lr)\n",
    "model.fit_generator(\n",
    "        train_generator,\n",
    "        steps_per_epoch=100,\n",
    "        epochs=2,\n",
    "        validation_data=validation_generator,\n",
    "        validation_steps=60)"
   ]
  },
  {
   "cell_type": "code",
   "execution_count": 41,
   "metadata": {},
   "outputs": [
    {
     "name": "stdout",
     "output_type": "stream",
     "text": [
      "Epoch 1/2\n",
      "100/100 [==============================] - 10s - loss: 0.0209 - acc: 0.9950 - val_loss: 0.3236 - val_acc: 0.9383\n",
      "Epoch 2/2\n",
      "100/100 [==============================] - 10s - loss: 0.0198 - acc: 0.9960 - val_loss: 0.3063 - val_acc: 0.9417\n"
     ]
    },
    {
     "data": {
      "text/plain": [
       "<keras.callbacks.History at 0x7f28da1d0a50>"
      ]
     },
     "execution_count": 41,
     "metadata": {},
     "output_type": "execute_result"
    }
   ],
   "source": [
    "lr = 0.0001\n",
    "K.set_value(model.optimizer.lr, lr)\n",
    "model.fit_generator(\n",
    "        train_generator,\n",
    "        steps_per_epoch=100,\n",
    "        epochs=2,\n",
    "        validation_data=validation_generator,\n",
    "        validation_steps=60)"
   ]
  },
  {
   "cell_type": "code",
   "execution_count": 42,
   "metadata": {
    "collapsed": true
   },
   "outputs": [],
   "source": [
    "model.save_weights(trained_model_dir + \"simple_model_valAcc94.h5\")"
   ]
  },
  {
   "cell_type": "markdown",
   "metadata": {},
   "source": [
    "### Lets visualise and evaluate/plot predictions"
   ]
  },
  {
   "cell_type": "code",
   "execution_count": 43,
   "metadata": {
    "collapsed": true
   },
   "outputs": [],
   "source": [
    "validation_generator.reset()"
   ]
  },
  {
   "cell_type": "code",
   "execution_count": 44,
   "metadata": {},
   "outputs": [
    {
     "data": {
      "text/plain": [
       "(500, 3)"
      ]
     },
     "execution_count": 44,
     "metadata": {},
     "output_type": "execute_result"
    }
   ],
   "source": [
    "preds = model.predict_generator(validation_generator,50)\n",
    "preds.shape"
   ]
  },
  {
   "cell_type": "code",
   "execution_count": 45,
   "metadata": {
    "collapsed": true
   },
   "outputs": [],
   "source": [
    "from sklearn.metrics import confusion_matrix"
   ]
  },
  {
   "cell_type": "code",
   "execution_count": 46,
   "metadata": {},
   "outputs": [
    {
     "data": {
      "text/plain": [
       "['oil_and_gas_infrastructure', 'other', 'turbine']"
      ]
     },
     "execution_count": 46,
     "metadata": {},
     "output_type": "execute_result"
    }
   ],
   "source": [
    "sorted(list(validation_generator.class_indices))"
   ]
  },
  {
   "cell_type": "code",
   "execution_count": 47,
   "metadata": {
    "collapsed": true
   },
   "outputs": [],
   "source": [
    "y_pred = np.argmax(preds, axis=1)"
   ]
  },
  {
   "cell_type": "code",
   "execution_count": 48,
   "metadata": {},
   "outputs": [
    {
     "name": "stdout",
     "output_type": "stream",
     "text": [
      "[[117   5   3]\n",
      " [ 12 107   6]\n",
      " [  2   5 243]]\n"
     ]
    }
   ],
   "source": [
    "y_true = validation_generator.classes\n",
    "labels = [0,1,2] # sorted(list(validation_generator.class_indices))\n",
    "y_pred = np.argmax(preds, axis=1)\n",
    "cm = confusion_matrix(y_true, y_pred, labels)\n",
    "print(cm)"
   ]
  },
  {
   "cell_type": "code",
   "execution_count": 49,
   "metadata": {},
   "outputs": [
    {
     "name": "stdout",
     "output_type": "stream",
     "text": [
      "Confusion matrix, without normalization\n",
      "[[117   5   3]\n",
      " [ 12 107   6]\n",
      " [  2   5 243]]\n"
     ]
    },
    {
     "data": {
      "image/png": "[encoded data removed]",
      "text/plain": [
       "<matplotlib.figure.Figure at 0x7f28b6556650>"
      ]
     },
     "metadata": {},
     "output_type": "display_data"
    },
    {
     "data": {
      "text/plain": [
       "<matplotlib.figure.Figure at 0x7f28d9ce0990>"
      ]
     },
     "metadata": {},
     "output_type": "display_data"
    }
   ],
   "source": [
    "utils.plot_confusion_matrix(cm, sorted(list(validation_generator.class_indices)))"
   ]
  },
  {
   "cell_type": "code",
   "execution_count": 50,
   "metadata": {},
   "outputs": [
    {
     "data": {
      "image/png": "[encoded data removed]",
      "text/plain": [
       "<matplotlib.figure.Figure at 0x7f289d188450>"
      ]
     },
     "metadata": {},
     "output_type": "display_data"
    }
   ],
   "source": [
    "plt.figure(figsize=(12,12))\n",
    "plt.plot(preds[:,0], 'b')\n",
    "plt.plot(preds[:,1], 'r')\n",
    "plt.plot(preds[:,2], 'g')\n",
    "plt.show()"
   ]
  },
  {
   "cell_type": "code",
   "execution_count": 51,
   "metadata": {},
   "outputs": [
    {
     "data": {
      "text/plain": [
       "array([  2.26995818e-11,   1.17433818e-09,   1.00000000e+00], dtype=float32)"
      ]
     },
     "execution_count": 51,
     "metadata": {},
     "output_type": "execute_result"
    }
   ],
   "source": [
    "preds[498]"
   ]
  },
  {
   "cell_type": "markdown",
   "metadata": {},
   "source": [
    "## changing model to deal with overfitting - batchnorm? \n"
   ]
  },
  {
   "cell_type": "code",
   "execution_count": 52,
   "metadata": {
    "collapsed": true
   },
   "outputs": [],
   "source": [
    "classifier_input = Input(shape=input_shape)\n",
    "\n",
    "x = Conv2D(32, (3, 3), activation='relu', padding='same')(classifier_input)\n",
    "x = MaxPooling2D()(x)\n",
    "x = Conv2D(64, (3, 3), activation='relu', padding='same')(x)\n",
    "x = BatchNormalization(axis=-1)(x)\n",
    "x = MaxPooling2D()(x)\n",
    "x = Conv2D(64, (3, 3), activation='relu', padding='same')(x)\n",
    "x = Flatten()(x)\n",
    "x = Dense(num_classes, activation='softmax')(x)\n",
    "\n",
    "model_batchnorm = Model(outputs=x, inputs=classifier_input)\n",
    "model_batchnorm.compile(optimizer='rmsprop', loss='categorical_crossentropy', metrics=['accuracy'])"
   ]
  },
  {
   "cell_type": "code",
   "execution_count": 53,
   "metadata": {},
   "outputs": [
    {
     "name": "stdout",
     "output_type": "stream",
     "text": [
      "_________________________________________________________________\n",
      "Layer (type)                 Output Shape              Param #   \n",
      "=================================================================\n",
      "input_2 (InputLayer)         (None, 50, 50, 1)         0         \n",
      "_________________________________________________________________\n",
      "conv2d_4 (Conv2D)            (None, 50, 50, 32)        320       \n",
      "_________________________________________________________________\n",
      "max_pooling2d_3 (MaxPooling2 (None, 25, 25, 32)        0         \n",
      "_________________________________________________________________\n",
      "conv2d_5 (Conv2D)            (None, 25, 25, 64)        18496     \n",
      "_________________________________________________________________\n",
      "batch_normalization_1 (Batch (None, 25, 25, 64)        256       \n",
      "_________________________________________________________________\n",
      "max_pooling2d_4 (MaxPooling2 (None, 12, 12, 64)        0         \n",
      "_________________________________________________________________\n",
      "conv2d_6 (Conv2D)            (None, 12, 12, 64)        36928     \n",
      "_________________________________________________________________\n",
      "flatten_2 (Flatten)          (None, 9216)              0         \n",
      "_________________________________________________________________\n",
      "dense_2 (Dense)              (None, 3)                 27651     \n",
      "=================================================================\n",
      "Total params: 83,651\n",
      "Trainable params: 83,523\n",
      "Non-trainable params: 128\n",
      "_________________________________________________________________\n"
     ]
    }
   ],
   "source": [
    "model_batchnorm.summary()"
   ]
  },
  {
   "cell_type": "code",
   "execution_count": 54,
   "metadata": {},
   "outputs": [
    {
     "name": "stdout",
     "output_type": "stream",
     "text": [
      "Epoch 1/2\n",
      "100/100 [==============================] - 15s - loss: 0.4243 - acc: 0.8305 - val_loss: 0.9583 - val_acc: 0.8917\n",
      "Epoch 2/2\n",
      "100/100 [==============================] - 15s - loss: 0.2165 - acc: 0.9270 - val_loss: 0.7879 - val_acc: 0.9017\n"
     ]
    },
    {
     "data": {
      "text/plain": [
       "<keras.callbacks.History at 0x7f28d9c128d0>"
      ]
     },
     "execution_count": 54,
     "metadata": {},
     "output_type": "execute_result"
    }
   ],
   "source": [
    "lr = 0.0001\n",
    "K.set_value(model.optimizer.lr, lr)\n",
    "model_batchnorm.fit_generator(\n",
    "        train_generator,\n",
    "        steps_per_epoch=100,\n",
    "        epochs=2,\n",
    "        validation_data=validation_generator,\n",
    "        validation_steps=60)"
   ]
  },
  {
   "cell_type": "markdown",
   "metadata": {},
   "source": [
    "## move position of batchnorm? need to split the activation from the conv layer first"
   ]
  },
  {
   "cell_type": "code",
   "execution_count": 55,
   "metadata": {
    "collapsed": true
   },
   "outputs": [],
   "source": [
    "classifier_input = Input(shape=input_shape)\n",
    "\n",
    "x = Conv2D(32, (3, 3), activation=None, padding='same')(classifier_input)\n",
    "x = Activation('relu')(x)\n",
    "x = MaxPooling2D()(x)\n",
    "x = Conv2D(64, (3, 3), activation=None, padding='same')(x)\n",
    "x = Activation('relu')(x)\n",
    "x = MaxPooling2D()(x)\n",
    "x = Conv2D(64, (3, 3), activation=None, padding='same')(x)\n",
    "x = Activation('relu')(x)\n",
    "x = Flatten()(x)\n",
    "x = Dense(num_classes, activation='softmax')(x)\n",
    "\n",
    "model_split_activation = Model(outputs=x, inputs=classifier_input)\n",
    "model_split_activation.compile(optimizer='rmsprop', loss='categorical_crossentropy', metrics=['accuracy'])"
   ]
  },
  {
   "cell_type": "code",
   "execution_count": 56,
   "metadata": {},
   "outputs": [
    {
     "name": "stdout",
     "output_type": "stream",
     "text": [
      "Epoch 1/2\n",
      "100/100 [==============================] - 10s - loss: 0.5546 - acc: 0.7520 - val_loss: 0.3910 - val_acc: 0.8783\n",
      "Epoch 2/2\n",
      "100/100 [==============================] - 10s - loss: 0.3628 - acc: 0.8580 - val_loss: 0.4171 - val_acc: 0.8267\n"
     ]
    },
    {
     "data": {
      "text/plain": [
       "<keras.callbacks.History at 0x7f289c0b2990>"
      ]
     },
     "execution_count": 56,
     "metadata": {},
     "output_type": "execute_result"
    }
   ],
   "source": [
    "lr = 0.001\n",
    "K.set_value(model.optimizer.lr, lr)\n",
    "model_split_activation.fit_generator(\n",
    "        train_generator,\n",
    "        steps_per_epoch=100,\n",
    "        epochs=2,\n",
    "        validation_data=validation_generator,\n",
    "        validation_steps=60)"
   ]
  },
  {
   "cell_type": "code",
   "execution_count": 57,
   "metadata": {
    "collapsed": true
   },
   "outputs": [],
   "source": [
    "# add the batchnorm before the activation. (need dense layers mid way? )\n",
    "\n",
    "x = Conv2D(32, (3, 3), activation=None, padding='same')(classifier_input)\n",
    "x = BatchNormalization(axis=-1)(x)\n",
    "x = Activation('relu')(x)\n",
    "x = MaxPooling2D()(x)\n",
    "x = Conv2D(64, (3, 3), activation=None, padding='same')(x)\n",
    "x = BatchNormalization(axis=-1)(x)\n",
    "x = Activation('relu')(x)\n",
    "x = MaxPooling2D()(x)\n",
    "x = Conv2D(64, (3, 3), activation=None, padding='same')(x)\n",
    "x = BatchNormalization(axis=-1)(x)\n",
    "x = Activation('relu')(x)\n",
    "x = Flatten()(x)\n",
    "x = Dense(num_classes, activation='softmax')(x)\n",
    "\n",
    "model_split_activation_batchnorm = Model(outputs=x, inputs=classifier_input)\n",
    "model_split_activation_batchnorm.compile(optimizer='rmsprop', loss='categorical_crossentropy', metrics=['accuracy'])"
   ]
  },
  {
   "cell_type": "code",
   "execution_count": 58,
   "metadata": {},
   "outputs": [
    {
     "name": "stdout",
     "output_type": "stream",
     "text": [
      "_________________________________________________________________\n",
      "Layer (type)                 Output Shape              Param #   \n",
      "=================================================================\n",
      "input_3 (InputLayer)         (None, 50, 50, 1)         0         \n",
      "_________________________________________________________________\n",
      "conv2d_10 (Conv2D)           (None, 50, 50, 32)        320       \n",
      "_________________________________________________________________\n",
      "batch_normalization_2 (Batch (None, 50, 50, 32)        128       \n",
      "_________________________________________________________________\n",
      "activation_4 (Activation)    (None, 50, 50, 32)        0         \n",
      "_________________________________________________________________\n",
      "max_pooling2d_7 (MaxPooling2 (None, 25, 25, 32)        0         \n",
      "_________________________________________________________________\n",
      "conv2d_11 (Conv2D)           (None, 25, 25, 64)        18496     \n",
      "_________________________________________________________________\n",
      "batch_normalization_3 (Batch (None, 25, 25, 64)        256       \n",
      "_________________________________________________________________\n",
      "activation_5 (Activation)    (None, 25, 25, 64)        0         \n",
      "_________________________________________________________________\n",
      "max_pooling2d_8 (MaxPooling2 (None, 12, 12, 64)        0         \n",
      "_________________________________________________________________\n",
      "conv2d_12 (Conv2D)           (None, 12, 12, 64)        36928     \n",
      "_________________________________________________________________\n",
      "batch_normalization_4 (Batch (None, 12, 12, 64)        256       \n",
      "_________________________________________________________________\n",
      "activation_6 (Activation)    (None, 12, 12, 64)        0         \n",
      "_________________________________________________________________\n",
      "flatten_4 (Flatten)          (None, 9216)              0         \n",
      "_________________________________________________________________\n",
      "dense_4 (Dense)              (None, 3)                 27651     \n",
      "=================================================================\n",
      "Total params: 84,035\n",
      "Trainable params: 83,715\n",
      "Non-trainable params: 320\n",
      "_________________________________________________________________\n"
     ]
    }
   ],
   "source": [
    "model_split_activation_batchnorm.summary()"
   ]
  },
  {
   "cell_type": "markdown",
   "metadata": {},
   "source": [
    "## validation accuracy is jumping around so we will try increasing the batch size"
   ]
  },
  {
   "cell_type": "code",
   "execution_count": 59,
   "metadata": {},
   "outputs": [
    {
     "name": "stdout",
     "output_type": "stream",
     "text": [
      "Found 2000 images belonging to 3 classes.\n",
      "Found 500 images belonging to 3 classes.\n"
     ]
    }
   ],
   "source": [
    "train_datagen2 = ImageDataGenerator(rescale=1./255)\n",
    "\n",
    "test_datagen2 = ImageDataGenerator(rescale=1./255)\n",
    "\n",
    "train_generator2 = train_datagen2.flow_from_directory(\n",
    "        train_dir,\n",
    "        target_size=(50, 50),\n",
    "        batch_size=40,\n",
    "        class_mode='categorical', \n",
    "        color_mode='grayscale')\n",
    "\n",
    "validation_generator2 = test_datagen2.flow_from_directory(\n",
    "        valid_dir, \n",
    "        target_size=(50, 50),\n",
    "        shuffle=False,\n",
    "        batch_size=20,\n",
    "        class_mode='categorical',\n",
    "        color_mode='grayscale')"
   ]
  },
  {
   "cell_type": "code",
   "execution_count": 60,
   "metadata": {},
   "outputs": [
    {
     "name": "stdout",
     "output_type": "stream",
     "text": [
      "Epoch 1/2\n",
      "100/100 [==============================] - 48s - loss: 0.6198 - acc: 0.8012 - val_loss: 1.3899 - val_acc: 0.3125\n",
      "Epoch 2/2\n",
      "100/100 [==============================] - 48s - loss: 0.2568 - acc: 0.9068 - val_loss: 2.3841 - val_acc: 0.2917\n"
     ]
    },
    {
     "data": {
      "text/plain": [
       "<keras.callbacks.History at 0x7f2895eefe10>"
      ]
     },
     "execution_count": 60,
     "metadata": {},
     "output_type": "execute_result"
    }
   ],
   "source": [
    "lr = 0.0001\n",
    "K.set_value(model.optimizer.lr, lr)\n",
    "model_split_activation_batchnorm.fit_generator(\n",
    "        train_generator2,\n",
    "        steps_per_epoch=100,\n",
    "        epochs=2,\n",
    "        validation_data=validation_generator2,\n",
    "        validation_steps=60)"
   ]
  },
  {
   "cell_type": "markdown",
   "metadata": {},
   "source": [
    "## changing model to include dropout "
   ]
  },
  {
   "cell_type": "code",
   "execution_count": 61,
   "metadata": {
    "collapsed": true
   },
   "outputs": [],
   "source": [
    "classifier_input = Input(shape=input_shape)\n",
    "\n",
    "p=0.6\n",
    "\n",
    "x = Conv2D(32, (3, 3), activation=None, padding='same')(classifier_input)\n",
    "x = BatchNormalization(axis=-1)(x)\n",
    "x = Activation('relu')(x)\n",
    "x = Dropout(p/4)(x)\n",
    "x = MaxPooling2D()(x)\n",
    "x = Conv2D(64, (3, 3), activation=None, padding='same')(x)\n",
    "x = BatchNormalization(axis=-1)(x)\n",
    "x = Activation('relu')(x)\n",
    "x = Dropout(p/2)(x)\n",
    "x = MaxPooling2D()(x)\n",
    "x = Conv2D(64, (3, 3), activation=None, padding='same')(x)\n",
    "x = BatchNormalization(axis=-1)(x)\n",
    "x = Activation('relu')(x)\n",
    "x = Dropout(p)(x)\n",
    "x = Flatten()(x)\n",
    "x = Dense(num_classes, activation='softmax')(x)\n",
    "\n",
    "model_batchnorm_dropout = Model(outputs=x, inputs=classifier_input)\n",
    "model_batchnorm_dropout.compile(optimizer='rmsprop', loss='categorical_crossentropy', metrics=['accuracy'])"
   ]
  },
  {
   "cell_type": "code",
   "execution_count": 62,
   "metadata": {},
   "outputs": [
    {
     "name": "stdout",
     "output_type": "stream",
     "text": [
      "Epoch 1/1\n",
      "100/100 [==============================] - 53s - loss: 0.7397 - acc: 0.7657 - val_loss: 1.2004 - val_acc: 0.2083\n"
     ]
    },
    {
     "data": {
      "text/plain": [
       "<keras.callbacks.History at 0x7f2894af23d0>"
      ]
     },
     "execution_count": 62,
     "metadata": {},
     "output_type": "execute_result"
    }
   ],
   "source": [
    "lr = 0.001\n",
    "K.set_value(model.optimizer.lr, lr)\n",
    "model_batchnorm_dropout.fit_generator(\n",
    "        train_generator2,\n",
    "        steps_per_epoch=100,\n",
    "        epochs=1,\n",
    "        validation_data=validation_generator2,\n",
    "        validation_steps=60)"
   ]
  },
  {
   "cell_type": "code",
   "execution_count": 63,
   "metadata": {},
   "outputs": [
    {
     "name": "stdout",
     "output_type": "stream",
     "text": [
      "Epoch 1/1\n",
      "100/100 [==============================] - 53s - loss: 0.3316 - acc: 0.8847 - val_loss: 2.1080 - val_acc: 0.2083\n"
     ]
    },
    {
     "data": {
      "text/plain": [
       "<keras.callbacks.History at 0x7f2895d20f90>"
      ]
     },
     "execution_count": 63,
     "metadata": {},
     "output_type": "execute_result"
    }
   ],
   "source": [
    "lr = 0.0001\n",
    "K.set_value(model.optimizer.lr, lr)\n",
    "model_batchnorm_dropout.fit_generator(\n",
    "        train_generator2,\n",
    "        steps_per_epoch=100,\n",
    "        epochs=1,\n",
    "        validation_data=validation_generator2,\n",
    "        validation_steps=60)"
   ]
  },
  {
   "cell_type": "code",
   "execution_count": 64,
   "metadata": {},
   "outputs": [
    {
     "name": "stdout",
     "output_type": "stream",
     "text": [
      "Epoch 1/1\n",
      "100/100 [==============================] - 53s - loss: 0.2258 - acc: 0.9190 - val_loss: 1.8695 - val_acc: 0.2292\n"
     ]
    },
    {
     "data": {
      "text/plain": [
       "<keras.callbacks.History at 0x7f2894908610>"
      ]
     },
     "execution_count": 64,
     "metadata": {},
     "output_type": "execute_result"
    }
   ],
   "source": [
    "lr = 0.0001\n",
    "K.set_value(model.optimizer.lr, lr)\n",
    "model_batchnorm_dropout.fit_generator(\n",
    "        train_generator2,\n",
    "        steps_per_epoch=100,\n",
    "        epochs=1,\n",
    "        validation_data=validation_generator2,\n",
    "        validation_steps=60)"
   ]
  },
  {
   "cell_type": "markdown",
   "metadata": {},
   "source": [
    "## Finally data augmentation (on pretrained best model = model_batchnorm_dropout)"
   ]
  },
  {
   "cell_type": "code",
   "execution_count": 65,
   "metadata": {},
   "outputs": [
    {
     "name": "stdout",
     "output_type": "stream",
     "text": [
      "Found 2000 images belonging to 3 classes.\n",
      "Found 500 images belonging to 3 classes.\n"
     ]
    }
   ],
   "source": [
    "train_datagen_aug = ImageDataGenerator(\n",
    "        rescale=1./255,\n",
    "        shear_range=0.2,\n",
    "        zoom_range=0.2,\n",
    "        rotation_range=90,\n",
    "        horizontal_flip=True,\n",
    "        vertical_flip=True)\n",
    "\n",
    "test_datagen_aug = ImageDataGenerator(rescale=1./255)\n",
    "\n",
    "train_generator_aug = train_datagen_aug.flow_from_directory(\n",
    "        train_dir,\n",
    "        target_size=(50, 50),\n",
    "        batch_size=40,\n",
    "        class_mode='categorical', \n",
    "        color_mode='grayscale')\n",
    "\n",
    "validation_generator_aug = test_datagen_aug.flow_from_directory(\n",
    "        valid_dir, \n",
    "        target_size=(50, 50),\n",
    "        shuffle=False,\n",
    "        batch_size=20,\n",
    "        class_mode='categorical',\n",
    "        color_mode='grayscale')"
   ]
  },
  {
   "cell_type": "code",
   "execution_count": 66,
   "metadata": {},
   "outputs": [
    {
     "name": "stdout",
     "output_type": "stream",
     "text": [
      "Epoch 1/1\n",
      "100/100 [==============================] - 53s - loss: 0.1706 - acc: 0.9373 - val_loss: 1.1963 - val_acc: 0.4825\n"
     ]
    },
    {
     "data": {
      "text/plain": [
       "<keras.callbacks.History at 0x7f2896fb0b90>"
      ]
     },
     "execution_count": 66,
     "metadata": {},
     "output_type": "execute_result"
    }
   ],
   "source": [
    "lr = 0.0001\n",
    "K.set_value(model.optimizer.lr, lr)\n",
    "model_batchnorm_dropout.fit_generator(\n",
    "        train_generator2,\n",
    "        steps_per_epoch=100,\n",
    "        epochs=1,\n",
    "        validation_data=validation_generator2,\n",
    "        validation_steps=60)"
   ]
  },
  {
   "cell_type": "code",
   "execution_count": 67,
   "metadata": {},
   "outputs": [
    {
     "name": "stdout",
     "output_type": "stream",
     "text": [
      "Epoch 1/1\n",
      "100/100 [==============================] - 53s - loss: 0.1341 - acc: 0.9493 - val_loss: 1.1925 - val_acc: 0.5292\n"
     ]
    },
    {
     "data": {
      "text/plain": [
       "<keras.callbacks.History at 0x7f28949726d0>"
      ]
     },
     "execution_count": 67,
     "metadata": {},
     "output_type": "execute_result"
    }
   ],
   "source": [
    "lr = 0.0001\n",
    "K.set_value(model.optimizer.lr, lr)\n",
    "model_batchnorm_dropout.fit_generator(\n",
    "        train_generator2,\n",
    "        steps_per_epoch=100,\n",
    "        epochs=1,\n",
    "        validation_data=validation_generator2,\n",
    "        validation_steps=60)"
   ]
  },
  {
   "cell_type": "code",
   "execution_count": 68,
   "metadata": {},
   "outputs": [
    {
     "name": "stdout",
     "output_type": "stream",
     "text": [
      "Epoch 1/1\n",
      "100/100 [==============================] - 53s - loss: 0.1391 - acc: 0.9533 - val_loss: 1.4510 - val_acc: 0.4883\n"
     ]
    },
    {
     "data": {
      "text/plain": [
       "<keras.callbacks.History at 0x7f289c53cbd0>"
      ]
     },
     "execution_count": 68,
     "metadata": {},
     "output_type": "execute_result"
    }
   ],
   "source": [
    "lr = 0.0001\n",
    "K.set_value(model.optimizer.lr, lr)\n",
    "model_batchnorm_dropout.fit_generator(\n",
    "        train_generator2,\n",
    "        steps_per_epoch=100,\n",
    "        epochs=1,\n",
    "        validation_data=validation_generator2,\n",
    "        validation_steps=60)"
   ]
  },
  {
   "cell_type": "code",
   "execution_count": 69,
   "metadata": {},
   "outputs": [
    {
     "name": "stdout",
     "output_type": "stream",
     "text": [
      "Epoch 1/1\n",
      "100/100 [==============================] - 53s - loss: 0.1131 - acc: 0.9645 - val_loss: 0.5356 - val_acc: 0.8317\n"
     ]
    },
    {
     "data": {
      "text/plain": [
       "<keras.callbacks.History at 0x7f2894972710>"
      ]
     },
     "execution_count": 69,
     "metadata": {},
     "output_type": "execute_result"
    }
   ],
   "source": [
    "lr = 0.0001\n",
    "K.set_value(model.optimizer.lr, lr)\n",
    "model_batchnorm_dropout.fit_generator(\n",
    "        train_generator2,\n",
    "        steps_per_epoch=100,\n",
    "        epochs=1,\n",
    "        validation_data=validation_generator2,\n",
    "        validation_steps=60)"
   ]
  },
  {
   "cell_type": "code",
   "execution_count": 70,
   "metadata": {
    "collapsed": true
   },
   "outputs": [],
   "source": [
    "model.save_weights(trained_model_dir + \"simple_model_with_dataAug_valAcc96.h5\")"
   ]
  },
  {
   "cell_type": "code",
   "execution_count": null,
   "metadata": {
    "collapsed": true
   },
   "outputs": [],
   "source": []
  }
 ],
 "metadata": {
  "kernelspec": {
   "display_name": "Python 2",
   "language": "python",
   "name": "python2"
  },
  "language_info": {
   "codemirror_mode": {
    "name": "ipython",
    "version": 2
   },
   "file_extension": ".py",
   "mimetype": "text/x-python",
   "name": "python",
   "nbconvert_exporter": "python",
   "pygments_lexer": "ipython2",
   "version": "2.7.6"
  }
 },
 "nbformat": 4,
 "nbformat_minor": 2
}
