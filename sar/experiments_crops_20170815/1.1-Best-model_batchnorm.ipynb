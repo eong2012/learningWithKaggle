{
 "cells": [
  {
   "cell_type": "markdown",
   "metadata": {},
   "source": [
    "## changing model to deal with overfitting - batchnorm? \n"
   ]
  },
  {
   "cell_type": "code",
   "execution_count": 347,
   "metadata": {
    "collapsed": true
   },
   "outputs": [],
   "source": [
    "classifier_input = Input(shape=input_shape)\n",
    "\n",
    "x = Conv2D(32, (3, 3), activation='relu', padding='same')(classifier_input)\n",
    "x = MaxPooling2D()(x)\n",
    "x = Conv2D(64, (3, 3), activation='relu', padding='same')(x)\n",
    "x = BatchNormalization(axis=-1)(x)\n",
    "x = MaxPooling2D()(x)\n",
    "x = Conv2D(64, (3, 3), activation='relu', padding='same')(x)\n",
    "x = Flatten()(x)\n",
    "x = Dense(num_classes, activation='softmax')(x)\n",
    "\n",
    "model_batchnorm = Model(outputs=x, inputs=classifier_input)\n",
    "model_batchnorm.compile(optimizer='rmsprop', loss='categorical_crossentropy', metrics=['accuracy'])"
   ]
  },
  {
   "cell_type": "code",
   "execution_count": 348,
   "metadata": {},
   "outputs": [
    {
     "name": "stdout",
     "output_type": "stream",
     "text": [
      "_________________________________________________________________\n",
      "Layer (type)                 Output Shape              Param #   \n",
      "=================================================================\n",
      "input_5 (InputLayer)         (None, 50, 50, 1)         0         \n",
      "_________________________________________________________________\n",
      "conv2d_16 (Conv2D)           (None, 50, 50, 32)        320       \n",
      "_________________________________________________________________\n",
      "max_pooling2d_11 (MaxPooling (None, 25, 25, 32)        0         \n",
      "_________________________________________________________________\n",
      "conv2d_17 (Conv2D)           (None, 25, 25, 64)        18496     \n",
      "_________________________________________________________________\n",
      "batch_normalization_6 (Batch (None, 25, 25, 64)        256       \n",
      "_________________________________________________________________\n",
      "max_pooling2d_12 (MaxPooling (None, 12, 12, 64)        0         \n",
      "_________________________________________________________________\n",
      "conv2d_18 (Conv2D)           (None, 12, 12, 64)        36928     \n",
      "_________________________________________________________________\n",
      "flatten_6 (Flatten)          (None, 9216)              0         \n",
      "_________________________________________________________________\n",
      "dense_6 (Dense)              (None, 3)                 27651     \n",
      "=================================================================\n",
      "Total params: 83,651\n",
      "Trainable params: 83,523\n",
      "Non-trainable params: 128\n",
      "_________________________________________________________________\n"
     ]
    }
   ],
   "source": [
    "model_batchnorm.summary()"
   ]
  },
  {
   "cell_type": "code",
   "execution_count": 349,
   "metadata": {},
   "outputs": [
    {
     "name": "stdout",
     "output_type": "stream",
     "text": [
      "Epoch 1/10\n",
      "100/100 [==============================] - 15s - loss: 0.4586 - acc: 0.8255 - val_loss: 0.9739 - val_acc: 0.8567\n",
      "Epoch 2/10\n",
      "100/100 [==============================] - 15s - loss: 0.2229 - acc: 0.9090 - val_loss: 0.8172 - val_acc: 0.8900\n",
      "Epoch 3/10\n",
      "100/100 [==============================] - 15s - loss: 0.1628 - acc: 0.9410 - val_loss: 0.5413 - val_acc: 0.9033\n",
      "Epoch 4/10\n",
      "100/100 [==============================] - 15s - loss: 0.1298 - acc: 0.9545 - val_loss: 0.5226 - val_acc: 0.7417\n",
      "Epoch 5/10\n",
      "100/100 [==============================] - 15s - loss: 0.1009 - acc: 0.9600 - val_loss: 0.2858 - val_acc: 0.9050\n",
      "Epoch 6/10\n",
      "100/100 [==============================] - 15s - loss: 0.0738 - acc: 0.9735 - val_loss: 0.1920 - val_acc: 0.9433\n",
      "Epoch 7/10\n",
      "100/100 [==============================] - 15s - loss: 0.0584 - acc: 0.9780 - val_loss: 0.2017 - val_acc: 0.9500\n",
      "Epoch 8/10\n",
      "100/100 [==============================] - 15s - loss: 0.0576 - acc: 0.9775 - val_loss: 0.3083 - val_acc: 0.9383\n",
      "Epoch 9/10\n",
      "100/100 [==============================] - 15s - loss: 0.0487 - acc: 0.9835 - val_loss: 0.2829 - val_acc: 0.9267\n",
      "Epoch 10/10\n",
      "100/100 [==============================] - 15s - loss: 0.0312 - acc: 0.9880 - val_loss: 0.4387 - val_acc: 0.9300\n"
     ]
    },
    {
     "data": {
      "text/plain": [
       "<keras.callbacks.History at 0x7fb8e2eedad0>"
      ]
     },
     "execution_count": 349,
     "metadata": {},
     "output_type": "execute_result"
    }
   ],
   "source": [
    "lr = 0.001\n",
    "K.set_value(model_batchnorm.optimizer.lr, lr)\n",
    "model_batchnorm.fit_generator(\n",
    "        train_generator,\n",
    "        steps_per_epoch=100,\n",
    "        epochs=10,\n",
    "        validation_data=validation_generator,\n",
    "        validation_steps=60)"
   ]
  },
  {
   "cell_type": "code",
   "execution_count": 350,
   "metadata": {},
   "outputs": [
    {
     "name": "stdout",
     "output_type": "stream",
     "text": [
      "Epoch 1/5\n",
      "100/100 [==============================] - 15s - loss: 0.0332 - acc: 0.9870 - val_loss: 0.3250 - val_acc: 0.9433\n",
      "Epoch 2/5\n",
      "100/100 [==============================] - 15s - loss: 0.0228 - acc: 0.9935 - val_loss: 0.4781 - val_acc: 0.9133\n",
      "Epoch 3/5\n",
      "100/100 [==============================] - 15s - loss: 0.0172 - acc: 0.9940 - val_loss: 0.4612 - val_acc: 0.9300\n",
      "Epoch 4/5\n",
      "100/100 [==============================] - 15s - loss: 0.0164 - acc: 0.9940 - val_loss: 0.3434 - val_acc: 0.9383\n",
      "Epoch 5/5\n",
      "100/100 [==============================] - 15s - loss: 0.0147 - acc: 0.9945 - val_loss: 0.3382 - val_acc: 0.9483\n"
     ]
    },
    {
     "data": {
      "text/plain": [
       "<keras.callbacks.History at 0x7fb8e3347890>"
      ]
     },
     "execution_count": 350,
     "metadata": {},
     "output_type": "execute_result"
    }
   ],
   "source": [
    "lr = 0.001\n",
    "K.set_value(model_batchnorm.optimizer.lr, lr)\n",
    "model_batchnorm.fit_generator(\n",
    "        train_generator,\n",
    "        steps_per_epoch=100,\n",
    "        epochs=5,\n",
    "        validation_data=validation_generator,\n",
    "        validation_steps=60)"
   ]
  },
  {
   "cell_type": "code",
   "execution_count": 351,
   "metadata": {},
   "outputs": [
    {
     "name": "stdout",
     "output_type": "stream",
     "text": [
      "Epoch 1/5\n",
      "100/100 [==============================] - 15s - loss: 0.0095 - acc: 0.9955 - val_loss: 0.3582 - val_acc: 0.9567\n",
      "Epoch 2/5\n",
      "100/100 [==============================] - 15s - loss: 0.0168 - acc: 0.9950 - val_loss: 0.4174 - val_acc: 0.9350\n",
      "Epoch 3/5\n",
      "100/100 [==============================] - 15s - loss: 0.0097 - acc: 0.9975 - val_loss: 0.3230 - val_acc: 0.9517\n",
      "Epoch 4/5\n",
      "100/100 [==============================] - 15s - loss: 0.0044 - acc: 0.9985 - val_loss: 0.4570 - val_acc: 0.9333\n",
      "Epoch 5/5\n",
      "100/100 [==============================] - 15s - loss: 0.0048 - acc: 0.9985 - val_loss: 0.3270 - val_acc: 0.9517\n"
     ]
    },
    {
     "data": {
      "text/plain": [
       "<keras.callbacks.History at 0x7fb8e8126790>"
      ]
     },
     "execution_count": 351,
     "metadata": {},
     "output_type": "execute_result"
    }
   ],
   "source": [
    "lr = 0.001\n",
    "K.set_value(model_batchnorm.optimizer.lr, lr)\n",
    "model_batchnorm.fit_generator(\n",
    "        train_generator,\n",
    "        steps_per_epoch=100,\n",
    "        epochs=5,\n",
    "        validation_data=validation_generator,\n",
    "        validation_steps=60)"
   ]
  },
  {
   "cell_type": "code",
   "execution_count": 352,
   "metadata": {},
   "outputs": [
    {
     "name": "stdout",
     "output_type": "stream",
     "text": [
      "Epoch 1/2\n",
      "100/100 [==============================] - 15s - loss: 1.6641e-04 - acc: 1.0000 - val_loss: 0.3662 - val_acc: 0.9483\n",
      "Epoch 2/2\n",
      "100/100 [==============================] - 15s - loss: 2.8684e-05 - acc: 1.0000 - val_loss: 0.3706 - val_acc: 0.9417\n"
     ]
    },
    {
     "data": {
      "text/plain": [
       "<keras.callbacks.History at 0x7fb8e3347cd0>"
      ]
     },
     "execution_count": 352,
     "metadata": {},
     "output_type": "execute_result"
    }
   ],
   "source": [
    "lr = 0.0001\n",
    "K.set_value(model_batchnorm.optimizer.lr, lr)\n",
    "model_batchnorm.fit_generator(\n",
    "        train_generator,\n",
    "        steps_per_epoch=100,\n",
    "        epochs=2,\n",
    "        validation_data=validation_generator,\n",
    "        validation_steps=60)"
   ]
  },
  {
   "cell_type": "code",
   "execution_count": null,
   "metadata": {
    "collapsed": true
   },
   "outputs": [],
   "source": []
  },
  {
   "cell_type": "code",
   "execution_count": null,
   "metadata": {
    "collapsed": true
   },
   "outputs": [],
   "source": []
  }
 ],
 "metadata": {
  "kernelspec": {
   "display_name": "Python 2",
   "language": "python",
   "name": "python2"
  },
  "language_info": {
   "codemirror_mode": {
    "name": "ipython",
    "version": 2
   },
   "file_extension": ".py",
   "mimetype": "text/x-python",
   "name": "python",
   "nbconvert_exporter": "python",
   "pygments_lexer": "ipython2",
   "version": "2.7.6"
  }
 },
 "nbformat": 4,
 "nbformat_minor": 2
}
