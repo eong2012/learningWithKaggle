{
 "cells": [
  {
   "cell_type": "code",
   "execution_count": 3,
   "metadata": {},
   "outputs": [
    {
     "name": "stderr",
     "output_type": "stream",
     "text": [
      "Using TensorFlow backend.\n"
     ]
    },
    {
     "name": "stdout",
     "output_type": "stream",
     "text": [
      "2.0.5\n",
      "0.19.1\n",
      "2.0.0\n",
      "1.13.0\n"
     ]
    }
   ],
   "source": [
    "import matplotlib.pyplot as plt \n",
    "import scipy.misc\n",
    "\n",
    "import numpy as np\n",
    "from keras.layers import Dense, Dropout, Flatten, Input, Conv2D, Cropping2D\n",
    "from keras.layers import MaxPooling2D, ZeroPadding2D, BatchNormalization, Activation, Add, merge, concatenate\n",
    "from keras.models import Model\n",
    "from keras.utils.layer_utils import print_summary\n",
    "from keras.preprocessing.image import ImageDataGenerator\n",
    "from keras import backend as K\n",
    "\n",
    "from keras import __version__ as kv\n",
    "from scipy import __version__ as sv\n",
    "from matplotlib import __version__ as mv\n",
    "from numpy import __version__ as nv\n",
    "\n",
    "print kv\n",
    "print sv\n",
    "print mv\n",
    "print nv"
   ]
  },
  {
   "cell_type": "code",
   "execution_count": 4,
   "metadata": {},
   "outputs": [
    {
     "data": {
      "text/html": [
       "<script>requirejs.config({paths: { 'plotly': ['https://cdn.plot.ly/plotly-latest.min']},});if(!window.Plotly) {{require(['plotly'],function(plotly) {window.Plotly=plotly;});}}</script>"
      ],
      "text/vnd.plotly.v1+html": [
       "<script>requirejs.config({paths: { 'plotly': ['https://cdn.plot.ly/plotly-latest.min']},});if(!window.Plotly) {{require(['plotly'],function(plotly) {window.Plotly=plotly;});}}</script>"
      ]
     },
     "metadata": {},
     "output_type": "display_data"
    },
    {
     "data": {
      "text/html": [
       "<script>requirejs.config({paths: { 'plotly': ['https://cdn.plot.ly/plotly-latest.min']},});if(!window.Plotly) {{require(['plotly'],function(plotly) {window.Plotly=plotly;});}}</script>"
      ],
      "text/vnd.plotly.v1+html": [
       "<script>requirejs.config({paths: { 'plotly': ['https://cdn.plot.ly/plotly-latest.min']},});if(!window.Plotly) {{require(['plotly'],function(plotly) {window.Plotly=plotly;});}}</script>"
      ]
     },
     "metadata": {},
     "output_type": "display_data"
    },
    {
     "data": {
      "text/plain": [
       "<module 'utils' from 'utils.pyc'>"
      ]
     },
     "execution_count": 4,
     "metadata": {},
     "output_type": "execute_result"
    }
   ],
   "source": [
    "# Local files\n",
    "import utils\n",
    "reload(utils)"
   ]
  },
  {
   "cell_type": "markdown",
   "metadata": {},
   "source": [
    "# Data"
   ]
  },
  {
   "cell_type": "markdown",
   "metadata": {},
   "source": [
    "### Config"
   ]
  },
  {
   "cell_type": "code",
   "execution_count": 5,
   "metadata": {
    "collapsed": true
   },
   "outputs": [],
   "source": [
    "trained_model_dir = '/home/ubuntu/data/sar/experiment_crops_20170815/trained_models/2.0-mph_as-best_baseline_with_distance_feature/'"
   ]
  },
  {
   "cell_type": "code",
   "execution_count": 6,
   "metadata": {
    "collapsed": true
   },
   "outputs": [],
   "source": [
    "train_dir = '/home/ubuntu/data/sar/experiment_crops_20170815/train/50x50/'\n",
    "valid_dir = '/home/ubuntu/data/sar/experiment_crops_20170815/validate/50x50/'"
   ]
  },
  {
   "cell_type": "code",
   "execution_count": 7,
   "metadata": {
    "collapsed": true
   },
   "outputs": [],
   "source": [
    "input_shape = (50, 50, 1)\n",
    "num_classes = 3"
   ]
  },
  {
   "cell_type": "markdown",
   "metadata": {},
   "source": [
    "### Convert tif2png"
   ]
  },
  {
   "cell_type": "markdown",
   "metadata": {},
   "source": [
    "Done in 1.1-mph_as_kd-baseline-simple_CNN_from_scratch.ipynb"
   ]
  },
  {
   "cell_type": "markdown",
   "metadata": {},
   "source": [
    "### Add dist2land feature"
   ]
  },
  {
   "cell_type": "code",
   "execution_count": 8,
   "metadata": {
    "collapsed": true
   },
   "outputs": [],
   "source": [
    "train_crops, train_filename, train_feature, train_class, \\\n",
    "valid_crops, valid_filename, valid_feature, valid_class = utils.add_dist2land_experiment_crops_20170815()"
   ]
  },
  {
   "cell_type": "code",
   "execution_count": 9,
   "metadata": {},
   "outputs": [
    {
     "name": "stdout",
     "output_type": "stream",
     "text": [
      "training crops: 1996\n",
      "training features: 1996\n",
      "validation crops: 499\n",
      "validation features: 499\n",
      "<type 'list'> <type 'numpy.ndarray'> (50, 50)\n"
     ]
    }
   ],
   "source": [
    "print \"training crops:\", len(train_crops)\n",
    "print \"training features:\", len(train_feature)\n",
    "print \"validation crops:\", len(valid_filename)\n",
    "print \"validation features:\", len(valid_feature)\n",
    "print type(train_crops), type(train_crops[0]), train_crops[0].shape"
   ]
  },
  {
   "cell_type": "code",
   "execution_count": 10,
   "metadata": {
    "collapsed": true
   },
   "outputs": [],
   "source": [
    "# Reshape for keras format\n",
    "np_train_class = np.array(train_class)\n",
    "np_train_filename = np.array(train_filename)\n",
    "np_train_crops = np.array(train_crops)\n",
    "np_train_feature = np.array(train_feature)\n",
    "\n",
    "np_valid_class = np.array(valid_class)\n",
    "np_valid_filename = np.array(valid_filename)\n",
    "np_valid_crops = np.array(valid_crops)\n",
    "np_valid_feature = np.array(valid_feature)\n",
    "\n",
    "np_train_crops = np.expand_dims(np_train_crops, axis=3)\n",
    "np_train_feature = np.expand_dims(np_train_feature, axis=1)\n",
    "\n",
    "np_valid_crops = np.expand_dims(np_valid_crops, axis=3)\n",
    "np_valid_feature = np.expand_dims(np_valid_feature, axis=1)"
   ]
  },
  {
   "cell_type": "code",
   "execution_count": 11,
   "metadata": {},
   "outputs": [
    {
     "name": "stdout",
     "output_type": "stream",
     "text": [
      "(1996, 50, 50, 1)\n",
      "(1996, 1)\n",
      "(1996, 3)\n",
      "(499, 50, 50, 1)\n",
      "(499, 1)\n",
      "(499, 3)\n"
     ]
    }
   ],
   "source": [
    "print np_train_crops.shape\n",
    "print np_train_feature.shape\n",
    "print np_train_class.shape\n",
    "\n",
    "print np_valid_crops.shape\n",
    "print np_valid_feature.shape\n",
    "print np_valid_class.shape"
   ]
  },
  {
   "cell_type": "markdown",
   "metadata": {},
   "source": [
    "# Experiments"
   ]
  },
  {
   "cell_type": "markdown",
   "metadata": {},
   "source": [
    "## baseline with distance feature"
   ]
  },
  {
   "cell_type": "code",
   "execution_count": 66,
   "metadata": {},
   "outputs": [
    {
     "name": "stderr",
     "output_type": "stream",
     "text": [
      "/usr/local/lib/python2.7/dist-packages/ipykernel_launcher.py:10: UserWarning:\n",
      "\n",
      "The `merge` function is deprecated and will be removed after 08/2017. Use instead layers from `keras.layers.merge`, e.g. `add`, `concatenate`, etc.\n",
      "\n"
     ]
    }
   ],
   "source": [
    "classifier_input = Input(shape=input_shape)\n",
    "dist2land_input = Input(shape=(1,), name='dist2land_input')\n",
    "\n",
    "x = Conv2D(32, (3, 3), activation='relu', padding='same')(classifier_input)\n",
    "x = MaxPooling2D()(x)\n",
    "x = Conv2D(64, (3, 3), activation='relu', padding='same')(x)\n",
    "x = MaxPooling2D()(x)\n",
    "x = Conv2D(64, (3, 3), activation='relu', padding='same')(x)\n",
    "x = Flatten()(x)\n",
    "x = merge([x, dist2land_input], 'concat')\n",
    "out = Dense(num_classes, activation='softmax')(x)\n",
    "\n",
    "model = Model(inputs=[classifier_input, dist2land_input], outputs=out)\n",
    "model.compile(optimizer='rmsprop', loss='categorical_crossentropy', metrics=['accuracy'])"
   ]
  },
  {
   "cell_type": "code",
   "execution_count": 67,
   "metadata": {},
   "outputs": [
    {
     "name": "stdout",
     "output_type": "stream",
     "text": [
      "____________________________________________________________________________________________________\n",
      "Layer (type)                     Output Shape          Param #     Connected to                     \n",
      "====================================================================================================\n",
      "input_9 (InputLayer)             (None, 50, 50, 1)     0                                            \n",
      "____________________________________________________________________________________________________\n",
      "conv2d_25 (Conv2D)               (None, 50, 50, 32)    320         input_9[0][0]                    \n",
      "____________________________________________________________________________________________________\n",
      "max_pooling2d_17 (MaxPooling2D)  (None, 25, 25, 32)    0           conv2d_25[0][0]                  \n",
      "____________________________________________________________________________________________________\n",
      "conv2d_26 (Conv2D)               (None, 25, 25, 64)    18496       max_pooling2d_17[0][0]           \n",
      "____________________________________________________________________________________________________\n",
      "max_pooling2d_18 (MaxPooling2D)  (None, 12, 12, 64)    0           conv2d_26[0][0]                  \n",
      "____________________________________________________________________________________________________\n",
      "conv2d_27 (Conv2D)               (None, 12, 12, 64)    36928       max_pooling2d_18[0][0]           \n",
      "____________________________________________________________________________________________________\n",
      "flatten_9 (Flatten)              (None, 9216)          0           conv2d_27[0][0]                  \n",
      "____________________________________________________________________________________________________\n",
      "dist2land_input (InputLayer)     (None, 1)             0                                            \n",
      "____________________________________________________________________________________________________\n",
      "merge_8 (Merge)                  (None, 9217)          0           flatten_9[0][0]                  \n",
      "                                                                   dist2land_input[0][0]            \n",
      "____________________________________________________________________________________________________\n",
      "dense_12 (Dense)                 (None, 3)             27654       merge_8[0][0]                    \n",
      "====================================================================================================\n",
      "Total params: 83,398\n",
      "Trainable params: 83,398\n",
      "Non-trainable params: 0\n",
      "____________________________________________________________________________________________________\n"
     ]
    }
   ],
   "source": [
    "model.summary()"
   ]
  },
  {
   "cell_type": "code",
   "execution_count": 68,
   "metadata": {},
   "outputs": [
    {
     "data": {
      "image/svg+xml": [
       "<svg height=\"638pt\" viewBox=\"0.00 0.00 356.00 638.00\" width=\"356pt\" xmlns=\"http://www.w3.org/2000/svg\" xmlns:xlink=\"http://www.w3.org/1999/xlink\">\n",
       "<g class=\"graph\" id=\"graph0\" transform=\"scale(1 1) rotate(0) translate(4 634)\">\n",
       "<title>G</title>\n",
       "<polygon fill=\"white\" points=\"-4,4 -4,-634 352,-634 352,4 -4,4\" stroke=\"none\"/>\n",
       "<!-- 140072420953296 -->\n",
       "<g class=\"node\" id=\"node1\"><title>140072420953296</title>\n",
       "<polygon fill=\"none\" points=\"44.5,-593 44.5,-629 169.5,-629 169.5,-593 44.5,-593\" stroke=\"black\"/>\n",
       "<text font-family=\"Times,serif\" font-size=\"14.00\" text-anchor=\"middle\" x=\"107\" y=\"-607.3\">input_9: InputLayer</text>\n",
       "</g>\n",
       "<!-- 140072420952784 -->\n",
       "<g class=\"node\" id=\"node2\"><title>140072420952784</title>\n",
       "<polygon fill=\"none\" points=\"42,-519 42,-555 172,-555 172,-519 42,-519\" stroke=\"black\"/>\n",
       "<text font-family=\"Times,serif\" font-size=\"14.00\" text-anchor=\"middle\" x=\"107\" y=\"-533.3\">conv2d_25: Conv2D</text>\n",
       "</g>\n",
       "<!-- 140072420953296&#45;&gt;140072420952784 -->\n",
       "<g class=\"edge\" id=\"edge1\"><title>140072420953296-&gt;140072420952784</title>\n",
       "<path d=\"M107,-592.937C107,-584.807 107,-574.876 107,-565.705\" fill=\"none\" stroke=\"black\"/>\n",
       "<polygon fill=\"black\" points=\"110.5,-565.441 107,-555.441 103.5,-565.441 110.5,-565.441\" stroke=\"black\"/>\n",
       "</g>\n",
       "<!-- 140072421124880 -->\n",
       "<g class=\"node\" id=\"node3\"><title>140072421124880</title>\n",
       "<polygon fill=\"none\" points=\"0,-445 0,-481 214,-481 214,-445 0,-445\" stroke=\"black\"/>\n",
       "<text font-family=\"Times,serif\" font-size=\"14.00\" text-anchor=\"middle\" x=\"107\" y=\"-459.3\">max_pooling2d_17: MaxPooling2D</text>\n",
       "</g>\n",
       "<!-- 140072420952784&#45;&gt;140072421124880 -->\n",
       "<g class=\"edge\" id=\"edge2\"><title>140072420952784-&gt;140072421124880</title>\n",
       "<path d=\"M107,-518.937C107,-510.807 107,-500.876 107,-491.705\" fill=\"none\" stroke=\"black\"/>\n",
       "<polygon fill=\"black\" points=\"110.5,-491.441 107,-481.441 103.5,-491.441 110.5,-491.441\" stroke=\"black\"/>\n",
       "</g>\n",
       "<!-- 140072429720720 -->\n",
       "<g class=\"node\" id=\"node4\"><title>140072429720720</title>\n",
       "<polygon fill=\"none\" points=\"42,-371 42,-407 172,-407 172,-371 42,-371\" stroke=\"black\"/>\n",
       "<text font-family=\"Times,serif\" font-size=\"14.00\" text-anchor=\"middle\" x=\"107\" y=\"-385.3\">conv2d_26: Conv2D</text>\n",
       "</g>\n",
       "<!-- 140072421124880&#45;&gt;140072429720720 -->\n",
       "<g class=\"edge\" id=\"edge3\"><title>140072421124880-&gt;140072429720720</title>\n",
       "<path d=\"M107,-444.937C107,-436.807 107,-426.876 107,-417.705\" fill=\"none\" stroke=\"black\"/>\n",
       "<polygon fill=\"black\" points=\"110.5,-417.441 107,-407.441 103.5,-417.441 110.5,-417.441\" stroke=\"black\"/>\n",
       "</g>\n",
       "<!-- 140072420943056 -->\n",
       "<g class=\"node\" id=\"node5\"><title>140072420943056</title>\n",
       "<polygon fill=\"none\" points=\"0,-297 0,-333 214,-333 214,-297 0,-297\" stroke=\"black\"/>\n",
       "<text font-family=\"Times,serif\" font-size=\"14.00\" text-anchor=\"middle\" x=\"107\" y=\"-311.3\">max_pooling2d_18: MaxPooling2D</text>\n",
       "</g>\n",
       "<!-- 140072429720720&#45;&gt;140072420943056 -->\n",
       "<g class=\"edge\" id=\"edge4\"><title>140072429720720-&gt;140072420943056</title>\n",
       "<path d=\"M107,-370.937C107,-362.807 107,-352.876 107,-343.705\" fill=\"none\" stroke=\"black\"/>\n",
       "<polygon fill=\"black\" points=\"110.5,-343.441 107,-333.441 103.5,-343.441 110.5,-343.441\" stroke=\"black\"/>\n",
       "</g>\n",
       "<!-- 140072420942096 -->\n",
       "<g class=\"node\" id=\"node6\"><title>140072420942096</title>\n",
       "<polygon fill=\"none\" points=\"42,-223 42,-259 172,-259 172,-223 42,-223\" stroke=\"black\"/>\n",
       "<text font-family=\"Times,serif\" font-size=\"14.00\" text-anchor=\"middle\" x=\"107\" y=\"-237.3\">conv2d_27: Conv2D</text>\n",
       "</g>\n",
       "<!-- 140072420943056&#45;&gt;140072420942096 -->\n",
       "<g class=\"edge\" id=\"edge5\"><title>140072420943056-&gt;140072420942096</title>\n",
       "<path d=\"M107,-296.937C107,-288.807 107,-278.876 107,-269.705\" fill=\"none\" stroke=\"black\"/>\n",
       "<polygon fill=\"black\" points=\"110.5,-269.441 107,-259.441 103.5,-269.441 110.5,-269.441\" stroke=\"black\"/>\n",
       "</g>\n",
       "<!-- 140072420839376 -->\n",
       "<g class=\"node\" id=\"node7\"><title>140072420839376</title>\n",
       "<polygon fill=\"none\" points=\"52,-149 52,-185 162,-185 162,-149 52,-149\" stroke=\"black\"/>\n",
       "<text font-family=\"Times,serif\" font-size=\"14.00\" text-anchor=\"middle\" x=\"107\" y=\"-163.3\">flatten_9: Flatten</text>\n",
       "</g>\n",
       "<!-- 140072420942096&#45;&gt;140072420839376 -->\n",
       "<g class=\"edge\" id=\"edge6\"><title>140072420942096-&gt;140072420839376</title>\n",
       "<path d=\"M107,-222.937C107,-214.807 107,-204.876 107,-195.705\" fill=\"none\" stroke=\"black\"/>\n",
       "<polygon fill=\"black\" points=\"110.5,-195.441 107,-185.441 103.5,-195.441 110.5,-195.441\" stroke=\"black\"/>\n",
       "</g>\n",
       "<!-- 140072421123152 -->\n",
       "<g class=\"node\" id=\"node9\"><title>140072421123152</title>\n",
       "<polygon fill=\"none\" points=\"131,-75 131,-111 239,-111 239,-75 131,-75\" stroke=\"black\"/>\n",
       "<text font-family=\"Times,serif\" font-size=\"14.00\" text-anchor=\"middle\" x=\"185\" y=\"-89.3\">merge_8: Merge</text>\n",
       "</g>\n",
       "<!-- 140072420839376&#45;&gt;140072421123152 -->\n",
       "<g class=\"edge\" id=\"edge7\"><title>140072420839376-&gt;140072421123152</title>\n",
       "<path d=\"M125.485,-148.937C135.418,-139.768 147.833,-128.308 158.75,-118.231\" fill=\"none\" stroke=\"black\"/>\n",
       "<polygon fill=\"black\" points=\"161.403,-120.545 166.377,-111.19 156.655,-115.401 161.403,-120.545\" stroke=\"black\"/>\n",
       "</g>\n",
       "<!-- 140072416909520 -->\n",
       "<g class=\"node\" id=\"node8\"><title>140072416909520</title>\n",
       "<polygon fill=\"none\" points=\"180,-149 180,-185 348,-185 348,-149 180,-149\" stroke=\"black\"/>\n",
       "<text font-family=\"Times,serif\" font-size=\"14.00\" text-anchor=\"middle\" x=\"264\" y=\"-163.3\">dist2land_input: InputLayer</text>\n",
       "</g>\n",
       "<!-- 140072416909520&#45;&gt;140072421123152 -->\n",
       "<g class=\"edge\" id=\"edge8\"><title>140072416909520-&gt;140072421123152</title>\n",
       "<path d=\"M245.278,-148.937C235.12,-139.679 222.4,-128.086 211.265,-117.938\" fill=\"none\" stroke=\"black\"/>\n",
       "<polygon fill=\"black\" points=\"213.61,-115.339 203.861,-111.19 208.895,-120.513 213.61,-115.339\" stroke=\"black\"/>\n",
       "</g>\n",
       "<!-- 140072373341072 -->\n",
       "<g class=\"node\" id=\"node10\"><title>140072373341072</title>\n",
       "<polygon fill=\"none\" points=\"130.5,-1 130.5,-37 239.5,-37 239.5,-1 130.5,-1\" stroke=\"black\"/>\n",
       "<text font-family=\"Times,serif\" font-size=\"14.00\" text-anchor=\"middle\" x=\"185\" y=\"-15.3\">dense_12: Dense</text>\n",
       "</g>\n",
       "<!-- 140072421123152&#45;&gt;140072373341072 -->\n",
       "<g class=\"edge\" id=\"edge9\"><title>140072421123152-&gt;140072373341072</title>\n",
       "<path d=\"M185,-74.937C185,-66.8072 185,-56.8761 185,-47.7047\" fill=\"none\" stroke=\"black\"/>\n",
       "<polygon fill=\"black\" points=\"188.5,-47.4406 185,-37.4407 181.5,-47.4407 188.5,-47.4406\" stroke=\"black\"/>\n",
       "</g>\n",
       "</g>\n",
       "</svg>"
      ],
      "text/plain": [
       "<IPython.core.display.SVG object>"
      ]
     },
     "execution_count": 68,
     "metadata": {},
     "output_type": "execute_result"
    }
   ],
   "source": [
    "from IPython.display import SVG\n",
    "from keras.utils.vis_utils import model_to_dot\n",
    "\n",
    "SVG(model_to_dot(model).create(prog='dot', format='svg'))"
   ]
  },
  {
   "cell_type": "code",
   "execution_count": 69,
   "metadata": {},
   "outputs": [
    {
     "name": "stdout",
     "output_type": "stream",
     "text": [
      "Train on 1996 samples, validate on 499 samples\n",
      "Epoch 1/10\n",
      "1996/1996 [==============================] - 10s - loss: 1.1930 - acc: 0.7941 - val_loss: 0.3837 - val_acc: 0.8758\n",
      "Epoch 2/10\n",
      "1996/1996 [==============================] - 10s - loss: 0.2408 - acc: 0.9123 - val_loss: 0.1962 - val_acc: 0.9319\n",
      "Epoch 3/10\n",
      "1996/1996 [==============================] - 10s - loss: 0.1614 - acc: 0.9409 - val_loss: 0.2416 - val_acc: 0.9178\n",
      "Epoch 4/10\n",
      "1996/1996 [==============================] - 10s - loss: 0.1464 - acc: 0.9509 - val_loss: 0.2106 - val_acc: 0.9379\n",
      "Epoch 5/10\n",
      "1996/1996 [==============================] - 10s - loss: 0.1084 - acc: 0.9594 - val_loss: 0.3780 - val_acc: 0.9158\n",
      "Epoch 6/10\n",
      "1996/1996 [==============================] - 10s - loss: 0.0855 - acc: 0.9739 - val_loss: 0.2573 - val_acc: 0.9519\n",
      "Epoch 7/10\n",
      "1996/1996 [==============================] - 10s - loss: 0.0645 - acc: 0.9780 - val_loss: 0.2365 - val_acc: 0.9439\n",
      "Epoch 8/10\n",
      "1996/1996 [==============================] - 10s - loss: 0.0623 - acc: 0.9780 - val_loss: 0.3805 - val_acc: 0.9118\n",
      "Epoch 9/10\n",
      "1996/1996 [==============================] - 10s - loss: 0.0527 - acc: 0.9830 - val_loss: 0.2663 - val_acc: 0.9339\n",
      "Epoch 10/10\n",
      "1996/1996 [==============================] - 10s - loss: 0.0416 - acc: 0.9870 - val_loss: 0.2674 - val_acc: 0.9439\n"
     ]
    },
    {
     "data": {
      "text/plain": [
       "<keras.callbacks.History at 0x7f64ef779fd0>"
      ]
     },
     "execution_count": 69,
     "metadata": {},
     "output_type": "execute_result"
    }
   ],
   "source": [
    "lr = 0.001\n",
    "K.set_value(model.optimizer.lr, lr)\n",
    "model.fit([np_train_crops, np_train_feature], np_train_class,\n",
    "          batch_size=32,\n",
    "          epochs=10,\n",
    "          validation_data=([np_valid_crops, np_valid_feature], np_valid_class))"
   ]
  },
  {
   "cell_type": "code",
   "execution_count": 84,
   "metadata": {},
   "outputs": [
    {
     "name": "stdout",
     "output_type": "stream",
     "text": [
      "Train on 1996 samples, validate on 499 samples\n",
      "Epoch 1/10\n",
      "1996/1996 [==============================] - 10s - loss: 0.0215 - acc: 0.9940 - val_loss: 0.4625 - val_acc: 0.9078\n",
      "Epoch 2/10\n",
      "1996/1996 [==============================] - 10s - loss: 0.0336 - acc: 0.9890 - val_loss: 0.2898 - val_acc: 0.9479\n",
      "Epoch 3/10\n",
      "1996/1996 [==============================] - 10s - loss: 0.0249 - acc: 0.9930 - val_loss: 0.3455 - val_acc: 0.9379\n",
      "Epoch 4/10\n",
      "1996/1996 [==============================] - 10s - loss: 0.0230 - acc: 0.9905 - val_loss: 0.2765 - val_acc: 0.9519\n",
      "Epoch 5/10\n",
      "1996/1996 [==============================] - 10s - loss: 0.0281 - acc: 0.9910 - val_loss: 0.3130 - val_acc: 0.9459\n",
      "Epoch 6/10\n",
      "1996/1996 [==============================] - 10s - loss: 0.0175 - acc: 0.9935 - val_loss: 0.3436 - val_acc: 0.9359\n",
      "Epoch 7/10\n",
      "1996/1996 [==============================] - 10s - loss: 0.0152 - acc: 0.9960 - val_loss: 0.3443 - val_acc: 0.9359\n",
      "Epoch 8/10\n",
      "1996/1996 [==============================] - 10s - loss: 0.0182 - acc: 0.9960 - val_loss: 0.3244 - val_acc: 0.9399\n",
      "Epoch 9/10\n",
      "1996/1996 [==============================] - 10s - loss: 0.0073 - acc: 0.9975 - val_loss: 0.2449 - val_acc: 0.9479\n",
      "Epoch 10/10\n",
      "1996/1996 [==============================] - 10s - loss: 0.0071 - acc: 0.9985 - val_loss: 0.7776 - val_acc: 0.9018\n"
     ]
    },
    {
     "data": {
      "text/plain": [
       "<keras.callbacks.History at 0x7f64ee496f10>"
      ]
     },
     "execution_count": 84,
     "metadata": {},
     "output_type": "execute_result"
    }
   ],
   "source": [
    "model.fit([np_train_crops, np_train_feature], np_train_class,\n",
    "          batch_size=32,\n",
    "          epochs=10,\n",
    "          validation_data=([np_valid_crops, np_valid_feature], np_valid_class))"
   ]
  },
  {
   "cell_type": "markdown",
   "metadata": {},
   "source": [
    "## baseline with distance feature + more later dense layers"
   ]
  },
  {
   "cell_type": "code",
   "execution_count": 86,
   "metadata": {},
   "outputs": [
    {
     "name": "stderr",
     "output_type": "stream",
     "text": [
      "/usr/local/lib/python2.7/dist-packages/ipykernel_launcher.py:7: UserWarning:\n",
      "\n",
      "The `merge` function is deprecated and will be removed after 08/2017. Use instead layers from `keras.layers.merge`, e.g. `add`, `concatenate`, etc.\n",
      "\n"
     ]
    }
   ],
   "source": [
    "x = Conv2D(32, (3, 3), activation='relu', padding='same')(classifier_input)\n",
    "x = MaxPooling2D()(x)\n",
    "x = Conv2D(64, (3, 3), activation='relu', padding='same')(x)\n",
    "x = MaxPooling2D()(x)\n",
    "x = Conv2D(64, (3, 3), activation='relu', padding='same')(x)\n",
    "x = Flatten()(x)\n",
    "x = merge([x, dist2land_input], 'concat')\n",
    "x = Dense(64)(x)\n",
    "x = Dense(32)(x)\n",
    "out = Dense(num_classes, activation='softmax')(x)\n",
    "\n",
    "model_dense = Model(inputs=[classifier_input, dist2land_input], outputs=out)\n",
    "model_dense.compile(optimizer='rmsprop', loss='categorical_crossentropy', metrics=['accuracy'])"
   ]
  },
  {
   "cell_type": "code",
   "execution_count": 87,
   "metadata": {},
   "outputs": [
    {
     "name": "stdout",
     "output_type": "stream",
     "text": [
      "____________________________________________________________________________________________________\n",
      "Layer (type)                     Output Shape          Param #     Connected to                     \n",
      "====================================================================================================\n",
      "input_9 (InputLayer)             (None, 50, 50, 1)     0                                            \n",
      "____________________________________________________________________________________________________\n",
      "conv2d_37 (Conv2D)               (None, 50, 50, 32)    320         input_9[0][0]                    \n",
      "____________________________________________________________________________________________________\n",
      "max_pooling2d_25 (MaxPooling2D)  (None, 25, 25, 32)    0           conv2d_37[0][0]                  \n",
      "____________________________________________________________________________________________________\n",
      "conv2d_38 (Conv2D)               (None, 25, 25, 64)    18496       max_pooling2d_25[0][0]           \n",
      "____________________________________________________________________________________________________\n",
      "max_pooling2d_26 (MaxPooling2D)  (None, 12, 12, 64)    0           conv2d_38[0][0]                  \n",
      "____________________________________________________________________________________________________\n",
      "conv2d_39 (Conv2D)               (None, 12, 12, 64)    36928       max_pooling2d_26[0][0]           \n",
      "____________________________________________________________________________________________________\n",
      "flatten_13 (Flatten)             (None, 9216)          0           conv2d_39[0][0]                  \n",
      "____________________________________________________________________________________________________\n",
      "dist2land_input (InputLayer)     (None, 1)             0                                            \n",
      "____________________________________________________________________________________________________\n",
      "merge_12 (Merge)                 (None, 9217)          0           flatten_13[0][0]                 \n",
      "                                                                   dist2land_input[0][0]            \n",
      "____________________________________________________________________________________________________\n",
      "dense_22 (Dense)                 (None, 64)            589952      merge_12[0][0]                   \n",
      "____________________________________________________________________________________________________\n",
      "dense_23 (Dense)                 (None, 32)            2080        dense_22[0][0]                   \n",
      "____________________________________________________________________________________________________\n",
      "dense_24 (Dense)                 (None, 3)             99          dense_23[0][0]                   \n",
      "====================================================================================================\n",
      "Total params: 647,875\n",
      "Trainable params: 647,875\n",
      "Non-trainable params: 0\n",
      "____________________________________________________________________________________________________\n"
     ]
    }
   ],
   "source": [
    "model_dense.summary()"
   ]
  },
  {
   "cell_type": "code",
   "execution_count": 88,
   "metadata": {},
   "outputs": [
    {
     "data": {
      "image/svg+xml": [
       "<svg height=\"786pt\" viewBox=\"0.00 0.00 359.00 786.00\" width=\"359pt\" xmlns=\"http://www.w3.org/2000/svg\" xmlns:xlink=\"http://www.w3.org/1999/xlink\">\n",
       "<g class=\"graph\" id=\"graph0\" transform=\"scale(1 1) rotate(0) translate(4 782)\">\n",
       "<title>G</title>\n",
       "<polygon fill=\"white\" points=\"-4,4 -4,-782 355,-782 355,4 -4,4\" stroke=\"none\"/>\n",
       "<!-- 140072420953296 -->\n",
       "<g class=\"node\" id=\"node1\"><title>140072420953296</title>\n",
       "<polygon fill=\"none\" points=\"44.5,-741 44.5,-777 169.5,-777 169.5,-741 44.5,-741\" stroke=\"black\"/>\n",
       "<text font-family=\"Times,serif\" font-size=\"14.00\" text-anchor=\"middle\" x=\"107\" y=\"-755.3\">input_9: InputLayer</text>\n",
       "</g>\n",
       "<!-- 140071469916240 -->\n",
       "<g class=\"node\" id=\"node2\"><title>140071469916240</title>\n",
       "<polygon fill=\"none\" points=\"42,-667 42,-703 172,-703 172,-667 42,-667\" stroke=\"black\"/>\n",
       "<text font-family=\"Times,serif\" font-size=\"14.00\" text-anchor=\"middle\" x=\"107\" y=\"-681.3\">conv2d_37: Conv2D</text>\n",
       "</g>\n",
       "<!-- 140072420953296&#45;&gt;140071469916240 -->\n",
       "<g class=\"edge\" id=\"edge1\"><title>140072420953296-&gt;140071469916240</title>\n",
       "<path d=\"M107,-740.937C107,-732.807 107,-722.876 107,-713.705\" fill=\"none\" stroke=\"black\"/>\n",
       "<polygon fill=\"black\" points=\"110.5,-713.441 107,-703.441 103.5,-713.441 110.5,-713.441\" stroke=\"black\"/>\n",
       "</g>\n",
       "<!-- 140071481190608 -->\n",
       "<g class=\"node\" id=\"node3\"><title>140071481190608</title>\n",
       "<polygon fill=\"none\" points=\"0,-593 0,-629 214,-629 214,-593 0,-593\" stroke=\"black\"/>\n",
       "<text font-family=\"Times,serif\" font-size=\"14.00\" text-anchor=\"middle\" x=\"107\" y=\"-607.3\">max_pooling2d_25: MaxPooling2D</text>\n",
       "</g>\n",
       "<!-- 140071469916240&#45;&gt;140071481190608 -->\n",
       "<g class=\"edge\" id=\"edge2\"><title>140071469916240-&gt;140071481190608</title>\n",
       "<path d=\"M107,-666.937C107,-658.807 107,-648.876 107,-639.705\" fill=\"none\" stroke=\"black\"/>\n",
       "<polygon fill=\"black\" points=\"110.5,-639.441 107,-629.441 103.5,-639.441 110.5,-639.441\" stroke=\"black\"/>\n",
       "</g>\n",
       "<!-- 140071481189584 -->\n",
       "<g class=\"node\" id=\"node4\"><title>140071481189584</title>\n",
       "<polygon fill=\"none\" points=\"42,-519 42,-555 172,-555 172,-519 42,-519\" stroke=\"black\"/>\n",
       "<text font-family=\"Times,serif\" font-size=\"14.00\" text-anchor=\"middle\" x=\"107\" y=\"-533.3\">conv2d_38: Conv2D</text>\n",
       "</g>\n",
       "<!-- 140071481190608&#45;&gt;140071481189584 -->\n",
       "<g class=\"edge\" id=\"edge3\"><title>140071481190608-&gt;140071481189584</title>\n",
       "<path d=\"M107,-592.937C107,-584.807 107,-574.876 107,-565.705\" fill=\"none\" stroke=\"black\"/>\n",
       "<polygon fill=\"black\" points=\"110.5,-565.441 107,-555.441 103.5,-565.441 110.5,-565.441\" stroke=\"black\"/>\n",
       "</g>\n",
       "<!-- 140071469916880 -->\n",
       "<g class=\"node\" id=\"node5\"><title>140071469916880</title>\n",
       "<polygon fill=\"none\" points=\"0,-445 0,-481 214,-481 214,-445 0,-445\" stroke=\"black\"/>\n",
       "<text font-family=\"Times,serif\" font-size=\"14.00\" text-anchor=\"middle\" x=\"107\" y=\"-459.3\">max_pooling2d_26: MaxPooling2D</text>\n",
       "</g>\n",
       "<!-- 140071481189584&#45;&gt;140071469916880 -->\n",
       "<g class=\"edge\" id=\"edge4\"><title>140071481189584-&gt;140071469916880</title>\n",
       "<path d=\"M107,-518.937C107,-510.807 107,-500.876 107,-491.705\" fill=\"none\" stroke=\"black\"/>\n",
       "<polygon fill=\"black\" points=\"110.5,-491.441 107,-481.441 103.5,-491.441 110.5,-491.441\" stroke=\"black\"/>\n",
       "</g>\n",
       "<!-- 140071469917008 -->\n",
       "<g class=\"node\" id=\"node6\"><title>140071469917008</title>\n",
       "<polygon fill=\"none\" points=\"42,-371 42,-407 172,-407 172,-371 42,-371\" stroke=\"black\"/>\n",
       "<text font-family=\"Times,serif\" font-size=\"14.00\" text-anchor=\"middle\" x=\"107\" y=\"-385.3\">conv2d_39: Conv2D</text>\n",
       "</g>\n",
       "<!-- 140071469916880&#45;&gt;140071469917008 -->\n",
       "<g class=\"edge\" id=\"edge5\"><title>140071469916880-&gt;140071469917008</title>\n",
       "<path d=\"M107,-444.937C107,-436.807 107,-426.876 107,-417.705\" fill=\"none\" stroke=\"black\"/>\n",
       "<polygon fill=\"black\" points=\"110.5,-417.441 107,-407.441 103.5,-417.441 110.5,-417.441\" stroke=\"black\"/>\n",
       "</g>\n",
       "<!-- 140071469984976 -->\n",
       "<g class=\"node\" id=\"node7\"><title>140071469984976</title>\n",
       "<polygon fill=\"none\" points=\"49,-297 49,-333 165,-333 165,-297 49,-297\" stroke=\"black\"/>\n",
       "<text font-family=\"Times,serif\" font-size=\"14.00\" text-anchor=\"middle\" x=\"107\" y=\"-311.3\">flatten_13: Flatten</text>\n",
       "</g>\n",
       "<!-- 140071469917008&#45;&gt;140071469984976 -->\n",
       "<g class=\"edge\" id=\"edge6\"><title>140071469917008-&gt;140071469984976</title>\n",
       "<path d=\"M107,-370.937C107,-362.807 107,-352.876 107,-343.705\" fill=\"none\" stroke=\"black\"/>\n",
       "<polygon fill=\"black\" points=\"110.5,-343.441 107,-333.441 103.5,-343.441 110.5,-343.441\" stroke=\"black\"/>\n",
       "</g>\n",
       "<!-- 140071469984336 -->\n",
       "<g class=\"node\" id=\"node9\"><title>140071469984336</title>\n",
       "<polygon fill=\"none\" points=\"129.5,-223 129.5,-259 244.5,-259 244.5,-223 129.5,-223\" stroke=\"black\"/>\n",
       "<text font-family=\"Times,serif\" font-size=\"14.00\" text-anchor=\"middle\" x=\"187\" y=\"-237.3\">merge_12: Merge</text>\n",
       "</g>\n",
       "<!-- 140071469984976&#45;&gt;140071469984336 -->\n",
       "<g class=\"edge\" id=\"edge7\"><title>140071469984976-&gt;140071469984336</title>\n",
       "<path d=\"M125.959,-296.937C136.245,-287.679 149.127,-276.086 160.402,-265.938\" fill=\"none\" stroke=\"black\"/>\n",
       "<polygon fill=\"black\" points=\"162.808,-268.481 167.9,-259.19 158.126,-263.278 162.808,-268.481\" stroke=\"black\"/>\n",
       "</g>\n",
       "<!-- 140072416909520 -->\n",
       "<g class=\"node\" id=\"node8\"><title>140072416909520</title>\n",
       "<polygon fill=\"none\" points=\"183,-297 183,-333 351,-333 351,-297 183,-297\" stroke=\"black\"/>\n",
       "<text font-family=\"Times,serif\" font-size=\"14.00\" text-anchor=\"middle\" x=\"267\" y=\"-311.3\">dist2land_input: InputLayer</text>\n",
       "</g>\n",
       "<!-- 140072416909520&#45;&gt;140071469984336 -->\n",
       "<g class=\"edge\" id=\"edge8\"><title>140072416909520-&gt;140071469984336</title>\n",
       "<path d=\"M248.041,-296.937C237.755,-287.679 224.873,-276.086 213.598,-265.938\" fill=\"none\" stroke=\"black\"/>\n",
       "<polygon fill=\"black\" points=\"215.874,-263.278 206.1,-259.19 211.192,-268.481 215.874,-263.278\" stroke=\"black\"/>\n",
       "</g>\n",
       "<!-- 140071469768016 -->\n",
       "<g class=\"node\" id=\"node10\"><title>140071469768016</title>\n",
       "<polygon fill=\"none\" points=\"132.5,-149 132.5,-185 241.5,-185 241.5,-149 132.5,-149\" stroke=\"black\"/>\n",
       "<text font-family=\"Times,serif\" font-size=\"14.00\" text-anchor=\"middle\" x=\"187\" y=\"-163.3\">dense_22: Dense</text>\n",
       "</g>\n",
       "<!-- 140071469984336&#45;&gt;140071469768016 -->\n",
       "<g class=\"edge\" id=\"edge9\"><title>140071469984336-&gt;140071469768016</title>\n",
       "<path d=\"M187,-222.937C187,-214.807 187,-204.876 187,-195.705\" fill=\"none\" stroke=\"black\"/>\n",
       "<polygon fill=\"black\" points=\"190.5,-195.441 187,-185.441 183.5,-195.441 190.5,-195.441\" stroke=\"black\"/>\n",
       "</g>\n",
       "<!-- 140071469688976 -->\n",
       "<g class=\"node\" id=\"node11\"><title>140071469688976</title>\n",
       "<polygon fill=\"none\" points=\"132.5,-75 132.5,-111 241.5,-111 241.5,-75 132.5,-75\" stroke=\"black\"/>\n",
       "<text font-family=\"Times,serif\" font-size=\"14.00\" text-anchor=\"middle\" x=\"187\" y=\"-89.3\">dense_23: Dense</text>\n",
       "</g>\n",
       "<!-- 140071469768016&#45;&gt;140071469688976 -->\n",
       "<g class=\"edge\" id=\"edge10\"><title>140071469768016-&gt;140071469688976</title>\n",
       "<path d=\"M187,-148.937C187,-140.807 187,-130.876 187,-121.705\" fill=\"none\" stroke=\"black\"/>\n",
       "<polygon fill=\"black\" points=\"190.5,-121.441 187,-111.441 183.5,-121.441 190.5,-121.441\" stroke=\"black\"/>\n",
       "</g>\n",
       "<!-- 140071469840464 -->\n",
       "<g class=\"node\" id=\"node12\"><title>140071469840464</title>\n",
       "<polygon fill=\"none\" points=\"132.5,-1 132.5,-37 241.5,-37 241.5,-1 132.5,-1\" stroke=\"black\"/>\n",
       "<text font-family=\"Times,serif\" font-size=\"14.00\" text-anchor=\"middle\" x=\"187\" y=\"-15.3\">dense_24: Dense</text>\n",
       "</g>\n",
       "<!-- 140071469688976&#45;&gt;140071469840464 -->\n",
       "<g class=\"edge\" id=\"edge11\"><title>140071469688976-&gt;140071469840464</title>\n",
       "<path d=\"M187,-74.937C187,-66.8072 187,-56.8761 187,-47.7047\" fill=\"none\" stroke=\"black\"/>\n",
       "<polygon fill=\"black\" points=\"190.5,-47.4406 187,-37.4407 183.5,-47.4407 190.5,-47.4406\" stroke=\"black\"/>\n",
       "</g>\n",
       "</g>\n",
       "</svg>"
      ],
      "text/plain": [
       "<IPython.core.display.SVG object>"
      ]
     },
     "execution_count": 88,
     "metadata": {},
     "output_type": "execute_result"
    }
   ],
   "source": [
    "SVG(model_to_dot(model_dense).create(prog='dot', format='svg'))"
   ]
  },
  {
   "cell_type": "code",
   "execution_count": 89,
   "metadata": {},
   "outputs": [
    {
     "name": "stdout",
     "output_type": "stream",
     "text": [
      "Train on 1996 samples, validate on 499 samples\n",
      "Epoch 1/10\n",
      "1996/1996 [==============================] - 10s - loss: 3.3230 - acc: 0.7204 - val_loss: 0.4261 - val_acc: 0.8978\n",
      "Epoch 2/10\n",
      "1996/1996 [==============================] - 10s - loss: 0.3091 - acc: 0.9023 - val_loss: 0.3630 - val_acc: 0.8798\n",
      "Epoch 3/10\n",
      "1996/1996 [==============================] - 10s - loss: 0.2154 - acc: 0.9248 - val_loss: 0.2687 - val_acc: 0.9198\n",
      "Epoch 4/10\n",
      "1996/1996 [==============================] - 10s - loss: 0.1638 - acc: 0.9414 - val_loss: 0.2358 - val_acc: 0.9379\n",
      "Epoch 5/10\n",
      "1996/1996 [==============================] - 10s - loss: 0.1275 - acc: 0.9599 - val_loss: 0.2367 - val_acc: 0.9379\n",
      "Epoch 6/10\n",
      "1996/1996 [==============================] - 10s - loss: 0.1201 - acc: 0.9569 - val_loss: 0.2066 - val_acc: 0.9359\n",
      "Epoch 7/10\n",
      "1996/1996 [==============================] - 10s - loss: 0.0895 - acc: 0.9684 - val_loss: 0.2544 - val_acc: 0.9259\n",
      "Epoch 8/10\n",
      "1996/1996 [==============================] - 10s - loss: 0.0787 - acc: 0.9709 - val_loss: 0.2789 - val_acc: 0.9379\n",
      "Epoch 9/10\n",
      "1996/1996 [==============================] - 10s - loss: 0.0613 - acc: 0.9775 - val_loss: 0.3161 - val_acc: 0.9359\n",
      "Epoch 10/10\n",
      "1996/1996 [==============================] - 10s - loss: 0.0586 - acc: 0.9810 - val_loss: 0.4228 - val_acc: 0.9319\n"
     ]
    },
    {
     "data": {
      "text/plain": [
       "<keras.callbacks.History at 0x7f64ee3a0ed0>"
      ]
     },
     "execution_count": 89,
     "metadata": {},
     "output_type": "execute_result"
    }
   ],
   "source": [
    "lr = 0.001\n",
    "K.set_value(model_dense.optimizer.lr, lr)\n",
    "model_dense.fit([np_train_crops, np_train_feature], np_train_class,\n",
    "          batch_size=32,\n",
    "          epochs=10,\n",
    "          validation_data=([np_valid_crops, np_valid_feature], np_valid_class))"
   ]
  },
  {
   "cell_type": "code",
   "execution_count": 90,
   "metadata": {},
   "outputs": [
    {
     "name": "stdout",
     "output_type": "stream",
     "text": [
      "Train on 1996 samples, validate on 499 samples\n",
      "Epoch 1/10\n",
      "1996/1996 [==============================] - 10s - loss: 0.0351 - acc: 0.9920 - val_loss: 0.3349 - val_acc: 0.9399\n",
      "Epoch 2/10\n",
      "1996/1996 [==============================] - 10s - loss: 0.0544 - acc: 0.9835 - val_loss: 0.2738 - val_acc: 0.9419\n",
      "Epoch 3/10\n",
      "1996/1996 [==============================] - 10s - loss: 0.0687 - acc: 0.9860 - val_loss: 0.6116 - val_acc: 0.8737\n",
      "Epoch 4/10\n",
      "1996/1996 [==============================] - 10s - loss: 0.0333 - acc: 0.9920 - val_loss: 0.4070 - val_acc: 0.9339\n",
      "Epoch 5/10\n",
      "1996/1996 [==============================] - 10s - loss: 0.0563 - acc: 0.9870 - val_loss: 0.3020 - val_acc: 0.9459\n",
      "Epoch 6/10\n",
      "1996/1996 [==============================] - 10s - loss: 0.0365 - acc: 0.9905 - val_loss: 0.4182 - val_acc: 0.9339\n",
      "Epoch 7/10\n",
      "1996/1996 [==============================] - 10s - loss: 0.0261 - acc: 0.9910 - val_loss: 0.4403 - val_acc: 0.9359\n",
      "Epoch 8/10\n",
      "1996/1996 [==============================] - 10s - loss: 0.0395 - acc: 0.9905 - val_loss: 0.3455 - val_acc: 0.9479\n",
      "Epoch 9/10\n",
      "1996/1996 [==============================] - 10s - loss: 0.0334 - acc: 0.9930 - val_loss: 0.3521 - val_acc: 0.9479\n",
      "Epoch 10/10\n",
      "1996/1996 [==============================] - 10s - loss: 0.0173 - acc: 0.9950 - val_loss: 0.4024 - val_acc: 0.9379\n"
     ]
    },
    {
     "data": {
      "text/plain": [
       "<keras.callbacks.History at 0x7f64ee3b8450>"
      ]
     },
     "execution_count": 90,
     "metadata": {},
     "output_type": "execute_result"
    }
   ],
   "source": [
    "model_dense.fit([np_train_crops, np_train_feature], np_train_class,\n",
    "          batch_size=32,\n",
    "          epochs=10,\n",
    "          validation_data=([np_valid_crops, np_valid_feature], np_valid_class))"
   ]
  },
  {
   "cell_type": "code",
   "execution_count": null,
   "metadata": {
    "collapsed": true
   },
   "outputs": [],
   "source": []
  },
  {
   "cell_type": "code",
   "execution_count": null,
   "metadata": {
    "collapsed": true
   },
   "outputs": [],
   "source": []
  },
  {
   "cell_type": "code",
   "execution_count": 17,
   "metadata": {},
   "outputs": [
    {
     "name": "stderr",
     "output_type": "stream",
     "text": [
      "/usr/local/lib/python2.7/dist-packages/ipykernel_launcher.py:14: UserWarning:\n",
      "\n",
      "The `merge` function is deprecated and will be removed after 08/2017. Use instead layers from `keras.layers.merge`, e.g. `add`, `concatenate`, etc.\n",
      "\n"
     ]
    }
   ],
   "source": [
    "classifier_input = Input(shape=input_shape)\n",
    "dist2land_input = Input(shape=(1,), name='dist2land_input')\n",
    "\n",
    "x = Conv2D(32, (3, 3), activation='relu', padding='same')(classifier_input)\n",
    "x = MaxPooling2D()(x)\n",
    "x = Conv2D(64, (3, 3), activation='relu', padding='same')(x)\n",
    "x = MaxPooling2D()(x)\n",
    "x = Conv2D(64, (3, 3), activation='relu', padding='same')(x)\n",
    "x = Flatten()(x)\n",
    "\n",
    "x2 = Dense(32, activation='relu')(dist2land_input)\n",
    "# x2 = Dense(32, activation='relu')(x2)\n",
    "\n",
    "x = merge([x, x2], 'concat')\n",
    "\n",
    "out = Dense(num_classes, activation='softmax')(x)\n",
    "\n",
    "model_dense_on_input = Model(inputs=[classifier_input, dist2land_input], outputs=out)\n",
    "model_dense_on_input.compile(optimizer='rmsprop', loss='categorical_crossentropy', metrics=['accuracy'])"
   ]
  },
  {
   "cell_type": "code",
   "execution_count": 18,
   "metadata": {},
   "outputs": [
    {
     "name": "stdout",
     "output_type": "stream",
     "text": [
      "____________________________________________________________________________________________________\n",
      "Layer (type)                     Output Shape          Param #     Connected to                     \n",
      "====================================================================================================\n",
      "input_2 (InputLayer)             (None, 50, 50, 1)     0                                            \n",
      "____________________________________________________________________________________________________\n",
      "conv2d_4 (Conv2D)                (None, 50, 50, 32)    320         input_2[0][0]                    \n",
      "____________________________________________________________________________________________________\n",
      "max_pooling2d_3 (MaxPooling2D)   (None, 25, 25, 32)    0           conv2d_4[0][0]                   \n",
      "____________________________________________________________________________________________________\n",
      "conv2d_5 (Conv2D)                (None, 25, 25, 64)    18496       max_pooling2d_3[0][0]            \n",
      "____________________________________________________________________________________________________\n",
      "max_pooling2d_4 (MaxPooling2D)   (None, 12, 12, 64)    0           conv2d_5[0][0]                   \n",
      "____________________________________________________________________________________________________\n",
      "conv2d_6 (Conv2D)                (None, 12, 12, 64)    36928       max_pooling2d_4[0][0]            \n",
      "____________________________________________________________________________________________________\n",
      "dist2land_input (InputLayer)     (None, 1)             0                                            \n",
      "____________________________________________________________________________________________________\n",
      "flatten_2 (Flatten)              (None, 9216)          0           conv2d_6[0][0]                   \n",
      "____________________________________________________________________________________________________\n",
      "dense_4 (Dense)                  (None, 32)            64          dist2land_input[0][0]            \n",
      "____________________________________________________________________________________________________\n",
      "merge_2 (Merge)                  (None, 9248)          0           flatten_2[0][0]                  \n",
      "                                                                   dense_4[0][0]                    \n",
      "____________________________________________________________________________________________________\n",
      "dense_5 (Dense)                  (None, 3)             27747       merge_2[0][0]                    \n",
      "====================================================================================================\n",
      "Total params: 83,555\n",
      "Trainable params: 83,555\n",
      "Non-trainable params: 0\n",
      "____________________________________________________________________________________________________\n"
     ]
    }
   ],
   "source": [
    "model_dense_on_input.summary()"
   ]
  },
  {
   "cell_type": "code",
   "execution_count": 19,
   "metadata": {},
   "outputs": [
    {
     "data": {
      "image/svg+xml": [
       "<svg height=\"638pt\" viewBox=\"0.00 0.00 358.00 638.00\" width=\"358pt\" xmlns=\"http://www.w3.org/2000/svg\" xmlns:xlink=\"http://www.w3.org/1999/xlink\">\n",
       "<g class=\"graph\" id=\"graph0\" transform=\"scale(1 1) rotate(0) translate(4 634)\">\n",
       "<title>G</title>\n",
       "<polygon fill=\"white\" points=\"-4,4 -4,-634 354,-634 354,4 -4,4\" stroke=\"none\"/>\n",
       "<!-- 140139623015952 -->\n",
       "<g class=\"node\" id=\"node1\"><title>140139623015952</title>\n",
       "<polygon fill=\"none\" points=\"40.5,-593 40.5,-629 165.5,-629 165.5,-593 40.5,-593\" stroke=\"black\"/>\n",
       "<text font-family=\"Times,serif\" font-size=\"14.00\" text-anchor=\"middle\" x=\"103\" y=\"-607.3\">input_2: InputLayer</text>\n",
       "</g>\n",
       "<!-- 140139622582992 -->\n",
       "<g class=\"node\" id=\"node2\"><title>140139622582992</title>\n",
       "<polygon fill=\"none\" points=\"41.5,-519 41.5,-555 164.5,-555 164.5,-519 41.5,-519\" stroke=\"black\"/>\n",
       "<text font-family=\"Times,serif\" font-size=\"14.00\" text-anchor=\"middle\" x=\"103\" y=\"-533.3\">conv2d_4: Conv2D</text>\n",
       "</g>\n",
       "<!-- 140139623015952&#45;&gt;140139622582992 -->\n",
       "<g class=\"edge\" id=\"edge1\"><title>140139623015952-&gt;140139622582992</title>\n",
       "<path d=\"M103,-592.937C103,-584.807 103,-574.876 103,-565.705\" fill=\"none\" stroke=\"black\"/>\n",
       "<polygon fill=\"black\" points=\"106.5,-565.441 103,-555.441 99.5001,-565.441 106.5,-565.441\" stroke=\"black\"/>\n",
       "</g>\n",
       "<!-- 140139622892304 -->\n",
       "<g class=\"node\" id=\"node3\"><title>140139622892304</title>\n",
       "<polygon fill=\"none\" points=\"-0.5,-445 -0.5,-481 206.5,-481 206.5,-445 -0.5,-445\" stroke=\"black\"/>\n",
       "<text font-family=\"Times,serif\" font-size=\"14.00\" text-anchor=\"middle\" x=\"103\" y=\"-459.3\">max_pooling2d_3: MaxPooling2D</text>\n",
       "</g>\n",
       "<!-- 140139622582992&#45;&gt;140139622892304 -->\n",
       "<g class=\"edge\" id=\"edge2\"><title>140139622582992-&gt;140139622892304</title>\n",
       "<path d=\"M103,-518.937C103,-510.807 103,-500.876 103,-491.705\" fill=\"none\" stroke=\"black\"/>\n",
       "<polygon fill=\"black\" points=\"106.5,-491.441 103,-481.441 99.5001,-491.441 106.5,-491.441\" stroke=\"black\"/>\n",
       "</g>\n",
       "<!-- 140139622892240 -->\n",
       "<g class=\"node\" id=\"node4\"><title>140139622892240</title>\n",
       "<polygon fill=\"none\" points=\"41.5,-371 41.5,-407 164.5,-407 164.5,-371 41.5,-371\" stroke=\"black\"/>\n",
       "<text font-family=\"Times,serif\" font-size=\"14.00\" text-anchor=\"middle\" x=\"103\" y=\"-385.3\">conv2d_5: Conv2D</text>\n",
       "</g>\n",
       "<!-- 140139622892304&#45;&gt;140139622892240 -->\n",
       "<g class=\"edge\" id=\"edge3\"><title>140139622892304-&gt;140139622892240</title>\n",
       "<path d=\"M103,-444.937C103,-436.807 103,-426.876 103,-417.705\" fill=\"none\" stroke=\"black\"/>\n",
       "<polygon fill=\"black\" points=\"106.5,-417.441 103,-407.441 99.5001,-417.441 106.5,-417.441\" stroke=\"black\"/>\n",
       "</g>\n",
       "<!-- 140139670827920 -->\n",
       "<g class=\"node\" id=\"node5\"><title>140139670827920</title>\n",
       "<polygon fill=\"none\" points=\"-0.5,-297 -0.5,-333 206.5,-333 206.5,-297 -0.5,-297\" stroke=\"black\"/>\n",
       "<text font-family=\"Times,serif\" font-size=\"14.00\" text-anchor=\"middle\" x=\"103\" y=\"-311.3\">max_pooling2d_4: MaxPooling2D</text>\n",
       "</g>\n",
       "<!-- 140139622892240&#45;&gt;140139670827920 -->\n",
       "<g class=\"edge\" id=\"edge4\"><title>140139622892240-&gt;140139670827920</title>\n",
       "<path d=\"M103,-370.937C103,-362.807 103,-352.876 103,-343.705\" fill=\"none\" stroke=\"black\"/>\n",
       "<polygon fill=\"black\" points=\"106.5,-343.441 103,-333.441 99.5001,-343.441 106.5,-343.441\" stroke=\"black\"/>\n",
       "</g>\n",
       "<!-- 140139623016208 -->\n",
       "<g class=\"node\" id=\"node6\"><title>140139623016208</title>\n",
       "<polygon fill=\"none\" points=\"41.5,-223 41.5,-259 164.5,-259 164.5,-223 41.5,-223\" stroke=\"black\"/>\n",
       "<text font-family=\"Times,serif\" font-size=\"14.00\" text-anchor=\"middle\" x=\"103\" y=\"-237.3\">conv2d_6: Conv2D</text>\n",
       "</g>\n",
       "<!-- 140139670827920&#45;&gt;140139623016208 -->\n",
       "<g class=\"edge\" id=\"edge5\"><title>140139670827920-&gt;140139623016208</title>\n",
       "<path d=\"M103,-296.937C103,-288.807 103,-278.876 103,-269.705\" fill=\"none\" stroke=\"black\"/>\n",
       "<polygon fill=\"black\" points=\"106.5,-269.441 103,-259.441 99.5001,-269.441 106.5,-269.441\" stroke=\"black\"/>\n",
       "</g>\n",
       "<!-- 140139673068496 -->\n",
       "<g class=\"node\" id=\"node8\"><title>140139673068496</title>\n",
       "<polygon fill=\"none\" points=\"58,-149 58,-185 168,-185 168,-149 58,-149\" stroke=\"black\"/>\n",
       "<text font-family=\"Times,serif\" font-size=\"14.00\" text-anchor=\"middle\" x=\"113\" y=\"-163.3\">flatten_2: Flatten</text>\n",
       "</g>\n",
       "<!-- 140139623016208&#45;&gt;140139673068496 -->\n",
       "<g class=\"edge\" id=\"edge6\"><title>140139623016208-&gt;140139673068496</title>\n",
       "<path d=\"M105.37,-222.937C106.511,-214.719 107.908,-204.66 109.194,-195.406\" fill=\"none\" stroke=\"black\"/>\n",
       "<polygon fill=\"black\" points=\"112.669,-195.827 110.578,-185.441 105.735,-194.864 112.669,-195.827\" stroke=\"black\"/>\n",
       "</g>\n",
       "<!-- 140139623016080 -->\n",
       "<g class=\"node\" id=\"node7\"><title>140139623016080</title>\n",
       "<polygon fill=\"none\" points=\"183,-223 183,-259 351,-259 351,-223 183,-223\" stroke=\"black\"/>\n",
       "<text font-family=\"Times,serif\" font-size=\"14.00\" text-anchor=\"middle\" x=\"267\" y=\"-237.3\">dist2land_input: InputLayer</text>\n",
       "</g>\n",
       "<!-- 140139671050384 -->\n",
       "<g class=\"node\" id=\"node9\"><title>140139671050384</title>\n",
       "<polygon fill=\"none\" points=\"206,-149 206,-185 308,-185 308,-149 206,-149\" stroke=\"black\"/>\n",
       "<text font-family=\"Times,serif\" font-size=\"14.00\" text-anchor=\"middle\" x=\"257\" y=\"-163.3\">dense_4: Dense</text>\n",
       "</g>\n",
       "<!-- 140139623016080&#45;&gt;140139671050384 -->\n",
       "<g class=\"edge\" id=\"edge7\"><title>140139623016080-&gt;140139671050384</title>\n",
       "<path d=\"M264.63,-222.937C263.489,-214.719 262.092,-204.66 260.806,-195.406\" fill=\"none\" stroke=\"black\"/>\n",
       "<polygon fill=\"black\" points=\"264.265,-194.864 259.422,-185.441 257.331,-195.827 264.265,-194.864\" stroke=\"black\"/>\n",
       "</g>\n",
       "<!-- 140139670829840 -->\n",
       "<g class=\"node\" id=\"node10\"><title>140139670829840</title>\n",
       "<polygon fill=\"none\" points=\"131,-75 131,-111 239,-111 239,-75 131,-75\" stroke=\"black\"/>\n",
       "<text font-family=\"Times,serif\" font-size=\"14.00\" text-anchor=\"middle\" x=\"185\" y=\"-89.3\">merge_2: Merge</text>\n",
       "</g>\n",
       "<!-- 140139673068496&#45;&gt;140139670829840 -->\n",
       "<g class=\"edge\" id=\"edge8\"><title>140139673068496-&gt;140139670829840</title>\n",
       "<path d=\"M130.063,-148.937C139.076,-139.924 150.304,-128.696 160.256,-118.744\" fill=\"none\" stroke=\"black\"/>\n",
       "<polygon fill=\"black\" points=\"162.963,-120.987 167.559,-111.441 158.013,-116.037 162.963,-120.987\" stroke=\"black\"/>\n",
       "</g>\n",
       "<!-- 140139671050384&#45;&gt;140139670829840 -->\n",
       "<g class=\"edge\" id=\"edge9\"><title>140139671050384-&gt;140139670829840</title>\n",
       "<path d=\"M239.937,-148.937C230.924,-139.924 219.696,-128.696 209.744,-118.744\" fill=\"none\" stroke=\"black\"/>\n",
       "<polygon fill=\"black\" points=\"211.987,-116.037 202.441,-111.441 207.037,-120.987 211.987,-116.037\" stroke=\"black\"/>\n",
       "</g>\n",
       "<!-- 140139670722512 -->\n",
       "<g class=\"node\" id=\"node11\"><title>140139670722512</title>\n",
       "<polygon fill=\"none\" points=\"134,-1 134,-37 236,-37 236,-1 134,-1\" stroke=\"black\"/>\n",
       "<text font-family=\"Times,serif\" font-size=\"14.00\" text-anchor=\"middle\" x=\"185\" y=\"-15.3\">dense_5: Dense</text>\n",
       "</g>\n",
       "<!-- 140139670829840&#45;&gt;140139670722512 -->\n",
       "<g class=\"edge\" id=\"edge10\"><title>140139670829840-&gt;140139670722512</title>\n",
       "<path d=\"M185,-74.937C185,-66.8072 185,-56.8761 185,-47.7047\" fill=\"none\" stroke=\"black\"/>\n",
       "<polygon fill=\"black\" points=\"188.5,-47.4406 185,-37.4407 181.5,-47.4407 188.5,-47.4406\" stroke=\"black\"/>\n",
       "</g>\n",
       "</g>\n",
       "</svg>"
      ],
      "text/plain": [
       "<IPython.core.display.SVG object>"
      ]
     },
     "execution_count": 19,
     "metadata": {},
     "output_type": "execute_result"
    }
   ],
   "source": [
    "from IPython.display import SVG\n",
    "from keras.utils.vis_utils import model_to_dot\n",
    "\n",
    "SVG(model_to_dot(model_dense_on_input).create(prog='dot', format='svg'))"
   ]
  },
  {
   "cell_type": "code",
   "execution_count": 20,
   "metadata": {},
   "outputs": [
    {
     "name": "stdout",
     "output_type": "stream",
     "text": [
      "Train on 1996 samples, validate on 499 samples\n",
      "Epoch 1/10\n",
      "1996/1996 [==============================] - 10s - loss: 0.9476 - acc: 0.8116 - val_loss: 0.2881 - val_acc: 0.8898\n",
      "Epoch 2/10\n",
      "1996/1996 [==============================] - 10s - loss: 0.2422 - acc: 0.9073 - val_loss: 0.1903 - val_acc: 0.9359\n",
      "Epoch 3/10\n",
      "1996/1996 [==============================] - 10s - loss: 0.1801 - acc: 0.9379 - val_loss: 0.2347 - val_acc: 0.9218\n",
      "Epoch 4/10\n",
      "1996/1996 [==============================] - 10s - loss: 0.1373 - acc: 0.9464 - val_loss: 0.2893 - val_acc: 0.8938\n",
      "Epoch 5/10\n",
      "1996/1996 [==============================] - 10s - loss: 0.1158 - acc: 0.9624 - val_loss: 0.1661 - val_acc: 0.9519\n",
      "Epoch 6/10\n",
      "1996/1996 [==============================] - 10s - loss: 0.0715 - acc: 0.9729 - val_loss: 0.3188 - val_acc: 0.9118\n",
      "Epoch 7/10\n",
      "1996/1996 [==============================] - 10s - loss: 0.0584 - acc: 0.9790 - val_loss: 0.6769 - val_acc: 0.8798\n",
      "Epoch 8/10\n",
      "1996/1996 [==============================] - 10s - loss: 0.0593 - acc: 0.9760 - val_loss: 0.6527 - val_acc: 0.9018\n",
      "Epoch 9/10\n",
      "1996/1996 [==============================] - 10s - loss: 0.0520 - acc: 0.9785 - val_loss: 0.2274 - val_acc: 0.9479\n",
      "Epoch 10/10\n",
      "1996/1996 [==============================] - 10s - loss: 0.0335 - acc: 0.9865 - val_loss: 0.3631 - val_acc: 0.9299\n"
     ]
    },
    {
     "data": {
      "text/plain": [
       "<keras.callbacks.History at 0x7f74c47cabd0>"
      ]
     },
     "execution_count": 20,
     "metadata": {},
     "output_type": "execute_result"
    }
   ],
   "source": [
    "lr = 0.001\n",
    "K.set_value(model_dense_on_input.optimizer.lr, lr)\n",
    "model_dense_on_input.fit([np_train_crops, np_train_feature], np_train_class,\n",
    "          batch_size=32,\n",
    "          epochs=10,\n",
    "          validation_data=([np_valid_crops, np_valid_feature], np_valid_class))"
   ]
  },
  {
   "cell_type": "code",
   "execution_count": 21,
   "metadata": {},
   "outputs": [
    {
     "name": "stdout",
     "output_type": "stream",
     "text": [
      "Train on 1996 samples, validate on 499 samples\n",
      "Epoch 1/5\n",
      "1996/1996 [==============================] - 10s - loss: 0.0075 - acc: 0.9990 - val_loss: 0.2687 - val_acc: 0.9439\n",
      "Epoch 2/5\n",
      "1996/1996 [==============================] - 10s - loss: 0.0028 - acc: 1.0000 - val_loss: 0.2774 - val_acc: 0.9479\n",
      "Epoch 3/5\n",
      "1996/1996 [==============================] - 10s - loss: 0.0015 - acc: 1.0000 - val_loss: 0.2893 - val_acc: 0.9419\n",
      "Epoch 4/5\n",
      "1996/1996 [==============================] - 10s - loss: 7.7723e-04 - acc: 1.0000 - val_loss: 0.3096 - val_acc: 0.9459\n",
      "Epoch 5/5\n",
      "1996/1996 [==============================] - 10s - loss: 5.1509e-04 - acc: 1.0000 - val_loss: 0.3691 - val_acc: 0.9419\n"
     ]
    },
    {
     "data": {
      "text/plain": [
       "<keras.callbacks.History at 0x7f74c46d9a50>"
      ]
     },
     "execution_count": 21,
     "metadata": {},
     "output_type": "execute_result"
    }
   ],
   "source": [
    "lr = 0.0001\n",
    "K.set_value(model_dense_on_input.optimizer.lr, lr)\n",
    "model_dense_on_input.fit([np_train_crops, np_train_feature], np_train_class,\n",
    "          batch_size=32,\n",
    "          epochs=5,\n",
    "          validation_data=([np_valid_crops, np_valid_feature], np_valid_class))"
   ]
  },
  {
   "cell_type": "code",
   "execution_count": 22,
   "metadata": {},
   "outputs": [
    {
     "name": "stdout",
     "output_type": "stream",
     "text": [
      "Train on 1996 samples, validate on 499 samples\n",
      "Epoch 1/5\n",
      "1996/1996 [==============================] - 10s - loss: 0.0449 - acc: 0.9845 - val_loss: 0.3461 - val_acc: 0.9419\n",
      "Epoch 2/5\n",
      "1996/1996 [==============================] - 10s - loss: 0.0321 - acc: 0.9905 - val_loss: 1.1396 - val_acc: 0.8637\n",
      "Epoch 3/5\n",
      "1996/1996 [==============================] - 10s - loss: 0.0304 - acc: 0.9910 - val_loss: 0.4013 - val_acc: 0.9379\n",
      "Epoch 4/5\n",
      "1996/1996 [==============================] - 10s - loss: 0.0249 - acc: 0.9915 - val_loss: 0.3433 - val_acc: 0.9459\n",
      "Epoch 5/5\n",
      "1996/1996 [==============================] - 10s - loss: 0.0175 - acc: 0.9960 - val_loss: 0.3408 - val_acc: 0.9479\n"
     ]
    },
    {
     "data": {
      "text/plain": [
       "<keras.callbacks.History at 0x7f74c71f0190>"
      ]
     },
     "execution_count": 22,
     "metadata": {},
     "output_type": "execute_result"
    }
   ],
   "source": [
    "lr = 0.001\n",
    "K.set_value(model_dense_on_input.optimizer.lr, lr)\n",
    "model_dense_on_input.fit([np_train_crops, np_train_feature], np_train_class,\n",
    "          batch_size=32,\n",
    "          epochs=5,\n",
    "          validation_data=([np_valid_crops, np_valid_feature], np_valid_class))"
   ]
  },
  {
   "cell_type": "code",
   "execution_count": 23,
   "metadata": {},
   "outputs": [
    {
     "name": "stdout",
     "output_type": "stream",
     "text": [
      "Train on 1996 samples, validate on 499 samples\n",
      "Epoch 1/2\n",
      "1996/1996 [==============================] - 10s - loss: 0.0019 - acc: 0.9995 - val_loss: 0.3335 - val_acc: 0.9479\n",
      "Epoch 2/2\n",
      "1996/1996 [==============================] - 10s - loss: 0.0012 - acc: 0.9995 - val_loss: 0.3293 - val_acc: 0.9519\n"
     ]
    },
    {
     "data": {
      "text/plain": [
       "<keras.callbacks.History at 0x7f74cf684fd0>"
      ]
     },
     "execution_count": 23,
     "metadata": {},
     "output_type": "execute_result"
    }
   ],
   "source": [
    "lr = 0.00001\n",
    "K.set_value(model_dense_on_input.optimizer.lr, lr)\n",
    "model_dense_on_input.fit([np_train_crops, np_train_feature], np_train_class,\n",
    "          batch_size=32,\n",
    "          epochs=2,\n",
    "          validation_data=([np_valid_crops, np_valid_feature], np_valid_class))"
   ]
  },
  {
   "cell_type": "code",
   "execution_count": 24,
   "metadata": {},
   "outputs": [
    {
     "name": "stdout",
     "output_type": "stream",
     "text": [
      "Train on 1996 samples, validate on 499 samples\n",
      "Epoch 1/2\n",
      "1996/1996 [==============================] - 10s - loss: 8.3430e-04 - acc: 1.0000 - val_loss: 0.3287 - val_acc: 0.9539\n",
      "Epoch 2/2\n",
      "1996/1996 [==============================] - 10s - loss: 5.9533e-04 - acc: 1.0000 - val_loss: 0.3316 - val_acc: 0.9539\n"
     ]
    },
    {
     "data": {
      "text/plain": [
       "<keras.callbacks.History at 0x7f74c46d9dd0>"
      ]
     },
     "execution_count": 24,
     "metadata": {},
     "output_type": "execute_result"
    }
   ],
   "source": [
    "lr = 0.00001\n",
    "K.set_value(model_dense_on_input.optimizer.lr, lr)\n",
    "model_dense_on_input.fit([np_train_crops, np_train_feature], np_train_class,\n",
    "          batch_size=32,\n",
    "          epochs=2,\n",
    "          validation_data=([np_valid_crops, np_valid_feature], np_valid_class))"
   ]
  },
  {
   "cell_type": "code",
   "execution_count": 25,
   "metadata": {},
   "outputs": [
    {
     "name": "stdout",
     "output_type": "stream",
     "text": [
      "Train on 1996 samples, validate on 499 samples\n",
      "Epoch 1/2\n",
      "1996/1996 [==============================] - 10s - loss: 4.5561e-04 - acc: 1.0000 - val_loss: 0.3319 - val_acc: 0.9539\n",
      "Epoch 2/2\n",
      "1996/1996 [==============================] - 10s - loss: 4.4124e-04 - acc: 1.0000 - val_loss: 0.3322 - val_acc: 0.9539\n"
     ]
    },
    {
     "data": {
      "text/plain": [
       "<keras.callbacks.History at 0x7f74c718bad0>"
      ]
     },
     "execution_count": 25,
     "metadata": {},
     "output_type": "execute_result"
    }
   ],
   "source": [
    "lr = 0.000001\n",
    "K.set_value(model_dense_on_input.optimizer.lr, lr)\n",
    "model_dense_on_input.fit([np_train_crops, np_train_feature], np_train_class,\n",
    "          batch_size=32,\n",
    "          epochs=2,\n",
    "          validation_data=([np_valid_crops, np_valid_feature], np_valid_class))"
   ]
  }
 ],
 "metadata": {
  "kernelspec": {
   "display_name": "Python 2",
   "language": "python",
   "name": "python2"
  },
  "language_info": {
   "codemirror_mode": {
    "name": "ipython",
    "version": 2
   },
   "file_extension": ".py",
   "mimetype": "text/x-python",
   "name": "python",
   "nbconvert_exporter": "python",
   "pygments_lexer": "ipython2",
   "version": "2.7.6"
  }
 },
 "nbformat": 4,
 "nbformat_minor": 2
}
