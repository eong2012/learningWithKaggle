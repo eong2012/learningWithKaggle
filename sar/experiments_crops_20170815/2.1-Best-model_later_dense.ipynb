{
 "cells": [
  {
   "cell_type": "markdown",
   "metadata": {},
   "source": [
    "## baseline + batchnorm with distance feature + more later dense layers"
   ]
  },
  {
   "cell_type": "code",
   "execution_count": 33,
   "metadata": {},
   "outputs": [
    {
     "name": "stderr",
     "output_type": "stream",
     "text": [
      "/usr/local/lib/python2.7/dist-packages/ipykernel_launcher.py:8: UserWarning:\n",
      "\n",
      "The `merge` function is deprecated and will be removed after 08/2017. Use instead layers from `keras.layers.merge`, e.g. `add`, `concatenate`, etc.\n",
      "\n"
     ]
    }
   ],
   "source": [
    "x = Conv2D(32, (3, 3), activation='relu', padding='same')(classifier_input)\n",
    "x = MaxPooling2D()(x)\n",
    "x = Conv2D(64, (3, 3), activation='relu', padding='same')(x)\n",
    "x = BatchNormalization(axis=-1)(x)\n",
    "x = MaxPooling2D()(x)\n",
    "x = Conv2D(64, (3, 3), activation='relu', padding='same')(x)\n",
    "x = Flatten()(x)\n",
    "x = merge([x, dist2land_input], 'concat')\n",
    "x = Dense(64, activation='relu')(x)\n",
    "x = Dense(32, activation='relu')(x)\n",
    "out = Dense(num_classes, activation='softmax')(x)\n",
    "\n",
    "model_dense = Model(inputs=[classifier_input, dist2land_input], outputs=out)\n",
    "model_dense.compile(optimizer='rmsprop', loss='categorical_crossentropy', metrics=['accuracy'])"
   ]
  },
  {
   "cell_type": "code",
   "execution_count": 34,
   "metadata": {},
   "outputs": [
    {
     "name": "stdout",
     "output_type": "stream",
     "text": [
      "____________________________________________________________________________________________________\n",
      "Layer (type)                     Output Shape          Param #     Connected to                     \n",
      "====================================================================================================\n",
      "input_2 (InputLayer)             (None, 50, 50, 1)     0                                            \n",
      "____________________________________________________________________________________________________\n",
      "conv2d_16 (Conv2D)               (None, 50, 50, 32)    320         input_2[0][0]                    \n",
      "____________________________________________________________________________________________________\n",
      "max_pooling2d_11 (MaxPooling2D)  (None, 25, 25, 32)    0           conv2d_16[0][0]                  \n",
      "____________________________________________________________________________________________________\n",
      "conv2d_17 (Conv2D)               (None, 25, 25, 64)    18496       max_pooling2d_11[0][0]           \n",
      "____________________________________________________________________________________________________\n",
      "batch_normalization_5 (BatchNorm (None, 25, 25, 64)    256         conv2d_17[0][0]                  \n",
      "____________________________________________________________________________________________________\n",
      "max_pooling2d_12 (MaxPooling2D)  (None, 12, 12, 64)    0           batch_normalization_5[0][0]      \n",
      "____________________________________________________________________________________________________\n",
      "conv2d_18 (Conv2D)               (None, 12, 12, 64)    36928       max_pooling2d_12[0][0]           \n",
      "____________________________________________________________________________________________________\n",
      "flatten_6 (Flatten)              (None, 9216)          0           conv2d_18[0][0]                  \n",
      "____________________________________________________________________________________________________\n",
      "dist2land_input (InputLayer)     (None, 1)             0                                            \n",
      "____________________________________________________________________________________________________\n",
      "merge_6 (Merge)                  (None, 9217)          0           flatten_6[0][0]                  \n",
      "                                                                   dist2land_input[0][0]            \n",
      "____________________________________________________________________________________________________\n",
      "dense_12 (Dense)                 (None, 64)            589952      merge_6[0][0]                    \n",
      "____________________________________________________________________________________________________\n",
      "dense_13 (Dense)                 (None, 32)            2080        dense_12[0][0]                   \n",
      "____________________________________________________________________________________________________\n",
      "dense_14 (Dense)                 (None, 3)             99          dense_13[0][0]                   \n",
      "====================================================================================================\n",
      "Total params: 648,131\n",
      "Trainable params: 648,003\n",
      "Non-trainable params: 128\n",
      "____________________________________________________________________________________________________\n"
     ]
    }
   ],
   "source": [
    "model_dense.summary()"
   ]
  },
  {
   "cell_type": "code",
   "execution_count": 35,
   "metadata": {},
   "outputs": [
    {
     "data": {
      "image/svg+xml": [
       "<svg height=\"860pt\" viewBox=\"0.00 0.00 379.00 860.00\" width=\"379pt\" xmlns=\"http://www.w3.org/2000/svg\" xmlns:xlink=\"http://www.w3.org/1999/xlink\">\n",
       "<g class=\"graph\" id=\"graph0\" transform=\"scale(1 1) rotate(0) translate(4 856)\">\n",
       "<title>G</title>\n",
       "<polygon fill=\"white\" points=\"-4,4 -4,-856 375,-856 375,4 -4,4\" stroke=\"none\"/>\n",
       "<!-- 139859840104912 -->\n",
       "<g class=\"node\" id=\"node1\"><title>139859840104912</title>\n",
       "<polygon fill=\"none\" points=\"67.5,-815 67.5,-851 192.5,-851 192.5,-815 67.5,-815\" stroke=\"black\"/>\n",
       "<text font-family=\"Times,serif\" font-size=\"14.00\" text-anchor=\"middle\" x=\"130\" y=\"-829.3\">input_2: InputLayer</text>\n",
       "</g>\n",
       "<!-- 139858963536848 -->\n",
       "<g class=\"node\" id=\"node2\"><title>139858963536848</title>\n",
       "<polygon fill=\"none\" points=\"65,-741 65,-777 195,-777 195,-741 65,-741\" stroke=\"black\"/>\n",
       "<text font-family=\"Times,serif\" font-size=\"14.00\" text-anchor=\"middle\" x=\"130\" y=\"-755.3\">conv2d_16: Conv2D</text>\n",
       "</g>\n",
       "<!-- 139859840104912&#45;&gt;139858963536848 -->\n",
       "<g class=\"edge\" id=\"edge1\"><title>139859840104912-&gt;139858963536848</title>\n",
       "<path d=\"M130,-814.937C130,-806.807 130,-796.876 130,-787.705\" fill=\"none\" stroke=\"black\"/>\n",
       "<polygon fill=\"black\" points=\"133.5,-787.441 130,-777.441 126.5,-787.441 133.5,-787.441\" stroke=\"black\"/>\n",
       "</g>\n",
       "<!-- 139858963536784 -->\n",
       "<g class=\"node\" id=\"node3\"><title>139858963536784</title>\n",
       "<polygon fill=\"none\" points=\"23,-667 23,-703 237,-703 237,-667 23,-667\" stroke=\"black\"/>\n",
       "<text font-family=\"Times,serif\" font-size=\"14.00\" text-anchor=\"middle\" x=\"130\" y=\"-681.3\">max_pooling2d_11: MaxPooling2D</text>\n",
       "</g>\n",
       "<!-- 139858963536848&#45;&gt;139858963536784 -->\n",
       "<g class=\"edge\" id=\"edge2\"><title>139858963536848-&gt;139858963536784</title>\n",
       "<path d=\"M130,-740.937C130,-732.807 130,-722.876 130,-713.705\" fill=\"none\" stroke=\"black\"/>\n",
       "<polygon fill=\"black\" points=\"133.5,-713.441 130,-703.441 126.5,-713.441 133.5,-713.441\" stroke=\"black\"/>\n",
       "</g>\n",
       "<!-- 139858947739728 -->\n",
       "<g class=\"node\" id=\"node4\"><title>139858947739728</title>\n",
       "<polygon fill=\"none\" points=\"65,-593 65,-629 195,-629 195,-593 65,-593\" stroke=\"black\"/>\n",
       "<text font-family=\"Times,serif\" font-size=\"14.00\" text-anchor=\"middle\" x=\"130\" y=\"-607.3\">conv2d_17: Conv2D</text>\n",
       "</g>\n",
       "<!-- 139858963536784&#45;&gt;139858947739728 -->\n",
       "<g class=\"edge\" id=\"edge3\"><title>139858963536784-&gt;139858947739728</title>\n",
       "<path d=\"M130,-666.937C130,-658.807 130,-648.876 130,-639.705\" fill=\"none\" stroke=\"black\"/>\n",
       "<polygon fill=\"black\" points=\"133.5,-639.441 130,-629.441 126.5,-639.441 133.5,-639.441\" stroke=\"black\"/>\n",
       "</g>\n",
       "<!-- 139858963536208 -->\n",
       "<g class=\"node\" id=\"node5\"><title>139858963536208</title>\n",
       "<polygon fill=\"none\" points=\"0,-519 0,-555 260,-555 260,-519 0,-519\" stroke=\"black\"/>\n",
       "<text font-family=\"Times,serif\" font-size=\"14.00\" text-anchor=\"middle\" x=\"130\" y=\"-533.3\">batch_normalization_5: BatchNormalization</text>\n",
       "</g>\n",
       "<!-- 139858947739728&#45;&gt;139858963536208 -->\n",
       "<g class=\"edge\" id=\"edge4\"><title>139858947739728-&gt;139858963536208</title>\n",
       "<path d=\"M130,-592.937C130,-584.807 130,-574.876 130,-565.705\" fill=\"none\" stroke=\"black\"/>\n",
       "<polygon fill=\"black\" points=\"133.5,-565.441 130,-555.441 126.5,-565.441 133.5,-565.441\" stroke=\"black\"/>\n",
       "</g>\n",
       "<!-- 139858948313488 -->\n",
       "<g class=\"node\" id=\"node6\"><title>139858948313488</title>\n",
       "<polygon fill=\"none\" points=\"23,-445 23,-481 237,-481 237,-445 23,-445\" stroke=\"black\"/>\n",
       "<text font-family=\"Times,serif\" font-size=\"14.00\" text-anchor=\"middle\" x=\"130\" y=\"-459.3\">max_pooling2d_12: MaxPooling2D</text>\n",
       "</g>\n",
       "<!-- 139858963536208&#45;&gt;139858948313488 -->\n",
       "<g class=\"edge\" id=\"edge5\"><title>139858963536208-&gt;139858948313488</title>\n",
       "<path d=\"M130,-518.937C130,-510.807 130,-500.876 130,-491.705\" fill=\"none\" stroke=\"black\"/>\n",
       "<polygon fill=\"black\" points=\"133.5,-491.441 130,-481.441 126.5,-491.441 133.5,-491.441\" stroke=\"black\"/>\n",
       "</g>\n",
       "<!-- 139858944544272 -->\n",
       "<g class=\"node\" id=\"node7\"><title>139858944544272</title>\n",
       "<polygon fill=\"none\" points=\"65,-371 65,-407 195,-407 195,-371 65,-371\" stroke=\"black\"/>\n",
       "<text font-family=\"Times,serif\" font-size=\"14.00\" text-anchor=\"middle\" x=\"130\" y=\"-385.3\">conv2d_18: Conv2D</text>\n",
       "</g>\n",
       "<!-- 139858948313488&#45;&gt;139858944544272 -->\n",
       "<g class=\"edge\" id=\"edge6\"><title>139858948313488-&gt;139858944544272</title>\n",
       "<path d=\"M130,-444.937C130,-436.807 130,-426.876 130,-417.705\" fill=\"none\" stroke=\"black\"/>\n",
       "<polygon fill=\"black\" points=\"133.5,-417.441 130,-407.441 126.5,-417.441 133.5,-417.441\" stroke=\"black\"/>\n",
       "</g>\n",
       "<!-- 139858948266128 -->\n",
       "<g class=\"node\" id=\"node8\"><title>139858948266128</title>\n",
       "<polygon fill=\"none\" points=\"75,-297 75,-333 185,-333 185,-297 75,-297\" stroke=\"black\"/>\n",
       "<text font-family=\"Times,serif\" font-size=\"14.00\" text-anchor=\"middle\" x=\"130\" y=\"-311.3\">flatten_6: Flatten</text>\n",
       "</g>\n",
       "<!-- 139858944544272&#45;&gt;139858948266128 -->\n",
       "<g class=\"edge\" id=\"edge7\"><title>139858944544272-&gt;139858948266128</title>\n",
       "<path d=\"M130,-370.937C130,-362.807 130,-352.876 130,-343.705\" fill=\"none\" stroke=\"black\"/>\n",
       "<polygon fill=\"black\" points=\"133.5,-343.441 130,-333.441 126.5,-343.441 133.5,-343.441\" stroke=\"black\"/>\n",
       "</g>\n",
       "<!-- 139858948371088 -->\n",
       "<g class=\"node\" id=\"node10\"><title>139858948371088</title>\n",
       "<polygon fill=\"none\" points=\"154,-223 154,-259 262,-259 262,-223 154,-223\" stroke=\"black\"/>\n",
       "<text font-family=\"Times,serif\" font-size=\"14.00\" text-anchor=\"middle\" x=\"208\" y=\"-237.3\">merge_6: Merge</text>\n",
       "</g>\n",
       "<!-- 139858948266128&#45;&gt;139858948371088 -->\n",
       "<g class=\"edge\" id=\"edge8\"><title>139858948266128-&gt;139858948371088</title>\n",
       "<path d=\"M148.485,-296.937C158.418,-287.768 170.833,-276.308 181.75,-266.231\" fill=\"none\" stroke=\"black\"/>\n",
       "<polygon fill=\"black\" points=\"184.403,-268.545 189.377,-259.19 179.655,-263.401 184.403,-268.545\" stroke=\"black\"/>\n",
       "</g>\n",
       "<!-- 139859879095568 -->\n",
       "<g class=\"node\" id=\"node9\"><title>139859879095568</title>\n",
       "<polygon fill=\"none\" points=\"203,-297 203,-333 371,-333 371,-297 203,-297\" stroke=\"black\"/>\n",
       "<text font-family=\"Times,serif\" font-size=\"14.00\" text-anchor=\"middle\" x=\"287\" y=\"-311.3\">dist2land_input: InputLayer</text>\n",
       "</g>\n",
       "<!-- 139859879095568&#45;&gt;139858948371088 -->\n",
       "<g class=\"edge\" id=\"edge9\"><title>139859879095568-&gt;139858948371088</title>\n",
       "<path d=\"M268.278,-296.937C258.12,-287.679 245.4,-276.086 234.265,-265.938\" fill=\"none\" stroke=\"black\"/>\n",
       "<polygon fill=\"black\" points=\"236.61,-263.339 226.861,-259.19 231.895,-268.513 236.61,-263.339\" stroke=\"black\"/>\n",
       "</g>\n",
       "<!-- 139858947976720 -->\n",
       "<g class=\"node\" id=\"node11\"><title>139858947976720</title>\n",
       "<polygon fill=\"none\" points=\"153.5,-149 153.5,-185 262.5,-185 262.5,-149 153.5,-149\" stroke=\"black\"/>\n",
       "<text font-family=\"Times,serif\" font-size=\"14.00\" text-anchor=\"middle\" x=\"208\" y=\"-163.3\">dense_12: Dense</text>\n",
       "</g>\n",
       "<!-- 139858948371088&#45;&gt;139858947976720 -->\n",
       "<g class=\"edge\" id=\"edge10\"><title>139858948371088-&gt;139858947976720</title>\n",
       "<path d=\"M208,-222.937C208,-214.807 208,-204.876 208,-195.705\" fill=\"none\" stroke=\"black\"/>\n",
       "<polygon fill=\"black\" points=\"211.5,-195.441 208,-185.441 204.5,-195.441 211.5,-195.441\" stroke=\"black\"/>\n",
       "</g>\n",
       "<!-- 139858947876880 -->\n",
       "<g class=\"node\" id=\"node12\"><title>139858947876880</title>\n",
       "<polygon fill=\"none\" points=\"153.5,-75 153.5,-111 262.5,-111 262.5,-75 153.5,-75\" stroke=\"black\"/>\n",
       "<text font-family=\"Times,serif\" font-size=\"14.00\" text-anchor=\"middle\" x=\"208\" y=\"-89.3\">dense_13: Dense</text>\n",
       "</g>\n",
       "<!-- 139858947976720&#45;&gt;139858947876880 -->\n",
       "<g class=\"edge\" id=\"edge11\"><title>139858947976720-&gt;139858947876880</title>\n",
       "<path d=\"M208,-148.937C208,-140.807 208,-130.876 208,-121.705\" fill=\"none\" stroke=\"black\"/>\n",
       "<polygon fill=\"black\" points=\"211.5,-121.441 208,-111.441 204.5,-121.441 211.5,-121.441\" stroke=\"black\"/>\n",
       "</g>\n",
       "<!-- 139858947919632 -->\n",
       "<g class=\"node\" id=\"node13\"><title>139858947919632</title>\n",
       "<polygon fill=\"none\" points=\"153.5,-1 153.5,-37 262.5,-37 262.5,-1 153.5,-1\" stroke=\"black\"/>\n",
       "<text font-family=\"Times,serif\" font-size=\"14.00\" text-anchor=\"middle\" x=\"208\" y=\"-15.3\">dense_14: Dense</text>\n",
       "</g>\n",
       "<!-- 139858947876880&#45;&gt;139858947919632 -->\n",
       "<g class=\"edge\" id=\"edge12\"><title>139858947876880-&gt;139858947919632</title>\n",
       "<path d=\"M208,-74.937C208,-66.8072 208,-56.8761 208,-47.7047\" fill=\"none\" stroke=\"black\"/>\n",
       "<polygon fill=\"black\" points=\"211.5,-47.4406 208,-37.4407 204.5,-47.4407 211.5,-47.4406\" stroke=\"black\"/>\n",
       "</g>\n",
       "</g>\n",
       "</svg>"
      ],
      "text/plain": [
       "<IPython.core.display.SVG object>"
      ]
     },
     "execution_count": 35,
     "metadata": {},
     "output_type": "execute_result"
    }
   ],
   "source": [
    "SVG(model_to_dot(model_dense).create(prog='dot', format='svg'))"
   ]
  },
  {
   "cell_type": "code",
   "execution_count": 37,
   "metadata": {},
   "outputs": [
    {
     "name": "stdout",
     "output_type": "stream",
     "text": [
      "Train on 1996 samples, validate on 499 samples\n",
      "Epoch 1/10\n",
      "1996/1996 [==============================] - 15s - loss: 0.5734 - acc: 0.8417 - val_loss: 0.2483 - val_acc: 0.9118\n",
      "Epoch 2/10\n",
      "1996/1996 [==============================] - 15s - loss: 0.2449 - acc: 0.9063 - val_loss: 0.3344 - val_acc: 0.8898\n",
      "Epoch 3/10\n",
      "1996/1996 [==============================] - 15s - loss: 0.1621 - acc: 0.9439 - val_loss: 0.2142 - val_acc: 0.9279\n",
      "Epoch 4/10\n",
      "1996/1996 [==============================] - 15s - loss: 0.1358 - acc: 0.9574 - val_loss: 0.2321 - val_acc: 0.9118\n",
      "Epoch 5/10\n",
      "1996/1996 [==============================] - 15s - loss: 0.0828 - acc: 0.9664 - val_loss: 0.1797 - val_acc: 0.9359\n",
      "Epoch 6/10\n",
      "1996/1996 [==============================] - 15s - loss: 0.0844 - acc: 0.9719 - val_loss: 0.2260 - val_acc: 0.9399\n",
      "Epoch 7/10\n",
      "1996/1996 [==============================] - 15s - loss: 0.0676 - acc: 0.9805 - val_loss: 0.2007 - val_acc: 0.9439\n",
      "Epoch 8/10\n",
      "1996/1996 [==============================] - 15s - loss: 0.0558 - acc: 0.9795 - val_loss: 0.1689 - val_acc: 0.9519\n",
      "Epoch 9/10\n",
      "1996/1996 [==============================] - 15s - loss: 0.0347 - acc: 0.9890 - val_loss: 0.2855 - val_acc: 0.9499\n",
      "Epoch 10/10\n",
      "1996/1996 [==============================] - 15s - loss: 0.0338 - acc: 0.9865 - val_loss: 0.3481 - val_acc: 0.9399\n"
     ]
    },
    {
     "data": {
      "text/plain": [
       "<keras.callbacks.History at 0x7f33aa6d1e10>"
      ]
     },
     "execution_count": 37,
     "metadata": {},
     "output_type": "execute_result"
    }
   ],
   "source": [
    "lr = 0.001\n",
    "K.set_value(model_dense.optimizer.lr, lr)\n",
    "model_dense.fit([np_train_crops, np_train_feature], np_train_class,\n",
    "          batch_size=32,\n",
    "          epochs=10,\n",
    "          validation_data=([np_valid_crops, np_valid_feature], np_valid_class))"
   ]
  },
  {
   "cell_type": "code",
   "execution_count": 38,
   "metadata": {},
   "outputs": [
    {
     "name": "stdout",
     "output_type": "stream",
     "text": [
      "Train on 1996 samples, validate on 499 samples\n",
      "Epoch 1/5\n",
      "1996/1996 [==============================] - 15s - loss: 0.0313 - acc: 0.9890 - val_loss: 0.3762 - val_acc: 0.9479\n",
      "Epoch 2/5\n",
      "1996/1996 [==============================] - 15s - loss: 0.0206 - acc: 0.9930 - val_loss: 0.3148 - val_acc: 0.9479\n",
      "Epoch 3/5\n",
      "1996/1996 [==============================] - 15s - loss: 0.0403 - acc: 0.9890 - val_loss: 0.4662 - val_acc: 0.9259\n",
      "Epoch 4/5\n",
      "1996/1996 [==============================] - 15s - loss: 0.0275 - acc: 0.9925 - val_loss: 0.2021 - val_acc: 0.9679\n",
      "Epoch 5/5\n",
      "1996/1996 [==============================] - 15s - loss: 0.0084 - acc: 0.9975 - val_loss: 0.5283 - val_acc: 0.9399\n"
     ]
    },
    {
     "data": {
      "text/plain": [
       "<keras.callbacks.History at 0x7f3372898d10>"
      ]
     },
     "execution_count": 38,
     "metadata": {},
     "output_type": "execute_result"
    }
   ],
   "source": [
    "lr = 0.001\n",
    "K.set_value(model_dense.optimizer.lr, lr)\n",
    "model_dense.fit([np_train_crops, np_train_feature], np_train_class,\n",
    "          batch_size=32,\n",
    "          epochs=5,\n",
    "          validation_data=([np_valid_crops, np_valid_feature], np_valid_class))"
   ]
  },
  {
   "cell_type": "code",
   "execution_count": 39,
   "metadata": {},
   "outputs": [
    {
     "name": "stdout",
     "output_type": "stream",
     "text": [
      "Train on 1996 samples, validate on 499 samples\n",
      "Epoch 1/5\n",
      "1996/1996 [==============================] - 15s - loss: 0.0249 - acc: 0.9910 - val_loss: 0.3462 - val_acc: 0.9559\n",
      "Epoch 2/5\n",
      "1996/1996 [==============================] - 15s - loss: 0.0013 - acc: 0.9995 - val_loss: 0.3615 - val_acc: 0.9579\n",
      "Epoch 3/5\n",
      "1996/1996 [==============================] - 15s - loss: 4.3635e-04 - acc: 1.0000 - val_loss: 0.3464 - val_acc: 0.9579\n",
      "Epoch 4/5\n",
      "1996/1996 [==============================] - 15s - loss: 1.8558e-04 - acc: 1.0000 - val_loss: 0.3648 - val_acc: 0.9539\n",
      "Epoch 5/5\n",
      "1996/1996 [==============================] - 15s - loss: 3.3708e-05 - acc: 1.0000 - val_loss: 0.3672 - val_acc: 0.9599\n"
     ]
    },
    {
     "data": {
      "text/plain": [
       "<keras.callbacks.History at 0x7f337225c4d0>"
      ]
     },
     "execution_count": 39,
     "metadata": {},
     "output_type": "execute_result"
    }
   ],
   "source": [
    "lr = 0.0001\n",
    "K.set_value(model_dense.optimizer.lr, lr)\n",
    "model_dense.fit([np_train_crops, np_train_feature], np_train_class,\n",
    "          batch_size=32,\n",
    "          epochs=5,\n",
    "          validation_data=([np_valid_crops, np_valid_feature], np_valid_class))"
   ]
  },
  {
   "cell_type": "code",
   "execution_count": 40,
   "metadata": {},
   "outputs": [
    {
     "name": "stdout",
     "output_type": "stream",
     "text": [
      "Train on 1996 samples, validate on 499 samples\n",
      "Epoch 1/2\n",
      "1996/1996 [==============================] - 15s - loss: 1.0542e-05 - acc: 1.0000 - val_loss: 0.3665 - val_acc: 0.9599\n",
      "Epoch 2/2\n",
      "1996/1996 [==============================] - 15s - loss: 1.1628e-05 - acc: 1.0000 - val_loss: 0.3693 - val_acc: 0.9599\n"
     ]
    },
    {
     "data": {
      "text/plain": [
       "<keras.callbacks.History at 0x7f33729ef9d0>"
      ]
     },
     "execution_count": 40,
     "metadata": {},
     "output_type": "execute_result"
    }
   ],
   "source": [
    "lr = 0.00001\n",
    "K.set_value(model_dense.optimizer.lr, lr)\n",
    "model_dense.fit([np_train_crops, np_train_feature], np_train_class,\n",
    "          batch_size=32,\n",
    "          epochs=2,\n",
    "          validation_data=([np_valid_crops, np_valid_feature], np_valid_class))"
   ]
  }
 ],
 "metadata": {
  "kernelspec": {
   "display_name": "Python 2",
   "language": "python",
   "name": "python2"
  },
  "language_info": {
   "codemirror_mode": {
    "name": "ipython",
    "version": 2
   },
   "file_extension": ".py",
   "mimetype": "text/x-python",
   "name": "python",
   "nbconvert_exporter": "python",
   "pygments_lexer": "ipython2",
   "version": "2.7.6"
  }
 },
 "nbformat": 4,
 "nbformat_minor": 2
}
