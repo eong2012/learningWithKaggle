{
 "cells": [
  {
   "cell_type": "code",
   "execution_count": 1,
   "metadata": {},
   "outputs": [
    {
     "name": "stderr",
     "output_type": "stream",
     "text": [
      "Using TensorFlow backend.\n"
     ]
    },
    {
     "name": "stdout",
     "output_type": "stream",
     "text": [
      "2.0.5\n",
      "0.19.1\n",
      "2.0.0\n",
      "1.13.0\n"
     ]
    }
   ],
   "source": [
    "import matplotlib.pyplot as plt \n",
    "import scipy.misc\n",
    "\n",
    "import numpy as np\n",
    "from keras.layers import Dense, Dropout, Flatten, Input, Conv2D, Cropping2D\n",
    "from keras.layers import MaxPooling2D, ZeroPadding2D, BatchNormalization, Activation, Add, merge, concatenate\n",
    "from keras.models import Model\n",
    "from keras.utils.layer_utils import print_summary\n",
    "from keras.preprocessing.image import ImageDataGenerator\n",
    "from keras import backend as K\n",
    "\n",
    "from keras import __version__ as kv\n",
    "from scipy import __version__ as sv\n",
    "from matplotlib import __version__ as mv\n",
    "from numpy import __version__ as nv\n",
    "\n",
    "print kv\n",
    "print sv\n",
    "print mv\n",
    "print nv"
   ]
  },
  {
   "cell_type": "code",
   "execution_count": 2,
   "metadata": {},
   "outputs": [
    {
     "data": {
      "text/html": [
       "<script>requirejs.config({paths: { 'plotly': ['https://cdn.plot.ly/plotly-latest.min']},});if(!window.Plotly) {{require(['plotly'],function(plotly) {window.Plotly=plotly;});}}</script>"
      ],
      "text/vnd.plotly.v1+html": [
       "<script>requirejs.config({paths: { 'plotly': ['https://cdn.plot.ly/plotly-latest.min']},});if(!window.Plotly) {{require(['plotly'],function(plotly) {window.Plotly=plotly;});}}</script>"
      ]
     },
     "metadata": {},
     "output_type": "display_data"
    },
    {
     "data": {
      "text/html": [
       "<script>requirejs.config({paths: { 'plotly': ['https://cdn.plot.ly/plotly-latest.min']},});if(!window.Plotly) {{require(['plotly'],function(plotly) {window.Plotly=plotly;});}}</script>"
      ],
      "text/vnd.plotly.v1+html": [
       "<script>requirejs.config({paths: { 'plotly': ['https://cdn.plot.ly/plotly-latest.min']},});if(!window.Plotly) {{require(['plotly'],function(plotly) {window.Plotly=plotly;});}}</script>"
      ]
     },
     "metadata": {},
     "output_type": "display_data"
    },
    {
     "data": {
      "text/plain": [
       "<module 'utils' from 'utils.pyc'>"
      ]
     },
     "execution_count": 2,
     "metadata": {},
     "output_type": "execute_result"
    }
   ],
   "source": [
    "# Local files\n",
    "import utils\n",
    "reload(utils)"
   ]
  },
  {
   "cell_type": "markdown",
   "metadata": {},
   "source": [
    "# Data"
   ]
  },
  {
   "cell_type": "markdown",
   "metadata": {},
   "source": [
    "### Config"
   ]
  },
  {
   "cell_type": "code",
   "execution_count": 3,
   "metadata": {
    "collapsed": true
   },
   "outputs": [],
   "source": [
    "trained_model_dir = '/home/ubuntu/data/sar/experiment_crops_20170815/trained_models/2.1-mph_as-best_baseline_with_distance_feature/'"
   ]
  },
  {
   "cell_type": "code",
   "execution_count": 4,
   "metadata": {
    "collapsed": true
   },
   "outputs": [],
   "source": [
    "train_dir = '/home/ubuntu/data/sar/experiment_crops_20170815/train/50x50/'\n",
    "valid_dir = '/home/ubuntu/data/sar/experiment_crops_20170815/validate/50x50/'"
   ]
  },
  {
   "cell_type": "code",
   "execution_count": 5,
   "metadata": {
    "collapsed": true
   },
   "outputs": [],
   "source": [
    "input_shape = (50, 50, 1)\n",
    "num_classes = 3"
   ]
  },
  {
   "cell_type": "markdown",
   "metadata": {},
   "source": [
    "### Convert tif2png"
   ]
  },
  {
   "cell_type": "markdown",
   "metadata": {},
   "source": [
    "Done in 1.0-mph_as_kd-baseline-simple_CNN_from_scratch.ipynb"
   ]
  },
  {
   "cell_type": "markdown",
   "metadata": {},
   "source": [
    "### Add dist2land feature"
   ]
  },
  {
   "cell_type": "code",
   "execution_count": 6,
   "metadata": {
    "collapsed": true
   },
   "outputs": [],
   "source": [
    "train_crops, train_filename, train_feature, train_class, \\\n",
    "valid_crops, valid_filename, valid_feature, valid_class = utils.add_dist2land_experiment_crops_20170815()"
   ]
  },
  {
   "cell_type": "code",
   "execution_count": 7,
   "metadata": {},
   "outputs": [
    {
     "name": "stdout",
     "output_type": "stream",
     "text": [
      "training crops: 1996\n",
      "training features: 1996\n",
      "validation crops: 499\n",
      "validation features: 499\n",
      "<type 'list'> <type 'numpy.ndarray'> (50, 50)\n"
     ]
    }
   ],
   "source": [
    "print \"training crops:\", len(train_crops)\n",
    "print \"training features:\", len(train_feature)\n",
    "print \"validation crops:\", len(valid_filename)\n",
    "print \"validation features:\", len(valid_feature)\n",
    "print type(train_crops), type(train_crops[0]), train_crops[0].shape"
   ]
  },
  {
   "cell_type": "code",
   "execution_count": 8,
   "metadata": {
    "collapsed": true
   },
   "outputs": [],
   "source": [
    "# Reshape for keras format\n",
    "np_train_class = np.array(train_class)\n",
    "np_train_filename = np.array(train_filename)\n",
    "np_train_crops = np.array(train_crops)\n",
    "np_train_feature = np.array(train_feature)\n",
    "\n",
    "np_valid_class = np.array(valid_class)\n",
    "np_valid_filename = np.array(valid_filename)\n",
    "np_valid_crops = np.array(valid_crops)\n",
    "np_valid_feature = np.array(valid_feature)\n",
    "\n",
    "np_train_crops = np.expand_dims(np_train_crops, axis=3)\n",
    "np_train_feature = np.expand_dims(np_train_feature, axis=1)\n",
    "\n",
    "np_valid_crops = np.expand_dims(np_valid_crops, axis=3)\n",
    "np_valid_feature = np.expand_dims(np_valid_feature, axis=1)"
   ]
  },
  {
   "cell_type": "code",
   "execution_count": 9,
   "metadata": {},
   "outputs": [
    {
     "name": "stdout",
     "output_type": "stream",
     "text": [
      "(1996, 50, 50, 1)\n",
      "(1996, 1)\n",
      "(1996, 3)\n",
      "(499, 50, 50, 1)\n",
      "(499, 1)\n",
      "(499, 3)\n"
     ]
    }
   ],
   "source": [
    "print np_train_crops.shape\n",
    "print np_train_feature.shape\n",
    "print np_train_class.shape\n",
    "\n",
    "print np_valid_crops.shape\n",
    "print np_valid_feature.shape\n",
    "print np_valid_class.shape"
   ]
  },
  {
   "cell_type": "markdown",
   "metadata": {},
   "source": [
    "# Experiments"
   ]
  },
  {
   "cell_type": "markdown",
   "metadata": {},
   "source": [
    "## baseline with distance feature"
   ]
  },
  {
   "cell_type": "code",
   "execution_count": 10,
   "metadata": {},
   "outputs": [
    {
     "name": "stderr",
     "output_type": "stream",
     "text": [
      "/usr/local/lib/python2.7/dist-packages/ipykernel_launcher.py:10: UserWarning:\n",
      "\n",
      "The `merge` function is deprecated and will be removed after 08/2017. Use instead layers from `keras.layers.merge`, e.g. `add`, `concatenate`, etc.\n",
      "\n",
      "/usr/local/lib/python2.7/dist-packages/keras/legacy/layers.py:460: UserWarning:\n",
      "\n",
      "The `Merge` layer is deprecated and will be removed after 08/2017. Use instead layers from `keras.layers.merge`, e.g. `add`, `concatenate`, etc.\n",
      "\n"
     ]
    }
   ],
   "source": [
    "classifier_input = Input(shape=input_shape)\n",
    "dist2land_input = Input(shape=(1,), name='dist2land_input')\n",
    "\n",
    "x = Conv2D(32, (3, 3), activation='relu', padding='same')(classifier_input)\n",
    "x = MaxPooling2D()(x)\n",
    "x = Conv2D(64, (3, 3), activation='relu', padding='same')(x)\n",
    "x = MaxPooling2D()(x)\n",
    "x = Conv2D(64, (3, 3), activation='relu', padding='same')(x)\n",
    "x = Flatten()(x)\n",
    "x = merge([x, dist2land_input], 'concat')\n",
    "out = Dense(num_classes, activation='softmax')(x)\n",
    "\n",
    "model = Model(inputs=[classifier_input, dist2land_input], outputs=out)\n",
    "model.compile(optimizer='rmsprop', loss='categorical_crossentropy', metrics=['accuracy'])"
   ]
  },
  {
   "cell_type": "code",
   "execution_count": 11,
   "metadata": {},
   "outputs": [
    {
     "name": "stdout",
     "output_type": "stream",
     "text": [
      "____________________________________________________________________________________________________\n",
      "Layer (type)                     Output Shape          Param #     Connected to                     \n",
      "====================================================================================================\n",
      "input_1 (InputLayer)             (None, 50, 50, 1)     0                                            \n",
      "____________________________________________________________________________________________________\n",
      "conv2d_1 (Conv2D)                (None, 50, 50, 32)    320         input_1[0][0]                    \n",
      "____________________________________________________________________________________________________\n",
      "max_pooling2d_1 (MaxPooling2D)   (None, 25, 25, 32)    0           conv2d_1[0][0]                   \n",
      "____________________________________________________________________________________________________\n",
      "conv2d_2 (Conv2D)                (None, 25, 25, 64)    18496       max_pooling2d_1[0][0]            \n",
      "____________________________________________________________________________________________________\n",
      "max_pooling2d_2 (MaxPooling2D)   (None, 12, 12, 64)    0           conv2d_2[0][0]                   \n",
      "____________________________________________________________________________________________________\n",
      "conv2d_3 (Conv2D)                (None, 12, 12, 64)    36928       max_pooling2d_2[0][0]            \n",
      "____________________________________________________________________________________________________\n",
      "flatten_1 (Flatten)              (None, 9216)          0           conv2d_3[0][0]                   \n",
      "____________________________________________________________________________________________________\n",
      "dist2land_input (InputLayer)     (None, 1)             0                                            \n",
      "____________________________________________________________________________________________________\n",
      "merge_1 (Merge)                  (None, 9217)          0           flatten_1[0][0]                  \n",
      "                                                                   dist2land_input[0][0]            \n",
      "____________________________________________________________________________________________________\n",
      "dense_1 (Dense)                  (None, 3)             27654       merge_1[0][0]                    \n",
      "====================================================================================================\n",
      "Total params: 83,398\n",
      "Trainable params: 83,398\n",
      "Non-trainable params: 0\n",
      "____________________________________________________________________________________________________\n"
     ]
    }
   ],
   "source": [
    "model.summary()"
   ]
  },
  {
   "cell_type": "code",
   "execution_count": 12,
   "metadata": {},
   "outputs": [
    {
     "data": {
      "image/svg+xml": [
       "<svg height=\"638pt\" viewBox=\"0.00 0.00 352.00 638.00\" width=\"352pt\" xmlns=\"http://www.w3.org/2000/svg\" xmlns:xlink=\"http://www.w3.org/1999/xlink\">\n",
       "<g class=\"graph\" id=\"graph0\" transform=\"scale(1 1) rotate(0) translate(4 634)\">\n",
       "<title>G</title>\n",
       "<polygon fill=\"white\" points=\"-4,4 -4,-634 348,-634 348,4 -4,4\" stroke=\"none\"/>\n",
       "<!-- 139859880886352 -->\n",
       "<g class=\"node\" id=\"node1\"><title>139859880886352</title>\n",
       "<polygon fill=\"none\" points=\"40.5,-593 40.5,-629 165.5,-629 165.5,-593 40.5,-593\" stroke=\"black\"/>\n",
       "<text font-family=\"Times,serif\" font-size=\"14.00\" text-anchor=\"middle\" x=\"103\" y=\"-607.3\">input_1: InputLayer</text>\n",
       "</g>\n",
       "<!-- 139859881641296 -->\n",
       "<g class=\"node\" id=\"node2\"><title>139859881641296</title>\n",
       "<polygon fill=\"none\" points=\"41.5,-519 41.5,-555 164.5,-555 164.5,-519 41.5,-519\" stroke=\"black\"/>\n",
       "<text font-family=\"Times,serif\" font-size=\"14.00\" text-anchor=\"middle\" x=\"103\" y=\"-533.3\">conv2d_1: Conv2D</text>\n",
       "</g>\n",
       "<!-- 139859880886352&#45;&gt;139859881641296 -->\n",
       "<g class=\"edge\" id=\"edge1\"><title>139859880886352-&gt;139859881641296</title>\n",
       "<path d=\"M103,-592.937C103,-584.807 103,-574.876 103,-565.705\" fill=\"none\" stroke=\"black\"/>\n",
       "<polygon fill=\"black\" points=\"106.5,-565.441 103,-555.441 99.5001,-565.441 106.5,-565.441\" stroke=\"black\"/>\n",
       "</g>\n",
       "<!-- 139859880886672 -->\n",
       "<g class=\"node\" id=\"node3\"><title>139859880886672</title>\n",
       "<polygon fill=\"none\" points=\"-0.5,-445 -0.5,-481 206.5,-481 206.5,-445 -0.5,-445\" stroke=\"black\"/>\n",
       "<text font-family=\"Times,serif\" font-size=\"14.00\" text-anchor=\"middle\" x=\"103\" y=\"-459.3\">max_pooling2d_1: MaxPooling2D</text>\n",
       "</g>\n",
       "<!-- 139859881641296&#45;&gt;139859880886672 -->\n",
       "<g class=\"edge\" id=\"edge2\"><title>139859881641296-&gt;139859880886672</title>\n",
       "<path d=\"M103,-518.937C103,-510.807 103,-500.876 103,-491.705\" fill=\"none\" stroke=\"black\"/>\n",
       "<polygon fill=\"black\" points=\"106.5,-491.441 103,-481.441 99.5001,-491.441 106.5,-491.441\" stroke=\"black\"/>\n",
       "</g>\n",
       "<!-- 139859881641104 -->\n",
       "<g class=\"node\" id=\"node4\"><title>139859881641104</title>\n",
       "<polygon fill=\"none\" points=\"41.5,-371 41.5,-407 164.5,-407 164.5,-371 41.5,-371\" stroke=\"black\"/>\n",
       "<text font-family=\"Times,serif\" font-size=\"14.00\" text-anchor=\"middle\" x=\"103\" y=\"-385.3\">conv2d_2: Conv2D</text>\n",
       "</g>\n",
       "<!-- 139859880886672&#45;&gt;139859881641104 -->\n",
       "<g class=\"edge\" id=\"edge3\"><title>139859880886672-&gt;139859881641104</title>\n",
       "<path d=\"M103,-444.937C103,-436.807 103,-426.876 103,-417.705\" fill=\"none\" stroke=\"black\"/>\n",
       "<polygon fill=\"black\" points=\"106.5,-417.441 103,-407.441 99.5001,-417.441 106.5,-417.441\" stroke=\"black\"/>\n",
       "</g>\n",
       "<!-- 139859880886800 -->\n",
       "<g class=\"node\" id=\"node5\"><title>139859880886800</title>\n",
       "<polygon fill=\"none\" points=\"-0.5,-297 -0.5,-333 206.5,-333 206.5,-297 -0.5,-297\" stroke=\"black\"/>\n",
       "<text font-family=\"Times,serif\" font-size=\"14.00\" text-anchor=\"middle\" x=\"103\" y=\"-311.3\">max_pooling2d_2: MaxPooling2D</text>\n",
       "</g>\n",
       "<!-- 139859881641104&#45;&gt;139859880886800 -->\n",
       "<g class=\"edge\" id=\"edge4\"><title>139859881641104-&gt;139859880886800</title>\n",
       "<path d=\"M103,-370.937C103,-362.807 103,-352.876 103,-343.705\" fill=\"none\" stroke=\"black\"/>\n",
       "<polygon fill=\"black\" points=\"106.5,-343.441 103,-333.441 99.5001,-343.441 106.5,-343.441\" stroke=\"black\"/>\n",
       "</g>\n",
       "<!-- 139859880888976 -->\n",
       "<g class=\"node\" id=\"node6\"><title>139859880888976</title>\n",
       "<polygon fill=\"none\" points=\"41.5,-223 41.5,-259 164.5,-259 164.5,-223 41.5,-223\" stroke=\"black\"/>\n",
       "<text font-family=\"Times,serif\" font-size=\"14.00\" text-anchor=\"middle\" x=\"103\" y=\"-237.3\">conv2d_3: Conv2D</text>\n",
       "</g>\n",
       "<!-- 139859880886800&#45;&gt;139859880888976 -->\n",
       "<g class=\"edge\" id=\"edge5\"><title>139859880886800-&gt;139859880888976</title>\n",
       "<path d=\"M103,-296.937C103,-288.807 103,-278.876 103,-269.705\" fill=\"none\" stroke=\"black\"/>\n",
       "<polygon fill=\"black\" points=\"106.5,-269.441 103,-259.441 99.5001,-269.441 106.5,-269.441\" stroke=\"black\"/>\n",
       "</g>\n",
       "<!-- 139859881036560 -->\n",
       "<g class=\"node\" id=\"node7\"><title>139859881036560</title>\n",
       "<polygon fill=\"none\" points=\"48,-149 48,-185 158,-185 158,-149 48,-149\" stroke=\"black\"/>\n",
       "<text font-family=\"Times,serif\" font-size=\"14.00\" text-anchor=\"middle\" x=\"103\" y=\"-163.3\">flatten_1: Flatten</text>\n",
       "</g>\n",
       "<!-- 139859880888976&#45;&gt;139859881036560 -->\n",
       "<g class=\"edge\" id=\"edge6\"><title>139859880888976-&gt;139859881036560</title>\n",
       "<path d=\"M103,-222.937C103,-214.807 103,-204.876 103,-195.705\" fill=\"none\" stroke=\"black\"/>\n",
       "<polygon fill=\"black\" points=\"106.5,-195.441 103,-185.441 99.5001,-195.441 106.5,-195.441\" stroke=\"black\"/>\n",
       "</g>\n",
       "<!-- 139859881036688 -->\n",
       "<g class=\"node\" id=\"node9\"><title>139859881036688</title>\n",
       "<polygon fill=\"none\" points=\"127,-75 127,-111 235,-111 235,-75 127,-75\" stroke=\"black\"/>\n",
       "<text font-family=\"Times,serif\" font-size=\"14.00\" text-anchor=\"middle\" x=\"181\" y=\"-89.3\">merge_1: Merge</text>\n",
       "</g>\n",
       "<!-- 139859881036560&#45;&gt;139859881036688 -->\n",
       "<g class=\"edge\" id=\"edge7\"><title>139859881036560-&gt;139859881036688</title>\n",
       "<path d=\"M121.485,-148.937C131.418,-139.768 143.833,-128.308 154.75,-118.231\" fill=\"none\" stroke=\"black\"/>\n",
       "<polygon fill=\"black\" points=\"157.403,-120.545 162.377,-111.19 152.655,-115.401 157.403,-120.545\" stroke=\"black\"/>\n",
       "</g>\n",
       "<!-- 139859880886544 -->\n",
       "<g class=\"node\" id=\"node8\"><title>139859880886544</title>\n",
       "<polygon fill=\"none\" points=\"176,-149 176,-185 344,-185 344,-149 176,-149\" stroke=\"black\"/>\n",
       "<text font-family=\"Times,serif\" font-size=\"14.00\" text-anchor=\"middle\" x=\"260\" y=\"-163.3\">dist2land_input: InputLayer</text>\n",
       "</g>\n",
       "<!-- 139859880886544&#45;&gt;139859881036688 -->\n",
       "<g class=\"edge\" id=\"edge8\"><title>139859880886544-&gt;139859881036688</title>\n",
       "<path d=\"M241.278,-148.937C231.12,-139.679 218.4,-128.086 207.265,-117.938\" fill=\"none\" stroke=\"black\"/>\n",
       "<polygon fill=\"black\" points=\"209.61,-115.339 199.861,-111.19 204.895,-120.513 209.61,-115.339\" stroke=\"black\"/>\n",
       "</g>\n",
       "<!-- 139859880121168 -->\n",
       "<g class=\"node\" id=\"node10\"><title>139859880121168</title>\n",
       "<polygon fill=\"none\" points=\"130,-1 130,-37 232,-37 232,-1 130,-1\" stroke=\"black\"/>\n",
       "<text font-family=\"Times,serif\" font-size=\"14.00\" text-anchor=\"middle\" x=\"181\" y=\"-15.3\">dense_1: Dense</text>\n",
       "</g>\n",
       "<!-- 139859881036688&#45;&gt;139859880121168 -->\n",
       "<g class=\"edge\" id=\"edge9\"><title>139859881036688-&gt;139859880121168</title>\n",
       "<path d=\"M181,-74.937C181,-66.8072 181,-56.8761 181,-47.7047\" fill=\"none\" stroke=\"black\"/>\n",
       "<polygon fill=\"black\" points=\"184.5,-47.4406 181,-37.4407 177.5,-47.4407 184.5,-47.4406\" stroke=\"black\"/>\n",
       "</g>\n",
       "</g>\n",
       "</svg>"
      ],
      "text/plain": [
       "<IPython.core.display.SVG object>"
      ]
     },
     "execution_count": 12,
     "metadata": {},
     "output_type": "execute_result"
    }
   ],
   "source": [
    "from IPython.display import SVG\n",
    "from keras.utils.vis_utils import model_to_dot\n",
    "\n",
    "SVG(model_to_dot(model).create(prog='dot', format='svg'))"
   ]
  },
  {
   "cell_type": "code",
   "execution_count": 13,
   "metadata": {},
   "outputs": [
    {
     "name": "stdout",
     "output_type": "stream",
     "text": [
      "Train on 1996 samples, validate on 499 samples\n",
      "Epoch 1/10\n",
      "1996/1996 [==============================] - 10s - loss: 2.4292 - acc: 0.7370 - val_loss: 0.2332 - val_acc: 0.9218\n",
      "Epoch 2/10\n",
      "1996/1996 [==============================] - 9s - loss: 0.2601 - acc: 0.9048 - val_loss: 0.3031 - val_acc: 0.9078\n",
      "Epoch 3/10\n",
      "1996/1996 [==============================] - 10s - loss: 0.1886 - acc: 0.9274 - val_loss: 0.4452 - val_acc: 0.8737\n",
      "Epoch 4/10\n",
      "1996/1996 [==============================] - 10s - loss: 0.1408 - acc: 0.9469 - val_loss: 0.4356 - val_acc: 0.8457\n",
      "Epoch 5/10\n",
      "1996/1996 [==============================] - 10s - loss: 0.0982 - acc: 0.9659 - val_loss: 0.2445 - val_acc: 0.9319\n",
      "Epoch 6/10\n",
      "1996/1996 [==============================] - 10s - loss: 0.0879 - acc: 0.9684 - val_loss: 0.3666 - val_acc: 0.9158\n",
      "Epoch 7/10\n",
      "1996/1996 [==============================] - 10s - loss: 0.0644 - acc: 0.9795 - val_loss: 0.2025 - val_acc: 0.9379\n",
      "Epoch 8/10\n",
      "1996/1996 [==============================] - 10s - loss: 0.0658 - acc: 0.9780 - val_loss: 0.1928 - val_acc: 0.9519\n",
      "Epoch 9/10\n",
      "1996/1996 [==============================] - 10s - loss: 0.0419 - acc: 0.9855 - val_loss: 0.2292 - val_acc: 0.9439\n",
      "Epoch 10/10\n",
      "1996/1996 [==============================] - 10s - loss: 0.0364 - acc: 0.9880 - val_loss: 0.2798 - val_acc: 0.9339\n"
     ]
    },
    {
     "data": {
      "text/plain": [
       "<keras.callbacks.History at 0x7f33aa696850>"
      ]
     },
     "execution_count": 13,
     "metadata": {},
     "output_type": "execute_result"
    }
   ],
   "source": [
    "lr = 0.001\n",
    "K.set_value(model.optimizer.lr, lr)\n",
    "model.fit([np_train_crops, np_train_feature], np_train_class,\n",
    "          batch_size=32,\n",
    "          epochs=10,\n",
    "          validation_data=([np_valid_crops, np_valid_feature], np_valid_class))"
   ]
  },
  {
   "cell_type": "code",
   "execution_count": 15,
   "metadata": {},
   "outputs": [
    {
     "name": "stdout",
     "output_type": "stream",
     "text": [
      "Train on 1996 samples, validate on 499 samples\n",
      "Epoch 1/10\n",
      "1996/1996 [==============================] - 10s - loss: 0.0085 - acc: 0.9975 - val_loss: 0.2420 - val_acc: 0.9379\n",
      "Epoch 2/10\n",
      "1996/1996 [==============================] - 10s - loss: 0.0032 - acc: 0.9995 - val_loss: 0.2504 - val_acc: 0.9419\n",
      "Epoch 3/10\n",
      "1996/1996 [==============================] - 10s - loss: 0.0019 - acc: 1.0000 - val_loss: 0.2655 - val_acc: 0.9439\n",
      "Epoch 4/10\n",
      "1996/1996 [==============================] - 10s - loss: 0.0010 - acc: 1.0000 - val_loss: 0.2793 - val_acc: 0.9459\n",
      "Epoch 5/10\n",
      "1996/1996 [==============================] - 10s - loss: 7.6893e-04 - acc: 1.0000 - val_loss: 0.3214 - val_acc: 0.9399\n",
      "Epoch 6/10\n",
      "1996/1996 [==============================] - 10s - loss: 5.6035e-04 - acc: 1.0000 - val_loss: 0.3183 - val_acc: 0.9459\n",
      "Epoch 7/10\n",
      "1996/1996 [==============================] - 10s - loss: 3.8343e-04 - acc: 1.0000 - val_loss: 0.3545 - val_acc: 0.9419\n",
      "Epoch 8/10\n",
      "1996/1996 [==============================] - 10s - loss: 2.8819e-04 - acc: 1.0000 - val_loss: 0.3536 - val_acc: 0.9439\n",
      "Epoch 9/10\n",
      "1996/1996 [==============================] - 10s - loss: 1.6476e-04 - acc: 1.0000 - val_loss: 0.3297 - val_acc: 0.9499\n",
      "Epoch 10/10\n",
      "1996/1996 [==============================] - 10s - loss: 1.4377e-04 - acc: 1.0000 - val_loss: 0.3509 - val_acc: 0.9459\n"
     ]
    },
    {
     "data": {
      "text/plain": [
       "<keras.callbacks.History at 0x7f33aa696b10>"
      ]
     },
     "execution_count": 15,
     "metadata": {},
     "output_type": "execute_result"
    }
   ],
   "source": [
    "lr = 0.0001\n",
    "K.set_value(model.optimizer.lr, lr)\n",
    "model.fit([np_train_crops, np_train_feature], np_train_class,\n",
    "          batch_size=32,\n",
    "          epochs=10,\n",
    "          validation_data=([np_valid_crops, np_valid_feature], np_valid_class))"
   ]
  },
  {
   "cell_type": "code",
   "execution_count": 16,
   "metadata": {},
   "outputs": [
    {
     "name": "stdout",
     "output_type": "stream",
     "text": [
      "Train on 1996 samples, validate on 499 samples\n",
      "Epoch 1/2\n",
      "1996/1996 [==============================] - 10s - loss: 7.1692e-05 - acc: 1.0000 - val_loss: 0.3542 - val_acc: 0.9459\n",
      "Epoch 2/2\n",
      "1996/1996 [==============================] - 10s - loss: 6.4194e-05 - acc: 1.0000 - val_loss: 0.3550 - val_acc: 0.9459\n"
     ]
    },
    {
     "data": {
      "text/plain": [
       "<keras.callbacks.History at 0x7f33a8263a50>"
      ]
     },
     "execution_count": 16,
     "metadata": {},
     "output_type": "execute_result"
    }
   ],
   "source": [
    "lr = 0.00001\n",
    "K.set_value(model.optimizer.lr, lr)\n",
    "model.fit([np_train_crops, np_train_feature], np_train_class,\n",
    "          batch_size=32,\n",
    "          epochs=2,\n",
    "          validation_data=([np_valid_crops, np_valid_feature], np_valid_class))"
   ]
  },
  {
   "cell_type": "markdown",
   "metadata": {},
   "source": [
    "## baseline + batch_norm and distance feature"
   ]
  },
  {
   "cell_type": "markdown",
   "metadata": {},
   "source": [
    "i.e. the best from 1.1 experiments."
   ]
  },
  {
   "cell_type": "code",
   "execution_count": 17,
   "metadata": {},
   "outputs": [
    {
     "name": "stderr",
     "output_type": "stream",
     "text": [
      "/usr/local/lib/python2.7/dist-packages/ipykernel_launcher.py:11: UserWarning:\n",
      "\n",
      "The `merge` function is deprecated and will be removed after 08/2017. Use instead layers from `keras.layers.merge`, e.g. `add`, `concatenate`, etc.\n",
      "\n"
     ]
    }
   ],
   "source": [
    "classifier_input = Input(shape=input_shape)\n",
    "dist2land_input = Input(shape=(1,), name='dist2land_input')\n",
    "\n",
    "x = Conv2D(32, (3, 3), activation='relu', padding='same')(classifier_input)\n",
    "x = MaxPooling2D()(x)\n",
    "x = Conv2D(64, (3, 3), activation='relu', padding='same')(x)\n",
    "x = BatchNormalization(axis=-1)(x)\n",
    "x = MaxPooling2D()(x)\n",
    "x = Conv2D(64, (3, 3), activation='relu', padding='same')(x)\n",
    "x = Flatten()(x)\n",
    "x = merge([x, dist2land_input], 'concat')\n",
    "out = Dense(num_classes, activation='softmax')(x)\n",
    "\n",
    "model_batchnorm = Model(inputs=[classifier_input, dist2land_input], outputs=out)\n",
    "model_batchnorm.compile(optimizer='rmsprop', loss='categorical_crossentropy', metrics=['accuracy'])"
   ]
  },
  {
   "cell_type": "code",
   "execution_count": 18,
   "metadata": {},
   "outputs": [
    {
     "name": "stdout",
     "output_type": "stream",
     "text": [
      "Train on 1996 samples, validate on 499 samples\n",
      "Epoch 1/10\n",
      "1996/1996 [==============================] - 14s - loss: 0.6383 - acc: 0.8322 - val_loss: 0.7210 - val_acc: 0.8096\n",
      "Epoch 2/10\n",
      "1996/1996 [==============================] - 14s - loss: 0.2682 - acc: 0.9078 - val_loss: 0.2976 - val_acc: 0.9018\n",
      "Epoch 3/10\n",
      "1996/1996 [==============================] - 14s - loss: 0.1746 - acc: 0.9384 - val_loss: 0.2536 - val_acc: 0.8998\n",
      "Epoch 4/10\n",
      "1996/1996 [==============================] - 14s - loss: 0.1509 - acc: 0.9464 - val_loss: 0.3524 - val_acc: 0.8818\n",
      "Epoch 5/10\n",
      "1996/1996 [==============================] - 14s - loss: 0.0994 - acc: 0.9654 - val_loss: 0.4276 - val_acc: 0.8898\n",
      "Epoch 6/10\n",
      "1996/1996 [==============================] - 14s - loss: 0.0743 - acc: 0.9734 - val_loss: 0.1825 - val_acc: 0.9299\n",
      "Epoch 7/10\n",
      "1996/1996 [==============================] - 14s - loss: 0.0681 - acc: 0.9780 - val_loss: 0.2924 - val_acc: 0.9359\n",
      "Epoch 8/10\n",
      "1996/1996 [==============================] - 14s - loss: 0.0663 - acc: 0.9744 - val_loss: 0.1812 - val_acc: 0.9439\n",
      "Epoch 9/10\n",
      "1996/1996 [==============================] - 14s - loss: 0.0353 - acc: 0.9870 - val_loss: 0.3906 - val_acc: 0.9198\n",
      "Epoch 10/10\n",
      "1996/1996 [==============================] - 14s - loss: 0.0279 - acc: 0.9875 - val_loss: 0.1813 - val_acc: 0.9519\n"
     ]
    },
    {
     "data": {
      "text/plain": [
       "<keras.callbacks.History at 0x7f33a81d2e10>"
      ]
     },
     "execution_count": 18,
     "metadata": {},
     "output_type": "execute_result"
    }
   ],
   "source": [
    "lr = 0.001\n",
    "K.set_value(model_batchnorm.optimizer.lr, lr)\n",
    "model_batchnorm.fit([np_train_crops, np_train_feature], np_train_class,\n",
    "          batch_size=32,\n",
    "          epochs=10,\n",
    "          validation_data=([np_valid_crops, np_valid_feature], np_valid_class))"
   ]
  },
  {
   "cell_type": "code",
   "execution_count": 19,
   "metadata": {},
   "outputs": [
    {
     "name": "stdout",
     "output_type": "stream",
     "text": [
      "Train on 1996 samples, validate on 499 samples\n",
      "Epoch 1/5\n",
      "1996/1996 [==============================] - 14s - loss: 0.0377 - acc: 0.9850 - val_loss: 0.2579 - val_acc: 0.9379\n",
      "Epoch 2/5\n",
      "1996/1996 [==============================] - 14s - loss: 0.0197 - acc: 0.9935 - val_loss: 0.4814 - val_acc: 0.9138\n",
      "Epoch 3/5\n",
      "1996/1996 [==============================] - 14s - loss: 0.0183 - acc: 0.9915 - val_loss: 0.2723 - val_acc: 0.9539\n",
      "Epoch 4/5\n",
      "1996/1996 [==============================] - 14s - loss: 0.0152 - acc: 0.9940 - val_loss: 0.3367 - val_acc: 0.9359\n",
      "Epoch 5/5\n",
      "1996/1996 [==============================] - 14s - loss: 0.0143 - acc: 0.9945 - val_loss: 0.7156 - val_acc: 0.9058\n"
     ]
    },
    {
     "data": {
      "text/plain": [
       "<keras.callbacks.History at 0x7f33a81d2910>"
      ]
     },
     "execution_count": 19,
     "metadata": {},
     "output_type": "execute_result"
    }
   ],
   "source": [
    "lr = 0.001\n",
    "K.set_value(model_batchnorm.optimizer.lr, lr)\n",
    "model_batchnorm.fit([np_train_crops, np_train_feature], np_train_class,\n",
    "          batch_size=32,\n",
    "          epochs=5,\n",
    "          validation_data=([np_valid_crops, np_valid_feature], np_valid_class))"
   ]
  },
  {
   "cell_type": "code",
   "execution_count": 20,
   "metadata": {},
   "outputs": [
    {
     "name": "stdout",
     "output_type": "stream",
     "text": [
      "Train on 1996 samples, validate on 499 samples\n",
      "Epoch 1/2\n",
      "1996/1996 [==============================] - 14s - loss: 0.0084 - acc: 0.9970 - val_loss: 0.3335 - val_acc: 0.9459\n",
      "Epoch 2/2\n",
      "1996/1996 [==============================] - 14s - loss: 7.4193e-04 - acc: 1.0000 - val_loss: 0.3091 - val_acc: 0.9459\n"
     ]
    },
    {
     "data": {
      "text/plain": [
       "<keras.callbacks.History at 0x7f33741f3c90>"
      ]
     },
     "execution_count": 20,
     "metadata": {},
     "output_type": "execute_result"
    }
   ],
   "source": [
    "lr = 0.0001\n",
    "K.set_value(model_batchnorm.optimizer.lr, lr)\n",
    "model_batchnorm.fit([np_train_crops, np_train_feature], np_train_class,\n",
    "          batch_size=32,\n",
    "          epochs=2,\n",
    "          validation_data=([np_valid_crops, np_valid_feature], np_valid_class))"
   ]
  },
  {
   "cell_type": "code",
   "execution_count": 21,
   "metadata": {},
   "outputs": [
    {
     "name": "stdout",
     "output_type": "stream",
     "text": [
      "Train on 1996 samples, validate on 499 samples\n",
      "Epoch 1/2\n",
      "1996/1996 [==============================] - 14s - loss: 3.5404e-04 - acc: 1.0000 - val_loss: 0.2793 - val_acc: 0.9459\n",
      "Epoch 2/2\n",
      "1996/1996 [==============================] - 14s - loss: 1.0960e-04 - acc: 1.0000 - val_loss: 0.2695 - val_acc: 0.9439\n"
     ]
    },
    {
     "data": {
      "text/plain": [
       "<keras.callbacks.History at 0x7f33a81d2150>"
      ]
     },
     "execution_count": 21,
     "metadata": {},
     "output_type": "execute_result"
    }
   ],
   "source": [
    "lr = 0.0001\n",
    "K.set_value(model_batchnorm.optimizer.lr, lr)\n",
    "model_batchnorm.fit([np_train_crops, np_train_feature], np_train_class,\n",
    "          batch_size=32,\n",
    "          epochs=2,\n",
    "          validation_data=([np_valid_crops, np_valid_feature], np_valid_class))"
   ]
  },
  {
   "cell_type": "code",
   "execution_count": 22,
   "metadata": {},
   "outputs": [
    {
     "name": "stdout",
     "output_type": "stream",
     "text": [
      "Train on 1996 samples, validate on 499 samples\n",
      "Epoch 1/3\n",
      "1996/1996 [==============================] - 14s - loss: 4.1928e-05 - acc: 1.0000 - val_loss: 0.2801 - val_acc: 0.9459\n",
      "Epoch 2/3\n",
      "1996/1996 [==============================] - 14s - loss: 3.8953e-05 - acc: 1.0000 - val_loss: 0.2824 - val_acc: 0.9459\n",
      "Epoch 3/3\n",
      "1996/1996 [==============================] - 14s - loss: 3.4342e-05 - acc: 1.0000 - val_loss: 0.2881 - val_acc: 0.9459\n"
     ]
    },
    {
     "data": {
      "text/plain": [
       "<keras.callbacks.History at 0x7f33a8263310>"
      ]
     },
     "execution_count": 22,
     "metadata": {},
     "output_type": "execute_result"
    }
   ],
   "source": [
    "lr = 0.00001\n",
    "K.set_value(model_batchnorm.optimizer.lr, lr)\n",
    "model_batchnorm.fit([np_train_crops, np_train_feature], np_train_class,\n",
    "          batch_size=32,\n",
    "          epochs=3,\n",
    "          validation_data=([np_valid_crops, np_valid_feature], np_valid_class))"
   ]
  },
  {
   "cell_type": "markdown",
   "metadata": {},
   "source": [
    " batchnorm slightly better lets continue to investigate this direction."
   ]
  },
  {
   "cell_type": "markdown",
   "metadata": {},
   "source": [
    "## baseline + batchnorm with distance feature + more later dense layers"
   ]
  },
  {
   "cell_type": "code",
   "execution_count": 33,
   "metadata": {},
   "outputs": [
    {
     "name": "stderr",
     "output_type": "stream",
     "text": [
      "/usr/local/lib/python2.7/dist-packages/ipykernel_launcher.py:8: UserWarning:\n",
      "\n",
      "The `merge` function is deprecated and will be removed after 08/2017. Use instead layers from `keras.layers.merge`, e.g. `add`, `concatenate`, etc.\n",
      "\n"
     ]
    }
   ],
   "source": [
    "x = Conv2D(32, (3, 3), activation='relu', padding='same')(classifier_input)\n",
    "x = MaxPooling2D()(x)\n",
    "x = Conv2D(64, (3, 3), activation='relu', padding='same')(x)\n",
    "x = BatchNormalization(axis=-1)(x)\n",
    "x = MaxPooling2D()(x)\n",
    "x = Conv2D(64, (3, 3), activation='relu', padding='same')(x)\n",
    "x = Flatten()(x)\n",
    "x = merge([x, dist2land_input], 'concat')\n",
    "x = Dense(64, activation='relu')(x)\n",
    "x = Dense(32, activation='relu')(x)\n",
    "out = Dense(num_classes, activation='softmax')(x)\n",
    "\n",
    "model_dense = Model(inputs=[classifier_input, dist2land_input], outputs=out)\n",
    "model_dense.compile(optimizer='rmsprop', loss='categorical_crossentropy', metrics=['accuracy'])"
   ]
  },
  {
   "cell_type": "code",
   "execution_count": 34,
   "metadata": {},
   "outputs": [
    {
     "name": "stdout",
     "output_type": "stream",
     "text": [
      "____________________________________________________________________________________________________\n",
      "Layer (type)                     Output Shape          Param #     Connected to                     \n",
      "====================================================================================================\n",
      "input_2 (InputLayer)             (None, 50, 50, 1)     0                                            \n",
      "____________________________________________________________________________________________________\n",
      "conv2d_16 (Conv2D)               (None, 50, 50, 32)    320         input_2[0][0]                    \n",
      "____________________________________________________________________________________________________\n",
      "max_pooling2d_11 (MaxPooling2D)  (None, 25, 25, 32)    0           conv2d_16[0][0]                  \n",
      "____________________________________________________________________________________________________\n",
      "conv2d_17 (Conv2D)               (None, 25, 25, 64)    18496       max_pooling2d_11[0][0]           \n",
      "____________________________________________________________________________________________________\n",
      "batch_normalization_5 (BatchNorm (None, 25, 25, 64)    256         conv2d_17[0][0]                  \n",
      "____________________________________________________________________________________________________\n",
      "max_pooling2d_12 (MaxPooling2D)  (None, 12, 12, 64)    0           batch_normalization_5[0][0]      \n",
      "____________________________________________________________________________________________________\n",
      "conv2d_18 (Conv2D)               (None, 12, 12, 64)    36928       max_pooling2d_12[0][0]           \n",
      "____________________________________________________________________________________________________\n",
      "flatten_6 (Flatten)              (None, 9216)          0           conv2d_18[0][0]                  \n",
      "____________________________________________________________________________________________________\n",
      "dist2land_input (InputLayer)     (None, 1)             0                                            \n",
      "____________________________________________________________________________________________________\n",
      "merge_6 (Merge)                  (None, 9217)          0           flatten_6[0][0]                  \n",
      "                                                                   dist2land_input[0][0]            \n",
      "____________________________________________________________________________________________________\n",
      "dense_12 (Dense)                 (None, 64)            589952      merge_6[0][0]                    \n",
      "____________________________________________________________________________________________________\n",
      "dense_13 (Dense)                 (None, 32)            2080        dense_12[0][0]                   \n",
      "____________________________________________________________________________________________________\n",
      "dense_14 (Dense)                 (None, 3)             99          dense_13[0][0]                   \n",
      "====================================================================================================\n",
      "Total params: 648,131\n",
      "Trainable params: 648,003\n",
      "Non-trainable params: 128\n",
      "____________________________________________________________________________________________________\n"
     ]
    }
   ],
   "source": [
    "model_dense.summary()"
   ]
  },
  {
   "cell_type": "code",
   "execution_count": 35,
   "metadata": {},
   "outputs": [
    {
     "data": {
      "image/svg+xml": [
       "<svg height=\"860pt\" viewBox=\"0.00 0.00 379.00 860.00\" width=\"379pt\" xmlns=\"http://www.w3.org/2000/svg\" xmlns:xlink=\"http://www.w3.org/1999/xlink\">\n",
       "<g class=\"graph\" id=\"graph0\" transform=\"scale(1 1) rotate(0) translate(4 856)\">\n",
       "<title>G</title>\n",
       "<polygon fill=\"white\" points=\"-4,4 -4,-856 375,-856 375,4 -4,4\" stroke=\"none\"/>\n",
       "<!-- 139859840104912 -->\n",
       "<g class=\"node\" id=\"node1\"><title>139859840104912</title>\n",
       "<polygon fill=\"none\" points=\"67.5,-815 67.5,-851 192.5,-851 192.5,-815 67.5,-815\" stroke=\"black\"/>\n",
       "<text font-family=\"Times,serif\" font-size=\"14.00\" text-anchor=\"middle\" x=\"130\" y=\"-829.3\">input_2: InputLayer</text>\n",
       "</g>\n",
       "<!-- 139858963536848 -->\n",
       "<g class=\"node\" id=\"node2\"><title>139858963536848</title>\n",
       "<polygon fill=\"none\" points=\"65,-741 65,-777 195,-777 195,-741 65,-741\" stroke=\"black\"/>\n",
       "<text font-family=\"Times,serif\" font-size=\"14.00\" text-anchor=\"middle\" x=\"130\" y=\"-755.3\">conv2d_16: Conv2D</text>\n",
       "</g>\n",
       "<!-- 139859840104912&#45;&gt;139858963536848 -->\n",
       "<g class=\"edge\" id=\"edge1\"><title>139859840104912-&gt;139858963536848</title>\n",
       "<path d=\"M130,-814.937C130,-806.807 130,-796.876 130,-787.705\" fill=\"none\" stroke=\"black\"/>\n",
       "<polygon fill=\"black\" points=\"133.5,-787.441 130,-777.441 126.5,-787.441 133.5,-787.441\" stroke=\"black\"/>\n",
       "</g>\n",
       "<!-- 139858963536784 -->\n",
       "<g class=\"node\" id=\"node3\"><title>139858963536784</title>\n",
       "<polygon fill=\"none\" points=\"23,-667 23,-703 237,-703 237,-667 23,-667\" stroke=\"black\"/>\n",
       "<text font-family=\"Times,serif\" font-size=\"14.00\" text-anchor=\"middle\" x=\"130\" y=\"-681.3\">max_pooling2d_11: MaxPooling2D</text>\n",
       "</g>\n",
       "<!-- 139858963536848&#45;&gt;139858963536784 -->\n",
       "<g class=\"edge\" id=\"edge2\"><title>139858963536848-&gt;139858963536784</title>\n",
       "<path d=\"M130,-740.937C130,-732.807 130,-722.876 130,-713.705\" fill=\"none\" stroke=\"black\"/>\n",
       "<polygon fill=\"black\" points=\"133.5,-713.441 130,-703.441 126.5,-713.441 133.5,-713.441\" stroke=\"black\"/>\n",
       "</g>\n",
       "<!-- 139858947739728 -->\n",
       "<g class=\"node\" id=\"node4\"><title>139858947739728</title>\n",
       "<polygon fill=\"none\" points=\"65,-593 65,-629 195,-629 195,-593 65,-593\" stroke=\"black\"/>\n",
       "<text font-family=\"Times,serif\" font-size=\"14.00\" text-anchor=\"middle\" x=\"130\" y=\"-607.3\">conv2d_17: Conv2D</text>\n",
       "</g>\n",
       "<!-- 139858963536784&#45;&gt;139858947739728 -->\n",
       "<g class=\"edge\" id=\"edge3\"><title>139858963536784-&gt;139858947739728</title>\n",
       "<path d=\"M130,-666.937C130,-658.807 130,-648.876 130,-639.705\" fill=\"none\" stroke=\"black\"/>\n",
       "<polygon fill=\"black\" points=\"133.5,-639.441 130,-629.441 126.5,-639.441 133.5,-639.441\" stroke=\"black\"/>\n",
       "</g>\n",
       "<!-- 139858963536208 -->\n",
       "<g class=\"node\" id=\"node5\"><title>139858963536208</title>\n",
       "<polygon fill=\"none\" points=\"0,-519 0,-555 260,-555 260,-519 0,-519\" stroke=\"black\"/>\n",
       "<text font-family=\"Times,serif\" font-size=\"14.00\" text-anchor=\"middle\" x=\"130\" y=\"-533.3\">batch_normalization_5: BatchNormalization</text>\n",
       "</g>\n",
       "<!-- 139858947739728&#45;&gt;139858963536208 -->\n",
       "<g class=\"edge\" id=\"edge4\"><title>139858947739728-&gt;139858963536208</title>\n",
       "<path d=\"M130,-592.937C130,-584.807 130,-574.876 130,-565.705\" fill=\"none\" stroke=\"black\"/>\n",
       "<polygon fill=\"black\" points=\"133.5,-565.441 130,-555.441 126.5,-565.441 133.5,-565.441\" stroke=\"black\"/>\n",
       "</g>\n",
       "<!-- 139858948313488 -->\n",
       "<g class=\"node\" id=\"node6\"><title>139858948313488</title>\n",
       "<polygon fill=\"none\" points=\"23,-445 23,-481 237,-481 237,-445 23,-445\" stroke=\"black\"/>\n",
       "<text font-family=\"Times,serif\" font-size=\"14.00\" text-anchor=\"middle\" x=\"130\" y=\"-459.3\">max_pooling2d_12: MaxPooling2D</text>\n",
       "</g>\n",
       "<!-- 139858963536208&#45;&gt;139858948313488 -->\n",
       "<g class=\"edge\" id=\"edge5\"><title>139858963536208-&gt;139858948313488</title>\n",
       "<path d=\"M130,-518.937C130,-510.807 130,-500.876 130,-491.705\" fill=\"none\" stroke=\"black\"/>\n",
       "<polygon fill=\"black\" points=\"133.5,-491.441 130,-481.441 126.5,-491.441 133.5,-491.441\" stroke=\"black\"/>\n",
       "</g>\n",
       "<!-- 139858944544272 -->\n",
       "<g class=\"node\" id=\"node7\"><title>139858944544272</title>\n",
       "<polygon fill=\"none\" points=\"65,-371 65,-407 195,-407 195,-371 65,-371\" stroke=\"black\"/>\n",
       "<text font-family=\"Times,serif\" font-size=\"14.00\" text-anchor=\"middle\" x=\"130\" y=\"-385.3\">conv2d_18: Conv2D</text>\n",
       "</g>\n",
       "<!-- 139858948313488&#45;&gt;139858944544272 -->\n",
       "<g class=\"edge\" id=\"edge6\"><title>139858948313488-&gt;139858944544272</title>\n",
       "<path d=\"M130,-444.937C130,-436.807 130,-426.876 130,-417.705\" fill=\"none\" stroke=\"black\"/>\n",
       "<polygon fill=\"black\" points=\"133.5,-417.441 130,-407.441 126.5,-417.441 133.5,-417.441\" stroke=\"black\"/>\n",
       "</g>\n",
       "<!-- 139858948266128 -->\n",
       "<g class=\"node\" id=\"node8\"><title>139858948266128</title>\n",
       "<polygon fill=\"none\" points=\"75,-297 75,-333 185,-333 185,-297 75,-297\" stroke=\"black\"/>\n",
       "<text font-family=\"Times,serif\" font-size=\"14.00\" text-anchor=\"middle\" x=\"130\" y=\"-311.3\">flatten_6: Flatten</text>\n",
       "</g>\n",
       "<!-- 139858944544272&#45;&gt;139858948266128 -->\n",
       "<g class=\"edge\" id=\"edge7\"><title>139858944544272-&gt;139858948266128</title>\n",
       "<path d=\"M130,-370.937C130,-362.807 130,-352.876 130,-343.705\" fill=\"none\" stroke=\"black\"/>\n",
       "<polygon fill=\"black\" points=\"133.5,-343.441 130,-333.441 126.5,-343.441 133.5,-343.441\" stroke=\"black\"/>\n",
       "</g>\n",
       "<!-- 139858948371088 -->\n",
       "<g class=\"node\" id=\"node10\"><title>139858948371088</title>\n",
       "<polygon fill=\"none\" points=\"154,-223 154,-259 262,-259 262,-223 154,-223\" stroke=\"black\"/>\n",
       "<text font-family=\"Times,serif\" font-size=\"14.00\" text-anchor=\"middle\" x=\"208\" y=\"-237.3\">merge_6: Merge</text>\n",
       "</g>\n",
       "<!-- 139858948266128&#45;&gt;139858948371088 -->\n",
       "<g class=\"edge\" id=\"edge8\"><title>139858948266128-&gt;139858948371088</title>\n",
       "<path d=\"M148.485,-296.937C158.418,-287.768 170.833,-276.308 181.75,-266.231\" fill=\"none\" stroke=\"black\"/>\n",
       "<polygon fill=\"black\" points=\"184.403,-268.545 189.377,-259.19 179.655,-263.401 184.403,-268.545\" stroke=\"black\"/>\n",
       "</g>\n",
       "<!-- 139859879095568 -->\n",
       "<g class=\"node\" id=\"node9\"><title>139859879095568</title>\n",
       "<polygon fill=\"none\" points=\"203,-297 203,-333 371,-333 371,-297 203,-297\" stroke=\"black\"/>\n",
       "<text font-family=\"Times,serif\" font-size=\"14.00\" text-anchor=\"middle\" x=\"287\" y=\"-311.3\">dist2land_input: InputLayer</text>\n",
       "</g>\n",
       "<!-- 139859879095568&#45;&gt;139858948371088 -->\n",
       "<g class=\"edge\" id=\"edge9\"><title>139859879095568-&gt;139858948371088</title>\n",
       "<path d=\"M268.278,-296.937C258.12,-287.679 245.4,-276.086 234.265,-265.938\" fill=\"none\" stroke=\"black\"/>\n",
       "<polygon fill=\"black\" points=\"236.61,-263.339 226.861,-259.19 231.895,-268.513 236.61,-263.339\" stroke=\"black\"/>\n",
       "</g>\n",
       "<!-- 139858947976720 -->\n",
       "<g class=\"node\" id=\"node11\"><title>139858947976720</title>\n",
       "<polygon fill=\"none\" points=\"153.5,-149 153.5,-185 262.5,-185 262.5,-149 153.5,-149\" stroke=\"black\"/>\n",
       "<text font-family=\"Times,serif\" font-size=\"14.00\" text-anchor=\"middle\" x=\"208\" y=\"-163.3\">dense_12: Dense</text>\n",
       "</g>\n",
       "<!-- 139858948371088&#45;&gt;139858947976720 -->\n",
       "<g class=\"edge\" id=\"edge10\"><title>139858948371088-&gt;139858947976720</title>\n",
       "<path d=\"M208,-222.937C208,-214.807 208,-204.876 208,-195.705\" fill=\"none\" stroke=\"black\"/>\n",
       "<polygon fill=\"black\" points=\"211.5,-195.441 208,-185.441 204.5,-195.441 211.5,-195.441\" stroke=\"black\"/>\n",
       "</g>\n",
       "<!-- 139858947876880 -->\n",
       "<g class=\"node\" id=\"node12\"><title>139858947876880</title>\n",
       "<polygon fill=\"none\" points=\"153.5,-75 153.5,-111 262.5,-111 262.5,-75 153.5,-75\" stroke=\"black\"/>\n",
       "<text font-family=\"Times,serif\" font-size=\"14.00\" text-anchor=\"middle\" x=\"208\" y=\"-89.3\">dense_13: Dense</text>\n",
       "</g>\n",
       "<!-- 139858947976720&#45;&gt;139858947876880 -->\n",
       "<g class=\"edge\" id=\"edge11\"><title>139858947976720-&gt;139858947876880</title>\n",
       "<path d=\"M208,-148.937C208,-140.807 208,-130.876 208,-121.705\" fill=\"none\" stroke=\"black\"/>\n",
       "<polygon fill=\"black\" points=\"211.5,-121.441 208,-111.441 204.5,-121.441 211.5,-121.441\" stroke=\"black\"/>\n",
       "</g>\n",
       "<!-- 139858947919632 -->\n",
       "<g class=\"node\" id=\"node13\"><title>139858947919632</title>\n",
       "<polygon fill=\"none\" points=\"153.5,-1 153.5,-37 262.5,-37 262.5,-1 153.5,-1\" stroke=\"black\"/>\n",
       "<text font-family=\"Times,serif\" font-size=\"14.00\" text-anchor=\"middle\" x=\"208\" y=\"-15.3\">dense_14: Dense</text>\n",
       "</g>\n",
       "<!-- 139858947876880&#45;&gt;139858947919632 -->\n",
       "<g class=\"edge\" id=\"edge12\"><title>139858947876880-&gt;139858947919632</title>\n",
       "<path d=\"M208,-74.937C208,-66.8072 208,-56.8761 208,-47.7047\" fill=\"none\" stroke=\"black\"/>\n",
       "<polygon fill=\"black\" points=\"211.5,-47.4406 208,-37.4407 204.5,-47.4407 211.5,-47.4406\" stroke=\"black\"/>\n",
       "</g>\n",
       "</g>\n",
       "</svg>"
      ],
      "text/plain": [
       "<IPython.core.display.SVG object>"
      ]
     },
     "execution_count": 35,
     "metadata": {},
     "output_type": "execute_result"
    }
   ],
   "source": [
    "SVG(model_to_dot(model_dense).create(prog='dot', format='svg'))"
   ]
  },
  {
   "cell_type": "code",
   "execution_count": 37,
   "metadata": {},
   "outputs": [
    {
     "name": "stdout",
     "output_type": "stream",
     "text": [
      "Train on 1996 samples, validate on 499 samples\n",
      "Epoch 1/10\n",
      "1996/1996 [==============================] - 15s - loss: 0.5734 - acc: 0.8417 - val_loss: 0.2483 - val_acc: 0.9118\n",
      "Epoch 2/10\n",
      "1996/1996 [==============================] - 15s - loss: 0.2449 - acc: 0.9063 - val_loss: 0.3344 - val_acc: 0.8898\n",
      "Epoch 3/10\n",
      "1996/1996 [==============================] - 15s - loss: 0.1621 - acc: 0.9439 - val_loss: 0.2142 - val_acc: 0.9279\n",
      "Epoch 4/10\n",
      "1996/1996 [==============================] - 15s - loss: 0.1358 - acc: 0.9574 - val_loss: 0.2321 - val_acc: 0.9118\n",
      "Epoch 5/10\n",
      "1996/1996 [==============================] - 15s - loss: 0.0828 - acc: 0.9664 - val_loss: 0.1797 - val_acc: 0.9359\n",
      "Epoch 6/10\n",
      "1996/1996 [==============================] - 15s - loss: 0.0844 - acc: 0.9719 - val_loss: 0.2260 - val_acc: 0.9399\n",
      "Epoch 7/10\n",
      "1996/1996 [==============================] - 15s - loss: 0.0676 - acc: 0.9805 - val_loss: 0.2007 - val_acc: 0.9439\n",
      "Epoch 8/10\n",
      "1996/1996 [==============================] - 15s - loss: 0.0558 - acc: 0.9795 - val_loss: 0.1689 - val_acc: 0.9519\n",
      "Epoch 9/10\n",
      "1996/1996 [==============================] - 15s - loss: 0.0347 - acc: 0.9890 - val_loss: 0.2855 - val_acc: 0.9499\n",
      "Epoch 10/10\n",
      "1996/1996 [==============================] - 15s - loss: 0.0338 - acc: 0.9865 - val_loss: 0.3481 - val_acc: 0.9399\n"
     ]
    },
    {
     "data": {
      "text/plain": [
       "<keras.callbacks.History at 0x7f33aa6d1e10>"
      ]
     },
     "execution_count": 37,
     "metadata": {},
     "output_type": "execute_result"
    }
   ],
   "source": [
    "lr = 0.001\n",
    "K.set_value(model_dense.optimizer.lr, lr)\n",
    "model_dense.fit([np_train_crops, np_train_feature], np_train_class,\n",
    "          batch_size=32,\n",
    "          epochs=10,\n",
    "          validation_data=([np_valid_crops, np_valid_feature], np_valid_class))"
   ]
  },
  {
   "cell_type": "code",
   "execution_count": 38,
   "metadata": {},
   "outputs": [
    {
     "name": "stdout",
     "output_type": "stream",
     "text": [
      "Train on 1996 samples, validate on 499 samples\n",
      "Epoch 1/5\n",
      "1996/1996 [==============================] - 15s - loss: 0.0313 - acc: 0.9890 - val_loss: 0.3762 - val_acc: 0.9479\n",
      "Epoch 2/5\n",
      "1996/1996 [==============================] - 15s - loss: 0.0206 - acc: 0.9930 - val_loss: 0.3148 - val_acc: 0.9479\n",
      "Epoch 3/5\n",
      "1996/1996 [==============================] - 15s - loss: 0.0403 - acc: 0.9890 - val_loss: 0.4662 - val_acc: 0.9259\n",
      "Epoch 4/5\n",
      "1996/1996 [==============================] - 15s - loss: 0.0275 - acc: 0.9925 - val_loss: 0.2021 - val_acc: 0.9679\n",
      "Epoch 5/5\n",
      "1996/1996 [==============================] - 15s - loss: 0.0084 - acc: 0.9975 - val_loss: 0.5283 - val_acc: 0.9399\n"
     ]
    },
    {
     "data": {
      "text/plain": [
       "<keras.callbacks.History at 0x7f3372898d10>"
      ]
     },
     "execution_count": 38,
     "metadata": {},
     "output_type": "execute_result"
    }
   ],
   "source": [
    "lr = 0.001\n",
    "K.set_value(model_dense.optimizer.lr, lr)\n",
    "model_dense.fit([np_train_crops, np_train_feature], np_train_class,\n",
    "          batch_size=32,\n",
    "          epochs=5,\n",
    "          validation_data=([np_valid_crops, np_valid_feature], np_valid_class))"
   ]
  },
  {
   "cell_type": "code",
   "execution_count": 39,
   "metadata": {},
   "outputs": [
    {
     "name": "stdout",
     "output_type": "stream",
     "text": [
      "Train on 1996 samples, validate on 499 samples\n",
      "Epoch 1/5\n",
      "1996/1996 [==============================] - 15s - loss: 0.0249 - acc: 0.9910 - val_loss: 0.3462 - val_acc: 0.9559\n",
      "Epoch 2/5\n",
      "1996/1996 [==============================] - 15s - loss: 0.0013 - acc: 0.9995 - val_loss: 0.3615 - val_acc: 0.9579\n",
      "Epoch 3/5\n",
      "1996/1996 [==============================] - 15s - loss: 4.3635e-04 - acc: 1.0000 - val_loss: 0.3464 - val_acc: 0.9579\n",
      "Epoch 4/5\n",
      "1996/1996 [==============================] - 15s - loss: 1.8558e-04 - acc: 1.0000 - val_loss: 0.3648 - val_acc: 0.9539\n",
      "Epoch 5/5\n",
      "1996/1996 [==============================] - 15s - loss: 3.3708e-05 - acc: 1.0000 - val_loss: 0.3672 - val_acc: 0.9599\n"
     ]
    },
    {
     "data": {
      "text/plain": [
       "<keras.callbacks.History at 0x7f337225c4d0>"
      ]
     },
     "execution_count": 39,
     "metadata": {},
     "output_type": "execute_result"
    }
   ],
   "source": [
    "lr = 0.0001\n",
    "K.set_value(model_dense.optimizer.lr, lr)\n",
    "model_dense.fit([np_train_crops, np_train_feature], np_train_class,\n",
    "          batch_size=32,\n",
    "          epochs=5,\n",
    "          validation_data=([np_valid_crops, np_valid_feature], np_valid_class))"
   ]
  },
  {
   "cell_type": "code",
   "execution_count": 40,
   "metadata": {},
   "outputs": [
    {
     "name": "stdout",
     "output_type": "stream",
     "text": [
      "Train on 1996 samples, validate on 499 samples\n",
      "Epoch 1/2\n",
      "1996/1996 [==============================] - 15s - loss: 1.0542e-05 - acc: 1.0000 - val_loss: 0.3665 - val_acc: 0.9599\n",
      "Epoch 2/2\n",
      "1996/1996 [==============================] - 15s - loss: 1.1628e-05 - acc: 1.0000 - val_loss: 0.3693 - val_acc: 0.9599\n"
     ]
    },
    {
     "data": {
      "text/plain": [
       "<keras.callbacks.History at 0x7f33729ef9d0>"
      ]
     },
     "execution_count": 40,
     "metadata": {},
     "output_type": "execute_result"
    }
   ],
   "source": [
    "lr = 0.00001\n",
    "K.set_value(model_dense.optimizer.lr, lr)\n",
    "model_dense.fit([np_train_crops, np_train_feature], np_train_class,\n",
    "          batch_size=32,\n",
    "          epochs=2,\n",
    "          validation_data=([np_valid_crops, np_valid_feature], np_valid_class))"
   ]
  },
  {
   "cell_type": "markdown",
   "metadata": {
    "collapsed": true
   },
   "source": [
    "## baseline + batchnorm with distance feature + more dense input/later layers"
   ]
  },
  {
   "cell_type": "code",
   "execution_count": 41,
   "metadata": {},
   "outputs": [
    {
     "name": "stderr",
     "output_type": "stream",
     "text": [
      "/usr/local/lib/python2.7/dist-packages/ipykernel_launcher.py:12: UserWarning:\n",
      "\n",
      "The `merge` function is deprecated and will be removed after 08/2017. Use instead layers from `keras.layers.merge`, e.g. `add`, `concatenate`, etc.\n",
      "\n"
     ]
    }
   ],
   "source": [
    "x = Conv2D(32, (3, 3), activation='relu', padding='same')(classifier_input)\n",
    "x = MaxPooling2D()(x)\n",
    "x = Conv2D(64, (3, 3), activation='relu', padding='same')(x)\n",
    "x = BatchNormalization(axis=-1)(x)\n",
    "x = MaxPooling2D()(x)\n",
    "x = Conv2D(64, (3, 3), activation='relu', padding='same')(x)\n",
    "x = Flatten()(x)\n",
    "\n",
    "x2 = Dense(32, activation='relu')(dist2land_input)\n",
    "\n",
    "\n",
    "x = merge([x, x2], 'concat')\n",
    "x = Dense(64, activation='relu')(x)\n",
    "x = Dense(32, activation='relu')(x)\n",
    "out = Dense(num_classes, activation='softmax')(x)\n",
    "\n",
    "model_dense_on_input = Model(inputs=[classifier_input, dist2land_input], outputs=out)\n",
    "model_dense_on_input.compile(optimizer='rmsprop', loss='categorical_crossentropy', metrics=['accuracy'])"
   ]
  },
  {
   "cell_type": "code",
   "execution_count": 42,
   "metadata": {
    "scrolled": true
   },
   "outputs": [
    {
     "name": "stdout",
     "output_type": "stream",
     "text": [
      "____________________________________________________________________________________________________\n",
      "Layer (type)                     Output Shape          Param #     Connected to                     \n",
      "====================================================================================================\n",
      "input_2 (InputLayer)             (None, 50, 50, 1)     0                                            \n",
      "____________________________________________________________________________________________________\n",
      "conv2d_19 (Conv2D)               (None, 50, 50, 32)    320         input_2[0][0]                    \n",
      "____________________________________________________________________________________________________\n",
      "max_pooling2d_13 (MaxPooling2D)  (None, 25, 25, 32)    0           conv2d_19[0][0]                  \n",
      "____________________________________________________________________________________________________\n",
      "conv2d_20 (Conv2D)               (None, 25, 25, 64)    18496       max_pooling2d_13[0][0]           \n",
      "____________________________________________________________________________________________________\n",
      "batch_normalization_6 (BatchNorm (None, 25, 25, 64)    256         conv2d_20[0][0]                  \n",
      "____________________________________________________________________________________________________\n",
      "max_pooling2d_14 (MaxPooling2D)  (None, 12, 12, 64)    0           batch_normalization_6[0][0]      \n",
      "____________________________________________________________________________________________________\n",
      "conv2d_21 (Conv2D)               (None, 12, 12, 64)    36928       max_pooling2d_14[0][0]           \n",
      "____________________________________________________________________________________________________\n",
      "dist2land_input (InputLayer)     (None, 1)             0                                            \n",
      "____________________________________________________________________________________________________\n",
      "flatten_7 (Flatten)              (None, 9216)          0           conv2d_21[0][0]                  \n",
      "____________________________________________________________________________________________________\n",
      "dense_15 (Dense)                 (None, 32)            64          dist2land_input[0][0]            \n",
      "____________________________________________________________________________________________________\n",
      "merge_7 (Merge)                  (None, 9248)          0           flatten_7[0][0]                  \n",
      "                                                                   dense_15[0][0]                   \n",
      "____________________________________________________________________________________________________\n",
      "dense_16 (Dense)                 (None, 64)            591936      merge_7[0][0]                    \n",
      "____________________________________________________________________________________________________\n",
      "dense_17 (Dense)                 (None, 32)            2080        dense_16[0][0]                   \n",
      "____________________________________________________________________________________________________\n",
      "dense_18 (Dense)                 (None, 3)             99          dense_17[0][0]                   \n",
      "====================================================================================================\n",
      "Total params: 650,179\n",
      "Trainable params: 650,051\n",
      "Non-trainable params: 128\n",
      "____________________________________________________________________________________________________\n"
     ]
    }
   ],
   "source": [
    "model_dense_on_input.summary()"
   ]
  },
  {
   "cell_type": "code",
   "execution_count": 43,
   "metadata": {},
   "outputs": [
    {
     "data": {
      "image/svg+xml": [
       "<svg height=\"860pt\" viewBox=\"0.00 0.00 388.00 860.00\" width=\"388pt\" xmlns=\"http://www.w3.org/2000/svg\" xmlns:xlink=\"http://www.w3.org/1999/xlink\">\n",
       "<g class=\"graph\" id=\"graph0\" transform=\"scale(1 1) rotate(0) translate(4 856)\">\n",
       "<title>G</title>\n",
       "<polygon fill=\"white\" points=\"-4,4 -4,-856 384,-856 384,4 -4,4\" stroke=\"none\"/>\n",
       "<!-- 139859840104912 -->\n",
       "<g class=\"node\" id=\"node1\"><title>139859840104912</title>\n",
       "<polygon fill=\"none\" points=\"67.5,-815 67.5,-851 192.5,-851 192.5,-815 67.5,-815\" stroke=\"black\"/>\n",
       "<text font-family=\"Times,serif\" font-size=\"14.00\" text-anchor=\"middle\" x=\"130\" y=\"-829.3\">input_2: InputLayer</text>\n",
       "</g>\n",
       "<!-- 139858929962064 -->\n",
       "<g class=\"node\" id=\"node2\"><title>139858929962064</title>\n",
       "<polygon fill=\"none\" points=\"65,-741 65,-777 195,-777 195,-741 65,-741\" stroke=\"black\"/>\n",
       "<text font-family=\"Times,serif\" font-size=\"14.00\" text-anchor=\"middle\" x=\"130\" y=\"-755.3\">conv2d_19: Conv2D</text>\n",
       "</g>\n",
       "<!-- 139859840104912&#45;&gt;139858929962064 -->\n",
       "<g class=\"edge\" id=\"edge1\"><title>139859840104912-&gt;139858929962064</title>\n",
       "<path d=\"M130,-814.937C130,-806.807 130,-796.876 130,-787.705\" fill=\"none\" stroke=\"black\"/>\n",
       "<polygon fill=\"black\" points=\"133.5,-787.441 130,-777.441 126.5,-787.441 133.5,-787.441\" stroke=\"black\"/>\n",
       "</g>\n",
       "<!-- 139858935136720 -->\n",
       "<g class=\"node\" id=\"node3\"><title>139858935136720</title>\n",
       "<polygon fill=\"none\" points=\"23,-667 23,-703 237,-703 237,-667 23,-667\" stroke=\"black\"/>\n",
       "<text font-family=\"Times,serif\" font-size=\"14.00\" text-anchor=\"middle\" x=\"130\" y=\"-681.3\">max_pooling2d_13: MaxPooling2D</text>\n",
       "</g>\n",
       "<!-- 139858929962064&#45;&gt;139858935136720 -->\n",
       "<g class=\"edge\" id=\"edge2\"><title>139858929962064-&gt;139858935136720</title>\n",
       "<path d=\"M130,-740.937C130,-732.807 130,-722.876 130,-713.705\" fill=\"none\" stroke=\"black\"/>\n",
       "<polygon fill=\"black\" points=\"133.5,-713.441 130,-703.441 126.5,-713.441 133.5,-713.441\" stroke=\"black\"/>\n",
       "</g>\n",
       "<!-- 139858948287056 -->\n",
       "<g class=\"node\" id=\"node4\"><title>139858948287056</title>\n",
       "<polygon fill=\"none\" points=\"65,-593 65,-629 195,-629 195,-593 65,-593\" stroke=\"black\"/>\n",
       "<text font-family=\"Times,serif\" font-size=\"14.00\" text-anchor=\"middle\" x=\"130\" y=\"-607.3\">conv2d_20: Conv2D</text>\n",
       "</g>\n",
       "<!-- 139858935136720&#45;&gt;139858948287056 -->\n",
       "<g class=\"edge\" id=\"edge3\"><title>139858935136720-&gt;139858948287056</title>\n",
       "<path d=\"M130,-666.937C130,-658.807 130,-648.876 130,-639.705\" fill=\"none\" stroke=\"black\"/>\n",
       "<polygon fill=\"black\" points=\"133.5,-639.441 130,-629.441 126.5,-639.441 133.5,-639.441\" stroke=\"black\"/>\n",
       "</g>\n",
       "<!-- 139858929962384 -->\n",
       "<g class=\"node\" id=\"node5\"><title>139858929962384</title>\n",
       "<polygon fill=\"none\" points=\"0,-519 0,-555 260,-555 260,-519 0,-519\" stroke=\"black\"/>\n",
       "<text font-family=\"Times,serif\" font-size=\"14.00\" text-anchor=\"middle\" x=\"130\" y=\"-533.3\">batch_normalization_6: BatchNormalization</text>\n",
       "</g>\n",
       "<!-- 139858948287056&#45;&gt;139858929962384 -->\n",
       "<g class=\"edge\" id=\"edge4\"><title>139858948287056-&gt;139858929962384</title>\n",
       "<path d=\"M130,-592.937C130,-584.807 130,-574.876 130,-565.705\" fill=\"none\" stroke=\"black\"/>\n",
       "<polygon fill=\"black\" points=\"133.5,-565.441 130,-555.441 126.5,-565.441 133.5,-565.441\" stroke=\"black\"/>\n",
       "</g>\n",
       "<!-- 139858929113296 -->\n",
       "<g class=\"node\" id=\"node6\"><title>139858929113296</title>\n",
       "<polygon fill=\"none\" points=\"23,-445 23,-481 237,-481 237,-445 23,-445\" stroke=\"black\"/>\n",
       "<text font-family=\"Times,serif\" font-size=\"14.00\" text-anchor=\"middle\" x=\"130\" y=\"-459.3\">max_pooling2d_14: MaxPooling2D</text>\n",
       "</g>\n",
       "<!-- 139858929962384&#45;&gt;139858929113296 -->\n",
       "<g class=\"edge\" id=\"edge5\"><title>139858929962384-&gt;139858929113296</title>\n",
       "<path d=\"M130,-518.937C130,-510.807 130,-500.876 130,-491.705\" fill=\"none\" stroke=\"black\"/>\n",
       "<polygon fill=\"black\" points=\"133.5,-491.441 130,-481.441 126.5,-491.441 133.5,-491.441\" stroke=\"black\"/>\n",
       "</g>\n",
       "<!-- 139858935418768 -->\n",
       "<g class=\"node\" id=\"node7\"><title>139858935418768</title>\n",
       "<polygon fill=\"none\" points=\"65,-371 65,-407 195,-407 195,-371 65,-371\" stroke=\"black\"/>\n",
       "<text font-family=\"Times,serif\" font-size=\"14.00\" text-anchor=\"middle\" x=\"130\" y=\"-385.3\">conv2d_21: Conv2D</text>\n",
       "</g>\n",
       "<!-- 139858929113296&#45;&gt;139858935418768 -->\n",
       "<g class=\"edge\" id=\"edge6\"><title>139858929113296-&gt;139858935418768</title>\n",
       "<path d=\"M130,-444.937C130,-436.807 130,-426.876 130,-417.705\" fill=\"none\" stroke=\"black\"/>\n",
       "<polygon fill=\"black\" points=\"133.5,-417.441 130,-407.441 126.5,-417.441 133.5,-417.441\" stroke=\"black\"/>\n",
       "</g>\n",
       "<!-- 139858929491408 -->\n",
       "<g class=\"node\" id=\"node9\"><title>139858929491408</title>\n",
       "<polygon fill=\"none\" points=\"85,-297 85,-333 195,-333 195,-297 85,-297\" stroke=\"black\"/>\n",
       "<text font-family=\"Times,serif\" font-size=\"14.00\" text-anchor=\"middle\" x=\"140\" y=\"-311.3\">flatten_7: Flatten</text>\n",
       "</g>\n",
       "<!-- 139858935418768&#45;&gt;139858929491408 -->\n",
       "<g class=\"edge\" id=\"edge7\"><title>139858935418768-&gt;139858929491408</title>\n",
       "<path d=\"M132.37,-370.937C133.511,-362.719 134.908,-352.66 136.194,-343.406\" fill=\"none\" stroke=\"black\"/>\n",
       "<polygon fill=\"black\" points=\"139.669,-343.827 137.578,-333.441 132.735,-342.864 139.669,-343.827\" stroke=\"black\"/>\n",
       "</g>\n",
       "<!-- 139859879095568 -->\n",
       "<g class=\"node\" id=\"node8\"><title>139859879095568</title>\n",
       "<polygon fill=\"none\" points=\"213,-371 213,-407 381,-407 381,-371 213,-371\" stroke=\"black\"/>\n",
       "<text font-family=\"Times,serif\" font-size=\"14.00\" text-anchor=\"middle\" x=\"297\" y=\"-385.3\">dist2land_input: InputLayer</text>\n",
       "</g>\n",
       "<!-- 139858929684688 -->\n",
       "<g class=\"node\" id=\"node10\"><title>139858929684688</title>\n",
       "<polygon fill=\"none\" points=\"232.5,-297 232.5,-333 341.5,-333 341.5,-297 232.5,-297\" stroke=\"black\"/>\n",
       "<text font-family=\"Times,serif\" font-size=\"14.00\" text-anchor=\"middle\" x=\"287\" y=\"-311.3\">dense_15: Dense</text>\n",
       "</g>\n",
       "<!-- 139859879095568&#45;&gt;139858929684688 -->\n",
       "<g class=\"edge\" id=\"edge8\"><title>139859879095568-&gt;139858929684688</title>\n",
       "<path d=\"M294.63,-370.937C293.489,-362.719 292.092,-352.66 290.806,-343.406\" fill=\"none\" stroke=\"black\"/>\n",
       "<polygon fill=\"black\" points=\"294.265,-342.864 289.422,-333.441 287.331,-343.827 294.265,-342.864\" stroke=\"black\"/>\n",
       "</g>\n",
       "<!-- 139858929592720 -->\n",
       "<g class=\"node\" id=\"node11\"><title>139858929592720</title>\n",
       "<polygon fill=\"none\" points=\"159,-223 159,-259 267,-259 267,-223 159,-223\" stroke=\"black\"/>\n",
       "<text font-family=\"Times,serif\" font-size=\"14.00\" text-anchor=\"middle\" x=\"213\" y=\"-237.3\">merge_7: Merge</text>\n",
       "</g>\n",
       "<!-- 139858929491408&#45;&gt;139858929592720 -->\n",
       "<g class=\"edge\" id=\"edge9\"><title>139858929491408-&gt;139858929592720</title>\n",
       "<path d=\"M157.3,-296.937C166.596,-287.768 178.215,-276.308 188.432,-266.231\" fill=\"none\" stroke=\"black\"/>\n",
       "<polygon fill=\"black\" points=\"190.909,-268.704 195.571,-259.19 185.994,-263.72 190.909,-268.704\" stroke=\"black\"/>\n",
       "</g>\n",
       "<!-- 139858929684688&#45;&gt;139858929592720 -->\n",
       "<g class=\"edge\" id=\"edge10\"><title>139858929684688-&gt;139858929592720</title>\n",
       "<path d=\"M269.463,-296.937C260.04,-287.768 248.261,-276.308 237.904,-266.231\" fill=\"none\" stroke=\"black\"/>\n",
       "<polygon fill=\"black\" points=\"240.276,-263.655 230.668,-259.19 235.394,-268.672 240.276,-263.655\" stroke=\"black\"/>\n",
       "</g>\n",
       "<!-- 139858928879696 -->\n",
       "<g class=\"node\" id=\"node12\"><title>139858928879696</title>\n",
       "<polygon fill=\"none\" points=\"158.5,-149 158.5,-185 267.5,-185 267.5,-149 158.5,-149\" stroke=\"black\"/>\n",
       "<text font-family=\"Times,serif\" font-size=\"14.00\" text-anchor=\"middle\" x=\"213\" y=\"-163.3\">dense_16: Dense</text>\n",
       "</g>\n",
       "<!-- 139858929592720&#45;&gt;139858928879696 -->\n",
       "<g class=\"edge\" id=\"edge11\"><title>139858929592720-&gt;139858928879696</title>\n",
       "<path d=\"M213,-222.937C213,-214.807 213,-204.876 213,-195.705\" fill=\"none\" stroke=\"black\"/>\n",
       "<polygon fill=\"black\" points=\"216.5,-195.441 213,-185.441 209.5,-195.441 216.5,-195.441\" stroke=\"black\"/>\n",
       "</g>\n",
       "<!-- 139858928881168 -->\n",
       "<g class=\"node\" id=\"node13\"><title>139858928881168</title>\n",
       "<polygon fill=\"none\" points=\"158.5,-75 158.5,-111 267.5,-111 267.5,-75 158.5,-75\" stroke=\"black\"/>\n",
       "<text font-family=\"Times,serif\" font-size=\"14.00\" text-anchor=\"middle\" x=\"213\" y=\"-89.3\">dense_17: Dense</text>\n",
       "</g>\n",
       "<!-- 139858928879696&#45;&gt;139858928881168 -->\n",
       "<g class=\"edge\" id=\"edge12\"><title>139858928879696-&gt;139858928881168</title>\n",
       "<path d=\"M213,-148.937C213,-140.807 213,-130.876 213,-121.705\" fill=\"none\" stroke=\"black\"/>\n",
       "<polygon fill=\"black\" points=\"216.5,-121.441 213,-111.441 209.5,-121.441 216.5,-121.441\" stroke=\"black\"/>\n",
       "</g>\n",
       "<!-- 139858928965712 -->\n",
       "<g class=\"node\" id=\"node14\"><title>139858928965712</title>\n",
       "<polygon fill=\"none\" points=\"158.5,-1 158.5,-37 267.5,-37 267.5,-1 158.5,-1\" stroke=\"black\"/>\n",
       "<text font-family=\"Times,serif\" font-size=\"14.00\" text-anchor=\"middle\" x=\"213\" y=\"-15.3\">dense_18: Dense</text>\n",
       "</g>\n",
       "<!-- 139858928881168&#45;&gt;139858928965712 -->\n",
       "<g class=\"edge\" id=\"edge13\"><title>139858928881168-&gt;139858928965712</title>\n",
       "<path d=\"M213,-74.937C213,-66.8072 213,-56.8761 213,-47.7047\" fill=\"none\" stroke=\"black\"/>\n",
       "<polygon fill=\"black\" points=\"216.5,-47.4406 213,-37.4407 209.5,-47.4407 216.5,-47.4406\" stroke=\"black\"/>\n",
       "</g>\n",
       "</g>\n",
       "</svg>"
      ],
      "text/plain": [
       "<IPython.core.display.SVG object>"
      ]
     },
     "execution_count": 43,
     "metadata": {},
     "output_type": "execute_result"
    }
   ],
   "source": [
    "from IPython.display import SVG\n",
    "from keras.utils.vis_utils import model_to_dot\n",
    "\n",
    "SVG(model_to_dot(model_dense_on_input).create(prog='dot', format='svg'))"
   ]
  },
  {
   "cell_type": "code",
   "execution_count": 44,
   "metadata": {},
   "outputs": [
    {
     "name": "stdout",
     "output_type": "stream",
     "text": [
      "Train on 1996 samples, validate on 499 samples\n",
      "Epoch 1/10\n",
      "1996/1996 [==============================] - 15s - loss: 0.6430 - acc: 0.8041 - val_loss: 0.4881 - val_acc: 0.8297\n",
      "Epoch 2/10\n",
      "1996/1996 [==============================] - 15s - loss: 0.2681 - acc: 0.9048 - val_loss: 0.2903 - val_acc: 0.8998\n",
      "Epoch 3/10\n",
      "1996/1996 [==============================] - 15s - loss: 0.2032 - acc: 0.9238 - val_loss: 0.2720 - val_acc: 0.9038\n",
      "Epoch 4/10\n",
      "1996/1996 [==============================] - 15s - loss: 0.1420 - acc: 0.9514 - val_loss: 0.2009 - val_acc: 0.9359\n",
      "Epoch 5/10\n",
      "1996/1996 [==============================] - 15s - loss: 0.1272 - acc: 0.9594 - val_loss: 0.3066 - val_acc: 0.8898\n",
      "Epoch 6/10\n",
      "1996/1996 [==============================] - 15s - loss: 0.0842 - acc: 0.9709 - val_loss: 0.5793 - val_acc: 0.8858\n",
      "Epoch 7/10\n",
      "1996/1996 [==============================] - 15s - loss: 0.0827 - acc: 0.9724 - val_loss: 0.2436 - val_acc: 0.9359\n",
      "Epoch 8/10\n",
      "1996/1996 [==============================] - 15s - loss: 0.0682 - acc: 0.9760 - val_loss: 0.2947 - val_acc: 0.9419\n",
      "Epoch 9/10\n",
      "1996/1996 [==============================] - 15s - loss: 0.0484 - acc: 0.9815 - val_loss: 0.2792 - val_acc: 0.9479\n",
      "Epoch 10/10\n",
      "1996/1996 [==============================] - 15s - loss: 0.0526 - acc: 0.9860 - val_loss: 0.2699 - val_acc: 0.9459\n"
     ]
    },
    {
     "data": {
      "text/plain": [
       "<keras.callbacks.History at 0x7f336feec250>"
      ]
     },
     "execution_count": 44,
     "metadata": {},
     "output_type": "execute_result"
    }
   ],
   "source": [
    "lr = 0.001\n",
    "K.set_value(model_dense_on_input.optimizer.lr, lr)\n",
    "model_dense_on_input.fit([np_train_crops, np_train_feature], np_train_class,\n",
    "          batch_size=32,\n",
    "          epochs=10,\n",
    "          validation_data=([np_valid_crops, np_valid_feature], np_valid_class))"
   ]
  },
  {
   "cell_type": "code",
   "execution_count": 45,
   "metadata": {},
   "outputs": [
    {
     "name": "stdout",
     "output_type": "stream",
     "text": [
      "Train on 1996 samples, validate on 499 samples\n",
      "Epoch 1/5\n",
      "1996/1996 [==============================] - 15s - loss: 0.0084 - acc: 0.9975 - val_loss: 0.2409 - val_acc: 0.9499\n",
      "Epoch 2/5\n",
      "1996/1996 [==============================] - 15s - loss: 0.0036 - acc: 0.9995 - val_loss: 0.2785 - val_acc: 0.9479\n",
      "Epoch 3/5\n",
      "1996/1996 [==============================] - 15s - loss: 0.0011 - acc: 1.0000 - val_loss: 0.2728 - val_acc: 0.9539\n",
      "Epoch 4/5\n",
      "1996/1996 [==============================] - 15s - loss: 6.9285e-04 - acc: 1.0000 - val_loss: 0.2931 - val_acc: 0.9519\n",
      "Epoch 5/5\n",
      "1996/1996 [==============================] - 15s - loss: 2.5505e-04 - acc: 1.0000 - val_loss: 0.3083 - val_acc: 0.9499\n"
     ]
    },
    {
     "data": {
      "text/plain": [
       "<keras.callbacks.History at 0x7f336feecdd0>"
      ]
     },
     "execution_count": 45,
     "metadata": {},
     "output_type": "execute_result"
    }
   ],
   "source": [
    "lr = 0.0001\n",
    "K.set_value(model_dense_on_input.optimizer.lr, lr)\n",
    "model_dense_on_input.fit([np_train_crops, np_train_feature], np_train_class,\n",
    "          batch_size=32,\n",
    "          epochs=5,\n",
    "          validation_data=([np_valid_crops, np_valid_feature], np_valid_class))"
   ]
  },
  {
   "cell_type": "code",
   "execution_count": 46,
   "metadata": {},
   "outputs": [
    {
     "name": "stdout",
     "output_type": "stream",
     "text": [
      "Train on 1996 samples, validate on 499 samples\n",
      "Epoch 1/5\n",
      "1996/1996 [==============================] - 15s - loss: 1.6558e-04 - acc: 1.0000 - val_loss: 0.3238 - val_acc: 0.9539\n",
      "Epoch 2/5\n",
      "1996/1996 [==============================] - 15s - loss: 8.9031e-05 - acc: 1.0000 - val_loss: 0.3393 - val_acc: 0.9479\n",
      "Epoch 3/5\n",
      "1996/1996 [==============================] - 15s - loss: 7.8395e-05 - acc: 1.0000 - val_loss: 0.3758 - val_acc: 0.9539\n",
      "Epoch 4/5\n",
      "1996/1996 [==============================] - 15s - loss: 3.1067e-05 - acc: 1.0000 - val_loss: 0.3512 - val_acc: 0.9539\n",
      "Epoch 5/5\n",
      "1996/1996 [==============================] - 15s - loss: 1.0868e-05 - acc: 1.0000 - val_loss: 0.3563 - val_acc: 0.9519\n"
     ]
    },
    {
     "data": {
      "text/plain": [
       "<keras.callbacks.History at 0x7f336feec150>"
      ]
     },
     "execution_count": 46,
     "metadata": {},
     "output_type": "execute_result"
    }
   ],
   "source": [
    "lr = 0.0001\n",
    "K.set_value(model_dense_on_input.optimizer.lr, lr)\n",
    "model_dense_on_input.fit([np_train_crops, np_train_feature], np_train_class,\n",
    "          batch_size=32,\n",
    "          epochs=5,\n",
    "          validation_data=([np_valid_crops, np_valid_feature], np_valid_class))"
   ]
  },
  {
   "cell_type": "code",
   "execution_count": 47,
   "metadata": {},
   "outputs": [
    {
     "name": "stdout",
     "output_type": "stream",
     "text": [
      "Train on 1996 samples, validate on 499 samples\n",
      "Epoch 1/2\n",
      "1996/1996 [==============================] - 15s - loss: 1.5855e-05 - acc: 1.0000 - val_loss: 0.3591 - val_acc: 0.9559\n",
      "Epoch 2/2\n",
      "1996/1996 [==============================] - 15s - loss: 6.4067e-06 - acc: 1.0000 - val_loss: 0.3613 - val_acc: 0.9539\n"
     ]
    },
    {
     "data": {
      "text/plain": [
       "<keras.callbacks.History at 0x7f3372ef6f10>"
      ]
     },
     "execution_count": 47,
     "metadata": {},
     "output_type": "execute_result"
    }
   ],
   "source": [
    "lr = 0.00001\n",
    "K.set_value(model_dense_on_input.optimizer.lr, lr)\n",
    "model_dense_on_input.fit([np_train_crops, np_train_feature], np_train_class,\n",
    "          batch_size=32,\n",
    "          epochs=2,\n",
    "          validation_data=([np_valid_crops, np_valid_feature], np_valid_class))"
   ]
  },
  {
   "cell_type": "code",
   "execution_count": 48,
   "metadata": {},
   "outputs": [
    {
     "name": "stdout",
     "output_type": "stream",
     "text": [
      "Train on 1996 samples, validate on 499 samples\n",
      "Epoch 1/2\n",
      "1996/1996 [==============================] - 15s - loss: 1.8189e-05 - acc: 1.0000 - val_loss: 0.3734 - val_acc: 0.9559\n",
      "Epoch 2/2\n",
      "1996/1996 [==============================] - 15s - loss: 5.1773e-06 - acc: 1.0000 - val_loss: 0.3653 - val_acc: 0.9539\n"
     ]
    },
    {
     "data": {
      "text/plain": [
       "<keras.callbacks.History at 0x7f336feec390>"
      ]
     },
     "execution_count": 48,
     "metadata": {},
     "output_type": "execute_result"
    }
   ],
   "source": [
    "lr = 0.00001\n",
    "K.set_value(model_dense_on_input.optimizer.lr, lr)\n",
    "model_dense_on_input.fit([np_train_crops, np_train_feature], np_train_class,\n",
    "          batch_size=32,\n",
    "          epochs=2,\n",
    "          validation_data=([np_valid_crops, np_valid_feature], np_valid_class))"
   ]
  },
  {
   "cell_type": "code",
   "execution_count": 49,
   "metadata": {},
   "outputs": [
    {
     "name": "stdout",
     "output_type": "stream",
     "text": [
      "Train on 1996 samples, validate on 499 samples\n",
      "Epoch 1/2\n",
      "1996/1996 [==============================] - 15s - loss: 4.1303e-06 - acc: 1.0000 - val_loss: 0.3671 - val_acc: 0.9539\n",
      "Epoch 2/2\n",
      "1996/1996 [==============================] - 15s - loss: 5.2230e-06 - acc: 1.0000 - val_loss: 0.3692 - val_acc: 0.9559\n"
     ]
    },
    {
     "data": {
      "text/plain": [
       "<keras.callbacks.History at 0x7f336feec450>"
      ]
     },
     "execution_count": 49,
     "metadata": {},
     "output_type": "execute_result"
    }
   ],
   "source": [
    "lr = 0.000001\n",
    "K.set_value(model_dense_on_input.optimizer.lr, lr)\n",
    "model_dense_on_input.fit([np_train_crops, np_train_feature], np_train_class,\n",
    "          batch_size=32,\n",
    "          epochs=2,\n",
    "          validation_data=([np_valid_crops, np_valid_feature], np_valid_class))"
   ]
  },
  {
   "cell_type": "markdown",
   "metadata": {},
   "source": [
    "CHECK: More dense definiately helping - can we remove the distance feature?"
   ]
  },
  {
   "cell_type": "markdown",
   "metadata": {},
   "source": [
    "## baseline + batchnorm without distance feature + more dense later layers"
   ]
  },
  {
   "cell_type": "code",
   "execution_count": 50,
   "metadata": {
    "collapsed": true
   },
   "outputs": [],
   "source": [
    "x = Conv2D(32, (3, 3), activation='relu', padding='same')(classifier_input)\n",
    "x = MaxPooling2D()(x)\n",
    "x = Conv2D(64, (3, 3), activation='relu', padding='same')(x)\n",
    "x = BatchNormalization(axis=-1)(x)\n",
    "x = MaxPooling2D()(x)\n",
    "x = Conv2D(64, (3, 3), activation='relu', padding='same')(x)\n",
    "x = Flatten()(x)\n",
    "x = Dense(64, activation='relu')(x)\n",
    "x = Dense(32, activation='relu')(x)\n",
    "out = Dense(num_classes, activation='softmax')(x)\n",
    "\n",
    "model_dense_no_distance = Model(inputs=classifier_input, outputs=out)\n",
    "model_dense_no_distance.compile(optimizer='rmsprop', loss='categorical_crossentropy', metrics=['accuracy'])"
   ]
  },
  {
   "cell_type": "code",
   "execution_count": 51,
   "metadata": {
    "scrolled": true
   },
   "outputs": [
    {
     "name": "stdout",
     "output_type": "stream",
     "text": [
      "_________________________________________________________________\n",
      "Layer (type)                 Output Shape              Param #   \n",
      "=================================================================\n",
      "input_2 (InputLayer)         (None, 50, 50, 1)         0         \n",
      "_________________________________________________________________\n",
      "conv2d_22 (Conv2D)           (None, 50, 50, 32)        320       \n",
      "_________________________________________________________________\n",
      "max_pooling2d_15 (MaxPooling (None, 25, 25, 32)        0         \n",
      "_________________________________________________________________\n",
      "conv2d_23 (Conv2D)           (None, 25, 25, 64)        18496     \n",
      "_________________________________________________________________\n",
      "batch_normalization_7 (Batch (None, 25, 25, 64)        256       \n",
      "_________________________________________________________________\n",
      "max_pooling2d_16 (MaxPooling (None, 12, 12, 64)        0         \n",
      "_________________________________________________________________\n",
      "conv2d_24 (Conv2D)           (None, 12, 12, 64)        36928     \n",
      "_________________________________________________________________\n",
      "flatten_8 (Flatten)          (None, 9216)              0         \n",
      "_________________________________________________________________\n",
      "dense_19 (Dense)             (None, 64)                589888    \n",
      "_________________________________________________________________\n",
      "dense_20 (Dense)             (None, 32)                2080      \n",
      "_________________________________________________________________\n",
      "dense_21 (Dense)             (None, 3)                 99        \n",
      "=================================================================\n",
      "Total params: 648,067\n",
      "Trainable params: 647,939\n",
      "Non-trainable params: 128\n",
      "_________________________________________________________________\n"
     ]
    }
   ],
   "source": [
    "model_dense_no_distance.summary()"
   ]
  },
  {
   "cell_type": "code",
   "execution_count": 52,
   "metadata": {},
   "outputs": [
    {
     "data": {
      "image/svg+xml": [
       "<svg height=\"786pt\" viewBox=\"0.00 0.00 268.00 786.00\" width=\"268pt\" xmlns=\"http://www.w3.org/2000/svg\" xmlns:xlink=\"http://www.w3.org/1999/xlink\">\n",
       "<g class=\"graph\" id=\"graph0\" transform=\"scale(1 1) rotate(0) translate(4 782)\">\n",
       "<title>G</title>\n",
       "<polygon fill=\"white\" points=\"-4,4 -4,-782 264,-782 264,4 -4,4\" stroke=\"none\"/>\n",
       "<!-- 139859840104912 -->\n",
       "<g class=\"node\" id=\"node1\"><title>139859840104912</title>\n",
       "<polygon fill=\"none\" points=\"67.5,-741 67.5,-777 192.5,-777 192.5,-741 67.5,-741\" stroke=\"black\"/>\n",
       "<text font-family=\"Times,serif\" font-size=\"14.00\" text-anchor=\"middle\" x=\"130\" y=\"-755.3\">input_2: InputLayer</text>\n",
       "</g>\n",
       "<!-- 139858935335952 -->\n",
       "<g class=\"node\" id=\"node2\"><title>139858935335952</title>\n",
       "<polygon fill=\"none\" points=\"65,-667 65,-703 195,-703 195,-667 65,-667\" stroke=\"black\"/>\n",
       "<text font-family=\"Times,serif\" font-size=\"14.00\" text-anchor=\"middle\" x=\"130\" y=\"-681.3\">conv2d_22: Conv2D</text>\n",
       "</g>\n",
       "<!-- 139859840104912&#45;&gt;139858935335952 -->\n",
       "<g class=\"edge\" id=\"edge1\"><title>139859840104912-&gt;139858935335952</title>\n",
       "<path d=\"M130,-740.937C130,-732.807 130,-722.876 130,-713.705\" fill=\"none\" stroke=\"black\"/>\n",
       "<polygon fill=\"black\" points=\"133.5,-713.441 130,-703.441 126.5,-713.441 133.5,-713.441\" stroke=\"black\"/>\n",
       "</g>\n",
       "<!-- 139858935333072 -->\n",
       "<g class=\"node\" id=\"node3\"><title>139858935333072</title>\n",
       "<polygon fill=\"none\" points=\"23,-593 23,-629 237,-629 237,-593 23,-593\" stroke=\"black\"/>\n",
       "<text font-family=\"Times,serif\" font-size=\"14.00\" text-anchor=\"middle\" x=\"130\" y=\"-607.3\">max_pooling2d_15: MaxPooling2D</text>\n",
       "</g>\n",
       "<!-- 139858935335952&#45;&gt;139858935333072 -->\n",
       "<g class=\"edge\" id=\"edge2\"><title>139858935335952-&gt;139858935333072</title>\n",
       "<path d=\"M130,-666.937C130,-658.807 130,-648.876 130,-639.705\" fill=\"none\" stroke=\"black\"/>\n",
       "<polygon fill=\"black\" points=\"133.5,-639.441 130,-629.441 126.5,-639.441 133.5,-639.441\" stroke=\"black\"/>\n",
       "</g>\n",
       "<!-- 139858935363408 -->\n",
       "<g class=\"node\" id=\"node4\"><title>139858935363408</title>\n",
       "<polygon fill=\"none\" points=\"65,-519 65,-555 195,-555 195,-519 65,-519\" stroke=\"black\"/>\n",
       "<text font-family=\"Times,serif\" font-size=\"14.00\" text-anchor=\"middle\" x=\"130\" y=\"-533.3\">conv2d_23: Conv2D</text>\n",
       "</g>\n",
       "<!-- 139858935333072&#45;&gt;139858935363408 -->\n",
       "<g class=\"edge\" id=\"edge3\"><title>139858935333072-&gt;139858935363408</title>\n",
       "<path d=\"M130,-592.937C130,-584.807 130,-574.876 130,-565.705\" fill=\"none\" stroke=\"black\"/>\n",
       "<polygon fill=\"black\" points=\"133.5,-565.441 130,-555.441 126.5,-565.441 133.5,-565.441\" stroke=\"black\"/>\n",
       "</g>\n",
       "<!-- 139858935333136 -->\n",
       "<g class=\"node\" id=\"node5\"><title>139858935333136</title>\n",
       "<polygon fill=\"none\" points=\"0,-445 0,-481 260,-481 260,-445 0,-445\" stroke=\"black\"/>\n",
       "<text font-family=\"Times,serif\" font-size=\"14.00\" text-anchor=\"middle\" x=\"130\" y=\"-459.3\">batch_normalization_7: BatchNormalization</text>\n",
       "</g>\n",
       "<!-- 139858935363408&#45;&gt;139858935333136 -->\n",
       "<g class=\"edge\" id=\"edge4\"><title>139858935363408-&gt;139858935333136</title>\n",
       "<path d=\"M130,-518.937C130,-510.807 130,-500.876 130,-491.705\" fill=\"none\" stroke=\"black\"/>\n",
       "<polygon fill=\"black\" points=\"133.5,-491.441 130,-481.441 126.5,-491.441 133.5,-491.441\" stroke=\"black\"/>\n",
       "</g>\n",
       "<!-- 139858935770384 -->\n",
       "<g class=\"node\" id=\"node6\"><title>139858935770384</title>\n",
       "<polygon fill=\"none\" points=\"23,-371 23,-407 237,-407 237,-371 23,-371\" stroke=\"black\"/>\n",
       "<text font-family=\"Times,serif\" font-size=\"14.00\" text-anchor=\"middle\" x=\"130\" y=\"-385.3\">max_pooling2d_16: MaxPooling2D</text>\n",
       "</g>\n",
       "<!-- 139858935333136&#45;&gt;139858935770384 -->\n",
       "<g class=\"edge\" id=\"edge5\"><title>139858935333136-&gt;139858935770384</title>\n",
       "<path d=\"M130,-444.937C130,-436.807 130,-426.876 130,-417.705\" fill=\"none\" stroke=\"black\"/>\n",
       "<polygon fill=\"black\" points=\"133.5,-417.441 130,-407.441 126.5,-417.441 133.5,-417.441\" stroke=\"black\"/>\n",
       "</g>\n",
       "<!-- 139858935362256 -->\n",
       "<g class=\"node\" id=\"node7\"><title>139858935362256</title>\n",
       "<polygon fill=\"none\" points=\"65,-297 65,-333 195,-333 195,-297 65,-297\" stroke=\"black\"/>\n",
       "<text font-family=\"Times,serif\" font-size=\"14.00\" text-anchor=\"middle\" x=\"130\" y=\"-311.3\">conv2d_24: Conv2D</text>\n",
       "</g>\n",
       "<!-- 139858935770384&#45;&gt;139858935362256 -->\n",
       "<g class=\"edge\" id=\"edge6\"><title>139858935770384-&gt;139858935362256</title>\n",
       "<path d=\"M130,-370.937C130,-362.807 130,-352.876 130,-343.705\" fill=\"none\" stroke=\"black\"/>\n",
       "<polygon fill=\"black\" points=\"133.5,-343.441 130,-333.441 126.5,-343.441 133.5,-343.441\" stroke=\"black\"/>\n",
       "</g>\n",
       "<!-- 139858941499344 -->\n",
       "<g class=\"node\" id=\"node8\"><title>139858941499344</title>\n",
       "<polygon fill=\"none\" points=\"75,-223 75,-259 185,-259 185,-223 75,-223\" stroke=\"black\"/>\n",
       "<text font-family=\"Times,serif\" font-size=\"14.00\" text-anchor=\"middle\" x=\"130\" y=\"-237.3\">flatten_8: Flatten</text>\n",
       "</g>\n",
       "<!-- 139858935362256&#45;&gt;139858941499344 -->\n",
       "<g class=\"edge\" id=\"edge7\"><title>139858935362256-&gt;139858941499344</title>\n",
       "<path d=\"M130,-296.937C130,-288.807 130,-278.876 130,-269.705\" fill=\"none\" stroke=\"black\"/>\n",
       "<polygon fill=\"black\" points=\"133.5,-269.441 130,-259.441 126.5,-269.441 133.5,-269.441\" stroke=\"black\"/>\n",
       "</g>\n",
       "<!-- 139858941499856 -->\n",
       "<g class=\"node\" id=\"node9\"><title>139858941499856</title>\n",
       "<polygon fill=\"none\" points=\"75.5,-149 75.5,-185 184.5,-185 184.5,-149 75.5,-149\" stroke=\"black\"/>\n",
       "<text font-family=\"Times,serif\" font-size=\"14.00\" text-anchor=\"middle\" x=\"130\" y=\"-163.3\">dense_19: Dense</text>\n",
       "</g>\n",
       "<!-- 139858941499344&#45;&gt;139858941499856 -->\n",
       "<g class=\"edge\" id=\"edge8\"><title>139858941499344-&gt;139858941499856</title>\n",
       "<path d=\"M130,-222.937C130,-214.807 130,-204.876 130,-195.705\" fill=\"none\" stroke=\"black\"/>\n",
       "<polygon fill=\"black\" points=\"133.5,-195.441 130,-185.441 126.5,-195.441 133.5,-195.441\" stroke=\"black\"/>\n",
       "</g>\n",
       "<!-- 139858896021264 -->\n",
       "<g class=\"node\" id=\"node10\"><title>139858896021264</title>\n",
       "<polygon fill=\"none\" points=\"75.5,-75 75.5,-111 184.5,-111 184.5,-75 75.5,-75\" stroke=\"black\"/>\n",
       "<text font-family=\"Times,serif\" font-size=\"14.00\" text-anchor=\"middle\" x=\"130\" y=\"-89.3\">dense_20: Dense</text>\n",
       "</g>\n",
       "<!-- 139858941499856&#45;&gt;139858896021264 -->\n",
       "<g class=\"edge\" id=\"edge9\"><title>139858941499856-&gt;139858896021264</title>\n",
       "<path d=\"M130,-148.937C130,-140.807 130,-130.876 130,-121.705\" fill=\"none\" stroke=\"black\"/>\n",
       "<polygon fill=\"black\" points=\"133.5,-121.441 130,-111.441 126.5,-121.441 133.5,-121.441\" stroke=\"black\"/>\n",
       "</g>\n",
       "<!-- 139858886407760 -->\n",
       "<g class=\"node\" id=\"node11\"><title>139858886407760</title>\n",
       "<polygon fill=\"none\" points=\"75.5,-1 75.5,-37 184.5,-37 184.5,-1 75.5,-1\" stroke=\"black\"/>\n",
       "<text font-family=\"Times,serif\" font-size=\"14.00\" text-anchor=\"middle\" x=\"130\" y=\"-15.3\">dense_21: Dense</text>\n",
       "</g>\n",
       "<!-- 139858896021264&#45;&gt;139858886407760 -->\n",
       "<g class=\"edge\" id=\"edge10\"><title>139858896021264-&gt;139858886407760</title>\n",
       "<path d=\"M130,-74.937C130,-66.8072 130,-56.8761 130,-47.7047\" fill=\"none\" stroke=\"black\"/>\n",
       "<polygon fill=\"black\" points=\"133.5,-47.4406 130,-37.4407 126.5,-47.4407 133.5,-47.4406\" stroke=\"black\"/>\n",
       "</g>\n",
       "</g>\n",
       "</svg>"
      ],
      "text/plain": [
       "<IPython.core.display.SVG object>"
      ]
     },
     "execution_count": 52,
     "metadata": {},
     "output_type": "execute_result"
    }
   ],
   "source": [
    "from IPython.display import SVG\n",
    "from keras.utils.vis_utils import model_to_dot\n",
    "\n",
    "SVG(model_to_dot(model_dense_no_distance).create(prog='dot', format='svg'))"
   ]
  },
  {
   "cell_type": "code",
   "execution_count": 54,
   "metadata": {},
   "outputs": [
    {
     "name": "stdout",
     "output_type": "stream",
     "text": [
      "Train on 1996 samples, validate on 499 samples\n",
      "Epoch 1/10\n",
      "1996/1996 [==============================] - 15s - loss: 0.8273 - acc: 0.7851 - val_loss: 0.5648 - val_acc: 0.8317\n",
      "Epoch 2/10\n",
      "1996/1996 [==============================] - 15s - loss: 0.3042 - acc: 0.8903 - val_loss: 0.4243 - val_acc: 0.8617\n",
      "Epoch 3/10\n",
      "1996/1996 [==============================] - 15s - loss: 0.2027 - acc: 0.9233 - val_loss: 0.6443 - val_acc: 0.7114\n",
      "Epoch 4/10\n",
      "1996/1996 [==============================] - 15s - loss: 0.1551 - acc: 0.9444 - val_loss: 0.6469 - val_acc: 0.8557\n",
      "Epoch 5/10\n",
      "1996/1996 [==============================] - 15s - loss: 0.1220 - acc: 0.9584 - val_loss: 0.2457 - val_acc: 0.9218\n",
      "Epoch 6/10\n",
      "1996/1996 [==============================] - 15s - loss: 0.1066 - acc: 0.9614 - val_loss: 0.2631 - val_acc: 0.9399\n",
      "Epoch 7/10\n",
      "1996/1996 [==============================] - 15s - loss: 0.0957 - acc: 0.9739 - val_loss: 0.3901 - val_acc: 0.9158\n",
      "Epoch 8/10\n",
      "1996/1996 [==============================] - 15s - loss: 0.0810 - acc: 0.9719 - val_loss: 0.3363 - val_acc: 0.8938\n",
      "Epoch 9/10\n",
      "1996/1996 [==============================] - 15s - loss: 0.0444 - acc: 0.9830 - val_loss: 0.4690 - val_acc: 0.9198\n",
      "Epoch 10/10\n",
      "1996/1996 [==============================] - 15s - loss: 0.0344 - acc: 0.9900 - val_loss: 0.3110 - val_acc: 0.9439\n"
     ]
    },
    {
     "data": {
      "text/plain": [
       "<keras.callbacks.History at 0x7f336f28bf10>"
      ]
     },
     "execution_count": 54,
     "metadata": {},
     "output_type": "execute_result"
    }
   ],
   "source": [
    "lr = 0.001\n",
    "K.set_value(model_dense_no_distance.optimizer.lr, lr)\n",
    "model_dense_no_distance.fit(np_train_crops, np_train_class,\n",
    "          batch_size=32,\n",
    "          epochs=10,\n",
    "          validation_data=(np_valid_crops, np_valid_class))"
   ]
  },
  {
   "cell_type": "code",
   "execution_count": 56,
   "metadata": {},
   "outputs": [
    {
     "name": "stdout",
     "output_type": "stream",
     "text": [
      "Train on 1996 samples, validate on 499 samples\n",
      "Epoch 1/3\n",
      "1996/1996 [==============================] - 15s - loss: 0.0415 - acc: 0.9870 - val_loss: 0.3586 - val_acc: 0.9379\n",
      "Epoch 2/3\n",
      "1996/1996 [==============================] - 15s - loss: 0.0467 - acc: 0.9850 - val_loss: 0.2151 - val_acc: 0.9559\n",
      "Epoch 3/3\n",
      "1996/1996 [==============================] - 15s - loss: 0.0210 - acc: 0.9935 - val_loss: 0.3682 - val_acc: 0.9419\n"
     ]
    },
    {
     "data": {
      "text/plain": [
       "<keras.callbacks.History at 0x7f336f2aabd0>"
      ]
     },
     "execution_count": 56,
     "metadata": {},
     "output_type": "execute_result"
    }
   ],
   "source": [
    "lr = 0.001\n",
    "K.set_value(model_dense_no_distance.optimizer.lr, lr)\n",
    "model_dense_no_distance.fit(np_train_crops, np_train_class,\n",
    "          batch_size=32,\n",
    "          epochs=3,\n",
    "          validation_data=(np_valid_crops, np_valid_class))"
   ]
  },
  {
   "cell_type": "code",
   "execution_count": 57,
   "metadata": {},
   "outputs": [
    {
     "name": "stdout",
     "output_type": "stream",
     "text": [
      "Train on 1996 samples, validate on 499 samples\n",
      "Epoch 1/3\n",
      "1996/1996 [==============================] - 15s - loss: 0.0081 - acc: 0.9975 - val_loss: 0.3660 - val_acc: 0.9479\n",
      "Epoch 2/3\n",
      "1996/1996 [==============================] - 15s - loss: 0.0011 - acc: 1.0000 - val_loss: 0.3674 - val_acc: 0.9519\n",
      "Epoch 3/3\n",
      "1996/1996 [==============================] - 15s - loss: 2.6581e-04 - acc: 1.0000 - val_loss: 0.3836 - val_acc: 0.9539\n"
     ]
    },
    {
     "data": {
      "text/plain": [
       "<keras.callbacks.History at 0x7f336f2aa9d0>"
      ]
     },
     "execution_count": 57,
     "metadata": {},
     "output_type": "execute_result"
    }
   ],
   "source": [
    "lr = 0.0001\n",
    "K.set_value(model_dense_no_distance.optimizer.lr, lr)\n",
    "model_dense_no_distance.fit(np_train_crops, np_train_class,\n",
    "          batch_size=32,\n",
    "          epochs=3,\n",
    "          validation_data=(np_valid_crops, np_valid_class))"
   ]
  },
  {
   "cell_type": "code",
   "execution_count": 58,
   "metadata": {},
   "outputs": [
    {
     "name": "stdout",
     "output_type": "stream",
     "text": [
      "Train on 1996 samples, validate on 499 samples\n",
      "Epoch 1/3\n",
      "1996/1996 [==============================] - 15s - loss: 8.4196e-05 - acc: 1.0000 - val_loss: 0.4175 - val_acc: 0.9539\n",
      "Epoch 2/3\n",
      "1996/1996 [==============================] - 15s - loss: 6.3781e-05 - acc: 1.0000 - val_loss: 0.4107 - val_acc: 0.9559\n",
      "Epoch 3/3\n",
      "1996/1996 [==============================] - 15s - loss: 1.1616e-05 - acc: 1.0000 - val_loss: 0.4591 - val_acc: 0.9519\n"
     ]
    },
    {
     "data": {
      "text/plain": [
       "<keras.callbacks.History at 0x7f336f288d10>"
      ]
     },
     "execution_count": 58,
     "metadata": {},
     "output_type": "execute_result"
    }
   ],
   "source": [
    "lr = 0.0001\n",
    "K.set_value(model_dense_no_distance.optimizer.lr, lr)\n",
    "model_dense_no_distance.fit(np_train_crops, np_train_class,\n",
    "          batch_size=32,\n",
    "          epochs=3,\n",
    "          validation_data=(np_valid_crops, np_valid_class))"
   ]
  },
  {
   "cell_type": "code",
   "execution_count": 59,
   "metadata": {},
   "outputs": [
    {
     "name": "stdout",
     "output_type": "stream",
     "text": [
      "Train on 1996 samples, validate on 499 samples\n",
      "Epoch 1/2\n",
      "1996/1996 [==============================] - 15s - loss: 5.1444e-06 - acc: 1.0000 - val_loss: 0.4590 - val_acc: 0.9539\n",
      "Epoch 2/2\n",
      "1996/1996 [==============================] - 15s - loss: 3.0396e-06 - acc: 1.0000 - val_loss: 0.4589 - val_acc: 0.9539\n"
     ]
    },
    {
     "data": {
      "text/plain": [
       "<keras.callbacks.History at 0x7f336f2aaa90>"
      ]
     },
     "execution_count": 59,
     "metadata": {},
     "output_type": "execute_result"
    }
   ],
   "source": [
    "lr = 0.00001\n",
    "K.set_value(model_dense_no_distance.optimizer.lr, lr)\n",
    "model_dense_no_distance.fit(np_train_crops, np_train_class,\n",
    "          batch_size=32,\n",
    "          epochs=2,\n",
    "          validation_data=(np_valid_crops, np_valid_class))"
   ]
  }
 ],
 "metadata": {
  "kernelspec": {
   "display_name": "Python 2",
   "language": "python",
   "name": "python2"
  },
  "language_info": {
   "codemirror_mode": {
    "name": "ipython",
    "version": 2
   },
   "file_extension": ".py",
   "mimetype": "text/x-python",
   "name": "python",
   "nbconvert_exporter": "python",
   "pygments_lexer": "ipython2",
   "version": "2.7.6"
  }
 },
 "nbformat": 4,
 "nbformat_minor": 2
}
