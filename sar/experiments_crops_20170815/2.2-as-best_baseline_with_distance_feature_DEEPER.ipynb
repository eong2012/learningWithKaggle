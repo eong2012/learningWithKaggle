{
 "cells": [
  {
   "cell_type": "code",
   "execution_count": 1,
   "metadata": {},
   "outputs": [
    {
     "name": "stderr",
     "output_type": "stream",
     "text": [
      "Using TensorFlow backend.\n"
     ]
    },
    {
     "name": "stdout",
     "output_type": "stream",
     "text": [
      "2.0.5\n",
      "0.19.1\n",
      "2.0.0\n",
      "1.13.0\n"
     ]
    }
   ],
   "source": [
    "import matplotlib.pyplot as plt \n",
    "import scipy.misc\n",
    "\n",
    "import numpy as np\n",
    "from keras.layers import Dense, Dropout, Flatten, Input, Conv2D, Cropping2D\n",
    "from keras.layers import MaxPooling2D, ZeroPadding2D, BatchNormalization, Activation, Add, merge, concatenate\n",
    "from keras.models import Model\n",
    "from keras.utils.layer_utils import print_summary\n",
    "from keras.preprocessing.image import ImageDataGenerator\n",
    "from keras import backend as K\n",
    "\n",
    "from keras import __version__ as kv\n",
    "from scipy import __version__ as sv\n",
    "from matplotlib import __version__ as mv\n",
    "from numpy import __version__ as nv\n",
    "\n",
    "print kv\n",
    "print sv\n",
    "print mv\n",
    "print nv"
   ]
  },
  {
   "cell_type": "code",
   "execution_count": 2,
   "metadata": {},
   "outputs": [
    {
     "data": {
      "text/html": [
       "<script>requirejs.config({paths: { 'plotly': ['https://cdn.plot.ly/plotly-latest.min']},});if(!window.Plotly) {{require(['plotly'],function(plotly) {window.Plotly=plotly;});}}</script>"
      ],
      "text/vnd.plotly.v1+html": [
       "<script>requirejs.config({paths: { 'plotly': ['https://cdn.plot.ly/plotly-latest.min']},});if(!window.Plotly) {{require(['plotly'],function(plotly) {window.Plotly=plotly;});}}</script>"
      ]
     },
     "metadata": {},
     "output_type": "display_data"
    },
    {
     "data": {
      "text/html": [
       "<script>requirejs.config({paths: { 'plotly': ['https://cdn.plot.ly/plotly-latest.min']},});if(!window.Plotly) {{require(['plotly'],function(plotly) {window.Plotly=plotly;});}}</script>"
      ],
      "text/vnd.plotly.v1+html": [
       "<script>requirejs.config({paths: { 'plotly': ['https://cdn.plot.ly/plotly-latest.min']},});if(!window.Plotly) {{require(['plotly'],function(plotly) {window.Plotly=plotly;});}}</script>"
      ]
     },
     "metadata": {},
     "output_type": "display_data"
    },
    {
     "data": {
      "text/plain": [
       "<module 'utils' from 'utils.pyc'>"
      ]
     },
     "execution_count": 2,
     "metadata": {},
     "output_type": "execute_result"
    }
   ],
   "source": [
    "# Local files\n",
    "import utils\n",
    "reload(utils)"
   ]
  },
  {
   "cell_type": "markdown",
   "metadata": {},
   "source": [
    "# Data"
   ]
  },
  {
   "cell_type": "markdown",
   "metadata": {},
   "source": [
    "### Config"
   ]
  },
  {
   "cell_type": "code",
   "execution_count": 3,
   "metadata": {
    "collapsed": true
   },
   "outputs": [],
   "source": [
    "trained_model_dir = '/home/ubuntu/data/sar/experiment_crops_20170815/trained_models/2.2-mph_as-best_baseline_with_distance_feature/'"
   ]
  },
  {
   "cell_type": "code",
   "execution_count": 4,
   "metadata": {
    "collapsed": true
   },
   "outputs": [],
   "source": [
    "train_dir = '/home/ubuntu/data/sar/experiment_crops_20170815/train/50x50/'\n",
    "valid_dir = '/home/ubuntu/data/sar/experiment_crops_20170815/validate/50x50/'"
   ]
  },
  {
   "cell_type": "code",
   "execution_count": 5,
   "metadata": {
    "collapsed": true
   },
   "outputs": [],
   "source": [
    "input_shape = (50, 50, 1)\n",
    "num_classes = 3"
   ]
  },
  {
   "cell_type": "markdown",
   "metadata": {},
   "source": [
    "### Convert tif2png"
   ]
  },
  {
   "cell_type": "markdown",
   "metadata": {},
   "source": [
    "Done in 1.0-mph_as_kd-baseline-simple_CNN_from_scratch.ipynb"
   ]
  },
  {
   "cell_type": "markdown",
   "metadata": {},
   "source": [
    "### Add dist2land feature"
   ]
  },
  {
   "cell_type": "code",
   "execution_count": 6,
   "metadata": {
    "collapsed": true
   },
   "outputs": [],
   "source": [
    "train_crops, train_filename, train_feature, train_class, \\\n",
    "valid_crops, valid_filename, valid_feature, valid_class = utils.add_dist2land_experiment_crops_20170815()"
   ]
  },
  {
   "cell_type": "code",
   "execution_count": 7,
   "metadata": {},
   "outputs": [
    {
     "name": "stdout",
     "output_type": "stream",
     "text": [
      "training crops: 1996\n",
      "training features: 1996\n",
      "validation crops: 499\n",
      "validation features: 499\n",
      "<type 'list'> <type 'numpy.ndarray'> (50, 50)\n"
     ]
    }
   ],
   "source": [
    "print \"training crops:\", len(train_crops)\n",
    "print \"training features:\", len(train_feature)\n",
    "print \"validation crops:\", len(valid_filename)\n",
    "print \"validation features:\", len(valid_feature)\n",
    "print type(train_crops), type(train_crops[0]), train_crops[0].shape"
   ]
  },
  {
   "cell_type": "code",
   "execution_count": 8,
   "metadata": {
    "collapsed": true
   },
   "outputs": [],
   "source": [
    "# Reshape for keras format\n",
    "np_train_class = np.array(train_class)\n",
    "np_train_filename = np.array(train_filename)\n",
    "np_train_crops = np.array(train_crops)\n",
    "np_train_feature = np.array(train_feature)\n",
    "\n",
    "np_valid_class = np.array(valid_class)\n",
    "np_valid_filename = np.array(valid_filename)\n",
    "np_valid_crops = np.array(valid_crops)\n",
    "np_valid_feature = np.array(valid_feature)\n",
    "\n",
    "np_train_crops = np.expand_dims(np_train_crops, axis=3)\n",
    "np_train_feature = np.expand_dims(np_train_feature, axis=1)\n",
    "\n",
    "np_valid_crops = np.expand_dims(np_valid_crops, axis=3)\n",
    "np_valid_feature = np.expand_dims(np_valid_feature, axis=1)"
   ]
  },
  {
   "cell_type": "code",
   "execution_count": 9,
   "metadata": {},
   "outputs": [
    {
     "name": "stdout",
     "output_type": "stream",
     "text": [
      "(1996, 50, 50, 1)\n",
      "(1996, 1)\n",
      "(1996, 3)\n",
      "(499, 50, 50, 1)\n",
      "(499, 1)\n",
      "(499, 3)\n"
     ]
    }
   ],
   "source": [
    "print np_train_crops.shape\n",
    "print np_train_feature.shape\n",
    "print np_train_class.shape\n",
    "\n",
    "print np_valid_crops.shape\n",
    "print np_valid_feature.shape\n",
    "print np_valid_class.shape"
   ]
  },
  {
   "cell_type": "markdown",
   "metadata": {},
   "source": [
    "# Experiments"
   ]
  },
  {
   "cell_type": "markdown",
   "metadata": {},
   "source": [
    "## baseline + batchnorm with distance feature + more later dense layers + Deeper"
   ]
  },
  {
   "cell_type": "code",
   "execution_count": 11,
   "metadata": {},
   "outputs": [
    {
     "name": "stderr",
     "output_type": "stream",
     "text": [
      "/usr/local/lib/python2.7/dist-packages/ipykernel_launcher.py:15: UserWarning:\n",
      "\n",
      "The `merge` function is deprecated and will be removed after 08/2017. Use instead layers from `keras.layers.merge`, e.g. `add`, `concatenate`, etc.\n",
      "\n",
      "/usr/local/lib/python2.7/dist-packages/keras/legacy/layers.py:460: UserWarning:\n",
      "\n",
      "The `Merge` layer is deprecated and will be removed after 08/2017. Use instead layers from `keras.layers.merge`, e.g. `add`, `concatenate`, etc.\n",
      "\n"
     ]
    }
   ],
   "source": [
    "p=0\n",
    "\n",
    "classifier_input = Input(shape=input_shape)\n",
    "dist2land_input = Input(shape=(1,))\n",
    "\n",
    "x = Conv2D(32, (3, 3), activation='relu', padding='same')(classifier_input)\n",
    "x = MaxPooling2D()(x)\n",
    "x = Conv2D(64, (3, 3), activation='relu', padding='same')(x)\n",
    "x = BatchNormalization(axis=-1)(x)\n",
    "x = MaxPooling2D()(x)\n",
    "x = Conv2D(128, (3, 3), activation='relu', padding='same')(x)\n",
    "x = MaxPooling2D()(x)\n",
    "x = Conv2D(256, (3, 3), activation='relu', padding='same')(x)\n",
    "x = Flatten()(x)\n",
    "x = merge([x, dist2land_input], 'concat')\n",
    "x = Dense(128, activation='relu')(x)\n",
    "x = Dense(64, activation='relu')(x)\n",
    "x = Dropout(p)(x)\n",
    "x = Dense(32, activation='relu')(x)\n",
    "out = Dense(num_classes, activation='softmax')(x)\n",
    "\n",
    "model_dense_deeper = Model(inputs=[classifier_input, dist2land_input], outputs=out)\n",
    "model_dense_deeper.compile(optimizer='rmsprop', loss='categorical_crossentropy', metrics=['accuracy'])"
   ]
  },
  {
   "cell_type": "code",
   "execution_count": 12,
   "metadata": {},
   "outputs": [
    {
     "name": "stdout",
     "output_type": "stream",
     "text": [
      "____________________________________________________________________________________________________\n",
      "Layer (type)                     Output Shape          Param #     Connected to                     \n",
      "====================================================================================================\n",
      "input_1 (InputLayer)             (None, 50, 50, 1)     0                                            \n",
      "____________________________________________________________________________________________________\n",
      "conv2d_2 (Conv2D)                (None, 50, 50, 32)    320         input_1[0][0]                    \n",
      "____________________________________________________________________________________________________\n",
      "max_pooling2d_1 (MaxPooling2D)   (None, 25, 25, 32)    0           conv2d_2[0][0]                   \n",
      "____________________________________________________________________________________________________\n",
      "conv2d_3 (Conv2D)                (None, 25, 25, 64)    18496       max_pooling2d_1[0][0]            \n",
      "____________________________________________________________________________________________________\n",
      "batch_normalization_1 (BatchNorm (None, 25, 25, 64)    256         conv2d_3[0][0]                   \n",
      "____________________________________________________________________________________________________\n",
      "max_pooling2d_2 (MaxPooling2D)   (None, 12, 12, 64)    0           batch_normalization_1[0][0]      \n",
      "____________________________________________________________________________________________________\n",
      "conv2d_4 (Conv2D)                (None, 12, 12, 128)   73856       max_pooling2d_2[0][0]            \n",
      "____________________________________________________________________________________________________\n",
      "max_pooling2d_3 (MaxPooling2D)   (None, 6, 6, 128)     0           conv2d_4[0][0]                   \n",
      "____________________________________________________________________________________________________\n",
      "conv2d_5 (Conv2D)                (None, 6, 6, 256)     295168      max_pooling2d_3[0][0]            \n",
      "____________________________________________________________________________________________________\n",
      "flatten_1 (Flatten)              (None, 9216)          0           conv2d_5[0][0]                   \n",
      "____________________________________________________________________________________________________\n",
      "input_2 (InputLayer)             (None, 1)             0                                            \n",
      "____________________________________________________________________________________________________\n",
      "merge_1 (Merge)                  (None, 9217)          0           flatten_1[0][0]                  \n",
      "                                                                   input_2[0][0]                    \n",
      "____________________________________________________________________________________________________\n",
      "dense_1 (Dense)                  (None, 128)           1179904     merge_1[0][0]                    \n",
      "____________________________________________________________________________________________________\n",
      "dense_2 (Dense)                  (None, 64)            8256        dense_1[0][0]                    \n",
      "____________________________________________________________________________________________________\n",
      "dropout_1 (Dropout)              (None, 64)            0           dense_2[0][0]                    \n",
      "____________________________________________________________________________________________________\n",
      "dense_3 (Dense)                  (None, 32)            2080        dropout_1[0][0]                  \n",
      "____________________________________________________________________________________________________\n",
      "dense_4 (Dense)                  (None, 3)             99          dense_3[0][0]                    \n",
      "====================================================================================================\n",
      "Total params: 1,578,435\n",
      "Trainable params: 1,578,307\n",
      "Non-trainable params: 128\n",
      "____________________________________________________________________________________________________\n"
     ]
    }
   ],
   "source": [
    "model_dense_deeper.summary()"
   ]
  },
  {
   "cell_type": "code",
   "execution_count": 13,
   "metadata": {},
   "outputs": [
    {
     "data": {
      "image/svg+xml": [
       "<svg height=\"1156pt\" viewBox=\"0.00 0.00 336.00 1156.00\" width=\"336pt\" xmlns=\"http://www.w3.org/2000/svg\" xmlns:xlink=\"http://www.w3.org/1999/xlink\">\n",
       "<g class=\"graph\" id=\"graph0\" transform=\"scale(1 1) rotate(0) translate(4 1152)\">\n",
       "<title>G</title>\n",
       "<polygon fill=\"white\" points=\"-4,4 -4,-1152 332,-1152 332,4 -4,4\" stroke=\"none\"/>\n",
       "<!-- 139872063716176 -->\n",
       "<g class=\"node\" id=\"node1\"><title>139872063716176</title>\n",
       "<polygon fill=\"none\" points=\"67.5,-1111 67.5,-1147 192.5,-1147 192.5,-1111 67.5,-1111\" stroke=\"black\"/>\n",
       "<text font-family=\"Times,serif\" font-size=\"14.00\" text-anchor=\"middle\" x=\"130\" y=\"-1125.3\">input_1: InputLayer</text>\n",
       "</g>\n",
       "<!-- 139872064982416 -->\n",
       "<g class=\"node\" id=\"node2\"><title>139872064982416</title>\n",
       "<polygon fill=\"none\" points=\"68.5,-1037 68.5,-1073 191.5,-1073 191.5,-1037 68.5,-1037\" stroke=\"black\"/>\n",
       "<text font-family=\"Times,serif\" font-size=\"14.00\" text-anchor=\"middle\" x=\"130\" y=\"-1051.3\">conv2d_2: Conv2D</text>\n",
       "</g>\n",
       "<!-- 139872063716176&#45;&gt;139872064982416 -->\n",
       "<g class=\"edge\" id=\"edge1\"><title>139872063716176-&gt;139872064982416</title>\n",
       "<path d=\"M130,-1110.94C130,-1102.81 130,-1092.88 130,-1083.7\" fill=\"none\" stroke=\"black\"/>\n",
       "<polygon fill=\"black\" points=\"133.5,-1083.44 130,-1073.44 126.5,-1083.44 133.5,-1083.44\" stroke=\"black\"/>\n",
       "</g>\n",
       "<!-- 139872063716368 -->\n",
       "<g class=\"node\" id=\"node3\"><title>139872063716368</title>\n",
       "<polygon fill=\"none\" points=\"26.5,-963 26.5,-999 233.5,-999 233.5,-963 26.5,-963\" stroke=\"black\"/>\n",
       "<text font-family=\"Times,serif\" font-size=\"14.00\" text-anchor=\"middle\" x=\"130\" y=\"-977.3\">max_pooling2d_1: MaxPooling2D</text>\n",
       "</g>\n",
       "<!-- 139872064982416&#45;&gt;139872063716368 -->\n",
       "<g class=\"edge\" id=\"edge2\"><title>139872064982416-&gt;139872063716368</title>\n",
       "<path d=\"M130,-1036.94C130,-1028.81 130,-1018.88 130,-1009.7\" fill=\"none\" stroke=\"black\"/>\n",
       "<polygon fill=\"black\" points=\"133.5,-1009.44 130,-999.441 126.5,-1009.44 133.5,-1009.44\" stroke=\"black\"/>\n",
       "</g>\n",
       "<!-- 139872064246800 -->\n",
       "<g class=\"node\" id=\"node4\"><title>139872064246800</title>\n",
       "<polygon fill=\"none\" points=\"68.5,-889 68.5,-925 191.5,-925 191.5,-889 68.5,-889\" stroke=\"black\"/>\n",
       "<text font-family=\"Times,serif\" font-size=\"14.00\" text-anchor=\"middle\" x=\"130\" y=\"-903.3\">conv2d_3: Conv2D</text>\n",
       "</g>\n",
       "<!-- 139872063716368&#45;&gt;139872064246800 -->\n",
       "<g class=\"edge\" id=\"edge3\"><title>139872063716368-&gt;139872064246800</title>\n",
       "<path d=\"M130,-962.937C130,-954.807 130,-944.876 130,-935.705\" fill=\"none\" stroke=\"black\"/>\n",
       "<polygon fill=\"black\" points=\"133.5,-935.441 130,-925.441 126.5,-935.441 133.5,-935.441\" stroke=\"black\"/>\n",
       "</g>\n",
       "<!-- 139872063537872 -->\n",
       "<g class=\"node\" id=\"node5\"><title>139872063537872</title>\n",
       "<polygon fill=\"none\" points=\"0,-815 0,-851 260,-851 260,-815 0,-815\" stroke=\"black\"/>\n",
       "<text font-family=\"Times,serif\" font-size=\"14.00\" text-anchor=\"middle\" x=\"130\" y=\"-829.3\">batch_normalization_1: BatchNormalization</text>\n",
       "</g>\n",
       "<!-- 139872064246800&#45;&gt;139872063537872 -->\n",
       "<g class=\"edge\" id=\"edge4\"><title>139872064246800-&gt;139872063537872</title>\n",
       "<path d=\"M130,-888.937C130,-880.807 130,-870.876 130,-861.705\" fill=\"none\" stroke=\"black\"/>\n",
       "<polygon fill=\"black\" points=\"133.5,-861.441 130,-851.441 126.5,-861.441 133.5,-861.441\" stroke=\"black\"/>\n",
       "</g>\n",
       "<!-- 139872062692752 -->\n",
       "<g class=\"node\" id=\"node6\"><title>139872062692752</title>\n",
       "<polygon fill=\"none\" points=\"26.5,-741 26.5,-777 233.5,-777 233.5,-741 26.5,-741\" stroke=\"black\"/>\n",
       "<text font-family=\"Times,serif\" font-size=\"14.00\" text-anchor=\"middle\" x=\"130\" y=\"-755.3\">max_pooling2d_2: MaxPooling2D</text>\n",
       "</g>\n",
       "<!-- 139872063537872&#45;&gt;139872062692752 -->\n",
       "<g class=\"edge\" id=\"edge5\"><title>139872063537872-&gt;139872062692752</title>\n",
       "<path d=\"M130,-814.937C130,-806.807 130,-796.876 130,-787.705\" fill=\"none\" stroke=\"black\"/>\n",
       "<polygon fill=\"black\" points=\"133.5,-787.441 130,-777.441 126.5,-787.441 133.5,-787.441\" stroke=\"black\"/>\n",
       "</g>\n",
       "<!-- 139872062834448 -->\n",
       "<g class=\"node\" id=\"node7\"><title>139872062834448</title>\n",
       "<polygon fill=\"none\" points=\"68.5,-667 68.5,-703 191.5,-703 191.5,-667 68.5,-667\" stroke=\"black\"/>\n",
       "<text font-family=\"Times,serif\" font-size=\"14.00\" text-anchor=\"middle\" x=\"130\" y=\"-681.3\">conv2d_4: Conv2D</text>\n",
       "</g>\n",
       "<!-- 139872062692752&#45;&gt;139872062834448 -->\n",
       "<g class=\"edge\" id=\"edge6\"><title>139872062692752-&gt;139872062834448</title>\n",
       "<path d=\"M130,-740.937C130,-732.807 130,-722.876 130,-713.705\" fill=\"none\" stroke=\"black\"/>\n",
       "<polygon fill=\"black\" points=\"133.5,-713.441 130,-703.441 126.5,-713.441 133.5,-713.441\" stroke=\"black\"/>\n",
       "</g>\n",
       "<!-- 139872062680912 -->\n",
       "<g class=\"node\" id=\"node8\"><title>139872062680912</title>\n",
       "<polygon fill=\"none\" points=\"26.5,-593 26.5,-629 233.5,-629 233.5,-593 26.5,-593\" stroke=\"black\"/>\n",
       "<text font-family=\"Times,serif\" font-size=\"14.00\" text-anchor=\"middle\" x=\"130\" y=\"-607.3\">max_pooling2d_3: MaxPooling2D</text>\n",
       "</g>\n",
       "<!-- 139872062834448&#45;&gt;139872062680912 -->\n",
       "<g class=\"edge\" id=\"edge7\"><title>139872062834448-&gt;139872062680912</title>\n",
       "<path d=\"M130,-666.937C130,-658.807 130,-648.876 130,-639.705\" fill=\"none\" stroke=\"black\"/>\n",
       "<polygon fill=\"black\" points=\"133.5,-639.441 130,-629.441 126.5,-639.441 133.5,-639.441\" stroke=\"black\"/>\n",
       "</g>\n",
       "<!-- 139872062680080 -->\n",
       "<g class=\"node\" id=\"node9\"><title>139872062680080</title>\n",
       "<polygon fill=\"none\" points=\"68.5,-519 68.5,-555 191.5,-555 191.5,-519 68.5,-519\" stroke=\"black\"/>\n",
       "<text font-family=\"Times,serif\" font-size=\"14.00\" text-anchor=\"middle\" x=\"130\" y=\"-533.3\">conv2d_5: Conv2D</text>\n",
       "</g>\n",
       "<!-- 139872062680912&#45;&gt;139872062680080 -->\n",
       "<g class=\"edge\" id=\"edge8\"><title>139872062680912-&gt;139872062680080</title>\n",
       "<path d=\"M130,-592.937C130,-584.807 130,-574.876 130,-565.705\" fill=\"none\" stroke=\"black\"/>\n",
       "<polygon fill=\"black\" points=\"133.5,-565.441 130,-555.441 126.5,-565.441 133.5,-565.441\" stroke=\"black\"/>\n",
       "</g>\n",
       "<!-- 139872062288016 -->\n",
       "<g class=\"node\" id=\"node10\"><title>139872062288016</title>\n",
       "<polygon fill=\"none\" points=\"75,-445 75,-481 185,-481 185,-445 75,-445\" stroke=\"black\"/>\n",
       "<text font-family=\"Times,serif\" font-size=\"14.00\" text-anchor=\"middle\" x=\"130\" y=\"-459.3\">flatten_1: Flatten</text>\n",
       "</g>\n",
       "<!-- 139872062680080&#45;&gt;139872062288016 -->\n",
       "<g class=\"edge\" id=\"edge9\"><title>139872062680080-&gt;139872062288016</title>\n",
       "<path d=\"M130,-518.937C130,-510.807 130,-500.876 130,-491.705\" fill=\"none\" stroke=\"black\"/>\n",
       "<polygon fill=\"black\" points=\"133.5,-491.441 130,-481.441 126.5,-491.441 133.5,-491.441\" stroke=\"black\"/>\n",
       "</g>\n",
       "<!-- 139872062832912 -->\n",
       "<g class=\"node\" id=\"node12\"><title>139872062832912</title>\n",
       "<polygon fill=\"none\" points=\"144,-371 144,-407 252,-407 252,-371 144,-371\" stroke=\"black\"/>\n",
       "<text font-family=\"Times,serif\" font-size=\"14.00\" text-anchor=\"middle\" x=\"198\" y=\"-385.3\">merge_1: Merge</text>\n",
       "</g>\n",
       "<!-- 139872062288016&#45;&gt;139872062832912 -->\n",
       "<g class=\"edge\" id=\"edge10\"><title>139872062288016-&gt;139872062832912</title>\n",
       "<path d=\"M146.115,-444.937C154.628,-435.924 165.232,-424.696 174.63,-414.744\" fill=\"none\" stroke=\"black\"/>\n",
       "<polygon fill=\"black\" points=\"177.207,-417.114 181.528,-407.441 172.117,-412.308 177.207,-417.114\" stroke=\"black\"/>\n",
       "</g>\n",
       "<!-- 139872064246352 -->\n",
       "<g class=\"node\" id=\"node11\"><title>139872064246352</title>\n",
       "<polygon fill=\"none\" points=\"203.5,-445 203.5,-481 328.5,-481 328.5,-445 203.5,-445\" stroke=\"black\"/>\n",
       "<text font-family=\"Times,serif\" font-size=\"14.00\" text-anchor=\"middle\" x=\"266\" y=\"-459.3\">input_2: InputLayer</text>\n",
       "</g>\n",
       "<!-- 139872064246352&#45;&gt;139872062832912 -->\n",
       "<g class=\"edge\" id=\"edge11\"><title>139872064246352-&gt;139872062832912</title>\n",
       "<path d=\"M249.885,-444.937C241.372,-435.924 230.768,-424.696 221.37,-414.744\" fill=\"none\" stroke=\"black\"/>\n",
       "<polygon fill=\"black\" points=\"223.883,-412.308 214.472,-407.441 218.793,-417.114 223.883,-412.308\" stroke=\"black\"/>\n",
       "</g>\n",
       "<!-- 139872061563472 -->\n",
       "<g class=\"node\" id=\"node13\"><title>139872061563472</title>\n",
       "<polygon fill=\"none\" points=\"147,-297 147,-333 249,-333 249,-297 147,-297\" stroke=\"black\"/>\n",
       "<text font-family=\"Times,serif\" font-size=\"14.00\" text-anchor=\"middle\" x=\"198\" y=\"-311.3\">dense_1: Dense</text>\n",
       "</g>\n",
       "<!-- 139872062832912&#45;&gt;139872061563472 -->\n",
       "<g class=\"edge\" id=\"edge12\"><title>139872062832912-&gt;139872061563472</title>\n",
       "<path d=\"M198,-370.937C198,-362.807 198,-352.876 198,-343.705\" fill=\"none\" stroke=\"black\"/>\n",
       "<polygon fill=\"black\" points=\"201.5,-343.441 198,-333.441 194.5,-343.441 201.5,-343.441\" stroke=\"black\"/>\n",
       "</g>\n",
       "<!-- 139872061933328 -->\n",
       "<g class=\"node\" id=\"node14\"><title>139872061933328</title>\n",
       "<polygon fill=\"none\" points=\"147,-223 147,-259 249,-259 249,-223 147,-223\" stroke=\"black\"/>\n",
       "<text font-family=\"Times,serif\" font-size=\"14.00\" text-anchor=\"middle\" x=\"198\" y=\"-237.3\">dense_2: Dense</text>\n",
       "</g>\n",
       "<!-- 139872061563472&#45;&gt;139872061933328 -->\n",
       "<g class=\"edge\" id=\"edge13\"><title>139872061563472-&gt;139872061933328</title>\n",
       "<path d=\"M198,-296.937C198,-288.807 198,-278.876 198,-269.705\" fill=\"none\" stroke=\"black\"/>\n",
       "<polygon fill=\"black\" points=\"201.5,-269.441 198,-259.441 194.5,-269.441 201.5,-269.441\" stroke=\"black\"/>\n",
       "</g>\n",
       "<!-- 139872062000016 -->\n",
       "<g class=\"node\" id=\"node15\"><title>139872062000016</title>\n",
       "<polygon fill=\"none\" points=\"135.5,-149 135.5,-185 260.5,-185 260.5,-149 135.5,-149\" stroke=\"black\"/>\n",
       "<text font-family=\"Times,serif\" font-size=\"14.00\" text-anchor=\"middle\" x=\"198\" y=\"-163.3\">dropout_1: Dropout</text>\n",
       "</g>\n",
       "<!-- 139872061933328&#45;&gt;139872062000016 -->\n",
       "<g class=\"edge\" id=\"edge14\"><title>139872061933328-&gt;139872062000016</title>\n",
       "<path d=\"M198,-222.937C198,-214.807 198,-204.876 198,-195.705\" fill=\"none\" stroke=\"black\"/>\n",
       "<polygon fill=\"black\" points=\"201.5,-195.441 198,-185.441 194.5,-195.441 201.5,-195.441\" stroke=\"black\"/>\n",
       "</g>\n",
       "<!-- 139872061286480 -->\n",
       "<g class=\"node\" id=\"node16\"><title>139872061286480</title>\n",
       "<polygon fill=\"none\" points=\"147,-75 147,-111 249,-111 249,-75 147,-75\" stroke=\"black\"/>\n",
       "<text font-family=\"Times,serif\" font-size=\"14.00\" text-anchor=\"middle\" x=\"198\" y=\"-89.3\">dense_3: Dense</text>\n",
       "</g>\n",
       "<!-- 139872062000016&#45;&gt;139872061286480 -->\n",
       "<g class=\"edge\" id=\"edge15\"><title>139872062000016-&gt;139872061286480</title>\n",
       "<path d=\"M198,-148.937C198,-140.807 198,-130.876 198,-121.705\" fill=\"none\" stroke=\"black\"/>\n",
       "<polygon fill=\"black\" points=\"201.5,-121.441 198,-111.441 194.5,-121.441 201.5,-121.441\" stroke=\"black\"/>\n",
       "</g>\n",
       "<!-- 139872061287504 -->\n",
       "<g class=\"node\" id=\"node17\"><title>139872061287504</title>\n",
       "<polygon fill=\"none\" points=\"147,-1 147,-37 249,-37 249,-1 147,-1\" stroke=\"black\"/>\n",
       "<text font-family=\"Times,serif\" font-size=\"14.00\" text-anchor=\"middle\" x=\"198\" y=\"-15.3\">dense_4: Dense</text>\n",
       "</g>\n",
       "<!-- 139872061286480&#45;&gt;139872061287504 -->\n",
       "<g class=\"edge\" id=\"edge16\"><title>139872061286480-&gt;139872061287504</title>\n",
       "<path d=\"M198,-74.937C198,-66.8072 198,-56.8761 198,-47.7047\" fill=\"none\" stroke=\"black\"/>\n",
       "<polygon fill=\"black\" points=\"201.5,-47.4406 198,-37.4407 194.5,-47.4407 201.5,-47.4406\" stroke=\"black\"/>\n",
       "</g>\n",
       "</g>\n",
       "</svg>"
      ],
      "text/plain": [
       "<IPython.core.display.SVG object>"
      ]
     },
     "execution_count": 13,
     "metadata": {},
     "output_type": "execute_result"
    }
   ],
   "source": [
    "from IPython.display import SVG\n",
    "from keras.utils.vis_utils import model_to_dot\n",
    "\n",
    "SVG(model_to_dot(model_dense_deeper).create(prog='dot', format='svg'))"
   ]
  },
  {
   "cell_type": "code",
   "execution_count": 14,
   "metadata": {},
   "outputs": [
    {
     "name": "stdout",
     "output_type": "stream",
     "text": [
      "Train on 1996 samples, validate on 499 samples\n",
      "Epoch 1/10\n",
      "1996/1996 [==============================] - 28s - loss: 2.9277 - acc: 0.6528 - val_loss: 1.0653 - val_acc: 0.5752\n",
      "Epoch 2/10\n",
      "1996/1996 [==============================] - 28s - loss: 0.4568 - acc: 0.8357 - val_loss: 0.3583 - val_acc: 0.8677\n",
      "Epoch 3/10\n",
      "1996/1996 [==============================] - 28s - loss: 0.3347 - acc: 0.8813 - val_loss: 0.4380 - val_acc: 0.8257\n",
      "Epoch 4/10\n",
      "1996/1996 [==============================] - 28s - loss: 0.2865 - acc: 0.9053 - val_loss: 0.2117 - val_acc: 0.9339\n",
      "Epoch 5/10\n",
      "1996/1996 [==============================] - 29s - loss: 0.2524 - acc: 0.9168 - val_loss: 0.2348 - val_acc: 0.9259\n",
      "Epoch 6/10\n",
      "1996/1996 [==============================] - 29s - loss: 0.2119 - acc: 0.9319 - val_loss: 0.8356 - val_acc: 0.7615\n",
      "Epoch 7/10\n",
      "1996/1996 [==============================] - 29s - loss: 0.2915 - acc: 0.9233 - val_loss: 0.2281 - val_acc: 0.9118\n",
      "Epoch 8/10\n",
      "1996/1996 [==============================] - 29s - loss: 0.1995 - acc: 0.9384 - val_loss: 0.7852 - val_acc: 0.8257\n",
      "Epoch 9/10\n",
      "1996/1996 [==============================] - 29s - loss: 0.2354 - acc: 0.9304 - val_loss: 0.8888 - val_acc: 0.8397\n",
      "Epoch 10/10\n",
      "1996/1996 [==============================] - 28s - loss: 0.1666 - acc: 0.9454 - val_loss: 0.3287 - val_acc: 0.9238\n"
     ]
    },
    {
     "data": {
      "text/plain": [
       "<keras.callbacks.History at 0x7f3680abf390>"
      ]
     },
     "execution_count": 14,
     "metadata": {},
     "output_type": "execute_result"
    }
   ],
   "source": [
    "lr = 0.001\n",
    "K.set_value(model_dense_deeper.optimizer.lr, lr)\n",
    "model_dense_deeper.fit([np_train_crops, np_train_feature], np_train_class,\n",
    "          batch_size=32,\n",
    "          epochs=10,\n",
    "          validation_data=([np_valid_crops, np_valid_feature], np_valid_class))"
   ]
  },
  {
   "cell_type": "code",
   "execution_count": 15,
   "metadata": {},
   "outputs": [
    {
     "name": "stdout",
     "output_type": "stream",
     "text": [
      "Train on 1996 samples, validate on 499 samples\n",
      "Epoch 1/10\n",
      "1996/1996 [==============================] - 29s - loss: 0.0590 - acc: 0.9795 - val_loss: 0.2514 - val_acc: 0.9359\n",
      "Epoch 2/10\n",
      "1996/1996 [==============================] - 29s - loss: 0.0403 - acc: 0.9865 - val_loss: 0.2716 - val_acc: 0.9399\n",
      "Epoch 3/10\n",
      "1996/1996 [==============================] - 29s - loss: 0.0274 - acc: 0.9895 - val_loss: 0.2772 - val_acc: 0.9399\n",
      "Epoch 4/10\n",
      "1996/1996 [==============================] - 29s - loss: 0.0271 - acc: 0.9910 - val_loss: 0.2571 - val_acc: 0.9419\n",
      "Epoch 5/10\n",
      "1996/1996 [==============================] - 29s - loss: 0.0183 - acc: 0.9930 - val_loss: 0.2771 - val_acc: 0.9399\n",
      "Epoch 6/10\n",
      "1996/1996 [==============================] - 28s - loss: 0.0156 - acc: 0.9955 - val_loss: 0.2849 - val_acc: 0.9499\n",
      "Epoch 7/10\n",
      "1996/1996 [==============================] - 29s - loss: 0.0110 - acc: 0.9950 - val_loss: 0.3183 - val_acc: 0.9399\n",
      "Epoch 8/10\n",
      "1996/1996 [==============================] - 29s - loss: 0.0088 - acc: 0.9975 - val_loss: 0.3918 - val_acc: 0.9439\n",
      "Epoch 9/10\n",
      "1996/1996 [==============================] - 28s - loss: 0.0062 - acc: 0.9980 - val_loss: 0.4125 - val_acc: 0.9459\n",
      "Epoch 10/10\n",
      "1996/1996 [==============================] - 29s - loss: 0.0084 - acc: 0.9965 - val_loss: 0.3659 - val_acc: 0.9419\n"
     ]
    },
    {
     "data": {
      "text/plain": [
       "<keras.callbacks.History at 0x7f3680c68050>"
      ]
     },
     "execution_count": 15,
     "metadata": {},
     "output_type": "execute_result"
    }
   ],
   "source": [
    "lr = 0.0001\n",
    "K.set_value(model_dense_deeper.optimizer.lr, lr)\n",
    "model_dense_deeper.fit([np_train_crops, np_train_feature], np_train_class,\n",
    "          batch_size=32,\n",
    "          epochs=10,\n",
    "          validation_data=([np_valid_crops, np_valid_feature], np_valid_class))"
   ]
  },
  {
   "cell_type": "code",
   "execution_count": 16,
   "metadata": {},
   "outputs": [
    {
     "name": "stdout",
     "output_type": "stream",
     "text": [
      "Train on 1996 samples, validate on 499 samples\n",
      "Epoch 1/10\n",
      "1996/1996 [==============================] - 28s - loss: 0.0039 - acc: 0.9985 - val_loss: 0.3956 - val_acc: 0.9419\n",
      "Epoch 2/10\n",
      "1996/1996 [==============================] - 29s - loss: 0.0017 - acc: 1.0000 - val_loss: 0.4270 - val_acc: 0.9479\n",
      "Epoch 3/10\n",
      "1996/1996 [==============================] - 29s - loss: 0.0020 - acc: 1.0000 - val_loss: 0.4295 - val_acc: 0.9479\n",
      "Epoch 4/10\n",
      "1996/1996 [==============================] - 29s - loss: 0.0014 - acc: 1.0000 - val_loss: 0.4381 - val_acc: 0.9419\n",
      "Epoch 5/10\n",
      "1996/1996 [==============================] - 29s - loss: 0.0011 - acc: 1.0000 - val_loss: 0.4450 - val_acc: 0.9439\n",
      "Epoch 6/10\n",
      "1996/1996 [==============================] - 29s - loss: 0.0011 - acc: 1.0000 - val_loss: 0.4522 - val_acc: 0.9479\n",
      "Epoch 7/10\n",
      "1996/1996 [==============================] - 29s - loss: 9.4254e-04 - acc: 1.0000 - val_loss: 0.4672 - val_acc: 0.9479\n",
      "Epoch 8/10\n",
      "1996/1996 [==============================] - 28s - loss: 5.7808e-04 - acc: 1.0000 - val_loss: 0.4749 - val_acc: 0.9479\n",
      "Epoch 9/10\n",
      "1996/1996 [==============================] - 29s - loss: 0.0010 - acc: 1.0000 - val_loss: 0.4742 - val_acc: 0.9479\n",
      "Epoch 10/10\n",
      "1996/1996 [==============================] - 29s - loss: 0.0013 - acc: 0.9995 - val_loss: 0.4754 - val_acc: 0.9479\n"
     ]
    },
    {
     "data": {
      "text/plain": [
       "<keras.callbacks.History at 0x7f36807d8650>"
      ]
     },
     "execution_count": 16,
     "metadata": {},
     "output_type": "execute_result"
    }
   ],
   "source": [
    "lr = 0.00001\n",
    "K.set_value(model_dense_deeper.optimizer.lr, lr)\n",
    "model_dense_deeper.fit([np_train_crops, np_train_feature], np_train_class,\n",
    "          batch_size=32,\n",
    "          epochs=10,\n",
    "          validation_data=([np_valid_crops, np_valid_feature], np_valid_class))"
   ]
  },
  {
   "cell_type": "code",
   "execution_count": null,
   "metadata": {
    "collapsed": true
   },
   "outputs": [],
   "source": []
  },
  {
   "cell_type": "code",
   "execution_count": null,
   "metadata": {
    "collapsed": true
   },
   "outputs": [],
   "source": []
  },
  {
   "cell_type": "markdown",
   "metadata": {},
   "source": [
    "## baseline + batchnorm with distance feature + more later dense layers + Deeper (Conv+reg)"
   ]
  },
  {
   "cell_type": "code",
   "execution_count": 17,
   "metadata": {},
   "outputs": [
    {
     "name": "stderr",
     "output_type": "stream",
     "text": [
      "/usr/local/lib/python2.7/dist-packages/ipykernel_launcher.py:17: UserWarning:\n",
      "\n",
      "The `merge` function is deprecated and will be removed after 08/2017. Use instead layers from `keras.layers.merge`, e.g. `add`, `concatenate`, etc.\n",
      "\n"
     ]
    }
   ],
   "source": [
    "p=0.5\n",
    "\n",
    "classifier_input = Input(shape=input_shape)\n",
    "dist2land_input = Input(shape=(1,))\n",
    "\n",
    "x = Conv2D(32, (3, 3), activation='relu', padding='same')(classifier_input)\n",
    "x = MaxPooling2D()(x)\n",
    "x = Conv2D(64, (3, 3), activation='relu', padding='same')(x)\n",
    "x = BatchNormalization(axis=-1)(x)\n",
    "x = MaxPooling2D()(x)\n",
    "x = Conv2D(128, (3, 3), activation='relu', padding='same')(x)\n",
    "x = BatchNormalization(axis=-1)(x)\n",
    "x = Conv2D(256, (3, 3), activation='relu', padding='same')(x)\n",
    "x = BatchNormalization(axis=-1)(x)\n",
    "x = Conv2D(256, (3, 3), activation='relu', padding='same')(x)\n",
    "x = Flatten()(x)\n",
    "x = merge([x, dist2land_input], 'concat')\n",
    "x = Dense(128, activation='relu')(x)\n",
    "x = BatchNormalization(axis=-1)(x)\n",
    "x = Dense(64, activation='relu')(x)\n",
    "x = Dropout(p)(x)\n",
    "x = Dense(32, activation='relu')(x)\n",
    "out = Dense(num_classes, activation='softmax')(x)\n",
    "\n",
    "model_dense_deeper_conv_reg = Model(inputs=[classifier_input, dist2land_input], outputs=out)\n",
    "model_dense_deeper_conv_reg.compile(optimizer='rmsprop', loss='categorical_crossentropy', metrics=['accuracy'])"
   ]
  },
  {
   "cell_type": "code",
   "execution_count": 18,
   "metadata": {},
   "outputs": [
    {
     "name": "stdout",
     "output_type": "stream",
     "text": [
      "____________________________________________________________________________________________________\n",
      "Layer (type)                     Output Shape          Param #     Connected to                     \n",
      "====================================================================================================\n",
      "input_3 (InputLayer)             (None, 50, 50, 1)     0                                            \n",
      "____________________________________________________________________________________________________\n",
      "conv2d_6 (Conv2D)                (None, 50, 50, 32)    320         input_3[0][0]                    \n",
      "____________________________________________________________________________________________________\n",
      "max_pooling2d_4 (MaxPooling2D)   (None, 25, 25, 32)    0           conv2d_6[0][0]                   \n",
      "____________________________________________________________________________________________________\n",
      "conv2d_7 (Conv2D)                (None, 25, 25, 64)    18496       max_pooling2d_4[0][0]            \n",
      "____________________________________________________________________________________________________\n",
      "batch_normalization_2 (BatchNorm (None, 25, 25, 64)    256         conv2d_7[0][0]                   \n",
      "____________________________________________________________________________________________________\n",
      "max_pooling2d_5 (MaxPooling2D)   (None, 12, 12, 64)    0           batch_normalization_2[0][0]      \n",
      "____________________________________________________________________________________________________\n",
      "conv2d_8 (Conv2D)                (None, 12, 12, 128)   73856       max_pooling2d_5[0][0]            \n",
      "____________________________________________________________________________________________________\n",
      "batch_normalization_3 (BatchNorm (None, 12, 12, 128)   512         conv2d_8[0][0]                   \n",
      "____________________________________________________________________________________________________\n",
      "conv2d_9 (Conv2D)                (None, 12, 12, 256)   295168      batch_normalization_3[0][0]      \n",
      "____________________________________________________________________________________________________\n",
      "batch_normalization_4 (BatchNorm (None, 12, 12, 256)   1024        conv2d_9[0][0]                   \n",
      "____________________________________________________________________________________________________\n",
      "conv2d_10 (Conv2D)               (None, 12, 12, 256)   590080      batch_normalization_4[0][0]      \n",
      "____________________________________________________________________________________________________\n",
      "flatten_2 (Flatten)              (None, 36864)         0           conv2d_10[0][0]                  \n",
      "____________________________________________________________________________________________________\n",
      "input_4 (InputLayer)             (None, 1)             0                                            \n",
      "____________________________________________________________________________________________________\n",
      "merge_2 (Merge)                  (None, 36865)         0           flatten_2[0][0]                  \n",
      "                                                                   input_4[0][0]                    \n",
      "____________________________________________________________________________________________________\n",
      "dense_5 (Dense)                  (None, 128)           4718848     merge_2[0][0]                    \n",
      "____________________________________________________________________________________________________\n",
      "batch_normalization_5 (BatchNorm (None, 128)           512         dense_5[0][0]                    \n",
      "____________________________________________________________________________________________________\n",
      "dense_6 (Dense)                  (None, 64)            8256        batch_normalization_5[0][0]      \n",
      "____________________________________________________________________________________________________\n",
      "dropout_2 (Dropout)              (None, 64)            0           dense_6[0][0]                    \n",
      "____________________________________________________________________________________________________\n",
      "dense_7 (Dense)                  (None, 32)            2080        dropout_2[0][0]                  \n",
      "____________________________________________________________________________________________________\n",
      "dense_8 (Dense)                  (None, 3)             99          dense_7[0][0]                    \n",
      "====================================================================================================\n",
      "Total params: 5,709,507\n",
      "Trainable params: 5,708,355\n",
      "Non-trainable params: 1,152\n",
      "____________________________________________________________________________________________________\n"
     ]
    }
   ],
   "source": [
    "model_dense_deeper_conv_reg.summary()"
   ]
  },
  {
   "cell_type": "code",
   "execution_count": 19,
   "metadata": {},
   "outputs": [
    {
     "data": {
      "image/svg+xml": [
       "<svg height=\"1378pt\" viewBox=\"0.00 0.00 336.00 1378.00\" width=\"336pt\" xmlns=\"http://www.w3.org/2000/svg\" xmlns:xlink=\"http://www.w3.org/1999/xlink\">\n",
       "<g class=\"graph\" id=\"graph0\" transform=\"scale(1 1) rotate(0) translate(4 1374)\">\n",
       "<title>G</title>\n",
       "<polygon fill=\"white\" points=\"-4,4 -4,-1374 332,-1374 332,4 -4,4\" stroke=\"none\"/>\n",
       "<!-- 139871987417360 -->\n",
       "<g class=\"node\" id=\"node1\"><title>139871987417360</title>\n",
       "<polygon fill=\"none\" points=\"67.5,-1333 67.5,-1369 192.5,-1369 192.5,-1333 67.5,-1333\" stroke=\"black\"/>\n",
       "<text font-family=\"Times,serif\" font-size=\"14.00\" text-anchor=\"middle\" x=\"130\" y=\"-1347.3\">input_3: InputLayer</text>\n",
       "</g>\n",
       "<!-- 139872063715088 -->\n",
       "<g class=\"node\" id=\"node2\"><title>139872063715088</title>\n",
       "<polygon fill=\"none\" points=\"68.5,-1259 68.5,-1295 191.5,-1295 191.5,-1259 68.5,-1259\" stroke=\"black\"/>\n",
       "<text font-family=\"Times,serif\" font-size=\"14.00\" text-anchor=\"middle\" x=\"130\" y=\"-1273.3\">conv2d_6: Conv2D</text>\n",
       "</g>\n",
       "<!-- 139871987417360&#45;&gt;139872063715088 -->\n",
       "<g class=\"edge\" id=\"edge1\"><title>139871987417360-&gt;139872063715088</title>\n",
       "<path d=\"M130,-1332.94C130,-1324.81 130,-1314.88 130,-1305.7\" fill=\"none\" stroke=\"black\"/>\n",
       "<polygon fill=\"black\" points=\"133.5,-1305.44 130,-1295.44 126.5,-1305.44 133.5,-1305.44\" stroke=\"black\"/>\n",
       "</g>\n",
       "<!-- 139872063714512 -->\n",
       "<g class=\"node\" id=\"node3\"><title>139872063714512</title>\n",
       "<polygon fill=\"none\" points=\"26.5,-1185 26.5,-1221 233.5,-1221 233.5,-1185 26.5,-1185\" stroke=\"black\"/>\n",
       "<text font-family=\"Times,serif\" font-size=\"14.00\" text-anchor=\"middle\" x=\"130\" y=\"-1199.3\">max_pooling2d_4: MaxPooling2D</text>\n",
       "</g>\n",
       "<!-- 139872063715088&#45;&gt;139872063714512 -->\n",
       "<g class=\"edge\" id=\"edge2\"><title>139872063715088-&gt;139872063714512</title>\n",
       "<path d=\"M130,-1258.94C130,-1250.81 130,-1240.88 130,-1231.7\" fill=\"none\" stroke=\"black\"/>\n",
       "<polygon fill=\"black\" points=\"133.5,-1231.44 130,-1221.44 126.5,-1231.44 133.5,-1231.44\" stroke=\"black\"/>\n",
       "</g>\n",
       "<!-- 139872063714448 -->\n",
       "<g class=\"node\" id=\"node4\"><title>139872063714448</title>\n",
       "<polygon fill=\"none\" points=\"68.5,-1111 68.5,-1147 191.5,-1147 191.5,-1111 68.5,-1111\" stroke=\"black\"/>\n",
       "<text font-family=\"Times,serif\" font-size=\"14.00\" text-anchor=\"middle\" x=\"130\" y=\"-1125.3\">conv2d_7: Conv2D</text>\n",
       "</g>\n",
       "<!-- 139872063714512&#45;&gt;139872063714448 -->\n",
       "<g class=\"edge\" id=\"edge3\"><title>139872063714512-&gt;139872063714448</title>\n",
       "<path d=\"M130,-1184.94C130,-1176.81 130,-1166.88 130,-1157.7\" fill=\"none\" stroke=\"black\"/>\n",
       "<polygon fill=\"black\" points=\"133.5,-1157.44 130,-1147.44 126.5,-1157.44 133.5,-1157.44\" stroke=\"black\"/>\n",
       "</g>\n",
       "<!-- 139871987417488 -->\n",
       "<g class=\"node\" id=\"node5\"><title>139871987417488</title>\n",
       "<polygon fill=\"none\" points=\"0,-1037 0,-1073 260,-1073 260,-1037 0,-1037\" stroke=\"black\"/>\n",
       "<text font-family=\"Times,serif\" font-size=\"14.00\" text-anchor=\"middle\" x=\"130\" y=\"-1051.3\">batch_normalization_2: BatchNormalization</text>\n",
       "</g>\n",
       "<!-- 139872063714448&#45;&gt;139871987417488 -->\n",
       "<g class=\"edge\" id=\"edge4\"><title>139872063714448-&gt;139871987417488</title>\n",
       "<path d=\"M130,-1110.94C130,-1102.81 130,-1092.88 130,-1083.7\" fill=\"none\" stroke=\"black\"/>\n",
       "<polygon fill=\"black\" points=\"133.5,-1083.44 130,-1073.44 126.5,-1083.44 133.5,-1083.44\" stroke=\"black\"/>\n",
       "</g>\n",
       "<!-- 139871986958032 -->\n",
       "<g class=\"node\" id=\"node6\"><title>139871986958032</title>\n",
       "<polygon fill=\"none\" points=\"26.5,-963 26.5,-999 233.5,-999 233.5,-963 26.5,-963\" stroke=\"black\"/>\n",
       "<text font-family=\"Times,serif\" font-size=\"14.00\" text-anchor=\"middle\" x=\"130\" y=\"-977.3\">max_pooling2d_5: MaxPooling2D</text>\n",
       "</g>\n",
       "<!-- 139871987417488&#45;&gt;139871986958032 -->\n",
       "<g class=\"edge\" id=\"edge5\"><title>139871987417488-&gt;139871986958032</title>\n",
       "<path d=\"M130,-1036.94C130,-1028.81 130,-1018.88 130,-1009.7\" fill=\"none\" stroke=\"black\"/>\n",
       "<polygon fill=\"black\" points=\"133.5,-1009.44 130,-999.441 126.5,-1009.44 133.5,-1009.44\" stroke=\"black\"/>\n",
       "</g>\n",
       "<!-- 139871987020688 -->\n",
       "<g class=\"node\" id=\"node7\"><title>139871987020688</title>\n",
       "<polygon fill=\"none\" points=\"68.5,-889 68.5,-925 191.5,-925 191.5,-889 68.5,-889\" stroke=\"black\"/>\n",
       "<text font-family=\"Times,serif\" font-size=\"14.00\" text-anchor=\"middle\" x=\"130\" y=\"-903.3\">conv2d_8: Conv2D</text>\n",
       "</g>\n",
       "<!-- 139871986958032&#45;&gt;139871987020688 -->\n",
       "<g class=\"edge\" id=\"edge6\"><title>139871986958032-&gt;139871987020688</title>\n",
       "<path d=\"M130,-962.937C130,-954.807 130,-944.876 130,-935.705\" fill=\"none\" stroke=\"black\"/>\n",
       "<polygon fill=\"black\" points=\"133.5,-935.441 130,-925.441 126.5,-935.441 133.5,-935.441\" stroke=\"black\"/>\n",
       "</g>\n",
       "<!-- 139871987164048 -->\n",
       "<g class=\"node\" id=\"node8\"><title>139871987164048</title>\n",
       "<polygon fill=\"none\" points=\"0,-815 0,-851 260,-851 260,-815 0,-815\" stroke=\"black\"/>\n",
       "<text font-family=\"Times,serif\" font-size=\"14.00\" text-anchor=\"middle\" x=\"130\" y=\"-829.3\">batch_normalization_3: BatchNormalization</text>\n",
       "</g>\n",
       "<!-- 139871987020688&#45;&gt;139871987164048 -->\n",
       "<g class=\"edge\" id=\"edge7\"><title>139871987020688-&gt;139871987164048</title>\n",
       "<path d=\"M130,-888.937C130,-880.807 130,-870.876 130,-861.705\" fill=\"none\" stroke=\"black\"/>\n",
       "<polygon fill=\"black\" points=\"133.5,-861.441 130,-851.441 126.5,-861.441 133.5,-861.441\" stroke=\"black\"/>\n",
       "</g>\n",
       "<!-- 139871986876112 -->\n",
       "<g class=\"node\" id=\"node9\"><title>139871986876112</title>\n",
       "<polygon fill=\"none\" points=\"68.5,-741 68.5,-777 191.5,-777 191.5,-741 68.5,-741\" stroke=\"black\"/>\n",
       "<text font-family=\"Times,serif\" font-size=\"14.00\" text-anchor=\"middle\" x=\"130\" y=\"-755.3\">conv2d_9: Conv2D</text>\n",
       "</g>\n",
       "<!-- 139871987164048&#45;&gt;139871986876112 -->\n",
       "<g class=\"edge\" id=\"edge8\"><title>139871987164048-&gt;139871986876112</title>\n",
       "<path d=\"M130,-814.937C130,-806.807 130,-796.876 130,-787.705\" fill=\"none\" stroke=\"black\"/>\n",
       "<polygon fill=\"black\" points=\"133.5,-787.441 130,-777.441 126.5,-787.441 133.5,-787.441\" stroke=\"black\"/>\n",
       "</g>\n",
       "<!-- 139871986615568 -->\n",
       "<g class=\"node\" id=\"node10\"><title>139871986615568</title>\n",
       "<polygon fill=\"none\" points=\"0,-667 0,-703 260,-703 260,-667 0,-667\" stroke=\"black\"/>\n",
       "<text font-family=\"Times,serif\" font-size=\"14.00\" text-anchor=\"middle\" x=\"130\" y=\"-681.3\">batch_normalization_4: BatchNormalization</text>\n",
       "</g>\n",
       "<!-- 139871986876112&#45;&gt;139871986615568 -->\n",
       "<g class=\"edge\" id=\"edge9\"><title>139871986876112-&gt;139871986615568</title>\n",
       "<path d=\"M130,-740.937C130,-732.807 130,-722.876 130,-713.705\" fill=\"none\" stroke=\"black\"/>\n",
       "<polygon fill=\"black\" points=\"133.5,-713.441 130,-703.441 126.5,-713.441 133.5,-713.441\" stroke=\"black\"/>\n",
       "</g>\n",
       "<!-- 139871986228496 -->\n",
       "<g class=\"node\" id=\"node11\"><title>139871986228496</title>\n",
       "<polygon fill=\"none\" points=\"65,-593 65,-629 195,-629 195,-593 65,-593\" stroke=\"black\"/>\n",
       "<text font-family=\"Times,serif\" font-size=\"14.00\" text-anchor=\"middle\" x=\"130\" y=\"-607.3\">conv2d_10: Conv2D</text>\n",
       "</g>\n",
       "<!-- 139871986615568&#45;&gt;139871986228496 -->\n",
       "<g class=\"edge\" id=\"edge10\"><title>139871986615568-&gt;139871986228496</title>\n",
       "<path d=\"M130,-666.937C130,-658.807 130,-648.876 130,-639.705\" fill=\"none\" stroke=\"black\"/>\n",
       "<polygon fill=\"black\" points=\"133.5,-639.441 130,-629.441 126.5,-639.441 133.5,-639.441\" stroke=\"black\"/>\n",
       "</g>\n",
       "<!-- 139871985696080 -->\n",
       "<g class=\"node\" id=\"node12\"><title>139871985696080</title>\n",
       "<polygon fill=\"none\" points=\"75,-519 75,-555 185,-555 185,-519 75,-519\" stroke=\"black\"/>\n",
       "<text font-family=\"Times,serif\" font-size=\"14.00\" text-anchor=\"middle\" x=\"130\" y=\"-533.3\">flatten_2: Flatten</text>\n",
       "</g>\n",
       "<!-- 139871986228496&#45;&gt;139871985696080 -->\n",
       "<g class=\"edge\" id=\"edge11\"><title>139871986228496-&gt;139871985696080</title>\n",
       "<path d=\"M130,-592.937C130,-584.807 130,-574.876 130,-565.705\" fill=\"none\" stroke=\"black\"/>\n",
       "<polygon fill=\"black\" points=\"133.5,-565.441 130,-555.441 126.5,-565.441 133.5,-565.441\" stroke=\"black\"/>\n",
       "</g>\n",
       "<!-- 139871987021136 -->\n",
       "<g class=\"node\" id=\"node14\"><title>139871987021136</title>\n",
       "<polygon fill=\"none\" points=\"144,-445 144,-481 252,-481 252,-445 144,-445\" stroke=\"black\"/>\n",
       "<text font-family=\"Times,serif\" font-size=\"14.00\" text-anchor=\"middle\" x=\"198\" y=\"-459.3\">merge_2: Merge</text>\n",
       "</g>\n",
       "<!-- 139871985696080&#45;&gt;139871987021136 -->\n",
       "<g class=\"edge\" id=\"edge12\"><title>139871985696080-&gt;139871987021136</title>\n",
       "<path d=\"M146.115,-518.937C154.628,-509.924 165.232,-498.696 174.63,-488.744\" fill=\"none\" stroke=\"black\"/>\n",
       "<polygon fill=\"black\" points=\"177.207,-491.114 181.528,-481.441 172.117,-486.308 177.207,-491.114\" stroke=\"black\"/>\n",
       "</g>\n",
       "<!-- 139872063714384 -->\n",
       "<g class=\"node\" id=\"node13\"><title>139872063714384</title>\n",
       "<polygon fill=\"none\" points=\"203.5,-519 203.5,-555 328.5,-555 328.5,-519 203.5,-519\" stroke=\"black\"/>\n",
       "<text font-family=\"Times,serif\" font-size=\"14.00\" text-anchor=\"middle\" x=\"266\" y=\"-533.3\">input_4: InputLayer</text>\n",
       "</g>\n",
       "<!-- 139872063714384&#45;&gt;139871987021136 -->\n",
       "<g class=\"edge\" id=\"edge13\"><title>139872063714384-&gt;139871987021136</title>\n",
       "<path d=\"M249.885,-518.937C241.372,-509.924 230.768,-498.696 221.37,-488.744\" fill=\"none\" stroke=\"black\"/>\n",
       "<polygon fill=\"black\" points=\"223.883,-486.308 214.472,-481.441 218.793,-491.114 223.883,-486.308\" stroke=\"black\"/>\n",
       "</g>\n",
       "<!-- 139871450424400 -->\n",
       "<g class=\"node\" id=\"node15\"><title>139871450424400</title>\n",
       "<polygon fill=\"none\" points=\"147,-371 147,-407 249,-407 249,-371 147,-371\" stroke=\"black\"/>\n",
       "<text font-family=\"Times,serif\" font-size=\"14.00\" text-anchor=\"middle\" x=\"198\" y=\"-385.3\">dense_5: Dense</text>\n",
       "</g>\n",
       "<!-- 139871987021136&#45;&gt;139871450424400 -->\n",
       "<g class=\"edge\" id=\"edge14\"><title>139871987021136-&gt;139871450424400</title>\n",
       "<path d=\"M198,-444.937C198,-436.807 198,-426.876 198,-417.705\" fill=\"none\" stroke=\"black\"/>\n",
       "<polygon fill=\"black\" points=\"201.5,-417.441 198,-407.441 194.5,-417.441 201.5,-417.441\" stroke=\"black\"/>\n",
       "</g>\n",
       "<!-- 139871987163280 -->\n",
       "<g class=\"node\" id=\"node16\"><title>139871987163280</title>\n",
       "<polygon fill=\"none\" points=\"68,-297 68,-333 328,-333 328,-297 68,-297\" stroke=\"black\"/>\n",
       "<text font-family=\"Times,serif\" font-size=\"14.00\" text-anchor=\"middle\" x=\"198\" y=\"-311.3\">batch_normalization_5: BatchNormalization</text>\n",
       "</g>\n",
       "<!-- 139871450424400&#45;&gt;139871987163280 -->\n",
       "<g class=\"edge\" id=\"edge15\"><title>139871450424400-&gt;139871987163280</title>\n",
       "<path d=\"M198,-370.937C198,-362.807 198,-352.876 198,-343.705\" fill=\"none\" stroke=\"black\"/>\n",
       "<polygon fill=\"black\" points=\"201.5,-343.441 198,-333.441 194.5,-343.441 201.5,-343.441\" stroke=\"black\"/>\n",
       "</g>\n",
       "<!-- 139871450059472 -->\n",
       "<g class=\"node\" id=\"node17\"><title>139871450059472</title>\n",
       "<polygon fill=\"none\" points=\"147,-223 147,-259 249,-259 249,-223 147,-223\" stroke=\"black\"/>\n",
       "<text font-family=\"Times,serif\" font-size=\"14.00\" text-anchor=\"middle\" x=\"198\" y=\"-237.3\">dense_6: Dense</text>\n",
       "</g>\n",
       "<!-- 139871987163280&#45;&gt;139871450059472 -->\n",
       "<g class=\"edge\" id=\"edge16\"><title>139871987163280-&gt;139871450059472</title>\n",
       "<path d=\"M198,-296.937C198,-288.807 198,-278.876 198,-269.705\" fill=\"none\" stroke=\"black\"/>\n",
       "<polygon fill=\"black\" points=\"201.5,-269.441 198,-259.441 194.5,-269.441 201.5,-269.441\" stroke=\"black\"/>\n",
       "</g>\n",
       "<!-- 139871450060752 -->\n",
       "<g class=\"node\" id=\"node18\"><title>139871450060752</title>\n",
       "<polygon fill=\"none\" points=\"135.5,-149 135.5,-185 260.5,-185 260.5,-149 135.5,-149\" stroke=\"black\"/>\n",
       "<text font-family=\"Times,serif\" font-size=\"14.00\" text-anchor=\"middle\" x=\"198\" y=\"-163.3\">dropout_2: Dropout</text>\n",
       "</g>\n",
       "<!-- 139871450059472&#45;&gt;139871450060752 -->\n",
       "<g class=\"edge\" id=\"edge17\"><title>139871450059472-&gt;139871450060752</title>\n",
       "<path d=\"M198,-222.937C198,-214.807 198,-204.876 198,-195.705\" fill=\"none\" stroke=\"black\"/>\n",
       "<polygon fill=\"black\" points=\"201.5,-195.441 198,-185.441 194.5,-195.441 201.5,-195.441\" stroke=\"black\"/>\n",
       "</g>\n",
       "<!-- 139871449793040 -->\n",
       "<g class=\"node\" id=\"node19\"><title>139871449793040</title>\n",
       "<polygon fill=\"none\" points=\"147,-75 147,-111 249,-111 249,-75 147,-75\" stroke=\"black\"/>\n",
       "<text font-family=\"Times,serif\" font-size=\"14.00\" text-anchor=\"middle\" x=\"198\" y=\"-89.3\">dense_7: Dense</text>\n",
       "</g>\n",
       "<!-- 139871450060752&#45;&gt;139871449793040 -->\n",
       "<g class=\"edge\" id=\"edge18\"><title>139871450060752-&gt;139871449793040</title>\n",
       "<path d=\"M198,-148.937C198,-140.807 198,-130.876 198,-121.705\" fill=\"none\" stroke=\"black\"/>\n",
       "<polygon fill=\"black\" points=\"201.5,-121.441 198,-111.441 194.5,-121.441 201.5,-121.441\" stroke=\"black\"/>\n",
       "</g>\n",
       "<!-- 139871449985808 -->\n",
       "<g class=\"node\" id=\"node20\"><title>139871449985808</title>\n",
       "<polygon fill=\"none\" points=\"147,-1 147,-37 249,-37 249,-1 147,-1\" stroke=\"black\"/>\n",
       "<text font-family=\"Times,serif\" font-size=\"14.00\" text-anchor=\"middle\" x=\"198\" y=\"-15.3\">dense_8: Dense</text>\n",
       "</g>\n",
       "<!-- 139871449793040&#45;&gt;139871449985808 -->\n",
       "<g class=\"edge\" id=\"edge19\"><title>139871449793040-&gt;139871449985808</title>\n",
       "<path d=\"M198,-74.937C198,-66.8072 198,-56.8761 198,-47.7047\" fill=\"none\" stroke=\"black\"/>\n",
       "<polygon fill=\"black\" points=\"201.5,-47.4406 198,-37.4407 194.5,-47.4407 201.5,-47.4406\" stroke=\"black\"/>\n",
       "</g>\n",
       "</g>\n",
       "</svg>"
      ],
      "text/plain": [
       "<IPython.core.display.SVG object>"
      ]
     },
     "execution_count": 19,
     "metadata": {},
     "output_type": "execute_result"
    }
   ],
   "source": [
    "from IPython.display import SVG\n",
    "from keras.utils.vis_utils import model_to_dot\n",
    "\n",
    "SVG(model_to_dot(model_dense_deeper_conv_reg).create(prog='dot', format='svg'))"
   ]
  },
  {
   "cell_type": "code",
   "execution_count": 20,
   "metadata": {},
   "outputs": [
    {
     "name": "stdout",
     "output_type": "stream",
     "text": [
      "Train on 1996 samples, validate on 499 samples\n",
      "Epoch 1/10\n",
      "1996/1996 [==============================] - 71s - loss: 0.5239 - acc: 0.8041 - val_loss: 0.3384 - val_acc: 0.9058\n",
      "Epoch 2/10\n",
      "1996/1996 [==============================] - 71s - loss: 0.2987 - acc: 0.8943 - val_loss: 0.2889 - val_acc: 0.8978\n",
      "Epoch 3/10\n",
      "1996/1996 [==============================] - 78s - loss: 0.2083 - acc: 0.9248 - val_loss: 0.2227 - val_acc: 0.9299\n",
      "Epoch 4/10\n",
      "1996/1996 [==============================] - 98s - loss: 0.1768 - acc: 0.9364 - val_loss: 0.5542 - val_acc: 0.8677\n",
      "Epoch 5/10\n",
      "1996/1996 [==============================] - 100s - loss: 0.1497 - acc: 0.9469 - val_loss: 0.2558 - val_acc: 0.9279\n",
      "Epoch 6/10\n",
      "1996/1996 [==============================] - 101s - loss: 0.1238 - acc: 0.9594 - val_loss: 0.3442 - val_acc: 0.9198\n",
      "Epoch 7/10\n",
      "1996/1996 [==============================] - 101s - loss: 0.1173 - acc: 0.9604 - val_loss: 0.1975 - val_acc: 0.9499\n",
      "Epoch 8/10\n",
      "1996/1996 [==============================] - 103s - loss: 0.1109 - acc: 0.9654 - val_loss: 0.1948 - val_acc: 0.9499\n",
      "Epoch 9/10\n",
      "1996/1996 [==============================] - 103s - loss: 0.0776 - acc: 0.9749 - val_loss: 0.3448 - val_acc: 0.9339\n",
      "Epoch 10/10\n",
      "1996/1996 [==============================] - 100s - loss: 0.0796 - acc: 0.9719 - val_loss: 0.3423 - val_acc: 0.9339\n"
     ]
    },
    {
     "data": {
      "text/plain": [
       "<keras.callbacks.History at 0x7f364775b290>"
      ]
     },
     "execution_count": 20,
     "metadata": {},
     "output_type": "execute_result"
    }
   ],
   "source": [
    "lr = 0.001\n",
    "K.set_value(model_dense_deeper_conv_reg.optimizer.lr, lr)\n",
    "model_dense_deeper_conv_reg.fit([np_train_crops, np_train_feature], np_train_class,\n",
    "          batch_size=32,\n",
    "          epochs=10,\n",
    "          validation_data=([np_valid_crops, np_valid_feature], np_valid_class))"
   ]
  },
  {
   "cell_type": "code",
   "execution_count": 21,
   "metadata": {},
   "outputs": [
    {
     "name": "stdout",
     "output_type": "stream",
     "text": [
      "Train on 1996 samples, validate on 499 samples\n",
      "Epoch 1/10\n",
      "1996/1996 [==============================] - 98s - loss: 0.0495 - acc: 0.9875 - val_loss: 0.2267 - val_acc: 0.9499\n",
      "Epoch 2/10\n",
      "1996/1996 [==============================] - 98s - loss: 0.0249 - acc: 0.9920 - val_loss: 0.2019 - val_acc: 0.9539\n",
      "Epoch 3/10\n",
      "1996/1996 [==============================] - 86s - loss: 0.0189 - acc: 0.9955 - val_loss: 0.1872 - val_acc: 0.9599\n",
      "Epoch 4/10\n",
      "1996/1996 [==============================] - 74s - loss: 0.0110 - acc: 0.9970 - val_loss: 0.2026 - val_acc: 0.9579\n",
      "Epoch 5/10\n",
      "1996/1996 [==============================] - 71s - loss: 0.0103 - acc: 0.9980 - val_loss: 0.2062 - val_acc: 0.9619\n",
      "Epoch 6/10\n",
      "1996/1996 [==============================] - 88s - loss: 0.0065 - acc: 0.9985 - val_loss: 0.2178 - val_acc: 0.9599\n",
      "Epoch 7/10\n",
      "1996/1996 [==============================] - 130s - loss: 0.0087 - acc: 0.9985 - val_loss: 0.2039 - val_acc: 0.9639\n",
      "Epoch 8/10\n",
      "1996/1996 [==============================] - 182s - loss: 0.0056 - acc: 0.9985 - val_loss: 0.2418 - val_acc: 0.9599\n",
      "Epoch 9/10\n",
      "1996/1996 [==============================] - 134s - loss: 0.0068 - acc: 0.9980 - val_loss: 0.2246 - val_acc: 0.9659\n",
      "Epoch 10/10\n",
      "1996/1996 [==============================] - 132s - loss: 0.0052 - acc: 0.9980 - val_loss: 0.2229 - val_acc: 0.9619\n"
     ]
    },
    {
     "data": {
      "text/plain": [
       "<keras.callbacks.History at 0x7f3680882990>"
      ]
     },
     "execution_count": 21,
     "metadata": {},
     "output_type": "execute_result"
    }
   ],
   "source": [
    "lr = 0.0001\n",
    "K.set_value(model_dense_deeper_conv_reg.optimizer.lr, lr)\n",
    "model_dense_deeper_conv_reg.fit([np_train_crops, np_train_feature], np_train_class,\n",
    "          batch_size=32,\n",
    "          epochs=10,\n",
    "          validation_data=([np_valid_crops, np_valid_feature], np_valid_class))"
   ]
  },
  {
   "cell_type": "code",
   "execution_count": 22,
   "metadata": {},
   "outputs": [
    {
     "name": "stdout",
     "output_type": "stream",
     "text": [
      "Train on 1996 samples, validate on 499 samples\n",
      "Epoch 1/2\n",
      "1996/1996 [==============================] - 158s - loss: 0.0021 - acc: 0.9995 - val_loss: 0.2322 - val_acc: 0.9619\n",
      "Epoch 2/2\n",
      "1996/1996 [==============================] - 159s - loss: 0.0048 - acc: 0.9985 - val_loss: 0.2377 - val_acc: 0.9639\n"
     ]
    },
    {
     "data": {
      "text/plain": [
       "<keras.callbacks.History at 0x7f367c1c69d0>"
      ]
     },
     "execution_count": 22,
     "metadata": {},
     "output_type": "execute_result"
    }
   ],
   "source": [
    "lr = 0.00001\n",
    "K.set_value(model_dense_deeper_conv_reg.optimizer.lr, lr)\n",
    "model_dense_deeper_conv_reg.fit([np_train_crops, np_train_feature], np_train_class,\n",
    "          batch_size=32,\n",
    "          epochs=2,\n",
    "          validation_data=([np_valid_crops, np_valid_feature], np_valid_class))"
   ]
  },
  {
   "cell_type": "code",
   "execution_count": 23,
   "metadata": {},
   "outputs": [
    {
     "name": "stdout",
     "output_type": "stream",
     "text": [
      "Train on 1996 samples, validate on 499 samples\n",
      "Epoch 1/2\n",
      "1996/1996 [==============================] - 97s - loss: 0.0045 - acc: 0.9985 - val_loss: 0.2405 - val_acc: 0.9639\n",
      "Epoch 2/2\n",
      "1996/1996 [==============================] - 98s - loss: 0.0025 - acc: 0.9995 - val_loss: 0.2427 - val_acc: 0.9639\n"
     ]
    },
    {
     "data": {
      "text/plain": [
       "<keras.callbacks.History at 0x7f365c018790>"
      ]
     },
     "execution_count": 23,
     "metadata": {},
     "output_type": "execute_result"
    }
   ],
   "source": [
    "lr = 0.00001\n",
    "K.set_value(model_dense_deeper_conv_reg.optimizer.lr, lr)\n",
    "model_dense_deeper_conv_reg.fit([np_train_crops, np_train_feature], np_train_class,\n",
    "          batch_size=32,\n",
    "          epochs=2,\n",
    "          validation_data=([np_valid_crops, np_valid_feature], np_valid_class))"
   ]
  }
 ],
 "metadata": {
  "kernelspec": {
   "display_name": "Python 2",
   "language": "python",
   "name": "python2"
  },
  "language_info": {
   "codemirror_mode": {
    "name": "ipython",
    "version": 2
   },
   "file_extension": ".py",
   "mimetype": "text/x-python",
   "name": "python",
   "nbconvert_exporter": "python",
   "pygments_lexer": "ipython2",
   "version": "2.7.6"
  }
 },
 "nbformat": 4,
 "nbformat_minor": 2
}
