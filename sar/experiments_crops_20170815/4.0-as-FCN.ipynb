{
 "cells": [
  {
   "cell_type": "code",
   "execution_count": 1,
   "metadata": {},
   "outputs": [
    {
     "name": "stderr",
     "output_type": "stream",
     "text": [
      "Using TensorFlow backend.\n"
     ]
    },
    {
     "name": "stdout",
     "output_type": "stream",
     "text": [
      "2.0.5\n",
      "0.19.1\n",
      "2.0.0\n",
      "1.13.0\n"
     ]
    }
   ],
   "source": [
    "import matplotlib.pyplot as plt \n",
    "import scipy.misc\n",
    "import numpy as np\n",
    "from keras.layers import Dense, Dropout, Flatten, Input, Conv2D, Cropping2D\n",
    "from keras.layers import MaxPooling2D, ZeroPadding2D, BatchNormalization, Activation, GlobalAveragePooling2D\n",
    "from keras.models import Model\n",
    "from keras.utils.layer_utils import print_summary\n",
    "from keras.preprocessing.image import ImageDataGenerator\n",
    "from keras import backend as K\n",
    "\n",
    "from keras import __version__ as kv\n",
    "from scipy import __version__ as sv\n",
    "from matplotlib import __version__ as mv\n",
    "from numpy import __version__ as nv\n",
    "\n",
    "print kv\n",
    "print sv\n",
    "print mv\n",
    "print nv"
   ]
  },
  {
   "cell_type": "code",
   "execution_count": 2,
   "metadata": {},
   "outputs": [
    {
     "data": {
      "text/html": [
       "<script>requirejs.config({paths: { 'plotly': ['https://cdn.plot.ly/plotly-latest.min']},});if(!window.Plotly) {{require(['plotly'],function(plotly) {window.Plotly=plotly;});}}</script>"
      ],
      "text/vnd.plotly.v1+html": [
       "<script>requirejs.config({paths: { 'plotly': ['https://cdn.plot.ly/plotly-latest.min']},});if(!window.Plotly) {{require(['plotly'],function(plotly) {window.Plotly=plotly;});}}</script>"
      ]
     },
     "metadata": {},
     "output_type": "display_data"
    },
    {
     "data": {
      "text/html": [
       "<script>requirejs.config({paths: { 'plotly': ['https://cdn.plot.ly/plotly-latest.min']},});if(!window.Plotly) {{require(['plotly'],function(plotly) {window.Plotly=plotly;});}}</script>"
      ],
      "text/vnd.plotly.v1+html": [
       "<script>requirejs.config({paths: { 'plotly': ['https://cdn.plot.ly/plotly-latest.min']},});if(!window.Plotly) {{require(['plotly'],function(plotly) {window.Plotly=plotly;});}}</script>"
      ]
     },
     "metadata": {},
     "output_type": "display_data"
    },
    {
     "data": {
      "text/plain": [
       "<module 'utils2' from 'utils2.pyc'>"
      ]
     },
     "execution_count": 2,
     "metadata": {},
     "output_type": "execute_result"
    }
   ],
   "source": [
    "# Local files\n",
    "import utils\n",
    "reload(utils)\n",
    "import utils2\n",
    "reload(utils2)"
   ]
  },
  {
   "cell_type": "markdown",
   "metadata": {},
   "source": [
    "# Data"
   ]
  },
  {
   "cell_type": "markdown",
   "metadata": {},
   "source": [
    "### Config"
   ]
  },
  {
   "cell_type": "code",
   "execution_count": 3,
   "metadata": {
    "collapsed": true
   },
   "outputs": [],
   "source": [
    "trained_model_dir = '/home/ubuntu/data/sar/experiment_crops_20170815/trained_models/4.0-as-FCN/'"
   ]
  },
  {
   "cell_type": "code",
   "execution_count": 4,
   "metadata": {
    "collapsed": true
   },
   "outputs": [],
   "source": [
    "train_dir = '/home/ubuntu/data/sar/experiment_crops_20170815/train/50x50/'\n",
    "valid_dir = '/home/ubuntu/data/sar/experiment_crops_20170815/validate/50x50/'"
   ]
  },
  {
   "cell_type": "code",
   "execution_count": 5,
   "metadata": {
    "collapsed": true
   },
   "outputs": [],
   "source": [
    "input_shape = (50, 50, 1)\n",
    "num_classes = 3"
   ]
  },
  {
   "cell_type": "markdown",
   "metadata": {},
   "source": [
    "### Convert tif2png"
   ]
  },
  {
   "cell_type": "markdown",
   "metadata": {},
   "source": [
    "Done in 1.1-mph_as_kd-baseline-simple_CNN_from_scratch.ipynb"
   ]
  },
  {
   "cell_type": "markdown",
   "metadata": {},
   "source": [
    "### Create Generators"
   ]
  },
  {
   "cell_type": "code",
   "execution_count": 6,
   "metadata": {},
   "outputs": [
    {
     "name": "stdout",
     "output_type": "stream",
     "text": [
      "Found 1996 images belonging to 3 classes.\n",
      "Found 499 images belonging to 3 classes.\n"
     ]
    }
   ],
   "source": [
    "train_datagen = ImageDataGenerator()#rescale=1./255)\n",
    "\n",
    "test_datagen = ImageDataGenerator()#rescale=1./255)\n",
    "\n",
    "train_generator = train_datagen.flow_from_directory(\n",
    "        train_dir,\n",
    "        target_size=(50, 50),\n",
    "        batch_size=20,\n",
    "        class_mode='categorical', \n",
    "        color_mode='grayscale')\n",
    "\n",
    "validation_generator = test_datagen.flow_from_directory(\n",
    "        valid_dir, \n",
    "        target_size=(50, 50),\n",
    "        shuffle=False,\n",
    "        batch_size=10,\n",
    "        class_mode='categorical',\n",
    "        color_mode='grayscale')"
   ]
  },
  {
   "cell_type": "markdown",
   "metadata": {},
   "source": [
    "# Experiments"
   ]
  },
  {
   "cell_type": "markdown",
   "metadata": {},
   "source": [
    "## Baseline FCN (using https://github.com/asmith26/courses/blob/master/deeplearning1/nbs/lesson7.ipynb)"
   ]
  },
  {
   "cell_type": "code",
   "execution_count": 7,
   "metadata": {},
   "outputs": [
    {
     "name": "stderr",
     "output_type": "stream",
     "text": [
      "/usr/local/lib/python2.7/dist-packages/ipykernel_launcher.py:13: UserWarning:\n",
      "\n",
      "Update your `Conv2D` call to the Keras 2 API: `Conv2D(64, (3, 3), padding=\"same\", activation=\"relu\")`\n",
      "\n",
      "/usr/local/lib/python2.7/dist-packages/ipykernel_launcher.py:16: UserWarning:\n",
      "\n",
      "Update your `Conv2D` call to the Keras 2 API: `Conv2D(64, (3, 3), padding=\"same\", activation=\"relu\")`\n",
      "\n",
      "/usr/local/lib/python2.7/dist-packages/ipykernel_launcher.py:19: UserWarning:\n",
      "\n",
      "Update your `Conv2D` call to the Keras 2 API: `Conv2D(3, (3, 3), padding=\"same\")`\n",
      "\n"
     ]
    }
   ],
   "source": [
    "p = 0\n",
    "\n",
    "classifier_input = Input(shape=input_shape)\n",
    "\n",
    "x = Conv2D(32, (3, 3), activation='relu', padding='same')(classifier_input)\n",
    "x = MaxPooling2D()(x)\n",
    "x = Conv2D(64, (3, 3), activation='relu', padding='same')(x)\n",
    "x = MaxPooling2D()(x)\n",
    "x = Conv2D(64, (3, 3), activation='relu', padding='same')(x)\n",
    "\n",
    "# # Following based on https://github.com/asmith26/courses/blob/master/deeplearning1/nbs/lesson7.ipynb\n",
    "x = BatchNormalization(axis=-1)(x)\n",
    "x = Conv2D(64,3,3, activation='relu', border_mode='same')(x)\n",
    "x = BatchNormalization(axis=-1)(x)\n",
    "x = MaxPooling2D()(x)\n",
    "x = Conv2D(64,3,3, activation='relu', border_mode='same')(x)\n",
    "x = BatchNormalization(axis=-1)(x)\n",
    "x = MaxPooling2D()(x)\n",
    "x = Conv2D(3,3,3, border_mode='same')(x)\n",
    "x = Dropout(p)(x)\n",
    "x = GlobalAveragePooling2D()(x)\n",
    "x = Activation('softmax')(x)\n",
    "\n",
    "\n",
    "model = Model(outputs=x, inputs=classifier_input)\n",
    "model.compile(optimizer='rmsprop', loss='categorical_crossentropy', metrics=['accuracy'])"
   ]
  },
  {
   "cell_type": "code",
   "execution_count": 8,
   "metadata": {},
   "outputs": [
    {
     "name": "stdout",
     "output_type": "stream",
     "text": [
      "_________________________________________________________________\n",
      "Layer (type)                 Output Shape              Param #   \n",
      "=================================================================\n",
      "input_1 (InputLayer)         (None, 50, 50, 1)         0         \n",
      "_________________________________________________________________\n",
      "conv2d_1 (Conv2D)            (None, 50, 50, 32)        320       \n",
      "_________________________________________________________________\n",
      "max_pooling2d_1 (MaxPooling2 (None, 25, 25, 32)        0         \n",
      "_________________________________________________________________\n",
      "conv2d_2 (Conv2D)            (None, 25, 25, 64)        18496     \n",
      "_________________________________________________________________\n",
      "max_pooling2d_2 (MaxPooling2 (None, 12, 12, 64)        0         \n",
      "_________________________________________________________________\n",
      "conv2d_3 (Conv2D)            (None, 12, 12, 64)        36928     \n",
      "_________________________________________________________________\n",
      "batch_normalization_1 (Batch (None, 12, 12, 64)        256       \n",
      "_________________________________________________________________\n",
      "conv2d_4 (Conv2D)            (None, 12, 12, 64)        36928     \n",
      "_________________________________________________________________\n",
      "batch_normalization_2 (Batch (None, 12, 12, 64)        256       \n",
      "_________________________________________________________________\n",
      "max_pooling2d_3 (MaxPooling2 (None, 6, 6, 64)          0         \n",
      "_________________________________________________________________\n",
      "conv2d_5 (Conv2D)            (None, 6, 6, 64)          36928     \n",
      "_________________________________________________________________\n",
      "batch_normalization_3 (Batch (None, 6, 6, 64)          256       \n",
      "_________________________________________________________________\n",
      "max_pooling2d_4 (MaxPooling2 (None, 3, 3, 64)          0         \n",
      "_________________________________________________________________\n",
      "conv2d_6 (Conv2D)            (None, 3, 3, 3)           1731      \n",
      "_________________________________________________________________\n",
      "dropout_1 (Dropout)          (None, 3, 3, 3)           0         \n",
      "_________________________________________________________________\n",
      "global_average_pooling2d_1 ( (None, 3)                 0         \n",
      "_________________________________________________________________\n",
      "activation_1 (Activation)    (None, 3)                 0         \n",
      "=================================================================\n",
      "Total params: 132,099\n",
      "Trainable params: 131,715\n",
      "Non-trainable params: 384\n",
      "_________________________________________________________________\n"
     ]
    }
   ],
   "source": [
    "model.summary()"
   ]
  },
  {
   "cell_type": "code",
   "execution_count": 9,
   "metadata": {},
   "outputs": [
    {
     "name": "stdout",
     "output_type": "stream",
     "text": [
      "Epoch 1/20\n",
      "100/100 [==============================] - 17s - loss: 0.4426 - acc: 0.8285 - val_loss: 1.1730 - val_acc: 0.5025\n",
      "Epoch 2/20\n",
      "100/100 [==============================] - 17s - loss: 0.2755 - acc: 0.9006 - val_loss: 0.2597 - val_acc: 0.9165\n",
      "Epoch 3/20\n",
      "100/100 [==============================] - 17s - loss: 0.2093 - acc: 0.9184 - val_loss: 0.2634 - val_acc: 0.9115\n",
      "Epoch 4/20\n",
      "100/100 [==============================] - 17s - loss: 0.1753 - acc: 0.9310 - val_loss: 0.2342 - val_acc: 0.9182\n",
      "Epoch 5/20\n",
      "100/100 [==============================] - 17s - loss: 0.1324 - acc: 0.9555 - val_loss: 0.1803 - val_acc: 0.9466\n",
      "Epoch 6/20\n",
      "100/100 [==============================] - 17s - loss: 0.1177 - acc: 0.9634 - val_loss: 0.2074 - val_acc: 0.9381\n",
      "Epoch 7/20\n",
      "100/100 [==============================] - 17s - loss: 0.1073 - acc: 0.9609 - val_loss: 0.1622 - val_acc: 0.9633\n",
      "Epoch 8/20\n",
      "100/100 [==============================] - 17s - loss: 0.0948 - acc: 0.9675 - val_loss: 0.1953 - val_acc: 0.9399\n",
      "Epoch 9/20\n",
      "100/100 [==============================] - 17s - loss: 0.0743 - acc: 0.9725 - val_loss: 0.1992 - val_acc: 0.9399\n",
      "Epoch 10/20\n",
      "100/100 [==============================] - 17s - loss: 0.0786 - acc: 0.9730 - val_loss: 0.2441 - val_acc: 0.9449\n",
      "Epoch 11/20\n",
      "100/100 [==============================] - 17s - loss: 0.0560 - acc: 0.9805 - val_loss: 0.2539 - val_acc: 0.9465\n",
      "Epoch 12/20\n",
      "100/100 [==============================] - 17s - loss: 0.0605 - acc: 0.9815 - val_loss: 0.1509 - val_acc: 0.9549\n",
      "Epoch 13/20\n",
      "100/100 [==============================] - 17s - loss: 0.0513 - acc: 0.9800 - val_loss: 0.2062 - val_acc: 0.9499\n",
      "Epoch 14/20\n",
      "100/100 [==============================] - 17s - loss: 0.0466 - acc: 0.9834 - val_loss: 0.3207 - val_acc: 0.9299\n",
      "Epoch 15/20\n",
      "100/100 [==============================] - 17s - loss: 0.0491 - acc: 0.9834 - val_loss: 0.2030 - val_acc: 0.9549\n",
      "Epoch 16/20\n",
      "100/100 [==============================] - 17s - loss: 0.0311 - acc: 0.9869 - val_loss: 0.4026 - val_acc: 0.9164\n",
      "Epoch 17/20\n",
      "100/100 [==============================] - 17s - loss: 0.0216 - acc: 0.9930 - val_loss: 0.2540 - val_acc: 0.9583\n",
      "Epoch 18/20\n",
      "100/100 [==============================] - 17s - loss: 0.0291 - acc: 0.9905 - val_loss: 0.2157 - val_acc: 0.9566\n",
      "Epoch 19/20\n",
      "100/100 [==============================] - 17s - loss: 0.0180 - acc: 0.9925 - val_loss: 0.3005 - val_acc: 0.9466\n",
      "Epoch 20/20\n",
      "100/100 [==============================] - 18s - loss: 0.0208 - acc: 0.9925 - val_loss: 0.3106 - val_acc: 0.9316\n"
     ]
    },
    {
     "data": {
      "text/plain": [
       "<keras.callbacks.History at 0x7f0a410ee610>"
      ]
     },
     "execution_count": 9,
     "metadata": {},
     "output_type": "execute_result"
    }
   ],
   "source": [
    "lr = 0.001\n",
    "K.set_value(model.optimizer.lr, lr)\n",
    "\n",
    "model.fit_generator(\n",
    "        train_generator,\n",
    "        steps_per_epoch=100,\n",
    "        epochs=20,\n",
    "        validation_data=validation_generator,\n",
    "        validation_steps=60)"
   ]
  },
  {
   "cell_type": "code",
   "execution_count": 10,
   "metadata": {},
   "outputs": [
    {
     "name": "stdout",
     "output_type": "stream",
     "text": [
      "Epoch 1/5\n",
      "100/100 [==============================] - 17s - loss: 0.0115 - acc: 0.9950 - val_loss: 0.2141 - val_acc: 0.9666\n",
      "Epoch 2/5\n",
      "100/100 [==============================] - 17s - loss: 0.0024 - acc: 0.9995 - val_loss: 0.2229 - val_acc: 0.9616\n",
      "Epoch 3/5\n",
      "100/100 [==============================] - 17s - loss: 9.2996e-04 - acc: 1.0000 - val_loss: 0.2063 - val_acc: 0.9683\n",
      "Epoch 4/5\n",
      "100/100 [==============================] - 17s - loss: 8.9355e-04 - acc: 1.0000 - val_loss: 0.2363 - val_acc: 0.9649\n",
      "Epoch 5/5\n",
      "100/100 [==============================] - 17s - loss: 3.9482e-04 - acc: 1.0000 - val_loss: 0.2480 - val_acc: 0.9616\n"
     ]
    },
    {
     "data": {
      "text/plain": [
       "<keras.callbacks.History at 0x7f0a40ef8150>"
      ]
     },
     "execution_count": 10,
     "metadata": {},
     "output_type": "execute_result"
    }
   ],
   "source": [
    "lr = 0.0001\n",
    "K.set_value(model.optimizer.lr, lr)\n",
    "\n",
    "model.fit_generator(\n",
    "        train_generator,\n",
    "        steps_per_epoch=100,\n",
    "        epochs=5,\n",
    "        validation_data=validation_generator,\n",
    "        validation_steps=60)"
   ]
  },
  {
   "cell_type": "code",
   "execution_count": 11,
   "metadata": {},
   "outputs": [
    {
     "name": "stdout",
     "output_type": "stream",
     "text": [
      "Epoch 1/2\n",
      "100/100 [==============================] - 17s - loss: 2.7897e-04 - acc: 1.0000 - val_loss: 0.1935 - val_acc: 0.9683\n",
      "Epoch 2/2\n",
      "100/100 [==============================] - 17s - loss: 2.8006e-04 - acc: 1.0000 - val_loss: 0.2409 - val_acc: 0.9633\n"
     ]
    },
    {
     "data": {
      "text/plain": [
       "<keras.callbacks.History at 0x7f0a40ef8c90>"
      ]
     },
     "execution_count": 11,
     "metadata": {},
     "output_type": "execute_result"
    }
   ],
   "source": [
    "lr = 0.00001\n",
    "K.set_value(model.optimizer.lr, lr)\n",
    "\n",
    "model.fit_generator(\n",
    "        train_generator,\n",
    "        steps_per_epoch=100,\n",
    "        epochs=2,\n",
    "        validation_data=validation_generator,\n",
    "        validation_steps=60)"
   ]
  }
 ],
 "metadata": {
  "kernelspec": {
   "display_name": "Python 2",
   "language": "python",
   "name": "python2"
  },
  "language_info": {
   "codemirror_mode": {
    "name": "ipython",
    "version": 2
   },
   "file_extension": ".py",
   "mimetype": "text/x-python",
   "name": "python",
   "nbconvert_exporter": "python",
   "pygments_lexer": "ipython2",
   "version": "2.7.6"
  }
 },
 "nbformat": 4,
 "nbformat_minor": 2
}
