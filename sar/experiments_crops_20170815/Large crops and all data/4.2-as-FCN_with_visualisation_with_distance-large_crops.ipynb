{
 "cells": [
  {
   "cell_type": "code",
   "execution_count": 133,
   "metadata": {},
   "outputs": [
    {
     "name": "stdout",
     "output_type": "stream",
     "text": [
      "2.0.5\n",
      "0.19.1\n",
      "2.0.0\n",
      "1.13.0\n"
     ]
    }
   ],
   "source": [
    "import matplotlib.pyplot as plt \n",
    "import scipy.misc\n",
    "import numpy as np\n",
    "from keras.layers import Dense, Dropout, Flatten, Input, Conv2D, Cropping2D\n",
    "from keras.layers import MaxPooling2D, ZeroPadding2D, BatchNormalization, Activation, merge, GlobalAveragePooling2D\n",
    "from keras.layers.merge import Add, Multiply, Average, Maximum, Concatenate, Dot\n",
    "from keras.models import Model\n",
    "from keras.utils.layer_utils import print_summary\n",
    "from keras.preprocessing.image import ImageDataGenerator\n",
    "from keras import backend as K\n",
    "\n",
    "from keras import __version__ as kv\n",
    "from scipy import __version__ as sv\n",
    "from matplotlib import __version__ as mv\n",
    "from numpy import __version__ as nv\n",
    "\n",
    "print kv\n",
    "print sv\n",
    "print mv\n",
    "print nv"
   ]
  },
  {
   "cell_type": "code",
   "execution_count": 154,
   "metadata": {},
   "outputs": [
    {
     "data": {
      "text/html": [
       "<script>requirejs.config({paths: { 'plotly': ['https://cdn.plot.ly/plotly-latest.min']},});if(!window.Plotly) {{require(['plotly'],function(plotly) {window.Plotly=plotly;});}}</script>"
      ],
      "text/vnd.plotly.v1+html": [
       "<script>requirejs.config({paths: { 'plotly': ['https://cdn.plot.ly/plotly-latest.min']},});if(!window.Plotly) {{require(['plotly'],function(plotly) {window.Plotly=plotly;});}}</script>"
      ]
     },
     "metadata": {},
     "output_type": "display_data"
    },
    {
     "data": {
      "text/plain": [
       "<module 'utils2' from 'utils2.pyc'>"
      ]
     },
     "execution_count": 154,
     "metadata": {},
     "output_type": "execute_result"
    }
   ],
   "source": [
    "# Local files\n",
    "import utils\n",
    "reload(utils)\n",
    "import utils2\n",
    "reload(utils2)"
   ]
  },
  {
   "cell_type": "markdown",
   "metadata": {},
   "source": [
    "# Data"
   ]
  },
  {
   "cell_type": "markdown",
   "metadata": {},
   "source": [
    "### Config"
   ]
  },
  {
   "cell_type": "code",
   "execution_count": 155,
   "metadata": {
    "collapsed": true
   },
   "outputs": [],
   "source": [
    "trained_model_dir = '/home/ubuntu/data/sar/experiment_crops_20170815/trained_models/4.2-as-FCN_with_visualisation_with_distance_large_crops/'"
   ]
  },
  {
   "cell_type": "code",
   "execution_count": 156,
   "metadata": {
    "collapsed": true
   },
   "outputs": [],
   "source": [
    "train_dir = '/home/ubuntu/data/sar/experiment_crops_20170815/train/240x240/'\n",
    "valid_dir = '/home/ubuntu/data/sar/experiment_crops_20170815/validate/240x240/'"
   ]
  },
  {
   "cell_type": "code",
   "execution_count": 157,
   "metadata": {
    "collapsed": true
   },
   "outputs": [],
   "source": [
    "input_shape = (240, 240, 1)\n",
    "num_classes = 3"
   ]
  },
  {
   "cell_type": "markdown",
   "metadata": {},
   "source": [
    "### Convert tifs to png (only need to run once)"
   ]
  },
  {
   "cell_type": "code",
   "execution_count": 158,
   "metadata": {},
   "outputs": [
    {
     "name": "stdout",
     "output_type": "stream",
     "text": [
      "/home/ubuntu/data/sar/experiment_crops_20170815/train/240x240/oil_and_gas_infrastructure/ 1000\n",
      "/home/ubuntu/data/sar/experiment_crops_20170815/train/240x240/oil_and_gas_infrastructure/ 1000 1000\n",
      "/home/ubuntu/data/sar/experiment_crops_20170815/train/240x240/other/ 1000\n",
      "/home/ubuntu/data/sar/experiment_crops_20170815/train/240x240/other/ 1000 1000\n",
      "/home/ubuntu/data/sar/experiment_crops_20170815/train/240x240/turbine/ 2000\n",
      "/home/ubuntu/data/sar/experiment_crops_20170815/train/240x240/turbine/ 2000 2000\n"
     ]
    }
   ],
   "source": [
    "utils.tif2png(src_dir=train_dir+\"oil_and_gas_infrastructure/\", dest_dir=train_dir+\"oil_and_gas_infrastructure/\")\n",
    "utils.tif2png(src_dir=train_dir+\"other/\", dest_dir=train_dir+\"other/\")\n",
    "utils.tif2png(src_dir=train_dir+\"turbine/\", dest_dir=train_dir+\"turbine/\")"
   ]
  },
  {
   "cell_type": "markdown",
   "metadata": {},
   "source": [
    "Done in 1.0-mph_as_kd-baseline-simple_CNN_from_scratch.ipynb"
   ]
  },
  {
   "cell_type": "code",
   "execution_count": 159,
   "metadata": {},
   "outputs": [
    {
     "name": "stdout",
     "output_type": "stream",
     "text": [
      "/home/ubuntu/data/sar/experiment_crops_20170815/validate/240x240/oil_and_gas_infrastructure/ 250\n",
      "/home/ubuntu/data/sar/experiment_crops_20170815/validate/240x240/oil_and_gas_infrastructure/ 250 250\n",
      "/home/ubuntu/data/sar/experiment_crops_20170815/validate/240x240/other/ 250\n",
      "/home/ubuntu/data/sar/experiment_crops_20170815/validate/240x240/other/ 250 250\n",
      "/home/ubuntu/data/sar/experiment_crops_20170815/validate/240x240/turbine/ 500\n",
      "/home/ubuntu/data/sar/experiment_crops_20170815/validate/240x240/turbine/ 500 500\n"
     ]
    }
   ],
   "source": [
    "utils.tif2png(src_dir=valid_dir+\"oil_and_gas_infrastructure/\", dest_dir=valid_dir+\"oil_and_gas_infrastructure/\")\n",
    "utils.tif2png(src_dir=valid_dir+\"other/\", dest_dir=valid_dir+\"other/\")\n",
    "utils.tif2png(src_dir=valid_dir+\"turbine/\", dest_dir=valid_dir+\"turbine/\")"
   ]
  },
  {
   "cell_type": "code",
   "execution_count": 168,
   "metadata": {},
   "outputs": [],
   "source": [
    "train_crops, train_filename, train_feature, train_class, \\\n",
    "valid_crops, valid_filename, valid_feature, valid_class = utils.add_dist2land_experiment_crops_20170815()"
   ]
  },
  {
   "cell_type": "code",
   "execution_count": 169,
   "metadata": {},
   "outputs": [
    {
     "data": {
      "image/png": "[encoded data removed]",
      "text/plain": [
       "<matplotlib.figure.Figure at 0x7fcd7e346310>"
      ]
     },
     "metadata": {},
     "output_type": "display_data"
    }
   ],
   "source": [
    "plt.imshow( train_crops[0], cmap='pink')\n",
    "plt.show()"
   ]
  },
  {
   "cell_type": "code",
   "execution_count": 170,
   "metadata": {},
   "outputs": [
    {
     "name": "stdout",
     "output_type": "stream",
     "text": [
      "training crops: 1973\n",
      "training features: 1973\n",
      "validation crops: 498\n",
      "validation features: 498\n",
      "<type 'list'> <type 'numpy.ndarray'> (240, 240)\n"
     ]
    }
   ],
   "source": [
    "print \"training crops:\", len(train_crops)\n",
    "print \"training features:\", len(train_feature)\n",
    "print \"validation crops:\", len(valid_filename)\n",
    "print \"validation features:\", len(valid_feature)\n",
    "print type(train_crops), type(train_crops[0]), train_crops[0].shape"
   ]
  },
  {
   "cell_type": "code",
   "execution_count": 171,
   "metadata": {},
   "outputs": [
    {
     "name": "stdout",
     "output_type": "stream",
     "text": [
      "0\n"
     ]
    }
   ],
   "source": [
    "# large crop problems training data set\n",
    "# \n",
    "bad_crop_count = 0\n",
    "\n",
    "for idx, element in enumerate(train_crops):\n",
    "    if element.shape != (240,240):\n",
    "        print idx, element.shape, train_class[idx], train_filename[idx]\n",
    "        bad_crop_count += 1\n",
    "        \n",
    "print bad_crop_count"
   ]
  },
  {
   "cell_type": "markdown",
   "metadata": {},
   "source": [
    "For reference the bad 240 x 240 crops were (all other class):\n",
    "\n",
    "1526 (240, 215) S1A_IW_GRDH_1SDV_20170502T174100_20170502T174125_016406_01B2B3_900F_subset2_11.png\n",
    "1606 (240, 155) S1A_IW_GRDH_1SDV_20170806T174108_20170806T174133_017806_01DD7A_EF7A_subset6_10.png\n",
    "1630 (180, 240) S1A_IW_GRDH_1SDV_20170607T174104_20170607T174129_016931_01C2D4_E8F6_subset3_24.png\n",
    "1654 (240, 153) S1A_IW_GRDH_1SDV_20170719T040549_20170719T040614_017535_01D533_D6AB_subset1_2.png\n",
    "1675 (240, 188) S1A_IW_GRDH_1SDV_20170424T110608_20170424T110637_016285_01AF0A_B2F9_subset7_0.png\n",
    "1688 (217, 240) S1A_IW_GRDH_1SDV_20170713T174106_20170713T174131_017456_01D2CA_7339_subset1_4.png\n",
    "1713 (145, 240) S1A_IW_GRDH_1SDV_20170607T174104_20170607T174129_016931_01C2D4_E8F6_subset7_35.png\n",
    "1715 (182, 240) S1A_IW_GRDH_1SDV_20170607T174104_20170607T174129_016931_01C2D4_E8F6_subset8_11.png\n",
    "1717 (240, 190) S1A_IW_GRDH_1SDV_20170424T110608_20170424T110637_016285_01AF0A_B2F9_subset2_2.png\n",
    "1725 (240, 192) S1A_IW_GRDH_1SDV_20170713T174106_20170713T174131_017456_01D2CA_7339_subset2_9.png\n",
    "1784 (240, 195) S1B_IW_GRDH_1SDV_20170420T015703_20170420T015732_005238_0092B9_0365_subset7_1.png\n",
    "1817 (240, 147) S1A_IW_GRDH_1SDV_20170502T174100_20170502T174125_016406_01B2B3_900F_subset7_0.png\n",
    "1831 (230, 153) S1A_IW_GRDH_1SDV_20170713T174106_20170713T174131_017456_01D2CA_7339_subset8_3.png\n",
    "1926 (240, 181) S1A_IW_GRDH_1SDV_20170717T110613_20170717T110642_017510_01D46D_05C7_subset7_1.png\n",
    "1941 (240, 159) S1A_IW_GRDH_1SDV_20170526T174103_20170526T174128_016756_01BD64_D7CD_subset9_10.png\n",
    "1961 (207, 240) S1B_IW_GRDH_1SDV_20170615T061318_20170615T061343_006057_00AA34_F4E6_subset2_0.png\n",
    "1966 (170, 240) S1A_IW_GRDH_1SDV_20170502T174100_20170502T174125_016406_01B2B3_900F_subset3_19.png\n",
    "1972 (213, 240) S1A_IW_GRDH_1SDV_20170713T174106_20170713T174131_017456_01D2CA_7339_subset8_20.png\n",
    "1988 (240, 155) S1A_IW_GRDH_1SDV_20170719T040549_20170719T040614_017535_01D533_D6AB_subset6_34.png\n",
    "1989 (240, 157) S1B_IW_GRDH_1SDV_20170721T061820_20170721T061845_006582_00B93A_B503_subset2_3.png\n",
    "20"
   ]
  },
  {
   "cell_type": "code",
   "execution_count": 172,
   "metadata": {},
   "outputs": [
    {
     "name": "stdout",
     "output_type": "stream",
     "text": [
      "0\n"
     ]
    }
   ],
   "source": [
    "# large crop problems validation data set\n",
    "# \n",
    "bad_crop_count = 0\n",
    "\n",
    "for idx, element in enumerate(valid_crops):\n",
    "    if element.shape != (240,240):\n",
    "        print idx, element.shape, valid_class[idx], valid_filename[idx]\n",
    "        bad_crop_count += 1\n",
    "        \n",
    "print bad_crop_count"
   ]
  },
  {
   "cell_type": "markdown",
   "metadata": {},
   "source": [
    "For reference the bad 240 x 240 crops were (all other class):\n",
    "383 (161, 240) [0, 0, 1] S1A_IW_GRDH_1SDV_20170607T174104_20170607T174129_016931_01C2D4_E8F6_subset7_34.png"
   ]
  },
  {
   "cell_type": "code",
   "execution_count": 174,
   "metadata": {},
   "outputs": [],
   "source": [
    "# Reshape for keras format\n",
    "np_train_class = np.array(train_class)\n",
    "np_train_filename = np.array(train_filename)\n",
    "np_train_crops = np.array(train_crops)\n",
    "np_train_feature = np.array(train_feature)\n",
    "\n",
    "np_valid_class = np.array(valid_class)\n",
    "np_valid_filename = np.array(valid_filename)\n",
    "np_valid_crops = np.array(valid_crops)\n",
    "np_valid_feature = np.array(valid_feature)\n",
    "\n",
    "np_train_crops = np.expand_dims(np_train_crops, axis=3)\n",
    "np_train_feature = np.expand_dims(np_train_feature, axis=1)\n",
    "\n",
    "np_valid_crops = np.expand_dims(np_valid_crops, axis=3)\n",
    "np_valid_feature = np.expand_dims(np_valid_feature, axis=1)"
   ]
  },
  {
   "cell_type": "code",
   "execution_count": 175,
   "metadata": {},
   "outputs": [
    {
     "name": "stdout",
     "output_type": "stream",
     "text": [
      "(1973, 240, 240, 1)\n",
      "(1973, 1)\n",
      "(1973, 3)\n",
      "(473520, 240)\n",
      "(498, 240, 240, 1)\n",
      "(498, 1)\n",
      "(498, 3)\n"
     ]
    }
   ],
   "source": [
    "print np_train_crops.shape\n",
    "print np_train_feature.shape\n",
    "print np_train_class.shape\n",
    "print test.shape\n",
    "print np_valid_crops.shape\n",
    "print np_valid_feature.shape\n",
    "print np_valid_class.shape"
   ]
  },
  {
   "cell_type": "code",
   "execution_count": 176,
   "metadata": {},
   "outputs": [
    {
     "data": {
      "text/plain": [
       "(1973, 240, 240)"
      ]
     },
     "execution_count": 176,
     "metadata": {},
     "output_type": "execute_result"
    }
   ],
   "source": [
    "np.array(train_crops).shape\n"
   ]
  },
  {
   "cell_type": "markdown",
   "metadata": {},
   "source": [
    "# Experiments"
   ]
  },
  {
   "cell_type": "markdown",
   "metadata": {},
   "source": [
    "## Baseline FCN (using https://github.com/asmith26/courses/blob/master/deeplearning1/nbs/lesson7.ipynb)"
   ]
  },
  {
   "cell_type": "code",
   "execution_count": 177,
   "metadata": {},
   "outputs": [
    {
     "name": "stderr",
     "output_type": "stream",
     "text": [
      "/usr/local/lib/python2.7/dist-packages/ipykernel_launcher.py:22: UserWarning:\n",
      "\n",
      "The `merge` function is deprecated and will be removed after 08/2017. Use instead layers from `keras.layers.merge`, e.g. `add`, `concatenate`, etc.\n",
      "\n",
      "/usr/local/lib/python2.7/dist-packages/keras/legacy/layers.py:460: UserWarning:\n",
      "\n",
      "The `Merge` layer is deprecated and will be removed after 08/2017. Use instead layers from `keras.layers.merge`, e.g. `add`, `concatenate`, etc.\n",
      "\n"
     ]
    },
    {
     "ename": "ValueError",
     "evalue": "\"concat\" mode can only merge layers with matching output shapes except for the concat axis. Layer shapes: [(None, 15, 15, 64), (None, 1)]",
     "output_type": "error",
     "traceback": [
      "\u001b[0;31m---------------------------------------------------------------------------\u001b[0m",
      "\u001b[0;31mValueError\u001b[0m                                Traceback (most recent call last)",
      "\u001b[0;32m<ipython-input-177-2ecf2e449c06>\u001b[0m in \u001b[0;36m<module>\u001b[0;34m()\u001b[0m\n\u001b[1;32m     20\u001b[0m \u001b[0mx\u001b[0m \u001b[0;34m=\u001b[0m \u001b[0mMaxPooling2D\u001b[0m\u001b[0;34m(\u001b[0m\u001b[0;34m)\u001b[0m\u001b[0;34m(\u001b[0m\u001b[0mx\u001b[0m\u001b[0;34m)\u001b[0m   \u001b[0;31m# REMOVED MAX POOLING FOR VISUALISATION\u001b[0m\u001b[0;34m\u001b[0m\u001b[0m\n\u001b[1;32m     21\u001b[0m \u001b[0;34m\u001b[0m\u001b[0m\n\u001b[0;32m---> 22\u001b[0;31m \u001b[0mx\u001b[0m \u001b[0;34m=\u001b[0m \u001b[0mmerge\u001b[0m\u001b[0;34m(\u001b[0m\u001b[0;34m[\u001b[0m\u001b[0mx\u001b[0m\u001b[0;34m,\u001b[0m \u001b[0mdist2land_input\u001b[0m\u001b[0;34m]\u001b[0m\u001b[0;34m,\u001b[0m \u001b[0;34m'concat'\u001b[0m\u001b[0;34m)\u001b[0m\u001b[0;34m\u001b[0m\u001b[0m\n\u001b[0m\u001b[1;32m     23\u001b[0m \u001b[0;34m\u001b[0m\u001b[0m\n\u001b[1;32m     24\u001b[0m \u001b[0mx\u001b[0m \u001b[0;34m=\u001b[0m \u001b[0mConv2D\u001b[0m\u001b[0;34m(\u001b[0m\u001b[0;36m3\u001b[0m\u001b[0;34m,\u001b[0m\u001b[0;34m(\u001b[0m\u001b[0;36m3\u001b[0m\u001b[0;34m,\u001b[0m\u001b[0;36m3\u001b[0m\u001b[0;34m)\u001b[0m\u001b[0;34m,\u001b[0m \u001b[0mpadding\u001b[0m\u001b[0;34m=\u001b[0m\u001b[0;34m'same'\u001b[0m\u001b[0;34m)\u001b[0m\u001b[0;34m(\u001b[0m\u001b[0mx\u001b[0m\u001b[0;34m)\u001b[0m\u001b[0;34m\u001b[0m\u001b[0m\n",
      "\u001b[0;32m/usr/local/lib/python2.7/dist-packages/keras/legacy/layers.pyc\u001b[0m in \u001b[0;36mmerge\u001b[0;34m(inputs, mode, concat_axis, dot_axes, output_shape, output_mask, arguments, name)\u001b[0m\n\u001b[1;32m    458\u001b[0m                             \u001b[0mnode_indices\u001b[0m\u001b[0;34m=\u001b[0m\u001b[0mnode_indices\u001b[0m\u001b[0;34m,\u001b[0m\u001b[0;34m\u001b[0m\u001b[0m\n\u001b[1;32m    459\u001b[0m                             \u001b[0mtensor_indices\u001b[0m\u001b[0;34m=\u001b[0m\u001b[0mtensor_indices\u001b[0m\u001b[0;34m,\u001b[0m\u001b[0;34m\u001b[0m\u001b[0m\n\u001b[0;32m--> 460\u001b[0;31m                             name=name)\n\u001b[0m\u001b[1;32m    461\u001b[0m         \u001b[0;32mreturn\u001b[0m \u001b[0mmerge_layer\u001b[0m\u001b[0;34m.\u001b[0m\u001b[0minbound_nodes\u001b[0m\u001b[0;34m[\u001b[0m\u001b[0;36m0\u001b[0m\u001b[0;34m]\u001b[0m\u001b[0;34m.\u001b[0m\u001b[0moutput_tensors\u001b[0m\u001b[0;34m[\u001b[0m\u001b[0;36m0\u001b[0m\u001b[0;34m]\u001b[0m\u001b[0;34m\u001b[0m\u001b[0m\n\u001b[1;32m    462\u001b[0m     \u001b[0;32melse\u001b[0m\u001b[0;34m:\u001b[0m\u001b[0;34m\u001b[0m\u001b[0m\n",
      "\u001b[0;32m/usr/local/lib/python2.7/dist-packages/keras/legacy/layers.pyc\u001b[0m in \u001b[0;36m__init__\u001b[0;34m(self, layers, mode, concat_axis, dot_axes, output_shape, output_mask, arguments, node_indices, tensor_indices, name)\u001b[0m\n\u001b[1;32m    109\u001b[0m             self._arguments_validation(layers, mode,\n\u001b[1;32m    110\u001b[0m                                        \u001b[0mconcat_axis\u001b[0m\u001b[0;34m,\u001b[0m \u001b[0mdot_axes\u001b[0m\u001b[0;34m,\u001b[0m\u001b[0;34m\u001b[0m\u001b[0m\n\u001b[0;32m--> 111\u001b[0;31m                                        node_indices, tensor_indices)\n\u001b[0m\u001b[1;32m    112\u001b[0m             \u001b[0mself\u001b[0m\u001b[0;34m.\u001b[0m\u001b[0mbuilt\u001b[0m \u001b[0;34m=\u001b[0m \u001b[0mTrue\u001b[0m\u001b[0;34m\u001b[0m\u001b[0m\n\u001b[1;32m    113\u001b[0m             \u001b[0minput_tensors\u001b[0m \u001b[0;34m=\u001b[0m \u001b[0;34m[\u001b[0m\u001b[0;34m]\u001b[0m\u001b[0;34m\u001b[0m\u001b[0m\n",
      "\u001b[0;32m/usr/local/lib/python2.7/dist-packages/keras/legacy/layers.pyc\u001b[0m in \u001b[0;36m_arguments_validation\u001b[0;34m(self, layers, mode, concat_axis, dot_axes, node_indices, tensor_indices)\u001b[0m\n\u001b[1;32m    189\u001b[0m                                  \u001b[0;34m'layers with matching '\u001b[0m\u001b[0;34m\u001b[0m\u001b[0m\n\u001b[1;32m    190\u001b[0m                                  \u001b[0;34m'output shapes except for the concat axis. '\u001b[0m\u001b[0;34m\u001b[0m\u001b[0m\n\u001b[0;32m--> 191\u001b[0;31m                                  'Layer shapes: %s' % (input_shapes))\n\u001b[0m\u001b[1;32m    192\u001b[0m \u001b[0;34m\u001b[0m\u001b[0m\n\u001b[1;32m    193\u001b[0m     \u001b[0;32mdef\u001b[0m \u001b[0mcall\u001b[0m\u001b[0;34m(\u001b[0m\u001b[0mself\u001b[0m\u001b[0;34m,\u001b[0m \u001b[0minputs\u001b[0m\u001b[0;34m,\u001b[0m \u001b[0mmask\u001b[0m\u001b[0;34m=\u001b[0m\u001b[0mNone\u001b[0m\u001b[0;34m)\u001b[0m\u001b[0;34m:\u001b[0m\u001b[0;34m\u001b[0m\u001b[0m\n",
      "\u001b[0;31mValueError\u001b[0m: \"concat\" mode can only merge layers with matching output shapes except for the concat axis. Layer shapes: [(None, 15, 15, 64), (None, 1)]"
     ]
    }
   ],
   "source": [
    "p = 0\n",
    "\n",
    "classifier_input = Input(shape=input_shape)\n",
    "dist2land_input = Input(shape=(1,), name='dist2land_input')\n",
    "\n",
    "\n",
    "x = Conv2D(32, (3, 3), activation='relu', padding='same')(classifier_input)\n",
    "x = MaxPooling2D()(x)\n",
    "x = Conv2D(64, (3, 3), activation='relu', padding='same')(x)\n",
    "x = MaxPooling2D()(x)   # REMOVED MAX POOLING FOR VISUALISATION\n",
    "x = Conv2D(64, (3, 3), activation='relu', padding='same')(x)\n",
    "\n",
    "# # Following based on https://github.com/asmith26/courses/blob/master/deeplearning1/nbs/lesson7.ipynb\n",
    "x = BatchNormalization(axis=-1)(x)\n",
    "x = Conv2D(64,(3,3), activation='relu', padding='same')(x)\n",
    "x = BatchNormalization(axis=-1)(x)\n",
    "x = MaxPooling2D()(x)   # REMOVED MAX POOLING FOR VISUALISATION\n",
    "x = Conv2D(64,(3,3), activation='relu', padding='same')(x)\n",
    "x = BatchNormalization(axis=-1)(x)\n",
    "x = MaxPooling2D()(x)   # REMOVED MAX POOLING FOR VISUALISATION\n",
    "\n",
    "x = merge([x, dist2land_input], 'concat')\n",
    "\n",
    "x = Conv2D(3,(3,3), padding='same')(x)\n",
    "x = Dropout(p)(x)\n",
    "x = GlobalAveragePooling2D()(x)\n",
    "x = Activation('softmax')(x)\n",
    "\n",
    "\n",
    "model_with_distance = Model(outputs=x, inputs=classifier_input)\n",
    "model_with_distance.compile(optimizer='rmsprop', loss='categorical_crossentropy', metrics=['accuracy'])"
   ]
  },
  {
   "cell_type": "code",
   "execution_count": 178,
   "metadata": {
    "collapsed": true
   },
   "outputs": [],
   "source": [
    "p = 0\n",
    "\n",
    "classifier_input = Input(shape=input_shape)\n",
    "dist2land_input = Input(shape=(1,))\n",
    "\n",
    "x = Conv2D(32, (3, 3), activation='relu', padding='same')(classifier_input)\n",
    "x = MaxPooling2D()(x)\n",
    "x = Conv2D(64, (3, 3), activation='relu', padding='same')(x)\n",
    "x = MaxPooling2D()(x)   # REMOVED MAX POOLING FOR VISUALISATION\n",
    "x = Conv2D(64, (3, 3), activation='relu', padding='same')(x)\n",
    "\n",
    "# # Following based on https://github.com/asmith26/courses/blob/master/deeplearning1/nbs/lesson7.ipynb\n",
    "x = BatchNormalization(axis=-1)(x)\n",
    "x = Conv2D(64,(3,3), activation='relu', padding='same')(x)\n",
    "x = BatchNormalization(axis=-1)(x)\n",
    "x = MaxPooling2D()(x)   # REMOVED MAX POOLING FOR VISUALISATION\n",
    "x = Conv2D(64,(3,3), activation='relu', padding='same')(x)\n",
    "x = BatchNormalization(axis=-1)(x)\n",
    "x = MaxPooling2D()(x)   # REMOVED MAX POOLING FOR VISUALISATION\n",
    "x = Conv2D(3,(3,3), padding='same')(x)\n",
    "x = Dropout(p)(x)\n",
    "x = GlobalAveragePooling2D()(x)\n",
    "m = Add()([dist2land_input, x])\n",
    "out = Activation('softmax')(m)\n",
    "\n",
    "\n",
    "model_with_distance = Model(inputs=[classifier_input, dist2land_input], outputs=out)\n",
    "model_with_distance.compile(optimizer='rmsprop', loss='categorical_crossentropy', metrics=['accuracy'])"
   ]
  },
  {
   "cell_type": "code",
   "execution_count": 179,
   "metadata": {},
   "outputs": [
    {
     "name": "stdout",
     "output_type": "stream",
     "text": [
      "____________________________________________________________________________________________________\n",
      "Layer (type)                     Output Shape          Param #     Connected to                     \n",
      "====================================================================================================\n",
      "input_2 (InputLayer)             (None, 240, 240, 1)   0                                            \n",
      "____________________________________________________________________________________________________\n",
      "conv2d_6 (Conv2D)                (None, 240, 240, 32)  320         input_2[0][0]                    \n",
      "____________________________________________________________________________________________________\n",
      "max_pooling2d_5 (MaxPooling2D)   (None, 120, 120, 32)  0           conv2d_6[0][0]                   \n",
      "____________________________________________________________________________________________________\n",
      "conv2d_7 (Conv2D)                (None, 120, 120, 64)  18496       max_pooling2d_5[0][0]            \n",
      "____________________________________________________________________________________________________\n",
      "max_pooling2d_6 (MaxPooling2D)   (None, 60, 60, 64)    0           conv2d_7[0][0]                   \n",
      "____________________________________________________________________________________________________\n",
      "conv2d_8 (Conv2D)                (None, 60, 60, 64)    36928       max_pooling2d_6[0][0]            \n",
      "____________________________________________________________________________________________________\n",
      "batch_normalization_4 (BatchNorm (None, 60, 60, 64)    256         conv2d_8[0][0]                   \n",
      "____________________________________________________________________________________________________\n",
      "conv2d_9 (Conv2D)                (None, 60, 60, 64)    36928       batch_normalization_4[0][0]      \n",
      "____________________________________________________________________________________________________\n",
      "batch_normalization_5 (BatchNorm (None, 60, 60, 64)    256         conv2d_9[0][0]                   \n",
      "____________________________________________________________________________________________________\n",
      "max_pooling2d_7 (MaxPooling2D)   (None, 30, 30, 64)    0           batch_normalization_5[0][0]      \n",
      "____________________________________________________________________________________________________\n",
      "conv2d_10 (Conv2D)               (None, 30, 30, 64)    36928       max_pooling2d_7[0][0]            \n",
      "____________________________________________________________________________________________________\n",
      "batch_normalization_6 (BatchNorm (None, 30, 30, 64)    256         conv2d_10[0][0]                  \n",
      "____________________________________________________________________________________________________\n",
      "max_pooling2d_8 (MaxPooling2D)   (None, 15, 15, 64)    0           batch_normalization_6[0][0]      \n",
      "____________________________________________________________________________________________________\n",
      "conv2d_11 (Conv2D)               (None, 15, 15, 3)     1731        max_pooling2d_8[0][0]            \n",
      "____________________________________________________________________________________________________\n",
      "dropout_1 (Dropout)              (None, 15, 15, 3)     0           conv2d_11[0][0]                  \n",
      "____________________________________________________________________________________________________\n",
      "input_3 (InputLayer)             (None, 1)             0                                            \n",
      "____________________________________________________________________________________________________\n",
      "global_average_pooling2d_1 (Glob (None, 3)             0           dropout_1[0][0]                  \n",
      "____________________________________________________________________________________________________\n",
      "add_1 (Add)                      (None, 3)             0           input_3[0][0]                    \n",
      "                                                                   global_average_pooling2d_1[0][0] \n",
      "____________________________________________________________________________________________________\n",
      "activation_1 (Activation)        (None, 3)             0           add_1[0][0]                      \n",
      "====================================================================================================\n",
      "Total params: 132,099\n",
      "Trainable params: 131,715\n",
      "Non-trainable params: 384\n",
      "____________________________________________________________________________________________________\n"
     ]
    }
   ],
   "source": [
    "model_with_distance.summary()"
   ]
  },
  {
   "cell_type": "code",
   "execution_count": 180,
   "metadata": {},
   "outputs": [
    {
     "data": {
      "image/svg+xml": [
       "<svg height=\"1304pt\" viewBox=\"0.00 0.00 473.00 1304.00\" width=\"473pt\" xmlns=\"http://www.w3.org/2000/svg\" xmlns:xlink=\"http://www.w3.org/1999/xlink\">\n",
       "<g class=\"graph\" id=\"graph0\" transform=\"scale(1 1) rotate(0) translate(4 1300)\">\n",
       "<title>G</title>\n",
       "<polygon fill=\"white\" points=\"-4,4 -4,-1300 469,-1300 469,4 -4,4\" stroke=\"none\"/>\n",
       "<!-- 140520591017744 -->\n",
       "<g class=\"node\" id=\"node1\"><title>140520591017744</title>\n",
       "<polygon fill=\"none\" points=\"98.5,-1259 98.5,-1295 223.5,-1295 223.5,-1259 98.5,-1259\" stroke=\"black\"/>\n",
       "<text font-family=\"Times,serif\" font-size=\"14.00\" text-anchor=\"middle\" x=\"161\" y=\"-1273.3\">input_2: InputLayer</text>\n",
       "</g>\n",
       "<!-- 140520625836816 -->\n",
       "<g class=\"node\" id=\"node2\"><title>140520625836816</title>\n",
       "<polygon fill=\"none\" points=\"99.5,-1185 99.5,-1221 222.5,-1221 222.5,-1185 99.5,-1185\" stroke=\"black\"/>\n",
       "<text font-family=\"Times,serif\" font-size=\"14.00\" text-anchor=\"middle\" x=\"161\" y=\"-1199.3\">conv2d_6: Conv2D</text>\n",
       "</g>\n",
       "<!-- 140520591017744&#45;&gt;140520625836816 -->\n",
       "<g class=\"edge\" id=\"edge1\"><title>140520591017744-&gt;140520625836816</title>\n",
       "<path d=\"M161,-1258.94C161,-1250.81 161,-1240.88 161,-1231.7\" fill=\"none\" stroke=\"black\"/>\n",
       "<polygon fill=\"black\" points=\"164.5,-1231.44 161,-1221.44 157.5,-1231.44 164.5,-1231.44\" stroke=\"black\"/>\n",
       "</g>\n",
       "<!-- 140520625841104 -->\n",
       "<g class=\"node\" id=\"node3\"><title>140520625841104</title>\n",
       "<polygon fill=\"none\" points=\"57.5,-1111 57.5,-1147 264.5,-1147 264.5,-1111 57.5,-1111\" stroke=\"black\"/>\n",
       "<text font-family=\"Times,serif\" font-size=\"14.00\" text-anchor=\"middle\" x=\"161\" y=\"-1125.3\">max_pooling2d_5: MaxPooling2D</text>\n",
       "</g>\n",
       "<!-- 140520625836816&#45;&gt;140520625841104 -->\n",
       "<g class=\"edge\" id=\"edge2\"><title>140520625836816-&gt;140520625841104</title>\n",
       "<path d=\"M161,-1184.94C161,-1176.81 161,-1166.88 161,-1157.7\" fill=\"none\" stroke=\"black\"/>\n",
       "<polygon fill=\"black\" points=\"164.5,-1157.44 161,-1147.44 157.5,-1157.44 164.5,-1157.44\" stroke=\"black\"/>\n",
       "</g>\n",
       "<!-- 140520625842640 -->\n",
       "<g class=\"node\" id=\"node4\"><title>140520625842640</title>\n",
       "<polygon fill=\"none\" points=\"99.5,-1037 99.5,-1073 222.5,-1073 222.5,-1037 99.5,-1037\" stroke=\"black\"/>\n",
       "<text font-family=\"Times,serif\" font-size=\"14.00\" text-anchor=\"middle\" x=\"161\" y=\"-1051.3\">conv2d_7: Conv2D</text>\n",
       "</g>\n",
       "<!-- 140520625841104&#45;&gt;140520625842640 -->\n",
       "<g class=\"edge\" id=\"edge3\"><title>140520625841104-&gt;140520625842640</title>\n",
       "<path d=\"M161,-1110.94C161,-1102.81 161,-1092.88 161,-1083.7\" fill=\"none\" stroke=\"black\"/>\n",
       "<polygon fill=\"black\" points=\"164.5,-1083.44 161,-1073.44 157.5,-1083.44 164.5,-1083.44\" stroke=\"black\"/>\n",
       "</g>\n",
       "<!-- 140520591016016 -->\n",
       "<g class=\"node\" id=\"node5\"><title>140520591016016</title>\n",
       "<polygon fill=\"none\" points=\"57.5,-963 57.5,-999 264.5,-999 264.5,-963 57.5,-963\" stroke=\"black\"/>\n",
       "<text font-family=\"Times,serif\" font-size=\"14.00\" text-anchor=\"middle\" x=\"161\" y=\"-977.3\">max_pooling2d_6: MaxPooling2D</text>\n",
       "</g>\n",
       "<!-- 140520625842640&#45;&gt;140520591016016 -->\n",
       "<g class=\"edge\" id=\"edge4\"><title>140520625842640-&gt;140520591016016</title>\n",
       "<path d=\"M161,-1036.94C161,-1028.81 161,-1018.88 161,-1009.7\" fill=\"none\" stroke=\"black\"/>\n",
       "<polygon fill=\"black\" points=\"164.5,-1009.44 161,-999.441 157.5,-1009.44 164.5,-1009.44\" stroke=\"black\"/>\n",
       "</g>\n",
       "<!-- 140520563409360 -->\n",
       "<g class=\"node\" id=\"node6\"><title>140520563409360</title>\n",
       "<polygon fill=\"none\" points=\"99.5,-889 99.5,-925 222.5,-925 222.5,-889 99.5,-889\" stroke=\"black\"/>\n",
       "<text font-family=\"Times,serif\" font-size=\"14.00\" text-anchor=\"middle\" x=\"161\" y=\"-903.3\">conv2d_8: Conv2D</text>\n",
       "</g>\n",
       "<!-- 140520591016016&#45;&gt;140520563409360 -->\n",
       "<g class=\"edge\" id=\"edge5\"><title>140520591016016-&gt;140520563409360</title>\n",
       "<path d=\"M161,-962.937C161,-954.807 161,-944.876 161,-935.705\" fill=\"none\" stroke=\"black\"/>\n",
       "<polygon fill=\"black\" points=\"164.5,-935.441 161,-925.441 157.5,-935.441 164.5,-935.441\" stroke=\"black\"/>\n",
       "</g>\n",
       "<!-- 140520563359440 -->\n",
       "<g class=\"node\" id=\"node7\"><title>140520563359440</title>\n",
       "<polygon fill=\"none\" points=\"31,-815 31,-851 291,-851 291,-815 31,-815\" stroke=\"black\"/>\n",
       "<text font-family=\"Times,serif\" font-size=\"14.00\" text-anchor=\"middle\" x=\"161\" y=\"-829.3\">batch_normalization_4: BatchNormalization</text>\n",
       "</g>\n",
       "<!-- 140520563409360&#45;&gt;140520563359440 -->\n",
       "<g class=\"edge\" id=\"edge6\"><title>140520563409360-&gt;140520563359440</title>\n",
       "<path d=\"M161,-888.937C161,-880.807 161,-870.876 161,-861.705\" fill=\"none\" stroke=\"black\"/>\n",
       "<polygon fill=\"black\" points=\"164.5,-861.441 161,-851.441 157.5,-861.441 164.5,-861.441\" stroke=\"black\"/>\n",
       "</g>\n",
       "<!-- 140520625553104 -->\n",
       "<g class=\"node\" id=\"node8\"><title>140520625553104</title>\n",
       "<polygon fill=\"none\" points=\"99.5,-741 99.5,-777 222.5,-777 222.5,-741 99.5,-741\" stroke=\"black\"/>\n",
       "<text font-family=\"Times,serif\" font-size=\"14.00\" text-anchor=\"middle\" x=\"161\" y=\"-755.3\">conv2d_9: Conv2D</text>\n",
       "</g>\n",
       "<!-- 140520563359440&#45;&gt;140520625553104 -->\n",
       "<g class=\"edge\" id=\"edge7\"><title>140520563359440-&gt;140520625553104</title>\n",
       "<path d=\"M161,-814.937C161,-806.807 161,-796.876 161,-787.705\" fill=\"none\" stroke=\"black\"/>\n",
       "<polygon fill=\"black\" points=\"164.5,-787.441 161,-777.441 157.5,-787.441 164.5,-787.441\" stroke=\"black\"/>\n",
       "</g>\n",
       "<!-- 140520625838544 -->\n",
       "<g class=\"node\" id=\"node9\"><title>140520625838544</title>\n",
       "<polygon fill=\"none\" points=\"31,-667 31,-703 291,-703 291,-667 31,-667\" stroke=\"black\"/>\n",
       "<text font-family=\"Times,serif\" font-size=\"14.00\" text-anchor=\"middle\" x=\"161\" y=\"-681.3\">batch_normalization_5: BatchNormalization</text>\n",
       "</g>\n",
       "<!-- 140520625553104&#45;&gt;140520625838544 -->\n",
       "<g class=\"edge\" id=\"edge8\"><title>140520625553104-&gt;140520625838544</title>\n",
       "<path d=\"M161,-740.937C161,-732.807 161,-722.876 161,-713.705\" fill=\"none\" stroke=\"black\"/>\n",
       "<polygon fill=\"black\" points=\"164.5,-713.441 161,-703.441 157.5,-713.441 164.5,-713.441\" stroke=\"black\"/>\n",
       "</g>\n",
       "<!-- 140520625094800 -->\n",
       "<g class=\"node\" id=\"node10\"><title>140520625094800</title>\n",
       "<polygon fill=\"none\" points=\"57.5,-593 57.5,-629 264.5,-629 264.5,-593 57.5,-593\" stroke=\"black\"/>\n",
       "<text font-family=\"Times,serif\" font-size=\"14.00\" text-anchor=\"middle\" x=\"161\" y=\"-607.3\">max_pooling2d_7: MaxPooling2D</text>\n",
       "</g>\n",
       "<!-- 140520625838544&#45;&gt;140520625094800 -->\n",
       "<g class=\"edge\" id=\"edge9\"><title>140520625838544-&gt;140520625094800</title>\n",
       "<path d=\"M161,-666.937C161,-658.807 161,-648.876 161,-639.705\" fill=\"none\" stroke=\"black\"/>\n",
       "<polygon fill=\"black\" points=\"164.5,-639.441 161,-629.441 157.5,-639.441 164.5,-639.441\" stroke=\"black\"/>\n",
       "</g>\n",
       "<!-- 140520629862032 -->\n",
       "<g class=\"node\" id=\"node11\"><title>140520629862032</title>\n",
       "<polygon fill=\"none\" points=\"96,-519 96,-555 226,-555 226,-519 96,-519\" stroke=\"black\"/>\n",
       "<text font-family=\"Times,serif\" font-size=\"14.00\" text-anchor=\"middle\" x=\"161\" y=\"-533.3\">conv2d_10: Conv2D</text>\n",
       "</g>\n",
       "<!-- 140520625094800&#45;&gt;140520629862032 -->\n",
       "<g class=\"edge\" id=\"edge10\"><title>140520625094800-&gt;140520629862032</title>\n",
       "<path d=\"M161,-592.937C161,-584.807 161,-574.876 161,-565.705\" fill=\"none\" stroke=\"black\"/>\n",
       "<polygon fill=\"black\" points=\"164.5,-565.441 161,-555.441 157.5,-565.441 164.5,-565.441\" stroke=\"black\"/>\n",
       "</g>\n",
       "<!-- 140520563991376 -->\n",
       "<g class=\"node\" id=\"node12\"><title>140520563991376</title>\n",
       "<polygon fill=\"none\" points=\"31,-445 31,-481 291,-481 291,-445 31,-445\" stroke=\"black\"/>\n",
       "<text font-family=\"Times,serif\" font-size=\"14.00\" text-anchor=\"middle\" x=\"161\" y=\"-459.3\">batch_normalization_6: BatchNormalization</text>\n",
       "</g>\n",
       "<!-- 140520629862032&#45;&gt;140520563991376 -->\n",
       "<g class=\"edge\" id=\"edge11\"><title>140520629862032-&gt;140520563991376</title>\n",
       "<path d=\"M161,-518.937C161,-510.807 161,-500.876 161,-491.705\" fill=\"none\" stroke=\"black\"/>\n",
       "<polygon fill=\"black\" points=\"164.5,-491.441 161,-481.441 157.5,-491.441 164.5,-491.441\" stroke=\"black\"/>\n",
       "</g>\n",
       "<!-- 140520629660880 -->\n",
       "<g class=\"node\" id=\"node13\"><title>140520629660880</title>\n",
       "<polygon fill=\"none\" points=\"57.5,-371 57.5,-407 264.5,-407 264.5,-371 57.5,-371\" stroke=\"black\"/>\n",
       "<text font-family=\"Times,serif\" font-size=\"14.00\" text-anchor=\"middle\" x=\"161\" y=\"-385.3\">max_pooling2d_8: MaxPooling2D</text>\n",
       "</g>\n",
       "<!-- 140520563991376&#45;&gt;140520629660880 -->\n",
       "<g class=\"edge\" id=\"edge12\"><title>140520563991376-&gt;140520629660880</title>\n",
       "<path d=\"M161,-444.937C161,-436.807 161,-426.876 161,-417.705\" fill=\"none\" stroke=\"black\"/>\n",
       "<polygon fill=\"black\" points=\"164.5,-417.441 161,-407.441 157.5,-417.441 164.5,-417.441\" stroke=\"black\"/>\n",
       "</g>\n",
       "<!-- 140520629955856 -->\n",
       "<g class=\"node\" id=\"node14\"><title>140520629955856</title>\n",
       "<polygon fill=\"none\" points=\"96,-297 96,-333 226,-333 226,-297 96,-297\" stroke=\"black\"/>\n",
       "<text font-family=\"Times,serif\" font-size=\"14.00\" text-anchor=\"middle\" x=\"161\" y=\"-311.3\">conv2d_11: Conv2D</text>\n",
       "</g>\n",
       "<!-- 140520629660880&#45;&gt;140520629955856 -->\n",
       "<g class=\"edge\" id=\"edge13\"><title>140520629660880-&gt;140520629955856</title>\n",
       "<path d=\"M161,-370.937C161,-362.807 161,-352.876 161,-343.705\" fill=\"none\" stroke=\"black\"/>\n",
       "<polygon fill=\"black\" points=\"164.5,-343.441 161,-333.441 157.5,-343.441 164.5,-343.441\" stroke=\"black\"/>\n",
       "</g>\n",
       "<!-- 140520628928144 -->\n",
       "<g class=\"node\" id=\"node15\"><title>140520628928144</title>\n",
       "<polygon fill=\"none\" points=\"98.5,-223 98.5,-259 223.5,-259 223.5,-223 98.5,-223\" stroke=\"black\"/>\n",
       "<text font-family=\"Times,serif\" font-size=\"14.00\" text-anchor=\"middle\" x=\"161\" y=\"-237.3\">dropout_1: Dropout</text>\n",
       "</g>\n",
       "<!-- 140520629955856&#45;&gt;140520628928144 -->\n",
       "<g class=\"edge\" id=\"edge14\"><title>140520629955856-&gt;140520628928144</title>\n",
       "<path d=\"M161,-296.937C161,-288.807 161,-278.876 161,-269.705\" fill=\"none\" stroke=\"black\"/>\n",
       "<polygon fill=\"black\" points=\"164.5,-269.441 161,-259.441 157.5,-269.441 164.5,-269.441\" stroke=\"black\"/>\n",
       "</g>\n",
       "<!-- 140520590440528 -->\n",
       "<g class=\"node\" id=\"node17\"><title>140520590440528</title>\n",
       "<polygon fill=\"none\" points=\"-0.5,-149 -0.5,-185 322.5,-185 322.5,-149 -0.5,-149\" stroke=\"black\"/>\n",
       "<text font-family=\"Times,serif\" font-size=\"14.00\" text-anchor=\"middle\" x=\"161\" y=\"-163.3\">global_average_pooling2d_1: GlobalAveragePooling2D</text>\n",
       "</g>\n",
       "<!-- 140520628928144&#45;&gt;140520590440528 -->\n",
       "<g class=\"edge\" id=\"edge15\"><title>140520628928144-&gt;140520590440528</title>\n",
       "<path d=\"M161,-222.937C161,-214.807 161,-204.876 161,-195.705\" fill=\"none\" stroke=\"black\"/>\n",
       "<polygon fill=\"black\" points=\"164.5,-195.441 161,-185.441 157.5,-195.441 164.5,-195.441\" stroke=\"black\"/>\n",
       "</g>\n",
       "<!-- 140520625842832 -->\n",
       "<g class=\"node\" id=\"node16\"><title>140520625842832</title>\n",
       "<polygon fill=\"none\" points=\"340.5,-149 340.5,-185 465.5,-185 465.5,-149 340.5,-149\" stroke=\"black\"/>\n",
       "<text font-family=\"Times,serif\" font-size=\"14.00\" text-anchor=\"middle\" x=\"403\" y=\"-163.3\">input_3: InputLayer</text>\n",
       "</g>\n",
       "<!-- 140520625351952 -->\n",
       "<g class=\"node\" id=\"node18\"><title>140520625351952</title>\n",
       "<polygon fill=\"none\" points=\"242,-75 242,-111 322,-111 322,-75 242,-75\" stroke=\"black\"/>\n",
       "<text font-family=\"Times,serif\" font-size=\"14.00\" text-anchor=\"middle\" x=\"282\" y=\"-89.3\">add_1: Add</text>\n",
       "</g>\n",
       "<!-- 140520625842832&#45;&gt;140520625351952 -->\n",
       "<g class=\"edge\" id=\"edge16\"><title>140520625842832-&gt;140520625351952</title>\n",
       "<path d=\"M374.325,-148.937C358.018,-139.234 337.4,-126.966 319.787,-116.485\" fill=\"none\" stroke=\"black\"/>\n",
       "<polygon fill=\"black\" points=\"321.272,-113.296 310.889,-111.19 317.693,-119.311 321.272,-113.296\" stroke=\"black\"/>\n",
       "</g>\n",
       "<!-- 140520590440528&#45;&gt;140520625351952 -->\n",
       "<g class=\"edge\" id=\"edge17\"><title>140520590440528-&gt;140520625351952</title>\n",
       "<path d=\"M189.675,-148.937C205.982,-139.234 226.6,-126.966 244.213,-116.485\" fill=\"none\" stroke=\"black\"/>\n",
       "<polygon fill=\"black\" points=\"246.307,-119.311 253.111,-111.19 242.728,-113.296 246.307,-119.311\" stroke=\"black\"/>\n",
       "</g>\n",
       "<!-- 140520630531024 -->\n",
       "<g class=\"node\" id=\"node19\"><title>140520630531024</title>\n",
       "<polygon fill=\"none\" points=\"208,-1 208,-37 356,-37 356,-1 208,-1\" stroke=\"black\"/>\n",
       "<text font-family=\"Times,serif\" font-size=\"14.00\" text-anchor=\"middle\" x=\"282\" y=\"-15.3\">activation_1: Activation</text>\n",
       "</g>\n",
       "<!-- 140520625351952&#45;&gt;140520630531024 -->\n",
       "<g class=\"edge\" id=\"edge18\"><title>140520625351952-&gt;140520630531024</title>\n",
       "<path d=\"M282,-74.937C282,-66.8072 282,-56.8761 282,-47.7047\" fill=\"none\" stroke=\"black\"/>\n",
       "<polygon fill=\"black\" points=\"285.5,-47.4406 282,-37.4407 278.5,-47.4407 285.5,-47.4406\" stroke=\"black\"/>\n",
       "</g>\n",
       "</g>\n",
       "</svg>"
      ],
      "text/plain": [
       "<IPython.core.display.SVG object>"
      ]
     },
     "execution_count": 180,
     "metadata": {},
     "output_type": "execute_result"
    }
   ],
   "source": [
    "from IPython.display import SVG\n",
    "from keras.utils.vis_utils import model_to_dot\n",
    "\n",
    "SVG(model_to_dot(model_with_distance).create(prog='dot', format='svg'))"
   ]
  },
  {
   "cell_type": "code",
   "execution_count": 181,
   "metadata": {},
   "outputs": [
    {
     "name": "stdout",
     "output_type": "stream",
     "text": [
      "Train on 1973 samples, validate on 498 samples\n",
      "Epoch 1/10\n",
      "1973/1973 [==============================] - 360s - loss: 0.5148 - acc: 0.7927 - val_loss: 0.5382 - val_acc: 0.8293\n",
      "Epoch 2/10\n",
      "1973/1973 [==============================] - 360s - loss: 0.2400 - acc: 0.9103 - val_loss: 0.5492 - val_acc: 0.7932\n",
      "Epoch 3/10\n",
      "1973/1973 [==============================] - 360s - loss: 0.1937 - acc: 0.9295 - val_loss: 0.3681 - val_acc: 0.8675\n",
      "Epoch 4/10\n",
      "1973/1973 [==============================] - 361s - loss: 0.1480 - acc: 0.9473 - val_loss: 0.3283 - val_acc: 0.8936\n",
      "Epoch 5/10\n",
      "1973/1973 [==============================] - 360s - loss: 0.1280 - acc: 0.9488 - val_loss: 0.2730 - val_acc: 0.9217\n",
      "Epoch 6/10\n",
      "1973/1973 [==============================] - 360s - loss: 0.1152 - acc: 0.9559 - val_loss: 1.1954 - val_acc: 0.4940\n",
      "Epoch 7/10\n",
      "1973/1973 [==============================] - 360s - loss: 0.0870 - acc: 0.9686 - val_loss: 0.2679 - val_acc: 0.9116\n",
      "Epoch 8/10\n",
      "1973/1973 [==============================] - 360s - loss: 0.0828 - acc: 0.9655 - val_loss: 0.2082 - val_acc: 0.9237\n",
      "Epoch 9/10\n",
      "1973/1973 [==============================] - 360s - loss: 0.0751 - acc: 0.9747 - val_loss: 1.4392 - val_acc: 0.5683\n",
      "Epoch 10/10\n",
      "1973/1973 [==============================] - 361s - loss: 0.0716 - acc: 0.9711 - val_loss: 0.4128 - val_acc: 0.9056\n"
     ]
    },
    {
     "data": {
      "text/plain": [
       "<keras.callbacks.History at 0x7fcd7e147210>"
      ]
     },
     "execution_count": 181,
     "metadata": {},
     "output_type": "execute_result"
    }
   ],
   "source": [
    "lr = 0.001\n",
    "K.set_value(model_with_distance.optimizer.lr, lr)\n",
    "\n",
    "model_with_distance.fit([np_train_crops, np_train_feature], np_train_class,\n",
    "          batch_size=32,\n",
    "          epochs=10,\n",
    "          validation_data=([np_valid_crops, np_valid_feature], np_valid_class))"
   ]
  },
  {
   "cell_type": "code",
   "execution_count": 182,
   "metadata": {},
   "outputs": [
    {
     "name": "stdout",
     "output_type": "stream",
     "text": [
      "Train on 1973 samples, validate on 498 samples\n",
      "Epoch 1/5\n",
      "1973/1973 [==============================] - 360s - loss: 0.0329 - acc: 0.9883 - val_loss: 0.1615 - val_acc: 0.9458\n",
      "Epoch 2/5\n",
      "1973/1973 [==============================] - 363s - loss: 0.0208 - acc: 0.9929 - val_loss: 0.1590 - val_acc: 0.9518\n",
      "Epoch 3/5\n",
      "1973/1973 [==============================] - 363s - loss: 0.0139 - acc: 0.9980 - val_loss: 0.1504 - val_acc: 0.9518\n",
      "Epoch 4/5\n",
      "1973/1973 [==============================] - 363s - loss: 0.0123 - acc: 0.9970 - val_loss: 0.1518 - val_acc: 0.9478\n",
      "Epoch 5/5\n",
      "1973/1973 [==============================] - 363s - loss: 0.0089 - acc: 0.9990 - val_loss: 0.1528 - val_acc: 0.9458\n"
     ]
    },
    {
     "data": {
      "text/plain": [
       "<keras.callbacks.History at 0x7fcd81fc5450>"
      ]
     },
     "execution_count": 182,
     "metadata": {},
     "output_type": "execute_result"
    }
   ],
   "source": [
    "lr = 0.0001\n",
    "K.set_value(model_with_distance.optimizer.lr, lr)\n",
    "\n",
    "model_with_distance.fit([np_train_crops, np_train_feature], np_train_class,\n",
    "          batch_size=32,\n",
    "          epochs=5,\n",
    "          validation_data=([np_valid_crops, np_valid_feature], np_valid_class))"
   ]
  },
  {
   "cell_type": "code",
   "execution_count": 183,
   "metadata": {},
   "outputs": [
    {
     "name": "stdout",
     "output_type": "stream",
     "text": [
      "Train on 1973 samples, validate on 498 samples\n",
      "Epoch 1/3\n",
      "1973/1973 [==============================] - 363s - loss: 0.0082 - acc: 0.9980 - val_loss: 0.1582 - val_acc: 0.9538\n",
      "Epoch 2/3\n",
      "1973/1973 [==============================] - 363s - loss: 0.0059 - acc: 0.9990 - val_loss: 0.1484 - val_acc: 0.9478\n",
      "Epoch 3/3\n",
      "1973/1973 [==============================] - 363s - loss: 0.0051 - acc: 0.9995 - val_loss: 0.1686 - val_acc: 0.9498\n"
     ]
    },
    {
     "data": {
      "text/plain": [
       "<keras.callbacks.History at 0x7fcd6e8a7b10>"
      ]
     },
     "execution_count": 183,
     "metadata": {},
     "output_type": "execute_result"
    }
   ],
   "source": [
    "lr = 0.0001\n",
    "K.set_value(model_with_distance.optimizer.lr, lr)\n",
    "\n",
    "model_with_distance.fit([np_train_crops, np_train_feature], np_train_class,\n",
    "          batch_size=32,\n",
    "          epochs=3,\n",
    "          validation_data=([np_valid_crops, np_valid_feature], np_valid_class))"
   ]
  },
  {
   "cell_type": "code",
   "execution_count": 184,
   "metadata": {},
   "outputs": [
    {
     "name": "stdout",
     "output_type": "stream",
     "text": [
      "Train on 1973 samples, validate on 498 samples\n",
      "Epoch 1/3\n",
      "1973/1973 [==============================] - 363s - loss: 0.0030 - acc: 1.0000 - val_loss: 0.1640 - val_acc: 0.9478\n",
      "Epoch 2/3\n",
      "1973/1973 [==============================] - 363s - loss: 0.0020 - acc: 1.0000 - val_loss: 0.1636 - val_acc: 0.9538\n",
      "Epoch 3/3\n",
      "1973/1973 [==============================] - 363s - loss: 0.0037 - acc: 1.0000 - val_loss: 0.1624 - val_acc: 0.9518\n"
     ]
    },
    {
     "data": {
      "text/plain": [
       "<keras.callbacks.History at 0x7fcd7e147890>"
      ]
     },
     "execution_count": 184,
     "metadata": {},
     "output_type": "execute_result"
    }
   ],
   "source": [
    "lr = 0.00001\n",
    "K.set_value(model_with_distance.optimizer.lr, lr)\n",
    "\n",
    "model_with_distance.fit([np_train_crops, np_train_feature], np_train_class,\n",
    "          batch_size=32,\n",
    "          epochs=3,\n",
    "          validation_data=([np_valid_crops, np_valid_feature], np_valid_class))"
   ]
  },
  {
   "cell_type": "markdown",
   "metadata": {},
   "source": [
    "No better than without distance."
   ]
  },
  {
   "cell_type": "code",
   "execution_count": 185,
   "metadata": {
    "collapsed": true
   },
   "outputs": [],
   "source": [
    "# mph dropout change\n",
    "\n",
    "p = 0.3\n",
    "\n",
    "classifier_input = Input(shape=input_shape)\n",
    "dist2land_input = Input(shape=(1,))\n",
    "\n",
    "x = Conv2D(32, (3, 3), activation='relu', padding='same')(classifier_input)\n",
    "x = MaxPooling2D()(x)\n",
    "x = Conv2D(64, (3, 3), activation='relu', padding='same')(x)\n",
    "x = MaxPooling2D()(x)   # REMOVED MAX POOLING FOR VISUALISATION\n",
    "x = Conv2D(64, (3, 3), activation='relu', padding='same')(x)\n",
    "\n",
    "# # Following based on https://github.com/asmith26/courses/blob/master/deeplearning1/nbs/lesson7.ipynb\n",
    "x = BatchNormalization(axis=-1)(x)\n",
    "x = Conv2D(64,(3,3), activation='relu', padding='same')(x)\n",
    "x = BatchNormalization(axis=-1)(x)\n",
    "x = MaxPooling2D()(x)   # REMOVED MAX POOLING FOR VISUALISATION\n",
    "x = Conv2D(64,(3,3), activation='relu', padding='same')(x)\n",
    "x = BatchNormalization(axis=-1)(x)\n",
    "x = MaxPooling2D()(x)   # REMOVED MAX POOLING FOR VISUALISATION\n",
    "x = Conv2D(3,(3,3), padding='same')(x)\n",
    "x = Dropout(p)(x)\n",
    "x = GlobalAveragePooling2D()(x)\n",
    "m = Add()([dist2land_input, x])\n",
    "out = Activation('softmax')(m)\n",
    "\n",
    "\n",
    "model_with_distance = Model(inputs=[classifier_input, dist2land_input], outputs=out)\n",
    "model_with_distance.compile(optimizer='rmsprop', loss='categorical_crossentropy', metrics=['accuracy'])"
   ]
  },
  {
   "cell_type": "code",
   "execution_count": 188,
   "metadata": {},
   "outputs": [
    {
     "name": "stdout",
     "output_type": "stream",
     "text": [
      "Train on 1973 samples, validate on 498 samples\n",
      "Epoch 1/10\n",
      "1973/1973 [==============================] - 362s - loss: 0.4040 - acc: 0.8490 - val_loss: 0.5614 - val_acc: 0.7912\n",
      "Epoch 2/10\n",
      "1973/1973 [==============================] - 368s - loss: 0.2957 - acc: 0.8880 - val_loss: 0.5169 - val_acc: 0.8112\n",
      "Epoch 3/10\n",
      "1973/1973 [==============================] - 370s - loss: 0.2114 - acc: 0.9169 - val_loss: 0.4058 - val_acc: 0.8554\n",
      "Epoch 4/10\n",
      "1973/1973 [==============================] - 363s - loss: 0.1878 - acc: 0.9290 - val_loss: 0.3357 - val_acc: 0.8835\n",
      "Epoch 5/10\n",
      "1973/1973 [==============================] - 363s - loss: 0.1664 - acc: 0.9346 - val_loss: 0.2082 - val_acc: 0.9297\n",
      "Epoch 6/10\n",
      "1973/1973 [==============================] - 364s - loss: 0.1423 - acc: 0.9518 - val_loss: 0.2494 - val_acc: 0.9217\n",
      "Epoch 7/10\n",
      "1973/1973 [==============================] - 362s - loss: 0.1253 - acc: 0.9574 - val_loss: 0.1941 - val_acc: 0.9378\n",
      "Epoch 8/10\n",
      "1973/1973 [==============================] - 363s - loss: 0.1032 - acc: 0.9635 - val_loss: 0.4130 - val_acc: 0.8293\n",
      "Epoch 9/10\n",
      "1973/1973 [==============================] - 374s - loss: 0.0988 - acc: 0.9630 - val_loss: 0.2886 - val_acc: 0.9056\n",
      "Epoch 10/10\n",
      "1973/1973 [==============================] - 360s - loss: 0.0833 - acc: 0.9752 - val_loss: 0.3081 - val_acc: 0.9197\n"
     ]
    },
    {
     "data": {
      "text/plain": [
       "<keras.callbacks.History at 0x7fcc449b4a90>"
      ]
     },
     "execution_count": 188,
     "metadata": {},
     "output_type": "execute_result"
    }
   ],
   "source": [
    "lr = 0.001\n",
    "K.set_value(model_with_distance.optimizer.lr, lr)\n",
    "\n",
    "model_with_distance.fit([np_train_crops, np_train_feature], np_train_class,\n",
    "          batch_size=32,\n",
    "          epochs=10,\n",
    "          validation_data=([np_valid_crops, np_valid_feature], np_valid_class))"
   ]
  },
  {
   "cell_type": "code",
   "execution_count": 189,
   "metadata": {},
   "outputs": [
    {
     "name": "stdout",
     "output_type": "stream",
     "text": [
      "Train on 1973 samples, validate on 498 samples\n",
      "Epoch 1/5\n",
      "1973/1973 [==============================] - 360s - loss: 0.0558 - acc: 0.9792 - val_loss: 0.1339 - val_acc: 0.9518\n",
      "Epoch 2/5\n",
      "1973/1973 [==============================] - 361s - loss: 0.0299 - acc: 0.9919 - val_loss: 0.1309 - val_acc: 0.9498\n",
      "Epoch 3/5\n",
      "1973/1973 [==============================] - 361s - loss: 0.0239 - acc: 0.9939 - val_loss: 0.1241 - val_acc: 0.9598\n",
      "Epoch 4/5\n",
      "1973/1973 [==============================] - 361s - loss: 0.0192 - acc: 0.9949 - val_loss: 0.1397 - val_acc: 0.9498\n",
      "Epoch 5/5\n",
      "1973/1973 [==============================] - 361s - loss: 0.0164 - acc: 0.9965 - val_loss: 0.1207 - val_acc: 0.9578\n"
     ]
    },
    {
     "data": {
      "text/plain": [
       "<keras.callbacks.History at 0x7fcd81feacd0>"
      ]
     },
     "execution_count": 189,
     "metadata": {},
     "output_type": "execute_result"
    }
   ],
   "source": [
    "lr = 0.0001\n",
    "K.set_value(model_with_distance.optimizer.lr, lr)\n",
    "\n",
    "model_with_distance.fit([np_train_crops, np_train_feature], np_train_class,\n",
    "          batch_size=32,\n",
    "          epochs=5,\n",
    "          validation_data=([np_valid_crops, np_valid_feature], np_valid_class))"
   ]
  },
  {
   "cell_type": "code",
   "execution_count": null,
   "metadata": {
    "collapsed": true
   },
   "outputs": [],
   "source": []
  }
 ],
 "metadata": {
  "kernelspec": {
   "display_name": "Python 2",
   "language": "python",
   "name": "python2"
  },
  "language_info": {
   "codemirror_mode": {
    "name": "ipython",
    "version": 2
   },
   "file_extension": ".py",
   "mimetype": "text/x-python",
   "name": "python",
   "nbconvert_exporter": "python",
   "pygments_lexer": "ipython2",
   "version": "2.7.6"
  }
 },
 "nbformat": 4,
 "nbformat_minor": 2
}
