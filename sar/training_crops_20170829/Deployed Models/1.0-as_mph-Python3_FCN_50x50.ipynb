{
 "cells": [
  {
   "cell_type": "code",
   "execution_count": 1,
   "metadata": {},
   "outputs": [
    {
     "name": "stderr",
     "output_type": "stream",
     "text": [
      "Using TensorFlow backend.\n"
     ]
    },
    {
     "name": "stdout",
     "output_type": "stream",
     "text": [
      "2.0.7\n",
      "0.19.0\n",
      "2.0.0\n",
      "1.12.1\n"
     ]
    }
   ],
   "source": [
    "import matplotlib.pyplot as plt \n",
    "import scipy.misc\n",
    "import json\n",
    "\n",
    "import numpy as np\n",
    "from keras.layers import Dense, Dropout, Flatten, Input, Conv2D, Cropping2D\n",
    "from keras.layers import MaxPooling2D, ZeroPadding2D, BatchNormalization, Activation, merge, GlobalAveragePooling2D\n",
    "from keras.layers.merge import Add, Multiply, Average, Maximum, Concatenate, Dot\n",
    "from keras.models import Model\n",
    "from keras.utils.layer_utils import print_summary\n",
    "from keras.preprocessing.image import ImageDataGenerator\n",
    "from keras import backend as K\n",
    "from scipy.misc import imread\n",
    "\n",
    "from keras import __version__ as kv\n",
    "from scipy import __version__ as sv\n",
    "from matplotlib import __version__ as mv\n",
    "from numpy import __version__ as nv\n",
    "\n",
    "print(kv)\n",
    "print(sv) \n",
    "print(mv) \n",
    "print(nv) "
   ]
  },
  {
   "cell_type": "code",
   "execution_count": 2,
   "metadata": {},
   "outputs": [
    {
     "data": {
      "text/html": [
       "<script>requirejs.config({paths: { 'plotly': ['https://cdn.plot.ly/plotly-latest.min']},});if(!window.Plotly) {{require(['plotly'],function(plotly) {window.Plotly=plotly;});}}</script>"
      ],
      "text/vnd.plotly.v1+html": [
       "<script>requirejs.config({paths: { 'plotly': ['https://cdn.plot.ly/plotly-latest.min']},});if(!window.Plotly) {{require(['plotly'],function(plotly) {window.Plotly=plotly;});}}</script>"
      ]
     },
     "metadata": {},
     "output_type": "display_data"
    }
   ],
   "source": [
    "# Local files\n",
    "import utils_python3\n",
    "#reload(utils_python3)"
   ]
  },
  {
   "cell_type": "markdown",
   "metadata": {},
   "source": [
    "# Data"
   ]
  },
  {
   "cell_type": "markdown",
   "metadata": {},
   "source": [
    "### Config"
   ]
  },
  {
   "cell_type": "code",
   "execution_count": 3,
   "metadata": {
    "collapsed": true
   },
   "outputs": [],
   "source": [
    "trained_model_dir = '/home/ubuntu/data/sar/training_crops_20170829/trained_models/deployed_models/'\n",
    "train_dir = '/home/ubuntu/data/sar/training_crops_20170829/train/50x50/'\n",
    "valid_dir = '/home/ubuntu/data/sar/training_crops_20170829/validate/50x50/'"
   ]
  },
  {
   "cell_type": "code",
   "execution_count": 4,
   "metadata": {
    "collapsed": true
   },
   "outputs": [],
   "source": [
    "input_shape = (50, 50, 1)\n",
    "num_classes = 3"
   ]
  },
  {
   "cell_type": "markdown",
   "metadata": {},
   "source": [
    "### Split training_crops json into train and validate"
   ]
  },
  {
   "cell_type": "markdown",
   "metadata": {},
   "source": [
    "Done in 1.0-mph_kjd_as-Python3_binary_classifier_all_data_turbine.ipynb"
   ]
  },
  {
   "cell_type": "markdown",
   "metadata": {},
   "source": [
    "### Add dist2land feature and tif images"
   ]
  },
  {
   "cell_type": "code",
   "execution_count": 5,
   "metadata": {
    "collapsed": true
   },
   "outputs": [],
   "source": [
    "train_crops, train_filename, train_feature, train_class, \\\n",
    "valid_crops, valid_filename, valid_feature, valid_class = utils_python3.add_dist2land_training_crops_20170829_multiclass_tif(\"50x50\")"
   ]
  },
  {
   "cell_type": "code",
   "execution_count": 6,
   "metadata": {},
   "outputs": [
    {
     "name": "stdout",
     "output_type": "stream",
     "text": [
      "training crops: 10188\n",
      "training features: 10188\n",
      "validation crops: 1503\n",
      "validation features: 1503\n",
      "<class 'list'> <class 'numpy.ndarray'> (50, 50)\n"
     ]
    }
   ],
   "source": [
    "print(\"training crops:\", len(train_crops))\n",
    "print(\"training features:\", len(train_feature))\n",
    "print(\"validation crops:\", len(valid_crops))\n",
    "print(\"validation features:\", len(valid_feature))\n",
    "print(type(train_crops), type(train_crops[0]), train_crops[0].shape)"
   ]
  },
  {
   "cell_type": "markdown",
   "metadata": {},
   "source": [
    "Quick check:"
   ]
  },
  {
   "cell_type": "code",
   "execution_count": 7,
   "metadata": {},
   "outputs": [
    {
     "data": {
      "text/plain": [
       "array([[ 0.00407717,  0.00321221,  0.00303865, ...,  0.00504239,\n",
       "         0.00521006,  0.0055742 ],\n",
       "       [ 0.00453106,  0.00531132,  0.00632853, ...,  0.00418724,\n",
       "         0.0040013 ,  0.00386663],\n",
       "       [ 0.00590981,  0.00694606,  0.00764601, ...,  0.00673527,\n",
       "         0.00627679,  0.00559333],\n",
       "       ..., \n",
       "       [ 0.00467838,  0.00386155,  0.00341007, ...,  0.00236371,\n",
       "         0.00253099,  0.00375735],\n",
       "       [ 0.00584291,  0.0041344 ,  0.00361631, ...,  0.00153991,\n",
       "         0.0021265 ,  0.00341969],\n",
       "       [ 0.00331553,  0.00252496,  0.00264986, ...,  0.00178681,\n",
       "         0.00266987,  0.00356604]], dtype=float32)"
      ]
     },
     "execution_count": 7,
     "metadata": {},
     "output_type": "execute_result"
    }
   ],
   "source": [
    "train_crops[0]"
   ]
  },
  {
   "cell_type": "code",
   "execution_count": 8,
   "metadata": {},
   "outputs": [
    {
     "name": "stdout",
     "output_type": "stream",
     "text": [
      "S1A_IW_GRDH_1SDV_20160916T062919_20160916T062944_013074_014BBB_C1EF_terrain_correction_1.tif [1, 0, 0]\n"
     ]
    },
    {
     "data": {
      "image/png": "[encoded data removed]",
      "text/plain": [
       "<matplotlib.figure.Figure at 0x7f20f12c7f98>"
      ]
     },
     "metadata": {},
     "output_type": "display_data"
    }
   ],
   "source": [
    "print(train_filename[0], train_class[0])\n",
    "plt.imshow( train_crops[0], cmap='pink')\n",
    "plt.show()"
   ]
  },
  {
   "cell_type": "code",
   "execution_count": 9,
   "metadata": {},
   "outputs": [
    {
     "name": "stdout",
     "output_type": "stream",
     "text": [
      "S1B_IW_GRDH_1SDV_20170508T174026_20170508T174051_005510_009A76_5D98_terrain_correction_559.tif [0, 1, 0]\n"
     ]
    },
    {
     "data": {
      "image/png": "[encoded data removed]",
      "text/plain": [
       "<matplotlib.figure.Figure at 0x7f20f0b879e8>"
      ]
     },
     "metadata": {},
     "output_type": "display_data"
    }
   ],
   "source": [
    "print(train_filename[3000], train_class[3000])\n",
    "plt.imshow( train_crops[3000], cmap='pink')\n",
    "plt.show()"
   ]
  },
  {
   "cell_type": "code",
   "execution_count": 10,
   "metadata": {},
   "outputs": [
    {
     "name": "stdout",
     "output_type": "stream",
     "text": [
      "S1A_IW_GRDH_1SDV_20170526T174103_20170526T174128_016756_01BD64_D7CD_subset8_8.tif [0, 0, 1]\n"
     ]
    },
    {
     "data": {
      "image/png": "[encoded data removed]",
      "text/plain": [
       "<matplotlib.figure.Figure at 0x7f20f0bd9b70>"
      ]
     },
     "metadata": {},
     "output_type": "display_data"
    }
   ],
   "source": [
    "print(train_filename[10000], train_class[10000])\n",
    "plt.imshow( train_crops[10000], cmap='pink')\n",
    "plt.show()"
   ]
  },
  {
   "cell_type": "code",
   "execution_count": 11,
   "metadata": {
    "collapsed": true
   },
   "outputs": [],
   "source": [
    "# Reshape for keras format\n",
    "np_train_class = np.array(train_class)\n",
    "np_train_filename = np.array(train_filename)\n",
    "np_train_crops = np.array(train_crops)\n",
    "np_train_feature = np.array(train_feature)\n",
    "\n",
    "np_valid_class = np.array(valid_class)\n",
    "np_valid_filename = np.array(valid_filename)\n",
    "np_valid_crops = np.array(valid_crops)\n",
    "np_valid_feature = np.array(valid_feature)\n",
    "\n",
    "np_train_crops = np.expand_dims(np_train_crops, axis=3)\n",
    "np_train_feature = np.expand_dims(np_train_feature, axis=1)\n",
    "\n",
    "np_valid_crops = np.expand_dims(np_valid_crops, axis=3)\n",
    "np_valid_feature = np.expand_dims(np_valid_feature, axis=1)"
   ]
  },
  {
   "cell_type": "code",
   "execution_count": 12,
   "metadata": {},
   "outputs": [
    {
     "name": "stdout",
     "output_type": "stream",
     "text": [
      "(10188, 50, 50, 1)\n",
      "(10188, 1)\n",
      "(10188, 3)\n",
      "(1503, 50, 50, 1)\n",
      "(1503, 1)\n",
      "(1503, 3)\n"
     ]
    }
   ],
   "source": [
    "print(np_train_crops.shape)\n",
    "print(np_train_feature.shape)\n",
    "print(np_train_class.shape)\n",
    "print(np_valid_crops.shape)\n",
    "print(np_valid_feature.shape)\n",
    "print(np_valid_class.shape)"
   ]
  },
  {
   "cell_type": "markdown",
   "metadata": {},
   "source": [
    "# Experiments"
   ]
  },
  {
   "cell_type": "markdown",
   "metadata": {},
   "source": [
    "with distance"
   ]
  },
  {
   "cell_type": "code",
   "execution_count": 13,
   "metadata": {
    "collapsed": true
   },
   "outputs": [],
   "source": [
    "p = 0\n",
    "\n",
    "classifier_input = Input(shape=input_shape)\n",
    "dist2land_input = Input(shape=(1,))\n",
    "\n",
    "x = Conv2D(32, (3, 3), activation='relu', padding='same')(classifier_input)\n",
    "x = MaxPooling2D()(x)\n",
    "x = Conv2D(64, (3, 3), activation='relu', padding='same')(x)\n",
    "x = MaxPooling2D()(x)   # REMOVED MAX POOLING FOR VISUALISATION\n",
    "x = Conv2D(64, (3, 3), activation='relu', padding='same')(x)\n",
    "\n",
    "# # Following based on https://github.com/asmith26/courses/blob/master/deeplearning1/nbs/lesson7.ipynb\n",
    "x = BatchNormalization(axis=-1)(x)\n",
    "x = Conv2D(64,(3,3), activation='relu', padding='same')(x)\n",
    "x = BatchNormalization(axis=-1)(x)\n",
    "x = MaxPooling2D()(x)   # REMOVED MAX POOLING FOR VISUALISATION\n",
    "x = Conv2D(64,(3,3), activation='relu', padding='same')(x)\n",
    "x = BatchNormalization(axis=-1)(x)\n",
    "x = MaxPooling2D()(x)   # REMOVED MAX POOLING FOR VISUALISATION\n",
    "x = Conv2D(3,(3,3), padding='same')(x)\n",
    "x = Dropout(p)(x)\n",
    "x = GlobalAveragePooling2D()(x)\n",
    "m = Add()([dist2land_input, x])\n",
    "out = Activation('softmax')(m)\n",
    "\n",
    "\n",
    "model_with_distance = Model(inputs=[classifier_input, dist2land_input], outputs=out)\n",
    "model_with_distance.compile(optimizer='rmsprop', loss='categorical_crossentropy', metrics=['accuracy'])"
   ]
  },
  {
   "cell_type": "code",
   "execution_count": 14,
   "metadata": {},
   "outputs": [
    {
     "name": "stdout",
     "output_type": "stream",
     "text": [
      "____________________________________________________________________________________________________\n",
      "Layer (type)                     Output Shape          Param #     Connected to                     \n",
      "====================================================================================================\n",
      "input_1 (InputLayer)             (None, 50, 50, 1)     0                                            \n",
      "____________________________________________________________________________________________________\n",
      "conv2d_1 (Conv2D)                (None, 50, 50, 32)    320         input_1[0][0]                    \n",
      "____________________________________________________________________________________________________\n",
      "max_pooling2d_1 (MaxPooling2D)   (None, 25, 25, 32)    0           conv2d_1[0][0]                   \n",
      "____________________________________________________________________________________________________\n",
      "conv2d_2 (Conv2D)                (None, 25, 25, 64)    18496       max_pooling2d_1[0][0]            \n",
      "____________________________________________________________________________________________________\n",
      "max_pooling2d_2 (MaxPooling2D)   (None, 12, 12, 64)    0           conv2d_2[0][0]                   \n",
      "____________________________________________________________________________________________________\n",
      "conv2d_3 (Conv2D)                (None, 12, 12, 64)    36928       max_pooling2d_2[0][0]            \n",
      "____________________________________________________________________________________________________\n",
      "batch_normalization_1 (BatchNorm (None, 12, 12, 64)    256         conv2d_3[0][0]                   \n",
      "____________________________________________________________________________________________________\n",
      "conv2d_4 (Conv2D)                (None, 12, 12, 64)    36928       batch_normalization_1[0][0]      \n",
      "____________________________________________________________________________________________________\n",
      "batch_normalization_2 (BatchNorm (None, 12, 12, 64)    256         conv2d_4[0][0]                   \n",
      "____________________________________________________________________________________________________\n",
      "max_pooling2d_3 (MaxPooling2D)   (None, 6, 6, 64)      0           batch_normalization_2[0][0]      \n",
      "____________________________________________________________________________________________________\n",
      "conv2d_5 (Conv2D)                (None, 6, 6, 64)      36928       max_pooling2d_3[0][0]            \n",
      "____________________________________________________________________________________________________\n",
      "batch_normalization_3 (BatchNorm (None, 6, 6, 64)      256         conv2d_5[0][0]                   \n",
      "____________________________________________________________________________________________________\n",
      "max_pooling2d_4 (MaxPooling2D)   (None, 3, 3, 64)      0           batch_normalization_3[0][0]      \n",
      "____________________________________________________________________________________________________\n",
      "conv2d_6 (Conv2D)                (None, 3, 3, 3)       1731        max_pooling2d_4[0][0]            \n",
      "____________________________________________________________________________________________________\n",
      "dropout_1 (Dropout)              (None, 3, 3, 3)       0           conv2d_6[0][0]                   \n",
      "____________________________________________________________________________________________________\n",
      "input_2 (InputLayer)             (None, 1)             0                                            \n",
      "____________________________________________________________________________________________________\n",
      "global_average_pooling2d_1 (Glob (None, 3)             0           dropout_1[0][0]                  \n",
      "____________________________________________________________________________________________________\n",
      "add_1 (Add)                      (None, 3)             0           input_2[0][0]                    \n",
      "                                                                   global_average_pooling2d_1[0][0] \n",
      "____________________________________________________________________________________________________\n",
      "activation_1 (Activation)        (None, 3)             0           add_1[0][0]                      \n",
      "====================================================================================================\n",
      "Total params: 132,099\n",
      "Trainable params: 131,715\n",
      "Non-trainable params: 384\n",
      "____________________________________________________________________________________________________\n"
     ]
    }
   ],
   "source": [
    "model_with_distance.summary()"
   ]
  },
  {
   "cell_type": "code",
   "execution_count": 15,
   "metadata": {},
   "outputs": [
    {
     "name": "stdout",
     "output_type": "stream",
     "text": [
      "Train on 10188 samples, validate on 1503 samples\n",
      "Epoch 1/10\n",
      "10188/10188 [==============================] - 7s - loss: 0.2867 - acc: 0.8988 - val_loss: 0.9350 - val_acc: 0.5289\n",
      "Epoch 2/10\n",
      "10188/10188 [==============================] - 6s - loss: 0.1284 - acc: 0.9546 - val_loss: 0.5483 - val_acc: 0.7478\n",
      "Epoch 3/10\n",
      "10188/10188 [==============================] - 6s - loss: 0.0978 - acc: 0.9638 - val_loss: 0.1966 - val_acc: 0.9355\n",
      "Epoch 4/10\n",
      "10188/10188 [==============================] - 6s - loss: 0.0814 - acc: 0.9716 - val_loss: 0.3022 - val_acc: 0.8902\n",
      "Epoch 5/10\n",
      "10188/10188 [==============================] - 6s - loss: 0.0695 - acc: 0.9756 - val_loss: 0.1163 - val_acc: 0.9601\n",
      "Epoch 6/10\n",
      "10188/10188 [==============================] - 6s - loss: 0.0565 - acc: 0.9807 - val_loss: 0.0580 - val_acc: 0.9820\n",
      "Epoch 7/10\n",
      "10188/10188 [==============================] - 6s - loss: 0.0498 - acc: 0.9819 - val_loss: 0.7277 - val_acc: 0.8170\n",
      "Epoch 8/10\n",
      "10188/10188 [==============================] - 6s - loss: 0.0493 - acc: 0.9823 - val_loss: 0.1930 - val_acc: 0.9295\n",
      "Epoch 9/10\n",
      "10188/10188 [==============================] - 6s - loss: 0.0375 - acc: 0.9864 - val_loss: 0.1795 - val_acc: 0.9441\n",
      "Epoch 10/10\n",
      "10188/10188 [==============================] - 6s - loss: 0.0372 - acc: 0.9866 - val_loss: 0.0872 - val_acc: 0.9727\n"
     ]
    },
    {
     "data": {
      "text/plain": [
       "<keras.callbacks.History at 0x7f20f0bd9978>"
      ]
     },
     "execution_count": 15,
     "metadata": {},
     "output_type": "execute_result"
    }
   ],
   "source": [
    "lr = 0.001\n",
    "K.set_value(model_with_distance.optimizer.lr, lr)\n",
    "\n",
    "model_with_distance.fit([np_train_crops, np_train_feature], np_train_class,\n",
    "          batch_size=32,\n",
    "          epochs=10,\n",
    "          validation_data=([np_valid_crops, np_valid_feature], np_valid_class))"
   ]
  },
  {
   "cell_type": "code",
   "execution_count": 16,
   "metadata": {},
   "outputs": [
    {
     "name": "stdout",
     "output_type": "stream",
     "text": [
      "Train on 10188 samples, validate on 1503 samples\n",
      "Epoch 1/10\n",
      "10188/10188 [==============================] - 6s - loss: 0.0121 - acc: 0.9962 - val_loss: 0.0331 - val_acc: 0.9920\n",
      "Epoch 2/10\n",
      "10188/10188 [==============================] - 6s - loss: 0.0077 - acc: 0.9976 - val_loss: 0.0369 - val_acc: 0.9887\n",
      "Epoch 3/10\n",
      "10188/10188 [==============================] - 6s - loss: 0.0071 - acc: 0.9981 - val_loss: 0.0372 - val_acc: 0.9874\n",
      "Epoch 4/10\n",
      "10188/10188 [==============================] - 6s - loss: 0.0054 - acc: 0.9983 - val_loss: 0.0375 - val_acc: 0.9914\n",
      "Epoch 5/10\n",
      "10188/10188 [==============================] - 6s - loss: 0.0046 - acc: 0.9985 - val_loss: 0.0424 - val_acc: 0.9920\n",
      "Epoch 6/10\n",
      "10188/10188 [==============================] - 6s - loss: 0.0040 - acc: 0.9988 - val_loss: 0.0378 - val_acc: 0.9894\n",
      "Epoch 7/10\n",
      "10188/10188 [==============================] - 6s - loss: 0.0031 - acc: 0.9990 - val_loss: 0.0406 - val_acc: 0.9914\n",
      "Epoch 8/10\n",
      "10188/10188 [==============================] - 6s - loss: 0.0032 - acc: 0.9993 - val_loss: 0.0417 - val_acc: 0.9914\n",
      "Epoch 9/10\n",
      "10188/10188 [==============================] - 6s - loss: 0.0027 - acc: 0.9990 - val_loss: 0.0342 - val_acc: 0.9914\n",
      "Epoch 10/10\n",
      "10188/10188 [==============================] - 6s - loss: 0.0019 - acc: 0.9997 - val_loss: 0.0365 - val_acc: 0.9914\n"
     ]
    },
    {
     "data": {
      "text/plain": [
       "<keras.callbacks.History at 0x7f20eeb4bef0>"
      ]
     },
     "execution_count": 16,
     "metadata": {},
     "output_type": "execute_result"
    }
   ],
   "source": [
    "lr = 0.0001\n",
    "K.set_value(model_with_distance.optimizer.lr, lr)\n",
    "\n",
    "model_with_distance.fit([np_train_crops, np_train_feature], np_train_class,\n",
    "          batch_size=32,\n",
    "          epochs=10,\n",
    "          validation_data=([np_valid_crops, np_valid_feature], np_valid_class))"
   ]
  },
  {
   "cell_type": "markdown",
   "metadata": {
    "collapsed": true
   },
   "source": [
    "### Save model"
   ]
  },
  {
   "cell_type": "code",
   "execution_count": 17,
   "metadata": {
    "collapsed": true
   },
   "outputs": [],
   "source": [
    "model_with_distance.save(trained_model_dir+'/1.0-as_mph-Python3_FCN_50x50__full.h5')"
   ]
  },
  {
   "cell_type": "code",
   "execution_count": 18,
   "metadata": {
    "collapsed": true
   },
   "outputs": [],
   "source": [
    "model_json = model_with_distance.to_json()\n",
    "\n",
    "with open(trained_model_dir+'/1.0-as_mph-Python3_FCN_50x50__architecture_only.json', 'w') as outfile:\n",
    "    json.dump(model_json, outfile)"
   ]
  },
  {
   "cell_type": "code",
   "execution_count": 19,
   "metadata": {
    "collapsed": true
   },
   "outputs": [],
   "source": [
    "model_with_distance.save_weights(trained_model_dir+'/1.0-as_mph-Python3_FCN_50x50__weights_only.h5')"
   ]
  }
 ],
 "metadata": {
  "kernelspec": {
   "display_name": "Python 3",
   "language": "python",
   "name": "python3"
  },
  "language_info": {
   "codemirror_mode": {
    "name": "ipython",
    "version": 3
   },
   "file_extension": ".py",
   "mimetype": "text/x-python",
   "name": "python",
   "nbconvert_exporter": "python",
   "pygments_lexer": "ipython3",
   "version": "3.4.3"
  }
 },
 "nbformat": 4,
 "nbformat_minor": 2
}
