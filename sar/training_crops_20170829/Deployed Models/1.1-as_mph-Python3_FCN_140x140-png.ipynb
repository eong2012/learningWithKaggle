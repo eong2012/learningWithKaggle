{
 "cells": [
  {
   "cell_type": "code",
   "execution_count": 1,
   "metadata": {},
   "outputs": [
    {
     "name": "stderr",
     "output_type": "stream",
     "text": [
      "Using TensorFlow backend.\n"
     ]
    },
    {
     "name": "stdout",
     "output_type": "stream",
     "text": [
      "2.0.7\n",
      "0.19.0\n",
      "2.0.0\n",
      "1.12.1\n"
     ]
    }
   ],
   "source": [
    "import matplotlib.pyplot as plt \n",
    "import scipy.misc\n",
    "import json\n",
    "\n",
    "import numpy as np\n",
    "from keras.layers import Dense, Dropout, Flatten, Input, Conv2D, Cropping2D\n",
    "from keras.layers import MaxPooling2D, ZeroPadding2D, BatchNormalization, Activation, merge, GlobalAveragePooling2D\n",
    "from keras.layers.merge import Add, Multiply, Average, Maximum, Concatenate, Dot\n",
    "from keras.models import Model\n",
    "from keras.utils.layer_utils import print_summary\n",
    "from keras.preprocessing.image import ImageDataGenerator\n",
    "from keras import backend as K\n",
    "from scipy.misc import imread\n",
    "\n",
    "from keras import __version__ as kv\n",
    "from scipy import __version__ as sv\n",
    "from matplotlib import __version__ as mv\n",
    "from numpy import __version__ as nv\n",
    "\n",
    "print(kv)\n",
    "print(sv) \n",
    "print(mv) \n",
    "print(nv) "
   ]
  },
  {
   "cell_type": "code",
   "execution_count": 2,
   "metadata": {},
   "outputs": [
    {
     "data": {
      "text/html": [
       "<script>requirejs.config({paths: { 'plotly': ['https://cdn.plot.ly/plotly-latest.min']},});if(!window.Plotly) {{require(['plotly'],function(plotly) {window.Plotly=plotly;});}}</script>"
      ],
      "text/vnd.plotly.v1+html": [
       "<script>requirejs.config({paths: { 'plotly': ['https://cdn.plot.ly/plotly-latest.min']},});if(!window.Plotly) {{require(['plotly'],function(plotly) {window.Plotly=plotly;});}}</script>"
      ]
     },
     "metadata": {},
     "output_type": "display_data"
    }
   ],
   "source": [
    "# Local files\n",
    "import utils_python3\n",
    "#reload(utils_python3)"
   ]
  },
  {
   "cell_type": "markdown",
   "metadata": {},
   "source": [
    "# Data"
   ]
  },
  {
   "cell_type": "markdown",
   "metadata": {},
   "source": [
    "### Config"
   ]
  },
  {
   "cell_type": "code",
   "execution_count": 3,
   "metadata": {
    "collapsed": true
   },
   "outputs": [],
   "source": [
    "trained_model_dir = '/home/ubuntu/data/sar/training_crops_20170829/trained_models/deployed_models/'\n",
    "train_dir = '/home/ubuntu/data/sar/training_crops_20170829/train/140x140/'\n",
    "valid_dir = '/home/ubuntu/data/sar/training_crops_20170829/validate/140x140/'"
   ]
  },
  {
   "cell_type": "code",
   "execution_count": 4,
   "metadata": {
    "collapsed": true
   },
   "outputs": [],
   "source": [
    "input_shape = (140, 140, 1)\n",
    "num_classes = 3"
   ]
  },
  {
   "cell_type": "markdown",
   "metadata": {},
   "source": [
    "### Split training_crops json into train and validate"
   ]
  },
  {
   "cell_type": "markdown",
   "metadata": {},
   "source": [
    "Done in 1.0-mph_kjd_as-Python3_binary_classifier_all_data_turbine.ipynb"
   ]
  },
  {
   "cell_type": "markdown",
   "metadata": {},
   "source": [
    "### convert 140 tif to png"
   ]
  },
  {
   "cell_type": "code",
   "execution_count": 6,
   "metadata": {},
   "outputs": [
    {
     "name": "stdout",
     "output_type": "stream",
     "text": [
      "/home/ubuntu/data/sar/training_crops_20170829/train/140x140/oil_and_gas_infrastructure/ 1756\n",
      "/home/ubuntu/data/sar/training_crops_20170829/train/140x140/oil_and_gas_infrastructure/ 1756 3512\n",
      "/home/ubuntu/data/sar/training_crops_20170829/train/140x140/other/ 2234\n",
      "/home/ubuntu/data/sar/training_crops_20170829/train/140x140/other/ 2234 4468\n",
      "/home/ubuntu/data/sar/training_crops_20170829/train/140x140/turbine/ 6198\n",
      "/home/ubuntu/data/sar/training_crops_20170829/train/140x140/turbine/ 6198 12396\n"
     ]
    }
   ],
   "source": [
    "utils_python3.tif2png(src_dir=train_dir+\"oil_and_gas_infrastructure/\", dest_dir=train_dir+\"oil_and_gas_infrastructure/\")\n",
    "utils_python3.tif2png(src_dir=train_dir+\"other/\", dest_dir=train_dir+\"other/\")\n",
    "utils_python3.tif2png(src_dir=train_dir+\"turbine/\", dest_dir=train_dir+\"turbine/\")"
   ]
  },
  {
   "cell_type": "code",
   "execution_count": 7,
   "metadata": {},
   "outputs": [
    {
     "name": "stdout",
     "output_type": "stream",
     "text": [
      "/home/ubuntu/data/sar/training_crops_20170829/validate/140x140/oil_and_gas_infrastructure/ 501\n",
      "/home/ubuntu/data/sar/training_crops_20170829/validate/140x140/oil_and_gas_infrastructure/ 501 1002\n",
      "/home/ubuntu/data/sar/training_crops_20170829/validate/140x140/other/ 501\n",
      "/home/ubuntu/data/sar/training_crops_20170829/validate/140x140/other/ 501 1002\n",
      "/home/ubuntu/data/sar/training_crops_20170829/validate/140x140/turbine/ 501\n",
      "/home/ubuntu/data/sar/training_crops_20170829/validate/140x140/turbine/ 501 1002\n"
     ]
    }
   ],
   "source": [
    "utils_python3.tif2png(src_dir=valid_dir+\"oil_and_gas_infrastructure/\", dest_dir=valid_dir+\"oil_and_gas_infrastructure/\")\n",
    "utils_python3.tif2png(src_dir=valid_dir+\"other/\", dest_dir=valid_dir+\"other/\")\n",
    "utils_python3.tif2png(src_dir=valid_dir+\"turbine/\", dest_dir=valid_dir+\"turbine/\")"
   ]
  },
  {
   "cell_type": "markdown",
   "metadata": {},
   "source": [
    "### Add dist2land feature and png images"
   ]
  },
  {
   "cell_type": "code",
   "execution_count": 8,
   "metadata": {},
   "outputs": [],
   "source": [
    "train_crops, train_filename, train_feature, train_class, \\\n",
    "valid_crops, valid_filename, valid_feature, valid_class = utils_python3.add_dist2land_training_crops_20170829_multiclass(\"140x140\")"
   ]
  },
  {
   "cell_type": "code",
   "execution_count": 9,
   "metadata": {},
   "outputs": [
    {
     "name": "stdout",
     "output_type": "stream",
     "text": [
      "training crops: 10188\n",
      "training features: 10188\n",
      "validation crops: 1503\n",
      "validation features: 1503\n",
      "<class 'list'> <class 'numpy.ndarray'> (140, 140)\n"
     ]
    }
   ],
   "source": [
    "print(\"training crops:\", len(train_crops))\n",
    "print(\"training features:\", len(train_feature))\n",
    "print(\"validation crops:\", len(valid_crops))\n",
    "print(\"validation features:\", len(valid_feature))\n",
    "print(type(train_crops), type(train_crops[0]), train_crops[0].shape)"
   ]
  },
  {
   "cell_type": "markdown",
   "metadata": {},
   "source": [
    "Quick check:"
   ]
  },
  {
   "cell_type": "code",
   "execution_count": 10,
   "metadata": {},
   "outputs": [
    {
     "data": {
      "text/plain": [
       "array([[1, 1, 1, ..., 1, 1, 1],\n",
       "       [1, 2, 2, ..., 1, 1, 1],\n",
       "       [1, 2, 2, ..., 1, 1, 1],\n",
       "       ..., \n",
       "       [1, 1, 2, ..., 2, 1, 1],\n",
       "       [1, 1, 2, ..., 2, 1, 1],\n",
       "       [1, 1, 1, ..., 1, 1, 1]], dtype=uint8)"
      ]
     },
     "execution_count": 10,
     "metadata": {},
     "output_type": "execute_result"
    }
   ],
   "source": [
    "train_crops[0]"
   ]
  },
  {
   "cell_type": "code",
   "execution_count": 11,
   "metadata": {},
   "outputs": [
    {
     "name": "stdout",
     "output_type": "stream",
     "text": [
      "S1B_IW_GRDH_1SDV_20161219T055720_20161219T055745_003461_005E99_C129_terrain_correction_5.png [1, 0, 0]\n"
     ]
    },
    {
     "data": {
      "image/png": "[encoded data removed]",
      "text/plain": [
       "<matplotlib.figure.Figure at 0x7f47a429da90>"
      ]
     },
     "metadata": {},
     "output_type": "display_data"
    }
   ],
   "source": [
    "print(train_filename[0], train_class[0])\n",
    "plt.imshow( train_crops[0], cmap='pink')\n",
    "plt.show()"
   ]
  },
  {
   "cell_type": "code",
   "execution_count": 12,
   "metadata": {},
   "outputs": [
    {
     "name": "stdout",
     "output_type": "stream",
     "text": [
      "S1A_IW_GRDH_1SDV_20170502T174100_20170502T174125_016406_01B2B3_900F_terrain_correction_457.png [0, 1, 0]\n"
     ]
    },
    {
     "data": {
      "image/png": "[encoded data removed]",
      "text/plain": [
       "<matplotlib.figure.Figure at 0x7f47a3d95f98>"
      ]
     },
     "metadata": {},
     "output_type": "display_data"
    }
   ],
   "source": [
    "print(train_filename[3000], train_class[3000])\n",
    "plt.imshow( train_crops[3000], cmap='pink')\n",
    "plt.show()"
   ]
  },
  {
   "cell_type": "code",
   "execution_count": 13,
   "metadata": {},
   "outputs": [
    {
     "name": "stdout",
     "output_type": "stream",
     "text": [
      "S1A_IW_GRDH_1SDV_20170530T233129_20170530T233154_016818_01BF4E_93DA_subset7_18.png [0, 0, 1]\n"
     ]
    },
    {
     "data": {
      "image/png": "[encoded data removed]",
      "text/plain": [
       "<matplotlib.figure.Figure at 0x7f47a1b187f0>"
      ]
     },
     "metadata": {},
     "output_type": "display_data"
    }
   ],
   "source": [
    "print(train_filename[10000], train_class[10000])\n",
    "plt.imshow( train_crops[10000], cmap='pink')\n",
    "plt.show()"
   ]
  },
  {
   "cell_type": "code",
   "execution_count": 14,
   "metadata": {
    "collapsed": true
   },
   "outputs": [],
   "source": [
    "# Reshape for keras format\n",
    "np_train_class = np.array(train_class)\n",
    "np_train_filename = np.array(train_filename)\n",
    "np_train_crops = np.array(train_crops)\n",
    "np_train_feature = np.array(train_feature)\n",
    "\n",
    "np_valid_class = np.array(valid_class)\n",
    "np_valid_filename = np.array(valid_filename)\n",
    "np_valid_crops = np.array(valid_crops)\n",
    "np_valid_feature = np.array(valid_feature)\n",
    "\n",
    "np_train_crops = np.expand_dims(np_train_crops, axis=3)\n",
    "np_train_feature = np.expand_dims(np_train_feature, axis=1)\n",
    "\n",
    "np_valid_crops = np.expand_dims(np_valid_crops, axis=3)\n",
    "np_valid_feature = np.expand_dims(np_valid_feature, axis=1)"
   ]
  },
  {
   "cell_type": "code",
   "execution_count": 15,
   "metadata": {},
   "outputs": [
    {
     "name": "stdout",
     "output_type": "stream",
     "text": [
      "(10188, 140, 140, 1)\n",
      "(10188, 1)\n",
      "(10188, 3)\n",
      "(1503, 140, 140, 1)\n",
      "(1503, 1)\n",
      "(1503, 3)\n"
     ]
    }
   ],
   "source": [
    "print(np_train_crops.shape)\n",
    "print(np_train_feature.shape)\n",
    "print(np_train_class.shape)\n",
    "print(np_valid_crops.shape)\n",
    "print(np_valid_feature.shape)\n",
    "print(np_valid_class.shape)"
   ]
  },
  {
   "cell_type": "markdown",
   "metadata": {},
   "source": [
    "# Experiments"
   ]
  },
  {
   "cell_type": "markdown",
   "metadata": {},
   "source": [
    "with distance"
   ]
  },
  {
   "cell_type": "code",
   "execution_count": 16,
   "metadata": {
    "collapsed": true
   },
   "outputs": [],
   "source": [
    "p = 0\n",
    "\n",
    "classifier_input = Input(shape=input_shape)\n",
    "dist2land_input = Input(shape=(1,))\n",
    "\n",
    "x = Conv2D(32, (3, 3), activation='relu', padding='same')(classifier_input)\n",
    "x = MaxPooling2D()(x)\n",
    "x = Conv2D(64, (3, 3), activation='relu', padding='same')(x)\n",
    "x = MaxPooling2D()(x)   # REMOVED MAX POOLING FOR VISUALISATION\n",
    "x = Conv2D(64, (3, 3), activation='relu', padding='same')(x)\n",
    "\n",
    "# # Following based on https://github.com/asmith26/courses/blob/master/deeplearning1/nbs/lesson7.ipynb\n",
    "x = BatchNormalization(axis=-1)(x)\n",
    "x = Conv2D(64,(3,3), activation='relu', padding='same')(x)\n",
    "x = BatchNormalization(axis=-1)(x)\n",
    "x = MaxPooling2D()(x)   # REMOVED MAX POOLING FOR VISUALISATION\n",
    "x = Conv2D(64,(3,3), activation='relu', padding='same')(x)\n",
    "x = BatchNormalization(axis=-1)(x)\n",
    "x = MaxPooling2D()(x)   # REMOVED MAX POOLING FOR VISUALISATION\n",
    "x = Conv2D(3,(3,3), padding='same')(x)\n",
    "x = Dropout(p)(x)\n",
    "x = GlobalAveragePooling2D()(x)\n",
    "m = Add()([dist2land_input, x])\n",
    "out = Activation('softmax')(m)\n",
    "\n",
    "\n",
    "model_with_distance = Model(inputs=[classifier_input, dist2land_input], outputs=out)\n",
    "model_with_distance.compile(optimizer='rmsprop', loss='categorical_crossentropy', metrics=['accuracy'])"
   ]
  },
  {
   "cell_type": "code",
   "execution_count": 17,
   "metadata": {},
   "outputs": [
    {
     "name": "stdout",
     "output_type": "stream",
     "text": [
      "____________________________________________________________________________________________________\n",
      "Layer (type)                     Output Shape          Param #     Connected to                     \n",
      "====================================================================================================\n",
      "input_1 (InputLayer)             (None, 140, 140, 1)   0                                            \n",
      "____________________________________________________________________________________________________\n",
      "conv2d_1 (Conv2D)                (None, 140, 140, 32)  320         input_1[0][0]                    \n",
      "____________________________________________________________________________________________________\n",
      "max_pooling2d_1 (MaxPooling2D)   (None, 70, 70, 32)    0           conv2d_1[0][0]                   \n",
      "____________________________________________________________________________________________________\n",
      "conv2d_2 (Conv2D)                (None, 70, 70, 64)    18496       max_pooling2d_1[0][0]            \n",
      "____________________________________________________________________________________________________\n",
      "max_pooling2d_2 (MaxPooling2D)   (None, 35, 35, 64)    0           conv2d_2[0][0]                   \n",
      "____________________________________________________________________________________________________\n",
      "conv2d_3 (Conv2D)                (None, 35, 35, 64)    36928       max_pooling2d_2[0][0]            \n",
      "____________________________________________________________________________________________________\n",
      "batch_normalization_1 (BatchNorm (None, 35, 35, 64)    256         conv2d_3[0][0]                   \n",
      "____________________________________________________________________________________________________\n",
      "conv2d_4 (Conv2D)                (None, 35, 35, 64)    36928       batch_normalization_1[0][0]      \n",
      "____________________________________________________________________________________________________\n",
      "batch_normalization_2 (BatchNorm (None, 35, 35, 64)    256         conv2d_4[0][0]                   \n",
      "____________________________________________________________________________________________________\n",
      "max_pooling2d_3 (MaxPooling2D)   (None, 17, 17, 64)    0           batch_normalization_2[0][0]      \n",
      "____________________________________________________________________________________________________\n",
      "conv2d_5 (Conv2D)                (None, 17, 17, 64)    36928       max_pooling2d_3[0][0]            \n",
      "____________________________________________________________________________________________________\n",
      "batch_normalization_3 (BatchNorm (None, 17, 17, 64)    256         conv2d_5[0][0]                   \n",
      "____________________________________________________________________________________________________\n",
      "max_pooling2d_4 (MaxPooling2D)   (None, 8, 8, 64)      0           batch_normalization_3[0][0]      \n",
      "____________________________________________________________________________________________________\n",
      "conv2d_6 (Conv2D)                (None, 8, 8, 3)       1731        max_pooling2d_4[0][0]            \n",
      "____________________________________________________________________________________________________\n",
      "dropout_1 (Dropout)              (None, 8, 8, 3)       0           conv2d_6[0][0]                   \n",
      "____________________________________________________________________________________________________\n",
      "input_2 (InputLayer)             (None, 1)             0                                            \n",
      "____________________________________________________________________________________________________\n",
      "global_average_pooling2d_1 (Glob (None, 3)             0           dropout_1[0][0]                  \n",
      "____________________________________________________________________________________________________\n",
      "add_1 (Add)                      (None, 3)             0           input_2[0][0]                    \n",
      "                                                                   global_average_pooling2d_1[0][0] \n",
      "____________________________________________________________________________________________________\n",
      "activation_1 (Activation)        (None, 3)             0           add_1[0][0]                      \n",
      "====================================================================================================\n",
      "Total params: 132,099\n",
      "Trainable params: 131,715\n",
      "Non-trainable params: 384\n",
      "____________________________________________________________________________________________________\n"
     ]
    }
   ],
   "source": [
    "model_with_distance.summary()"
   ]
  },
  {
   "cell_type": "code",
   "execution_count": 18,
   "metadata": {},
   "outputs": [
    {
     "name": "stdout",
     "output_type": "stream",
     "text": [
      "Train on 10188 samples, validate on 1503 samples\n",
      "Epoch 1/10\n",
      "10188/10188 [==============================] - 29s - loss: 0.2773 - acc: 0.8938 - val_loss: 0.8584 - val_acc: 0.6973\n",
      "Epoch 2/10\n",
      "10188/10188 [==============================] - 28s - loss: 0.1481 - acc: 0.9473 - val_loss: 0.4124 - val_acc: 0.8490\n",
      "Epoch 3/10\n",
      "10188/10188 [==============================] - 28s - loss: 0.1141 - acc: 0.9575 - val_loss: 0.1439 - val_acc: 0.9521\n",
      "Epoch 4/10\n",
      "10188/10188 [==============================] - 28s - loss: 0.0918 - acc: 0.9688 - val_loss: 0.1594 - val_acc: 0.9481\n",
      "Epoch 5/10\n",
      "10188/10188 [==============================] - 28s - loss: 0.0766 - acc: 0.9743 - val_loss: 0.3876 - val_acc: 0.8989\n",
      "Epoch 6/10\n",
      "10188/10188 [==============================] - 28s - loss: 0.0687 - acc: 0.9755 - val_loss: 0.2005 - val_acc: 0.9395\n",
      "Epoch 7/10\n",
      "10188/10188 [==============================] - 28s - loss: 0.0573 - acc: 0.9807 - val_loss: 0.1070 - val_acc: 0.9654\n",
      "Epoch 8/10\n",
      "10188/10188 [==============================] - 28s - loss: 0.0499 - acc: 0.9819 - val_loss: 0.1030 - val_acc: 0.9721\n",
      "Epoch 9/10\n",
      "10188/10188 [==============================] - 28s - loss: 0.0463 - acc: 0.9843 - val_loss: 0.4172 - val_acc: 0.9002\n",
      "Epoch 10/10\n",
      "10188/10188 [==============================] - 28s - loss: 0.0400 - acc: 0.9859 - val_loss: 0.1647 - val_acc: 0.9561\n"
     ]
    },
    {
     "data": {
      "text/plain": [
       "<keras.callbacks.History at 0x7f47a1b543c8>"
      ]
     },
     "execution_count": 18,
     "metadata": {},
     "output_type": "execute_result"
    }
   ],
   "source": [
    "lr = 0.001\n",
    "K.set_value(model_with_distance.optimizer.lr, lr)\n",
    "\n",
    "model_with_distance.fit([np_train_crops, np_train_feature], np_train_class,\n",
    "          batch_size=32,\n",
    "          epochs=10,\n",
    "          validation_data=([np_valid_crops, np_valid_feature], np_valid_class))"
   ]
  },
  {
   "cell_type": "code",
   "execution_count": 19,
   "metadata": {},
   "outputs": [
    {
     "name": "stdout",
     "output_type": "stream",
     "text": [
      "Train on 10188 samples, validate on 1503 samples\n",
      "Epoch 1/10\n",
      "10188/10188 [==============================] - 28s - loss: 0.0159 - acc: 0.9949 - val_loss: 0.0825 - val_acc: 0.9834\n",
      "Epoch 2/10\n",
      "10188/10188 [==============================] - 28s - loss: 0.0103 - acc: 0.9965 - val_loss: 0.0790 - val_acc: 0.9814\n",
      "Epoch 3/10\n",
      "10188/10188 [==============================] - 28s - loss: 0.0074 - acc: 0.9981 - val_loss: 0.0808 - val_acc: 0.9814\n",
      "Epoch 4/10\n",
      "10188/10188 [==============================] - 28s - loss: 0.0062 - acc: 0.9983 - val_loss: 0.0835 - val_acc: 0.9820\n",
      "Epoch 5/10\n",
      "10188/10188 [==============================] - 28s - loss: 0.0043 - acc: 0.9991 - val_loss: 0.0828 - val_acc: 0.9814\n",
      "Epoch 6/10\n",
      "10188/10188 [==============================] - 28s - loss: 0.0031 - acc: 0.9992 - val_loss: 0.0916 - val_acc: 0.9820\n",
      "Epoch 7/10\n",
      "10188/10188 [==============================] - 28s - loss: 0.0026 - acc: 0.9995 - val_loss: 0.0940 - val_acc: 0.9827\n",
      "Epoch 8/10\n",
      "10188/10188 [==============================] - 28s - loss: 0.0017 - acc: 0.9998 - val_loss: 0.0885 - val_acc: 0.9820\n",
      "Epoch 9/10\n",
      "10188/10188 [==============================] - 28s - loss: 0.0013 - acc: 0.9999 - val_loss: 0.0911 - val_acc: 0.9820\n",
      "Epoch 10/10\n",
      "10188/10188 [==============================] - 28s - loss: 0.0014 - acc: 0.9998 - val_loss: 0.0841 - val_acc: 0.9854\n"
     ]
    },
    {
     "data": {
      "text/plain": [
       "<keras.callbacks.History at 0x7f47a1b145f8>"
      ]
     },
     "execution_count": 19,
     "metadata": {},
     "output_type": "execute_result"
    }
   ],
   "source": [
    "lr = 0.0001\n",
    "K.set_value(model_with_distance.optimizer.lr, lr)\n",
    "\n",
    "model_with_distance.fit([np_train_crops, np_train_feature], np_train_class,\n",
    "          batch_size=32,\n",
    "          epochs=10,\n",
    "          validation_data=([np_valid_crops, np_valid_feature], np_valid_class))"
   ]
  },
  {
   "cell_type": "markdown",
   "metadata": {
    "collapsed": true
   },
   "source": [
    "### Save model"
   ]
  },
  {
   "cell_type": "code",
   "execution_count": 20,
   "metadata": {
    "collapsed": true
   },
   "outputs": [],
   "source": [
    "model_with_distance.save(trained_model_dir+'/1.1-as_mph-Python3_FCN_140x140__full-png.h5')"
   ]
  },
  {
   "cell_type": "code",
   "execution_count": 21,
   "metadata": {
    "collapsed": true
   },
   "outputs": [],
   "source": [
    "model_json = model_with_distance.to_json()\n",
    "\n",
    "with open(trained_model_dir+'/1.1-as_mph-Python3_FCN_140x140__architecture_only-png.json', 'w') as outfile:\n",
    "    json.dump(model_json, outfile)"
   ]
  },
  {
   "cell_type": "code",
   "execution_count": 22,
   "metadata": {
    "collapsed": true
   },
   "outputs": [],
   "source": [
    "model_with_distance.save_weights(trained_model_dir+'/1.1-as_mph-Python3_FCN_140x140__weights_only-png.h5')"
   ]
  }
 ],
 "metadata": {
  "kernelspec": {
   "display_name": "Python 3",
   "language": "python",
   "name": "python3"
  },
  "language_info": {
   "codemirror_mode": {
    "name": "ipython",
    "version": 3
   },
   "file_extension": ".py",
   "mimetype": "text/x-python",
   "name": "python",
   "nbconvert_exporter": "python",
   "pygments_lexer": "ipython3",
   "version": "3.4.3"
  }
 },
 "nbformat": 4,
 "nbformat_minor": 2
}
