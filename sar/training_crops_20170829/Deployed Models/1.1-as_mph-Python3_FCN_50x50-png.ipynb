{
 "cells": [
  {
   "cell_type": "code",
   "execution_count": 1,
   "metadata": {},
   "outputs": [
    {
     "name": "stderr",
     "output_type": "stream",
     "text": [
      "Using TensorFlow backend.\n"
     ]
    },
    {
     "name": "stdout",
     "output_type": "stream",
     "text": [
      "2.0.7\n",
      "0.19.0\n",
      "2.0.0\n",
      "1.12.1\n"
     ]
    }
   ],
   "source": [
    "import matplotlib.pyplot as plt \n",
    "import scipy.misc\n",
    "import json\n",
    "\n",
    "import numpy as np\n",
    "from keras.layers import Dense, Dropout, Flatten, Input, Conv2D, Cropping2D\n",
    "from keras.layers import MaxPooling2D, ZeroPadding2D, BatchNormalization, Activation, merge, GlobalAveragePooling2D\n",
    "from keras.layers.merge import Add, Multiply, Average, Maximum, Concatenate, Dot\n",
    "from keras.models import Model\n",
    "from keras.utils.layer_utils import print_summary\n",
    "from keras.preprocessing.image import ImageDataGenerator\n",
    "from keras import backend as K\n",
    "from scipy.misc import imread\n",
    "\n",
    "from keras import __version__ as kv\n",
    "from scipy import __version__ as sv\n",
    "from matplotlib import __version__ as mv\n",
    "from numpy import __version__ as nv\n",
    "\n",
    "print(kv)\n",
    "print(sv) \n",
    "print(mv) \n",
    "print(nv) "
   ]
  },
  {
   "cell_type": "code",
   "execution_count": 2,
   "metadata": {},
   "outputs": [
    {
     "data": {
      "text/html": [
       "<script>requirejs.config({paths: { 'plotly': ['https://cdn.plot.ly/plotly-latest.min']},});if(!window.Plotly) {{require(['plotly'],function(plotly) {window.Plotly=plotly;});}}</script>"
      ],
      "text/vnd.plotly.v1+html": [
       "<script>requirejs.config({paths: { 'plotly': ['https://cdn.plot.ly/plotly-latest.min']},});if(!window.Plotly) {{require(['plotly'],function(plotly) {window.Plotly=plotly;});}}</script>"
      ]
     },
     "metadata": {},
     "output_type": "display_data"
    }
   ],
   "source": [
    "# Local files\n",
    "import utils_python3\n",
    "#reload(utils_python3)"
   ]
  },
  {
   "cell_type": "markdown",
   "metadata": {},
   "source": [
    "# Data"
   ]
  },
  {
   "cell_type": "markdown",
   "metadata": {},
   "source": [
    "### Config"
   ]
  },
  {
   "cell_type": "code",
   "execution_count": 3,
   "metadata": {
    "collapsed": true
   },
   "outputs": [],
   "source": [
    "trained_model_dir = '/home/ubuntu/data/sar/training_crops_20170829/trained_models/deployed_models/'\n",
    "train_dir = '/home/ubuntu/data/sar/training_crops_20170829/train/50x50/'\n",
    "valid_dir = '/home/ubuntu/data/sar/training_crops_20170829/validate/50x50/'"
   ]
  },
  {
   "cell_type": "code",
   "execution_count": 4,
   "metadata": {
    "collapsed": true
   },
   "outputs": [],
   "source": [
    "input_shape = (50, 50, 1)\n",
    "num_classes = 3"
   ]
  },
  {
   "cell_type": "markdown",
   "metadata": {},
   "source": [
    "### Split training_crops json into train and validate"
   ]
  },
  {
   "cell_type": "markdown",
   "metadata": {},
   "source": [
    "Done in 1.0-mph_kjd_as-Python3_binary_classifier_all_data_turbine.ipynb"
   ]
  },
  {
   "cell_type": "markdown",
   "metadata": {},
   "source": [
    "### Add dist2land feature and tif images"
   ]
  },
  {
   "cell_type": "code",
   "execution_count": 5,
   "metadata": {
    "collapsed": true
   },
   "outputs": [],
   "source": [
    "train_crops, train_filename, train_feature, train_class, \\\n",
    "valid_crops, valid_filename, valid_feature, valid_class = utils_python3.add_dist2land_training_crops_20170829_multiclass(\"50x50\")"
   ]
  },
  {
   "cell_type": "code",
   "execution_count": 6,
   "metadata": {},
   "outputs": [
    {
     "name": "stdout",
     "output_type": "stream",
     "text": [
      "training crops: 10188\n",
      "training features: 10188\n",
      "validation crops: 1503\n",
      "validation features: 1503\n",
      "<class 'list'> <class 'numpy.ndarray'> (50, 50)\n"
     ]
    }
   ],
   "source": [
    "print(\"training crops:\", len(train_crops))\n",
    "print(\"training features:\", len(train_feature))\n",
    "print(\"validation crops:\", len(valid_crops))\n",
    "print(\"validation features:\", len(valid_feature))\n",
    "print(type(train_crops), type(train_crops[0]), train_crops[0].shape)"
   ]
  },
  {
   "cell_type": "markdown",
   "metadata": {},
   "source": [
    "Quick check:"
   ]
  },
  {
   "cell_type": "code",
   "execution_count": 7,
   "metadata": {},
   "outputs": [
    {
     "data": {
      "text/plain": [
       "array([[ 1,  1,  2, ...,  2,  4,  5],\n",
       "       [ 4,  4,  5, ...,  3,  3,  4],\n",
       "       [10, 12, 13, ...,  2,  2,  2],\n",
       "       ..., \n",
       "       [ 2,  3,  3, ...,  1,  1,  1],\n",
       "       [ 3,  3,  2, ...,  3,  3,  4],\n",
       "       [ 2,  3,  5, ...,  5,  5,  6]], dtype=uint8)"
      ]
     },
     "execution_count": 7,
     "metadata": {},
     "output_type": "execute_result"
    }
   ],
   "source": [
    "train_crops[0]"
   ]
  },
  {
   "cell_type": "code",
   "execution_count": 8,
   "metadata": {},
   "outputs": [
    {
     "name": "stdout",
     "output_type": "stream",
     "text": [
      "S1A_IW_GRDH_1SDV_20170526T174153_20170526T174206_016756_01BD64_55E0_terrain_correction_29.png [1, 0, 0]\n"
     ]
    },
    {
     "data": {
      "image/png": "[encoded data removed]",
      "text/plain": [
       "<matplotlib.figure.Figure at 0x7fca51a284a8>"
      ]
     },
     "metadata": {},
     "output_type": "display_data"
    }
   ],
   "source": [
    "print(train_filename[0], train_class[0])\n",
    "plt.imshow( train_crops[0], cmap='pink')\n",
    "plt.show()"
   ]
  },
  {
   "cell_type": "code",
   "execution_count": 9,
   "metadata": {},
   "outputs": [
    {
     "name": "stdout",
     "output_type": "stream",
     "text": [
      "S1A_IW_GRDH_1SDV_20170403T062215_20170403T062240_015976_01A590_B685_terrain_correction_290.png [0, 1, 0]\n"
     ]
    },
    {
     "data": {
      "image/png": "[encoded data removed]",
      "text/plain": [
       "<matplotlib.figure.Figure at 0x7fca518a3048>"
      ]
     },
     "metadata": {},
     "output_type": "display_data"
    }
   ],
   "source": [
    "print(train_filename[3000], train_class[3000])\n",
    "plt.imshow( train_crops[3000], cmap='pink')\n",
    "plt.show()"
   ]
  },
  {
   "cell_type": "code",
   "execution_count": 10,
   "metadata": {},
   "outputs": [
    {
     "name": "stdout",
     "output_type": "stream",
     "text": [
      "S1A_IW_GRDH_1SDV_20170607T174104_20170607T174129_016931_01C2D4_E8F6_subset1_6.png [0, 0, 1]\n"
     ]
    },
    {
     "data": {
      "image/png": "[encoded data removed]",
      "text/plain": [
       "<matplotlib.figure.Figure at 0x7fca5190d7f0>"
      ]
     },
     "metadata": {},
     "output_type": "display_data"
    }
   ],
   "source": [
    "print(train_filename[10000], train_class[10000])\n",
    "plt.imshow( train_crops[10000], cmap='pink')\n",
    "plt.show()"
   ]
  },
  {
   "cell_type": "code",
   "execution_count": 11,
   "metadata": {
    "collapsed": true
   },
   "outputs": [],
   "source": [
    "# Reshape for keras format\n",
    "np_train_class = np.array(train_class)\n",
    "np_train_filename = np.array(train_filename)\n",
    "np_train_crops = np.array(train_crops)\n",
    "np_train_feature = np.array(train_feature)\n",
    "\n",
    "np_valid_class = np.array(valid_class)\n",
    "np_valid_filename = np.array(valid_filename)\n",
    "np_valid_crops = np.array(valid_crops)\n",
    "np_valid_feature = np.array(valid_feature)\n",
    "\n",
    "np_train_crops = np.expand_dims(np_train_crops, axis=3)\n",
    "np_train_feature = np.expand_dims(np_train_feature, axis=1)\n",
    "\n",
    "np_valid_crops = np.expand_dims(np_valid_crops, axis=3)\n",
    "np_valid_feature = np.expand_dims(np_valid_feature, axis=1)"
   ]
  },
  {
   "cell_type": "code",
   "execution_count": 12,
   "metadata": {},
   "outputs": [
    {
     "name": "stdout",
     "output_type": "stream",
     "text": [
      "(10188, 50, 50, 1)\n",
      "(10188, 1)\n",
      "(10188, 3)\n",
      "(1503, 50, 50, 1)\n",
      "(1503, 1)\n",
      "(1503, 3)\n"
     ]
    }
   ],
   "source": [
    "print(np_train_crops.shape)\n",
    "print(np_train_feature.shape)\n",
    "print(np_train_class.shape)\n",
    "print(np_valid_crops.shape)\n",
    "print(np_valid_feature.shape)\n",
    "print(np_valid_class.shape)"
   ]
  },
  {
   "cell_type": "markdown",
   "metadata": {},
   "source": [
    "# Experiments"
   ]
  },
  {
   "cell_type": "markdown",
   "metadata": {},
   "source": [
    "with distance"
   ]
  },
  {
   "cell_type": "code",
   "execution_count": 13,
   "metadata": {
    "collapsed": true
   },
   "outputs": [],
   "source": [
    "p = 0.5\n",
    "\n",
    "classifier_input = Input(shape=input_shape)\n",
    "dist2land_input = Input(shape=(1,))\n",
    "\n",
    "x = Conv2D(32, (3, 3), activation='relu', padding='same')(classifier_input)\n",
    "x = MaxPooling2D()(x)\n",
    "x = Conv2D(64, (3, 3), activation='relu', padding='same')(x)\n",
    "x = MaxPooling2D()(x)   # REMOVED MAX POOLING FOR VISUALISATION\n",
    "x = Conv2D(64, (3, 3), activation='relu', padding='same')(x)\n",
    "\n",
    "# # Following based on https://github.com/asmith26/courses/blob/master/deeplearning1/nbs/lesson7.ipynb\n",
    "x = BatchNormalization(axis=-1)(x)\n",
    "x = Conv2D(64,(3,3), activation='relu', padding='same')(x)\n",
    "x = BatchNormalization(axis=-1)(x)\n",
    "x = MaxPooling2D()(x)   # REMOVED MAX POOLING FOR VISUALISATION\n",
    "x = Conv2D(64,(3,3), activation='relu', padding='same')(x)\n",
    "x = BatchNormalization(axis=-1)(x)\n",
    "x = MaxPooling2D()(x)   # REMOVED MAX POOLING FOR VISUALISATION\n",
    "x = Conv2D(3,(3,3), padding='same')(x)\n",
    "x = Dropout(p)(x)\n",
    "x = GlobalAveragePooling2D()(x)\n",
    "m = Add()([dist2land_input, x])\n",
    "out = Activation('softmax')(m)\n",
    "\n",
    "\n",
    "model_with_distance = Model(inputs=[classifier_input, dist2land_input], outputs=out)\n",
    "model_with_distance.compile(optimizer='rmsprop', loss='categorical_crossentropy', metrics=['accuracy'])"
   ]
  },
  {
   "cell_type": "code",
   "execution_count": 14,
   "metadata": {},
   "outputs": [
    {
     "name": "stdout",
     "output_type": "stream",
     "text": [
      "____________________________________________________________________________________________________\n",
      "Layer (type)                     Output Shape          Param #     Connected to                     \n",
      "====================================================================================================\n",
      "input_1 (InputLayer)             (None, 50, 50, 1)     0                                            \n",
      "____________________________________________________________________________________________________\n",
      "conv2d_1 (Conv2D)                (None, 50, 50, 32)    320         input_1[0][0]                    \n",
      "____________________________________________________________________________________________________\n",
      "max_pooling2d_1 (MaxPooling2D)   (None, 25, 25, 32)    0           conv2d_1[0][0]                   \n",
      "____________________________________________________________________________________________________\n",
      "conv2d_2 (Conv2D)                (None, 25, 25, 64)    18496       max_pooling2d_1[0][0]            \n",
      "____________________________________________________________________________________________________\n",
      "max_pooling2d_2 (MaxPooling2D)   (None, 12, 12, 64)    0           conv2d_2[0][0]                   \n",
      "____________________________________________________________________________________________________\n",
      "conv2d_3 (Conv2D)                (None, 12, 12, 64)    36928       max_pooling2d_2[0][0]            \n",
      "____________________________________________________________________________________________________\n",
      "batch_normalization_1 (BatchNorm (None, 12, 12, 64)    256         conv2d_3[0][0]                   \n",
      "____________________________________________________________________________________________________\n",
      "conv2d_4 (Conv2D)                (None, 12, 12, 64)    36928       batch_normalization_1[0][0]      \n",
      "____________________________________________________________________________________________________\n",
      "batch_normalization_2 (BatchNorm (None, 12, 12, 64)    256         conv2d_4[0][0]                   \n",
      "____________________________________________________________________________________________________\n",
      "max_pooling2d_3 (MaxPooling2D)   (None, 6, 6, 64)      0           batch_normalization_2[0][0]      \n",
      "____________________________________________________________________________________________________\n",
      "conv2d_5 (Conv2D)                (None, 6, 6, 64)      36928       max_pooling2d_3[0][0]            \n",
      "____________________________________________________________________________________________________\n",
      "batch_normalization_3 (BatchNorm (None, 6, 6, 64)      256         conv2d_5[0][0]                   \n",
      "____________________________________________________________________________________________________\n",
      "max_pooling2d_4 (MaxPooling2D)   (None, 3, 3, 64)      0           batch_normalization_3[0][0]      \n",
      "____________________________________________________________________________________________________\n",
      "conv2d_6 (Conv2D)                (None, 3, 3, 3)       1731        max_pooling2d_4[0][0]            \n",
      "____________________________________________________________________________________________________\n",
      "dropout_1 (Dropout)              (None, 3, 3, 3)       0           conv2d_6[0][0]                   \n",
      "____________________________________________________________________________________________________\n",
      "input_2 (InputLayer)             (None, 1)             0                                            \n",
      "____________________________________________________________________________________________________\n",
      "global_average_pooling2d_1 (Glob (None, 3)             0           dropout_1[0][0]                  \n",
      "____________________________________________________________________________________________________\n",
      "add_1 (Add)                      (None, 3)             0           input_2[0][0]                    \n",
      "                                                                   global_average_pooling2d_1[0][0] \n",
      "____________________________________________________________________________________________________\n",
      "activation_1 (Activation)        (None, 3)             0           add_1[0][0]                      \n",
      "====================================================================================================\n",
      "Total params: 132,099\n",
      "Trainable params: 131,715\n",
      "Non-trainable params: 384\n",
      "____________________________________________________________________________________________________\n"
     ]
    }
   ],
   "source": [
    "model_with_distance.summary()"
   ]
  },
  {
   "cell_type": "code",
   "execution_count": 15,
   "metadata": {},
   "outputs": [
    {
     "name": "stdout",
     "output_type": "stream",
     "text": [
      "Train on 10188 samples, validate on 1503 samples\n",
      "Epoch 1/10\n",
      "10188/10188 [==============================] - 7s - loss: 0.3035 - acc: 0.8931 - val_loss: 0.3979 - val_acc: 0.8822\n",
      "Epoch 2/10\n",
      "10188/10188 [==============================] - 6s - loss: 0.1746 - acc: 0.9427 - val_loss: 0.2085 - val_acc: 0.9195\n",
      "Epoch 3/10\n",
      "10188/10188 [==============================] - 6s - loss: 0.1411 - acc: 0.9541 - val_loss: 0.2233 - val_acc: 0.9162\n",
      "Epoch 4/10\n",
      "10188/10188 [==============================] - 6s - loss: 0.1138 - acc: 0.9606 - val_loss: 0.6331 - val_acc: 0.8110\n",
      "Epoch 5/10\n",
      "10188/10188 [==============================] - 6s - loss: 0.1012 - acc: 0.9669 - val_loss: 0.1455 - val_acc: 0.9514\n",
      "Epoch 6/10\n",
      "10188/10188 [==============================] - 6s - loss: 0.0896 - acc: 0.9703 - val_loss: 0.1482 - val_acc: 0.9594\n",
      "Epoch 7/10\n",
      "10188/10188 [==============================] - 6s - loss: 0.0714 - acc: 0.9770 - val_loss: 0.2724 - val_acc: 0.9248\n",
      "Epoch 8/10\n",
      "10188/10188 [==============================] - 6s - loss: 0.0675 - acc: 0.9760 - val_loss: 0.2278 - val_acc: 0.9341\n",
      "Epoch 9/10\n",
      "10188/10188 [==============================] - 6s - loss: 0.0531 - acc: 0.9827 - val_loss: 0.2724 - val_acc: 0.9295\n",
      "Epoch 10/10\n",
      "10188/10188 [==============================] - 6s - loss: 0.0534 - acc: 0.9819 - val_loss: 0.1850 - val_acc: 0.9521\n"
     ]
    },
    {
     "data": {
      "text/plain": [
       "<keras.callbacks.History at 0x7fca254678d0>"
      ]
     },
     "execution_count": 15,
     "metadata": {},
     "output_type": "execute_result"
    }
   ],
   "source": [
    "lr = 0.001\n",
    "K.set_value(model_with_distance.optimizer.lr, lr)\n",
    "\n",
    "model_with_distance.fit([np_train_crops, np_train_feature], np_train_class,\n",
    "          batch_size=32,\n",
    "          epochs=10,\n",
    "          validation_data=([np_valid_crops, np_valid_feature], np_valid_class))"
   ]
  },
  {
   "cell_type": "code",
   "execution_count": 16,
   "metadata": {},
   "outputs": [
    {
     "name": "stdout",
     "output_type": "stream",
     "text": [
      "Train on 10188 samples, validate on 1503 samples\n",
      "Epoch 1/10\n",
      "10188/10188 [==============================] - 6s - loss: 0.0229 - acc: 0.9924 - val_loss: 0.0826 - val_acc: 0.9794\n",
      "Epoch 2/10\n",
      "10188/10188 [==============================] - 6s - loss: 0.0166 - acc: 0.9948 - val_loss: 0.0705 - val_acc: 0.9834\n",
      "Epoch 3/10\n",
      "10188/10188 [==============================] - 6s - loss: 0.0120 - acc: 0.9965 - val_loss: 0.0772 - val_acc: 0.9814\n",
      "Epoch 4/10\n",
      "10188/10188 [==============================] - 6s - loss: 0.0100 - acc: 0.9971 - val_loss: 0.0836 - val_acc: 0.9807\n",
      "Epoch 5/10\n",
      "10188/10188 [==============================] - 6s - loss: 0.0079 - acc: 0.9975 - val_loss: 0.0861 - val_acc: 0.9814\n",
      "Epoch 6/10\n",
      "10188/10188 [==============================] - 6s - loss: 0.0070 - acc: 0.9979 - val_loss: 0.0940 - val_acc: 0.9774\n",
      "Epoch 7/10\n",
      "10188/10188 [==============================] - 6s - loss: 0.0060 - acc: 0.9981 - val_loss: 0.0880 - val_acc: 0.9800\n",
      "Epoch 8/10\n",
      "10188/10188 [==============================] - 6s - loss: 0.0046 - acc: 0.9990 - val_loss: 0.0909 - val_acc: 0.9767\n",
      "Epoch 9/10\n",
      "10188/10188 [==============================] - 6s - loss: 0.0043 - acc: 0.9991 - val_loss: 0.0916 - val_acc: 0.9800\n",
      "Epoch 10/10\n",
      "10188/10188 [==============================] - 6s - loss: 0.0031 - acc: 0.9993 - val_loss: 0.0899 - val_acc: 0.9820\n"
     ]
    },
    {
     "data": {
      "text/plain": [
       "<keras.callbacks.History at 0x7fcac25497b8>"
      ]
     },
     "execution_count": 16,
     "metadata": {},
     "output_type": "execute_result"
    }
   ],
   "source": [
    "lr = 0.0001\n",
    "K.set_value(model_with_distance.optimizer.lr, lr)\n",
    "\n",
    "model_with_distance.fit([np_train_crops, np_train_feature], np_train_class,\n",
    "          batch_size=32,\n",
    "          epochs=10,\n",
    "          validation_data=([np_valid_crops, np_valid_feature], np_valid_class))"
   ]
  },
  {
   "cell_type": "code",
   "execution_count": 18,
   "metadata": {},
   "outputs": [
    {
     "name": "stdout",
     "output_type": "stream",
     "text": [
      "Train on 10188 samples, validate on 1503 samples\n",
      "Epoch 1/3\n",
      "10188/10188 [==============================] - 6s - loss: 0.0029 - acc: 0.9993 - val_loss: 0.0931 - val_acc: 0.9807\n",
      "Epoch 2/3\n",
      "10188/10188 [==============================] - 6s - loss: 0.0024 - acc: 0.9995 - val_loss: 0.0916 - val_acc: 0.9794\n",
      "Epoch 3/3\n",
      "10188/10188 [==============================] - 6s - loss: 0.0021 - acc: 0.9996 - val_loss: 0.0947 - val_acc: 0.9794\n"
     ]
    },
    {
     "data": {
      "text/plain": [
       "<keras.callbacks.History at 0x7fca24ec3ef0>"
      ]
     },
     "execution_count": 18,
     "metadata": {},
     "output_type": "execute_result"
    }
   ],
   "source": [
    "lr = 0.00001\n",
    "K.set_value(model_with_distance.optimizer.lr, lr)\n",
    "\n",
    "model_with_distance.fit([np_train_crops, np_train_feature], np_train_class,\n",
    "          batch_size=32,\n",
    "          epochs=3,\n",
    "          validation_data=([np_valid_crops, np_valid_feature], np_valid_class))"
   ]
  },
  {
   "cell_type": "markdown",
   "metadata": {},
   "source": [
    "### Dropout p = 0, Adam optimiser"
   ]
  },
  {
   "cell_type": "code",
   "execution_count": 19,
   "metadata": {
    "collapsed": true
   },
   "outputs": [],
   "source": [
    "p = 0\n",
    "\n",
    "classifier_input = Input(shape=input_shape)\n",
    "dist2land_input = Input(shape=(1,))\n",
    "\n",
    "x = Conv2D(32, (3, 3), activation='relu', padding='same')(classifier_input)\n",
    "x = MaxPooling2D()(x)\n",
    "x = Conv2D(64, (3, 3), activation='relu', padding='same')(x)\n",
    "x = MaxPooling2D()(x)   # REMOVED MAX POOLING FOR VISUALISATION\n",
    "x = Conv2D(64, (3, 3), activation='relu', padding='same')(x)\n",
    "\n",
    "# # Following based on https://github.com/asmith26/courses/blob/master/deeplearning1/nbs/lesson7.ipynb\n",
    "x = BatchNormalization(axis=-1)(x)\n",
    "x = Conv2D(64,(3,3), activation='relu', padding='same')(x)\n",
    "x = BatchNormalization(axis=-1)(x)\n",
    "x = MaxPooling2D()(x)   # REMOVED MAX POOLING FOR VISUALISATION\n",
    "x = Conv2D(64,(3,3), activation='relu', padding='same')(x)\n",
    "x = BatchNormalization(axis=-1)(x)\n",
    "x = MaxPooling2D()(x)   # REMOVED MAX POOLING FOR VISUALISATION\n",
    "x = Conv2D(3,(3,3), padding='same')(x)\n",
    "x = Dropout(p)(x)\n",
    "x = GlobalAveragePooling2D()(x)\n",
    "m = Add()([dist2land_input, x])\n",
    "out = Activation('softmax')(m)\n",
    "\n",
    "\n",
    "model_with_distance = Model(inputs=[classifier_input, dist2land_input], outputs=out)\n",
    "model_with_distance.compile(optimizer='Adam', loss='categorical_crossentropy', metrics=['accuracy'])"
   ]
  },
  {
   "cell_type": "code",
   "execution_count": 20,
   "metadata": {},
   "outputs": [
    {
     "name": "stdout",
     "output_type": "stream",
     "text": [
      "Train on 10188 samples, validate on 1503 samples\n",
      "Epoch 1/10\n",
      "10188/10188 [==============================] - 7s - loss: 0.2414 - acc: 0.9113 - val_loss: 0.2038 - val_acc: 0.9301\n",
      "Epoch 2/10\n",
      "10188/10188 [==============================] - 6s - loss: 0.1270 - acc: 0.9559 - val_loss: 0.1139 - val_acc: 0.9587\n",
      "Epoch 3/10\n",
      "10188/10188 [==============================] - 6s - loss: 0.0964 - acc: 0.9659 - val_loss: 0.3751 - val_acc: 0.8696\n",
      "Epoch 4/10\n",
      "10188/10188 [==============================] - 6s - loss: 0.0849 - acc: 0.9716 - val_loss: 0.1530 - val_acc: 0.9448\n",
      "Epoch 5/10\n",
      "10188/10188 [==============================] - 6s - loss: 0.0671 - acc: 0.9773 - val_loss: 0.1388 - val_acc: 0.9514\n",
      "Epoch 6/10\n",
      "10188/10188 [==============================] - 6s - loss: 0.0587 - acc: 0.9806 - val_loss: 0.1036 - val_acc: 0.9661\n",
      "Epoch 7/10\n",
      "10188/10188 [==============================] - 6s - loss: 0.0520 - acc: 0.9826 - val_loss: 0.1304 - val_acc: 0.9587\n",
      "Epoch 8/10\n",
      "10188/10188 [==============================] - 6s - loss: 0.0427 - acc: 0.9835 - val_loss: 0.1378 - val_acc: 0.9508\n",
      "Epoch 9/10\n",
      "10188/10188 [==============================] - 6s - loss: 0.0363 - acc: 0.9872 - val_loss: 0.1093 - val_acc: 0.9674\n",
      "Epoch 10/10\n",
      "10188/10188 [==============================] - 6s - loss: 0.0404 - acc: 0.9853 - val_loss: 0.1194 - val_acc: 0.9641\n"
     ]
    },
    {
     "data": {
      "text/plain": [
       "<keras.callbacks.History at 0x7fca07a74ba8>"
      ]
     },
     "execution_count": 20,
     "metadata": {},
     "output_type": "execute_result"
    }
   ],
   "source": [
    "lr = 0.001\n",
    "K.set_value(model_with_distance.optimizer.lr, lr)\n",
    "\n",
    "model_with_distance.fit([np_train_crops, np_train_feature], np_train_class,\n",
    "          batch_size=32,\n",
    "          epochs=10,\n",
    "          validation_data=([np_valid_crops, np_valid_feature], np_valid_class))"
   ]
  },
  {
   "cell_type": "code",
   "execution_count": 21,
   "metadata": {},
   "outputs": [
    {
     "name": "stdout",
     "output_type": "stream",
     "text": [
      "Train on 10188 samples, validate on 1503 samples\n",
      "Epoch 1/5\n",
      "10188/10188 [==============================] - 6s - loss: 0.0152 - acc: 0.9955 - val_loss: 0.0693 - val_acc: 0.9780\n",
      "Epoch 2/5\n",
      "10188/10188 [==============================] - 6s - loss: 0.0080 - acc: 0.9985 - val_loss: 0.0725 - val_acc: 0.9760\n",
      "Epoch 3/5\n",
      "10188/10188 [==============================] - 6s - loss: 0.0058 - acc: 0.9992 - val_loss: 0.0688 - val_acc: 0.9774\n",
      "Epoch 4/5\n",
      "10188/10188 [==============================] - 6s - loss: 0.0049 - acc: 0.9995 - val_loss: 0.0614 - val_acc: 0.9820\n",
      "Epoch 5/5\n",
      "10188/10188 [==============================] - 6s - loss: 0.0033 - acc: 1.0000 - val_loss: 0.0661 - val_acc: 0.9827\n"
     ]
    },
    {
     "data": {
      "text/plain": [
       "<keras.callbacks.History at 0x7fca0797a828>"
      ]
     },
     "execution_count": 21,
     "metadata": {},
     "output_type": "execute_result"
    }
   ],
   "source": [
    "lr = 0.0001\n",
    "K.set_value(model_with_distance.optimizer.lr, lr)\n",
    "\n",
    "model_with_distance.fit([np_train_crops, np_train_feature], np_train_class,\n",
    "          batch_size=32,\n",
    "          epochs=5,\n",
    "          validation_data=([np_valid_crops, np_valid_feature], np_valid_class))"
   ]
  },
  {
   "cell_type": "code",
   "execution_count": 22,
   "metadata": {},
   "outputs": [
    {
     "name": "stdout",
     "output_type": "stream",
     "text": [
      "Train on 10188 samples, validate on 1503 samples\n",
      "Epoch 1/5\n",
      "10188/10188 [==============================] - 6s - loss: 0.0026 - acc: 1.0000 - val_loss: 0.0661 - val_acc: 0.9820\n",
      "Epoch 2/5\n",
      "10188/10188 [==============================] - 6s - loss: 0.0027 - acc: 1.0000 - val_loss: 0.0652 - val_acc: 0.9827\n",
      "Epoch 3/5\n",
      "10188/10188 [==============================] - 6s - loss: 0.0026 - acc: 0.9998 - val_loss: 0.0659 - val_acc: 0.9820\n",
      "Epoch 4/5\n",
      "10188/10188 [==============================] - 6s - loss: 0.0026 - acc: 1.0000 - val_loss: 0.0658 - val_acc: 0.9827\n",
      "Epoch 5/5\n",
      "10188/10188 [==============================] - 6s - loss: 0.0024 - acc: 1.0000 - val_loss: 0.0651 - val_acc: 0.9820\n"
     ]
    },
    {
     "data": {
      "text/plain": [
       "<keras.callbacks.History at 0x7fca4f6b1cc0>"
      ]
     },
     "execution_count": 22,
     "metadata": {},
     "output_type": "execute_result"
    }
   ],
   "source": [
    "lr = 0.00001\n",
    "K.set_value(model_with_distance.optimizer.lr, lr)\n",
    "\n",
    "model_with_distance.fit([np_train_crops, np_train_feature], np_train_class,\n",
    "          batch_size=32,\n",
    "          epochs=5,\n",
    "          validation_data=([np_valid_crops, np_valid_feature], np_valid_class))"
   ]
  },
  {
   "cell_type": "markdown",
   "metadata": {},
   "source": [
    "## Dropout = 0.5, optimiser =Adam"
   ]
  },
  {
   "cell_type": "code",
   "execution_count": 23,
   "metadata": {
    "collapsed": true
   },
   "outputs": [],
   "source": [
    "p = 0.5\n",
    "\n",
    "classifier_input = Input(shape=input_shape)\n",
    "dist2land_input = Input(shape=(1,))\n",
    "\n",
    "x = Conv2D(32, (3, 3), activation='relu', padding='same')(classifier_input)\n",
    "x = MaxPooling2D()(x)\n",
    "x = Conv2D(64, (3, 3), activation='relu', padding='same')(x)\n",
    "x = MaxPooling2D()(x)   # REMOVED MAX POOLING FOR VISUALISATION\n",
    "x = Conv2D(64, (3, 3), activation='relu', padding='same')(x)\n",
    "\n",
    "# # Following based on https://github.com/asmith26/courses/blob/master/deeplearning1/nbs/lesson7.ipynb\n",
    "x = BatchNormalization(axis=-1)(x)\n",
    "x = Conv2D(64,(3,3), activation='relu', padding='same')(x)\n",
    "x = BatchNormalization(axis=-1)(x)\n",
    "x = MaxPooling2D()(x)   # REMOVED MAX POOLING FOR VISUALISATION\n",
    "x = Conv2D(64,(3,3), activation='relu', padding='same')(x)\n",
    "x = BatchNormalization(axis=-1)(x)\n",
    "x = MaxPooling2D()(x)   # REMOVED MAX POOLING FOR VISUALISATION\n",
    "x = Conv2D(3,(3,3), padding='same')(x)\n",
    "x = Dropout(p)(x)\n",
    "x = GlobalAveragePooling2D()(x)\n",
    "m = Add()([dist2land_input, x])\n",
    "out = Activation('softmax')(m)\n",
    "\n",
    "\n",
    "model_with_adam_dropout = Model(inputs=[classifier_input, dist2land_input], outputs=out)\n",
    "model_with_adam_dropout.compile(optimizer='Adam', loss='categorical_crossentropy', metrics=['accuracy'])"
   ]
  },
  {
   "cell_type": "code",
   "execution_count": 24,
   "metadata": {},
   "outputs": [
    {
     "name": "stdout",
     "output_type": "stream",
     "text": [
      "Train on 10188 samples, validate on 1503 samples\n",
      "Epoch 1/10\n",
      "10188/10188 [==============================] - 7s - loss: 0.2981 - acc: 0.8916 - val_loss: 0.3971 - val_acc: 0.8583\n",
      "Epoch 2/10\n",
      "10188/10188 [==============================] - 6s - loss: 0.1742 - acc: 0.9397 - val_loss: 0.2490 - val_acc: 0.9148\n",
      "Epoch 3/10\n",
      "10188/10188 [==============================] - 6s - loss: 0.1461 - acc: 0.9500 - val_loss: 0.1785 - val_acc: 0.9441\n",
      "Epoch 4/10\n",
      "10188/10188 [==============================] - 6s - loss: 0.1225 - acc: 0.9592 - val_loss: 0.1104 - val_acc: 0.9647\n",
      "Epoch 5/10\n",
      "10188/10188 [==============================] - 6s - loss: 0.1004 - acc: 0.9680 - val_loss: 0.1746 - val_acc: 0.9388\n",
      "Epoch 6/10\n",
      "10188/10188 [==============================] - 6s - loss: 0.0866 - acc: 0.9700 - val_loss: 0.2383 - val_acc: 0.9275\n",
      "Epoch 7/10\n",
      "10188/10188 [==============================] - 6s - loss: 0.0815 - acc: 0.9724 - val_loss: 0.3992 - val_acc: 0.8743\n",
      "Epoch 8/10\n",
      "10188/10188 [==============================] - 6s - loss: 0.0716 - acc: 0.9759 - val_loss: 0.1841 - val_acc: 0.9481\n",
      "Epoch 9/10\n",
      "10188/10188 [==============================] - 6s - loss: 0.0575 - acc: 0.9817 - val_loss: 0.0995 - val_acc: 0.9707\n",
      "Epoch 10/10\n",
      "10188/10188 [==============================] - 6s - loss: 0.0633 - acc: 0.9772 - val_loss: 0.1392 - val_acc: 0.9621\n"
     ]
    },
    {
     "data": {
      "text/plain": [
       "<keras.callbacks.History at 0x7fca24e7ea58>"
      ]
     },
     "execution_count": 24,
     "metadata": {},
     "output_type": "execute_result"
    }
   ],
   "source": [
    "lr = 0.001\n",
    "K.set_value(model_with_adam_dropout.optimizer.lr, lr)\n",
    "\n",
    "model_with_adam_dropout.fit([np_train_crops, np_train_feature], np_train_class,\n",
    "          batch_size=32,\n",
    "          epochs=10,\n",
    "          validation_data=([np_valid_crops, np_valid_feature], np_valid_class))"
   ]
  },
  {
   "cell_type": "code",
   "execution_count": 25,
   "metadata": {
    "scrolled": false
   },
   "outputs": [
    {
     "name": "stdout",
     "output_type": "stream",
     "text": [
      "Train on 10188 samples, validate on 1503 samples\n",
      "Epoch 1/10\n",
      "10188/10188 [==============================] - 6s - loss: 0.0365 - acc: 0.9896 - val_loss: 0.0682 - val_acc: 0.9787\n",
      "Epoch 2/10\n",
      "10188/10188 [==============================] - 6s - loss: 0.0283 - acc: 0.9914 - val_loss: 0.0681 - val_acc: 0.9807\n",
      "Epoch 3/10\n",
      "10188/10188 [==============================] - 6s - loss: 0.0201 - acc: 0.9943 - val_loss: 0.0711 - val_acc: 0.9794\n",
      "Epoch 4/10\n",
      "10188/10188 [==============================] - 6s - loss: 0.0191 - acc: 0.9956 - val_loss: 0.0644 - val_acc: 0.9834\n",
      "Epoch 5/10\n",
      "10188/10188 [==============================] - 6s - loss: 0.0159 - acc: 0.9958 - val_loss: 0.0683 - val_acc: 0.9814\n",
      "Epoch 6/10\n",
      "10188/10188 [==============================] - 6s - loss: 0.0125 - acc: 0.9968 - val_loss: 0.0585 - val_acc: 0.9860\n",
      "Epoch 7/10\n",
      "10188/10188 [==============================] - 6s - loss: 0.0116 - acc: 0.9971 - val_loss: 0.0688 - val_acc: 0.9860\n",
      "Epoch 8/10\n",
      "10188/10188 [==============================] - 6s - loss: 0.0098 - acc: 0.9974 - val_loss: 0.0921 - val_acc: 0.9760\n",
      "Epoch 9/10\n",
      "10188/10188 [==============================] - 6s - loss: 0.0079 - acc: 0.9991 - val_loss: 0.0713 - val_acc: 0.9820\n",
      "Epoch 10/10\n",
      "10188/10188 [==============================] - 6s - loss: 0.0074 - acc: 0.9982 - val_loss: 0.0866 - val_acc: 0.9787\n"
     ]
    },
    {
     "data": {
      "text/plain": [
       "<keras.callbacks.History at 0x7fca4f6d3898>"
      ]
     },
     "execution_count": 25,
     "metadata": {},
     "output_type": "execute_result"
    }
   ],
   "source": [
    "lr = 0.0001\n",
    "K.set_value(model_with_adam_dropout.optimizer.lr, lr)\n",
    "\n",
    "model_with_adam_dropout.fit([np_train_crops, np_train_feature], np_train_class,\n",
    "          batch_size=32,\n",
    "          epochs=10,\n",
    "          validation_data=([np_valid_crops, np_valid_feature], np_valid_class))"
   ]
  },
  {
   "cell_type": "code",
   "execution_count": 26,
   "metadata": {},
   "outputs": [
    {
     "name": "stdout",
     "output_type": "stream",
     "text": [
      "Train on 10188 samples, validate on 1503 samples\n",
      "Epoch 1/3\n",
      "10188/10188 [==============================] - 6s - loss: 0.0059 - acc: 0.9993 - val_loss: 0.0705 - val_acc: 0.9834\n",
      "Epoch 2/3\n",
      "10188/10188 [==============================] - 6s - loss: 0.0055 - acc: 0.9995 - val_loss: 0.0697 - val_acc: 0.9847\n",
      "Epoch 3/3\n",
      "10188/10188 [==============================] - 6s - loss: 0.0053 - acc: 0.9993 - val_loss: 0.0715 - val_acc: 0.9840\n"
     ]
    },
    {
     "data": {
      "text/plain": [
       "<keras.callbacks.History at 0x7fca06898320>"
      ]
     },
     "execution_count": 26,
     "metadata": {},
     "output_type": "execute_result"
    }
   ],
   "source": [
    "lr = 0.00001\n",
    "K.set_value(model_with_adam_dropout.optimizer.lr, lr)\n",
    "\n",
    "model_with_adam_dropout.fit([np_train_crops, np_train_feature], np_train_class,\n",
    "          batch_size=32,\n",
    "          epochs=3,\n",
    "          validation_data=([np_valid_crops, np_valid_feature], np_valid_class))"
   ]
  },
  {
   "cell_type": "markdown",
   "metadata": {},
   "source": [
    "## Dropout = 0.2,0.5, optimiser =Adam"
   ]
  },
  {
   "cell_type": "code",
   "execution_count": 28,
   "metadata": {
    "collapsed": true
   },
   "outputs": [],
   "source": [
    "p1 = 0.2\n",
    "p2 = 0.5\n",
    "\n",
    "classifier_input = Input(shape=input_shape)\n",
    "dist2land_input = Input(shape=(1,))\n",
    "\n",
    "x = Conv2D(32, (3, 3), activation='relu', padding='same')(classifier_input)\n",
    "x = MaxPooling2D()(x)\n",
    "x = Conv2D(64, (3, 3), activation='relu', padding='same')(x)\n",
    "x = MaxPooling2D()(x)   # REMOVED MAX POOLING FOR VISUALISATION\n",
    "x = Conv2D(64, (3, 3), activation='relu', padding='same')(x)\n",
    "\n",
    "# # Following based on https://github.com/asmith26/courses/blob/master/deeplearning1/nbs/lesson7.ipynb\n",
    "x = BatchNormalization(axis=-1)(x)\n",
    "x = Conv2D(64,(3,3), activation='relu', padding='same')(x)\n",
    "x = BatchNormalization(axis=-1)(x)\n",
    "x = MaxPooling2D()(x)   # REMOVED MAX POOLING FOR VISUALISATION\n",
    "x = Conv2D(64,(3,3), activation='relu', padding='same')(x)\n",
    "x = BatchNormalization(axis=-1)(x)\n",
    "x = MaxPooling2D()(x)   # REMOVED MAX POOLING FOR VISUALISATION\n",
    "x = Dropout(p1)(x)\n",
    "x = Conv2D(3,(3,3), padding='same')(x)\n",
    "x = Dropout(p2)(x)\n",
    "x = GlobalAveragePooling2D()(x)\n",
    "m = Add()([dist2land_input, x])\n",
    "out = Activation('softmax')(m)\n",
    "\n",
    "\n",
    "model_with_adam_more_dropout = Model(inputs=[classifier_input, dist2land_input], outputs=out)\n",
    "model_with_adam_more_dropout.compile(optimizer='Adam', loss='categorical_crossentropy', metrics=['accuracy'])"
   ]
  },
  {
   "cell_type": "code",
   "execution_count": 29,
   "metadata": {},
   "outputs": [
    {
     "name": "stdout",
     "output_type": "stream",
     "text": [
      "Train on 10188 samples, validate on 1503 samples\n",
      "Epoch 1/10\n",
      "10188/10188 [==============================] - 7s - loss: 0.3302 - acc: 0.8793 - val_loss: 0.2041 - val_acc: 0.9261\n",
      "Epoch 2/10\n",
      "10188/10188 [==============================] - 6s - loss: 0.1858 - acc: 0.9391 - val_loss: 0.1774 - val_acc: 0.9315\n",
      "Epoch 3/10\n",
      "10188/10188 [==============================] - 6s - loss: 0.1647 - acc: 0.9462 - val_loss: 0.1623 - val_acc: 0.9474\n",
      "Epoch 4/10\n",
      "10188/10188 [==============================] - 6s - loss: 0.1211 - acc: 0.9604 - val_loss: 0.3611 - val_acc: 0.8623\n",
      "Epoch 5/10\n",
      "10188/10188 [==============================] - 6s - loss: 0.1112 - acc: 0.9618 - val_loss: 0.2414 - val_acc: 0.9228\n",
      "Epoch 6/10\n",
      "10188/10188 [==============================] - 6s - loss: 0.0980 - acc: 0.9666 - val_loss: 0.1478 - val_acc: 0.9448\n",
      "Epoch 7/10\n",
      "10188/10188 [==============================] - 6s - loss: 0.0909 - acc: 0.9694 - val_loss: 0.1673 - val_acc: 0.9514\n",
      "Epoch 8/10\n",
      "10188/10188 [==============================] - 6s - loss: 0.0765 - acc: 0.9748 - val_loss: 0.1692 - val_acc: 0.9501\n",
      "Epoch 9/10\n",
      "10188/10188 [==============================] - 6s - loss: 0.0771 - acc: 0.9749 - val_loss: 0.0858 - val_acc: 0.9741\n",
      "Epoch 10/10\n",
      "10188/10188 [==============================] - 6s - loss: 0.0641 - acc: 0.9790 - val_loss: 0.1928 - val_acc: 0.9501\n"
     ]
    },
    {
     "data": {
      "text/plain": [
       "<keras.callbacks.History at 0x7fca061e4dd8>"
      ]
     },
     "execution_count": 29,
     "metadata": {},
     "output_type": "execute_result"
    }
   ],
   "source": [
    "lr = 0.001\n",
    "K.set_value(model_with_adam_more_dropout.optimizer.lr, lr)\n",
    "\n",
    "model_with_adam_more_dropout.fit([np_train_crops, np_train_feature], np_train_class,\n",
    "          batch_size=32,\n",
    "          epochs=10,\n",
    "          validation_data=([np_valid_crops, np_valid_feature], np_valid_class))"
   ]
  },
  {
   "cell_type": "code",
   "execution_count": 30,
   "metadata": {},
   "outputs": [
    {
     "name": "stdout",
     "output_type": "stream",
     "text": [
      "Train on 10188 samples, validate on 1503 samples\n",
      "Epoch 1/10\n",
      "10188/10188 [==============================] - 6s - loss: 0.0405 - acc: 0.9875 - val_loss: 0.0699 - val_acc: 0.9794\n",
      "Epoch 2/10\n",
      "10188/10188 [==============================] - 6s - loss: 0.0273 - acc: 0.9923 - val_loss: 0.0687 - val_acc: 0.9840\n",
      "Epoch 3/10\n",
      "10188/10188 [==============================] - 6s - loss: 0.0255 - acc: 0.9924 - val_loss: 0.0666 - val_acc: 0.9820\n",
      "Epoch 4/10\n",
      "10188/10188 [==============================] - 6s - loss: 0.0216 - acc: 0.9942 - val_loss: 0.0684 - val_acc: 0.9800\n",
      "Epoch 5/10\n",
      "10188/10188 [==============================] - 6s - loss: 0.0174 - acc: 0.9948 - val_loss: 0.0710 - val_acc: 0.9794\n",
      "Epoch 6/10\n",
      "10188/10188 [==============================] - 6s - loss: 0.0158 - acc: 0.9954 - val_loss: 0.0679 - val_acc: 0.9814\n",
      "Epoch 7/10\n",
      "10188/10188 [==============================] - 6s - loss: 0.0150 - acc: 0.9963 - val_loss: 0.0669 - val_acc: 0.9807\n",
      "Epoch 8/10\n",
      "10188/10188 [==============================] - 6s - loss: 0.0130 - acc: 0.9965 - val_loss: 0.0964 - val_acc: 0.9787\n",
      "Epoch 9/10\n",
      "10188/10188 [==============================] - 6s - loss: 0.0102 - acc: 0.9973 - val_loss: 0.0653 - val_acc: 0.9827\n",
      "Epoch 10/10\n",
      "10188/10188 [==============================] - 6s - loss: 0.0100 - acc: 0.9973 - val_loss: 0.0616 - val_acc: 0.9847\n"
     ]
    },
    {
     "data": {
      "text/plain": [
       "<keras.callbacks.History at 0x7fca06570e10>"
      ]
     },
     "execution_count": 30,
     "metadata": {},
     "output_type": "execute_result"
    }
   ],
   "source": [
    "lr = 0.0001\n",
    "K.set_value(model_with_adam_more_dropout.optimizer.lr, lr)\n",
    "\n",
    "model_with_adam_more_dropout.fit([np_train_crops, np_train_feature], np_train_class,\n",
    "          batch_size=32,\n",
    "          epochs=10,\n",
    "          validation_data=([np_valid_crops, np_valid_feature], np_valid_class))"
   ]
  },
  {
   "cell_type": "code",
   "execution_count": 31,
   "metadata": {},
   "outputs": [
    {
     "name": "stdout",
     "output_type": "stream",
     "text": [
      "Train on 10188 samples, validate on 1503 samples\n",
      "Epoch 1/3\n",
      "10188/10188 [==============================] - 6s - loss: 0.0089 - acc: 0.9982 - val_loss: 0.0742 - val_acc: 0.9820\n",
      "Epoch 2/3\n",
      "10188/10188 [==============================] - 6s - loss: 0.0082 - acc: 0.9981 - val_loss: 0.0726 - val_acc: 0.9814\n",
      "Epoch 3/3\n",
      "10188/10188 [==============================] - 6s - loss: 0.0081 - acc: 0.9982 - val_loss: 0.0709 - val_acc: 0.9827\n"
     ]
    },
    {
     "data": {
      "text/plain": [
       "<keras.callbacks.History at 0x7fca053639e8>"
      ]
     },
     "execution_count": 31,
     "metadata": {},
     "output_type": "execute_result"
    }
   ],
   "source": [
    "lr = 0.00001\n",
    "K.set_value(model_with_adam_more_dropout.optimizer.lr, lr)\n",
    "\n",
    "model_with_adam_more_dropout.fit([np_train_crops, np_train_feature], np_train_class,\n",
    "          batch_size=32,\n",
    "          epochs=3,\n",
    "          validation_data=([np_valid_crops, np_valid_feature], np_valid_class))"
   ]
  },
  {
   "cell_type": "markdown",
   "metadata": {
    "collapsed": true
   },
   "source": [
    "### Save model"
   ]
  },
  {
   "cell_type": "code",
   "execution_count": 32,
   "metadata": {
    "collapsed": true
   },
   "outputs": [],
   "source": [
    "model_with_adam_more_dropout.save(trained_model_dir+'/1.1-as_mph-Python3_FCN_50x50_adam_more_dropout__full-png.h5')"
   ]
  },
  {
   "cell_type": "code",
   "execution_count": 33,
   "metadata": {
    "collapsed": true
   },
   "outputs": [],
   "source": [
    "model_json = model_with_adam_more_dropout.to_json()\n",
    "\n",
    "with open(trained_model_dir+'/1.1-as_mph-Python3_FCN_50x50_adam_more_dropout__architecture_only-png.json', 'w') as outfile:\n",
    "    json.dump(model_json, outfile)"
   ]
  },
  {
   "cell_type": "code",
   "execution_count": 34,
   "metadata": {
    "collapsed": true
   },
   "outputs": [],
   "source": [
    "model_with_adam_more_dropout.save_weights(trained_model_dir+'/1.1-as_mph-Python3_FCN_50x50_adam_more_dropout__weights_only-png.h5')"
   ]
  }
 ],
 "metadata": {
  "kernelspec": {
   "display_name": "Python 3",
   "language": "python",
   "name": "python3"
  },
  "language_info": {
   "codemirror_mode": {
    "name": "ipython",
    "version": 3
   },
   "file_extension": ".py",
   "mimetype": "text/x-python",
   "name": "python",
   "nbconvert_exporter": "python",
   "pygments_lexer": "ipython3",
   "version": "3.4.3"
  }
 },
 "nbformat": 4,
 "nbformat_minor": 2
}
