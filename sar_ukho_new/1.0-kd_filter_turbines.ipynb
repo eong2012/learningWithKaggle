{
 "cells": [
  {
   "cell_type": "code",
   "execution_count": 1,
   "metadata": {
    "collapsed": true
   },
   "outputs": [],
   "source": [
    "import pandas as pd\n",
    "import numpy as np\n",
    "from matplotlib import pyplot as plt\n",
    "%matplotlib inline \n",
    "\n",
    "import geopandas as gpd"
   ]
  },
  {
   "cell_type": "code",
   "execution_count": 2,
   "metadata": {
    "collapsed": true
   },
   "outputs": [],
   "source": [
    "df_train = pd.read_parquet('/home/ubuntu/data/sar_ukho/intermediate_parquets/')"
   ]
  },
  {
   "cell_type": "code",
   "execution_count": 3,
   "metadata": {},
   "outputs": [
    {
     "data": {
      "text/plain": [
       "other                         12528\n",
       "turbine                       11462\n",
       "oil_and_gas_infrastructure      884\n",
       "Name: label, dtype: int64"
      ]
     },
     "execution_count": 3,
     "metadata": {},
     "output_type": "execute_result"
    }
   ],
   "source": [
    "df_train.label.value_counts()"
   ]
  },
  {
   "cell_type": "code",
   "execution_count": 22,
   "metadata": {
    "collapsed": true
   },
   "outputs": [],
   "source": [
    "df_turbines = df_train[df_train.label=='turbine']\n",
    "df_oil = df_train[df_train.label=='oil_and_gas_infrastructure']\n",
    "df_other = df_train[df_train.label=='other']"
   ]
  },
  {
   "cell_type": "code",
   "execution_count": 5,
   "metadata": {},
   "outputs": [
    {
     "data": {
      "text/html": [
       "<div>\n",
       "<style scoped>\n",
       "    .dataframe tbody tr th:only-of-type {\n",
       "        vertical-align: middle;\n",
       "    }\n",
       "\n",
       "    .dataframe tbody tr th {\n",
       "        vertical-align: top;\n",
       "    }\n",
       "\n",
       "    .dataframe thead th {\n",
       "        text-align: right;\n",
       "    }\n",
       "</style>\n",
       "<table border=\"1\" class=\"dataframe\">\n",
       "  <thead>\n",
       "    <tr style=\"text-align: right;\">\n",
       "      <th></th>\n",
       "      <th>lat</th>\n",
       "      <th>lon</th>\n",
       "      <th>label</th>\n",
       "      <th>label_id</th>\n",
       "      <th>VH</th>\n",
       "      <th>is_padded</th>\n",
       "      <th>VV</th>\n",
       "      <th>water_depth</th>\n",
       "      <th>incidence_angle</th>\n",
       "      <th>distance_to_land</th>\n",
       "      <th>product_name</th>\n",
       "      <th>product_id</th>\n",
       "      <th>product_date</th>\n",
       "    </tr>\n",
       "  </thead>\n",
       "  <tbody>\n",
       "    <tr>\n",
       "      <th>9641_274</th>\n",
       "      <td>51.735597</td>\n",
       "      <td>1.943517</td>\n",
       "      <td>turbine</td>\n",
       "      <td>WT1228</td>\n",
       "      <td>[3.18454272019153e-06, 3.1845261219132226e-06,...</td>\n",
       "      <td>0</td>\n",
       "      <td>[7.721256224613171e-06, 5.3322623898566235e-06...</td>\n",
       "      <td>-26.0</td>\n",
       "      <td>45.407339</td>\n",
       "      <td>46239.2</td>\n",
       "      <td>S1A_IW_GRDH_1SDV_20170118T055802_20170118T0558...</td>\n",
       "      <td>9641</td>\n",
       "      <td>2017-01-18</td>\n",
       "    </tr>\n",
       "    <tr>\n",
       "      <th>9641_275</th>\n",
       "      <td>51.735687</td>\n",
       "      <td>1.942529</td>\n",
       "      <td>turbine</td>\n",
       "      <td>WT1228</td>\n",
       "      <td>[2.710889702939312e-06, 2.855866796380724e-06,...</td>\n",
       "      <td>0</td>\n",
       "      <td>[3.1847323498368496e-06, 3.184715524184867e-06...</td>\n",
       "      <td>-26.0</td>\n",
       "      <td>45.407339</td>\n",
       "      <td>46193.5</td>\n",
       "      <td>S1A_IW_GRDH_1SDV_20170118T055802_20170118T0558...</td>\n",
       "      <td>9641</td>\n",
       "      <td>2017-01-18</td>\n",
       "    </tr>\n",
       "    <tr>\n",
       "      <th>9641_276</th>\n",
       "      <td>51.735956</td>\n",
       "      <td>1.943158</td>\n",
       "      <td>turbine</td>\n",
       "      <td>WT1228</td>\n",
       "      <td>[2.176935822717496e-06, 1.5672026165702846e-06...</td>\n",
       "      <td>0</td>\n",
       "      <td>[3.1846266210777685e-06, 3.184610022799461e-06...</td>\n",
       "      <td>-26.0</td>\n",
       "      <td>45.407339</td>\n",
       "      <td>46192.1</td>\n",
       "      <td>S1A_IW_GRDH_1SDV_20170118T055802_20170118T0558...</td>\n",
       "      <td>9641</td>\n",
       "      <td>2017-01-18</td>\n",
       "    </tr>\n",
       "    <tr>\n",
       "      <th>9641_277</th>\n",
       "      <td>51.741526</td>\n",
       "      <td>1.960855</td>\n",
       "      <td>turbine</td>\n",
       "      <td>WT1229</td>\n",
       "      <td>[0.0031891101971268654, 0.0023887292481958866,...</td>\n",
       "      <td>0</td>\n",
       "      <td>[0.005469559691846371, 0.006238806527107954, 0...</td>\n",
       "      <td>-30.0</td>\n",
       "      <td>45.407339</td>\n",
       "      <td>46360.8</td>\n",
       "      <td>S1A_IW_GRDH_1SDV_20170118T055802_20170118T0558...</td>\n",
       "      <td>9641</td>\n",
       "      <td>2017-01-18</td>\n",
       "    </tr>\n",
       "    <tr>\n",
       "      <th>9641_278</th>\n",
       "      <td>51.741526</td>\n",
       "      <td>1.959867</td>\n",
       "      <td>turbine</td>\n",
       "      <td>WT1229</td>\n",
       "      <td>[0.0028394649270921946, 0.0021021633874624968,...</td>\n",
       "      <td>0</td>\n",
       "      <td>[0.00282765063457191, 0.0035484572872519493, 0...</td>\n",
       "      <td>-30.0</td>\n",
       "      <td>45.407339</td>\n",
       "      <td>46321.9</td>\n",
       "      <td>S1A_IW_GRDH_1SDV_20170118T055802_20170118T0558...</td>\n",
       "      <td>9641</td>\n",
       "      <td>2017-01-18</td>\n",
       "    </tr>\n",
       "  </tbody>\n",
       "</table>\n",
       "</div>"
      ],
      "text/plain": [
       "                lat       lon    label label_id  \\\n",
       "9641_274  51.735597  1.943517  turbine   WT1228   \n",
       "9641_275  51.735687  1.942529  turbine   WT1228   \n",
       "9641_276  51.735956  1.943158  turbine   WT1228   \n",
       "9641_277  51.741526  1.960855  turbine   WT1229   \n",
       "9641_278  51.741526  1.959867  turbine   WT1229   \n",
       "\n",
       "                                                         VH  is_padded  \\\n",
       "9641_274  [3.18454272019153e-06, 3.1845261219132226e-06,...          0   \n",
       "9641_275  [2.710889702939312e-06, 2.855866796380724e-06,...          0   \n",
       "9641_276  [2.176935822717496e-06, 1.5672026165702846e-06...          0   \n",
       "9641_277  [0.0031891101971268654, 0.0023887292481958866,...          0   \n",
       "9641_278  [0.0028394649270921946, 0.0021021633874624968,...          0   \n",
       "\n",
       "                                                         VV  water_depth  \\\n",
       "9641_274  [7.721256224613171e-06, 5.3322623898566235e-06...        -26.0   \n",
       "9641_275  [3.1847323498368496e-06, 3.184715524184867e-06...        -26.0   \n",
       "9641_276  [3.1846266210777685e-06, 3.184610022799461e-06...        -26.0   \n",
       "9641_277  [0.005469559691846371, 0.006238806527107954, 0...        -30.0   \n",
       "9641_278  [0.00282765063457191, 0.0035484572872519493, 0...        -30.0   \n",
       "\n",
       "          incidence_angle  distance_to_land  \\\n",
       "9641_274        45.407339           46239.2   \n",
       "9641_275        45.407339           46193.5   \n",
       "9641_276        45.407339           46192.1   \n",
       "9641_277        45.407339           46360.8   \n",
       "9641_278        45.407339           46321.9   \n",
       "\n",
       "                                               product_name product_id  \\\n",
       "9641_274  S1A_IW_GRDH_1SDV_20170118T055802_20170118T0558...       9641   \n",
       "9641_275  S1A_IW_GRDH_1SDV_20170118T055802_20170118T0558...       9641   \n",
       "9641_276  S1A_IW_GRDH_1SDV_20170118T055802_20170118T0558...       9641   \n",
       "9641_277  S1A_IW_GRDH_1SDV_20170118T055802_20170118T0558...       9641   \n",
       "9641_278  S1A_IW_GRDH_1SDV_20170118T055802_20170118T0558...       9641   \n",
       "\n",
       "         product_date  \n",
       "9641_274   2017-01-18  \n",
       "9641_275   2017-01-18  \n",
       "9641_276   2017-01-18  \n",
       "9641_277   2017-01-18  \n",
       "9641_278   2017-01-18  "
      ]
     },
     "execution_count": 5,
     "metadata": {},
     "output_type": "execute_result"
    }
   ],
   "source": [
    "df_turbines.head()"
   ]
  },
  {
   "cell_type": "code",
   "execution_count": 7,
   "metadata": {},
   "outputs": [],
   "source": [
    "distinct_ids = df_turbines.label_id.drop_duplicates()"
   ]
  },
  {
   "cell_type": "code",
   "execution_count": 15,
   "metadata": {},
   "outputs": [
    {
     "data": {
      "text/plain": [
       "Index(['9641_274', '9641_277', '9641_279', '9641_281', '9641_284', '9641_286',\n",
       "       '9641_287', '9641_289', '9641_291', '9641_293',\n",
       "       ...\n",
       "       '5DB6_974', '5DB6_977', '5DB6_997', '15F8_1048', '15F8_1050',\n",
       "       '15F8_1055', '15F8_1057', '15F8_1059', '15F8_1062', '15F8_1064'],\n",
       "      dtype='object', length=1631)"
      ]
     },
     "execution_count": 15,
     "metadata": {},
     "output_type": "execute_result"
    }
   ],
   "source": [
    "distinct_ids.index"
   ]
  },
  {
   "cell_type": "code",
   "execution_count": 14,
   "metadata": {},
   "outputs": [
    {
     "data": {
      "text/plain": [
       "((11462, 13), (1631,))"
      ]
     },
     "execution_count": 14,
     "metadata": {},
     "output_type": "execute_result"
    }
   ],
   "source": [
    "df_turbines.shape, distinct_ids.shape"
   ]
  },
  {
   "cell_type": "code",
   "execution_count": 20,
   "metadata": {},
   "outputs": [],
   "source": [
    "df_unique_turbines = df_turbines.loc[distinct_ids.index]"
   ]
  },
  {
   "cell_type": "code",
   "execution_count": 21,
   "metadata": {},
   "outputs": [
    {
     "data": {
      "text/html": [
       "<div>\n",
       "<style scoped>\n",
       "    .dataframe tbody tr th:only-of-type {\n",
       "        vertical-align: middle;\n",
       "    }\n",
       "\n",
       "    .dataframe tbody tr th {\n",
       "        vertical-align: top;\n",
       "    }\n",
       "\n",
       "    .dataframe thead th {\n",
       "        text-align: right;\n",
       "    }\n",
       "</style>\n",
       "<table border=\"1\" class=\"dataframe\">\n",
       "  <thead>\n",
       "    <tr style=\"text-align: right;\">\n",
       "      <th></th>\n",
       "      <th>lat</th>\n",
       "      <th>lon</th>\n",
       "      <th>label</th>\n",
       "      <th>label_id</th>\n",
       "      <th>VH</th>\n",
       "      <th>is_padded</th>\n",
       "      <th>VV</th>\n",
       "      <th>water_depth</th>\n",
       "      <th>incidence_angle</th>\n",
       "      <th>distance_to_land</th>\n",
       "      <th>product_name</th>\n",
       "      <th>product_id</th>\n",
       "      <th>product_date</th>\n",
       "    </tr>\n",
       "  </thead>\n",
       "  <tbody>\n",
       "    <tr>\n",
       "      <th>9641_274</th>\n",
       "      <td>51.735597</td>\n",
       "      <td>1.943517</td>\n",
       "      <td>turbine</td>\n",
       "      <td>WT1228</td>\n",
       "      <td>[3.18454272019153e-06, 3.1845261219132226e-06,...</td>\n",
       "      <td>0</td>\n",
       "      <td>[7.721256224613171e-06, 5.3322623898566235e-06...</td>\n",
       "      <td>-26.0</td>\n",
       "      <td>45.407339</td>\n",
       "      <td>46239.2</td>\n",
       "      <td>S1A_IW_GRDH_1SDV_20170118T055802_20170118T0558...</td>\n",
       "      <td>9641</td>\n",
       "      <td>2017-01-18</td>\n",
       "    </tr>\n",
       "    <tr>\n",
       "      <th>9641_277</th>\n",
       "      <td>51.741526</td>\n",
       "      <td>1.960855</td>\n",
       "      <td>turbine</td>\n",
       "      <td>WT1229</td>\n",
       "      <td>[0.0031891101971268654, 0.0023887292481958866,...</td>\n",
       "      <td>0</td>\n",
       "      <td>[0.005469559691846371, 0.006238806527107954, 0...</td>\n",
       "      <td>-30.0</td>\n",
       "      <td>45.407339</td>\n",
       "      <td>46360.8</td>\n",
       "      <td>S1A_IW_GRDH_1SDV_20170118T055802_20170118T0558...</td>\n",
       "      <td>9641</td>\n",
       "      <td>2017-01-18</td>\n",
       "    </tr>\n",
       "    <tr>\n",
       "      <th>9641_279</th>\n",
       "      <td>51.743502</td>\n",
       "      <td>1.948997</td>\n",
       "      <td>turbine</td>\n",
       "      <td>WT1688</td>\n",
       "      <td>[8.907260053092614e-05, 0.00023203551245387644...</td>\n",
       "      <td>0</td>\n",
       "      <td>[0.00010658751125447452, 0.0002688519307412207...</td>\n",
       "      <td>-21.0</td>\n",
       "      <td>45.407339</td>\n",
       "      <td>45716.4</td>\n",
       "      <td>S1A_IW_GRDH_1SDV_20170118T055802_20170118T0558...</td>\n",
       "      <td>9641</td>\n",
       "      <td>2017-01-18</td>\n",
       "    </tr>\n",
       "    <tr>\n",
       "      <th>9641_281</th>\n",
       "      <td>51.748443</td>\n",
       "      <td>1.969838</td>\n",
       "      <td>turbine</td>\n",
       "      <td>WT1684</td>\n",
       "      <td>[0.13468320667743683, 0.10083752870559692, 0.0...</td>\n",
       "      <td>0</td>\n",
       "      <td>[2.8834893703460693, 1.676078200340271, 0.6659...</td>\n",
       "      <td>-30.0</td>\n",
       "      <td>45.407339</td>\n",
       "      <td>46092.5</td>\n",
       "      <td>S1A_IW_GRDH_1SDV_20170118T055802_20170118T0558...</td>\n",
       "      <td>9641</td>\n",
       "      <td>2017-01-18</td>\n",
       "    </tr>\n",
       "    <tr>\n",
       "      <th>9641_284</th>\n",
       "      <td>51.751138</td>\n",
       "      <td>1.954657</td>\n",
       "      <td>turbine</td>\n",
       "      <td>WT1682</td>\n",
       "      <td>[0.005782014224678278, 0.004792507737874985, 0...</td>\n",
       "      <td>0</td>\n",
       "      <td>[0.02358815260231495, 0.01660788804292679, 0.0...</td>\n",
       "      <td>-23.0</td>\n",
       "      <td>45.407339</td>\n",
       "      <td>45239.3</td>\n",
       "      <td>S1A_IW_GRDH_1SDV_20170118T055802_20170118T0558...</td>\n",
       "      <td>9641</td>\n",
       "      <td>2017-01-18</td>\n",
       "    </tr>\n",
       "  </tbody>\n",
       "</table>\n",
       "</div>"
      ],
      "text/plain": [
       "                lat       lon    label label_id  \\\n",
       "9641_274  51.735597  1.943517  turbine   WT1228   \n",
       "9641_277  51.741526  1.960855  turbine   WT1229   \n",
       "9641_279  51.743502  1.948997  turbine   WT1688   \n",
       "9641_281  51.748443  1.969838  turbine   WT1684   \n",
       "9641_284  51.751138  1.954657  turbine   WT1682   \n",
       "\n",
       "                                                         VH  is_padded  \\\n",
       "9641_274  [3.18454272019153e-06, 3.1845261219132226e-06,...          0   \n",
       "9641_277  [0.0031891101971268654, 0.0023887292481958866,...          0   \n",
       "9641_279  [8.907260053092614e-05, 0.00023203551245387644...          0   \n",
       "9641_281  [0.13468320667743683, 0.10083752870559692, 0.0...          0   \n",
       "9641_284  [0.005782014224678278, 0.004792507737874985, 0...          0   \n",
       "\n",
       "                                                         VV  water_depth  \\\n",
       "9641_274  [7.721256224613171e-06, 5.3322623898566235e-06...        -26.0   \n",
       "9641_277  [0.005469559691846371, 0.006238806527107954, 0...        -30.0   \n",
       "9641_279  [0.00010658751125447452, 0.0002688519307412207...        -21.0   \n",
       "9641_281  [2.8834893703460693, 1.676078200340271, 0.6659...        -30.0   \n",
       "9641_284  [0.02358815260231495, 0.01660788804292679, 0.0...        -23.0   \n",
       "\n",
       "          incidence_angle  distance_to_land  \\\n",
       "9641_274        45.407339           46239.2   \n",
       "9641_277        45.407339           46360.8   \n",
       "9641_279        45.407339           45716.4   \n",
       "9641_281        45.407339           46092.5   \n",
       "9641_284        45.407339           45239.3   \n",
       "\n",
       "                                               product_name product_id  \\\n",
       "9641_274  S1A_IW_GRDH_1SDV_20170118T055802_20170118T0558...       9641   \n",
       "9641_277  S1A_IW_GRDH_1SDV_20170118T055802_20170118T0558...       9641   \n",
       "9641_279  S1A_IW_GRDH_1SDV_20170118T055802_20170118T0558...       9641   \n",
       "9641_281  S1A_IW_GRDH_1SDV_20170118T055802_20170118T0558...       9641   \n",
       "9641_284  S1A_IW_GRDH_1SDV_20170118T055802_20170118T0558...       9641   \n",
       "\n",
       "         product_date  \n",
       "9641_274   2017-01-18  \n",
       "9641_277   2017-01-18  \n",
       "9641_279   2017-01-18  \n",
       "9641_281   2017-01-18  \n",
       "9641_284   2017-01-18  "
      ]
     },
     "execution_count": 21,
     "metadata": {},
     "output_type": "execute_result"
    }
   ],
   "source": [
    "df_unique_turbines.head()"
   ]
  },
  {
   "cell_type": "code",
   "execution_count": 42,
   "metadata": {},
   "outputs": [],
   "source": [
    "df_other_sub = df_other.head(3000)"
   ]
  },
  {
   "cell_type": "code",
   "execution_count": 43,
   "metadata": {},
   "outputs": [],
   "source": [
    "df_features = df_unique_turbines.append(df_oil)"
   ]
  },
  {
   "cell_type": "code",
   "execution_count": 44,
   "metadata": {
    "collapsed": true
   },
   "outputs": [],
   "source": [
    "df = df_features.append(df_other_sub)"
   ]
  },
  {
   "cell_type": "code",
   "execution_count": 45,
   "metadata": {},
   "outputs": [
    {
     "data": {
      "text/plain": [
       "other                         3000\n",
       "turbine                       1631\n",
       "oil_and_gas_infrastructure     884\n",
       "Name: label, dtype: int64"
      ]
     },
     "execution_count": 45,
     "metadata": {},
     "output_type": "execute_result"
    }
   ],
   "source": [
    "df.label.value_counts()"
   ]
  },
  {
   "cell_type": "code",
   "execution_count": 46,
   "metadata": {},
   "outputs": [],
   "source": [
    "df.to_parquet('/home/ubuntu/data/sar_ukho/subset/data_sub.parquet')"
   ]
  },
  {
   "cell_type": "code",
   "execution_count": null,
   "metadata": {
    "collapsed": true
   },
   "outputs": [],
   "source": []
  }
 ],
 "metadata": {
  "kernelspec": {
   "display_name": "Python 3",
   "language": "python",
   "name": "python3"
  },
  "language_info": {
   "codemirror_mode": {
    "name": "ipython",
    "version": 3
   },
   "file_extension": ".py",
   "mimetype": "text/x-python",
   "name": "python",
   "nbconvert_exporter": "python",
   "pygments_lexer": "ipython3",
   "version": "3.4.3"
  }
 },
 "nbformat": 4,
 "nbformat_minor": 2
}
